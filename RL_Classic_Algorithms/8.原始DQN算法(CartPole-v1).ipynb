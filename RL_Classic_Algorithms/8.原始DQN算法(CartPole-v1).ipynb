{
 "cells": [
  {
   "cell_type": "markdown",
   "id": "985c5ce37259e9ca",
   "metadata": {
    "collapsed": false
   },
   "source": [
    "# 8.基础 DQN 算法\n",
    "- 在 2013 年的 NIPS 深度学习研讨会上，DeepMind 公司的研究团队发表了 DQN 论文，首次展示了这一直接通过卷积神经网络接受像素输入来玩转各种雅达利（Atari）游戏的强化学习算法，由此拉开了 **深度强化学习** 的序幕...\n",
    "\n",
    "[Human-level control through deep reinforcement learning  (DQN 于 2015 年发表于 Nature，进一步的完善了实验和算法设置)](https://www.nature.com/articles/nature14236) "
   ]
  },
  {
   "cell_type": "markdown",
   "id": "37738b56fd40c38b",
   "metadata": {
    "collapsed": false
   },
   "source": [
    "导入相关库"
   ]
  },
  {
   "cell_type": "code",
   "execution_count": 1,
   "id": "bc3eccd692eb79b7",
   "metadata": {
    "ExecuteTime": {
     "end_time": "2025-08-09T10:33:59.329280200Z",
     "start_time": "2025-08-09T10:33:56.410797200Z"
    },
    "collapsed": false
   },
   "outputs": [],
   "source": [
    "# 基本库\n",
    "import random\n",
    "import numpy as np\n",
    "import collections\n",
    "from tqdm import tqdm\n",
    "from utils.smoothing import moving_average\n",
    "\"\"\"在绘图时引入,防止绘图时失效\n",
    "import plotly.graph_objects as go\n",
    "import pandas as pd\n",
    "\"\"\"\n",
    "# 神经网络\n",
    "import torch\n",
    "import torch.nn.functional as F\n",
    "# Gymnasium 是一个用于开发和测试强化学习算法的工具库，为 OpenAI Gym 的更新版本（2021迁移开发）\n",
    "import gymnasium as gym"
   ]
  },
  {
   "cell_type": "markdown",
   "id": "cf311880130dae7d",
   "metadata": {
    "collapsed": false
   },
   "source": [
    "## 8.1 引出\n",
    "第6节学习的Q-learning算法需要依赖一张Q表，将所有状态的Q值进行储存(如下图) :\n",
    "![Q表示意图](Illustrations/Q表示意图.png)\n",
    "即使状态向量仅有5个维度，将每一个维度的数值映射到 0∼5 六个整数上，状态依然达 $6^{5}=7776$ 种，Q表的大小则为 $7776\\times5=38880$ \n",
    "而实际研究中多为 **连续状态空间** ，肯定不止6个整数，状态空间将会指数级增大，造成维度灾难，对计算硬件的要求很高，\n",
    "同时将状态连续值映射到离散的区间，来降低环境的复杂程度，也会导致智能体无法精确地捕捉环境的动态变化细节，使算法性能降低，\n",
    "对此，可以用 **函数拟合（function approximation）** 的方法来估计Q值，直接使用连续状态值，对此引出**DQN算法**"
   ]
  },
  {
   "cell_type": "markdown",
   "id": "6380f9235298849f",
   "metadata": {
    "collapsed": false
   },
   "source": [
    "## 8.2 原理\n",
    "**深度 Q 网络算法（Deep Q-Networks（DQN））** ，结合了 **深度神经网络(具有强大的表达能力)** 和 Q-learning，引入了深度神经网络来逼近Q值，能够处理高维连续的状态空间，无需对本就连续的状态向量进行离散映射（为解决 **连续状态下离散动作** 的问题）\n",
    "假设神经网络用来拟合函数的参数是 $\\omega$，即每一个状态下s所有可能动作a的值都能表示为 **$Q_{\\omega}(s,a)$** ，而用于拟合函数 **$Q_{\\omega}(s,a)$** 的神经网络称为 **Q网络**\n"
   ]
  },
  {
   "cell_type": "markdown",
   "id": "75c0b031bdfb1af4",
   "metadata": {
    "collapsed": false
   },
   "source": [
    "### 神经网络的损失函数\n",
    "**Q网络** 的**损失函数**则构造为均方误差的形式：\n",
    "$$\\omega^*=\\arg\\min_\\omega\\frac{1}{2N}\\sum_{i=1}^N\\left[Q_\\omega\\left(s_i,a_i\\right)-\\left(r_i+\\gamma\\max_{a^{\\prime}}Q_\\omega\\left(s_i^{\\prime},a^{\\prime}\\right)\\right)\\right]^2$$\n",
    "- 除以2N是为了简化求导后的参数梯度\n",
    "\n",
    "蕴意动作价值函数(到下一个状态的最大动作)更新的幅度越小则损失越小，以此损失函数为优化目标，愈使 **Q网络** 所拟合的函数所选择的动作更有价值"
   ]
  },
  {
   "cell_type": "markdown",
   "id": "5c91b719cd2fc981",
   "metadata": {
    "collapsed": false
   },
   "source": [
    "### 经验回放 + 目标网络\n",
    "DQN 是Q-learning算法的一种扩展，也是一种离线策略算法，可以将收集到的数据存储起来在后续的训练中使用\n",
    "DQN 引入了两个非常重要的模块——**经验回放和目标网络**，利用收集到的数据，它们能够帮助 DQN 取得稳定、出色的性能"
   ]
  },
  {
   "cell_type": "markdown",
   "id": "72810d4100b3fe40",
   "metadata": {
    "collapsed": false
   },
   "source": [
    "#### 经验回放\n",
    "Q-learning算法，每一个数据只会用来更新一次Q值\n",
    "而一般的**有监督学习**，训练数据独立同分布时，在训练神经网络的时候，训练集当中的每个数据会被使用多次\n",
    "所以 DQN 算法采用了 **经验回放（experience replay）** 方法：维护一个**回放缓冲区**，将每次从环境中采样得到的四元组数据（状态、动作、奖励、下一状态）存储到回放缓冲区中，训练 Q 网络的时候再从回放缓冲区中随机采样若干数据来进行训练。这么做解决了两个问题：\n",
    "1. 提高样本效率：每一个样本可以被使用多次，十分适合深度神经网络的梯度学习.\n",
    "2. **使样本满足独立假设**（在 *马尔可夫决策过程（MDP）* 中交互采样得到的数据本身是不满足独立假设的，因为这一时刻的状态和上一时刻的状态有关）：非独立同分布的数据对训练神经网络有很大的影响，会使神经网络拟合到最近训练的数据上。采用经验回放可以**打破样本之间的相关性**，让其满足独立假设."
   ]
  },
  {
   "cell_type": "code",
   "execution_count": 1,
   "id": "f3f663fa0842fcc9",
   "metadata": {
    "collapsed": false,
    "ExecuteTime": {
     "end_time": "2025-09-24T05:48:28.139838900Z",
     "start_time": "2025-09-24T05:48:28.125728Z"
    }
   },
   "outputs": [],
   "source": [
    "# 已打包进 utils\n",
    "class ReplayBuffer:\n",
    "    \"\"\" 经验回放池 \"\"\"\n",
    "    def __init__(self, capacity):\n",
    "        self.buffer = collections.deque(maxlen=capacity)  # 队列,先进先出\n",
    "\n",
    "    def add(self, state, action, reward, next_state, done):  # 将数据加入buffer\n",
    "        self.buffer.append((state, action, reward, next_state, done))\n",
    "\n",
    "    def sample(self, batch_size):  # 从buffer中采样数据,数量为batch_size\n",
    "        transitions = random.sample(self.buffer, batch_size)\n",
    "        state, action, reward, next_state, done = zip(*transitions)\n",
    "        return np.array(state), np.array(action), reward, np.array(next_state), done\n",
    "\n",
    "    def size(self):  # 目前buffer中数据的数量\n",
    "        return len(self.buffer)"
   ]
  },
  {
   "cell_type": "markdown",
   "id": "5bcded3d07938e37",
   "metadata": {
    "collapsed": false
   },
   "source": [
    "#### 目标网络\n",
    "**目标网络（target network）** 的引入是为了 **增强神经网络对于全局的把控**，增强神经网络训练的稳定性。为实现这一目的需要两套神经网络：**训练网络与目标网络**.\n",
    "**训练网络$Q_{\\omega}(s,a)$** 为实时更新参数，而 **目标网络$Q_{\\omega^{-}}(s,a)$** 则会滞后，每隔一定步数才会与训练网络同步参数.\n",
    "其中需要明确的是，对于**损失函数**：$$\\frac{1}{2}[Q_{\\omega}\\left(s,a\\right)-\\left(r+\\gamma\\max_{a^{\\prime}}Q_{\\omega^{-}}\\left(s^{\\prime},a^{\\prime}\\right)\\right)]^{2}$$\n",
    "-  Q值的计算是依据不同两套Q神经网络的\n",
    "\n",
    "以此,促成 **训练稳定** 的效果."
   ]
  },
  {
   "cell_type": "markdown",
   "id": "b909842e054504ac",
   "metadata": {
    "collapsed": false
   },
   "source": [
    "##### 高估Q值：\n",
    "> 特别需要注意的是，从以上公式可以看出 **下一状态最优动作的选择** 以及 **对应的最大Q值** 都是由目标网络计算；\n",
    "> 这一点值得留意，与之后会学习的 **Double DQN** 算法有关。\n"
   ]
  },
  {
   "cell_type": "markdown",
   "id": "36c77090f133011a",
   "metadata": {
    "collapsed": false
   },
   "source": [
    "## 8.3 CartPole环境（[gymnasium官方文档](https://gymnasium.farama.org/environments/classic_control/cart_pole/))\n",
    "为实现该算法,引入模拟环境: **车杆(平衡杆)环境(连续状态,离散动作)**\n",
    "![CartPole环境示意图](Illustrations/cartpole环境.gif)"
   ]
  },
  {
   "cell_type": "markdown",
   "id": "b02d8d397d91b129",
   "metadata": {
    "collapsed": false
   },
   "source": [
    "#### 规则\n",
    "- 智能体的任务是通过左右移动保持车上的杆竖直，若杆的倾斜度数过大，或者车子离初始位置左右的偏离程度过大，或者坚持时间到达 200 帧，则游戏结束\n",
    "在游戏中每坚持一帧，智能体能获得分数为 1 的奖励，坚持时间越长，则最后的分数越高，坚持 500 帧（CartPolev1）即可获得最高的分数\n",
    "#### 详情\n",
    "- 智能体的状态是一个4维向量(连续)：\n",
    "![CartPole环境的状态空间](Illustrations/CartPole环境的状态空间.png)\n",
    "- 动作空间大小为2(离散)：\n",
    "![CartPole环境的动作空间](Illustrations/CartPole环境的动作空间.png)\n",
    "- 工作在CartPole环境中的Q网络：\n",
    "![在CartPole环境中的Q网络](Illustrations/在CartPole环境中的Q网络.png)\n",
    "神经网络的输出在动作无限的情况下可以是一个标量\n",
    "若有限(如以上只有两种动作)，可以为每一个动作输出一个Q值，选max"
   ]
  },
  {
   "cell_type": "markdown",
   "id": "9409e0aec3fc1a3",
   "metadata": {
    "collapsed": false
   },
   "source": [
    "CartPole环境 状态空间相对简单，只有 4 个变量，因此之后的**网络结构**的代码设计也相对简单：采用一层 128 个神经元的全连接并以 ReLU 作为激活函数"
   ]
  },
  {
   "cell_type": "code",
   "execution_count": 3,
   "id": "71422e0ee014e46b",
   "metadata": {
    "ExecuteTime": {
     "end_time": "2025-07-14T09:18:24.332828100Z",
     "start_time": "2025-07-14T09:18:24.326079Z"
    },
    "collapsed": false
   },
   "outputs": [],
   "source": [
    "class Qnet(torch.nn.Module):\n",
    "    \"\"\"只有一层隐藏层的Q网络 \"\"\"\n",
    "    def __init__(self, state_dim, hidden_dim, action_dim):\n",
    "        super(Qnet, self).__init__()\n",
    "        self.fc1 = torch.nn.Linear(state_dim, hidden_dim)  # 输入到隐藏层\n",
    "        self.fc2 = torch.nn.Linear(hidden_dim, action_dim)  # 隐藏层到输出层\n",
    "\n",
    "    def forward(self, x):\n",
    "        x = F.relu(self.fc1(x))  # 隐藏层使用ReLU激活函数\n",
    "        return self.fc2(x)  # 输出层直接输出Q值"
   ]
  },
  {
   "cell_type": "markdown",
   "id": "5741a38a94ab296b",
   "metadata": {
    "collapsed": false
   },
   "source": [
    "## 8.4 DQN算法代码实现"
   ]
  },
  {
   "cell_type": "code",
   "execution_count": 4,
   "id": "b8f54c8d6e980fe5",
   "metadata": {
    "ExecuteTime": {
     "end_time": "2025-07-19T04:48:58.044075500Z",
     "start_time": "2025-07-19T04:48:58.039635200Z"
    },
    "collapsed": false
   },
   "outputs": [],
   "source": [
    "class DQN:\n",
    "    \"\"\" DQN算法 \"\"\"\n",
    "    def __init__(self, state_dim, hidden_dim, action_dim, learning_rate, gamma, epsilon, target_update, device):\n",
    "        self.action_dim = action_dim \n",
    "        # Q 网络\n",
    "        self.q_net = Qnet(state_dim, hidden_dim, self.action_dim).to(device) \n",
    "        # 目标网络\n",
    "        self.target_q_net = Qnet(state_dim, hidden_dim, self.action_dim).to(device)\n",
    "        # 使用Adam优化器\n",
    "        self.optimizer = torch.optim.Adam(self.q_net.parameters(), lr=learning_rate)\n",
    "        self.gamma = gamma  # 折扣因子（未来）\n",
    "        self.epsilon = epsilon  # epsilon-贪婪策略\n",
    "        self.target_update = target_update  # 目标网络更新频率\n",
    "        self.count = 0  # 计数器,记录更新次数\n",
    "        self.device = device\n",
    "\n",
    "    def take_action(self, state):  # epsilon-贪婪策略采取动作\n",
    "        if np.random.random() < self.epsilon:\n",
    "            action = np.random.randint(self.action_dim)\n",
    "        else:\n",
    "            # 将列表转换为(batch_size, state_dim)的结构与网络传播兼容\n",
    "            state = torch.tensor(np.array([state]), dtype=torch.float).to(self.device)\n",
    "            action = self.q_net(state).argmax().item()\n",
    "        return action\n",
    "\n",
    "    def update(self, transition_dict):\n",
    "        # .view(-1, 1)转换为一个2D张量，以便与其他维度匹配并符合模型的输入要求\n",
    "        states = torch.tensor(transition_dict['states'], dtype=torch.float).to(self.device)\n",
    "        actions = torch.tensor(transition_dict['actions']).view(-1, 1).to(self.device)\n",
    "        # 转换为一个2D张量，以便与其他维度匹配并符合模型的输入要求\n",
    "        rewards = torch.tensor(transition_dict['rewards'], dtype=torch.float).view(-1, 1).to(self.device)\n",
    "        next_states = torch.tensor(transition_dict['next_states'], dtype=torch.float).to(self.device)\n",
    "        dones = torch.tensor(transition_dict['dones'], dtype=torch.float).view(-1, 1).to(self.device)\n",
    "\n",
    "        q_values = self.q_net(states).gather(1, actions)  # 当前Q值\n",
    "        max_next_q_values = self.target_q_net(next_states).max(1)[0].view(-1, 1)  # 下个状态的最大Q值\n",
    "        q_targets = rewards + self.gamma * max_next_q_values * (1 - dones)  # TD误差目标\n",
    "        # dqn_loss = torch.mean(F.mse_loss(q_values, q_targets))  # 均方误差损失函数\n",
    "        loss = F.mse_loss(q_values, q_targets)  # 默认已经是 mean\n",
    "        self.optimizer.zero_grad()  # PyTorch中默认梯度会累积, 非批量累积梯度任务，这里需要显式将梯度置为0\n",
    "        loss.backward()  # 反向传播更新参数\n",
    "        self.optimizer.step()\n",
    "\n",
    "        if self.count % self.target_update == 0:\n",
    "            self.target_q_net.load_state_dict(self.q_net.state_dict())  # 更新目标网络\n",
    "        self.count += 1"
   ]
  },
  {
   "cell_type": "markdown",
   "id": "df412e2db3b30f06",
   "metadata": {
    "collapsed": false
   },
   "source": [
    "#### Env设置(包括可重复性随机种子, 确保每次重新运行本节内容结果大致):"
   ]
  },
  {
   "cell_type": "code",
   "execution_count": 5,
   "id": "6f9f7a02ff9c0cda",
   "metadata": {
    "ExecuteTime": {
     "end_time": "2025-07-19T06:38:59.004302800Z",
     "start_time": "2025-07-19T06:38:57.722534600Z"
    },
    "collapsed": false
   },
   "outputs": [
    {
     "name": "stdout",
     "output_type": "stream",
     "text": [
      "Environment spec: EnvSpec(id='CartPole-v1', entry_point='gymnasium.envs.classic_control.cartpole:CartPoleEnv', reward_threshold=475.0, nondeterministic=False, max_episode_steps=500, order_enforce=True, disable_env_checker=False, kwargs={}, namespace=None, name='CartPole', version=1, additional_wrappers=(), vector_entry_point='gymnasium.envs.classic_control.cartpole:CartPoleVectorEnv')\n"
     ]
    }
   ],
   "source": [
    "random.seed(0)       # 设置 Python 的随机种子\n",
    "np.random.seed(0)    # 设置 NumPy 的随机种子\n",
    "torch.manual_seed(0) # 设置 PyTorch CPU 随机种子\n",
    "torch.cuda.manual_seed_all(0) # 设置 PyTorch GPU 随机种子, 由于GPU并行性, 只能极大减小偏差\n",
    "\n",
    "env = gym.make('CartPole-v1')  # CartPole-v1 最大回合步数修改到了500步(v0为200)\n",
    "#env = env.unwrapped # 获取原始环境（绕过 TimeLimit 包装器）解除最大步数500限制\n",
    "env.reset(seed=0)   # 环境通常依赖于其他随机数生成器来初始化状态、进行探索(推荐位于以上随机之后)\n",
    "print(\"Environment spec:\", env.spec)"
   ]
  },
  {
   "cell_type": "markdown",
   "id": "cf1953e5831a87b7",
   "metadata": {
    "collapsed": false
   },
   "source": [
    "reward_threshold=475.0, 如果智能体能够在每个回合中获得至少 475.0 分的奖励，那么就认为任务成功完成"
   ]
  },
  {
   "cell_type": "markdown",
   "id": "6a9960d60da2c5cd",
   "metadata": {
    "collapsed": false
   },
   "source": [
    "#### 超参数设置:"
   ]
  },
  {
   "cell_type": "code",
   "execution_count": 6,
   "id": "5f14fa136d4faf9a",
   "metadata": {
    "ExecuteTime": {
     "end_time": "2025-07-14T09:18:27.496423300Z",
     "start_time": "2025-07-14T09:18:24.388157800Z"
    },
    "collapsed": false
   },
   "outputs": [],
   "source": [
    "# Agent\n",
    "state_dim = env.observation_space.shape[0]  # 4\n",
    "hidden_dim = 128\n",
    "action_dim = env.action_space.n             # 2\n",
    "lr = 0.001\n",
    "gamma = 0.985\n",
    "epsilon = 0.01\n",
    "target_update = 10\n",
    "device = torch.device(\"cuda\") if torch.cuda.is_available() else torch.device(\"cpu\")\n",
    "agent = DQN(state_dim, hidden_dim, action_dim, lr, gamma, epsilon, target_update, device)\n",
    "\n",
    "num_episodes = 500\n",
    "buffer_size = 10000  # 经验回放池的最大容量\n",
    "replay_buffer = ReplayBuffer(buffer_size)  # 经验回收池\n",
    "minimal_size = 500   # 训练开始前回放池中最小的经验数量\n",
    "batch_size = 64"
   ]
  },
  {
   "cell_type": "markdown",
   "id": "1eceffffdd05fa0a",
   "metadata": {
    "collapsed": false
   },
   "source": [
    "#### Gymnasium返回值不一样："
   ]
  },
  {
   "cell_type": "code",
   "execution_count": 7,
   "id": "a514dc2eace8ed58",
   "metadata": {
    "collapsed": false
   },
   "outputs": [
    {
     "name": "stdout",
     "output_type": "stream",
     "text": [
      "(array([ 0.01323574, -0.21745604, -0.04686959,  0.22950698], dtype=float32), 1.0, False, False, {})\n"
     ]
    }
   ],
   "source": [
    "re = env.step(0)  # Gymnasium返回值不一样\n",
    "print(re)"
   ]
  },
  {
   "cell_type": "markdown",
   "id": "48ad97c7b377e2a",
   "metadata": {
    "collapsed": false
   },
   "source": [
    "#### 测试与训练:"
   ]
  },
  {
   "cell_type": "code",
   "execution_count": 8,
   "id": "7aba05d0f61d14e8",
   "metadata": {
    "ExecuteTime": {
     "end_time": "2025-07-14T09:27:57.897208800Z",
     "start_time": "2025-07-14T09:18:27.504955500Z"
    },
    "collapsed": false
   },
   "outputs": [
    {
     "name": "stderr",
     "output_type": "stream",
     "text": [
      "Iteration 0: 100%|██████████| 50/50 [00:00<00:00, 178.53it/s, episode=50, return=9.000]\n",
      "Iteration 1: 100%|██████████| 50/50 [00:01<00:00, 27.22it/s, episode=100, return=9.500]\n",
      "Iteration 2: 100%|██████████| 50/50 [00:03<00:00, 13.49it/s, episode=150, return=17.200]\n",
      "Iteration 3: 100%|██████████| 50/50 [00:21<00:00,  2.30it/s, episode=200, return=145.600]\n",
      "Iteration 4: 100%|██████████| 50/50 [00:36<00:00,  1.38it/s, episode=250, return=168.900]\n",
      "Iteration 5: 100%|██████████| 50/50 [00:34<00:00,  1.46it/s, episode=300, return=172.600]\n",
      "Iteration 6: 100%|██████████| 50/50 [00:41<00:00,  1.21it/s, episode=350, return=231.000]\n",
      "Iteration 7: 100%|██████████| 50/50 [01:08<00:00,  1.37s/it, episode=400, return=431.500]\n",
      "Iteration 8: 100%|██████████| 50/50 [01:47<00:00,  2.14s/it, episode=450, return=497.500]\n",
      "Iteration 9: 100%|██████████| 50/50 [01:54<00:00,  2.29s/it, episode=500, return=390.200]\n"
     ]
    }
   ],
   "source": [
    "return_list = []\n",
    "    # 分10个进度条\n",
    "for i in range(10):\n",
    "    with tqdm(total=int(num_episodes/10), desc='Iteration %d' % i) as pbar:\n",
    "        for i_episode in range(int(num_episodes/10)):\n",
    "            episode_return = 0\n",
    "            state, info = env.reset()  # 测试阶段(调整参数与对比算法)种子应固定; 训练阶段不固定，提高泛化能力\n",
    "            done = False\n",
    "            truncated = False\n",
    "            while not (done or truncated):  # 杆子倒下或达到最大步数\n",
    "                action = agent.take_action(state)\n",
    "                next_state, reward, done, truncated, _ = env.step(action)  # Gymnasium返回值不一样\n",
    "                replay_buffer.add(state, action, reward, next_state, done)\n",
    "                state = next_state\n",
    "                episode_return += reward\n",
    "                if episode_return > 500:\n",
    "                    print(episode_return)\n",
    "                # 累积完最小经验容量则可随机抽取\n",
    "                if replay_buffer.size() > minimal_size:\n",
    "                    b_s, b_a, b_r, b_ns, b_d = replay_buffer.sample(batch_size)\n",
    "                    # 依据抽取的经验字典更新网络参数\n",
    "                    transition_dict = {'states': b_s, 'actions': b_a, 'next_states': b_ns, 'rewards': b_r, 'dones': b_d}\n",
    "                    agent.update(transition_dict)\n",
    "            return_list.append(episode_return)\n",
    "            if (i_episode+1) % 10 == 0:\n",
    "                pbar.set_postfix({'episode': '%d' % (num_episodes/10 * i + i_episode+1), 'return': '%.3f' % np.mean(return_list[-10:])})\n",
    "            pbar.update(1)\n",
    "            "
   ]
  },
  {
   "cell_type": "markdown",
   "id": "d747533ca5c5de03",
   "metadata": {
    "collapsed": false
   },
   "source": [
    "存储为本地文件,便于绘图:"
   ]
  },
  {
   "cell_type": "code",
   "execution_count": 9,
   "id": "ee842e4a89b3767e",
   "metadata": {
    "ExecuteTime": {
     "end_time": "2025-07-14T09:27:57.921277900Z",
     "start_time": "2025-07-14T09:27:57.899723900Z"
    },
    "collapsed": false
   },
   "outputs": [],
   "source": [
    "import pandas as pd\n",
    "episodes_list = list(range(len(return_list)))\n",
    "mv_return = moving_average(return_list, 9)\n",
    "# 创建 DataFrame\n",
    "df1 = pd.DataFrame({'Episodes': episodes_list, 'Returns': return_list})\n",
    "df2 = pd.DataFrame({'Episodes': episodes_list, 'Returns': mv_return})\n",
    "# 保存为 CSV 文件\n",
    "df1.to_csv('DQN_CartPole-v1_returns_data.csv', index=False)\n",
    "df2.to_csv('DQN_CartPole-v1_mv_returns_data.csv', index=False)"
   ]
  },
  {
   "cell_type": "markdown",
   "id": "9348d0776d780422",
   "metadata": {
    "collapsed": false
   },
   "source": [
    "出现一定程度的震荡，主要是因为神经网络过拟合局部经验数据(若图片异常,则在浏览器中加载)："
   ]
  },
  {
   "cell_type": "code",
   "execution_count": 12,
   "id": "bf5f288a5329e3c8",
   "metadata": {
    "ExecuteTime": {
     "end_time": "2025-07-14T09:27:58.143208700Z",
     "start_time": "2025-07-14T09:27:57.911764800Z"
    },
    "collapsed": false
   },
   "outputs": [
    {
     "data": {
      "application/vnd.plotly.v1+json": {
       "config": {
        "plotlyServerURL": "https://plot.ly"
       },
       "data": [
        {
         "mode": "lines",
         "name": "Returns",
         "type": "scatter",
         "x": {
          "bdata": "AAABAAIAAwAEAAUABgAHAAgACQAKAAsADAANAA4ADwAQABEAEgATABQAFQAWABcAGAAZABoAGwAcAB0AHgAfACAAIQAiACMAJAAlACYAJwAoACkAKgArACwALQAuAC8AMAAxADIAMwA0ADUANgA3ADgAOQA6ADsAPAA9AD4APwBAAEEAQgBDAEQARQBGAEcASABJAEoASwBMAE0ATgBPAFAAUQBSAFMAVABVAFYAVwBYAFkAWgBbAFwAXQBeAF8AYABhAGIAYwBkAGUAZgBnAGgAaQBqAGsAbABtAG4AbwBwAHEAcgBzAHQAdQB2AHcAeAB5AHoAewB8AH0AfgB/AIAAgQCCAIMAhACFAIYAhwCIAIkAigCLAIwAjQCOAI8AkACRAJIAkwCUAJUAlgCXAJgAmQCaAJsAnACdAJ4AnwCgAKEAogCjAKQApQCmAKcAqACpAKoAqwCsAK0ArgCvALAAsQCyALMAtAC1ALYAtwC4ALkAugC7ALwAvQC+AL8AwADBAMIAwwDEAMUAxgDHAMgAyQDKAMsAzADNAM4AzwDQANEA0gDTANQA1QDWANcA2ADZANoA2wDcAN0A3gDfAOAA4QDiAOMA5ADlAOYA5wDoAOkA6gDrAOwA7QDuAO8A8ADxAPIA8wD0APUA9gD3APgA+QD6APsA/AD9AP4A/wAAAQEBAgEDAQQBBQEGAQcBCAEJAQoBCwEMAQ0BDgEPARABEQESARMBFAEVARYBFwEYARkBGgEbARwBHQEeAR8BIAEhASIBIwEkASUBJgEnASgBKQEqASsBLAEtAS4BLwEwATEBMgEzATQBNQE2ATcBOAE5AToBOwE8AT0BPgE/AUABQQFCAUMBRAFFAUYBRwFIAUkBSgFLAUwBTQFOAU8BUAFRAVIBUwFUAVUBVgFXAVgBWQFaAVsBXAFdAV4BXwFgAWEBYgFjAWQBZQFmAWcBaAFpAWoBawFsAW0BbgFvAXABcQFyAXMBdAF1AXYBdwF4AXkBegF7AXwBfQF+AX8BgAGBAYIBgwGEAYUBhgGHAYgBiQGKAYsBjAGNAY4BjwGQAZEBkgGTAZQBlQGWAZcBmAGZAZoBmwGcAZ0BngGfAaABoQGiAaMBpAGlAaYBpwGoAakBqgGrAawBrQGuAa8BsAGxAbIBswG0AbUBtgG3AbgBuQG6AbsBvAG9Ab4BvwHAAcEBwgHDAcQBxQHGAccByAHJAcoBywHMAc0BzgHPAdAB0QHSAdMB1AHVAdYB1wHYAdkB2gHbAdwB3QHeAd8B4AHhAeIB4wHkAeUB5gHnAegB6QHqAesB7AHtAe4B7wHwAfEB8gHzAQ==",
          "dtype": "i2"
         },
         "y": {
          "bdata": "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",
          "dtype": "f8"
         }
        }
       ],
       "layout": {
        "showlegend": true,
        "template": {
         "data": {
          "bar": [
           {
            "error_x": {
             "color": "#2a3f5f"
            },
            "error_y": {
             "color": "#2a3f5f"
            },
            "marker": {
             "line": {
              "color": "#E5ECF6",
              "width": 0.5
             },
             "pattern": {
              "fillmode": "overlay",
              "size": 10,
              "solidity": 0.2
             }
            },
            "type": "bar"
           }
          ],
          "barpolar": [
           {
            "marker": {
             "line": {
              "color": "#E5ECF6",
              "width": 0.5
             },
             "pattern": {
              "fillmode": "overlay",
              "size": 10,
              "solidity": 0.2
             }
            },
            "type": "barpolar"
           }
          ],
          "carpet": [
           {
            "aaxis": {
             "endlinecolor": "#2a3f5f",
             "gridcolor": "white",
             "linecolor": "white",
             "minorgridcolor": "white",
             "startlinecolor": "#2a3f5f"
            },
            "baxis": {
             "endlinecolor": "#2a3f5f",
             "gridcolor": "white",
             "linecolor": "white",
             "minorgridcolor": "white",
             "startlinecolor": "#2a3f5f"
            },
            "type": "carpet"
           }
          ],
          "choropleth": [
           {
            "colorbar": {
             "outlinewidth": 0,
             "ticks": ""
            },
            "type": "choropleth"
           }
          ],
          "contour": [
           {
            "colorbar": {
             "outlinewidth": 0,
             "ticks": ""
            },
            "colorscale": [
             [
              0,
              "#0d0887"
             ],
             [
              0.1111111111111111,
              "#46039f"
             ],
             [
              0.2222222222222222,
              "#7201a8"
             ],
             [
              0.3333333333333333,
              "#9c179e"
             ],
             [
              0.4444444444444444,
              "#bd3786"
             ],
             [
              0.5555555555555556,
              "#d8576b"
             ],
             [
              0.6666666666666666,
              "#ed7953"
             ],
             [
              0.7777777777777778,
              "#fb9f3a"
             ],
             [
              0.8888888888888888,
              "#fdca26"
             ],
             [
              1,
              "#f0f921"
             ]
            ],
            "type": "contour"
           }
          ],
          "contourcarpet": [
           {
            "colorbar": {
             "outlinewidth": 0,
             "ticks": ""
            },
            "type": "contourcarpet"
           }
          ],
          "heatmap": [
           {
            "colorbar": {
             "outlinewidth": 0,
             "ticks": ""
            },
            "colorscale": [
             [
              0,
              "#0d0887"
             ],
             [
              0.1111111111111111,
              "#46039f"
             ],
             [
              0.2222222222222222,
              "#7201a8"
             ],
             [
              0.3333333333333333,
              "#9c179e"
             ],
             [
              0.4444444444444444,
              "#bd3786"
             ],
             [
              0.5555555555555556,
              "#d8576b"
             ],
             [
              0.6666666666666666,
              "#ed7953"
             ],
             [
              0.7777777777777778,
              "#fb9f3a"
             ],
             [
              0.8888888888888888,
              "#fdca26"
             ],
             [
              1,
              "#f0f921"
             ]
            ],
            "type": "heatmap"
           }
          ],
          "histogram": [
           {
            "marker": {
             "pattern": {
              "fillmode": "overlay",
              "size": 10,
              "solidity": 0.2
             }
            },
            "type": "histogram"
           }
          ],
          "histogram2d": [
           {
            "colorbar": {
             "outlinewidth": 0,
             "ticks": ""
            },
            "colorscale": [
             [
              0,
              "#0d0887"
             ],
             [
              0.1111111111111111,
              "#46039f"
             ],
             [
              0.2222222222222222,
              "#7201a8"
             ],
             [
              0.3333333333333333,
              "#9c179e"
             ],
             [
              0.4444444444444444,
              "#bd3786"
             ],
             [
              0.5555555555555556,
              "#d8576b"
             ],
             [
              0.6666666666666666,
              "#ed7953"
             ],
             [
              0.7777777777777778,
              "#fb9f3a"
             ],
             [
              0.8888888888888888,
              "#fdca26"
             ],
             [
              1,
              "#f0f921"
             ]
            ],
            "type": "histogram2d"
           }
          ],
          "histogram2dcontour": [
           {
            "colorbar": {
             "outlinewidth": 0,
             "ticks": ""
            },
            "colorscale": [
             [
              0,
              "#0d0887"
             ],
             [
              0.1111111111111111,
              "#46039f"
             ],
             [
              0.2222222222222222,
              "#7201a8"
             ],
             [
              0.3333333333333333,
              "#9c179e"
             ],
             [
              0.4444444444444444,
              "#bd3786"
             ],
             [
              0.5555555555555556,
              "#d8576b"
             ],
             [
              0.6666666666666666,
              "#ed7953"
             ],
             [
              0.7777777777777778,
              "#fb9f3a"
             ],
             [
              0.8888888888888888,
              "#fdca26"
             ],
             [
              1,
              "#f0f921"
             ]
            ],
            "type": "histogram2dcontour"
           }
          ],
          "mesh3d": [
           {
            "colorbar": {
             "outlinewidth": 0,
             "ticks": ""
            },
            "type": "mesh3d"
           }
          ],
          "parcoords": [
           {
            "line": {
             "colorbar": {
              "outlinewidth": 0,
              "ticks": ""
             }
            },
            "type": "parcoords"
           }
          ],
          "pie": [
           {
            "automargin": true,
            "type": "pie"
           }
          ],
          "scatter": [
           {
            "fillpattern": {
             "fillmode": "overlay",
             "size": 10,
             "solidity": 0.2
            },
            "type": "scatter"
           }
          ],
          "scatter3d": [
           {
            "line": {
             "colorbar": {
              "outlinewidth": 0,
              "ticks": ""
             }
            },
            "marker": {
             "colorbar": {
              "outlinewidth": 0,
              "ticks": ""
             }
            },
            "type": "scatter3d"
           }
          ],
          "scattercarpet": [
           {
            "marker": {
             "colorbar": {
              "outlinewidth": 0,
              "ticks": ""
             }
            },
            "type": "scattercarpet"
           }
          ],
          "scattergeo": [
           {
            "marker": {
             "colorbar": {
              "outlinewidth": 0,
              "ticks": ""
             }
            },
            "type": "scattergeo"
           }
          ],
          "scattergl": [
           {
            "marker": {
             "colorbar": {
              "outlinewidth": 0,
              "ticks": ""
             }
            },
            "type": "scattergl"
           }
          ],
          "scattermap": [
           {
            "marker": {
             "colorbar": {
              "outlinewidth": 0,
              "ticks": ""
             }
            },
            "type": "scattermap"
           }
          ],
          "scattermapbox": [
           {
            "marker": {
             "colorbar": {
              "outlinewidth": 0,
              "ticks": ""
             }
            },
            "type": "scattermapbox"
           }
          ],
          "scatterpolar": [
           {
            "marker": {
             "colorbar": {
              "outlinewidth": 0,
              "ticks": ""
             }
            },
            "type": "scatterpolar"
           }
          ],
          "scatterpolargl": [
           {
            "marker": {
             "colorbar": {
              "outlinewidth": 0,
              "ticks": ""
             }
            },
            "type": "scatterpolargl"
           }
          ],
          "scatterternary": [
           {
            "marker": {
             "colorbar": {
              "outlinewidth": 0,
              "ticks": ""
             }
            },
            "type": "scatterternary"
           }
          ],
          "surface": [
           {
            "colorbar": {
             "outlinewidth": 0,
             "ticks": ""
            },
            "colorscale": [
             [
              0,
              "#0d0887"
             ],
             [
              0.1111111111111111,
              "#46039f"
             ],
             [
              0.2222222222222222,
              "#7201a8"
             ],
             [
              0.3333333333333333,
              "#9c179e"
             ],
             [
              0.4444444444444444,
              "#bd3786"
             ],
             [
              0.5555555555555556,
              "#d8576b"
             ],
             [
              0.6666666666666666,
              "#ed7953"
             ],
             [
              0.7777777777777778,
              "#fb9f3a"
             ],
             [
              0.8888888888888888,
              "#fdca26"
             ],
             [
              1,
              "#f0f921"
             ]
            ],
            "type": "surface"
           }
          ],
          "table": [
           {
            "cells": {
             "fill": {
              "color": "#EBF0F8"
             },
             "line": {
              "color": "white"
             }
            },
            "header": {
             "fill": {
              "color": "#C8D4E3"
             },
             "line": {
              "color": "white"
             }
            },
            "type": "table"
           }
          ]
         },
         "layout": {
          "annotationdefaults": {
           "arrowcolor": "#2a3f5f",
           "arrowhead": 0,
           "arrowwidth": 1
          },
          "autotypenumbers": "strict",
          "coloraxis": {
           "colorbar": {
            "outlinewidth": 0,
            "ticks": ""
           }
          },
          "colorscale": {
           "diverging": [
            [
             0,
             "#8e0152"
            ],
            [
             0.1,
             "#c51b7d"
            ],
            [
             0.2,
             "#de77ae"
            ],
            [
             0.3,
             "#f1b6da"
            ],
            [
             0.4,
             "#fde0ef"
            ],
            [
             0.5,
             "#f7f7f7"
            ],
            [
             0.6,
             "#e6f5d0"
            ],
            [
             0.7,
             "#b8e186"
            ],
            [
             0.8,
             "#7fbc41"
            ],
            [
             0.9,
             "#4d9221"
            ],
            [
             1,
             "#276419"
            ]
           ],
           "sequential": [
            [
             0,
             "#0d0887"
            ],
            [
             0.1111111111111111,
             "#46039f"
            ],
            [
             0.2222222222222222,
             "#7201a8"
            ],
            [
             0.3333333333333333,
             "#9c179e"
            ],
            [
             0.4444444444444444,
             "#bd3786"
            ],
            [
             0.5555555555555556,
             "#d8576b"
            ],
            [
             0.6666666666666666,
             "#ed7953"
            ],
            [
             0.7777777777777778,
             "#fb9f3a"
            ],
            [
             0.8888888888888888,
             "#fdca26"
            ],
            [
             1,
             "#f0f921"
            ]
           ],
           "sequentialminus": [
            [
             0,
             "#0d0887"
            ],
            [
             0.1111111111111111,
             "#46039f"
            ],
            [
             0.2222222222222222,
             "#7201a8"
            ],
            [
             0.3333333333333333,
             "#9c179e"
            ],
            [
             0.4444444444444444,
             "#bd3786"
            ],
            [
             0.5555555555555556,
             "#d8576b"
            ],
            [
             0.6666666666666666,
             "#ed7953"
            ],
            [
             0.7777777777777778,
             "#fb9f3a"
            ],
            [
             0.8888888888888888,
             "#fdca26"
            ],
            [
             1,
             "#f0f921"
            ]
           ]
          },
          "colorway": [
           "#636efa",
           "#EF553B",
           "#00cc96",
           "#ab63fa",
           "#FFA15A",
           "#19d3f3",
           "#FF6692",
           "#B6E880",
           "#FF97FF",
           "#FECB52"
          ],
          "font": {
           "color": "#2a3f5f"
          },
          "geo": {
           "bgcolor": "white",
           "lakecolor": "white",
           "landcolor": "#E5ECF6",
           "showlakes": true,
           "showland": true,
           "subunitcolor": "white"
          },
          "hoverlabel": {
           "align": "left"
          },
          "hovermode": "closest",
          "mapbox": {
           "style": "light"
          },
          "paper_bgcolor": "white",
          "plot_bgcolor": "#E5ECF6",
          "polar": {
           "angularaxis": {
            "gridcolor": "white",
            "linecolor": "white",
            "ticks": ""
           },
           "bgcolor": "#E5ECF6",
           "radialaxis": {
            "gridcolor": "white",
            "linecolor": "white",
            "ticks": ""
           }
          },
          "scene": {
           "xaxis": {
            "backgroundcolor": "#E5ECF6",
            "gridcolor": "white",
            "gridwidth": 2,
            "linecolor": "white",
            "showbackground": true,
            "ticks": "",
            "zerolinecolor": "white"
           },
           "yaxis": {
            "backgroundcolor": "#E5ECF6",
            "gridcolor": "white",
            "gridwidth": 2,
            "linecolor": "white",
            "showbackground": true,
            "ticks": "",
            "zerolinecolor": "white"
           },
           "zaxis": {
            "backgroundcolor": "#E5ECF6",
            "gridcolor": "white",
            "gridwidth": 2,
            "linecolor": "white",
            "showbackground": true,
            "ticks": "",
            "zerolinecolor": "white"
           }
          },
          "shapedefaults": {
           "line": {
            "color": "#2a3f5f"
           }
          },
          "ternary": {
           "aaxis": {
            "gridcolor": "white",
            "linecolor": "white",
            "ticks": ""
           },
           "baxis": {
            "gridcolor": "white",
            "linecolor": "white",
            "ticks": ""
           },
           "bgcolor": "#E5ECF6",
           "caxis": {
            "gridcolor": "white",
            "linecolor": "white",
            "ticks": ""
           }
          },
          "title": {
           "x": 0.05
          },
          "xaxis": {
           "automargin": true,
           "gridcolor": "white",
           "linecolor": "white",
           "ticks": "",
           "title": {
            "standoff": 15
           },
           "zerolinecolor": "white",
           "zerolinewidth": 2
          },
          "yaxis": {
           "automargin": true,
           "gridcolor": "white",
           "linecolor": "white",
           "ticks": "",
           "title": {
            "standoff": 15
           },
           "zerolinecolor": "white",
           "zerolinewidth": 2
          }
         }
        },
        "title": {
         "text": "DQN on CartPole-v1"
        },
        "xaxis": {
         "title": {
          "text": "Episodes"
         }
        },
        "yaxis": {
         "title": {
          "text": "Returns"
         }
        }
       }
      },
      "image/png": "[encoded data removed]"
     },
     "metadata": {},
     "output_type": "display_data"
    }
   ],
   "source": [
    "import plotly.graph_objects as go\n",
    "import pandas as pd\n",
    "df = pd.read_csv('DQN_CartPole-v1_returns_data.csv')  # 从 CSV 文件中读取数据\n",
    "fig = go.Figure()\n",
    "fig.add_trace(go.Scatter(x=df['Episodes'], y=df['Returns'], mode='lines', name='Returns'))\n",
    "fig.update_layout(\n",
    "    title='DQN on CartPole-v1',\n",
    "    xaxis_title='Episodes',\n",
    "    yaxis_title='Returns',\n",
    "    showlegend=True\n",
    ")\n",
    "fig.show()"
   ]
  },
  {
   "cell_type": "markdown",
   "id": "1eed95bdf676dc84",
   "metadata": {
    "collapsed": false
   },
   "source": [
    "去噪：滑动平均方法，使曲线更平滑："
   ]
  },
  {
   "cell_type": "code",
   "execution_count": 13,
   "id": "15a19b6d791c662a",
   "metadata": {
    "collapsed": false
   },
   "outputs": [
    {
     "data": {
      "application/vnd.plotly.v1+json": {
       "config": {
        "plotlyServerURL": "https://plot.ly"
       },
       "data": [
        {
         "mode": "lines",
         "name": "Returns",
         "type": "scatter",
         "x": {
          "bdata": "AAABAAIAAwAEAAUABgAHAAgACQAKAAsADAANAA4ADwAQABEAEgATABQAFQAWABcAGAAZABoAGwAcAB0AHgAfACAAIQAiACMAJAAlACYAJwAoACkAKgArACwALQAuAC8AMAAxADIAMwA0ADUANgA3ADgAOQA6ADsAPAA9AD4APwBAAEEAQgBDAEQARQBGAEcASABJAEoASwBMAE0ATgBPAFAAUQBSAFMAVABVAFYAVwBYAFkAWgBbAFwAXQBeAF8AYABhAGIAYwBkAGUAZgBnAGgAaQBqAGsAbABtAG4AbwBwAHEAcgBzAHQAdQB2AHcAeAB5AHoAewB8AH0AfgB/AIAAgQCCAIMAhACFAIYAhwCIAIkAigCLAIwAjQCOAI8AkACRAJIAkwCUAJUAlgCXAJgAmQCaAJsAnACdAJ4AnwCgAKEAogCjAKQApQCmAKcAqACpAKoAqwCsAK0ArgCvALAAsQCyALMAtAC1ALYAtwC4ALkAugC7ALwAvQC+AL8AwADBAMIAwwDEAMUAxgDHAMgAyQDKAMsAzADNAM4AzwDQANEA0gDTANQA1QDWANcA2ADZANoA2wDcAN0A3gDfAOAA4QDiAOMA5ADlAOYA5wDoAOkA6gDrAOwA7QDuAO8A8ADxAPIA8wD0APUA9gD3APgA+QD6APsA/AD9AP4A/wAAAQEBAgEDAQQBBQEGAQcBCAEJAQoBCwEMAQ0BDgEPARABEQESARMBFAEVARYBFwEYARkBGgEbARwBHQEeAR8BIAEhASIBIwEkASUBJgEnASgBKQEqASsBLAEtAS4BLwEwATEBMgEzATQBNQE2ATcBOAE5AToBOwE8AT0BPgE/AUABQQFCAUMBRAFFAUYBRwFIAUkBSgFLAUwBTQFOAU8BUAFRAVIBUwFUAVUBVgFXAVgBWQFaAVsBXAFdAV4BXwFgAWEBYgFjAWQBZQFmAWcBaAFpAWoBawFsAW0BbgFvAXABcQFyAXMBdAF1AXYBdwF4AXkBegF7AXwBfQF+AX8BgAGBAYIBgwGEAYUBhgGHAYgBiQGKAYsBjAGNAY4BjwGQAZEBkgGTAZQBlQGWAZcBmAGZAZoBmwGcAZ0BngGfAaABoQGiAaMBpAGlAaYBpwGoAakBqgGrAawBrQGuAa8BsAGxAbIBswG0AbUBtgG3AbgBuQG6AbsBvAG9Ab4BvwHAAcEBwgHDAcQBxQHGAccByAHJAcoBywHMAc0BzgHPAdAB0QHSAdMB1AHVAdYB1wHYAdkB2gHbAdwB3QHeAd8B4AHhAeIB4wHkAeUB5gHnAegB6QHqAesB7AHtAe4B7wHwAfEB8gHzAQ==",
          "dtype": "i2"
         },
         "y": {
          "bdata": "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",
          "dtype": "f8"
         }
        }
       ],
       "layout": {
        "showlegend": true,
        "template": {
         "data": {
          "bar": [
           {
            "error_x": {
             "color": "#2a3f5f"
            },
            "error_y": {
             "color": "#2a3f5f"
            },
            "marker": {
             "line": {
              "color": "#E5ECF6",
              "width": 0.5
             },
             "pattern": {
              "fillmode": "overlay",
              "size": 10,
              "solidity": 0.2
             }
            },
            "type": "bar"
           }
          ],
          "barpolar": [
           {
            "marker": {
             "line": {
              "color": "#E5ECF6",
              "width": 0.5
             },
             "pattern": {
              "fillmode": "overlay",
              "size": 10,
              "solidity": 0.2
             }
            },
            "type": "barpolar"
           }
          ],
          "carpet": [
           {
            "aaxis": {
             "endlinecolor": "#2a3f5f",
             "gridcolor": "white",
             "linecolor": "white",
             "minorgridcolor": "white",
             "startlinecolor": "#2a3f5f"
            },
            "baxis": {
             "endlinecolor": "#2a3f5f",
             "gridcolor": "white",
             "linecolor": "white",
             "minorgridcolor": "white",
             "startlinecolor": "#2a3f5f"
            },
            "type": "carpet"
           }
          ],
          "choropleth": [
           {
            "colorbar": {
             "outlinewidth": 0,
             "ticks": ""
            },
            "type": "choropleth"
           }
          ],
          "contour": [
           {
            "colorbar": {
             "outlinewidth": 0,
             "ticks": ""
            },
            "colorscale": [
             [
              0,
              "#0d0887"
             ],
             [
              0.1111111111111111,
              "#46039f"
             ],
             [
              0.2222222222222222,
              "#7201a8"
             ],
             [
              0.3333333333333333,
              "#9c179e"
             ],
             [
              0.4444444444444444,
              "#bd3786"
             ],
             [
              0.5555555555555556,
              "#d8576b"
             ],
             [
              0.6666666666666666,
              "#ed7953"
             ],
             [
              0.7777777777777778,
              "#fb9f3a"
             ],
             [
              0.8888888888888888,
              "#fdca26"
             ],
             [
              1,
              "#f0f921"
             ]
            ],
            "type": "contour"
           }
          ],
          "contourcarpet": [
           {
            "colorbar": {
             "outlinewidth": 0,
             "ticks": ""
            },
            "type": "contourcarpet"
           }
          ],
          "heatmap": [
           {
            "colorbar": {
             "outlinewidth": 0,
             "ticks": ""
            },
            "colorscale": [
             [
              0,
              "#0d0887"
             ],
             [
              0.1111111111111111,
              "#46039f"
             ],
             [
              0.2222222222222222,
              "#7201a8"
             ],
             [
              0.3333333333333333,
              "#9c179e"
             ],
             [
              0.4444444444444444,
              "#bd3786"
             ],
             [
              0.5555555555555556,
              "#d8576b"
             ],
             [
              0.6666666666666666,
              "#ed7953"
             ],
             [
              0.7777777777777778,
              "#fb9f3a"
             ],
             [
              0.8888888888888888,
              "#fdca26"
             ],
             [
              1,
              "#f0f921"
             ]
            ],
            "type": "heatmap"
           }
          ],
          "histogram": [
           {
            "marker": {
             "pattern": {
              "fillmode": "overlay",
              "size": 10,
              "solidity": 0.2
             }
            },
            "type": "histogram"
           }
          ],
          "histogram2d": [
           {
            "colorbar": {
             "outlinewidth": 0,
             "ticks": ""
            },
            "colorscale": [
             [
              0,
              "#0d0887"
             ],
             [
              0.1111111111111111,
              "#46039f"
             ],
             [
              0.2222222222222222,
              "#7201a8"
             ],
             [
              0.3333333333333333,
              "#9c179e"
             ],
             [
              0.4444444444444444,
              "#bd3786"
             ],
             [
              0.5555555555555556,
              "#d8576b"
             ],
             [
              0.6666666666666666,
              "#ed7953"
             ],
             [
              0.7777777777777778,
              "#fb9f3a"
             ],
             [
              0.8888888888888888,
              "#fdca26"
             ],
             [
              1,
              "#f0f921"
             ]
            ],
            "type": "histogram2d"
           }
          ],
          "histogram2dcontour": [
           {
            "colorbar": {
             "outlinewidth": 0,
             "ticks": ""
            },
            "colorscale": [
             [
              0,
              "#0d0887"
             ],
             [
              0.1111111111111111,
              "#46039f"
             ],
             [
              0.2222222222222222,
              "#7201a8"
             ],
             [
              0.3333333333333333,
              "#9c179e"
             ],
             [
              0.4444444444444444,
              "#bd3786"
             ],
             [
              0.5555555555555556,
              "#d8576b"
             ],
             [
              0.6666666666666666,
              "#ed7953"
             ],
             [
              0.7777777777777778,
              "#fb9f3a"
             ],
             [
              0.8888888888888888,
              "#fdca26"
             ],
             [
              1,
              "#f0f921"
             ]
            ],
            "type": "histogram2dcontour"
           }
          ],
          "mesh3d": [
           {
            "colorbar": {
             "outlinewidth": 0,
             "ticks": ""
            },
            "type": "mesh3d"
           }
          ],
          "parcoords": [
           {
            "line": {
             "colorbar": {
              "outlinewidth": 0,
              "ticks": ""
             }
            },
            "type": "parcoords"
           }
          ],
          "pie": [
           {
            "automargin": true,
            "type": "pie"
           }
          ],
          "scatter": [
           {
            "fillpattern": {
             "fillmode": "overlay",
             "size": 10,
             "solidity": 0.2
            },
            "type": "scatter"
           }
          ],
          "scatter3d": [
           {
            "line": {
             "colorbar": {
              "outlinewidth": 0,
              "ticks": ""
             }
            },
            "marker": {
             "colorbar": {
              "outlinewidth": 0,
              "ticks": ""
             }
            },
            "type": "scatter3d"
           }
          ],
          "scattercarpet": [
           {
            "marker": {
             "colorbar": {
              "outlinewidth": 0,
              "ticks": ""
             }
            },
            "type": "scattercarpet"
           }
          ],
          "scattergeo": [
           {
            "marker": {
             "colorbar": {
              "outlinewidth": 0,
              "ticks": ""
             }
            },
            "type": "scattergeo"
           }
          ],
          "scattergl": [
           {
            "marker": {
             "colorbar": {
              "outlinewidth": 0,
              "ticks": ""
             }
            },
            "type": "scattergl"
           }
          ],
          "scattermap": [
           {
            "marker": {
             "colorbar": {
              "outlinewidth": 0,
              "ticks": ""
             }
            },
            "type": "scattermap"
           }
          ],
          "scattermapbox": [
           {
            "marker": {
             "colorbar": {
              "outlinewidth": 0,
              "ticks": ""
             }
            },
            "type": "scattermapbox"
           }
          ],
          "scatterpolar": [
           {
            "marker": {
             "colorbar": {
              "outlinewidth": 0,
              "ticks": ""
             }
            },
            "type": "scatterpolar"
           }
          ],
          "scatterpolargl": [
           {
            "marker": {
             "colorbar": {
              "outlinewidth": 0,
              "ticks": ""
             }
            },
            "type": "scatterpolargl"
           }
          ],
          "scatterternary": [
           {
            "marker": {
             "colorbar": {
              "outlinewidth": 0,
              "ticks": ""
             }
            },
            "type": "scatterternary"
           }
          ],
          "surface": [
           {
            "colorbar": {
             "outlinewidth": 0,
             "ticks": ""
            },
            "colorscale": [
             [
              0,
              "#0d0887"
             ],
             [
              0.1111111111111111,
              "#46039f"
             ],
             [
              0.2222222222222222,
              "#7201a8"
             ],
             [
              0.3333333333333333,
              "#9c179e"
             ],
             [
              0.4444444444444444,
              "#bd3786"
             ],
             [
              0.5555555555555556,
              "#d8576b"
             ],
             [
              0.6666666666666666,
              "#ed7953"
             ],
             [
              0.7777777777777778,
              "#fb9f3a"
             ],
             [
              0.8888888888888888,
              "#fdca26"
             ],
             [
              1,
              "#f0f921"
             ]
            ],
            "type": "surface"
           }
          ],
          "table": [
           {
            "cells": {
             "fill": {
              "color": "#EBF0F8"
             },
             "line": {
              "color": "white"
             }
            },
            "header": {
             "fill": {
              "color": "#C8D4E3"
             },
             "line": {
              "color": "white"
             }
            },
            "type": "table"
           }
          ]
         },
         "layout": {
          "annotationdefaults": {
           "arrowcolor": "#2a3f5f",
           "arrowhead": 0,
           "arrowwidth": 1
          },
          "autotypenumbers": "strict",
          "coloraxis": {
           "colorbar": {
            "outlinewidth": 0,
            "ticks": ""
           }
          },
          "colorscale": {
           "diverging": [
            [
             0,
             "#8e0152"
            ],
            [
             0.1,
             "#c51b7d"
            ],
            [
             0.2,
             "#de77ae"
            ],
            [
             0.3,
             "#f1b6da"
            ],
            [
             0.4,
             "#fde0ef"
            ],
            [
             0.5,
             "#f7f7f7"
            ],
            [
             0.6,
             "#e6f5d0"
            ],
            [
             0.7,
             "#b8e186"
            ],
            [
             0.8,
             "#7fbc41"
            ],
            [
             0.9,
             "#4d9221"
            ],
            [
             1,
             "#276419"
            ]
           ],
           "sequential": [
            [
             0,
             "#0d0887"
            ],
            [
             0.1111111111111111,
             "#46039f"
            ],
            [
             0.2222222222222222,
             "#7201a8"
            ],
            [
             0.3333333333333333,
             "#9c179e"
            ],
            [
             0.4444444444444444,
             "#bd3786"
            ],
            [
             0.5555555555555556,
             "#d8576b"
            ],
            [
             0.6666666666666666,
             "#ed7953"
            ],
            [
             0.7777777777777778,
             "#fb9f3a"
            ],
            [
             0.8888888888888888,
             "#fdca26"
            ],
            [
             1,
             "#f0f921"
            ]
           ],
           "sequentialminus": [
            [
             0,
             "#0d0887"
            ],
            [
             0.1111111111111111,
             "#46039f"
            ],
            [
             0.2222222222222222,
             "#7201a8"
            ],
            [
             0.3333333333333333,
             "#9c179e"
            ],
            [
             0.4444444444444444,
             "#bd3786"
            ],
            [
             0.5555555555555556,
             "#d8576b"
            ],
            [
             0.6666666666666666,
             "#ed7953"
            ],
            [
             0.7777777777777778,
             "#fb9f3a"
            ],
            [
             0.8888888888888888,
             "#fdca26"
            ],
            [
             1,
             "#f0f921"
            ]
           ]
          },
          "colorway": [
           "#636efa",
           "#EF553B",
           "#00cc96",
           "#ab63fa",
           "#FFA15A",
           "#19d3f3",
           "#FF6692",
           "#B6E880",
           "#FF97FF",
           "#FECB52"
          ],
          "font": {
           "color": "#2a3f5f"
          },
          "geo": {
           "bgcolor": "white",
           "lakecolor": "white",
           "landcolor": "#E5ECF6",
           "showlakes": true,
           "showland": true,
           "subunitcolor": "white"
          },
          "hoverlabel": {
           "align": "left"
          },
          "hovermode": "closest",
          "mapbox": {
           "style": "light"
          },
          "paper_bgcolor": "white",
          "plot_bgcolor": "#E5ECF6",
          "polar": {
           "angularaxis": {
            "gridcolor": "white",
            "linecolor": "white",
            "ticks": ""
           },
           "bgcolor": "#E5ECF6",
           "radialaxis": {
            "gridcolor": "white",
            "linecolor": "white",
            "ticks": ""
           }
          },
          "scene": {
           "xaxis": {
            "backgroundcolor": "#E5ECF6",
            "gridcolor": "white",
            "gridwidth": 2,
            "linecolor": "white",
            "showbackground": true,
            "ticks": "",
            "zerolinecolor": "white"
           },
           "yaxis": {
            "backgroundcolor": "#E5ECF6",
            "gridcolor": "white",
            "gridwidth": 2,
            "linecolor": "white",
            "showbackground": true,
            "ticks": "",
            "zerolinecolor": "white"
           },
           "zaxis": {
            "backgroundcolor": "#E5ECF6",
            "gridcolor": "white",
            "gridwidth": 2,
            "linecolor": "white",
            "showbackground": true,
            "ticks": "",
            "zerolinecolor": "white"
           }
          },
          "shapedefaults": {
           "line": {
            "color": "#2a3f5f"
           }
          },
          "ternary": {
           "aaxis": {
            "gridcolor": "white",
            "linecolor": "white",
            "ticks": ""
           },
           "baxis": {
            "gridcolor": "white",
            "linecolor": "white",
            "ticks": ""
           },
           "bgcolor": "#E5ECF6",
           "caxis": {
            "gridcolor": "white",
            "linecolor": "white",
            "ticks": ""
           }
          },
          "title": {
           "x": 0.05
          },
          "xaxis": {
           "automargin": true,
           "gridcolor": "white",
           "linecolor": "white",
           "ticks": "",
           "title": {
            "standoff": 15
           },
           "zerolinecolor": "white",
           "zerolinewidth": 2
          },
          "yaxis": {
           "automargin": true,
           "gridcolor": "white",
           "linecolor": "white",
           "ticks": "",
           "title": {
            "standoff": 15
           },
           "zerolinecolor": "white",
           "zerolinewidth": 2
          }
         }
        },
        "title": {
         "text": "DQN on CartPole-v1"
        },
        "xaxis": {
         "title": {
          "text": "Episodes"
         }
        },
        "yaxis": {
         "title": {
          "text": "Returns"
         }
        }
       }
      },
      "image/png": "[encoded data removed]"
     },
     "metadata": {},
     "output_type": "display_data"
    }
   ],
   "source": [
    "import plotly.graph_objects as go\n",
    "import pandas as pd\n",
    "df = pd.read_csv('DQN_CartPole-v1_mv_returns_data.csv')  # 从 CSV 文件中读取数据\n",
    "fig = go.Figure()\n",
    "fig.add_trace(go.Scatter(x=df['Episodes'], y=df['Returns'], mode='lines', name='Returns'))\n",
    "fig.update_layout(\n",
    "    title='DQN on CartPole-v1',\n",
    "    xaxis_title='Episodes',\n",
    "    yaxis_title='Returns',\n",
    "    showlegend=True\n",
    ")\n",
    "fig.show()"
   ]
  }
 ],
 "metadata": {
  "kernelspec": {
   "display_name": "Python 3 (ipykernel)",
   "language": "python",
   "name": "python3"
  },
  "language_info": {
   "codemirror_mode": {
    "name": "ipython",
    "version": 3
   },
   "file_extension": ".py",
   "mimetype": "text/x-python",
   "name": "python",
   "nbconvert_exporter": "python",
   "pygments_lexer": "ipython3",
   "version": "3.12.9"
  }
 },
 "nbformat": 4,
 "nbformat_minor": 5
}
