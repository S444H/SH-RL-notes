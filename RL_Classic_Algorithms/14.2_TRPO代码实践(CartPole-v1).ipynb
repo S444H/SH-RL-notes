{
 "cells": [
  {
   "cell_type": "markdown",
   "id": "ace71cd372b92798",
   "metadata": {
    "collapsed": false
   },
   "source": [
    "*本节在 **车杆（CartPole）离散-动作**交互环境下进行 **TRPO** 代码实践*"
   ]
  },
  {
   "cell_type": "markdown",
   "id": "a25b89b8955dd31c",
   "metadata": {
    "collapsed": false
   },
   "source": [
    "导入相关库："
   ]
  },
  {
   "cell_type": "code",
   "execution_count": 1,
   "id": "6bd2ba098afb45c4",
   "metadata": {
    "ExecuteTime": {
     "end_time": "2025-08-03T05:39:36.004205800Z",
     "start_time": "2025-08-03T05:39:32.985991900Z"
    },
    "collapsed": false
   },
   "outputs": [],
   "source": [
    "# 基本库\n",
    "import numpy as np\n",
    "import copy\n",
    "\n",
    "from utils.smoothing import moving_average\n",
    "from utils.advantage import compute_advantage\n",
    "from utils.training import train_on_policy_agent\n",
    "# 神经网络\n",
    "import torch\n",
    "import torch.nn.functional as F\n",
    "# Gymnasium 是一个用于开发和测试强化学习算法的工具库，为 OpenAI Gym 的更新版本（2021迁移开发）\n",
    "import gymnasium as gym"
   ]
  },
  {
   "cell_type": "markdown",
   "id": "dfa825f6733f4a92",
   "metadata": {
    "collapsed": false
   },
   "source": [
    "## 车杆环境（'CartPole-v1'）"
   ]
  },
  {
   "cell_type": "markdown",
   "id": "3ca484d8e6096ec0",
   "metadata": {
    "collapsed": false
   },
   "source": [
    "### 定义策略网络和价值网络（与 Actor-Critic 算法一样）:"
   ]
  },
  {
   "cell_type": "code",
   "execution_count": 2,
   "id": "c7811bbb5831acce",
   "metadata": {
    "ExecuteTime": {
     "end_time": "2025-08-03T05:36:41.391332300Z",
     "start_time": "2025-08-03T05:36:41.278183300Z"
    },
    "collapsed": false
   },
   "outputs": [],
   "source": [
    "class PolicyNet(torch.nn.Module):\n",
    "    def __init__(self, state_dim, hidden_dim, action_dim):\n",
    "        super(PolicyNet, self).__init__()\n",
    "        self.fc1 = torch.nn.Linear(state_dim, hidden_dim)\n",
    "        self.fc2 = torch.nn.Linear(hidden_dim, action_dim)\n",
    "\n",
    "    def forward(self, x):\n",
    "        x = F.relu(self.fc1(x))\n",
    "        return F.softmax(self.fc2(x), dim=1)\n",
    "\n",
    "\n",
    "class ValueNet(torch.nn.Module):\n",
    "    def __init__(self, state_dim, hidden_dim):\n",
    "        super(ValueNet, self).__init__()\n",
    "        self.fc1 = torch.nn.Linear(state_dim, hidden_dim)\n",
    "        self.fc2 = torch.nn.Linear(hidden_dim, 1)\n",
    "\n",
    "    def forward(self, x):\n",
    "        x = F.relu(self.fc1(x))\n",
    "        return self.fc2(x)"
   ]
  },
  {
   "cell_type": "markdown",
   "id": "a7d961ebf25c86b",
   "metadata": {
    "collapsed": false
   },
   "source": [
    "### 定义 TRPO 算法（离散动作）："
   ]
  },
  {
   "cell_type": "code",
   "execution_count": 3,
   "id": "785d0dcb04f16531",
   "metadata": {
    "ExecuteTime": {
     "end_time": "2025-08-03T05:36:41.428116400Z",
     "start_time": "2025-08-03T05:36:41.298064800Z"
    },
    "collapsed": false
   },
   "outputs": [],
   "source": [
    "class TRPO:\n",
    "    \"\"\" 处理离散动作的TRPO算法 \"\"\"\n",
    "    def __init__(self, hidden_dim, state_space, action_space, lmbda, kl_constraint, alpha, critic_lr, gamma, device):\n",
    "        \n",
    "        state_dim = state_space.shape[0]\n",
    "        action_dim = action_space.n\n",
    "    \n",
    "        self.actor = PolicyNet(state_dim, hidden_dim, action_dim).to(device)\n",
    "        self.critic = ValueNet(state_dim, hidden_dim).to(device)\n",
    "        # 策略网络参数不需要优化器去更新\n",
    "        self.critic_optimizer = torch.optim.Adam(self.critic.parameters(), lr=critic_lr)\n",
    "        \n",
    "        self.gamma = gamma\n",
    "        self.lmbda = lmbda                  # GAE参数\n",
    "        self.kl_constraint = kl_constraint  # KL距离最大限制\n",
    "        self.alpha = alpha                  # 线性搜索参数\n",
    "        self.device = device\n",
    "\n",
    "    def take_action(self, state):\n",
    "        state = torch.tensor(np.array([state]), dtype=torch.float).to(self.device)\n",
    "        probs = self.actor(state)\n",
    "        action_dist = torch.distributions.Categorical(probs)\n",
    "        action = action_dist.sample()\n",
    "        return action.item()\n",
    "\n",
    "    def hessian_matrix_vector_product(self, states, old_action_dists, vector):  # 计算Hansen矩阵和一个向量的乘积\n",
    "        # Hessian-Vector Product（HVP）方式\n",
    "        new_action_dists = torch.distributions.Categorical(self.actor(states))\n",
    "        kl = torch.mean(torch.distributions.kl.kl_divergence(old_action_dists, new_action_dists))  # 计算平均KL距离\n",
    "        kl_grad = torch.autograd.grad(kl, self.actor.parameters(), create_graph=True)\n",
    "        kl_grad_vector = torch.cat([grad.view(-1) for grad in kl_grad])\n",
    "        # KL距离的梯度先和向量进行点积运算\n",
    "        kl_grad_vector_product = torch.dot(kl_grad_vector, vector)\n",
    "        # 再求导，即得海森矩阵与向量的乘积（无需显式构造 Hessian）\n",
    "        grad2 = torch.autograd.grad(kl_grad_vector_product, self.actor.parameters())\n",
    "        grad2_vector = torch.cat([grad.view(-1) for grad in grad2])\n",
    "        return grad2_vector\n",
    "\n",
    "    def conjugate_gradient(self, grad, states, old_action_dists):  # 共轭梯度法求解方程\n",
    "        x = torch.zeros_like(grad)\n",
    "        r = grad.clone()\n",
    "        p = grad.clone()\n",
    "        rdotr = torch.dot(r, r)\n",
    "        for i in range(10):  # 共轭梯度主循环\n",
    "            Hp = self.hessian_matrix_vector_product(states, old_action_dists,p)\n",
    "            alpha = rdotr / torch.dot(p, Hp)\n",
    "            x += alpha * p\n",
    "            r -= alpha * Hp\n",
    "            new_rdotr = torch.dot(r, r)\n",
    "            if new_rdotr < 1e-10:\n",
    "                break\n",
    "            beta = new_rdotr / rdotr\n",
    "            p = r + beta * p\n",
    "            rdotr = new_rdotr\n",
    "        return x\n",
    "\n",
    "    def compute_surrogate_obj(self, states, actions, advantage, old_log_probs, actor):  # 计算策略目标函数\n",
    "        log_probs = torch.log(actor(states).gather(1, actions))\n",
    "        ratio = torch.exp(log_probs - old_log_probs)\n",
    "        return torch.mean(ratio * advantage)\n",
    "\n",
    "    def line_search(self, states, actions, advantage, old_log_probs, old_action_dists, max_vec):  # 线性搜索\n",
    "        \n",
    "        old_para = torch.nn.utils.convert_parameters.parameters_to_vector(self.actor.parameters())\n",
    "        old_obj = self.compute_surrogate_obj(states, actions, advantage, old_log_probs, self.actor)\n",
    "        \n",
    "        for i in range(15):  # 线性搜索主循环\n",
    "            coef = self.alpha**i\n",
    "            new_para = old_para + coef * max_vec\n",
    "            new_actor = copy.deepcopy(self.actor)  # 策略网络深层拷贝，防止后面的操作改变原始网络参数\n",
    "            torch.nn.utils.convert_parameters.vector_to_parameters(new_para, new_actor.parameters())\n",
    "            new_action_dists = torch.distributions.Categorical(new_actor(states))\n",
    "            kl_div = torch.mean(torch.distributions.kl.kl_divergence(old_action_dists, new_action_dists))\n",
    "            new_obj = self.compute_surrogate_obj(states, actions, advantage, old_log_probs, new_actor)\n",
    "            if new_obj > old_obj and kl_div < self.kl_constraint:\n",
    "                return new_para\n",
    "        return old_para\n",
    "\n",
    "    def policy_learn(self, states, actions, old_action_dists, old_log_probs, advantage):  # 更新策略网络\n",
    "        surrogate_obj = self.compute_surrogate_obj(states, actions, advantage, old_log_probs, self.actor)\n",
    "        grads = torch.autograd.grad(surrogate_obj, self.actor.parameters())\n",
    "        obj_grad = torch.cat([grad.view(-1) for grad in grads]).detach()\n",
    "        \n",
    "        descent_direction = self.conjugate_gradient(obj_grad, states, old_action_dists)  # 用共轭梯度法计算x = H^(-1)g\n",
    "        Hx = self.hessian_matrix_vector_product(states, old_action_dists, descent_direction)\n",
    "        max_coef = torch.sqrt(2 * self.kl_constraint / (torch.dot(descent_direction, Hx) + 1e-8))  # 理论最大步长\n",
    "        new_para = self.line_search(states, actions, advantage, old_log_probs, old_action_dists,\n",
    "                                    descent_direction * max_coef)  # 线性搜索\n",
    "        torch.nn.utils.convert_parameters.vector_to_parameters(new_para, self.actor.parameters())  # 用线性搜索后的参数更新策略\n",
    "\n",
    "    def update(self, transition_dict):\n",
    "        states_np = np.array(transition_dict['states'])  # 转换成统一的大 np.ndarray，PyTorch更高效处理\n",
    "        states = torch.tensor(states_np, dtype=torch.float).to(self.device)\n",
    "        actions = torch.tensor(transition_dict['actions']).view(-1, 1).to(self.device)\n",
    "        rewards = torch.tensor(transition_dict['rewards'], dtype=torch.float).view(-1, 1).to(self.device)\n",
    "        next_states_np = np.array(transition_dict['next_states'])  # 转换成统一的大 np.ndarray，PyTorch更高效处理\n",
    "        next_states = torch.tensor(next_states_np, dtype=torch.float).to(self.device)\n",
    "        dones = torch.tensor(transition_dict['dones'], dtype=torch.float).view(-1, 1).to(self.device)\n",
    "        \n",
    "        td_target = rewards + self.gamma * self.critic(next_states) * (1 - dones)  # 时序差分目标\n",
    "        td_delta = td_target - self.critic(states)                                 # 时序差分误差\n",
    "        \n",
    "        advantage = compute_advantage(self.gamma, self.lmbda, td_delta.cpu()).to(self.device)\n",
    "        old_log_probs = torch.log(self.actor(states).gather(1,actions)).detach()\n",
    "        old_action_dists = torch.distributions.Categorical(self.actor(states).detach())\n",
    "        \n",
    "        # 更新价值函数\n",
    "        critic_loss = torch.mean(F.mse_loss(self.critic(states), td_target.detach()))\n",
    "        self.critic_optimizer.zero_grad()\n",
    "        critic_loss.backward()\n",
    "        self.critic_optimizer.step()  # 更新价值函数\n",
    "        \n",
    "        # 更新策略函数\n",
    "        self.policy_learn(states, actions, old_action_dists, old_log_probs, advantage)"
   ]
  },
  {
   "cell_type": "markdown",
   "id": "4c3e1f958f86aea0",
   "metadata": {
    "collapsed": false
   },
   "source": [
    "### 环境设置（'CartPole-v1'）："
   ]
  },
  {
   "cell_type": "code",
   "execution_count": 4,
   "id": "af231f552de86c1b",
   "metadata": {
    "ExecuteTime": {
     "end_time": "2025-08-03T05:36:41.468185600Z",
     "start_time": "2025-08-03T05:36:41.309240600Z"
    },
    "collapsed": false
   },
   "outputs": [
    {
     "name": "stdout",
     "output_type": "stream",
     "text": [
      "Environment spec: EnvSpec(id='CartPole-v1', entry_point='gymnasium.envs.classic_control.cartpole:CartPoleEnv', reward_threshold=475.0, nondeterministic=False, max_episode_steps=500, order_enforce=True, disable_env_checker=False, kwargs={}, namespace=None, name='CartPole', version=1, additional_wrappers=(), vector_entry_point='gymnasium.envs.classic_control.cartpole:CartPoleVectorEnv')\n"
     ]
    }
   ],
   "source": [
    "np.random.seed(0)    # 设置 NumPy 的随机种子\n",
    "torch.manual_seed(0) # 设置 PyTorch CPU 随机种子\n",
    "torch.cuda.manual_seed_all(0) # 设置 PyTorch GPU 随机种子, 由于GPU并行性, 只能极大减小偏差\n",
    "\n",
    "env = gym.make('CartPole-v1')  # CartPole-v1 最大回合步数修改到了500步(v0为200)\n",
    "#env = env.unwrapped # 获取原始环境（绕过 TimeLimit 包装器）解除最大步数500限制\n",
    "env.reset(seed=0)   # 环境通常依赖于其他随机数生成器来初始化状态、进行探索(推荐位于以上随机之后)\n",
    "print(\"Environment spec:\", env.spec)"
   ]
  },
  {
   "cell_type": "markdown",
   "id": "511e3721f159bf18",
   "metadata": {
    "collapsed": false
   },
   "source": [
    "### 超参数设置："
   ]
  },
  {
   "cell_type": "code",
   "execution_count": 5,
   "id": "66d86e4001819b29",
   "metadata": {
    "ExecuteTime": {
     "end_time": "2025-08-03T05:36:43.644654700Z",
     "start_time": "2025-08-03T05:36:41.344841900Z"
    },
    "collapsed": false
   },
   "outputs": [],
   "source": [
    "hidden_dim = 128\n",
    "lmbda = 0.95\n",
    "# 搜索步伐(方向+距离)控制\n",
    "kl_constraint = 0.00075  # 限制每次策略更新的“跳跃程度”\n",
    "alpha = 0.55  # \"步长\"衰减,越小越\"精细\"\n",
    "# 价值网络超参数不变\n",
    "critic_lr = 1e-2\n",
    "gamma = 0.98\n",
    "device = torch.device(\"cuda\") if torch.cuda.is_available() else torch.device( \"cpu\")\n",
    "agent = TRPO(hidden_dim, env.observation_space, env.action_space, lmbda, kl_constraint, alpha, critic_lr, gamma, device)\n",
    "\n",
    "num_episodes = 1200"
   ]
  },
  {
   "cell_type": "markdown",
   "id": "5e5116a00d9729",
   "metadata": {
    "collapsed": false
   },
   "source": [
    "### 测试与训练:"
   ]
  },
  {
   "cell_type": "code",
   "execution_count": 6,
   "id": "492cbc3dbdbb9b4f",
   "metadata": {
    "ExecuteTime": {
     "end_time": "2025-08-03T05:37:39.391877900Z",
     "start_time": "2025-08-03T05:36:43.646653900Z"
    },
    "collapsed": false
   },
   "outputs": [
    {
     "name": "stderr",
     "output_type": "stream",
     "text": [
      "Iteration 0: 100%|██████████| 120/120 [00:12<00:00,  9.67it/s, episode=120, return=34.000]\n",
      "Iteration 1: 100%|██████████| 120/120 [00:15<00:00,  7.90it/s, episode=240, return=52.300]\n",
      "Iteration 2: 100%|██████████| 120/120 [00:16<00:00,  7.15it/s, episode=360, return=71.400]\n",
      "Iteration 3: 100%|██████████| 120/120 [00:31<00:00,  3.81it/s, episode=480, return=217.100]\n",
      "Iteration 4: 100%|██████████| 120/120 [00:43<00:00,  2.79it/s, episode=600, return=297.300]\n",
      "Iteration 5: 100%|██████████| 120/120 [00:46<00:00,  2.58it/s, episode=720, return=324.200]\n",
      "Iteration 6: 100%|██████████| 120/120 [00:58<00:00,  2.07it/s, episode=840, return=402.700]\n",
      "Iteration 7: 100%|██████████| 120/120 [01:09<00:00,  1.73it/s, episode=960, return=498.900]\n",
      "Iteration 8: 100%|██████████| 120/120 [01:13<00:00,  1.62it/s, episode=1080, return=500.000]\n",
      "Iteration 9: 100%|██████████| 120/120 [01:16<00:00,  1.56it/s, episode=1200, return=500.000]\n"
     ]
    }
   ],
   "source": [
    "return_list = train_on_policy_agent(env, agent, num_episodes)"
   ]
  },
  {
   "cell_type": "markdown",
   "id": "8e490b8dc001aa72",
   "metadata": {
    "collapsed": false
   },
   "source": [
    "### 绘图："
   ]
  },
  {
   "cell_type": "code",
   "execution_count": 7,
   "id": "668eb9f2f19a7a98",
   "metadata": {
    "ExecuteTime": {
     "start_time": "2025-08-03T05:37:39.369866300Z"
    },
    "collapsed": false
   },
   "outputs": [],
   "source": [
    "import pandas as pd\n",
    "episodes_list = list(range(len(return_list)))\n",
    "mv_return = moving_average(return_list, 9)\n",
    "# 创建 DataFrame\n",
    "df1 = pd.DataFrame({'Episodes': episodes_list, 'Returns': return_list})\n",
    "df2 = pd.DataFrame({'Episodes': episodes_list, 'Returns': mv_return})\n",
    "# 保存为 CSV 文件\n",
    "df1.to_csv('TRPO_CartPole-v1_returns_data.csv', index=False)\n",
    "df2.to_csv('TRPO_CartPole-v1_mv_returns_data.csv', index=False)"
   ]
  },
  {
   "cell_type": "code",
   "execution_count": 10,
   "id": "d78e0f4cc87ad16",
   "metadata": {
    "ExecuteTime": {
     "start_time": "2025-08-03T05:37:39.372866500Z"
    },
    "collapsed": false
   },
   "outputs": [
    {
     "data": {
      "application/vnd.plotly.v1+json": {
       "config": {
        "plotlyServerURL": "https://plot.ly"
       },
       "data": [
        {
         "mode": "lines",
         "name": "Returns",
         "type": "scatter",
         "x": {
          "bdata": "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",
          "dtype": "i2"
         },
         "y": {
          "bdata": "AAAAAAAANUAAAAAAAAA4QAAAAAAAAChAAAAAAAAAM0AAAAAAAAAqQAAAAAAAADJAAAAAAAAAMUAAAAAAAIBCQAAAAAAAADRAAAAAAAAANUAAAAAAAAAsQAAAAAAAgEFAAAAAAAAAJEAAAAAAAAA0QAAAAAAAAChAAAAAAAAAOEAAAAAAAAA4QAAAAAAAADZAAAAAAAAAQEAAAAAAAABIQAAAAAAAgFFAAAAAAAAAO0AAAAAAAIBAQAAAAAAAAElAAAAAAAAAQUAAAAAAAIBLQAAAAAAAADtAAAAAAAAAM0AAAAAAAAA9QAAAAAAAAEJAAAAAAAAANUAAAAAAAABDQAAAAAAAADZAAAAAAACAQUAAAAAAAAA1QAAAAAAAADRAAAAAAAAARkAAAAAAAAAzQAAAAAAAADpAAAAAAAAAOUAAAAAAAAA4QAAAAAAAAD5AAAAAAACAQUAAAAAAAABCQAAAAAAAADNAAAAAAAAAQEAAAAAAAAAyQAAAAAAAAD1AAAAAAAAAP0AAAAAAAAA4QAAAAAAAADtAAAAAAAAANEAAAAAAAAAsQAAAAAAAAERAAAAAAAAAMUAAAAAAAIBCQAAAAAAAADpAAAAAAAAANUAAAAAAAAAqQAAAAAAAAD5AAAAAAAAAP0AAAAAAAAA/QAAAAAAAAEBAAAAAAAAAN0AAAAAAAAA2QAAAAAAAADVAAAAAAAAAOEAAAAAAAAA+QAAAAAAAAE1AAAAAAAAAPkAAAAAAAAAxQAAAAAAAADVAAAAAAAAAN0AAAAAAAAAmQAAAAAAAADdAAAAAAAAAMkAAAAAAAAA0QAAAAAAAADhAAAAAAAAAIkAAAAAAAAA5QAAAAAAAADNAAAAAAAAAOUAAAAAAAAA3QAAAAAAAADNAAAAAAAAAP0AAAAAAAAA4QAAAAAAAAEdAAAAAAAAAMUAAAAAAAABAQAAAAAAAAD9AAAAAAAAANkAAAAAAAAA5QAAAAAAAAEBAAAAAAAAAOUAAAAAAAAAkQAAAAAAAAD1AAAAAAAAATUAAAAAAAABNQAAAAAAAADtAAAAAAAAAN0AAAAAAAAA3QAAAAAAAgEFAAAAAAAAAQkAAAAAAAABBQAAAAAAAAD5AAAAAAAAARUAAAAAAAABAQAAAAAAAADtAAAAAAAAAP0AAAAAAAABJQAAAAAAAAEBAAAAAAACARUAAAAAAAIBBQAAAAAAAAD9AAAAAAAAAP0AAAAAAAAA7QAAAAAAAAEBAAAAAAACARkAAAAAAAIBBQAAAAAAAAD1AAAAAAACASkAAAAAAAABJQAAAAAAAAEJAAAAAAAAATEAAAAAAAIBJQAAAAAAAAEBAAAAAAAAAPUAAAAAAAABAQAAAAAAAADpAAAAAAAAAMUAAAAAAAABAQAAAAAAAgEpAAAAAAAAAPUAAAAAAAAA8QAAAAAAAAEVAAAAAAAAANUAAAAAAAABAQAAAAAAAgEFAAAAAAAAAQUAAAAAAAAA8QAAAAAAAADJAAAAAAACAQ0AAAAAAAABBQAAAAAAAAERAAAAAAACAQUAAAAAAAIBAQAAAAAAAgENAAAAAAACARUAAAAAAAIBMQAAAAAAAAEdAAAAAAACAQEAAAAAAAABHQAAAAAAAgEBAAAAAAAAAQUAAAAAAAABMQAAAAAAAAEtAAAAAAAAAT0AAAAAAAABAQAAAAAAAgEdAAAAAAAAAQEAAAAAAAABEQAAAAAAAgEVAAAAAAACARUAAAAAAAABAQAAAAAAAgEpAAAAAAACAQkAAAAAAAIBDQAAAAAAAADtAAAAAAAAASEAAAAAAAABHQAAAAAAAAERAAAAAAAAAQkAAAAAAAABEQAAAAAAAgEtAAAAAAAAARUAAAAAAAIBKQAAAAAAAgEhAAAAAAACAUUAAAAAAAAA/QAAAAAAAgEpAAAAAAAAAT0AAAAAAAIBJQAAAAAAAgEtAAAAAAAAASkAAAAAAAAA7QAAAAAAAgEJAAAAAAAAAQUAAAAAAAABIQAAAAAAAgEhAAAAAAACAQ0AAAAAAAIBCQAAAAAAAADRAAAAAAACAQEAAAAAAAAAzQAAAAAAAAD5AAAAAAAAAJEAAAAAAAIBGQAAAAAAAAEJAAAAAAAAAQkAAAAAAAAA8QAAAAAAAAEdAAAAAAACAQEAAAAAAAABDQAAAAAAAAENAAAAAAACAS0AAAAAAAAA6QAAAAAAAgEhAAAAAAAAAP0AAAAAAAAA/QAAAAAAAAD9AAAAAAAAAS0AAAAAAAAA+QAAAAAAAAEdAAAAAAAAAS0AAAAAAAAA+QAAAAAAAAExAAAAAAACASUAAAAAAAABFQAAAAAAAgEhAAAAAAAAAUEAAAAAAAABEQAAAAAAAAEtAAAAAAAAASUAAAAAAAABKQAAAAAAAAElAAAAAAACASUAAAAAAAABHQAAAAAAAAEVAAAAAAACARkAAAAAAAABGQAAAAAAAAEhAAAAAAAAAQUAAAAAAAIBIQAAAAAAAgEhAAAAAAAAATUAAAAAAAIBFQAAAAAAAgEtAAAAAAACAS0AAAAAAAABQQAAAAAAAAFFAAAAAAAAAQEAAAAAAAABKQAAAAAAAgEdAAAAAAACATEAAAAAAAABQQAAAAAAAgElAAAAAAADAUUAAAAAAAIBEQAAAAAAAAERAAAAAAAAASkAAAAAAAIBGQAAAAAAAgERAAAAAAACASEAAAAAAAIBGQAAAAAAAAEZAAAAAAAAAQEAAAAAAAABNQAAAAAAAAElAAAAAAACASUAAAAAAAIBCQAAAAAAAAE1AAAAAAAAAR0AAAAAAAABMQAAAAAAAAEdAAAAAAAAASEAAAAAAAMBVQAAAAAAAAEZAAAAAAAAASUAAAAAAAIBJQAAAAAAAgExAAAAAAACAQ0AAAAAAAABOQAAAAAAAgENAAAAAAAAARUAAAAAAAABGQAAAAAAAAERAAAAAAAAARkAAAAAAAIBIQAAAAAAAgEdAAAAAAACASUAAAAAAAIBTQAAAAAAAAEdAAAAAAACASUAAAAAAAABHQAAAAAAAgEVAAAAAAAAATEAAAAAAAABJQAAAAAAAgERAAAAAAACAR0AAAAAAAABRQAAAAAAAgE9AAAAAAACATEAAAAAAAIBOQAAAAAAAAEZAAAAAAAAAR0AAAAAAAABOQAAAAAAAAEdAAAAAAACAT0AAAAAAAABMQAAAAAAAAElAAAAAAAAATUAAAAAAAIBIQAAAAAAAgE9AAAAAAAAATUAAAAAAAABPQAAAAAAAgEtAAAAAAACATUAAAAAAAABPQAAAAAAAAEdAAAAAAABAUUAAAAAAAIBIQAAAAAAAAEVAAAAAAACATkAAAAAAAIBSQAAAAAAAAFBAAAAAAAAATUAAAAAAAIBQQAAAAAAAAExAAAAAAAAAUUAAAAAAAABOQAAAAAAAgERAAAAAAACATEAAAAAAAABNQAAAAAAAQFRAAAAAAAAAT0AAAAAAAABIQAAAAAAAgEFAAAAAAACASUAAAAAAAABKQAAAAAAAAEZAAAAAAAAARUAAAAAAAIBLQAAAAAAAAE1AAAAAAAAAUEAAAAAAAABJQAAAAAAAgEpAAAAAAADAUEAAAAAAAABPQAAAAAAAQFFAAAAAAAAAUUAAAAAAAEBQQAAAAAAAgE5AAAAAAAAATEAAAAAAAEBSQAAAAAAAgFBAAAAAAACAUEAAAAAAAABTQAAAAAAAgE5AAAAAAACAUEAAAAAAAABTQAAAAAAAwFJAAAAAAADAUkAAAAAAAABQQAAAAAAAQFNAAAAAAADAUUAAAAAAAIBSQAAAAAAAwFVAAAAAAACAR0AAAAAAAIBOQAAAAAAAwFRAAAAAAAAATUAAAAAAAIBSQAAAAAAAwFdAAAAAAACAVkAAAAAAAMBdQAAAAAAAAFdAAAAAAABAV0AAAAAAAEBVQAAAAAAAQFxAAAAAAACAVEAAAAAAAMBZQAAAAAAAAFxAAAAAAABAVkAAAAAAAGBgQAAAAAAAwFBAAAAAAABAVkAAAAAAAEBeQAAAAAAAgFBAAAAAAAAAXkAAAAAAAEBZQAAAAAAAwFlAAAAAAACAWEAAAAAAAABWQAAAAAAAwFhAAAAAAABAW0AAAAAAAEBaQAAAAAAAgFZAAAAAAABAXEAAAAAAAABaQAAAAAAAgFRAAAAAAADAU0AAAAAAAEBeQAAAAAAAAFlAAAAAAAAAXUAAAAAAAEBXQAAAAAAAoGBAAAAAAABAV0AAAAAAAIBYQAAAAAAAAF5AAAAAAACAWkAAAAAAAABdQAAAAAAAgFhAAAAAAAAAX0AAAAAAAEBbQAAAAAAAwFJAAAAAAADAXEAAAAAAAMBYQAAAAAAA4GBAAAAAAACgYEAAAAAAAIBeQAAAAAAAwF5AAAAAAABAYUAAAAAAAABkQAAAAAAAIGNAAAAAAACAYkAAAAAAACBgQAAAAAAAAGJAAAAAAADAYUAAAAAAAABZQAAAAAAA4GBAAAAAAACgYEAAAAAAAOBjQAAAAAAAAGJAAAAAAACgZkAAAAAAAIBkQAAAAAAA4GFAAAAAAAAgY0AAAAAAAGBjQAAAAAAAAGVAAAAAAACgYUAAAAAAACBkQAAAAAAAQGRAAAAAAABAaUAAAAAAAIBhQAAAAAAAAGNAAAAAAADgZUAAAAAAAKBmQAAAAAAA4GZAAAAAAACAZEAAAAAAAEBjQAAAAAAAgGtAAAAAAAAga0AAAAAAAABlQAAAAAAAoGpAAAAAAAAAX0AAAAAAAIBhQAAAAAAA4GlAAAAAAAAga0AAAAAAAMBrQAAAAAAAwGdAAAAAAABAW0AAAAAAAGBlQAAAAAAA4GtAAAAAAAAgakAAAAAAAMBqQAAAAAAA4GtAAAAAAADga0AAAAAAAGBoQAAAAAAAAGpAAAAAAACAakAAAAAAACBrQAAAAAAAIGtAAAAAAACgaUAAAAAAAABuQAAAAAAA4GpAAAAAAABgaUAAAAAAAEBrQAAAAAAAIGxAAAAAAAAAbkAAAAAAAOBqQAAAAAAAgGlAAAAAAACga0AAAAAAAOBpQAAAAAAA4GtAAAAAAABgaUAAAAAAAOBsQAAAAAAAIG1AAAAAAACgbEAAAAAAAMBqQAAAAAAAwGlAAAAAAAAgakAAAAAAAMBrQAAAAAAA4GpAAAAAAABgbUAAAAAAAEBrQAAAAAAAIGpAAAAAAAAgbEAAAAAAAMBrQAAAAAAAQGtAAAAAAAAga0AAAAAAAMBqQAAAAAAAAG1AAAAAAABAa0AAAAAAACBrQAAAAAAAgG1AAAAAAADga0AAAAAAACBuQAAAAAAAgGtAAAAAAACgbEAAAAAAAMBvQAAAAAAAAG1AAAAAAAAgbEAAAAAAAMBsQAAAAAAAQG1AAAAAAABAbUAAAAAAACBtQAAAAAAAwGpAAAAAAAAgbUAAAAAAACBsQAAAAAAAQGtAAAAAAACAa0AAAAAAAABtQAAAAAAA4GtAAAAAAABgbEAAAAAAAEBqQAAAAAAAwGxAAAAAAAAgbkAAAAAAAMBtQAAAAAAAAGtAAAAAAADga0AAAAAAAIBrQAAAAAAAgG9AAAAAAABgbEAAAAAAAKBtQAAAAAAA4GxAAAAAAAAAbUAAAAAAAMBuQAAAAAAAIG9AAAAAAADAbEAAAAAAAMBtQAAAAAAAQG1AAAAAAABgbUAAAAAAAGBvQAAAAAAAIG9AAAAAAABAcUAAAAAAAEBvQAAAAAAAoG9AAAAAAADgbUAAAAAAAOBwQAAAAAAAIHBAAAAAAAAAbEAAAAAAAKBwQAAAAAAAIG5AAAAAAAAgcUAAAAAAAMBuQAAAAAAAwG9AAAAAAABAcEAAAAAAAEBvQAAAAAAAoG1AAAAAAACwcEAAAAAAAFBxQAAAAAAAwG5AAAAAAADAcEAAAAAAAMBvQAAAAAAAwG1AAAAAAACAbUAAAAAAACBwQAAAAAAAEHBAAAAAAACgbkAAAAAAACBzQAAAAAAAAHBAAAAAAADAb0AAAAAAAKBvQAAAAAAAMHBAAAAAAABwcUAAAAAAAMBxQAAAAAAAUHJAAAAAAAAwcEAAAAAAAPBwQAAAAAAAUHlAAAAAAAAgckAAAAAAACBzQAAAAAAA4HFAAAAAAAAgckAAAAAAALBwQAAAAAAA4HJAAAAAAAAwckAAAAAAAHBwQAAAAAAAQG9AAAAAAAAAcEAAAAAAAIBvQAAAAAAAgGhAAAAAAABwc0AAAAAAAGBwQAAAAAAAYHFAAAAAAADgZ0AAAAAAAEBqQAAAAAAAcHNAAAAAAABgc0AAAAAAAMBXQAAAAAAA0HJAAAAAAADQdUAAAAAAAMBuQAAAAAAAQH9AAAAAAADAa0AAAAAAAPB2QAAAAAAAgHVAAAAAAAAAYkAAAAAAAEBmQAAAAAAAIHRAAAAAAABAeEAAAAAAAPByQAAAAAAAsHJAAAAAAADwc0AAAAAAAKB2QAAAAAAAIHlAAAAAAAAAYEAAAAAAAOBhQAAAAAAAgGFAAAAAAACAckAAAAAAAHB7QAAAAAAAwFlAAAAAAACQckAAAAAAAIBgQAAAAAAAwF5AAAAAAADAX0AAAAAAAEB3QAAAAAAAwF5AAAAAAACgYUAAAAAAACByQAAAAAAAIGRAAAAAAADAZkAAAAAAAPBxQAAAAAAAoGpAAAAAAABAX0AAAAAAAOByQAAAAAAAYGxAAAAAAAAgbUAAAAAAAGBtQAAAAAAAwFtAAAAAAADwcEAAAAAAACBxQAAAAAAAsHNAAAAAAABgcUAAAAAAAKBsQAAAAAAA4HJAAAAAAAAQckAAAAAAABBzQAAAAAAAgG9AAAAAAACAcEAAAAAAAHBwQAAAAAAAwGhAAAAAAACgdEAAAAAAAJB0QAAAAAAAQGpAAAAAAADgcEAAAAAAAAByQAAAAAAAkHVAAAAAAACAc0AAAAAAAIByQAAAAAAAYGxAAAAAAACAdUAAAAAAAAB2QAAAAAAAIHdAAAAAAACAc0AAAAAAAIBpQAAAAAAA8HJAAAAAAABwdEAAAAAAAPByQAAAAAAAgF9AAAAAAACgcUAAAAAAAEB0QAAAAAAAgGpAAAAAAAAweEAAAAAAAIBzQAAAAAAAUHpAAAAAAADgdkAAAAAAALB+QAAAAAAAQH9AAAAAAAAgcEAAAAAAAABvQAAAAAAA4HNAAAAAAABQcUAAAAAAAHByQAAAAAAAIG5AAAAAAAAgckAAAAAAAEBvQAAAAAAAQGlAAAAAAADAdUAAAAAAALBxQAAAAAAAIHJAAAAAAABgckAAAAAAAMBvQAAAAAAAoHFAAAAAAABge0AAAAAAAAByQAAAAAAAYHlAAAAAAAAwckAAAAAAAKBwQAAAAAAAkHFAAAAAAADgbEAAAAAAAOBxQAAAAAAAMHBAAAAAAACwckAAAAAAACBuQAAAAAAAYHdAAAAAAAAgakAAAAAAAMBvQAAAAAAAoG1AAAAAAADwc0AAAAAAAABzQAAAAAAAYHlAAAAAAAAAaEAAAAAAAPBwQAAAAAAA0HFAAAAAAADAbUAAAAAAAGBpQAAAAAAAQHJAAAAAAABQeUAAAAAAAEB2QAAAAAAA0HVAAAAAAAAAcEAAAAAAAGB0QAAAAAAAwHFAAAAAAABAdUAAAAAAAIBpQAAAAAAAIHZAAAAAAACwd0AAAAAAAOBxQAAAAAAAAH1AAAAAAADAb0AAAAAAAEB/QAAAAAAAwHdAAAAAAADQekAAAAAAALB0QAAAAAAAQH9AAAAAAAAQdkAAAAAAAOBzQAAAAAAAQHRAAAAAAAAgdUAAAAAAANB1QAAAAAAAQH9AAAAAAABQckAAAAAAACByQAAAAAAAQHNAAAAAAACQd0AAAAAAAOB2QAAAAAAAwHZAAAAAAACQc0AAAAAAAAB6QAAAAAAAAHVAAAAAAACwc0AAAAAAAMBwQAAAAAAAQHlAAAAAAAAQdkAAAAAAAEByQAAAAAAAcHRAAAAAAACweEAAAAAAADB2QAAAAAAAsHNAAAAAAACQdUAAAAAAAEBxQAAAAAAAgHdAAAAAAAAAdkAAAAAAAEB/QAAAAAAAEHRAAAAAAACweUAAAAAAADB1QAAAAAAA8HVAAAAAAADwdEAAAAAAACB3QAAAAAAAAHJAAAAAAABQd0AAAAAAADB5QAAAAAAAQH9AAAAAAADwdUAAAAAAAGB3QAAAAAAAQHtAAAAAAADAeUAAAAAAACBtQAAAAAAAUHlAAAAAAACwdEAAAAAAAOB5QAAAAAAAwHRAAAAAAACwc0AAAAAAAJB8QAAAAAAAwHlAAAAAAADAd0AAAAAAABBzQAAAAAAA8HFAAAAAAADgeUAAAAAAAMB3QAAAAAAAQHBAAAAAAABwcUAAAAAAADBzQAAAAAAAUHZAAAAAAAAAeEAAAAAAABB4QAAAAAAAAHNAAAAAAADQd0AAAAAAALBzQAAAAAAAsHdAAAAAAACQcUAAAAAAABBzQAAAAAAA4HRAAAAAAABwcUAAAAAAANB1QAAAAAAAoHRAAAAAAACAeUAAAAAAANBzQAAAAAAAYHRAAAAAAACQd0AAAAAAAMBzQAAAAAAAUHNAAAAAAADgfkAAAAAAAEB/QAAAAAAAAHFAAAAAAAAwe0AAAAAAANByQAAAAAAAwHVAAAAAAAAgdkAAAAAAACB0QAAAAAAA8H5AAAAAAAAQd0AAAAAAAEB/QAAAAAAAcHVAAAAAAADwcUAAAAAAACBzQAAAAAAAoHRAAAAAAACwcEAAAAAAAOB9QAAAAAAAYHNAAAAAAABAf0AAAAAAAIByQAAAAAAAkH1AAAAAAAAAeEAAAAAAAJBxQAAAAAAAUHVAAAAAAACwdUAAAAAAAJB0QAAAAAAAgHZAAAAAAAAQdkAAAAAAAOB2QAAAAAAAQH9AAAAAAADgc0AAAAAAAJB8QAAAAAAAgHRAAAAAAAAgeUAAAAAAAEB/QAAAAAAAsHtAAAAAAADAekAAAAAAACB1QAAAAAAAwHtAAAAAAABQe0AAAAAAAHB6QAAAAAAAQH9AAAAAAADAcEAAAAAAAEB/QAAAAAAAQH9AAAAAAAAgaUAAAAAAAEBoQAAAAAAAsHVAAAAAAADQeUAAAAAAAGB7QAAAAAAAUH1AAAAAAADgdEAAAAAAAKBpQAAAAAAAYGpAAAAAAADAdkAAAAAAAEB/QAAAAAAAQH9AAAAAAAAwd0AAAAAAAGB2QAAAAAAA4HhAAAAAAABAf0AAAAAAAEB/QAAAAAAAQH9AAAAAAACgdkAAAAAAAMB0QAAAAAAAQGtAAAAAAABAf0AAAAAAAEB/QAAAAAAAQH9AAAAAAAAgd0AAAAAAAEB/QAAAAAAAIH5AAAAAAABAf0AAAAAAAKB3QAAAAAAAQH9AAAAAAABAf0AAAAAAAJB0QAAAAAAAwH1AAAAAAAAQdUAAAAAAACB3QAAAAAAAQH9AAAAAAABAf0AAAAAAAEB/QAAAAAAAQG1AAAAAAABAb0AAAAAAAGB6QAAAAAAAIHZAAAAAAADQe0AAAAAAAEB/QAAAAAAAkHJAAAAAAADAcUAAAAAAAEB6QAAAAAAAsHxAAAAAAABQcEAAAAAAALB2QAAAAAAA0HdAAAAAAACQfEAAAAAAAEB5QAAAAAAAQH9AAAAAAABQekAAAAAAAKB+QAAAAAAA0HxAAAAAAADwekAAAAAAAAB7QAAAAAAAsHdAAAAAAACQd0AAAAAAAGB6QAAAAAAAQH9AAAAAAACgaUAAAAAAAEB/QAAAAAAAgHBAAAAAAABweEAAAAAAAEB/QAAAAAAAQH9AAAAAAABAf0AAAAAAAEB/QAAAAAAAQH9AAAAAAABAf0AAAAAAAEB/QAAAAAAAQH9AAAAAAABAf0AAAAAAAEB/QAAAAAAAQH9AAAAAAABAf0AAAAAAAEB/QAAAAAAAQH9AAAAAAABAf0AAAAAAAEB/QAAAAAAAQH9AAAAAAABAf0AAAAAAAEB/QAAAAAAAQH9AAAAAAABAf0AAAAAAAEB/QAAAAAAAQH9AAAAAAABAf0AAAAAAAEB/QAAAAAAAQH9AAAAAAABAf0AAAAAAAEB/QAAAAAAAQH9AAAAAAABAf0AAAAAAAEB/QAAAAAAAQH9AAAAAAABAf0AAAAAAAEB/QAAAAAAAkH5AAAAAAABAf0AAAAAAAEB/QAAAAAAAQH9AAAAAAABAf0AAAAAAAEB/QAAAAAAAQH9AAAAAAABAf0AAAAAAAEB/QAAAAAAAQH9AAAAAAABAf0AAAAAAAEB/QAAAAAAAQH9AAAAAAABAf0AAAAAAAEB/QAAAAAAAQH9AAAAAAABAf0AAAAAAAEB/QAAAAAAAQH9AAAAAAABAf0AAAAAAAEB/QAAAAAAAQH9AAAAAAABAf0AAAAAAAEB4QAAAAAAAQH9AAAAAAACwfEAAAAAAAEB/QAAAAAAAQH9AAAAAAABAf0AAAAAAAEB/QAAAAAAAQH9AAAAAAABAf0AAAAAAAEB4QAAAAAAAwHZAAAAAAACAdEAAAAAAAEB/QAAAAAAAEH1AAAAAAAAAfkAAAAAAACBsQAAAAAAAkHxAAAAAAACAeUAAAAAAAFB5QAAAAAAAQH5AAAAAAADgekAAAAAAAEB/QAAAAAAAQH1AAAAAAABAf0AAAAAAACB7QAAAAAAAQH9AAAAAAABAf0AAAAAAAEB/QAAAAAAAQH9AAAAAAABAf0AAAAAAAEB/QAAAAAAAQH9AAAAAAABAf0AAAAAAAEB/QAAAAAAAQH9AAAAAAABAf0AAAAAAAEB/QAAAAAAAYH5AAAAAAABAf0AAAAAAAEB/QAAAAAAAQH9AAAAAAABAf0AAAAAAAEB/QAAAAAAAQH9AAAAAAABAf0AAAAAAAEB/QAAAAAAAQH9AAAAAAABAf0AAAAAAAEB/QAAAAAAAQH9AAAAAAABAf0AAAAAAAEB/QAAAAAAAQH9AAAAAAABAf0AAAAAAAEB/QAAAAAAAgGhAAAAAAAAAaEAAAAAAAEB/QAAAAAAAQH9AAAAAAABAf0AAAAAAAAAoQAAAAAAAQH9AAAAAAABAf0AAAAAAAEB/QAAAAAAAQH9AAAAAAABAf0AAAAAAAEB/QAAAAAAAQH9AAAAAAABAf0AAAAAAAEB/QAAAAAAAQH9AAAAAAABAf0AAAAAAAEB/QAAAAAAAQH9AAAAAAABAf0AAAAAAAEB/QAAAAAAAQH9AAAAAAABAf0AAAAAAAEB/QAAAAAAAQH9AAAAAAABAf0AAAAAAAEB/QAAAAAAAQH9AAAAAAABAf0AAAAAAAEB/QAAAAAAAQH9AAAAAAABAf0AAAAAAAEB/QAAAAAAAQH9AAAAAAABAf0AAAAAAAEB/QAAAAAAAQH9AAAAAAABAf0AAAAAAAEB/QAAAAAAAQH9AAAAAAABAf0AAAAAAAEB/QAAAAAAAQH9AAAAAAABAf0AAAAAAAEB/QAAAAAAAQH9AAAAAAABAf0AAAAAAAEB/QAAAAAAAQH9AAAAAAABAf0AAAAAAAEB/QAAAAAAAQH9AAAAAAABAf0AAAAAAAEB/QAAAAAAAQH9AAAAAAABAf0AAAAAAAEB/QAAAAAAAQH9AAAAAAABAf0AAAAAAAEB/QAAAAAAAQH9AAAAAAABAf0AAAAAAAEB/QAAAAAAAQH9AAAAAAABAf0AAAAAAAEB/QAAAAAAAQH9AAAAAAABAf0AAAAAAAEB/QAAAAAAAQH9AAAAAAABAf0AAAAAAAEB/QAAAAAAAQH9AAAAAAABAf0AAAAAAAEB/QAAAAAAAQH9AAAAAAABAf0AAAAAAAEB/QAAAAAAAQH9AAAAAAABAf0AAAAAAAEB/QAAAAAAAQH9AAAAAAABAf0AAAAAAAEB/QAAAAAAAQH9AAAAAAABAf0AAAAAAAEB/QAAAAAAAQH9AAAAAAABAf0AAAAAAAEB/QAAAAAAAQH9AAAAAAABAf0AAAAAAAEB/QAAAAAAAQH9AAAAAAABAf0AAAAAAAEB/QAAAAAAAQH9AAAAAAABAf0AAAAAAAEB/QAAAAAAAQH9AAAAAAABAf0AAAAAAAEB/QAAAAAAAQH9AAAAAAABAf0AAAAAAAEB/QAAAAAAAQH9AAAAAAABAf0AAAAAAAEB/QAAAAAAAQH9AAAAAAABAf0AAAAAAAEB/QAAAAAAAQH9AAAAAAABAf0AAAAAAAEB/QAAAAAAAQH9AAAAAAABAf0AAAAAAAEB/QAAAAAAAQH9AAAAAAABAf0AAAAAAAEB/QAAAAAAAQH9AAAAAAABAf0AAAAAAAEB/QAAAAAAAQH9AAAAAAABAf0AAAAAAAEB/QAAAAAAAQH9AAAAAAABAf0AAAAAAAEB/QAAAAAAAQH9AAAAAAABAf0AAAAAAAEB/QAAAAAAAQH9AAAAAAABAf0AAAAAAAEB/QAAAAAAAQH9AAAAAAABAf0AAAAAAAEB/QAAAAAAAQH9AAAAAAABAf0AAAAAAAEB/QAAAAAAAQH9AAAAAAABAf0AAAAAAAEB/QAAAAAAAQH9AAAAAAABAf0AAAAAAAEB/QAAAAAAAQH9AAAAAAABAf0AAAAAAAEB/QAAAAAAAQH9AAAAAAABAf0AAAAAAAEB/QAAAAAAAQH9AAAAAAABAf0AAAAAAAEB/QAAAAAAAQH9AAAAAAABAf0AAAAAAAEB/QAAAAAAAQH9AAAAAAABAf0AAAAAAAEB/QAAAAAAAQH9AAAAAAABAf0AAAAAAAEB/QAAAAAAAQH9AAAAAAABAf0AAAAAAAEB/QAAAAAAAQH9AAAAAAABAf0AAAAAAAEB/QAAAAAAAQH9A",
          "dtype": "f8"
         }
        }
       ],
       "layout": {
        "showlegend": true,
        "template": {
         "data": {
          "bar": [
           {
            "error_x": {
             "color": "#2a3f5f"
            },
            "error_y": {
             "color": "#2a3f5f"
            },
            "marker": {
             "line": {
              "color": "#E5ECF6",
              "width": 0.5
             },
             "pattern": {
              "fillmode": "overlay",
              "size": 10,
              "solidity": 0.2
             }
            },
            "type": "bar"
           }
          ],
          "barpolar": [
           {
            "marker": {
             "line": {
              "color": "#E5ECF6",
              "width": 0.5
             },
             "pattern": {
              "fillmode": "overlay",
              "size": 10,
              "solidity": 0.2
             }
            },
            "type": "barpolar"
           }
          ],
          "carpet": [
           {
            "aaxis": {
             "endlinecolor": "#2a3f5f",
             "gridcolor": "white",
             "linecolor": "white",
             "minorgridcolor": "white",
             "startlinecolor": "#2a3f5f"
            },
            "baxis": {
             "endlinecolor": "#2a3f5f",
             "gridcolor": "white",
             "linecolor": "white",
             "minorgridcolor": "white",
             "startlinecolor": "#2a3f5f"
            },
            "type": "carpet"
           }
          ],
          "choropleth": [
           {
            "colorbar": {
             "outlinewidth": 0,
             "ticks": ""
            },
            "type": "choropleth"
           }
          ],
          "contour": [
           {
            "colorbar": {
             "outlinewidth": 0,
             "ticks": ""
            },
            "colorscale": [
             [
              0,
              "#0d0887"
             ],
             [
              0.1111111111111111,
              "#46039f"
             ],
             [
              0.2222222222222222,
              "#7201a8"
             ],
             [
              0.3333333333333333,
              "#9c179e"
             ],
             [
              0.4444444444444444,
              "#bd3786"
             ],
             [
              0.5555555555555556,
              "#d8576b"
             ],
             [
              0.6666666666666666,
              "#ed7953"
             ],
             [
              0.7777777777777778,
              "#fb9f3a"
             ],
             [
              0.8888888888888888,
              "#fdca26"
             ],
             [
              1,
              "#f0f921"
             ]
            ],
            "type": "contour"
           }
          ],
          "contourcarpet": [
           {
            "colorbar": {
             "outlinewidth": 0,
             "ticks": ""
            },
            "type": "contourcarpet"
           }
          ],
          "heatmap": [
           {
            "colorbar": {
             "outlinewidth": 0,
             "ticks": ""
            },
            "colorscale": [
             [
              0,
              "#0d0887"
             ],
             [
              0.1111111111111111,
              "#46039f"
             ],
             [
              0.2222222222222222,
              "#7201a8"
             ],
             [
              0.3333333333333333,
              "#9c179e"
             ],
             [
              0.4444444444444444,
              "#bd3786"
             ],
             [
              0.5555555555555556,
              "#d8576b"
             ],
             [
              0.6666666666666666,
              "#ed7953"
             ],
             [
              0.7777777777777778,
              "#fb9f3a"
             ],
             [
              0.8888888888888888,
              "#fdca26"
             ],
             [
              1,
              "#f0f921"
             ]
            ],
            "type": "heatmap"
           }
          ],
          "histogram": [
           {
            "marker": {
             "pattern": {
              "fillmode": "overlay",
              "size": 10,
              "solidity": 0.2
             }
            },
            "type": "histogram"
           }
          ],
          "histogram2d": [
           {
            "colorbar": {
             "outlinewidth": 0,
             "ticks": ""
            },
            "colorscale": [
             [
              0,
              "#0d0887"
             ],
             [
              0.1111111111111111,
              "#46039f"
             ],
             [
              0.2222222222222222,
              "#7201a8"
             ],
             [
              0.3333333333333333,
              "#9c179e"
             ],
             [
              0.4444444444444444,
              "#bd3786"
             ],
             [
              0.5555555555555556,
              "#d8576b"
             ],
             [
              0.6666666666666666,
              "#ed7953"
             ],
             [
              0.7777777777777778,
              "#fb9f3a"
             ],
             [
              0.8888888888888888,
              "#fdca26"
             ],
             [
              1,
              "#f0f921"
             ]
            ],
            "type": "histogram2d"
           }
          ],
          "histogram2dcontour": [
           {
            "colorbar": {
             "outlinewidth": 0,
             "ticks": ""
            },
            "colorscale": [
             [
              0,
              "#0d0887"
             ],
             [
              0.1111111111111111,
              "#46039f"
             ],
             [
              0.2222222222222222,
              "#7201a8"
             ],
             [
              0.3333333333333333,
              "#9c179e"
             ],
             [
              0.4444444444444444,
              "#bd3786"
             ],
             [
              0.5555555555555556,
              "#d8576b"
             ],
             [
              0.6666666666666666,
              "#ed7953"
             ],
             [
              0.7777777777777778,
              "#fb9f3a"
             ],
             [
              0.8888888888888888,
              "#fdca26"
             ],
             [
              1,
              "#f0f921"
             ]
            ],
            "type": "histogram2dcontour"
           }
          ],
          "mesh3d": [
           {
            "colorbar": {
             "outlinewidth": 0,
             "ticks": ""
            },
            "type": "mesh3d"
           }
          ],
          "parcoords": [
           {
            "line": {
             "colorbar": {
              "outlinewidth": 0,
              "ticks": ""
             }
            },
            "type": "parcoords"
           }
          ],
          "pie": [
           {
            "automargin": true,
            "type": "pie"
           }
          ],
          "scatter": [
           {
            "fillpattern": {
             "fillmode": "overlay",
             "size": 10,
             "solidity": 0.2
            },
            "type": "scatter"
           }
          ],
          "scatter3d": [
           {
            "line": {
             "colorbar": {
              "outlinewidth": 0,
              "ticks": ""
             }
            },
            "marker": {
             "colorbar": {
              "outlinewidth": 0,
              "ticks": ""
             }
            },
            "type": "scatter3d"
           }
          ],
          "scattercarpet": [
           {
            "marker": {
             "colorbar": {
              "outlinewidth": 0,
              "ticks": ""
             }
            },
            "type": "scattercarpet"
           }
          ],
          "scattergeo": [
           {
            "marker": {
             "colorbar": {
              "outlinewidth": 0,
              "ticks": ""
             }
            },
            "type": "scattergeo"
           }
          ],
          "scattergl": [
           {
            "marker": {
             "colorbar": {
              "outlinewidth": 0,
              "ticks": ""
             }
            },
            "type": "scattergl"
           }
          ],
          "scattermap": [
           {
            "marker": {
             "colorbar": {
              "outlinewidth": 0,
              "ticks": ""
             }
            },
            "type": "scattermap"
           }
          ],
          "scattermapbox": [
           {
            "marker": {
             "colorbar": {
              "outlinewidth": 0,
              "ticks": ""
             }
            },
            "type": "scattermapbox"
           }
          ],
          "scatterpolar": [
           {
            "marker": {
             "colorbar": {
              "outlinewidth": 0,
              "ticks": ""
             }
            },
            "type": "scatterpolar"
           }
          ],
          "scatterpolargl": [
           {
            "marker": {
             "colorbar": {
              "outlinewidth": 0,
              "ticks": ""
             }
            },
            "type": "scatterpolargl"
           }
          ],
          "scatterternary": [
           {
            "marker": {
             "colorbar": {
              "outlinewidth": 0,
              "ticks": ""
             }
            },
            "type": "scatterternary"
           }
          ],
          "surface": [
           {
            "colorbar": {
             "outlinewidth": 0,
             "ticks": ""
            },
            "colorscale": [
             [
              0,
              "#0d0887"
             ],
             [
              0.1111111111111111,
              "#46039f"
             ],
             [
              0.2222222222222222,
              "#7201a8"
             ],
             [
              0.3333333333333333,
              "#9c179e"
             ],
             [
              0.4444444444444444,
              "#bd3786"
             ],
             [
              0.5555555555555556,
              "#d8576b"
             ],
             [
              0.6666666666666666,
              "#ed7953"
             ],
             [
              0.7777777777777778,
              "#fb9f3a"
             ],
             [
              0.8888888888888888,
              "#fdca26"
             ],
             [
              1,
              "#f0f921"
             ]
            ],
            "type": "surface"
           }
          ],
          "table": [
           {
            "cells": {
             "fill": {
              "color": "#EBF0F8"
             },
             "line": {
              "color": "white"
             }
            },
            "header": {
             "fill": {
              "color": "#C8D4E3"
             },
             "line": {
              "color": "white"
             }
            },
            "type": "table"
           }
          ]
         },
         "layout": {
          "annotationdefaults": {
           "arrowcolor": "#2a3f5f",
           "arrowhead": 0,
           "arrowwidth": 1
          },
          "autotypenumbers": "strict",
          "coloraxis": {
           "colorbar": {
            "outlinewidth": 0,
            "ticks": ""
           }
          },
          "colorscale": {
           "diverging": [
            [
             0,
             "#8e0152"
            ],
            [
             0.1,
             "#c51b7d"
            ],
            [
             0.2,
             "#de77ae"
            ],
            [
             0.3,
             "#f1b6da"
            ],
            [
             0.4,
             "#fde0ef"
            ],
            [
             0.5,
             "#f7f7f7"
            ],
            [
             0.6,
             "#e6f5d0"
            ],
            [
             0.7,
             "#b8e186"
            ],
            [
             0.8,
             "#7fbc41"
            ],
            [
             0.9,
             "#4d9221"
            ],
            [
             1,
             "#276419"
            ]
           ],
           "sequential": [
            [
             0,
             "#0d0887"
            ],
            [
             0.1111111111111111,
             "#46039f"
            ],
            [
             0.2222222222222222,
             "#7201a8"
            ],
            [
             0.3333333333333333,
             "#9c179e"
            ],
            [
             0.4444444444444444,
             "#bd3786"
            ],
            [
             0.5555555555555556,
             "#d8576b"
            ],
            [
             0.6666666666666666,
             "#ed7953"
            ],
            [
             0.7777777777777778,
             "#fb9f3a"
            ],
            [
             0.8888888888888888,
             "#fdca26"
            ],
            [
             1,
             "#f0f921"
            ]
           ],
           "sequentialminus": [
            [
             0,
             "#0d0887"
            ],
            [
             0.1111111111111111,
             "#46039f"
            ],
            [
             0.2222222222222222,
             "#7201a8"
            ],
            [
             0.3333333333333333,
             "#9c179e"
            ],
            [
             0.4444444444444444,
             "#bd3786"
            ],
            [
             0.5555555555555556,
             "#d8576b"
            ],
            [
             0.6666666666666666,
             "#ed7953"
            ],
            [
             0.7777777777777778,
             "#fb9f3a"
            ],
            [
             0.8888888888888888,
             "#fdca26"
            ],
            [
             1,
             "#f0f921"
            ]
           ]
          },
          "colorway": [
           "#636efa",
           "#EF553B",
           "#00cc96",
           "#ab63fa",
           "#FFA15A",
           "#19d3f3",
           "#FF6692",
           "#B6E880",
           "#FF97FF",
           "#FECB52"
          ],
          "font": {
           "color": "#2a3f5f"
          },
          "geo": {
           "bgcolor": "white",
           "lakecolor": "white",
           "landcolor": "#E5ECF6",
           "showlakes": true,
           "showland": true,
           "subunitcolor": "white"
          },
          "hoverlabel": {
           "align": "left"
          },
          "hovermode": "closest",
          "mapbox": {
           "style": "light"
          },
          "paper_bgcolor": "white",
          "plot_bgcolor": "#E5ECF6",
          "polar": {
           "angularaxis": {
            "gridcolor": "white",
            "linecolor": "white",
            "ticks": ""
           },
           "bgcolor": "#E5ECF6",
           "radialaxis": {
            "gridcolor": "white",
            "linecolor": "white",
            "ticks": ""
           }
          },
          "scene": {
           "xaxis": {
            "backgroundcolor": "#E5ECF6",
            "gridcolor": "white",
            "gridwidth": 2,
            "linecolor": "white",
            "showbackground": true,
            "ticks": "",
            "zerolinecolor": "white"
           },
           "yaxis": {
            "backgroundcolor": "#E5ECF6",
            "gridcolor": "white",
            "gridwidth": 2,
            "linecolor": "white",
            "showbackground": true,
            "ticks": "",
            "zerolinecolor": "white"
           },
           "zaxis": {
            "backgroundcolor": "#E5ECF6",
            "gridcolor": "white",
            "gridwidth": 2,
            "linecolor": "white",
            "showbackground": true,
            "ticks": "",
            "zerolinecolor": "white"
           }
          },
          "shapedefaults": {
           "line": {
            "color": "#2a3f5f"
           }
          },
          "ternary": {
           "aaxis": {
            "gridcolor": "white",
            "linecolor": "white",
            "ticks": ""
           },
           "baxis": {
            "gridcolor": "white",
            "linecolor": "white",
            "ticks": ""
           },
           "bgcolor": "#E5ECF6",
           "caxis": {
            "gridcolor": "white",
            "linecolor": "white",
            "ticks": ""
           }
          },
          "title": {
           "x": 0.05
          },
          "xaxis": {
           "automargin": true,
           "gridcolor": "white",
           "linecolor": "white",
           "ticks": "",
           "title": {
            "standoff": 15
           },
           "zerolinecolor": "white",
           "zerolinewidth": 2
          },
          "yaxis": {
           "automargin": true,
           "gridcolor": "white",
           "linecolor": "white",
           "ticks": "",
           "title": {
            "standoff": 15
           },
           "zerolinecolor": "white",
           "zerolinewidth": 2
          }
         }
        },
        "title": {
         "text": "TRPO on CartPole-v1"
        },
        "xaxis": {
         "title": {
          "text": "Episodes"
         }
        },
        "yaxis": {
         "title": {
          "text": "Returns"
         }
        }
       }
      },
      "image/png": "[encoded data removed]"
     },
     "metadata": {},
     "output_type": "display_data"
    }
   ],
   "source": [
    "import plotly.graph_objects as go\n",
    "import pandas as pd\n",
    "df = pd.read_csv('TRPO_CartPole-v1_returns_data.csv')  # 从 CSV 文件中读取数据\n",
    "fig = go.Figure()\n",
    "fig.add_trace(go.Scatter(x=df['Episodes'], y=df['Returns'], mode='lines', name='Returns'))\n",
    "fig.update_layout(\n",
    "    title='TRPO on CartPole-v1',\n",
    "    xaxis_title='Episodes',\n",
    "    yaxis_title='Returns',\n",
    "    showlegend=True\n",
    ")\n",
    "fig.show()"
   ]
  },
  {
   "cell_type": "code",
   "execution_count": 11,
   "id": "f9c62f18d60963c",
   "metadata": {
    "ExecuteTime": {
     "start_time": "2025-08-03T05:37:39.374867300Z"
    },
    "collapsed": false
   },
   "outputs": [
    {
     "data": {
      "application/vnd.plotly.v1+json": {
       "config": {
        "plotlyServerURL": "https://plot.ly"
       },
       "data": [
        {
         "mode": "lines",
         "name": "Returns",
         "type": "scatter",
         "x": {
          "bdata": "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",
          "dtype": "i2"
         },
         "y": {
          "bdata": "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",
          "dtype": "f8"
         }
        }
       ],
       "layout": {
        "showlegend": true,
        "template": {
         "data": {
          "bar": [
           {
            "error_x": {
             "color": "#2a3f5f"
            },
            "error_y": {
             "color": "#2a3f5f"
            },
            "marker": {
             "line": {
              "color": "#E5ECF6",
              "width": 0.5
             },
             "pattern": {
              "fillmode": "overlay",
              "size": 10,
              "solidity": 0.2
             }
            },
            "type": "bar"
           }
          ],
          "barpolar": [
           {
            "marker": {
             "line": {
              "color": "#E5ECF6",
              "width": 0.5
             },
             "pattern": {
              "fillmode": "overlay",
              "size": 10,
              "solidity": 0.2
             }
            },
            "type": "barpolar"
           }
          ],
          "carpet": [
           {
            "aaxis": {
             "endlinecolor": "#2a3f5f",
             "gridcolor": "white",
             "linecolor": "white",
             "minorgridcolor": "white",
             "startlinecolor": "#2a3f5f"
            },
            "baxis": {
             "endlinecolor": "#2a3f5f",
             "gridcolor": "white",
             "linecolor": "white",
             "minorgridcolor": "white",
             "startlinecolor": "#2a3f5f"
            },
            "type": "carpet"
           }
          ],
          "choropleth": [
           {
            "colorbar": {
             "outlinewidth": 0,
             "ticks": ""
            },
            "type": "choropleth"
           }
          ],
          "contour": [
           {
            "colorbar": {
             "outlinewidth": 0,
             "ticks": ""
            },
            "colorscale": [
             [
              0,
              "#0d0887"
             ],
             [
              0.1111111111111111,
              "#46039f"
             ],
             [
              0.2222222222222222,
              "#7201a8"
             ],
             [
              0.3333333333333333,
              "#9c179e"
             ],
             [
              0.4444444444444444,
              "#bd3786"
             ],
             [
              0.5555555555555556,
              "#d8576b"
             ],
             [
              0.6666666666666666,
              "#ed7953"
             ],
             [
              0.7777777777777778,
              "#fb9f3a"
             ],
             [
              0.8888888888888888,
              "#fdca26"
             ],
             [
              1,
              "#f0f921"
             ]
            ],
            "type": "contour"
           }
          ],
          "contourcarpet": [
           {
            "colorbar": {
             "outlinewidth": 0,
             "ticks": ""
            },
            "type": "contourcarpet"
           }
          ],
          "heatmap": [
           {
            "colorbar": {
             "outlinewidth": 0,
             "ticks": ""
            },
            "colorscale": [
             [
              0,
              "#0d0887"
             ],
             [
              0.1111111111111111,
              "#46039f"
             ],
             [
              0.2222222222222222,
              "#7201a8"
             ],
             [
              0.3333333333333333,
              "#9c179e"
             ],
             [
              0.4444444444444444,
              "#bd3786"
             ],
             [
              0.5555555555555556,
              "#d8576b"
             ],
             [
              0.6666666666666666,
              "#ed7953"
             ],
             [
              0.7777777777777778,
              "#fb9f3a"
             ],
             [
              0.8888888888888888,
              "#fdca26"
             ],
             [
              1,
              "#f0f921"
             ]
            ],
            "type": "heatmap"
           }
          ],
          "histogram": [
           {
            "marker": {
             "pattern": {
              "fillmode": "overlay",
              "size": 10,
              "solidity": 0.2
             }
            },
            "type": "histogram"
           }
          ],
          "histogram2d": [
           {
            "colorbar": {
             "outlinewidth": 0,
             "ticks": ""
            },
            "colorscale": [
             [
              0,
              "#0d0887"
             ],
             [
              0.1111111111111111,
              "#46039f"
             ],
             [
              0.2222222222222222,
              "#7201a8"
             ],
             [
              0.3333333333333333,
              "#9c179e"
             ],
             [
              0.4444444444444444,
              "#bd3786"
             ],
             [
              0.5555555555555556,
              "#d8576b"
             ],
             [
              0.6666666666666666,
              "#ed7953"
             ],
             [
              0.7777777777777778,
              "#fb9f3a"
             ],
             [
              0.8888888888888888,
              "#fdca26"
             ],
             [
              1,
              "#f0f921"
             ]
            ],
            "type": "histogram2d"
           }
          ],
          "histogram2dcontour": [
           {
            "colorbar": {
             "outlinewidth": 0,
             "ticks": ""
            },
            "colorscale": [
             [
              0,
              "#0d0887"
             ],
             [
              0.1111111111111111,
              "#46039f"
             ],
             [
              0.2222222222222222,
              "#7201a8"
             ],
             [
              0.3333333333333333,
              "#9c179e"
             ],
             [
              0.4444444444444444,
              "#bd3786"
             ],
             [
              0.5555555555555556,
              "#d8576b"
             ],
             [
              0.6666666666666666,
              "#ed7953"
             ],
             [
              0.7777777777777778,
              "#fb9f3a"
             ],
             [
              0.8888888888888888,
              "#fdca26"
             ],
             [
              1,
              "#f0f921"
             ]
            ],
            "type": "histogram2dcontour"
           }
          ],
          "mesh3d": [
           {
            "colorbar": {
             "outlinewidth": 0,
             "ticks": ""
            },
            "type": "mesh3d"
           }
          ],
          "parcoords": [
           {
            "line": {
             "colorbar": {
              "outlinewidth": 0,
              "ticks": ""
             }
            },
            "type": "parcoords"
           }
          ],
          "pie": [
           {
            "automargin": true,
            "type": "pie"
           }
          ],
          "scatter": [
           {
            "fillpattern": {
             "fillmode": "overlay",
             "size": 10,
             "solidity": 0.2
            },
            "type": "scatter"
           }
          ],
          "scatter3d": [
           {
            "line": {
             "colorbar": {
              "outlinewidth": 0,
              "ticks": ""
             }
            },
            "marker": {
             "colorbar": {
              "outlinewidth": 0,
              "ticks": ""
             }
            },
            "type": "scatter3d"
           }
          ],
          "scattercarpet": [
           {
            "marker": {
             "colorbar": {
              "outlinewidth": 0,
              "ticks": ""
             }
            },
            "type": "scattercarpet"
           }
          ],
          "scattergeo": [
           {
            "marker": {
             "colorbar": {
              "outlinewidth": 0,
              "ticks": ""
             }
            },
            "type": "scattergeo"
           }
          ],
          "scattergl": [
           {
            "marker": {
             "colorbar": {
              "outlinewidth": 0,
              "ticks": ""
             }
            },
            "type": "scattergl"
           }
          ],
          "scattermap": [
           {
            "marker": {
             "colorbar": {
              "outlinewidth": 0,
              "ticks": ""
             }
            },
            "type": "scattermap"
           }
          ],
          "scattermapbox": [
           {
            "marker": {
             "colorbar": {
              "outlinewidth": 0,
              "ticks": ""
             }
            },
            "type": "scattermapbox"
           }
          ],
          "scatterpolar": [
           {
            "marker": {
             "colorbar": {
              "outlinewidth": 0,
              "ticks": ""
             }
            },
            "type": "scatterpolar"
           }
          ],
          "scatterpolargl": [
           {
            "marker": {
             "colorbar": {
              "outlinewidth": 0,
              "ticks": ""
             }
            },
            "type": "scatterpolargl"
           }
          ],
          "scatterternary": [
           {
            "marker": {
             "colorbar": {
              "outlinewidth": 0,
              "ticks": ""
             }
            },
            "type": "scatterternary"
           }
          ],
          "surface": [
           {
            "colorbar": {
             "outlinewidth": 0,
             "ticks": ""
            },
            "colorscale": [
             [
              0,
              "#0d0887"
             ],
             [
              0.1111111111111111,
              "#46039f"
             ],
             [
              0.2222222222222222,
              "#7201a8"
             ],
             [
              0.3333333333333333,
              "#9c179e"
             ],
             [
              0.4444444444444444,
              "#bd3786"
             ],
             [
              0.5555555555555556,
              "#d8576b"
             ],
             [
              0.6666666666666666,
              "#ed7953"
             ],
             [
              0.7777777777777778,
              "#fb9f3a"
             ],
             [
              0.8888888888888888,
              "#fdca26"
             ],
             [
              1,
              "#f0f921"
             ]
            ],
            "type": "surface"
           }
          ],
          "table": [
           {
            "cells": {
             "fill": {
              "color": "#EBF0F8"
             },
             "line": {
              "color": "white"
             }
            },
            "header": {
             "fill": {
              "color": "#C8D4E3"
             },
             "line": {
              "color": "white"
             }
            },
            "type": "table"
           }
          ]
         },
         "layout": {
          "annotationdefaults": {
           "arrowcolor": "#2a3f5f",
           "arrowhead": 0,
           "arrowwidth": 1
          },
          "autotypenumbers": "strict",
          "coloraxis": {
           "colorbar": {
            "outlinewidth": 0,
            "ticks": ""
           }
          },
          "colorscale": {
           "diverging": [
            [
             0,
             "#8e0152"
            ],
            [
             0.1,
             "#c51b7d"
            ],
            [
             0.2,
             "#de77ae"
            ],
            [
             0.3,
             "#f1b6da"
            ],
            [
             0.4,
             "#fde0ef"
            ],
            [
             0.5,
             "#f7f7f7"
            ],
            [
             0.6,
             "#e6f5d0"
            ],
            [
             0.7,
             "#b8e186"
            ],
            [
             0.8,
             "#7fbc41"
            ],
            [
             0.9,
             "#4d9221"
            ],
            [
             1,
             "#276419"
            ]
           ],
           "sequential": [
            [
             0,
             "#0d0887"
            ],
            [
             0.1111111111111111,
             "#46039f"
            ],
            [
             0.2222222222222222,
             "#7201a8"
            ],
            [
             0.3333333333333333,
             "#9c179e"
            ],
            [
             0.4444444444444444,
             "#bd3786"
            ],
            [
             0.5555555555555556,
             "#d8576b"
            ],
            [
             0.6666666666666666,
             "#ed7953"
            ],
            [
             0.7777777777777778,
             "#fb9f3a"
            ],
            [
             0.8888888888888888,
             "#fdca26"
            ],
            [
             1,
             "#f0f921"
            ]
           ],
           "sequentialminus": [
            [
             0,
             "#0d0887"
            ],
            [
             0.1111111111111111,
             "#46039f"
            ],
            [
             0.2222222222222222,
             "#7201a8"
            ],
            [
             0.3333333333333333,
             "#9c179e"
            ],
            [
             0.4444444444444444,
             "#bd3786"
            ],
            [
             0.5555555555555556,
             "#d8576b"
            ],
            [
             0.6666666666666666,
             "#ed7953"
            ],
            [
             0.7777777777777778,
             "#fb9f3a"
            ],
            [
             0.8888888888888888,
             "#fdca26"
            ],
            [
             1,
             "#f0f921"
            ]
           ]
          },
          "colorway": [
           "#636efa",
           "#EF553B",
           "#00cc96",
           "#ab63fa",
           "#FFA15A",
           "#19d3f3",
           "#FF6692",
           "#B6E880",
           "#FF97FF",
           "#FECB52"
          ],
          "font": {
           "color": "#2a3f5f"
          },
          "geo": {
           "bgcolor": "white",
           "lakecolor": "white",
           "landcolor": "#E5ECF6",
           "showlakes": true,
           "showland": true,
           "subunitcolor": "white"
          },
          "hoverlabel": {
           "align": "left"
          },
          "hovermode": "closest",
          "mapbox": {
           "style": "light"
          },
          "paper_bgcolor": "white",
          "plot_bgcolor": "#E5ECF6",
          "polar": {
           "angularaxis": {
            "gridcolor": "white",
            "linecolor": "white",
            "ticks": ""
           },
           "bgcolor": "#E5ECF6",
           "radialaxis": {
            "gridcolor": "white",
            "linecolor": "white",
            "ticks": ""
           }
          },
          "scene": {
           "xaxis": {
            "backgroundcolor": "#E5ECF6",
            "gridcolor": "white",
            "gridwidth": 2,
            "linecolor": "white",
            "showbackground": true,
            "ticks": "",
            "zerolinecolor": "white"
           },
           "yaxis": {
            "backgroundcolor": "#E5ECF6",
            "gridcolor": "white",
            "gridwidth": 2,
            "linecolor": "white",
            "showbackground": true,
            "ticks": "",
            "zerolinecolor": "white"
           },
           "zaxis": {
            "backgroundcolor": "#E5ECF6",
            "gridcolor": "white",
            "gridwidth": 2,
            "linecolor": "white",
            "showbackground": true,
            "ticks": "",
            "zerolinecolor": "white"
           }
          },
          "shapedefaults": {
           "line": {
            "color": "#2a3f5f"
           }
          },
          "ternary": {
           "aaxis": {
            "gridcolor": "white",
            "linecolor": "white",
            "ticks": ""
           },
           "baxis": {
            "gridcolor": "white",
            "linecolor": "white",
            "ticks": ""
           },
           "bgcolor": "#E5ECF6",
           "caxis": {
            "gridcolor": "white",
            "linecolor": "white",
            "ticks": ""
           }
          },
          "title": {
           "x": 0.05
          },
          "xaxis": {
           "automargin": true,
           "gridcolor": "white",
           "linecolor": "white",
           "ticks": "",
           "title": {
            "standoff": 15
           },
           "zerolinecolor": "white",
           "zerolinewidth": 2
          },
          "yaxis": {
           "automargin": true,
           "gridcolor": "white",
           "linecolor": "white",
           "ticks": "",
           "title": {
            "standoff": 15
           },
           "zerolinecolor": "white",
           "zerolinewidth": 2
          }
         }
        },
        "title": {
         "text": "TRPO on CartPole-v1"
        },
        "xaxis": {
         "title": {
          "text": "Episodes"
         }
        },
        "yaxis": {
         "title": {
          "text": "Returns"
         }
        }
       }
      },
      "image/png": "[encoded data removed]"
     },
     "metadata": {},
     "output_type": "display_data"
    }
   ],
   "source": [
    "import plotly.graph_objects as go\n",
    "import pandas as pd\n",
    "df = pd.read_csv('TRPO_CartPole-v1_mv_returns_data.csv')  # 从 CSV 文件中读取数据\n",
    "fig = go.Figure()\n",
    "fig.add_trace(go.Scatter(x=df['Episodes'], y=df['Returns'], mode='lines', name='Returns'))\n",
    "fig.update_layout(\n",
    "    title='TRPO on CartPole-v1',\n",
    "    xaxis_title='Episodes',\n",
    "    yaxis_title='Returns',\n",
    "    showlegend=True\n",
    ")\n",
    "fig.show()"
   ]
  },
  {
   "cell_type": "markdown",
   "id": "3693c1d61e77b198",
   "metadata": {
    "collapsed": false
   },
   "source": [
    "可见，**信任区域优化方法** 在 **离散动作空间** 能够有效工作，一定程度上稳定了策略性能的提升，减小了方差"
   ]
  },
  {
   "cell_type": "markdown",
   "id": "cafe55a978d1452d",
   "metadata": {
    "collapsed": false
   },
   "source": []
  }
 ],
 "metadata": {
  "kernelspec": {
   "display_name": "Python 3 (ipykernel)",
   "language": "python",
   "name": "python3"
  },
  "language_info": {
   "codemirror_mode": {
    "name": "ipython",
    "version": 3
   },
   "file_extension": ".py",
   "mimetype": "text/x-python",
   "name": "python",
   "nbconvert_exporter": "python",
   "pygments_lexer": "ipython3",
   "version": "3.12.9"
  }
 },
 "nbformat": 4,
 "nbformat_minor": 5
}
