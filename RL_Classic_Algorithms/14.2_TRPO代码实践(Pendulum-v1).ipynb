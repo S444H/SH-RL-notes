{
 "cells": [
  {
   "cell_type": "markdown",
   "id": "ace71cd372b92798",
   "metadata": {
    "collapsed": false
   },
   "source": [
    "*本节在 **倒立摆（Pendulum）连续-动作** 交互环境下进行 **TRPO** 代码实践*"
   ]
  },
  {
   "cell_type": "markdown",
   "id": "a25b89b8955dd31c",
   "metadata": {
    "collapsed": false
   },
   "source": [
    "导入相关库："
   ]
  },
  {
   "cell_type": "code",
   "execution_count": 1,
   "id": "6bd2ba098afb45c4",
   "metadata": {
    "ExecuteTime": {
     "end_time": "2025-08-03T08:38:21.069244400Z",
     "start_time": "2025-08-03T08:38:18.204815200Z"
    },
    "collapsed": false
   },
   "outputs": [],
   "source": [
    "# 基本库\n",
    "import numpy as np\n",
    "import copy\n",
    "\n",
    "from utils.smoothing import moving_average\n",
    "from utils.advantage import compute_advantage\n",
    "from utils.training import train_on_policy_agent\n",
    "# 神经网络\n",
    "import torch\n",
    "import torch.nn.functional as F\n",
    "# Gymnasium 是一个用于开发和测试强化学习算法的工具库，为 OpenAI Gym 的更新版本（2021迁移开发）\n",
    "import gymnasium as gym"
   ]
  },
  {
   "cell_type": "markdown",
   "id": "85d0c19bf90f6147",
   "metadata": {
    "collapsed": false
   },
   "source": [
    "## 倒立摆环境（'Pendulum-v1'）"
   ]
  },
  {
   "cell_type": "markdown",
   "id": "bb3c8d0750103a7f",
   "metadata": {
    "collapsed": false
   },
   "source": [
    "### 价值网络（保持不变）:"
   ]
  },
  {
   "cell_type": "code",
   "execution_count": 2,
   "id": "a3802790fe323657",
   "metadata": {
    "collapsed": false
   },
   "outputs": [],
   "source": [
    "class ValueNet(torch.nn.Module):\n",
    "    def __init__(self, state_dim, hidden_dim):\n",
    "        super(ValueNet, self).__init__()\n",
    "        self.fc1 = torch.nn.Linear(state_dim, hidden_dim)\n",
    "        self.fc2 = torch.nn.Linear(hidden_dim, 1)\n",
    "\n",
    "    def forward(self, x):\n",
    "        x = F.relu(self.fc1(x))\n",
    "        return self.fc2(x)"
   ]
  },
  {
   "cell_type": "markdown",
   "id": "4712da0e199987c6",
   "metadata": {
    "collapsed": false
   },
   "source": [
    "### 策略网络：动作输出修改为高斯分布的均值和标准差"
   ]
  },
  {
   "cell_type": "code",
   "execution_count": 3,
   "id": "421f2d232a8a42",
   "metadata": {
    "collapsed": false
   },
   "outputs": [],
   "source": [
    "class PolicyNetContinuous(torch.nn.Module):\n",
    "    def __init__(self, state_dim, hidden_dim, action_dim):\n",
    "        super(PolicyNetContinuous, self).__init__()\n",
    "        self.fc1 = torch.nn.Linear(state_dim, hidden_dim)\n",
    "        self.fc_mu = torch.nn.Linear(hidden_dim, action_dim)\n",
    "        self.fc_std = torch.nn.Linear(hidden_dim, action_dim)\n",
    "\n",
    "    def forward(self, x):\n",
    "        x = F.relu(self.fc1(x))\n",
    "        mu = 2.0 * torch.tanh(self.fc_mu(x))\n",
    "        std = F.softplus(self.fc_std(x))\n",
    "        return mu, std  # 高斯分布的均值和标准差，每一个状态对应一个高斯分布（多维）的均值和标准差"
   ]
  },
  {
   "cell_type": "markdown",
   "id": "9cdd3fd9a47d6d6d",
   "metadata": {
    "collapsed": false
   },
   "source": [
    "### 定义 TRPO 算法（连续动作）："
   ]
  },
  {
   "cell_type": "code",
   "execution_count": 4,
   "id": "d73c0496898e5c51",
   "metadata": {
    "collapsed": false
   },
   "outputs": [],
   "source": [
    "class TRPOContinuous:\n",
    "    \"\"\" 处理连续动作的TRPO算法 \"\"\"\n",
    "    def __init__(self, hidden_dim, state_space, action_space, lmbda, kl_constraint, alpha, critic_lr, gamma, device):\n",
    "        \n",
    "        state_dim = state_space.shape[0]\n",
    "        #--------------------\n",
    "        action_dim = action_space.shape[0]  # 获取动作向量的维度\n",
    "        #--------------------\n",
    "        self.actor = PolicyNetContinuous(state_dim, hidden_dim, action_dim).to(device)\n",
    "        self.critic = ValueNet(state_dim, hidden_dim).to(device)\n",
    "        # 策略网络参数不需要优化器去更新\n",
    "        self.critic_optimizer = torch.optim.Adam(self.critic.parameters(), lr=critic_lr)\n",
    "        \n",
    "        self.gamma = gamma\n",
    "        self.lmbda = lmbda                  # GAE参数\n",
    "        self.kl_constraint = kl_constraint  # KL距离最大限制\n",
    "        self.alpha = alpha                  # 线性搜索参数\n",
    "        self.device = device\n",
    "\n",
    "    def take_action(self, state):\n",
    "        state = torch.tensor(np.array([state]), dtype=torch.float).to(self.device)\n",
    "        #---------------------\n",
    "        mu, std = self.actor(state)\n",
    "        action_dist = torch.distributions.Normal(mu, std)\n",
    "        #---------------------\n",
    "        action = action_dist.sample()\n",
    "        return [action.item()]  # 即使为一维动作，形状要符合环境定义\n",
    "\n",
    "    def hessian_matrix_vector_product(self, states, old_action_dists, vector, damping=0.1):  # 计算Hansen矩阵和一个向量的乘积\n",
    "        # Hessian-Vector Product（HVP）方式\n",
    "        #------------------------------------\n",
    "        mu, std = self.actor(states)\n",
    "        new_action_dists = torch.distributions.Normal(mu, std)\n",
    "        #------------------------------------\n",
    "        \n",
    "        kl = torch.mean(torch.distributions.kl.kl_divergence(old_action_dists, new_action_dists))  # 计算平均KL距离\n",
    "        kl_grad = torch.autograd.grad(kl, self.actor.parameters(), create_graph=True)\n",
    "        kl_grad_vector = torch.cat([grad.view(-1) for grad in kl_grad])\n",
    "        # KL距离的梯度先和向量进行点积运算\n",
    "        kl_grad_vector_product = torch.dot(kl_grad_vector, vector)\n",
    "        # 再求导，即得海森矩阵与向量的乘积（无需显式构造 Hessian）\n",
    "        grad2 = torch.autograd.grad(kl_grad_vector_product, self.actor.parameters())\n",
    "        grad2_vector = torch.cat([grad.view(-1) for grad in grad2])\n",
    "        \n",
    "        return grad2_vector + damping * vector  # 在连续策略（如高斯分布）中，KL 的 Hessian 容易退化，加 damping 防止共轭梯度法不稳定\n",
    "\n",
    "    def conjugate_gradient(self, grad, states, old_action_dists):  # 共轭梯度法求解方程\n",
    "        x = torch.zeros_like(grad)\n",
    "        r = grad.clone()\n",
    "        p = grad.clone()\n",
    "        rdotr = torch.dot(r, r)\n",
    "        for i in range(10):  # 共轭梯度主循环\n",
    "            Hp = self.hessian_matrix_vector_product(states, old_action_dists,p)\n",
    "            alpha = rdotr / torch.dot(p, Hp)\n",
    "            x += alpha * p\n",
    "            r -= alpha * Hp\n",
    "            new_rdotr = torch.dot(r, r)\n",
    "            if new_rdotr < 1e-10:\n",
    "                break\n",
    "            beta = new_rdotr / rdotr\n",
    "            p = r + beta * p\n",
    "            rdotr = new_rdotr\n",
    "        return x\n",
    "\n",
    "    def compute_surrogate_obj(self, states, actions, advantage, old_log_probs, actor):  # 计算策略目标函数\n",
    "        #--------------------------------------------\n",
    "        mu, std = actor(states)\n",
    "        action_dists = torch.distributions.Normal(mu, std)\n",
    "        log_probs = action_dists.log_prob(actions)\n",
    "        #---------------------------------------------\n",
    "        ratio = torch.exp(log_probs - old_log_probs)\n",
    "        return torch.mean(ratio * advantage)\n",
    "\n",
    "    def line_search(self, states, actions, advantage, old_log_probs, old_action_dists, max_vec):  # 线性搜索\n",
    "        \n",
    "        old_para = torch.nn.utils.convert_parameters.parameters_to_vector(self.actor.parameters())\n",
    "        old_obj = self.compute_surrogate_obj(states, actions, advantage, old_log_probs, self.actor)\n",
    "        \n",
    "        for i in range(15):  # 线性搜索主循环\n",
    "            coef = self.alpha**i\n",
    "            new_para = old_para + coef * max_vec\n",
    "            new_actor = copy.deepcopy(self.actor)  # 策略网络深层拷贝，防止后面的操作改变原始网络参数\n",
    "            torch.nn.utils.convert_parameters.vector_to_parameters(new_para, new_actor.parameters())\n",
    "            #------------------------------------\n",
    "            mu, std = self.actor(states)\n",
    "            new_action_dists = torch.distributions.Normal(mu, std)\n",
    "            #------------------------------------\n",
    "            kl_div = torch.mean(torch.distributions.kl.kl_divergence(old_action_dists, new_action_dists))\n",
    "            new_obj = self.compute_surrogate_obj(states, actions, advantage, old_log_probs, new_actor)\n",
    "            if new_obj > old_obj and kl_div < self.kl_constraint:\n",
    "                return new_para\n",
    "        return old_para\n",
    "\n",
    "    def policy_learn(self, states, actions, old_action_dists, old_log_probs, advantage):  # 更新策略网络\n",
    "        surrogate_obj = self.compute_surrogate_obj(states, actions, advantage, old_log_probs, self.actor)\n",
    "        grads = torch.autograd.grad(surrogate_obj, self.actor.parameters())\n",
    "        obj_grad = torch.cat([grad.view(-1) for grad in grads]).detach()\n",
    "        \n",
    "        descent_direction = self.conjugate_gradient(obj_grad, states, old_action_dists)  # 用共轭梯度法计算x = H^(-1)g\n",
    "        Hx = self.hessian_matrix_vector_product(states, old_action_dists, descent_direction)\n",
    "        max_coef = torch.sqrt(2 * self.kl_constraint / (torch.dot(descent_direction, Hx) + 1e-8))  # 理论最大步长\n",
    "        new_para = self.line_search(states, actions, advantage, old_log_probs, old_action_dists,\n",
    "                                    descent_direction * max_coef)  # 线性搜索\n",
    "        torch.nn.utils.convert_parameters.vector_to_parameters(new_para, self.actor.parameters())  # 用线性搜索后的参数更新策略\n",
    "\n",
    "    def update(self, transition_dict):\n",
    "        states_np = np.array(transition_dict['states'])  # 转换成统一的大 np.ndarray，PyTorch更高效处理\n",
    "        states = torch.tensor(states_np, dtype=torch.float).to(self.device)\n",
    "        actions = torch.tensor(transition_dict['actions']).view(-1, 1).to(self.device)\n",
    "        rewards = torch.tensor(transition_dict['rewards'], dtype=torch.float).view(-1, 1).to(self.device)\n",
    "        next_states_np = np.array(transition_dict['next_states'])  # 转换成统一的大 np.ndarray，PyTorch更高效处理\n",
    "        next_states = torch.tensor(next_states_np, dtype=torch.float).to(self.device)\n",
    "        dones = torch.tensor(transition_dict['dones'], dtype=torch.float).view(-1, 1).to(self.device)\n",
    "        \n",
    "        # rewards = (rewards + 16.0) / 16.0  # 标准归一化（线性映射到 [0, 1]）\n",
    "        \n",
    "        td_target = rewards + self.gamma * self.critic(next_states) * (1 - dones)  # 时序差分目标\n",
    "        td_delta = td_target - self.critic(states)                                 # 时序差分误差\n",
    "        \n",
    "        advantage = compute_advantage(self.gamma, self.lmbda, td_delta.cpu()).to(self.device)\n",
    "        \n",
    "        #--------------------------------------\n",
    "        mu, std = self.actor(states)\n",
    "        old_action_dists = torch.distributions.Normal(mu.detach(), std.detach())\n",
    "        old_log_probs = old_action_dists.log_prob(actions)\n",
    "        #--------------------------------------\n",
    "        \n",
    "        # 更新价值函数\n",
    "        critic_loss = torch.mean(F.mse_loss(self.critic(states), td_target.detach()))\n",
    "        self.critic_optimizer.zero_grad()\n",
    "        critic_loss.backward()\n",
    "        self.critic_optimizer.step()  # 更新价值函数\n",
    "        \n",
    "        # 更新策略函数\n",
    "        self.policy_learn(states, actions, old_action_dists, old_log_probs, advantage)"
   ]
  },
  {
   "cell_type": "markdown",
   "id": "bee03095991da6fa",
   "metadata": {
    "collapsed": false
   },
   "source": [
    "### 环境设置（'Pendulum-v1'）："
   ]
  },
  {
   "cell_type": "code",
   "execution_count": 5,
   "id": "23d39d0b6f589828",
   "metadata": {
    "collapsed": false
   },
   "outputs": [
    {
     "name": "stdout",
     "output_type": "stream",
     "text": [
      "Environment spec: EnvSpec(id='Pendulum-v1', entry_point='gymnasium.envs.classic_control.pendulum:PendulumEnv', reward_threshold=None, nondeterministic=False, max_episode_steps=200, order_enforce=True, disable_env_checker=False, kwargs={}, namespace=None, name='Pendulum', version=1, additional_wrappers=(), vector_entry_point=None)\n"
     ]
    }
   ],
   "source": [
    "np.random.seed(0)    # 设置 NumPy 的随机种子\n",
    "torch.manual_seed(0) # 设置 PyTorch CPU 随机种子\n",
    "torch.cuda.manual_seed_all(0) # 设置 PyTorch GPU 随机种子, 由于GPU并行性, 只能极大减小偏差\n",
    "\n",
    "env_name = 'Pendulum-v1'\n",
    "env = gym.make(env_name)\n",
    "env.reset(seed=0)   # 环境通常依赖于其他随机数生成器来初始化状态、进行探索(推荐位于以上随机之后)\n",
    "print(\"Environment spec:\", env.spec)"
   ]
  },
  {
   "cell_type": "markdown",
   "id": "ff92caa81caa91d5",
   "metadata": {
    "collapsed": false
   },
   "source": [
    "### 超参数设置："
   ]
  },
  {
   "cell_type": "code",
   "execution_count": 6,
   "id": "bc9eba9fd8ff38b0",
   "metadata": {
    "collapsed": false
   },
   "outputs": [],
   "source": [
    "hidden_dim = 128\n",
    "lmbda = 0.9\n",
    "# 搜索步伐(方向+距离)控制\n",
    "kl_constraint = 0.00005  # 限制每次策略更新的“跳跃程度”\n",
    "alpha = 0.6  # \"步长\"衰减,越小越\"精细\"\n",
    "# 价值网络超参数不变\n",
    "critic_lr = 1e-2\n",
    "gamma = 0.9\n",
    "device = torch.device(\"cuda\") if torch.cuda.is_available() else torch.device( \"cpu\")\n",
    "agent = TRPOContinuous(hidden_dim, env.observation_space, env.action_space,\n",
    "                       lmbda, kl_constraint, alpha, critic_lr, gamma, device)\n",
    "\n",
    "num_episodes = 2000"
   ]
  },
  {
   "cell_type": "markdown",
   "id": "305994c6401b184e",
   "metadata": {
    "collapsed": false
   },
   "source": [
    "### 测试与训练:"
   ]
  },
  {
   "cell_type": "code",
   "execution_count": 7,
   "id": "996da0786337338c",
   "metadata": {
    "collapsed": false
   },
   "outputs": [
    {
     "name": "stderr",
     "output_type": "stream",
     "text": [
      "Iteration 0: 100%|██████████| 200/200 [01:10<00:00,  2.85it/s, episode=200, return=-1436.415]\n",
      "Iteration 1: 100%|██████████| 200/200 [01:10<00:00,  2.82it/s, episode=400, return=-1367.044]\n",
      "Iteration 2: 100%|██████████| 200/200 [01:10<00:00,  2.82it/s, episode=600, return=-1183.032]\n",
      "Iteration 3: 100%|██████████| 200/200 [01:10<00:00,  2.85it/s, episode=800, return=-960.955] \n",
      "Iteration 4: 100%|██████████| 200/200 [01:09<00:00,  2.88it/s, episode=1000, return=-1020.719]\n",
      "Iteration 5: 100%|██████████| 200/200 [01:09<00:00,  2.88it/s, episode=1200, return=-738.226]\n",
      "Iteration 6: 100%|██████████| 200/200 [01:09<00:00,  2.88it/s, episode=1400, return=-530.581]\n",
      "Iteration 7: 100%|██████████| 200/200 [01:09<00:00,  2.88it/s, episode=1600, return=-196.229]\n",
      "Iteration 8: 100%|██████████| 200/200 [01:09<00:00,  2.87it/s, episode=1800, return=-220.025]\n",
      "Iteration 9: 100%|██████████| 200/200 [01:10<00:00,  2.84it/s, episode=2000, return=-426.990]\n"
     ]
    }
   ],
   "source": [
    "return_list = train_on_policy_agent(env, agent, num_episodes)"
   ]
  },
  {
   "cell_type": "markdown",
   "id": "8e0f73e9d54e7d9b",
   "metadata": {
    "collapsed": false
   },
   "source": [
    "### 绘图："
   ]
  },
  {
   "cell_type": "code",
   "execution_count": 8,
   "id": "abfe5b2c1c468adf",
   "metadata": {
    "collapsed": false
   },
   "outputs": [],
   "source": [
    "import pandas as pd\n",
    "episodes_list = list(range(len(return_list)))\n",
    "mv_return = moving_average(return_list, 9)\n",
    "# 创建 DataFrame\n",
    "df1 = pd.DataFrame({'Episodes': episodes_list, 'Returns': return_list})\n",
    "df2 = pd.DataFrame({'Episodes': episodes_list, 'Returns': mv_return})\n",
    "# 保存为 CSV 文件\n",
    "df1.to_csv('TRPO_Pendulum-v1_returns_data.csv', index=False)\n",
    "df2.to_csv('TRPO_Pendulum-v1_mv_returns_data.csv', index=False)"
   ]
  },
  {
   "cell_type": "code",
   "id": "3412e4b95cce469a",
   "metadata": {
    "collapsed": false,
    "ExecuteTime": {
     "end_time": "2025-09-25T10:13:43.824019Z",
     "start_time": "2025-09-25T10:13:43.311243Z"
    }
   },
   "source": [
    "import plotly.graph_objects as go\n",
    "import pandas as pd\n",
    "df = pd.read_csv('./Data/TRPO_Pendulum-v1_returns_data.csv')  # 从 CSV 文件中读取数据\n",
    "fig = go.Figure()\n",
    "fig.add_trace(go.Scatter(x=df['Episodes'], y=df['Returns'], mode='lines', name='Returns'))\n",
    "fig.update_layout(\n",
    "    title='TRPO on Pendulum-v1',\n",
    "    xaxis_title='Episodes',\n",
    "    yaxis_title='Returns',\n",
    "    showlegend=True\n",
    ")\n",
    "fig.show()"
   ],
   "outputs": [
    {
     "data": {
      "application/vnd.plotly.v1+json": {
       "data": [
        {
         "mode": "lines",
         "name": "Returns",
         "x": {
          "dtype": "i2",
          "bdata": "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"
         },
         "y": {
          "dtype": "f8",
          "bdata": "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"
         },
         "type": "scatter"
        }
       ],
       "layout": {
        "template": {
         "data": {
          "histogram2dcontour": [
           {
            "type": "histogram2dcontour",
            "colorbar": {
             "outlinewidth": 0,
             "ticks": ""
            },
            "colorscale": [
             [
              0.0,
              "#0d0887"
             ],
             [
              0.1111111111111111,
              "#46039f"
             ],
             [
              0.2222222222222222,
              "#7201a8"
             ],
             [
              0.3333333333333333,
              "#9c179e"
             ],
             [
              0.4444444444444444,
              "#bd3786"
             ],
             [
              0.5555555555555556,
              "#d8576b"
             ],
             [
              0.6666666666666666,
              "#ed7953"
             ],
             [
              0.7777777777777778,
              "#fb9f3a"
             ],
             [
              0.8888888888888888,
              "#fdca26"
             ],
             [
              1.0,
              "#f0f921"
             ]
            ]
           }
          ],
          "choropleth": [
           {
            "type": "choropleth",
            "colorbar": {
             "outlinewidth": 0,
             "ticks": ""
            }
           }
          ],
          "histogram2d": [
           {
            "type": "histogram2d",
            "colorbar": {
             "outlinewidth": 0,
             "ticks": ""
            },
            "colorscale": [
             [
              0.0,
              "#0d0887"
             ],
             [
              0.1111111111111111,
              "#46039f"
             ],
             [
              0.2222222222222222,
              "#7201a8"
             ],
             [
              0.3333333333333333,
              "#9c179e"
             ],
             [
              0.4444444444444444,
              "#bd3786"
             ],
             [
              0.5555555555555556,
              "#d8576b"
             ],
             [
              0.6666666666666666,
              "#ed7953"
             ],
             [
              0.7777777777777778,
              "#fb9f3a"
             ],
             [
              0.8888888888888888,
              "#fdca26"
             ],
             [
              1.0,
              "#f0f921"
             ]
            ]
           }
          ],
          "heatmap": [
           {
            "type": "heatmap",
            "colorbar": {
             "outlinewidth": 0,
             "ticks": ""
            },
            "colorscale": [
             [
              0.0,
              "#0d0887"
             ],
             [
              0.1111111111111111,
              "#46039f"
             ],
             [
              0.2222222222222222,
              "#7201a8"
             ],
             [
              0.3333333333333333,
              "#9c179e"
             ],
             [
              0.4444444444444444,
              "#bd3786"
             ],
             [
              0.5555555555555556,
              "#d8576b"
             ],
             [
              0.6666666666666666,
              "#ed7953"
             ],
             [
              0.7777777777777778,
              "#fb9f3a"
             ],
             [
              0.8888888888888888,
              "#fdca26"
             ],
             [
              1.0,
              "#f0f921"
             ]
            ]
           }
          ],
          "contourcarpet": [
           {
            "type": "contourcarpet",
            "colorbar": {
             "outlinewidth": 0,
             "ticks": ""
            }
           }
          ],
          "contour": [
           {
            "type": "contour",
            "colorbar": {
             "outlinewidth": 0,
             "ticks": ""
            },
            "colorscale": [
             [
              0.0,
              "#0d0887"
             ],
             [
              0.1111111111111111,
              "#46039f"
             ],
             [
              0.2222222222222222,
              "#7201a8"
             ],
             [
              0.3333333333333333,
              "#9c179e"
             ],
             [
              0.4444444444444444,
              "#bd3786"
             ],
             [
              0.5555555555555556,
              "#d8576b"
             ],
             [
              0.6666666666666666,
              "#ed7953"
             ],
             [
              0.7777777777777778,
              "#fb9f3a"
             ],
             [
              0.8888888888888888,
              "#fdca26"
             ],
             [
              1.0,
              "#f0f921"
             ]
            ]
           }
          ],
          "surface": [
           {
            "type": "surface",
            "colorbar": {
             "outlinewidth": 0,
             "ticks": ""
            },
            "colorscale": [
             [
              0.0,
              "#0d0887"
             ],
             [
              0.1111111111111111,
              "#46039f"
             ],
             [
              0.2222222222222222,
              "#7201a8"
             ],
             [
              0.3333333333333333,
              "#9c179e"
             ],
             [
              0.4444444444444444,
              "#bd3786"
             ],
             [
              0.5555555555555556,
              "#d8576b"
             ],
             [
              0.6666666666666666,
              "#ed7953"
             ],
             [
              0.7777777777777778,
              "#fb9f3a"
             ],
             [
              0.8888888888888888,
              "#fdca26"
             ],
             [
              1.0,
              "#f0f921"
             ]
            ]
           }
          ],
          "mesh3d": [
           {
            "type": "mesh3d",
            "colorbar": {
             "outlinewidth": 0,
             "ticks": ""
            }
           }
          ],
          "scatter": [
           {
            "marker": {
             "line": {
              "color": "#283442"
             }
            },
            "type": "scatter"
           }
          ],
          "parcoords": [
           {
            "type": "parcoords",
            "line": {
             "colorbar": {
              "outlinewidth": 0,
              "ticks": ""
             }
            }
           }
          ],
          "scatterpolargl": [
           {
            "type": "scatterpolargl",
            "marker": {
             "colorbar": {
              "outlinewidth": 0,
              "ticks": ""
             }
            }
           }
          ],
          "bar": [
           {
            "error_x": {
             "color": "#f2f5fa"
            },
            "error_y": {
             "color": "#f2f5fa"
            },
            "marker": {
             "line": {
              "color": "rgb(17,17,17)",
              "width": 0.5
             },
             "pattern": {
              "fillmode": "overlay",
              "size": 10,
              "solidity": 0.2
             }
            },
            "type": "bar"
           }
          ],
          "scattergeo": [
           {
            "type": "scattergeo",
            "marker": {
             "colorbar": {
              "outlinewidth": 0,
              "ticks": ""
             }
            }
           }
          ],
          "scatterpolar": [
           {
            "type": "scatterpolar",
            "marker": {
             "colorbar": {
              "outlinewidth": 0,
              "ticks": ""
             }
            }
           }
          ],
          "histogram": [
           {
            "marker": {
             "pattern": {
              "fillmode": "overlay",
              "size": 10,
              "solidity": 0.2
             }
            },
            "type": "histogram"
           }
          ],
          "scattergl": [
           {
            "marker": {
             "line": {
              "color": "#283442"
             }
            },
            "type": "scattergl"
           }
          ],
          "scatter3d": [
           {
            "type": "scatter3d",
            "line": {
             "colorbar": {
              "outlinewidth": 0,
              "ticks": ""
             }
            },
            "marker": {
             "colorbar": {
              "outlinewidth": 0,
              "ticks": ""
             }
            }
           }
          ],
          "scattermap": [
           {
            "type": "scattermap",
            "marker": {
             "colorbar": {
              "outlinewidth": 0,
              "ticks": ""
             }
            }
           }
          ],
          "scattermapbox": [
           {
            "type": "scattermapbox",
            "marker": {
             "colorbar": {
              "outlinewidth": 0,
              "ticks": ""
             }
            }
           }
          ],
          "scatterternary": [
           {
            "type": "scatterternary",
            "marker": {
             "colorbar": {
              "outlinewidth": 0,
              "ticks": ""
             }
            }
           }
          ],
          "scattercarpet": [
           {
            "type": "scattercarpet",
            "marker": {
             "colorbar": {
              "outlinewidth": 0,
              "ticks": ""
             }
            }
           }
          ],
          "carpet": [
           {
            "aaxis": {
             "endlinecolor": "#A2B1C6",
             "gridcolor": "#506784",
             "linecolor": "#506784",
             "minorgridcolor": "#506784",
             "startlinecolor": "#A2B1C6"
            },
            "baxis": {
             "endlinecolor": "#A2B1C6",
             "gridcolor": "#506784",
             "linecolor": "#506784",
             "minorgridcolor": "#506784",
             "startlinecolor": "#A2B1C6"
            },
            "type": "carpet"
           }
          ],
          "table": [
           {
            "cells": {
             "fill": {
              "color": "#506784"
             },
             "line": {
              "color": "rgb(17,17,17)"
             }
            },
            "header": {
             "fill": {
              "color": "#2a3f5f"
             },
             "line": {
              "color": "rgb(17,17,17)"
             }
            },
            "type": "table"
           }
          ],
          "barpolar": [
           {
            "marker": {
             "line": {
              "color": "rgb(17,17,17)",
              "width": 0.5
             },
             "pattern": {
              "fillmode": "overlay",
              "size": 10,
              "solidity": 0.2
             }
            },
            "type": "barpolar"
           }
          ],
          "pie": [
           {
            "automargin": true,
            "type": "pie"
           }
          ]
         },
         "layout": {
          "autotypenumbers": "strict",
          "colorway": [
           "#636efa",
           "#EF553B",
           "#00cc96",
           "#ab63fa",
           "#FFA15A",
           "#19d3f3",
           "#FF6692",
           "#B6E880",
           "#FF97FF",
           "#FECB52"
          ],
          "font": {
           "color": "#f2f5fa"
          },
          "hovermode": "closest",
          "hoverlabel": {
           "align": "left"
          },
          "paper_bgcolor": "rgb(17,17,17)",
          "plot_bgcolor": "rgb(17,17,17)",
          "polar": {
           "bgcolor": "rgb(17,17,17)",
           "angularaxis": {
            "gridcolor": "#506784",
            "linecolor": "#506784",
            "ticks": ""
           },
           "radialaxis": {
            "gridcolor": "#506784",
            "linecolor": "#506784",
            "ticks": ""
           }
          },
          "ternary": {
           "bgcolor": "rgb(17,17,17)",
           "aaxis": {
            "gridcolor": "#506784",
            "linecolor": "#506784",
            "ticks": ""
           },
           "baxis": {
            "gridcolor": "#506784",
            "linecolor": "#506784",
            "ticks": ""
           },
           "caxis": {
            "gridcolor": "#506784",
            "linecolor": "#506784",
            "ticks": ""
           }
          },
          "coloraxis": {
           "colorbar": {
            "outlinewidth": 0,
            "ticks": ""
           }
          },
          "colorscale": {
           "sequential": [
            [
             0.0,
             "#0d0887"
            ],
            [
             0.1111111111111111,
             "#46039f"
            ],
            [
             0.2222222222222222,
             "#7201a8"
            ],
            [
             0.3333333333333333,
             "#9c179e"
            ],
            [
             0.4444444444444444,
             "#bd3786"
            ],
            [
             0.5555555555555556,
             "#d8576b"
            ],
            [
             0.6666666666666666,
             "#ed7953"
            ],
            [
             0.7777777777777778,
             "#fb9f3a"
            ],
            [
             0.8888888888888888,
             "#fdca26"
            ],
            [
             1.0,
             "#f0f921"
            ]
           ],
           "sequentialminus": [
            [
             0.0,
             "#0d0887"
            ],
            [
             0.1111111111111111,
             "#46039f"
            ],
            [
             0.2222222222222222,
             "#7201a8"
            ],
            [
             0.3333333333333333,
             "#9c179e"
            ],
            [
             0.4444444444444444,
             "#bd3786"
            ],
            [
             0.5555555555555556,
             "#d8576b"
            ],
            [
             0.6666666666666666,
             "#ed7953"
            ],
            [
             0.7777777777777778,
             "#fb9f3a"
            ],
            [
             0.8888888888888888,
             "#fdca26"
            ],
            [
             1.0,
             "#f0f921"
            ]
           ],
           "diverging": [
            [
             0,
             "#8e0152"
            ],
            [
             0.1,
             "#c51b7d"
            ],
            [
             0.2,
             "#de77ae"
            ],
            [
             0.3,
             "#f1b6da"
            ],
            [
             0.4,
             "#fde0ef"
            ],
            [
             0.5,
             "#f7f7f7"
            ],
            [
             0.6,
             "#e6f5d0"
            ],
            [
             0.7,
             "#b8e186"
            ],
            [
             0.8,
             "#7fbc41"
            ],
            [
             0.9,
             "#4d9221"
            ],
            [
             1,
             "#276419"
            ]
           ]
          },
          "xaxis": {
           "gridcolor": "#283442",
           "linecolor": "#506784",
           "ticks": "",
           "title": {
            "standoff": 15
           },
           "zerolinecolor": "#283442",
           "automargin": true,
           "zerolinewidth": 2
          },
          "yaxis": {
           "gridcolor": "#283442",
           "linecolor": "#506784",
           "ticks": "",
           "title": {
            "standoff": 15
           },
           "zerolinecolor": "#283442",
           "automargin": true,
           "zerolinewidth": 2
          },
          "scene": {
           "xaxis": {
            "backgroundcolor": "rgb(17,17,17)",
            "gridcolor": "#506784",
            "linecolor": "#506784",
            "showbackground": true,
            "ticks": "",
            "zerolinecolor": "#C8D4E3",
            "gridwidth": 2
           },
           "yaxis": {
            "backgroundcolor": "rgb(17,17,17)",
            "gridcolor": "#506784",
            "linecolor": "#506784",
            "showbackground": true,
            "ticks": "",
            "zerolinecolor": "#C8D4E3",
            "gridwidth": 2
           },
           "zaxis": {
            "backgroundcolor": "rgb(17,17,17)",
            "gridcolor": "#506784",
            "linecolor": "#506784",
            "showbackground": true,
            "ticks": "",
            "zerolinecolor": "#C8D4E3",
            "gridwidth": 2
           }
          },
          "shapedefaults": {
           "line": {
            "color": "#f2f5fa"
           }
          },
          "annotationdefaults": {
           "arrowcolor": "#f2f5fa",
           "arrowhead": 0,
           "arrowwidth": 1
          },
          "geo": {
           "bgcolor": "rgb(17,17,17)",
           "landcolor": "rgb(17,17,17)",
           "subunitcolor": "#506784",
           "showland": true,
           "showlakes": true,
           "lakecolor": "rgb(17,17,17)"
          },
          "title": {
           "x": 0.05
          },
          "updatemenudefaults": {
           "bgcolor": "#506784",
           "borderwidth": 0
          },
          "sliderdefaults": {
           "bgcolor": "#C8D4E3",
           "borderwidth": 1,
           "bordercolor": "rgb(17,17,17)",
           "tickwidth": 0
          },
          "mapbox": {
           "style": "dark"
          }
         }
        },
        "title": {
         "text": "TRPO on Pendulum-v1"
        },
        "xaxis": {
         "title": {
          "text": "Episodes"
         }
        },
        "yaxis": {
         "title": {
          "text": "Returns"
         }
        },
        "showlegend": true
       },
       "config": {
        "plotlyServerURL": "https://plot.ly"
       }
      }
     },
     "metadata": {},
     "output_type": "display_data",
     "jetTransient": {
      "display_id": null
     }
    }
   ],
   "execution_count": 1
  },
  {
   "cell_type": "code",
   "id": "a7dd9ef009a6ca40",
   "metadata": {
    "collapsed": false,
    "ExecuteTime": {
     "end_time": "2025-09-25T10:13:48.277876Z",
     "start_time": "2025-09-25T10:13:48.250910Z"
    }
   },
   "source": [
    "import plotly.graph_objects as go\n",
    "import pandas as pd\n",
    "df = pd.read_csv('./Data/TRPO_Pendulum-v1_mv_returns_data.csv')  # 从 CSV 文件中读取数据\n",
    "fig = go.Figure()\n",
    "fig.add_trace(go.Scatter(x=df['Episodes'], y=df['Returns'], mode='lines', name='Returns'))\n",
    "fig.update_layout(\n",
    "    title='TRPO on Pendulum-v1',\n",
    "    xaxis_title='Episodes',\n",
    "    yaxis_title='Returns',\n",
    "    showlegend=True\n",
    ")\n",
    "fig.show()"
   ],
   "outputs": [
    {
     "data": {
      "application/vnd.plotly.v1+json": {
       "data": [
        {
         "mode": "lines",
         "name": "Returns",
         "x": {
          "dtype": "i2",
          "bdata": "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"
         },
         "y": {
          "dtype": "f8",
          "bdata": "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"
         },
         "type": "scatter"
        }
       ],
       "layout": {
        "template": {
         "data": {
          "histogram2dcontour": [
           {
            "type": "histogram2dcontour",
            "colorbar": {
             "outlinewidth": 0,
             "ticks": ""
            },
            "colorscale": [
             [
              0.0,
              "#0d0887"
             ],
             [
              0.1111111111111111,
              "#46039f"
             ],
             [
              0.2222222222222222,
              "#7201a8"
             ],
             [
              0.3333333333333333,
              "#9c179e"
             ],
             [
              0.4444444444444444,
              "#bd3786"
             ],
             [
              0.5555555555555556,
              "#d8576b"
             ],
             [
              0.6666666666666666,
              "#ed7953"
             ],
             [
              0.7777777777777778,
              "#fb9f3a"
             ],
             [
              0.8888888888888888,
              "#fdca26"
             ],
             [
              1.0,
              "#f0f921"
             ]
            ]
           }
          ],
          "choropleth": [
           {
            "type": "choropleth",
            "colorbar": {
             "outlinewidth": 0,
             "ticks": ""
            }
           }
          ],
          "histogram2d": [
           {
            "type": "histogram2d",
            "colorbar": {
             "outlinewidth": 0,
             "ticks": ""
            },
            "colorscale": [
             [
              0.0,
              "#0d0887"
             ],
             [
              0.1111111111111111,
              "#46039f"
             ],
             [
              0.2222222222222222,
              "#7201a8"
             ],
             [
              0.3333333333333333,
              "#9c179e"
             ],
             [
              0.4444444444444444,
              "#bd3786"
             ],
             [
              0.5555555555555556,
              "#d8576b"
             ],
             [
              0.6666666666666666,
              "#ed7953"
             ],
             [
              0.7777777777777778,
              "#fb9f3a"
             ],
             [
              0.8888888888888888,
              "#fdca26"
             ],
             [
              1.0,
              "#f0f921"
             ]
            ]
           }
          ],
          "heatmap": [
           {
            "type": "heatmap",
            "colorbar": {
             "outlinewidth": 0,
             "ticks": ""
            },
            "colorscale": [
             [
              0.0,
              "#0d0887"
             ],
             [
              0.1111111111111111,
              "#46039f"
             ],
             [
              0.2222222222222222,
              "#7201a8"
             ],
             [
              0.3333333333333333,
              "#9c179e"
             ],
             [
              0.4444444444444444,
              "#bd3786"
             ],
             [
              0.5555555555555556,
              "#d8576b"
             ],
             [
              0.6666666666666666,
              "#ed7953"
             ],
             [
              0.7777777777777778,
              "#fb9f3a"
             ],
             [
              0.8888888888888888,
              "#fdca26"
             ],
             [
              1.0,
              "#f0f921"
             ]
            ]
           }
          ],
          "contourcarpet": [
           {
            "type": "contourcarpet",
            "colorbar": {
             "outlinewidth": 0,
             "ticks": ""
            }
           }
          ],
          "contour": [
           {
            "type": "contour",
            "colorbar": {
             "outlinewidth": 0,
             "ticks": ""
            },
            "colorscale": [
             [
              0.0,
              "#0d0887"
             ],
             [
              0.1111111111111111,
              "#46039f"
             ],
             [
              0.2222222222222222,
              "#7201a8"
             ],
             [
              0.3333333333333333,
              "#9c179e"
             ],
             [
              0.4444444444444444,
              "#bd3786"
             ],
             [
              0.5555555555555556,
              "#d8576b"
             ],
             [
              0.6666666666666666,
              "#ed7953"
             ],
             [
              0.7777777777777778,
              "#fb9f3a"
             ],
             [
              0.8888888888888888,
              "#fdca26"
             ],
             [
              1.0,
              "#f0f921"
             ]
            ]
           }
          ],
          "surface": [
           {
            "type": "surface",
            "colorbar": {
             "outlinewidth": 0,
             "ticks": ""
            },
            "colorscale": [
             [
              0.0,
              "#0d0887"
             ],
             [
              0.1111111111111111,
              "#46039f"
             ],
             [
              0.2222222222222222,
              "#7201a8"
             ],
             [
              0.3333333333333333,
              "#9c179e"
             ],
             [
              0.4444444444444444,
              "#bd3786"
             ],
             [
              0.5555555555555556,
              "#d8576b"
             ],
             [
              0.6666666666666666,
              "#ed7953"
             ],
             [
              0.7777777777777778,
              "#fb9f3a"
             ],
             [
              0.8888888888888888,
              "#fdca26"
             ],
             [
              1.0,
              "#f0f921"
             ]
            ]
           }
          ],
          "mesh3d": [
           {
            "type": "mesh3d",
            "colorbar": {
             "outlinewidth": 0,
             "ticks": ""
            }
           }
          ],
          "scatter": [
           {
            "marker": {
             "line": {
              "color": "#283442"
             }
            },
            "type": "scatter"
           }
          ],
          "parcoords": [
           {
            "type": "parcoords",
            "line": {
             "colorbar": {
              "outlinewidth": 0,
              "ticks": ""
             }
            }
           }
          ],
          "scatterpolargl": [
           {
            "type": "scatterpolargl",
            "marker": {
             "colorbar": {
              "outlinewidth": 0,
              "ticks": ""
             }
            }
           }
          ],
          "bar": [
           {
            "error_x": {
             "color": "#f2f5fa"
            },
            "error_y": {
             "color": "#f2f5fa"
            },
            "marker": {
             "line": {
              "color": "rgb(17,17,17)",
              "width": 0.5
             },
             "pattern": {
              "fillmode": "overlay",
              "size": 10,
              "solidity": 0.2
             }
            },
            "type": "bar"
           }
          ],
          "scattergeo": [
           {
            "type": "scattergeo",
            "marker": {
             "colorbar": {
              "outlinewidth": 0,
              "ticks": ""
             }
            }
           }
          ],
          "scatterpolar": [
           {
            "type": "scatterpolar",
            "marker": {
             "colorbar": {
              "outlinewidth": 0,
              "ticks": ""
             }
            }
           }
          ],
          "histogram": [
           {
            "marker": {
             "pattern": {
              "fillmode": "overlay",
              "size": 10,
              "solidity": 0.2
             }
            },
            "type": "histogram"
           }
          ],
          "scattergl": [
           {
            "marker": {
             "line": {
              "color": "#283442"
             }
            },
            "type": "scattergl"
           }
          ],
          "scatter3d": [
           {
            "type": "scatter3d",
            "line": {
             "colorbar": {
              "outlinewidth": 0,
              "ticks": ""
             }
            },
            "marker": {
             "colorbar": {
              "outlinewidth": 0,
              "ticks": ""
             }
            }
           }
          ],
          "scattermap": [
           {
            "type": "scattermap",
            "marker": {
             "colorbar": {
              "outlinewidth": 0,
              "ticks": ""
             }
            }
           }
          ],
          "scattermapbox": [
           {
            "type": "scattermapbox",
            "marker": {
             "colorbar": {
              "outlinewidth": 0,
              "ticks": ""
             }
            }
           }
          ],
          "scatterternary": [
           {
            "type": "scatterternary",
            "marker": {
             "colorbar": {
              "outlinewidth": 0,
              "ticks": ""
             }
            }
           }
          ],
          "scattercarpet": [
           {
            "type": "scattercarpet",
            "marker": {
             "colorbar": {
              "outlinewidth": 0,
              "ticks": ""
             }
            }
           }
          ],
          "carpet": [
           {
            "aaxis": {
             "endlinecolor": "#A2B1C6",
             "gridcolor": "#506784",
             "linecolor": "#506784",
             "minorgridcolor": "#506784",
             "startlinecolor": "#A2B1C6"
            },
            "baxis": {
             "endlinecolor": "#A2B1C6",
             "gridcolor": "#506784",
             "linecolor": "#506784",
             "minorgridcolor": "#506784",
             "startlinecolor": "#A2B1C6"
            },
            "type": "carpet"
           }
          ],
          "table": [
           {
            "cells": {
             "fill": {
              "color": "#506784"
             },
             "line": {
              "color": "rgb(17,17,17)"
             }
            },
            "header": {
             "fill": {
              "color": "#2a3f5f"
             },
             "line": {
              "color": "rgb(17,17,17)"
             }
            },
            "type": "table"
           }
          ],
          "barpolar": [
           {
            "marker": {
             "line": {
              "color": "rgb(17,17,17)",
              "width": 0.5
             },
             "pattern": {
              "fillmode": "overlay",
              "size": 10,
              "solidity": 0.2
             }
            },
            "type": "barpolar"
           }
          ],
          "pie": [
           {
            "automargin": true,
            "type": "pie"
           }
          ]
         },
         "layout": {
          "autotypenumbers": "strict",
          "colorway": [
           "#636efa",
           "#EF553B",
           "#00cc96",
           "#ab63fa",
           "#FFA15A",
           "#19d3f3",
           "#FF6692",
           "#B6E880",
           "#FF97FF",
           "#FECB52"
          ],
          "font": {
           "color": "#f2f5fa"
          },
          "hovermode": "closest",
          "hoverlabel": {
           "align": "left"
          },
          "paper_bgcolor": "rgb(17,17,17)",
          "plot_bgcolor": "rgb(17,17,17)",
          "polar": {
           "bgcolor": "rgb(17,17,17)",
           "angularaxis": {
            "gridcolor": "#506784",
            "linecolor": "#506784",
            "ticks": ""
           },
           "radialaxis": {
            "gridcolor": "#506784",
            "linecolor": "#506784",
            "ticks": ""
           }
          },
          "ternary": {
           "bgcolor": "rgb(17,17,17)",
           "aaxis": {
            "gridcolor": "#506784",
            "linecolor": "#506784",
            "ticks": ""
           },
           "baxis": {
            "gridcolor": "#506784",
            "linecolor": "#506784",
            "ticks": ""
           },
           "caxis": {
            "gridcolor": "#506784",
            "linecolor": "#506784",
            "ticks": ""
           }
          },
          "coloraxis": {
           "colorbar": {
            "outlinewidth": 0,
            "ticks": ""
           }
          },
          "colorscale": {
           "sequential": [
            [
             0.0,
             "#0d0887"
            ],
            [
             0.1111111111111111,
             "#46039f"
            ],
            [
             0.2222222222222222,
             "#7201a8"
            ],
            [
             0.3333333333333333,
             "#9c179e"
            ],
            [
             0.4444444444444444,
             "#bd3786"
            ],
            [
             0.5555555555555556,
             "#d8576b"
            ],
            [
             0.6666666666666666,
             "#ed7953"
            ],
            [
             0.7777777777777778,
             "#fb9f3a"
            ],
            [
             0.8888888888888888,
             "#fdca26"
            ],
            [
             1.0,
             "#f0f921"
            ]
           ],
           "sequentialminus": [
            [
             0.0,
             "#0d0887"
            ],
            [
             0.1111111111111111,
             "#46039f"
            ],
            [
             0.2222222222222222,
             "#7201a8"
            ],
            [
             0.3333333333333333,
             "#9c179e"
            ],
            [
             0.4444444444444444,
             "#bd3786"
            ],
            [
             0.5555555555555556,
             "#d8576b"
            ],
            [
             0.6666666666666666,
             "#ed7953"
            ],
            [
             0.7777777777777778,
             "#fb9f3a"
            ],
            [
             0.8888888888888888,
             "#fdca26"
            ],
            [
             1.0,
             "#f0f921"
            ]
           ],
           "diverging": [
            [
             0,
             "#8e0152"
            ],
            [
             0.1,
             "#c51b7d"
            ],
            [
             0.2,
             "#de77ae"
            ],
            [
             0.3,
             "#f1b6da"
            ],
            [
             0.4,
             "#fde0ef"
            ],
            [
             0.5,
             "#f7f7f7"
            ],
            [
             0.6,
             "#e6f5d0"
            ],
            [
             0.7,
             "#b8e186"
            ],
            [
             0.8,
             "#7fbc41"
            ],
            [
             0.9,
             "#4d9221"
            ],
            [
             1,
             "#276419"
            ]
           ]
          },
          "xaxis": {
           "gridcolor": "#283442",
           "linecolor": "#506784",
           "ticks": "",
           "title": {
            "standoff": 15
           },
           "zerolinecolor": "#283442",
           "automargin": true,
           "zerolinewidth": 2
          },
          "yaxis": {
           "gridcolor": "#283442",
           "linecolor": "#506784",
           "ticks": "",
           "title": {
            "standoff": 15
           },
           "zerolinecolor": "#283442",
           "automargin": true,
           "zerolinewidth": 2
          },
          "scene": {
           "xaxis": {
            "backgroundcolor": "rgb(17,17,17)",
            "gridcolor": "#506784",
            "linecolor": "#506784",
            "showbackground": true,
            "ticks": "",
            "zerolinecolor": "#C8D4E3",
            "gridwidth": 2
           },
           "yaxis": {
            "backgroundcolor": "rgb(17,17,17)",
            "gridcolor": "#506784",
            "linecolor": "#506784",
            "showbackground": true,
            "ticks": "",
            "zerolinecolor": "#C8D4E3",
            "gridwidth": 2
           },
           "zaxis": {
            "backgroundcolor": "rgb(17,17,17)",
            "gridcolor": "#506784",
            "linecolor": "#506784",
            "showbackground": true,
            "ticks": "",
            "zerolinecolor": "#C8D4E3",
            "gridwidth": 2
           }
          },
          "shapedefaults": {
           "line": {
            "color": "#f2f5fa"
           }
          },
          "annotationdefaults": {
           "arrowcolor": "#f2f5fa",
           "arrowhead": 0,
           "arrowwidth": 1
          },
          "geo": {
           "bgcolor": "rgb(17,17,17)",
           "landcolor": "rgb(17,17,17)",
           "subunitcolor": "#506784",
           "showland": true,
           "showlakes": true,
           "lakecolor": "rgb(17,17,17)"
          },
          "title": {
           "x": 0.05
          },
          "updatemenudefaults": {
           "bgcolor": "#506784",
           "borderwidth": 0
          },
          "sliderdefaults": {
           "bgcolor": "#C8D4E3",
           "borderwidth": 1,
           "bordercolor": "rgb(17,17,17)",
           "tickwidth": 0
          },
          "mapbox": {
           "style": "dark"
          }
         }
        },
        "title": {
         "text": "TRPO on Pendulum-v1"
        },
        "xaxis": {
         "title": {
          "text": "Episodes"
         }
        },
        "yaxis": {
         "title": {
          "text": "Returns"
         }
        },
        "showlegend": true
       },
       "config": {
        "plotlyServerURL": "https://plot.ly"
       }
      }
     },
     "metadata": {},
     "output_type": "display_data",
     "jetTransient": {
      "display_id": null
     }
    }
   ],
   "execution_count": 2
  },
  {
   "cell_type": "markdown",
   "id": "c3f29bd7d401a90",
   "metadata": {
    "collapsed": false
   },
   "source": [
    "可见，**TRPO** 算法也能实行在 **连续动作交互的倒立摆环境** 中\n",
    "但每一步更新的运算量大"
   ]
  },
  {
   "cell_type": "markdown",
   "id": "cafe55a978d1452d",
   "metadata": {
    "collapsed": false
   },
   "source": []
  }
 ],
 "metadata": {
  "kernelspec": {
   "display_name": "Python 3 (ipykernel)",
   "language": "python",
   "name": "python3"
  },
  "language_info": {
   "codemirror_mode": {
    "name": "ipython",
    "version": 3
   },
   "file_extension": ".py",
   "mimetype": "text/x-python",
   "name": "python",
   "nbconvert_exporter": "python",
   "pygments_lexer": "ipython3",
   "version": "3.12.9"
  }
 },
 "nbformat": 4,
 "nbformat_minor": 5
}
