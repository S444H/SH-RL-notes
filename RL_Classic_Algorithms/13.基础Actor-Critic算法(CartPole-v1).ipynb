{
 "cells": [
  {
   "cell_type": "markdown",
   "id": "a53d19083436743f",
   "metadata": {
    "collapsed": false
   },
   "source": [
    "# 13.基础Actor-Critic算法\n",
    "> **Actor-Critic（执行者-评论者）** 算法结合了 **基于值** 的学习方法（如Q学习）和 **基于策略** 的学习方法（如策略梯度）。这种方法将智能体的学习过程分为两个部分： **Actor（执行者）** 和 **Critic（评论者）**，每个部分负责不同的任务：**Actor** 通过策略采取行动，**Critic** 通过价值函数给 **Actor** 反馈当前状态或状态-动作对的“好坏”。其本质上是 **基于策略** 的算法，算法的目标是优化一个带参数的策略，只是会额外学习价值函数，从而帮助策略函数更好地学习。\n",
    "> **Actor-Critic** 是囊括一系列算法的**整体架构**，目前很多高效的前沿算法都属于 **Actor-Critic** 算法。\n",
    "> **Actor-Critic** 算法最早的理论基础和框架由 Bertsekas 和 Tsitsiklis 在他们的经典书籍《Neuro-Dynamic Programming》（1989年）中提出，正式提出在[Actor-Critic Algorithms（2000年）](https://proceedings.neurips.cc/paper_files/paper/1999/file/6449f44a102fde848669bdd9eb6b76fa-Paper.pdf)论文中。\n",
    "\n",
    "> 本节会学习一种最基础的 **Actor-Critic** 算法："
   ]
  },
  {
   "cell_type": "markdown",
   "id": "4f85180838e1e5f1",
   "metadata": {
    "collapsed": false
   },
   "source": [
    "## 13.1 Actor-Critic原理\n",
    "> 前面学习到策略梯度，可以表示为：\n",
    "$$grad=\\mathbb{E}\\left[\\sum_{t=0}^T\\psi_t\\nabla_\\theta\\log\\pi_\\theta(a_t|s_t)\\right]$$\n",
    "> 其中，$\\psi_t$有很多种形式：\n",
    "$$\\begin{aligned}\n",
    " & 1.\\sum_{t^{\\prime}=0}^{T}\\gamma^{t^{\\prime}}r_{t^{\\prime}}:\\text{轨迹的总回报;} \\\\\n",
    " & 2.\\sum_{t^{\\prime}=t}^T\\gamma^{t^{\\prime}-t}r_{t^{\\prime}}:\\text{动作}a_t\\text{之后的回报;} \\\\\n",
    " & 3.\\sum_{t^{\\prime}=t}^T\\gamma^{t^{\\prime}-t}r_{t^{\\prime}}-b(s_t):\\text{基准线版本的改进;} \\\\\n",
    " & 4.Q^{\\pi_{\\theta}}(s_{t},a_{t}):\\text{动作价值函数;} \\\\\n",
    " & 5.A^{\\pi_{\\theta}}(s_{t},a_{t}):\\text{优势函数;} \\\\\n",
    " & 6.r_t+\\gamma V^{\\pi_\\theta}(s_{t+1})-V^{\\pi_\\theta}(s_t):\\text{时序差分残差.}\n",
    "\\end{aligned}$$"
   ]
  },
  {
   "cell_type": "markdown",
   "id": "51edc577eae1b111",
   "metadata": {
    "collapsed": false
   },
   "source": [
    "### 本节采用**形式6**，$\\delta_t=\\underbrace{r_t+\\gamma V(s_{t+1})}_{\\text{bootstrapped 回报}}-\\underbrace{V(s_t)}_{\\text{当前估计}}$，它衡量着**当前估计**和**实际回报**之间的差异\n",
    "> Bootstrap：用当前估计的未来回报替代未来真实回报"
   ]
  },
  {
   "cell_type": "markdown",
   "id": "92b66529708701d9",
   "metadata": {
    "collapsed": false
   },
   "source": [
    "> 这里有一个非常需要**注意**的点：前5种方式都是对应价值函数越大越好，但第6种形式看起来“误差越小越好”，这改变了最大化期望回报的优化方向了吗？实际上仍然是最大化期望回报： 因为从**Critic（评论者）** 角度看，**Actor（执行者）** 执行了某个动作，如果该动作与之前比确实好价值高，此时正误差就应该是大的，于是**Actor（策略网络）** 向梯度方向增加好动作的概率，同时**Critic（价值网络）** 也会最小化该误差，定义**损失函数**为：\n",
    "$$\\mathcal{L}(\\omega)=\\frac{1}{2}(r+\\gamma V_\\omega(s_{t+1})-V_\\omega(s_t))^2$$\n",
    "> **Critic（价值网络）** 梯度：\n",
    "$$\\nabla_\\omega\\mathcal{L}(\\omega)=-(r+\\gamma V_\\omega(s_{t+1})-V_\\omega(s_t))\\nabla_\\omega V_\\omega(s_t)=-\\delta_t$$\n",
    "> 且更新**价值参数**：$w=w+\\alpha_\\omega\\sum_t\\delta_t\\nabla_\\omega V_\\omega(s_t)$，使得下一次执行该动作后误差变小，如此在**Critic（评论者）** 看来价值也相对没那么高，稳定了动作概率的提升。\n",
    "\n",
    "> 从这也可以看出 **时序差分残差** 可以与 **优势函数A** 相互替换，两者都衡量了不同动作的好坏。\n"
   ]
  },
  {
   "cell_type": "markdown",
   "id": "9b4c4b31e20579b9",
   "metadata": {
    "collapsed": false
   },
   "source": [
    "> 也可以从另一个角度看:\n",
    "$$\\nabla J(\\theta)\\approx\\mathbb{E}_{s_t,a_t}\\left[\\nabla\\log\\pi_\\theta(a_t|s_t)\\cdot(r_t+\\gamma V_\\phi(s_{t+1})-V_\\phi(s_t))\\right]$$\n",
    "> 减去$V_\\phi(s_t)$ 仅相当于减去一个基线项，不改变期望，只是降低方差"
   ]
  },
  {
   "cell_type": "markdown",
   "id": "8c7dfaa0f3b413c2",
   "metadata": {
    "collapsed": false
   },
   "source": [
    "## 13.2 Actor-Critic 代码实践\n",
    "> 仍在 **车杆环境** 下进行 Actor-Critic 算法的实验"
   ]
  },
  {
   "cell_type": "markdown",
   "id": "4f2747ef8cddfb77",
   "metadata": {
    "collapsed": false
   },
   "source": [
    "导入相关库："
   ]
  },
  {
   "cell_type": "code",
   "execution_count": 1,
   "id": "3a25d693ee73d93d",
   "metadata": {
    "ExecuteTime": {
     "end_time": "2025-07-28T08:59:00.748606400Z",
     "start_time": "2025-07-28T08:58:55.509998500Z"
    },
    "collapsed": false
   },
   "outputs": [],
   "source": [
    "# 基本库\n",
    "import numpy as np\n",
    "from tqdm import tqdm\n",
    "from utils.smoothing import moving_average\n",
    "# 神经网络\n",
    "import torch\n",
    "import torch.nn.functional as F\n",
    "# Gymnasium 是一个用于开发和测试强化学习算法的工具库，为 OpenAI Gym 的更新版本（2021迁移开发）\n",
    "import gymnasium as gym"
   ]
  },
  {
   "cell_type": "markdown",
   "id": "2794846066f1b80b",
   "metadata": {
    "collapsed": false
   },
   "source": [
    "定义策略网络PolicyNet（与 REINFORCE 算法一样）："
   ]
  },
  {
   "cell_type": "code",
   "execution_count": 2,
   "id": "f485c7330c87ed18",
   "metadata": {
    "ExecuteTime": {
     "end_time": "2025-07-28T08:59:00.757804200Z",
     "start_time": "2025-07-28T08:59:00.748606400Z"
    },
    "collapsed": false
   },
   "outputs": [],
   "source": [
    "class PolicyNet(torch.nn.Module):\n",
    "    def __init__(self, state_dim, hidden_dim, action_dim):\n",
    "        super(PolicyNet, self).__init__()\n",
    "        self.fc1 = torch.nn.Linear(state_dim, hidden_dim)\n",
    "        self.fc2 = torch.nn.Linear(hidden_dim, action_dim)\n",
    "\n",
    "    def forward(self, x):\n",
    "        x = F.relu(self.fc1(x))\n",
    "        return F.softmax(self.fc2(x), dim=1)"
   ]
  },
  {
   "cell_type": "markdown",
   "id": "ac72b94e4b19bed8",
   "metadata": {
    "collapsed": false
   },
   "source": [
    "定义价值网络ValueNet："
   ]
  },
  {
   "cell_type": "code",
   "execution_count": 3,
   "id": "892a1301b3acb35e",
   "metadata": {
    "ExecuteTime": {
     "end_time": "2025-07-28T08:59:00.767130900Z",
     "start_time": "2025-07-28T08:59:00.755800900Z"
    },
    "collapsed": false
   },
   "outputs": [],
   "source": [
    "class ValueNet(torch.nn.Module):\n",
    "    def __init__(self, state_dim, hidden_dim):\n",
    "        super(ValueNet, self).__init__()\n",
    "        self.fc1 = torch.nn.Linear(state_dim, hidden_dim)\n",
    "        self.fc2 = torch.nn.Linear(hidden_dim, 1)\n",
    "\n",
    "    def forward(self, x):\n",
    "        x = F.relu(self.fc1(x))\n",
    "        return self.fc2(x)"
   ]
  },
  {
   "cell_type": "markdown",
   "id": "38114b859e307cb",
   "metadata": {
    "collapsed": false
   },
   "source": [
    "定义 Actor-Critic 算法："
   ]
  },
  {
   "cell_type": "code",
   "execution_count": 4,
   "id": "bf612ea152953279",
   "metadata": {
    "ExecuteTime": {
     "end_time": "2025-07-28T08:59:00.798855800Z",
     "start_time": "2025-07-28T08:59:00.767130900Z"
    },
    "collapsed": false
   },
   "outputs": [],
   "source": [
    "class ActorCritic:\n",
    "    def __init__(self, state_dim, hidden_dim, action_dim, actor_lr, critic_lr, gamma, device):\n",
    "        \n",
    "        self.actor = PolicyNet(state_dim, hidden_dim, action_dim).to(device)  # 策略网络\n",
    "        self.critic = ValueNet(state_dim, hidden_dim).to(device)  # 价值网络\n",
    "        self.actor_optimizer = torch.optim.Adam(self.actor.parameters(), lr=actor_lr)  # 策略网络优化器\n",
    "        self.critic_optimizer = torch.optim.Adam(self.critic.parameters(), lr=critic_lr)  # 价值网络优化器\n",
    "        self.gamma = gamma\n",
    "        self.device = device\n",
    "\n",
    "    def take_action(self, state):\n",
    "        state = torch.tensor(np.array([state]), dtype=torch.float).to(self.device)\n",
    "        probs = self.actor(state)\n",
    "        action_dist = torch.distributions.Categorical(probs)\n",
    "        action = action_dist.sample()\n",
    "        return action.item()\n",
    "\n",
    "    def update(self, transition_dict):\n",
    "        states_np = np.array(transition_dict['states'])  # 转换成统一的大 np.ndarray，PyTorch更高效处理\n",
    "        # 之前的算法代码中没有,是因为已在replay_buffer方法中转换过了\n",
    "        states = torch.tensor(states_np, dtype=torch.float).to(self.device)\n",
    "        actions = torch.tensor(transition_dict['actions']).view(-1, 1).to(self.device)\n",
    "        rewards = torch.tensor(transition_dict['rewards'], dtype=torch.float).view(-1, 1).to(self.device)\n",
    "        next_states_np = np.array(transition_dict['next_states'])  # 转换成统一的大 np.ndarray，PyTorch更高效处理\n",
    "        next_states = torch.tensor(next_states_np, dtype=torch.float).to(self.device)\n",
    "        dones = torch.tensor(transition_dict['dones'], dtype=torch.float).view(-1, 1).to(self.device)\n",
    "\n",
    "        td_target = rewards + self.gamma * self.critic(next_states) * (1 - dones)  # 时序差分目标\n",
    "        td_delta = td_target - self.critic(states)                                 # 时序差分误差\n",
    "        log_probs = torch.log(self.actor(states).gather(1, actions))\n",
    "        actor_loss = torch.mean(-log_probs * td_delta.detach())  # 会“向前”计算价值网络的梯度，需要 .detach() 截断 \n",
    "        critic_loss = torch.mean(F.mse_loss(self.critic(states), td_target.detach()))  # 均方误差损失函数\n",
    "        self.actor_optimizer.zero_grad()  \n",
    "        self.critic_optimizer.zero_grad()\n",
    "        actor_loss.backward()  # 计算策略网络的梯度\n",
    "        critic_loss.backward()  # 计算价值网络的梯度\n",
    "        self.actor_optimizer.step()  # 更新策略网络的参数\n",
    "        self.critic_optimizer.step()  # 更新价值网络的参数"
   ]
  },
  {
   "cell_type": "markdown",
   "id": "1d242ed134945be3",
   "metadata": {
    "collapsed": false
   },
   "source": [
    "环境设置（'CartPole-v1'）："
   ]
  },
  {
   "cell_type": "code",
   "execution_count": 5,
   "id": "ddd7ac8569afe5a4",
   "metadata": {
    "ExecuteTime": {
     "end_time": "2025-07-28T08:59:00.800850700Z",
     "start_time": "2025-07-28T08:59:00.774539400Z"
    },
    "collapsed": false
   },
   "outputs": [
    {
     "name": "stdout",
     "output_type": "stream",
     "text": [
      "Environment spec: EnvSpec(id='CartPole-v1', entry_point='gymnasium.envs.classic_control.cartpole:CartPoleEnv', reward_threshold=475.0, nondeterministic=False, max_episode_steps=500, order_enforce=True, disable_env_checker=False, kwargs={}, namespace=None, name='CartPole', version=1, additional_wrappers=(), vector_entry_point='gymnasium.envs.classic_control.cartpole:CartPoleVectorEnv')\n"
     ]
    }
   ],
   "source": [
    "np.random.seed(0)    # 设置 NumPy 的随机种子\n",
    "torch.manual_seed(0) # 设置 PyTorch CPU 随机种子\n",
    "torch.cuda.manual_seed_all(0) # 设置 PyTorch GPU 随机种子, 由于GPU并行性, 只能极大减小偏差\n",
    "\n",
    "env = gym.make('CartPole-v1')  # CartPole-v1 最大回合步数修改到了500步(v0为200)\n",
    "#env = env.unwrapped # 获取原始环境（绕过 TimeLimit 包装器）解除最大步数500限制\n",
    "env.reset(seed=0)   # 环境通常依赖于其他随机数生成器来初始化状态、进行探索(推荐位于以上随机之后)\n",
    "print(\"Environment spec:\", env.spec)"
   ]
  },
  {
   "cell_type": "markdown",
   "id": "e38f07f35c9aac22",
   "metadata": {
    "collapsed": false
   },
   "source": [
    "超参数设置："
   ]
  },
  {
   "cell_type": "code",
   "execution_count": 6,
   "id": "91f74ee10d9dda",
   "metadata": {
    "collapsed": false
   },
   "outputs": [],
   "source": [
    "state_dim = env.observation_space.shape[0]\n",
    "hidden_dim = 128\n",
    "action_dim = env.action_space.n\n",
    "actor_lr = 1e-3\n",
    "critic_lr = 1e-2\n",
    "gamma = 0.98\n",
    "device = torch.device(\"cuda\") if torch.cuda.is_available() else torch.device( \"cpu\")\n",
    "agent = ActorCritic(state_dim, hidden_dim, action_dim, actor_lr, critic_lr, gamma, device)\n",
    "\n",
    "num_episodes = 1000"
   ]
  },
  {
   "cell_type": "markdown",
   "id": "6871da01c1b3c495",
   "metadata": {
    "collapsed": false
   },
   "source": [
    "测试与训练:\n",
    "> **在线策略学习训练代码**之后将包装到utils：*from utils.training import train_on_policy_agent*"
   ]
  },
  {
   "cell_type": "code",
   "execution_count": 7,
   "id": "ffce3bcd99cc71af",
   "metadata": {
    "collapsed": false
   },
   "outputs": [
    {
     "name": "stderr",
     "output_type": "stream",
     "text": [
      "Iteration 0: 100%|██████████| 100/100 [00:03<00:00, 28.10it/s, episode=100, return=24.900]\n",
      "Iteration 1: 100%|██████████| 100/100 [00:06<00:00, 14.50it/s, episode=200, return=55.600]\n",
      "Iteration 2: 100%|██████████| 100/100 [00:14<00:00,  7.11it/s, episode=300, return=143.100]\n",
      "Iteration 3: 100%|██████████| 100/100 [00:29<00:00,  3.36it/s, episode=400, return=237.000]\n",
      "Iteration 4: 100%|██████████| 100/100 [00:41<00:00,  2.43it/s, episode=500, return=250.500]\n",
      "Iteration 5: 100%|██████████| 100/100 [00:55<00:00,  1.79it/s, episode=600, return=378.400]\n",
      "Iteration 6: 100%|██████████| 100/100 [00:59<00:00,  1.69it/s, episode=700, return=348.800]\n",
      "Iteration 7: 100%|██████████| 100/100 [01:07<00:00,  1.48it/s, episode=800, return=465.400]\n",
      "Iteration 8: 100%|██████████| 100/100 [01:11<00:00,  1.39it/s, episode=900, return=485.000]\n",
      "Iteration 9: 100%|██████████| 100/100 [01:11<00:00,  1.40it/s, episode=1000, return=500.000]\n"
     ]
    }
   ],
   "source": [
    "return_list = []\n",
    "for i in range(10):\n",
    "    with tqdm(total=int(num_episodes / 10), desc='Iteration %d' % i) as pbar:\n",
    "        for i_episode in range(int(num_episodes / 10)):\n",
    "            episode_return = 0\n",
    "            transition_dict = {\n",
    "                'states': [],\n",
    "                'actions': [],\n",
    "                'next_states': [],\n",
    "                'rewards': [],\n",
    "                'dones': []\n",
    "            }\n",
    "            state, info = env.reset()  # 测试阶段(调整参数与对比算法)种子应固定; 训练阶段不固定，提高泛化能力\n",
    "            done = False\n",
    "            truncated = False\n",
    "            while not (done or truncated):  # 杆子倒下或达到最大步数\n",
    "                action = agent.take_action(state)\n",
    "                next_state, reward, done, truncated, _ = env.step(action)  # Gymnasium返回值不一样\n",
    "                transition_dict['states'].append(state)\n",
    "                transition_dict['actions'].append(action)\n",
    "                transition_dict['next_states'].append(next_state)\n",
    "                transition_dict['rewards'].append(reward)\n",
    "                transition_dict['dones'].append(done)\n",
    "                state = next_state\n",
    "                episode_return += reward\n",
    "            return_list.append(episode_return)\n",
    "            agent.update(transition_dict)\n",
    "            \n",
    "            if (i_episode+1) % 10 == 0:\n",
    "                pbar.set_postfix({'episode': '%d' % (num_episodes/10 * i + i_episode+1), 'return': '%.3f' % np.mean(return_list[-10:])})\n",
    "            pbar.update(1)"
   ]
  },
  {
   "cell_type": "markdown",
   "id": "5b6859b3e6cda9c5",
   "metadata": {
    "collapsed": false
   },
   "source": [
    "绘图："
   ]
  },
  {
   "cell_type": "code",
   "execution_count": 8,
   "id": "a413c40c01300ace",
   "metadata": {
    "collapsed": false
   },
   "outputs": [],
   "source": [
    "import pandas as pd\n",
    "episodes_list = list(range(len(return_list)))\n",
    "mv_return = moving_average(return_list, 9)\n",
    "# 创建 DataFrame\n",
    "df1 = pd.DataFrame({'Episodes': episodes_list, 'Returns': return_list})\n",
    "df2 = pd.DataFrame({'Episodes': episodes_list, 'Returns': mv_return})\n",
    "# 保存为 CSV 文件\n",
    "df1.to_csv('AC_returns_data.csv', index=False)\n",
    "df2.to_csv('AC_mv_returns_data.csv', index=False)"
   ]
  },
  {
   "cell_type": "code",
   "id": "a6ca9f739394b915",
   "metadata": {
    "collapsed": false,
    "ExecuteTime": {
     "end_time": "2025-09-25T10:11:06.993806Z",
     "start_time": "2025-09-25T10:11:06.440254Z"
    }
   },
   "source": [
    "import plotly.graph_objects as go\n",
    "import pandas as pd\n",
    "df = pd.read_csv('./Data/AC_returns_data.csv')  # 从 CSV 文件中读取数据\n",
    "fig = go.Figure()\n",
    "fig.add_trace(go.Scatter(x=df['Episodes'], y=df['Returns'], mode='lines', name='Returns'))\n",
    "fig.update_layout(\n",
    "    title='AC on CartPole-v1',\n",
    "    xaxis_title='Episodes',\n",
    "    yaxis_title='Returns',\n",
    "    showlegend=True\n",
    ")\n",
    "fig.show()"
   ],
   "outputs": [
    {
     "data": {
      "application/vnd.plotly.v1+json": {
       "data": [
        {
         "mode": "lines",
         "name": "Returns",
         "x": {
          "dtype": "i2",
          "bdata": "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"
         },
         "y": {
          "dtype": "f8",
          "bdata": "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"
         },
         "type": "scatter"
        }
       ],
       "layout": {
        "template": {
         "data": {
          "histogram2dcontour": [
           {
            "type": "histogram2dcontour",
            "colorbar": {
             "outlinewidth": 0,
             "ticks": ""
            },
            "colorscale": [
             [
              0.0,
              "#0d0887"
             ],
             [
              0.1111111111111111,
              "#46039f"
             ],
             [
              0.2222222222222222,
              "#7201a8"
             ],
             [
              0.3333333333333333,
              "#9c179e"
             ],
             [
              0.4444444444444444,
              "#bd3786"
             ],
             [
              0.5555555555555556,
              "#d8576b"
             ],
             [
              0.6666666666666666,
              "#ed7953"
             ],
             [
              0.7777777777777778,
              "#fb9f3a"
             ],
             [
              0.8888888888888888,
              "#fdca26"
             ],
             [
              1.0,
              "#f0f921"
             ]
            ]
           }
          ],
          "choropleth": [
           {
            "type": "choropleth",
            "colorbar": {
             "outlinewidth": 0,
             "ticks": ""
            }
           }
          ],
          "histogram2d": [
           {
            "type": "histogram2d",
            "colorbar": {
             "outlinewidth": 0,
             "ticks": ""
            },
            "colorscale": [
             [
              0.0,
              "#0d0887"
             ],
             [
              0.1111111111111111,
              "#46039f"
             ],
             [
              0.2222222222222222,
              "#7201a8"
             ],
             [
              0.3333333333333333,
              "#9c179e"
             ],
             [
              0.4444444444444444,
              "#bd3786"
             ],
             [
              0.5555555555555556,
              "#d8576b"
             ],
             [
              0.6666666666666666,
              "#ed7953"
             ],
             [
              0.7777777777777778,
              "#fb9f3a"
             ],
             [
              0.8888888888888888,
              "#fdca26"
             ],
             [
              1.0,
              "#f0f921"
             ]
            ]
           }
          ],
          "heatmap": [
           {
            "type": "heatmap",
            "colorbar": {
             "outlinewidth": 0,
             "ticks": ""
            },
            "colorscale": [
             [
              0.0,
              "#0d0887"
             ],
             [
              0.1111111111111111,
              "#46039f"
             ],
             [
              0.2222222222222222,
              "#7201a8"
             ],
             [
              0.3333333333333333,
              "#9c179e"
             ],
             [
              0.4444444444444444,
              "#bd3786"
             ],
             [
              0.5555555555555556,
              "#d8576b"
             ],
             [
              0.6666666666666666,
              "#ed7953"
             ],
             [
              0.7777777777777778,
              "#fb9f3a"
             ],
             [
              0.8888888888888888,
              "#fdca26"
             ],
             [
              1.0,
              "#f0f921"
             ]
            ]
           }
          ],
          "contourcarpet": [
           {
            "type": "contourcarpet",
            "colorbar": {
             "outlinewidth": 0,
             "ticks": ""
            }
           }
          ],
          "contour": [
           {
            "type": "contour",
            "colorbar": {
             "outlinewidth": 0,
             "ticks": ""
            },
            "colorscale": [
             [
              0.0,
              "#0d0887"
             ],
             [
              0.1111111111111111,
              "#46039f"
             ],
             [
              0.2222222222222222,
              "#7201a8"
             ],
             [
              0.3333333333333333,
              "#9c179e"
             ],
             [
              0.4444444444444444,
              "#bd3786"
             ],
             [
              0.5555555555555556,
              "#d8576b"
             ],
             [
              0.6666666666666666,
              "#ed7953"
             ],
             [
              0.7777777777777778,
              "#fb9f3a"
             ],
             [
              0.8888888888888888,
              "#fdca26"
             ],
             [
              1.0,
              "#f0f921"
             ]
            ]
           }
          ],
          "surface": [
           {
            "type": "surface",
            "colorbar": {
             "outlinewidth": 0,
             "ticks": ""
            },
            "colorscale": [
             [
              0.0,
              "#0d0887"
             ],
             [
              0.1111111111111111,
              "#46039f"
             ],
             [
              0.2222222222222222,
              "#7201a8"
             ],
             [
              0.3333333333333333,
              "#9c179e"
             ],
             [
              0.4444444444444444,
              "#bd3786"
             ],
             [
              0.5555555555555556,
              "#d8576b"
             ],
             [
              0.6666666666666666,
              "#ed7953"
             ],
             [
              0.7777777777777778,
              "#fb9f3a"
             ],
             [
              0.8888888888888888,
              "#fdca26"
             ],
             [
              1.0,
              "#f0f921"
             ]
            ]
           }
          ],
          "mesh3d": [
           {
            "type": "mesh3d",
            "colorbar": {
             "outlinewidth": 0,
             "ticks": ""
            }
           }
          ],
          "scatter": [
           {
            "marker": {
             "line": {
              "color": "#283442"
             }
            },
            "type": "scatter"
           }
          ],
          "parcoords": [
           {
            "type": "parcoords",
            "line": {
             "colorbar": {
              "outlinewidth": 0,
              "ticks": ""
             }
            }
           }
          ],
          "scatterpolargl": [
           {
            "type": "scatterpolargl",
            "marker": {
             "colorbar": {
              "outlinewidth": 0,
              "ticks": ""
             }
            }
           }
          ],
          "bar": [
           {
            "error_x": {
             "color": "#f2f5fa"
            },
            "error_y": {
             "color": "#f2f5fa"
            },
            "marker": {
             "line": {
              "color": "rgb(17,17,17)",
              "width": 0.5
             },
             "pattern": {
              "fillmode": "overlay",
              "size": 10,
              "solidity": 0.2
             }
            },
            "type": "bar"
           }
          ],
          "scattergeo": [
           {
            "type": "scattergeo",
            "marker": {
             "colorbar": {
              "outlinewidth": 0,
              "ticks": ""
             }
            }
           }
          ],
          "scatterpolar": [
           {
            "type": "scatterpolar",
            "marker": {
             "colorbar": {
              "outlinewidth": 0,
              "ticks": ""
             }
            }
           }
          ],
          "histogram": [
           {
            "marker": {
             "pattern": {
              "fillmode": "overlay",
              "size": 10,
              "solidity": 0.2
             }
            },
            "type": "histogram"
           }
          ],
          "scattergl": [
           {
            "marker": {
             "line": {
              "color": "#283442"
             }
            },
            "type": "scattergl"
           }
          ],
          "scatter3d": [
           {
            "type": "scatter3d",
            "line": {
             "colorbar": {
              "outlinewidth": 0,
              "ticks": ""
             }
            },
            "marker": {
             "colorbar": {
              "outlinewidth": 0,
              "ticks": ""
             }
            }
           }
          ],
          "scattermap": [
           {
            "type": "scattermap",
            "marker": {
             "colorbar": {
              "outlinewidth": 0,
              "ticks": ""
             }
            }
           }
          ],
          "scattermapbox": [
           {
            "type": "scattermapbox",
            "marker": {
             "colorbar": {
              "outlinewidth": 0,
              "ticks": ""
             }
            }
           }
          ],
          "scatterternary": [
           {
            "type": "scatterternary",
            "marker": {
             "colorbar": {
              "outlinewidth": 0,
              "ticks": ""
             }
            }
           }
          ],
          "scattercarpet": [
           {
            "type": "scattercarpet",
            "marker": {
             "colorbar": {
              "outlinewidth": 0,
              "ticks": ""
             }
            }
           }
          ],
          "carpet": [
           {
            "aaxis": {
             "endlinecolor": "#A2B1C6",
             "gridcolor": "#506784",
             "linecolor": "#506784",
             "minorgridcolor": "#506784",
             "startlinecolor": "#A2B1C6"
            },
            "baxis": {
             "endlinecolor": "#A2B1C6",
             "gridcolor": "#506784",
             "linecolor": "#506784",
             "minorgridcolor": "#506784",
             "startlinecolor": "#A2B1C6"
            },
            "type": "carpet"
           }
          ],
          "table": [
           {
            "cells": {
             "fill": {
              "color": "#506784"
             },
             "line": {
              "color": "rgb(17,17,17)"
             }
            },
            "header": {
             "fill": {
              "color": "#2a3f5f"
             },
             "line": {
              "color": "rgb(17,17,17)"
             }
            },
            "type": "table"
           }
          ],
          "barpolar": [
           {
            "marker": {
             "line": {
              "color": "rgb(17,17,17)",
              "width": 0.5
             },
             "pattern": {
              "fillmode": "overlay",
              "size": 10,
              "solidity": 0.2
             }
            },
            "type": "barpolar"
           }
          ],
          "pie": [
           {
            "automargin": true,
            "type": "pie"
           }
          ]
         },
         "layout": {
          "autotypenumbers": "strict",
          "colorway": [
           "#636efa",
           "#EF553B",
           "#00cc96",
           "#ab63fa",
           "#FFA15A",
           "#19d3f3",
           "#FF6692",
           "#B6E880",
           "#FF97FF",
           "#FECB52"
          ],
          "font": {
           "color": "#f2f5fa"
          },
          "hovermode": "closest",
          "hoverlabel": {
           "align": "left"
          },
          "paper_bgcolor": "rgb(17,17,17)",
          "plot_bgcolor": "rgb(17,17,17)",
          "polar": {
           "bgcolor": "rgb(17,17,17)",
           "angularaxis": {
            "gridcolor": "#506784",
            "linecolor": "#506784",
            "ticks": ""
           },
           "radialaxis": {
            "gridcolor": "#506784",
            "linecolor": "#506784",
            "ticks": ""
           }
          },
          "ternary": {
           "bgcolor": "rgb(17,17,17)",
           "aaxis": {
            "gridcolor": "#506784",
            "linecolor": "#506784",
            "ticks": ""
           },
           "baxis": {
            "gridcolor": "#506784",
            "linecolor": "#506784",
            "ticks": ""
           },
           "caxis": {
            "gridcolor": "#506784",
            "linecolor": "#506784",
            "ticks": ""
           }
          },
          "coloraxis": {
           "colorbar": {
            "outlinewidth": 0,
            "ticks": ""
           }
          },
          "colorscale": {
           "sequential": [
            [
             0.0,
             "#0d0887"
            ],
            [
             0.1111111111111111,
             "#46039f"
            ],
            [
             0.2222222222222222,
             "#7201a8"
            ],
            [
             0.3333333333333333,
             "#9c179e"
            ],
            [
             0.4444444444444444,
             "#bd3786"
            ],
            [
             0.5555555555555556,
             "#d8576b"
            ],
            [
             0.6666666666666666,
             "#ed7953"
            ],
            [
             0.7777777777777778,
             "#fb9f3a"
            ],
            [
             0.8888888888888888,
             "#fdca26"
            ],
            [
             1.0,
             "#f0f921"
            ]
           ],
           "sequentialminus": [
            [
             0.0,
             "#0d0887"
            ],
            [
             0.1111111111111111,
             "#46039f"
            ],
            [
             0.2222222222222222,
             "#7201a8"
            ],
            [
             0.3333333333333333,
             "#9c179e"
            ],
            [
             0.4444444444444444,
             "#bd3786"
            ],
            [
             0.5555555555555556,
             "#d8576b"
            ],
            [
             0.6666666666666666,
             "#ed7953"
            ],
            [
             0.7777777777777778,
             "#fb9f3a"
            ],
            [
             0.8888888888888888,
             "#fdca26"
            ],
            [
             1.0,
             "#f0f921"
            ]
           ],
           "diverging": [
            [
             0,
             "#8e0152"
            ],
            [
             0.1,
             "#c51b7d"
            ],
            [
             0.2,
             "#de77ae"
            ],
            [
             0.3,
             "#f1b6da"
            ],
            [
             0.4,
             "#fde0ef"
            ],
            [
             0.5,
             "#f7f7f7"
            ],
            [
             0.6,
             "#e6f5d0"
            ],
            [
             0.7,
             "#b8e186"
            ],
            [
             0.8,
             "#7fbc41"
            ],
            [
             0.9,
             "#4d9221"
            ],
            [
             1,
             "#276419"
            ]
           ]
          },
          "xaxis": {
           "gridcolor": "#283442",
           "linecolor": "#506784",
           "ticks": "",
           "title": {
            "standoff": 15
           },
           "zerolinecolor": "#283442",
           "automargin": true,
           "zerolinewidth": 2
          },
          "yaxis": {
           "gridcolor": "#283442",
           "linecolor": "#506784",
           "ticks": "",
           "title": {
            "standoff": 15
           },
           "zerolinecolor": "#283442",
           "automargin": true,
           "zerolinewidth": 2
          },
          "scene": {
           "xaxis": {
            "backgroundcolor": "rgb(17,17,17)",
            "gridcolor": "#506784",
            "linecolor": "#506784",
            "showbackground": true,
            "ticks": "",
            "zerolinecolor": "#C8D4E3",
            "gridwidth": 2
           },
           "yaxis": {
            "backgroundcolor": "rgb(17,17,17)",
            "gridcolor": "#506784",
            "linecolor": "#506784",
            "showbackground": true,
            "ticks": "",
            "zerolinecolor": "#C8D4E3",
            "gridwidth": 2
           },
           "zaxis": {
            "backgroundcolor": "rgb(17,17,17)",
            "gridcolor": "#506784",
            "linecolor": "#506784",
            "showbackground": true,
            "ticks": "",
            "zerolinecolor": "#C8D4E3",
            "gridwidth": 2
           }
          },
          "shapedefaults": {
           "line": {
            "color": "#f2f5fa"
           }
          },
          "annotationdefaults": {
           "arrowcolor": "#f2f5fa",
           "arrowhead": 0,
           "arrowwidth": 1
          },
          "geo": {
           "bgcolor": "rgb(17,17,17)",
           "landcolor": "rgb(17,17,17)",
           "subunitcolor": "#506784",
           "showland": true,
           "showlakes": true,
           "lakecolor": "rgb(17,17,17)"
          },
          "title": {
           "x": 0.05
          },
          "updatemenudefaults": {
           "bgcolor": "#506784",
           "borderwidth": 0
          },
          "sliderdefaults": {
           "bgcolor": "#C8D4E3",
           "borderwidth": 1,
           "bordercolor": "rgb(17,17,17)",
           "tickwidth": 0
          },
          "mapbox": {
           "style": "dark"
          }
         }
        },
        "title": {
         "text": "AC on CartPole-v1"
        },
        "xaxis": {
         "title": {
          "text": "Episodes"
         }
        },
        "yaxis": {
         "title": {
          "text": "Returns"
         }
        },
        "showlegend": true
       },
       "config": {
        "plotlyServerURL": "https://plot.ly"
       }
      }
     },
     "metadata": {},
     "output_type": "display_data",
     "jetTransient": {
      "display_id": null
     }
    }
   ],
   "execution_count": 1
  },
  {
   "cell_type": "code",
   "id": "cc495cbe1d6cc3eb",
   "metadata": {
    "collapsed": false,
    "ExecuteTime": {
     "end_time": "2025-09-25T10:11:15.876608Z",
     "start_time": "2025-09-25T10:11:15.853549Z"
    }
   },
   "source": [
    "import plotly.graph_objects as go\n",
    "import pandas as pd\n",
    "df = pd.read_csv('./Data/AC_mv_returns_data.csv')  # 从 CSV 文件中读取数据\n",
    "fig = go.Figure()\n",
    "fig.add_trace(go.Scatter(x=df['Episodes'], y=df['Returns'], mode='lines', name='Returns'))\n",
    "fig.update_layout(\n",
    "    title='AC on CartPole-v1',\n",
    "    xaxis_title='Episodes',\n",
    "    yaxis_title='Returns',\n",
    "    showlegend=True\n",
    ")\n",
    "fig.show()"
   ],
   "outputs": [
    {
     "data": {
      "application/vnd.plotly.v1+json": {
       "data": [
        {
         "mode": "lines",
         "name": "Returns",
         "x": {
          "dtype": "i2",
          "bdata": "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"
         },
         "y": {
          "dtype": "f8",
          "bdata": "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"
         },
         "type": "scatter"
        }
       ],
       "layout": {
        "template": {
         "data": {
          "histogram2dcontour": [
           {
            "type": "histogram2dcontour",
            "colorbar": {
             "outlinewidth": 0,
             "ticks": ""
            },
            "colorscale": [
             [
              0.0,
              "#0d0887"
             ],
             [
              0.1111111111111111,
              "#46039f"
             ],
             [
              0.2222222222222222,
              "#7201a8"
             ],
             [
              0.3333333333333333,
              "#9c179e"
             ],
             [
              0.4444444444444444,
              "#bd3786"
             ],
             [
              0.5555555555555556,
              "#d8576b"
             ],
             [
              0.6666666666666666,
              "#ed7953"
             ],
             [
              0.7777777777777778,
              "#fb9f3a"
             ],
             [
              0.8888888888888888,
              "#fdca26"
             ],
             [
              1.0,
              "#f0f921"
             ]
            ]
           }
          ],
          "choropleth": [
           {
            "type": "choropleth",
            "colorbar": {
             "outlinewidth": 0,
             "ticks": ""
            }
           }
          ],
          "histogram2d": [
           {
            "type": "histogram2d",
            "colorbar": {
             "outlinewidth": 0,
             "ticks": ""
            },
            "colorscale": [
             [
              0.0,
              "#0d0887"
             ],
             [
              0.1111111111111111,
              "#46039f"
             ],
             [
              0.2222222222222222,
              "#7201a8"
             ],
             [
              0.3333333333333333,
              "#9c179e"
             ],
             [
              0.4444444444444444,
              "#bd3786"
             ],
             [
              0.5555555555555556,
              "#d8576b"
             ],
             [
              0.6666666666666666,
              "#ed7953"
             ],
             [
              0.7777777777777778,
              "#fb9f3a"
             ],
             [
              0.8888888888888888,
              "#fdca26"
             ],
             [
              1.0,
              "#f0f921"
             ]
            ]
           }
          ],
          "heatmap": [
           {
            "type": "heatmap",
            "colorbar": {
             "outlinewidth": 0,
             "ticks": ""
            },
            "colorscale": [
             [
              0.0,
              "#0d0887"
             ],
             [
              0.1111111111111111,
              "#46039f"
             ],
             [
              0.2222222222222222,
              "#7201a8"
             ],
             [
              0.3333333333333333,
              "#9c179e"
             ],
             [
              0.4444444444444444,
              "#bd3786"
             ],
             [
              0.5555555555555556,
              "#d8576b"
             ],
             [
              0.6666666666666666,
              "#ed7953"
             ],
             [
              0.7777777777777778,
              "#fb9f3a"
             ],
             [
              0.8888888888888888,
              "#fdca26"
             ],
             [
              1.0,
              "#f0f921"
             ]
            ]
           }
          ],
          "contourcarpet": [
           {
            "type": "contourcarpet",
            "colorbar": {
             "outlinewidth": 0,
             "ticks": ""
            }
           }
          ],
          "contour": [
           {
            "type": "contour",
            "colorbar": {
             "outlinewidth": 0,
             "ticks": ""
            },
            "colorscale": [
             [
              0.0,
              "#0d0887"
             ],
             [
              0.1111111111111111,
              "#46039f"
             ],
             [
              0.2222222222222222,
              "#7201a8"
             ],
             [
              0.3333333333333333,
              "#9c179e"
             ],
             [
              0.4444444444444444,
              "#bd3786"
             ],
             [
              0.5555555555555556,
              "#d8576b"
             ],
             [
              0.6666666666666666,
              "#ed7953"
             ],
             [
              0.7777777777777778,
              "#fb9f3a"
             ],
             [
              0.8888888888888888,
              "#fdca26"
             ],
             [
              1.0,
              "#f0f921"
             ]
            ]
           }
          ],
          "surface": [
           {
            "type": "surface",
            "colorbar": {
             "outlinewidth": 0,
             "ticks": ""
            },
            "colorscale": [
             [
              0.0,
              "#0d0887"
             ],
             [
              0.1111111111111111,
              "#46039f"
             ],
             [
              0.2222222222222222,
              "#7201a8"
             ],
             [
              0.3333333333333333,
              "#9c179e"
             ],
             [
              0.4444444444444444,
              "#bd3786"
             ],
             [
              0.5555555555555556,
              "#d8576b"
             ],
             [
              0.6666666666666666,
              "#ed7953"
             ],
             [
              0.7777777777777778,
              "#fb9f3a"
             ],
             [
              0.8888888888888888,
              "#fdca26"
             ],
             [
              1.0,
              "#f0f921"
             ]
            ]
           }
          ],
          "mesh3d": [
           {
            "type": "mesh3d",
            "colorbar": {
             "outlinewidth": 0,
             "ticks": ""
            }
           }
          ],
          "scatter": [
           {
            "marker": {
             "line": {
              "color": "#283442"
             }
            },
            "type": "scatter"
           }
          ],
          "parcoords": [
           {
            "type": "parcoords",
            "line": {
             "colorbar": {
              "outlinewidth": 0,
              "ticks": ""
             }
            }
           }
          ],
          "scatterpolargl": [
           {
            "type": "scatterpolargl",
            "marker": {
             "colorbar": {
              "outlinewidth": 0,
              "ticks": ""
             }
            }
           }
          ],
          "bar": [
           {
            "error_x": {
             "color": "#f2f5fa"
            },
            "error_y": {
             "color": "#f2f5fa"
            },
            "marker": {
             "line": {
              "color": "rgb(17,17,17)",
              "width": 0.5
             },
             "pattern": {
              "fillmode": "overlay",
              "size": 10,
              "solidity": 0.2
             }
            },
            "type": "bar"
           }
          ],
          "scattergeo": [
           {
            "type": "scattergeo",
            "marker": {
             "colorbar": {
              "outlinewidth": 0,
              "ticks": ""
             }
            }
           }
          ],
          "scatterpolar": [
           {
            "type": "scatterpolar",
            "marker": {
             "colorbar": {
              "outlinewidth": 0,
              "ticks": ""
             }
            }
           }
          ],
          "histogram": [
           {
            "marker": {
             "pattern": {
              "fillmode": "overlay",
              "size": 10,
              "solidity": 0.2
             }
            },
            "type": "histogram"
           }
          ],
          "scattergl": [
           {
            "marker": {
             "line": {
              "color": "#283442"
             }
            },
            "type": "scattergl"
           }
          ],
          "scatter3d": [
           {
            "type": "scatter3d",
            "line": {
             "colorbar": {
              "outlinewidth": 0,
              "ticks": ""
             }
            },
            "marker": {
             "colorbar": {
              "outlinewidth": 0,
              "ticks": ""
             }
            }
           }
          ],
          "scattermap": [
           {
            "type": "scattermap",
            "marker": {
             "colorbar": {
              "outlinewidth": 0,
              "ticks": ""
             }
            }
           }
          ],
          "scattermapbox": [
           {
            "type": "scattermapbox",
            "marker": {
             "colorbar": {
              "outlinewidth": 0,
              "ticks": ""
             }
            }
           }
          ],
          "scatterternary": [
           {
            "type": "scatterternary",
            "marker": {
             "colorbar": {
              "outlinewidth": 0,
              "ticks": ""
             }
            }
           }
          ],
          "scattercarpet": [
           {
            "type": "scattercarpet",
            "marker": {
             "colorbar": {
              "outlinewidth": 0,
              "ticks": ""
             }
            }
           }
          ],
          "carpet": [
           {
            "aaxis": {
             "endlinecolor": "#A2B1C6",
             "gridcolor": "#506784",
             "linecolor": "#506784",
             "minorgridcolor": "#506784",
             "startlinecolor": "#A2B1C6"
            },
            "baxis": {
             "endlinecolor": "#A2B1C6",
             "gridcolor": "#506784",
             "linecolor": "#506784",
             "minorgridcolor": "#506784",
             "startlinecolor": "#A2B1C6"
            },
            "type": "carpet"
           }
          ],
          "table": [
           {
            "cells": {
             "fill": {
              "color": "#506784"
             },
             "line": {
              "color": "rgb(17,17,17)"
             }
            },
            "header": {
             "fill": {
              "color": "#2a3f5f"
             },
             "line": {
              "color": "rgb(17,17,17)"
             }
            },
            "type": "table"
           }
          ],
          "barpolar": [
           {
            "marker": {
             "line": {
              "color": "rgb(17,17,17)",
              "width": 0.5
             },
             "pattern": {
              "fillmode": "overlay",
              "size": 10,
              "solidity": 0.2
             }
            },
            "type": "barpolar"
           }
          ],
          "pie": [
           {
            "automargin": true,
            "type": "pie"
           }
          ]
         },
         "layout": {
          "autotypenumbers": "strict",
          "colorway": [
           "#636efa",
           "#EF553B",
           "#00cc96",
           "#ab63fa",
           "#FFA15A",
           "#19d3f3",
           "#FF6692",
           "#B6E880",
           "#FF97FF",
           "#FECB52"
          ],
          "font": {
           "color": "#f2f5fa"
          },
          "hovermode": "closest",
          "hoverlabel": {
           "align": "left"
          },
          "paper_bgcolor": "rgb(17,17,17)",
          "plot_bgcolor": "rgb(17,17,17)",
          "polar": {
           "bgcolor": "rgb(17,17,17)",
           "angularaxis": {
            "gridcolor": "#506784",
            "linecolor": "#506784",
            "ticks": ""
           },
           "radialaxis": {
            "gridcolor": "#506784",
            "linecolor": "#506784",
            "ticks": ""
           }
          },
          "ternary": {
           "bgcolor": "rgb(17,17,17)",
           "aaxis": {
            "gridcolor": "#506784",
            "linecolor": "#506784",
            "ticks": ""
           },
           "baxis": {
            "gridcolor": "#506784",
            "linecolor": "#506784",
            "ticks": ""
           },
           "caxis": {
            "gridcolor": "#506784",
            "linecolor": "#506784",
            "ticks": ""
           }
          },
          "coloraxis": {
           "colorbar": {
            "outlinewidth": 0,
            "ticks": ""
           }
          },
          "colorscale": {
           "sequential": [
            [
             0.0,
             "#0d0887"
            ],
            [
             0.1111111111111111,
             "#46039f"
            ],
            [
             0.2222222222222222,
             "#7201a8"
            ],
            [
             0.3333333333333333,
             "#9c179e"
            ],
            [
             0.4444444444444444,
             "#bd3786"
            ],
            [
             0.5555555555555556,
             "#d8576b"
            ],
            [
             0.6666666666666666,
             "#ed7953"
            ],
            [
             0.7777777777777778,
             "#fb9f3a"
            ],
            [
             0.8888888888888888,
             "#fdca26"
            ],
            [
             1.0,
             "#f0f921"
            ]
           ],
           "sequentialminus": [
            [
             0.0,
             "#0d0887"
            ],
            [
             0.1111111111111111,
             "#46039f"
            ],
            [
             0.2222222222222222,
             "#7201a8"
            ],
            [
             0.3333333333333333,
             "#9c179e"
            ],
            [
             0.4444444444444444,
             "#bd3786"
            ],
            [
             0.5555555555555556,
             "#d8576b"
            ],
            [
             0.6666666666666666,
             "#ed7953"
            ],
            [
             0.7777777777777778,
             "#fb9f3a"
            ],
            [
             0.8888888888888888,
             "#fdca26"
            ],
            [
             1.0,
             "#f0f921"
            ]
           ],
           "diverging": [
            [
             0,
             "#8e0152"
            ],
            [
             0.1,
             "#c51b7d"
            ],
            [
             0.2,
             "#de77ae"
            ],
            [
             0.3,
             "#f1b6da"
            ],
            [
             0.4,
             "#fde0ef"
            ],
            [
             0.5,
             "#f7f7f7"
            ],
            [
             0.6,
             "#e6f5d0"
            ],
            [
             0.7,
             "#b8e186"
            ],
            [
             0.8,
             "#7fbc41"
            ],
            [
             0.9,
             "#4d9221"
            ],
            [
             1,
             "#276419"
            ]
           ]
          },
          "xaxis": {
           "gridcolor": "#283442",
           "linecolor": "#506784",
           "ticks": "",
           "title": {
            "standoff": 15
           },
           "zerolinecolor": "#283442",
           "automargin": true,
           "zerolinewidth": 2
          },
          "yaxis": {
           "gridcolor": "#283442",
           "linecolor": "#506784",
           "ticks": "",
           "title": {
            "standoff": 15
           },
           "zerolinecolor": "#283442",
           "automargin": true,
           "zerolinewidth": 2
          },
          "scene": {
           "xaxis": {
            "backgroundcolor": "rgb(17,17,17)",
            "gridcolor": "#506784",
            "linecolor": "#506784",
            "showbackground": true,
            "ticks": "",
            "zerolinecolor": "#C8D4E3",
            "gridwidth": 2
           },
           "yaxis": {
            "backgroundcolor": "rgb(17,17,17)",
            "gridcolor": "#506784",
            "linecolor": "#506784",
            "showbackground": true,
            "ticks": "",
            "zerolinecolor": "#C8D4E3",
            "gridwidth": 2
           },
           "zaxis": {
            "backgroundcolor": "rgb(17,17,17)",
            "gridcolor": "#506784",
            "linecolor": "#506784",
            "showbackground": true,
            "ticks": "",
            "zerolinecolor": "#C8D4E3",
            "gridwidth": 2
           }
          },
          "shapedefaults": {
           "line": {
            "color": "#f2f5fa"
           }
          },
          "annotationdefaults": {
           "arrowcolor": "#f2f5fa",
           "arrowhead": 0,
           "arrowwidth": 1
          },
          "geo": {
           "bgcolor": "rgb(17,17,17)",
           "landcolor": "rgb(17,17,17)",
           "subunitcolor": "#506784",
           "showland": true,
           "showlakes": true,
           "lakecolor": "rgb(17,17,17)"
          },
          "title": {
           "x": 0.05
          },
          "updatemenudefaults": {
           "bgcolor": "#506784",
           "borderwidth": 0
          },
          "sliderdefaults": {
           "bgcolor": "#C8D4E3",
           "borderwidth": 1,
           "bordercolor": "rgb(17,17,17)",
           "tickwidth": 0
          },
          "mapbox": {
           "style": "dark"
          }
         }
        },
        "title": {
         "text": "AC on CartPole-v1"
        },
        "xaxis": {
         "title": {
          "text": "Episodes"
         }
        },
        "yaxis": {
         "title": {
          "text": "Returns"
         }
        },
        "showlegend": true
       },
       "config": {
        "plotlyServerURL": "https://plot.ly"
       }
      }
     },
     "metadata": {},
     "output_type": "display_data",
     "jetTransient": {
      "display_id": null
     }
    }
   ],
   "execution_count": 2
  },
  {
   "cell_type": "markdown",
   "id": "75a9ce1ff4513fa",
   "metadata": {
    "collapsed": false
   },
   "source": [
    "> 可以发现，相比 **REINFORCE**，**Actor-Critic** 更快收敛到了最优策略，且训练过程稳定，抖动情况有明显的改进，这说明价值函数的引入减小了方差。\n",
    "需要说明的是，之后将要学习的 **TRPO、PPO、DDPG、SAC** 等深度强化学习算法都是在 **Actor-Critic 框架** 下进行发展的。"
   ]
  }
 ],
 "metadata": {
  "kernelspec": {
   "display_name": "Python 3 (ipykernel)",
   "language": "python",
   "name": "python3"
  },
  "language_info": {
   "codemirror_mode": {
    "name": "ipython",
    "version": 3
   },
   "file_extension": ".py",
   "mimetype": "text/x-python",
   "name": "python",
   "nbconvert_exporter": "python",
   "pygments_lexer": "ipython3",
   "version": "3.12.9"
  }
 },
 "nbformat": 4,
 "nbformat_minor": 5
}
