{
 "cells": [
  {
   "cell_type": "markdown",
   "id": "68a9b858fb1d554d",
   "metadata": {
    "collapsed": false
   },
   "source": [
    "# 12.REINFORCE算法\n",
    "> 1992 年，Ronald J. Williams 的论文[《Simple statistical gradient-following algorithms for connectionist reinforcement learning》](https://link.springer.com/article/10.1007/BF00992696)首次系统地提出了 **基于蒙特卡洛** 回报的策略梯度更新方法：**REINFORCE**，它是现代策略梯度方法的起点，是第一个系统性提出并形式化了策略梯度更新规则的算法"
   ]
  },
  {
   "cell_type": "markdown",
   "id": "c236955294acb123",
   "metadata": {
    "collapsed": false
   },
   "source": [
    "**REINFORCE** 算法采用 **蒙特卡洛方法** ，以 **实际的样本回报** $G_t=\\sum_{k=t}^T\\gamma^{k-t}r_k$ 来表达 **回报** ，是[推导1](./11.策略梯度.ipynb)的进一步推导，这种采用 **从当前时间步 t 开始的未来回报（return-to-go）** 是从 **轨迹推导过来** 的自然变换（是一个完全合法的数学重构，是重排求和结构，不是凭空加进去的经验）:\n"
   ]
  },
  {
   "cell_type": "markdown",
   "source": [
    "> $$\\begin{gathered}\n",
    "\\nabla_\\theta J(\\theta)=\\mathbb{E}_\\pi\\left[\\sum_{t=0}^T\\nabla_\\theta\\log\\pi_\\theta(a_t|s_t)\\cdot R(\\tau)\\right]  \\\\\n",
    "=\\mathbb{E}_\\tau\\left[\\sum_{t=0}^T\\nabla_\\theta\\log\\pi_\\theta(a_t|s_t)\\cdot\\underbrace{\\left(\\sum_{t^{\\prime}=0}^T\\gamma^{t^{\\prime}}r_{t^{\\prime}}\\right)}_{R(\\tau)}\\right]\n",
    "\\end{gathered}$$\n",
    "> 根据**马尔可夫决策过程（MDP）**：未来是由当前s-t决定的 **（一个策略参数 $\\theta$ ,在时间t做了动作 $a_t$，它只能影响从 t 开始的奖励）**\n",
    "> 所以有意忽略掉,诸如 $r_0\\cdot\\nabla_\\theta\\log\\pi(a_1|s_1)$ ，这些“过去奖励”\n",
    "> 于是，最终结构自然变为：\n",
    "> $$=\\mathbb{E}_\\tau\\left[\\sum_{t=0}^T\\nabla_\\theta\\log\\pi_\\theta(a_t|s_t)\\sum_{t^{\\prime}=t}^T\\gamma^{t^{\\prime}}r_t\\right]$$\n",
    "> 提取统一系数$\\gamma^{t}$\n",
    "> $$\\begin{gathered}\n",
    "=\\mathbb{E}_\\tau\\left[\\sum_{t=0}^T\\nabla_\\theta\\log\\pi_\\theta(a_t|s_t)\\sum_{t^{\\prime}=t}^T\\gamma^{t^{\\prime}-t}r_{t^{\\prime}}\\right]  \\\\\n",
    "=\\mathbb{E}_\\tau\\left[\\sum_{t=0}^T\\nabla_\\theta\\log\\pi_\\theta(a_t|s_t) G_t\\right]  \n",
    "\\end{gathered}$$"
   ],
   "metadata": {
    "collapsed": false
   },
   "id": "ba57a72ec14132cc"
  },
  {
   "cell_type": "markdown",
   "source": [
    "> 此时:\n",
    "- 每次采样得到的一条完整轨迹会被 **多次利用** 来进行策略更新\n",
    "- 一条完整轨迹当中的每一个时间步t都可以作为一条全新轨迹的初始"
   ],
   "metadata": {
    "collapsed": false
   },
   "id": "3833246181a8e43e"
  },
  {
   "cell_type": "markdown",
   "id": "2239890d14a0851",
   "metadata": {
    "collapsed": false
   },
   "source": [
    ">对于一个有限步数的环境来说，REINFORCE 算法中的策略梯度表示为：\n",
    "$$\\nabla_\\theta J(\\theta)=\\mathbb{E}_{\\pi_\\theta}\\left[\\sum_{t=0}^TG_t\\nabla_\\theta\\log\\pi_\\theta(a_t|s_t)\\right]=\\mathbb{E}_{\\pi_\\theta}\\left[\\sum_{t=0}^T\\left(\\sum_{t^{\\prime}=t}^T\\gamma^{t^{\\prime}-t}r_{t^{\\prime}}\\right)\\nabla_\\theta\\log\\pi_\\theta(a_t|s_t)\\right]$$\n",
    "\n",
    ">对于每一个时间步t开始的那一条轨迹：\n",
    "$$\\nabla_\\theta J(\\theta)\\approx\\sum_{t=0}^TG_t\\nabla_\\theta\\log\\pi_\\theta(a_t|s_t)$$\n",
    "\n",
    ">损失函数：\n",
    "$$L(\\theta)=-J(\\theta)$$\n",
    "$$\\nabla_\\theta L(\\theta)=-\\nabla_\\theta J(\\theta)$$\n",
    "\n",
    "> 所以构造损失函数为：\n",
    "$$L(\\theta)=-\\log\\pi_\\theta(a_t|s_t)\\cdot G_t$$\n",
    "\n",
    ">参数更新：\n",
    "$$\\theta_{new}=\\theta_{old}+\\alpha \\nabla_\\theta J(\\theta)  (最大化期望回报)$$\n",
    "$$\\theta_{new}=\\theta_{old}-\\alpha \\nabla_\\theta L(\\theta)  (最小化损失函数)$$\n"
   ]
  },
  {
   "cell_type": "markdown",
   "id": "e9c036ce4c96d5eb",
   "metadata": {
    "collapsed": false
   },
   "source": [
    "## REINFORCE 代码实践：\n",
    "> 在 **车杆环境** 下进行 Actor-Critic 算法的实验"
   ]
  },
  {
   "cell_type": "markdown",
   "id": "e866b99486615cf8",
   "metadata": {
    "collapsed": false
   },
   "source": [
    "导入相关库："
   ]
  },
  {
   "cell_type": "code",
   "execution_count": 1,
   "id": "79add9ba12b04702",
   "metadata": {
    "ExecuteTime": {
     "end_time": "2025-07-25T02:46:03.155557600Z",
     "start_time": "2025-07-25T02:46:03.093276100Z"
    },
    "collapsed": false
   },
   "outputs": [],
   "source": [
    "# 基本库\n",
    "import numpy as np\n",
    "from tqdm import tqdm\n",
    "from utils.smoothing import moving_average\n",
    "# 神经网络\n",
    "import torch\n",
    "import torch.nn.functional as F\n",
    "# Gymnasium 是一个用于开发和测试强化学习算法的工具库，为 OpenAI Gym 的更新版本（2021迁移开发）\n",
    "import gymnasium as gym"
   ]
  },
  {
   "cell_type": "markdown",
   "id": "c48f87c760d5a4ff",
   "metadata": {
    "collapsed": false
   },
   "source": [
    "定义策略网络："
   ]
  },
  {
   "cell_type": "code",
   "execution_count": 2,
   "id": "781807bf1a62559c",
   "metadata": {
    "ExecuteTime": {
     "end_time": "2025-07-25T02:46:03.215594700Z",
     "start_time": "2025-07-25T02:46:03.103241100Z"
    },
    "collapsed": false
   },
   "outputs": [],
   "source": [
    "class PolicyNet(torch.nn.Module):\n",
    "    def __init__(self, state_dim, hidden_dim, action_dim):\n",
    "        super(PolicyNet, self).__init__()\n",
    "        self.fc1 = torch.nn.Linear(state_dim, hidden_dim)\n",
    "        self.fc2 = torch.nn.Linear(hidden_dim, action_dim)\n",
    "\n",
    "    def forward(self, x):\n",
    "        x = F.relu(self.fc1(x))\n",
    "        return F.softmax(self.fc2(x), dim=1)  # 输出通过 softmax 激活函数转化为一个概率分布，表示每个动作的选择概率"
   ]
  },
  {
   "cell_type": "markdown",
   "id": "f92aa56c24d4572c",
   "metadata": {
    "collapsed": false
   },
   "source": [
    "定义 REINFORCE 算法："
   ]
  },
  {
   "cell_type": "code",
   "execution_count": 3,
   "id": "93dea439835d5029",
   "metadata": {
    "ExecuteTime": {
     "end_time": "2025-07-25T02:46:03.236628800Z",
     "start_time": "2025-07-25T02:46:03.119483400Z"
    },
    "collapsed": false
   },
   "outputs": [],
   "source": [
    "class REINFORCE:\n",
    "    def __init__(self, state_dim, hidden_dim, action_dim, learning_rate, gamma, device):\n",
    "        self.policy_net = PolicyNet(state_dim, hidden_dim, action_dim).to(device)\n",
    "        self.optimizer = torch.optim.Adam(self.policy_net.parameters(), lr=learning_rate)  # 使用Adam优化器\n",
    "        self.gamma = gamma  # 折扣因子\n",
    "        self.device = device\n",
    "\n",
    "    def take_action(self, state):  # 根据动作概率分布随机采样\n",
    "        state = torch.tensor(np.array([state]), dtype=torch.float).to(self.device)\n",
    "        probs = self.policy_net(state)  # 输出一个概率分布\n",
    "        action_dist = torch.distributions.Categorical(probs)  # 创建一个 Categorical 分布，方便从中采样\n",
    "        action = action_dist.sample()  # 从概率分布中随机采样一个动作的索引\n",
    "        return action.item()\n",
    "\n",
    "    def update(self, transition_dict):\n",
    "        reward_list = transition_dict['rewards']\n",
    "        state_list = transition_dict['states']\n",
    "        action_list = transition_dict['actions']\n",
    "        G = 0  # 初始化累积回报\n",
    "        self.optimizer.zero_grad()\n",
    "        for i in reversed(range(len(reward_list))):  # 从最后一步算起\n",
    "            reward = reward_list[i]\n",
    "            state = torch.tensor(np.array([state_list[i]]), dtype=torch.float).to(self.device)\n",
    "            action = torch.tensor([action_list[i]]).view(-1, 1).to(self.device)\n",
    "            log_prob = torch.log(self.policy_net(state).gather(1, action))\n",
    "            G = self.gamma * G + reward\n",
    "            loss = -log_prob * G  # 每一步的损失函数\n",
    "            loss.backward()       # 反向传播计算损失函数梯度\n",
    "        self.optimizer.step()     # 梯度下降,最小化损失函数即最大化期望回报"
   ]
  },
  {
   "cell_type": "markdown",
   "id": "b7dafc9269cd9a78",
   "metadata": {
    "collapsed": false
   },
   "source": [
    "环境设置（'CartPole-v1'）："
   ]
  },
  {
   "cell_type": "code",
   "execution_count": 4,
   "id": "433ba5e39a6b57ca",
   "metadata": {
    "ExecuteTime": {
     "end_time": "2025-07-25T02:46:03.240631300Z",
     "start_time": "2025-07-25T02:46:03.125389Z"
    },
    "collapsed": false
   },
   "outputs": [
    {
     "name": "stdout",
     "output_type": "stream",
     "text": [
      "Environment spec: EnvSpec(id='CartPole-v1', entry_point='gymnasium.envs.classic_control.cartpole:CartPoleEnv', reward_threshold=475.0, nondeterministic=False, max_episode_steps=500, order_enforce=True, disable_env_checker=False, kwargs={}, namespace=None, name='CartPole', version=1, additional_wrappers=(), vector_entry_point='gymnasium.envs.classic_control.cartpole:CartPoleVectorEnv')\n"
     ]
    }
   ],
   "source": [
    "np.random.seed(0)    # 设置 NumPy 的随机种子\n",
    "torch.manual_seed(0) # 设置 PyTorch CPU 随机种子\n",
    "torch.cuda.manual_seed_all(0) # 设置 PyTorch GPU 随机种子, 由于GPU并行性, 只能极大减小偏差\n",
    "\n",
    "env = gym.make('CartPole-v1')  # CartPole-v1 最大回合步数修改到了500步(v0为200)\n",
    "#env = env.unwrapped # 获取原始环境（绕过 TimeLimit 包装器）解除最大步数500限制\n",
    "env.reset(seed=0)   # 环境通常依赖于其他随机数生成器来初始化状态、进行探索(推荐位于以上随机之后)\n",
    "print(\"Environment spec:\", env.spec)"
   ]
  },
  {
   "cell_type": "markdown",
   "id": "369c3c4026b7ca69",
   "metadata": {
    "collapsed": false
   },
   "source": [
    "超参数设置："
   ]
  },
  {
   "cell_type": "code",
   "execution_count": 5,
   "id": "614215f8910f90fb",
   "metadata": {
    "ExecuteTime": {
     "end_time": "2025-07-25T02:46:03.240631300Z",
     "start_time": "2025-07-25T02:46:03.172890200Z"
    },
    "collapsed": false
   },
   "outputs": [],
   "source": [
    "state_dim = env.observation_space.shape[0]\n",
    "hidden_dim = 128\n",
    "action_dim = env.action_space.n\n",
    "learning_rate = 1e-3\n",
    "gamma = 0.98\n",
    "device = torch.device(\"cuda\") if torch.cuda.is_available() else torch.device( \"cpu\")\n",
    "agent = REINFORCE(state_dim, hidden_dim, action_dim, learning_rate, gamma, device)\n",
    "\n",
    "num_episodes = 1000"
   ]
  },
  {
   "cell_type": "markdown",
   "id": "f22b399e409d0606",
   "metadata": {
    "collapsed": false
   },
   "source": [
    "测试与训练:"
   ]
  },
  {
   "cell_type": "code",
   "execution_count": 6,
   "id": "d31d56910e60f9da",
   "metadata": {
    "ExecuteTime": {
     "end_time": "2025-07-25T02:46:05.953699900Z",
     "start_time": "2025-07-25T02:46:03.183431500Z"
    },
    "collapsed": false
   },
   "outputs": [
    {
     "name": "stderr",
     "output_type": "stream",
     "text": [
      "Iteration 0: 100%|██████████| 100/100 [00:10<00:00,  9.54it/s, episode=100, return=39.500]\n",
      "Iteration 1: 100%|██████████| 100/100 [00:23<00:00,  4.19it/s, episode=200, return=94.000]\n",
      "Iteration 2: 100%|██████████| 100/100 [00:40<00:00,  2.47it/s, episode=300, return=55.300]\n",
      "Iteration 3: 100%|██████████| 100/100 [00:49<00:00,  2.03it/s, episode=400, return=129.600]\n",
      "Iteration 4: 100%|██████████| 100/100 [01:01<00:00,  1.63it/s, episode=500, return=231.500]\n",
      "Iteration 5: 100%|██████████| 100/100 [01:13<00:00,  1.36it/s, episode=600, return=157.400]\n",
      "Iteration 6: 100%|██████████| 100/100 [01:32<00:00,  1.09it/s, episode=700, return=422.900]\n",
      "Iteration 7: 100%|██████████| 100/100 [01:40<00:00,  1.01s/it, episode=800, return=405.400]\n",
      "Iteration 8: 100%|██████████| 100/100 [01:49<00:00,  1.10s/it, episode=900, return=462.400]\n",
      "Iteration 9: 100%|██████████| 100/100 [01:33<00:00,  1.07it/s, episode=1000, return=302.100]\n"
     ]
    }
   ],
   "source": [
    "return_list = []\n",
    "for i in range(10):\n",
    "    with tqdm(total=int(num_episodes / 10), desc='Iteration %d' % i) as pbar:\n",
    "        for i_episode in range(int(num_episodes / 10)):\n",
    "            episode_return = 0\n",
    "            transition_dict = {\n",
    "                'states': [],\n",
    "                'actions': [],\n",
    "                'next_states': [],\n",
    "                'rewards': [],\n",
    "                'dones': []\n",
    "            }\n",
    "            state, info = env.reset()  # 测试阶段(调整参数与对比算法)种子应固定; 训练阶段不固定，提高泛化能力\n",
    "            done = False\n",
    "            truncated = False\n",
    "            while not (done or truncated):  # 杆子倒下或达到最大步数\n",
    "                action = agent.take_action(state)\n",
    "                next_state, reward, done, truncated, _ = env.step(action)  # Gymnasium返回值不一样\n",
    "                transition_dict['states'].append(state)\n",
    "                transition_dict['actions'].append(action)\n",
    "                transition_dict['next_states'].append(next_state)\n",
    "                transition_dict['rewards'].append(reward)\n",
    "                transition_dict['dones'].append(done)\n",
    "                state = next_state\n",
    "                episode_return += reward\n",
    "            return_list.append(episode_return)\n",
    "            agent.update(transition_dict)\n",
    "            \n",
    "            if (i_episode+1) % 10 == 0:\n",
    "                pbar.set_postfix({'episode': '%d' % (num_episodes/10 * i + i_episode+1), 'return': '%.3f' % np.mean(return_list[-10:])})\n",
    "            pbar.update(1)"
   ]
  },
  {
   "cell_type": "markdown",
   "id": "f521f8936b43ad21",
   "metadata": {
    "collapsed": false
   },
   "source": [
    "绘图："
   ]
  },
  {
   "cell_type": "code",
   "execution_count": 7,
   "id": "5ab73405fb17e498",
   "metadata": {
    "ExecuteTime": {
     "end_time": "2025-07-25T02:46:05.956008600Z",
     "start_time": "2025-07-25T02:46:05.954698400Z"
    },
    "collapsed": false
   },
   "outputs": [],
   "source": [
    "import pandas as pd\n",
    "episodes_list = list(range(len(return_list)))\n",
    "mv_return = moving_average(return_list, 9)\n",
    "# 创建 DataFrame\n",
    "df1 = pd.DataFrame({'Episodes': episodes_list, 'Returns': return_list})\n",
    "df2 = pd.DataFrame({'Episodes': episodes_list, 'Returns': mv_return})\n",
    "# 保存为 CSV 文件\n",
    "df1.to_csv('REINFORCE_returns_data.csv', index=False)\n",
    "df2.to_csv('REINFORCE_mv_returns_data.csv', index=False)"
   ]
  },
  {
   "cell_type": "code",
   "id": "b390d6a0093f4b8a",
   "metadata": {
    "collapsed": false,
    "ExecuteTime": {
     "end_time": "2025-09-25T10:10:23.492053Z",
     "start_time": "2025-09-25T10:10:22.980296Z"
    }
   },
   "source": [
    "import plotly.graph_objects as go\n",
    "import pandas as pd\n",
    "df = pd.read_csv('./Data/REINFORCE_returns_data.csv')  # 从 CSV 文件中读取数据\n",
    "fig = go.Figure()\n",
    "fig.add_trace(go.Scatter(x=df['Episodes'], y=df['Returns'], mode='lines', name='Returns'))\n",
    "fig.update_layout(\n",
    "    title='REINFORCE on CartPole-v1',\n",
    "    xaxis_title='Episodes',\n",
    "    yaxis_title='Returns',\n",
    "    showlegend=True\n",
    ")\n",
    "fig.show()"
   ],
   "outputs": [
    {
     "data": {
      "application/vnd.plotly.v1+json": {
       "data": [
        {
         "mode": "lines",
         "name": "Returns",
         "x": {
          "dtype": "i2",
          "bdata": "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"
         },
         "y": {
          "dtype": "f8",
          "bdata": "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"
         },
         "type": "scatter"
        }
       ],
       "layout": {
        "template": {
         "data": {
          "histogram2dcontour": [
           {
            "type": "histogram2dcontour",
            "colorbar": {
             "outlinewidth": 0,
             "ticks": ""
            },
            "colorscale": [
             [
              0.0,
              "#0d0887"
             ],
             [
              0.1111111111111111,
              "#46039f"
             ],
             [
              0.2222222222222222,
              "#7201a8"
             ],
             [
              0.3333333333333333,
              "#9c179e"
             ],
             [
              0.4444444444444444,
              "#bd3786"
             ],
             [
              0.5555555555555556,
              "#d8576b"
             ],
             [
              0.6666666666666666,
              "#ed7953"
             ],
             [
              0.7777777777777778,
              "#fb9f3a"
             ],
             [
              0.8888888888888888,
              "#fdca26"
             ],
             [
              1.0,
              "#f0f921"
             ]
            ]
           }
          ],
          "choropleth": [
           {
            "type": "choropleth",
            "colorbar": {
             "outlinewidth": 0,
             "ticks": ""
            }
           }
          ],
          "histogram2d": [
           {
            "type": "histogram2d",
            "colorbar": {
             "outlinewidth": 0,
             "ticks": ""
            },
            "colorscale": [
             [
              0.0,
              "#0d0887"
             ],
             [
              0.1111111111111111,
              "#46039f"
             ],
             [
              0.2222222222222222,
              "#7201a8"
             ],
             [
              0.3333333333333333,
              "#9c179e"
             ],
             [
              0.4444444444444444,
              "#bd3786"
             ],
             [
              0.5555555555555556,
              "#d8576b"
             ],
             [
              0.6666666666666666,
              "#ed7953"
             ],
             [
              0.7777777777777778,
              "#fb9f3a"
             ],
             [
              0.8888888888888888,
              "#fdca26"
             ],
             [
              1.0,
              "#f0f921"
             ]
            ]
           }
          ],
          "heatmap": [
           {
            "type": "heatmap",
            "colorbar": {
             "outlinewidth": 0,
             "ticks": ""
            },
            "colorscale": [
             [
              0.0,
              "#0d0887"
             ],
             [
              0.1111111111111111,
              "#46039f"
             ],
             [
              0.2222222222222222,
              "#7201a8"
             ],
             [
              0.3333333333333333,
              "#9c179e"
             ],
             [
              0.4444444444444444,
              "#bd3786"
             ],
             [
              0.5555555555555556,
              "#d8576b"
             ],
             [
              0.6666666666666666,
              "#ed7953"
             ],
             [
              0.7777777777777778,
              "#fb9f3a"
             ],
             [
              0.8888888888888888,
              "#fdca26"
             ],
             [
              1.0,
              "#f0f921"
             ]
            ]
           }
          ],
          "contourcarpet": [
           {
            "type": "contourcarpet",
            "colorbar": {
             "outlinewidth": 0,
             "ticks": ""
            }
           }
          ],
          "contour": [
           {
            "type": "contour",
            "colorbar": {
             "outlinewidth": 0,
             "ticks": ""
            },
            "colorscale": [
             [
              0.0,
              "#0d0887"
             ],
             [
              0.1111111111111111,
              "#46039f"
             ],
             [
              0.2222222222222222,
              "#7201a8"
             ],
             [
              0.3333333333333333,
              "#9c179e"
             ],
             [
              0.4444444444444444,
              "#bd3786"
             ],
             [
              0.5555555555555556,
              "#d8576b"
             ],
             [
              0.6666666666666666,
              "#ed7953"
             ],
             [
              0.7777777777777778,
              "#fb9f3a"
             ],
             [
              0.8888888888888888,
              "#fdca26"
             ],
             [
              1.0,
              "#f0f921"
             ]
            ]
           }
          ],
          "surface": [
           {
            "type": "surface",
            "colorbar": {
             "outlinewidth": 0,
             "ticks": ""
            },
            "colorscale": [
             [
              0.0,
              "#0d0887"
             ],
             [
              0.1111111111111111,
              "#46039f"
             ],
             [
              0.2222222222222222,
              "#7201a8"
             ],
             [
              0.3333333333333333,
              "#9c179e"
             ],
             [
              0.4444444444444444,
              "#bd3786"
             ],
             [
              0.5555555555555556,
              "#d8576b"
             ],
             [
              0.6666666666666666,
              "#ed7953"
             ],
             [
              0.7777777777777778,
              "#fb9f3a"
             ],
             [
              0.8888888888888888,
              "#fdca26"
             ],
             [
              1.0,
              "#f0f921"
             ]
            ]
           }
          ],
          "mesh3d": [
           {
            "type": "mesh3d",
            "colorbar": {
             "outlinewidth": 0,
             "ticks": ""
            }
           }
          ],
          "scatter": [
           {
            "marker": {
             "line": {
              "color": "#283442"
             }
            },
            "type": "scatter"
           }
          ],
          "parcoords": [
           {
            "type": "parcoords",
            "line": {
             "colorbar": {
              "outlinewidth": 0,
              "ticks": ""
             }
            }
           }
          ],
          "scatterpolargl": [
           {
            "type": "scatterpolargl",
            "marker": {
             "colorbar": {
              "outlinewidth": 0,
              "ticks": ""
             }
            }
           }
          ],
          "bar": [
           {
            "error_x": {
             "color": "#f2f5fa"
            },
            "error_y": {
             "color": "#f2f5fa"
            },
            "marker": {
             "line": {
              "color": "rgb(17,17,17)",
              "width": 0.5
             },
             "pattern": {
              "fillmode": "overlay",
              "size": 10,
              "solidity": 0.2
             }
            },
            "type": "bar"
           }
          ],
          "scattergeo": [
           {
            "type": "scattergeo",
            "marker": {
             "colorbar": {
              "outlinewidth": 0,
              "ticks": ""
             }
            }
           }
          ],
          "scatterpolar": [
           {
            "type": "scatterpolar",
            "marker": {
             "colorbar": {
              "outlinewidth": 0,
              "ticks": ""
             }
            }
           }
          ],
          "histogram": [
           {
            "marker": {
             "pattern": {
              "fillmode": "overlay",
              "size": 10,
              "solidity": 0.2
             }
            },
            "type": "histogram"
           }
          ],
          "scattergl": [
           {
            "marker": {
             "line": {
              "color": "#283442"
             }
            },
            "type": "scattergl"
           }
          ],
          "scatter3d": [
           {
            "type": "scatter3d",
            "line": {
             "colorbar": {
              "outlinewidth": 0,
              "ticks": ""
             }
            },
            "marker": {
             "colorbar": {
              "outlinewidth": 0,
              "ticks": ""
             }
            }
           }
          ],
          "scattermap": [
           {
            "type": "scattermap",
            "marker": {
             "colorbar": {
              "outlinewidth": 0,
              "ticks": ""
             }
            }
           }
          ],
          "scattermapbox": [
           {
            "type": "scattermapbox",
            "marker": {
             "colorbar": {
              "outlinewidth": 0,
              "ticks": ""
             }
            }
           }
          ],
          "scatterternary": [
           {
            "type": "scatterternary",
            "marker": {
             "colorbar": {
              "outlinewidth": 0,
              "ticks": ""
             }
            }
           }
          ],
          "scattercarpet": [
           {
            "type": "scattercarpet",
            "marker": {
             "colorbar": {
              "outlinewidth": 0,
              "ticks": ""
             }
            }
           }
          ],
          "carpet": [
           {
            "aaxis": {
             "endlinecolor": "#A2B1C6",
             "gridcolor": "#506784",
             "linecolor": "#506784",
             "minorgridcolor": "#506784",
             "startlinecolor": "#A2B1C6"
            },
            "baxis": {
             "endlinecolor": "#A2B1C6",
             "gridcolor": "#506784",
             "linecolor": "#506784",
             "minorgridcolor": "#506784",
             "startlinecolor": "#A2B1C6"
            },
            "type": "carpet"
           }
          ],
          "table": [
           {
            "cells": {
             "fill": {
              "color": "#506784"
             },
             "line": {
              "color": "rgb(17,17,17)"
             }
            },
            "header": {
             "fill": {
              "color": "#2a3f5f"
             },
             "line": {
              "color": "rgb(17,17,17)"
             }
            },
            "type": "table"
           }
          ],
          "barpolar": [
           {
            "marker": {
             "line": {
              "color": "rgb(17,17,17)",
              "width": 0.5
             },
             "pattern": {
              "fillmode": "overlay",
              "size": 10,
              "solidity": 0.2
             }
            },
            "type": "barpolar"
           }
          ],
          "pie": [
           {
            "automargin": true,
            "type": "pie"
           }
          ]
         },
         "layout": {
          "autotypenumbers": "strict",
          "colorway": [
           "#636efa",
           "#EF553B",
           "#00cc96",
           "#ab63fa",
           "#FFA15A",
           "#19d3f3",
           "#FF6692",
           "#B6E880",
           "#FF97FF",
           "#FECB52"
          ],
          "font": {
           "color": "#f2f5fa"
          },
          "hovermode": "closest",
          "hoverlabel": {
           "align": "left"
          },
          "paper_bgcolor": "rgb(17,17,17)",
          "plot_bgcolor": "rgb(17,17,17)",
          "polar": {
           "bgcolor": "rgb(17,17,17)",
           "angularaxis": {
            "gridcolor": "#506784",
            "linecolor": "#506784",
            "ticks": ""
           },
           "radialaxis": {
            "gridcolor": "#506784",
            "linecolor": "#506784",
            "ticks": ""
           }
          },
          "ternary": {
           "bgcolor": "rgb(17,17,17)",
           "aaxis": {
            "gridcolor": "#506784",
            "linecolor": "#506784",
            "ticks": ""
           },
           "baxis": {
            "gridcolor": "#506784",
            "linecolor": "#506784",
            "ticks": ""
           },
           "caxis": {
            "gridcolor": "#506784",
            "linecolor": "#506784",
            "ticks": ""
           }
          },
          "coloraxis": {
           "colorbar": {
            "outlinewidth": 0,
            "ticks": ""
           }
          },
          "colorscale": {
           "sequential": [
            [
             0.0,
             "#0d0887"
            ],
            [
             0.1111111111111111,
             "#46039f"
            ],
            [
             0.2222222222222222,
             "#7201a8"
            ],
            [
             0.3333333333333333,
             "#9c179e"
            ],
            [
             0.4444444444444444,
             "#bd3786"
            ],
            [
             0.5555555555555556,
             "#d8576b"
            ],
            [
             0.6666666666666666,
             "#ed7953"
            ],
            [
             0.7777777777777778,
             "#fb9f3a"
            ],
            [
             0.8888888888888888,
             "#fdca26"
            ],
            [
             1.0,
             "#f0f921"
            ]
           ],
           "sequentialminus": [
            [
             0.0,
             "#0d0887"
            ],
            [
             0.1111111111111111,
             "#46039f"
            ],
            [
             0.2222222222222222,
             "#7201a8"
            ],
            [
             0.3333333333333333,
             "#9c179e"
            ],
            [
             0.4444444444444444,
             "#bd3786"
            ],
            [
             0.5555555555555556,
             "#d8576b"
            ],
            [
             0.6666666666666666,
             "#ed7953"
            ],
            [
             0.7777777777777778,
             "#fb9f3a"
            ],
            [
             0.8888888888888888,
             "#fdca26"
            ],
            [
             1.0,
             "#f0f921"
            ]
           ],
           "diverging": [
            [
             0,
             "#8e0152"
            ],
            [
             0.1,
             "#c51b7d"
            ],
            [
             0.2,
             "#de77ae"
            ],
            [
             0.3,
             "#f1b6da"
            ],
            [
             0.4,
             "#fde0ef"
            ],
            [
             0.5,
             "#f7f7f7"
            ],
            [
             0.6,
             "#e6f5d0"
            ],
            [
             0.7,
             "#b8e186"
            ],
            [
             0.8,
             "#7fbc41"
            ],
            [
             0.9,
             "#4d9221"
            ],
            [
             1,
             "#276419"
            ]
           ]
          },
          "xaxis": {
           "gridcolor": "#283442",
           "linecolor": "#506784",
           "ticks": "",
           "title": {
            "standoff": 15
           },
           "zerolinecolor": "#283442",
           "automargin": true,
           "zerolinewidth": 2
          },
          "yaxis": {
           "gridcolor": "#283442",
           "linecolor": "#506784",
           "ticks": "",
           "title": {
            "standoff": 15
           },
           "zerolinecolor": "#283442",
           "automargin": true,
           "zerolinewidth": 2
          },
          "scene": {
           "xaxis": {
            "backgroundcolor": "rgb(17,17,17)",
            "gridcolor": "#506784",
            "linecolor": "#506784",
            "showbackground": true,
            "ticks": "",
            "zerolinecolor": "#C8D4E3",
            "gridwidth": 2
           },
           "yaxis": {
            "backgroundcolor": "rgb(17,17,17)",
            "gridcolor": "#506784",
            "linecolor": "#506784",
            "showbackground": true,
            "ticks": "",
            "zerolinecolor": "#C8D4E3",
            "gridwidth": 2
           },
           "zaxis": {
            "backgroundcolor": "rgb(17,17,17)",
            "gridcolor": "#506784",
            "linecolor": "#506784",
            "showbackground": true,
            "ticks": "",
            "zerolinecolor": "#C8D4E3",
            "gridwidth": 2
           }
          },
          "shapedefaults": {
           "line": {
            "color": "#f2f5fa"
           }
          },
          "annotationdefaults": {
           "arrowcolor": "#f2f5fa",
           "arrowhead": 0,
           "arrowwidth": 1
          },
          "geo": {
           "bgcolor": "rgb(17,17,17)",
           "landcolor": "rgb(17,17,17)",
           "subunitcolor": "#506784",
           "showland": true,
           "showlakes": true,
           "lakecolor": "rgb(17,17,17)"
          },
          "title": {
           "x": 0.05
          },
          "updatemenudefaults": {
           "bgcolor": "#506784",
           "borderwidth": 0
          },
          "sliderdefaults": {
           "bgcolor": "#C8D4E3",
           "borderwidth": 1,
           "bordercolor": "rgb(17,17,17)",
           "tickwidth": 0
          },
          "mapbox": {
           "style": "dark"
          }
         }
        },
        "title": {
         "text": "REINFORCE on CartPole-v1"
        },
        "xaxis": {
         "title": {
          "text": "Episodes"
         }
        },
        "yaxis": {
         "title": {
          "text": "Returns"
         }
        },
        "showlegend": true
       },
       "config": {
        "plotlyServerURL": "https://plot.ly"
       }
      }
     },
     "metadata": {},
     "output_type": "display_data",
     "jetTransient": {
      "display_id": null
     }
    }
   ],
   "execution_count": 1
  },
  {
   "cell_type": "markdown",
   "source": [
    "平滑："
   ],
   "metadata": {
    "collapsed": false
   },
   "id": "dc70575a39665c27"
  },
  {
   "cell_type": "code",
   "id": "dd735feede9f21c3",
   "metadata": {
    "collapsed": false,
    "ExecuteTime": {
     "end_time": "2025-09-25T10:10:30.944610Z",
     "start_time": "2025-09-25T10:10:30.916564Z"
    }
   },
   "source": [
    "import plotly.graph_objects as go\n",
    "import pandas as pd\n",
    "df = pd.read_csv('./Data/REINFORCE_mv_returns_data.csv')  # 从 CSV 文件中读取数据\n",
    "fig = go.Figure()\n",
    "fig.add_trace(go.Scatter(x=df['Episodes'], y=df['Returns'], mode='lines', name='Returns'))\n",
    "fig.update_layout(\n",
    "    title='REINFORCE on CartPole-v1',\n",
    "    xaxis_title='Episodes',\n",
    "    yaxis_title='Returns',\n",
    "    showlegend=True\n",
    ")\n",
    "fig.show()"
   ],
   "outputs": [
    {
     "data": {
      "application/vnd.plotly.v1+json": {
       "data": [
        {
         "mode": "lines",
         "name": "Returns",
         "x": {
          "dtype": "i2",
          "bdata": "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"
         },
         "y": {
          "dtype": "f8",
          "bdata": "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"
         },
         "type": "scatter"
        }
       ],
       "layout": {
        "template": {
         "data": {
          "histogram2dcontour": [
           {
            "type": "histogram2dcontour",
            "colorbar": {
             "outlinewidth": 0,
             "ticks": ""
            },
            "colorscale": [
             [
              0.0,
              "#0d0887"
             ],
             [
              0.1111111111111111,
              "#46039f"
             ],
             [
              0.2222222222222222,
              "#7201a8"
             ],
             [
              0.3333333333333333,
              "#9c179e"
             ],
             [
              0.4444444444444444,
              "#bd3786"
             ],
             [
              0.5555555555555556,
              "#d8576b"
             ],
             [
              0.6666666666666666,
              "#ed7953"
             ],
             [
              0.7777777777777778,
              "#fb9f3a"
             ],
             [
              0.8888888888888888,
              "#fdca26"
             ],
             [
              1.0,
              "#f0f921"
             ]
            ]
           }
          ],
          "choropleth": [
           {
            "type": "choropleth",
            "colorbar": {
             "outlinewidth": 0,
             "ticks": ""
            }
           }
          ],
          "histogram2d": [
           {
            "type": "histogram2d",
            "colorbar": {
             "outlinewidth": 0,
             "ticks": ""
            },
            "colorscale": [
             [
              0.0,
              "#0d0887"
             ],
             [
              0.1111111111111111,
              "#46039f"
             ],
             [
              0.2222222222222222,
              "#7201a8"
             ],
             [
              0.3333333333333333,
              "#9c179e"
             ],
             [
              0.4444444444444444,
              "#bd3786"
             ],
             [
              0.5555555555555556,
              "#d8576b"
             ],
             [
              0.6666666666666666,
              "#ed7953"
             ],
             [
              0.7777777777777778,
              "#fb9f3a"
             ],
             [
              0.8888888888888888,
              "#fdca26"
             ],
             [
              1.0,
              "#f0f921"
             ]
            ]
           }
          ],
          "heatmap": [
           {
            "type": "heatmap",
            "colorbar": {
             "outlinewidth": 0,
             "ticks": ""
            },
            "colorscale": [
             [
              0.0,
              "#0d0887"
             ],
             [
              0.1111111111111111,
              "#46039f"
             ],
             [
              0.2222222222222222,
              "#7201a8"
             ],
             [
              0.3333333333333333,
              "#9c179e"
             ],
             [
              0.4444444444444444,
              "#bd3786"
             ],
             [
              0.5555555555555556,
              "#d8576b"
             ],
             [
              0.6666666666666666,
              "#ed7953"
             ],
             [
              0.7777777777777778,
              "#fb9f3a"
             ],
             [
              0.8888888888888888,
              "#fdca26"
             ],
             [
              1.0,
              "#f0f921"
             ]
            ]
           }
          ],
          "contourcarpet": [
           {
            "type": "contourcarpet",
            "colorbar": {
             "outlinewidth": 0,
             "ticks": ""
            }
           }
          ],
          "contour": [
           {
            "type": "contour",
            "colorbar": {
             "outlinewidth": 0,
             "ticks": ""
            },
            "colorscale": [
             [
              0.0,
              "#0d0887"
             ],
             [
              0.1111111111111111,
              "#46039f"
             ],
             [
              0.2222222222222222,
              "#7201a8"
             ],
             [
              0.3333333333333333,
              "#9c179e"
             ],
             [
              0.4444444444444444,
              "#bd3786"
             ],
             [
              0.5555555555555556,
              "#d8576b"
             ],
             [
              0.6666666666666666,
              "#ed7953"
             ],
             [
              0.7777777777777778,
              "#fb9f3a"
             ],
             [
              0.8888888888888888,
              "#fdca26"
             ],
             [
              1.0,
              "#f0f921"
             ]
            ]
           }
          ],
          "surface": [
           {
            "type": "surface",
            "colorbar": {
             "outlinewidth": 0,
             "ticks": ""
            },
            "colorscale": [
             [
              0.0,
              "#0d0887"
             ],
             [
              0.1111111111111111,
              "#46039f"
             ],
             [
              0.2222222222222222,
              "#7201a8"
             ],
             [
              0.3333333333333333,
              "#9c179e"
             ],
             [
              0.4444444444444444,
              "#bd3786"
             ],
             [
              0.5555555555555556,
              "#d8576b"
             ],
             [
              0.6666666666666666,
              "#ed7953"
             ],
             [
              0.7777777777777778,
              "#fb9f3a"
             ],
             [
              0.8888888888888888,
              "#fdca26"
             ],
             [
              1.0,
              "#f0f921"
             ]
            ]
           }
          ],
          "mesh3d": [
           {
            "type": "mesh3d",
            "colorbar": {
             "outlinewidth": 0,
             "ticks": ""
            }
           }
          ],
          "scatter": [
           {
            "marker": {
             "line": {
              "color": "#283442"
             }
            },
            "type": "scatter"
           }
          ],
          "parcoords": [
           {
            "type": "parcoords",
            "line": {
             "colorbar": {
              "outlinewidth": 0,
              "ticks": ""
             }
            }
           }
          ],
          "scatterpolargl": [
           {
            "type": "scatterpolargl",
            "marker": {
             "colorbar": {
              "outlinewidth": 0,
              "ticks": ""
             }
            }
           }
          ],
          "bar": [
           {
            "error_x": {
             "color": "#f2f5fa"
            },
            "error_y": {
             "color": "#f2f5fa"
            },
            "marker": {
             "line": {
              "color": "rgb(17,17,17)",
              "width": 0.5
             },
             "pattern": {
              "fillmode": "overlay",
              "size": 10,
              "solidity": 0.2
             }
            },
            "type": "bar"
           }
          ],
          "scattergeo": [
           {
            "type": "scattergeo",
            "marker": {
             "colorbar": {
              "outlinewidth": 0,
              "ticks": ""
             }
            }
           }
          ],
          "scatterpolar": [
           {
            "type": "scatterpolar",
            "marker": {
             "colorbar": {
              "outlinewidth": 0,
              "ticks": ""
             }
            }
           }
          ],
          "histogram": [
           {
            "marker": {
             "pattern": {
              "fillmode": "overlay",
              "size": 10,
              "solidity": 0.2
             }
            },
            "type": "histogram"
           }
          ],
          "scattergl": [
           {
            "marker": {
             "line": {
              "color": "#283442"
             }
            },
            "type": "scattergl"
           }
          ],
          "scatter3d": [
           {
            "type": "scatter3d",
            "line": {
             "colorbar": {
              "outlinewidth": 0,
              "ticks": ""
             }
            },
            "marker": {
             "colorbar": {
              "outlinewidth": 0,
              "ticks": ""
             }
            }
           }
          ],
          "scattermap": [
           {
            "type": "scattermap",
            "marker": {
             "colorbar": {
              "outlinewidth": 0,
              "ticks": ""
             }
            }
           }
          ],
          "scattermapbox": [
           {
            "type": "scattermapbox",
            "marker": {
             "colorbar": {
              "outlinewidth": 0,
              "ticks": ""
             }
            }
           }
          ],
          "scatterternary": [
           {
            "type": "scatterternary",
            "marker": {
             "colorbar": {
              "outlinewidth": 0,
              "ticks": ""
             }
            }
           }
          ],
          "scattercarpet": [
           {
            "type": "scattercarpet",
            "marker": {
             "colorbar": {
              "outlinewidth": 0,
              "ticks": ""
             }
            }
           }
          ],
          "carpet": [
           {
            "aaxis": {
             "endlinecolor": "#A2B1C6",
             "gridcolor": "#506784",
             "linecolor": "#506784",
             "minorgridcolor": "#506784",
             "startlinecolor": "#A2B1C6"
            },
            "baxis": {
             "endlinecolor": "#A2B1C6",
             "gridcolor": "#506784",
             "linecolor": "#506784",
             "minorgridcolor": "#506784",
             "startlinecolor": "#A2B1C6"
            },
            "type": "carpet"
           }
          ],
          "table": [
           {
            "cells": {
             "fill": {
              "color": "#506784"
             },
             "line": {
              "color": "rgb(17,17,17)"
             }
            },
            "header": {
             "fill": {
              "color": "#2a3f5f"
             },
             "line": {
              "color": "rgb(17,17,17)"
             }
            },
            "type": "table"
           }
          ],
          "barpolar": [
           {
            "marker": {
             "line": {
              "color": "rgb(17,17,17)",
              "width": 0.5
             },
             "pattern": {
              "fillmode": "overlay",
              "size": 10,
              "solidity": 0.2
             }
            },
            "type": "barpolar"
           }
          ],
          "pie": [
           {
            "automargin": true,
            "type": "pie"
           }
          ]
         },
         "layout": {
          "autotypenumbers": "strict",
          "colorway": [
           "#636efa",
           "#EF553B",
           "#00cc96",
           "#ab63fa",
           "#FFA15A",
           "#19d3f3",
           "#FF6692",
           "#B6E880",
           "#FF97FF",
           "#FECB52"
          ],
          "font": {
           "color": "#f2f5fa"
          },
          "hovermode": "closest",
          "hoverlabel": {
           "align": "left"
          },
          "paper_bgcolor": "rgb(17,17,17)",
          "plot_bgcolor": "rgb(17,17,17)",
          "polar": {
           "bgcolor": "rgb(17,17,17)",
           "angularaxis": {
            "gridcolor": "#506784",
            "linecolor": "#506784",
            "ticks": ""
           },
           "radialaxis": {
            "gridcolor": "#506784",
            "linecolor": "#506784",
            "ticks": ""
           }
          },
          "ternary": {
           "bgcolor": "rgb(17,17,17)",
           "aaxis": {
            "gridcolor": "#506784",
            "linecolor": "#506784",
            "ticks": ""
           },
           "baxis": {
            "gridcolor": "#506784",
            "linecolor": "#506784",
            "ticks": ""
           },
           "caxis": {
            "gridcolor": "#506784",
            "linecolor": "#506784",
            "ticks": ""
           }
          },
          "coloraxis": {
           "colorbar": {
            "outlinewidth": 0,
            "ticks": ""
           }
          },
          "colorscale": {
           "sequential": [
            [
             0.0,
             "#0d0887"
            ],
            [
             0.1111111111111111,
             "#46039f"
            ],
            [
             0.2222222222222222,
             "#7201a8"
            ],
            [
             0.3333333333333333,
             "#9c179e"
            ],
            [
             0.4444444444444444,
             "#bd3786"
            ],
            [
             0.5555555555555556,
             "#d8576b"
            ],
            [
             0.6666666666666666,
             "#ed7953"
            ],
            [
             0.7777777777777778,
             "#fb9f3a"
            ],
            [
             0.8888888888888888,
             "#fdca26"
            ],
            [
             1.0,
             "#f0f921"
            ]
           ],
           "sequentialminus": [
            [
             0.0,
             "#0d0887"
            ],
            [
             0.1111111111111111,
             "#46039f"
            ],
            [
             0.2222222222222222,
             "#7201a8"
            ],
            [
             0.3333333333333333,
             "#9c179e"
            ],
            [
             0.4444444444444444,
             "#bd3786"
            ],
            [
             0.5555555555555556,
             "#d8576b"
            ],
            [
             0.6666666666666666,
             "#ed7953"
            ],
            [
             0.7777777777777778,
             "#fb9f3a"
            ],
            [
             0.8888888888888888,
             "#fdca26"
            ],
            [
             1.0,
             "#f0f921"
            ]
           ],
           "diverging": [
            [
             0,
             "#8e0152"
            ],
            [
             0.1,
             "#c51b7d"
            ],
            [
             0.2,
             "#de77ae"
            ],
            [
             0.3,
             "#f1b6da"
            ],
            [
             0.4,
             "#fde0ef"
            ],
            [
             0.5,
             "#f7f7f7"
            ],
            [
             0.6,
             "#e6f5d0"
            ],
            [
             0.7,
             "#b8e186"
            ],
            [
             0.8,
             "#7fbc41"
            ],
            [
             0.9,
             "#4d9221"
            ],
            [
             1,
             "#276419"
            ]
           ]
          },
          "xaxis": {
           "gridcolor": "#283442",
           "linecolor": "#506784",
           "ticks": "",
           "title": {
            "standoff": 15
           },
           "zerolinecolor": "#283442",
           "automargin": true,
           "zerolinewidth": 2
          },
          "yaxis": {
           "gridcolor": "#283442",
           "linecolor": "#506784",
           "ticks": "",
           "title": {
            "standoff": 15
           },
           "zerolinecolor": "#283442",
           "automargin": true,
           "zerolinewidth": 2
          },
          "scene": {
           "xaxis": {
            "backgroundcolor": "rgb(17,17,17)",
            "gridcolor": "#506784",
            "linecolor": "#506784",
            "showbackground": true,
            "ticks": "",
            "zerolinecolor": "#C8D4E3",
            "gridwidth": 2
           },
           "yaxis": {
            "backgroundcolor": "rgb(17,17,17)",
            "gridcolor": "#506784",
            "linecolor": "#506784",
            "showbackground": true,
            "ticks": "",
            "zerolinecolor": "#C8D4E3",
            "gridwidth": 2
           },
           "zaxis": {
            "backgroundcolor": "rgb(17,17,17)",
            "gridcolor": "#506784",
            "linecolor": "#506784",
            "showbackground": true,
            "ticks": "",
            "zerolinecolor": "#C8D4E3",
            "gridwidth": 2
           }
          },
          "shapedefaults": {
           "line": {
            "color": "#f2f5fa"
           }
          },
          "annotationdefaults": {
           "arrowcolor": "#f2f5fa",
           "arrowhead": 0,
           "arrowwidth": 1
          },
          "geo": {
           "bgcolor": "rgb(17,17,17)",
           "landcolor": "rgb(17,17,17)",
           "subunitcolor": "#506784",
           "showland": true,
           "showlakes": true,
           "lakecolor": "rgb(17,17,17)"
          },
          "title": {
           "x": 0.05
          },
          "updatemenudefaults": {
           "bgcolor": "#506784",
           "borderwidth": 0
          },
          "sliderdefaults": {
           "bgcolor": "#C8D4E3",
           "borderwidth": 1,
           "bordercolor": "rgb(17,17,17)",
           "tickwidth": 0
          },
          "mapbox": {
           "style": "dark"
          }
         }
        },
        "title": {
         "text": "REINFORCE on CartPole-v1"
        },
        "xaxis": {
         "title": {
          "text": "Episodes"
         }
        },
        "yaxis": {
         "title": {
          "text": "Returns"
         }
        },
        "showlegend": true
       },
       "config": {
        "plotlyServerURL": "https://plot.ly"
       }
      }
     },
     "metadata": {},
     "output_type": "display_data",
     "jetTransient": {
      "display_id": null
     }
    }
   ],
   "execution_count": 2
  },
  {
   "cell_type": "markdown",
   "source": [
    "> 可以看出，**REINFORCE** （**无偏估计**保证了算法在理论上可以收敛到局部最优） 能保证在学习率设置合适时收敛到一个**局部最优**\n",
    "> 但由于**依赖蒙特卡洛采样**整条轨迹回报，导致**梯度方差较大**，造成学习一定程度上的**不稳定**。\n",
    "> 且REINFORCE 算法基于蒙特卡洛采样，只能在序列结束后进行更新，这要求任务具有**有限的步数**。"
   ],
   "metadata": {
    "collapsed": false
   },
   "id": "8f00ee03a4747c75"
  }
 ],
 "metadata": {
  "kernelspec": {
   "display_name": "Python 3 (ipykernel)",
   "language": "python",
   "name": "python3"
  },
  "language_info": {
   "codemirror_mode": {
    "name": "ipython",
    "version": 3
   },
   "file_extension": ".py",
   "mimetype": "text/x-python",
   "name": "python",
   "nbconvert_exporter": "python",
   "pygments_lexer": "ipython3",
   "version": "3.12.9"
  }
 },
 "nbformat": 4,
 "nbformat_minor": 5
}
