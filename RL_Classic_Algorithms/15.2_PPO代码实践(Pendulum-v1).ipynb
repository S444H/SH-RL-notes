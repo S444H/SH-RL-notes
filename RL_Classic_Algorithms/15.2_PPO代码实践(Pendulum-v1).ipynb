{
 "cells": [
  {
   "cell_type": "markdown",
   "id": "4451707f4eb0f60c",
   "metadata": {
    "collapsed": false
   },
   "source": [
    "*本节在 **倒立摆（Pendulum）连续-动作** 交互环境下进行 **PPO-Clip** 代码实践*"
   ]
  },
  {
   "cell_type": "markdown",
   "id": "d9a36d7398028c3",
   "metadata": {
    "collapsed": false
   },
   "source": [
    "导入相关库："
   ]
  },
  {
   "cell_type": "code",
   "execution_count": 1,
   "id": "5f78a5e594ce9e39",
   "metadata": {
    "ExecuteTime": {
     "end_time": "2025-08-07T10:18:42.381661800Z",
     "start_time": "2025-08-07T10:18:42.368330800Z"
    },
    "collapsed": false
   },
   "outputs": [],
   "source": [
    "# 基本库\n",
    "import numpy as np\n",
    "import copy\n",
    "\n",
    "from utils.smoothing import moving_average\n",
    "from utils.advantage import compute_advantage\n",
    "from utils.training import train_on_policy_agent\n",
    "# 神经网络\n",
    "import torch\n",
    "import torch.nn.functional as F\n",
    "# Gymnasium 是一个用于开发和测试强化学习算法的工具库，为 OpenAI Gym 的更新版本（2021迁移开发）\n",
    "import gymnasium as gym"
   ]
  },
  {
   "cell_type": "markdown",
   "id": "61d44b3b077aade8",
   "metadata": {
    "collapsed": false
   },
   "source": [
    "## 倒立摆环境（'Pendulum-v1'）"
   ]
  },
  {
   "cell_type": "markdown",
   "id": "481419daec3622d8",
   "metadata": {
    "collapsed": false
   },
   "source": [
    "### 价值网络（保持不变）:"
   ]
  },
  {
   "cell_type": "code",
   "execution_count": 2,
   "id": "e5fa6848d8d70a98",
   "metadata": {
    "collapsed": false
   },
   "outputs": [],
   "source": [
    "class ValueNet(torch.nn.Module):\n",
    "    def __init__(self, state_dim, hidden_dim):\n",
    "        super(ValueNet, self).__init__()\n",
    "        self.fc1 = torch.nn.Linear(state_dim, hidden_dim)\n",
    "        self.fc2 = torch.nn.Linear(hidden_dim, 1)\n",
    "\n",
    "    def forward(self, x):\n",
    "        x = F.relu(self.fc1(x))\n",
    "        return self.fc2(x)"
   ]
  },
  {
   "cell_type": "markdown",
   "id": "c0c9ed13afa91bbc",
   "metadata": {
    "collapsed": false
   },
   "source": [
    "### 策略网络：动作输出修改为高斯分布的均值和标准差"
   ]
  },
  {
   "cell_type": "code",
   "execution_count": 3,
   "id": "bdca7dd1b1cd5a20",
   "metadata": {
    "collapsed": false
   },
   "outputs": [],
   "source": [
    "class PolicyNetContinuous(torch.nn.Module):\n",
    "    def __init__(self, state_dim, hidden_dim, action_dim):\n",
    "        super(PolicyNetContinuous, self).__init__()\n",
    "        self.fc1 = torch.nn.Linear(state_dim, hidden_dim)\n",
    "        self.fc_mu = torch.nn.Linear(hidden_dim, action_dim)\n",
    "        self.fc_std = torch.nn.Linear(hidden_dim, action_dim)\n",
    "\n",
    "    def forward(self, x):\n",
    "        x = F.relu(self.fc1(x))\n",
    "        mu = 2.0 * torch.tanh(self.fc_mu(x))\n",
    "        std = F.softplus(self.fc_std(x))\n",
    "        return mu, std  # 高斯分布的均值和标准差，每一个状态对应一个高斯分布（多维）的均值和标准差"
   ]
  },
  {
   "cell_type": "markdown",
   "id": "42419017fcffc3de",
   "metadata": {
    "collapsed": false
   },
   "source": [
    "### 定义 PPO-Clip 算法（连续动作）："
   ]
  },
  {
   "cell_type": "code",
   "execution_count": 4,
   "id": "84f0319b8a66d74e",
   "metadata": {
    "collapsed": false
   },
   "outputs": [],
   "source": [
    "class PPOContinuous:\n",
    "    \"\"\" PPO-Clip（连续动作） \"\"\"\n",
    "    def __init__(self, state_dim, hidden_dim, action_dim, actor_lr, critic_lr, lmbda, epochs, eps, gamma, device):\n",
    "        self.actor = PolicyNetContinuous(state_dim, hidden_dim, action_dim).to(device)\n",
    "        self.critic = ValueNet(state_dim, hidden_dim).to(device)\n",
    "        self.actor_optimizer = torch.optim.Adam(self.actor.parameters(), lr=actor_lr)\n",
    "        self.critic_optimizer = torch.optim.Adam(self.critic.parameters(), lr=critic_lr)\n",
    "        \n",
    "        self.gamma = gamma\n",
    "        self.lmbda = lmbda\n",
    "        self.epochs = epochs\n",
    "        self.eps = eps\n",
    "        self.device = device\n",
    "\n",
    "    def take_action(self, state):\n",
    "        state = torch.tensor(np.array([state]), dtype=torch.float).to(self.device)\n",
    "        #---------------------\n",
    "        mu, std = self.actor(state)\n",
    "        action_dist = torch.distributions.Normal(mu, std)\n",
    "        #---------------------\n",
    "        action = action_dist.sample()\n",
    "        return [action.item()]  # 即使为一维动作，形状要符合环境定义\n",
    "\n",
    "    def update(self, transition_dict):\n",
    "        states_np = np.array(transition_dict['states'])  # 转换成统一的大 np.ndarray，PyTorch更高效处理\n",
    "        states = torch.tensor(states_np, dtype=torch.float).to(self.device)\n",
    "        actions = torch.tensor(transition_dict['actions']).view(-1, 1).to(self.device)\n",
    "        rewards = torch.tensor(transition_dict['rewards'], dtype=torch.float).view(-1, 1).to(self.device)\n",
    "        next_states_np = np.array(transition_dict['next_states'])  # 转换成统一的大 np.ndarray，PyTorch更高效处理\n",
    "        next_states = torch.tensor(next_states_np, dtype=torch.float).to(self.device)\n",
    "        dones = torch.tensor(transition_dict['dones'], dtype=torch.float).view(-1, 1).to(self.device)\n",
    "        \n",
    "        # rewards = (rewards + 16.0) / 16.0  # 标准归一化（线性映射到 [0, 1]）\n",
    "        \n",
    "        td_target = rewards + self.gamma * self.critic(next_states) * (1 - dones)  # 时序差分目标\n",
    "        td_delta = td_target - self.critic(states)                                 # 时序差分误差\n",
    "        \n",
    "        advantage = compute_advantage(self.gamma, self.lmbda, td_delta.cpu()).to(self.device)\n",
    "        \n",
    "        #------------------------------------------------\n",
    "        mu, std = self.actor(states)\n",
    "        action_dists = torch.distributions.Normal(mu.detach(), std.detach())\n",
    "        old_log_probs = action_dists.log_prob(actions)  # 动作是正态分布\n",
    "        #-------------------------------------------------\n",
    "\n",
    "        for _ in range(self.epochs):\n",
    "            #-----------------------------------\n",
    "            mu, std = self.actor(states)\n",
    "            action_dists = torch.distributions.Normal(mu, std)\n",
    "            log_probs = action_dists.log_prob(actions)\n",
    "            #-----------------------------------\n",
    "            ratio = torch.exp(log_probs - old_log_probs)\n",
    "            surr1 = ratio * advantage\n",
    "            surr2 = torch.clamp(ratio, 1 - self.eps, 1 + self.eps) * advantage\n",
    "            \n",
    "            actor_loss = torch.mean(-torch.min(surr1, surr2))\n",
    "            critic_loss = torch.mean(F.mse_loss(self.critic(states), td_target.detach()))\n",
    "            self.actor_optimizer.zero_grad()\n",
    "            self.critic_optimizer.zero_grad()\n",
    "            actor_loss.backward()\n",
    "            critic_loss.backward()\n",
    "            self.actor_optimizer.step()\n",
    "            self.critic_optimizer.step()"
   ]
  },
  {
   "cell_type": "markdown",
   "id": "aa5f5d3241212f55",
   "metadata": {
    "collapsed": false
   },
   "source": [
    "### 环境设置（'Pendulum-v1'）："
   ]
  },
  {
   "cell_type": "code",
   "execution_count": 5,
   "id": "e0ea3cc5bbcd04be",
   "metadata": {
    "collapsed": false
   },
   "outputs": [
    {
     "name": "stdout",
     "output_type": "stream",
     "text": [
      "Environment spec: EnvSpec(id='Pendulum-v1', entry_point='gymnasium.envs.classic_control.pendulum:PendulumEnv', reward_threshold=None, nondeterministic=False, max_episode_steps=200, order_enforce=True, disable_env_checker=False, kwargs={}, namespace=None, name='Pendulum', version=1, additional_wrappers=(), vector_entry_point=None)\n"
     ]
    }
   ],
   "source": [
    "np.random.seed(0)    # 设置 NumPy 的随机种子\n",
    "torch.manual_seed(0) # 设置 PyTorch CPU 随机种子\n",
    "torch.cuda.manual_seed_all(0) # 设置 PyTorch GPU 随机种子, 由于GPU并行性, 只能极大减小偏差\n",
    "\n",
    "env_name = 'Pendulum-v1'\n",
    "env = gym.make(env_name)\n",
    "env.reset(seed=0)   # 环境通常依赖于其他随机数生成器来初始化状态、进行探索(推荐位于以上随机之后)\n",
    "print(\"Environment spec:\", env.spec)"
   ]
  },
  {
   "cell_type": "markdown",
   "id": "110ed6286e234d13",
   "metadata": {
    "collapsed": false
   },
   "source": [
    "### 超参数设置："
   ]
  },
  {
   "cell_type": "code",
   "execution_count": 6,
   "id": "a3df4d3bafdf4125",
   "metadata": {
    "collapsed": false
   },
   "outputs": [],
   "source": [
    "state_dim = env.observation_space.shape[0]\n",
    "action_dim = env.action_space.shape[0]  # 连续动作空间\n",
    "hidden_dim = 128\n",
    "\n",
    "lmbda = 0.9\n",
    "eps = 0.2\n",
    "actor_lr = 1e-4\n",
    "critic_lr = 5e-3\n",
    "gamma = 0.9\n",
    "epochs = 10\n",
    "device = torch.device(\"cuda\") if torch.cuda.is_available() else torch.device( \"cpu\")\n",
    "agent = PPOContinuous(state_dim, hidden_dim, action_dim, actor_lr, critic_lr,\n",
    "                      lmbda, epochs, eps, gamma, device)\n",
    "\n",
    "num_episodes = 2000"
   ]
  },
  {
   "cell_type": "markdown",
   "id": "37395d7b474ea301",
   "metadata": {
    "collapsed": false
   },
   "source": [
    "### 测试与训练:"
   ]
  },
  {
   "cell_type": "code",
   "execution_count": 7,
   "id": "fbb25ca6ec85ce3c",
   "metadata": {
    "collapsed": false
   },
   "outputs": [
    {
     "name": "stderr",
     "output_type": "stream",
     "text": [
      "Iteration 0: 100%|██████████| 200/200 [01:06<00:00,  3.00it/s, episode=200, return=-1174.802]\n",
      "Iteration 1: 100%|██████████| 200/200 [01:05<00:00,  3.04it/s, episode=400, return=-971.048] \n",
      "Iteration 2: 100%|██████████| 200/200 [01:05<00:00,  3.05it/s, episode=600, return=-581.274]\n",
      "Iteration 3: 100%|██████████| 200/200 [01:06<00:00,  3.02it/s, episode=800, return=-307.239]\n",
      "Iteration 4: 100%|██████████| 200/200 [01:06<00:00,  2.99it/s, episode=1000, return=-1059.431]\n",
      "Iteration 5: 100%|██████████| 200/200 [01:06<00:00,  3.00it/s, episode=1200, return=-316.176]\n",
      "Iteration 6: 100%|██████████| 200/200 [01:05<00:00,  3.04it/s, episode=1400, return=-290.251]\n",
      "Iteration 7: 100%|██████████| 200/200 [01:05<00:00,  3.06it/s, episode=1600, return=-193.448]\n",
      "Iteration 8: 100%|██████████| 200/200 [01:05<00:00,  3.06it/s, episode=1800, return=-224.436]\n",
      "Iteration 9: 100%|██████████| 200/200 [01:06<00:00,  3.03it/s, episode=2000, return=-528.133]\n"
     ]
    }
   ],
   "source": [
    "return_list = train_on_policy_agent(env, agent, num_episodes)"
   ]
  },
  {
   "cell_type": "markdown",
   "id": "87239dbfa6ce894f",
   "metadata": {
    "collapsed": false
   },
   "source": [
    "### 绘图："
   ]
  },
  {
   "cell_type": "code",
   "execution_count": 8,
   "id": "4f315932646cb41c",
   "metadata": {
    "collapsed": false
   },
   "outputs": [],
   "source": [
    "import pandas as pd\n",
    "episodes_list = list(range(len(return_list)))\n",
    "mv_return = moving_average(return_list, 9)\n",
    "# 创建 DataFrame\n",
    "df1 = pd.DataFrame({'Episodes': episodes_list, 'Returns': return_list})\n",
    "df2 = pd.DataFrame({'Episodes': episodes_list, 'Returns': mv_return})\n",
    "# 保存为 CSV 文件\n",
    "df1.to_csv('PPO_Clip_Pendulum-v1_returns_data.csv', index=False)\n",
    "df2.to_csv('PPO_Clip_Pendulum-v1_mv_returns_data.csv', index=False)"
   ]
  },
  {
   "cell_type": "code",
   "id": "248f6f33f02c08c8",
   "metadata": {
    "collapsed": false,
    "ExecuteTime": {
     "end_time": "2025-09-25T10:14:38.602055Z",
     "start_time": "2025-09-25T10:14:38.576056Z"
    }
   },
   "source": [
    "import plotly.graph_objects as go\n",
    "import pandas as pd\n",
    "df = pd.read_csv('./Data/PPO_Clip_Pendulum-v1_returns_data.csv')  # 从 CSV 文件中读取数据\n",
    "fig = go.Figure()\n",
    "fig.add_trace(go.Scatter(x=df['Episodes'], y=df['Returns'], mode='lines', name='Returns'))\n",
    "fig.update_layout(\n",
    "    title='PPO_Clip on Pendulum-v1',\n",
    "    xaxis_title='Episodes',\n",
    "    yaxis_title='Returns',\n",
    "    showlegend=True\n",
    ")\n",
    "fig.show()"
   ],
   "outputs": [
    {
     "data": {
      "application/vnd.plotly.v1+json": {
       "data": [
        {
         "mode": "lines",
         "name": "Returns",
         "x": {
          "dtype": "i2",
          "bdata": "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"
         },
         "y": {
          "dtype": "f8",
          "bdata": "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"
         },
         "type": "scatter"
        }
       ],
       "layout": {
        "template": {
         "data": {
          "histogram2dcontour": [
           {
            "type": "histogram2dcontour",
            "colorbar": {
             "outlinewidth": 0,
             "ticks": ""
            },
            "colorscale": [
             [
              0.0,
              "#0d0887"
             ],
             [
              0.1111111111111111,
              "#46039f"
             ],
             [
              0.2222222222222222,
              "#7201a8"
             ],
             [
              0.3333333333333333,
              "#9c179e"
             ],
             [
              0.4444444444444444,
              "#bd3786"
             ],
             [
              0.5555555555555556,
              "#d8576b"
             ],
             [
              0.6666666666666666,
              "#ed7953"
             ],
             [
              0.7777777777777778,
              "#fb9f3a"
             ],
             [
              0.8888888888888888,
              "#fdca26"
             ],
             [
              1.0,
              "#f0f921"
             ]
            ]
           }
          ],
          "choropleth": [
           {
            "type": "choropleth",
            "colorbar": {
             "outlinewidth": 0,
             "ticks": ""
            }
           }
          ],
          "histogram2d": [
           {
            "type": "histogram2d",
            "colorbar": {
             "outlinewidth": 0,
             "ticks": ""
            },
            "colorscale": [
             [
              0.0,
              "#0d0887"
             ],
             [
              0.1111111111111111,
              "#46039f"
             ],
             [
              0.2222222222222222,
              "#7201a8"
             ],
             [
              0.3333333333333333,
              "#9c179e"
             ],
             [
              0.4444444444444444,
              "#bd3786"
             ],
             [
              0.5555555555555556,
              "#d8576b"
             ],
             [
              0.6666666666666666,
              "#ed7953"
             ],
             [
              0.7777777777777778,
              "#fb9f3a"
             ],
             [
              0.8888888888888888,
              "#fdca26"
             ],
             [
              1.0,
              "#f0f921"
             ]
            ]
           }
          ],
          "heatmap": [
           {
            "type": "heatmap",
            "colorbar": {
             "outlinewidth": 0,
             "ticks": ""
            },
            "colorscale": [
             [
              0.0,
              "#0d0887"
             ],
             [
              0.1111111111111111,
              "#46039f"
             ],
             [
              0.2222222222222222,
              "#7201a8"
             ],
             [
              0.3333333333333333,
              "#9c179e"
             ],
             [
              0.4444444444444444,
              "#bd3786"
             ],
             [
              0.5555555555555556,
              "#d8576b"
             ],
             [
              0.6666666666666666,
              "#ed7953"
             ],
             [
              0.7777777777777778,
              "#fb9f3a"
             ],
             [
              0.8888888888888888,
              "#fdca26"
             ],
             [
              1.0,
              "#f0f921"
             ]
            ]
           }
          ],
          "contourcarpet": [
           {
            "type": "contourcarpet",
            "colorbar": {
             "outlinewidth": 0,
             "ticks": ""
            }
           }
          ],
          "contour": [
           {
            "type": "contour",
            "colorbar": {
             "outlinewidth": 0,
             "ticks": ""
            },
            "colorscale": [
             [
              0.0,
              "#0d0887"
             ],
             [
              0.1111111111111111,
              "#46039f"
             ],
             [
              0.2222222222222222,
              "#7201a8"
             ],
             [
              0.3333333333333333,
              "#9c179e"
             ],
             [
              0.4444444444444444,
              "#bd3786"
             ],
             [
              0.5555555555555556,
              "#d8576b"
             ],
             [
              0.6666666666666666,
              "#ed7953"
             ],
             [
              0.7777777777777778,
              "#fb9f3a"
             ],
             [
              0.8888888888888888,
              "#fdca26"
             ],
             [
              1.0,
              "#f0f921"
             ]
            ]
           }
          ],
          "surface": [
           {
            "type": "surface",
            "colorbar": {
             "outlinewidth": 0,
             "ticks": ""
            },
            "colorscale": [
             [
              0.0,
              "#0d0887"
             ],
             [
              0.1111111111111111,
              "#46039f"
             ],
             [
              0.2222222222222222,
              "#7201a8"
             ],
             [
              0.3333333333333333,
              "#9c179e"
             ],
             [
              0.4444444444444444,
              "#bd3786"
             ],
             [
              0.5555555555555556,
              "#d8576b"
             ],
             [
              0.6666666666666666,
              "#ed7953"
             ],
             [
              0.7777777777777778,
              "#fb9f3a"
             ],
             [
              0.8888888888888888,
              "#fdca26"
             ],
             [
              1.0,
              "#f0f921"
             ]
            ]
           }
          ],
          "mesh3d": [
           {
            "type": "mesh3d",
            "colorbar": {
             "outlinewidth": 0,
             "ticks": ""
            }
           }
          ],
          "scatter": [
           {
            "marker": {
             "line": {
              "color": "#283442"
             }
            },
            "type": "scatter"
           }
          ],
          "parcoords": [
           {
            "type": "parcoords",
            "line": {
             "colorbar": {
              "outlinewidth": 0,
              "ticks": ""
             }
            }
           }
          ],
          "scatterpolargl": [
           {
            "type": "scatterpolargl",
            "marker": {
             "colorbar": {
              "outlinewidth": 0,
              "ticks": ""
             }
            }
           }
          ],
          "bar": [
           {
            "error_x": {
             "color": "#f2f5fa"
            },
            "error_y": {
             "color": "#f2f5fa"
            },
            "marker": {
             "line": {
              "color": "rgb(17,17,17)",
              "width": 0.5
             },
             "pattern": {
              "fillmode": "overlay",
              "size": 10,
              "solidity": 0.2
             }
            },
            "type": "bar"
           }
          ],
          "scattergeo": [
           {
            "type": "scattergeo",
            "marker": {
             "colorbar": {
              "outlinewidth": 0,
              "ticks": ""
             }
            }
           }
          ],
          "scatterpolar": [
           {
            "type": "scatterpolar",
            "marker": {
             "colorbar": {
              "outlinewidth": 0,
              "ticks": ""
             }
            }
           }
          ],
          "histogram": [
           {
            "marker": {
             "pattern": {
              "fillmode": "overlay",
              "size": 10,
              "solidity": 0.2
             }
            },
            "type": "histogram"
           }
          ],
          "scattergl": [
           {
            "marker": {
             "line": {
              "color": "#283442"
             }
            },
            "type": "scattergl"
           }
          ],
          "scatter3d": [
           {
            "type": "scatter3d",
            "line": {
             "colorbar": {
              "outlinewidth": 0,
              "ticks": ""
             }
            },
            "marker": {
             "colorbar": {
              "outlinewidth": 0,
              "ticks": ""
             }
            }
           }
          ],
          "scattermap": [
           {
            "type": "scattermap",
            "marker": {
             "colorbar": {
              "outlinewidth": 0,
              "ticks": ""
             }
            }
           }
          ],
          "scattermapbox": [
           {
            "type": "scattermapbox",
            "marker": {
             "colorbar": {
              "outlinewidth": 0,
              "ticks": ""
             }
            }
           }
          ],
          "scatterternary": [
           {
            "type": "scatterternary",
            "marker": {
             "colorbar": {
              "outlinewidth": 0,
              "ticks": ""
             }
            }
           }
          ],
          "scattercarpet": [
           {
            "type": "scattercarpet",
            "marker": {
             "colorbar": {
              "outlinewidth": 0,
              "ticks": ""
             }
            }
           }
          ],
          "carpet": [
           {
            "aaxis": {
             "endlinecolor": "#A2B1C6",
             "gridcolor": "#506784",
             "linecolor": "#506784",
             "minorgridcolor": "#506784",
             "startlinecolor": "#A2B1C6"
            },
            "baxis": {
             "endlinecolor": "#A2B1C6",
             "gridcolor": "#506784",
             "linecolor": "#506784",
             "minorgridcolor": "#506784",
             "startlinecolor": "#A2B1C6"
            },
            "type": "carpet"
           }
          ],
          "table": [
           {
            "cells": {
             "fill": {
              "color": "#506784"
             },
             "line": {
              "color": "rgb(17,17,17)"
             }
            },
            "header": {
             "fill": {
              "color": "#2a3f5f"
             },
             "line": {
              "color": "rgb(17,17,17)"
             }
            },
            "type": "table"
           }
          ],
          "barpolar": [
           {
            "marker": {
             "line": {
              "color": "rgb(17,17,17)",
              "width": 0.5
             },
             "pattern": {
              "fillmode": "overlay",
              "size": 10,
              "solidity": 0.2
             }
            },
            "type": "barpolar"
           }
          ],
          "pie": [
           {
            "automargin": true,
            "type": "pie"
           }
          ]
         },
         "layout": {
          "autotypenumbers": "strict",
          "colorway": [
           "#636efa",
           "#EF553B",
           "#00cc96",
           "#ab63fa",
           "#FFA15A",
           "#19d3f3",
           "#FF6692",
           "#B6E880",
           "#FF97FF",
           "#FECB52"
          ],
          "font": {
           "color": "#f2f5fa"
          },
          "hovermode": "closest",
          "hoverlabel": {
           "align": "left"
          },
          "paper_bgcolor": "rgb(17,17,17)",
          "plot_bgcolor": "rgb(17,17,17)",
          "polar": {
           "bgcolor": "rgb(17,17,17)",
           "angularaxis": {
            "gridcolor": "#506784",
            "linecolor": "#506784",
            "ticks": ""
           },
           "radialaxis": {
            "gridcolor": "#506784",
            "linecolor": "#506784",
            "ticks": ""
           }
          },
          "ternary": {
           "bgcolor": "rgb(17,17,17)",
           "aaxis": {
            "gridcolor": "#506784",
            "linecolor": "#506784",
            "ticks": ""
           },
           "baxis": {
            "gridcolor": "#506784",
            "linecolor": "#506784",
            "ticks": ""
           },
           "caxis": {
            "gridcolor": "#506784",
            "linecolor": "#506784",
            "ticks": ""
           }
          },
          "coloraxis": {
           "colorbar": {
            "outlinewidth": 0,
            "ticks": ""
           }
          },
          "colorscale": {
           "sequential": [
            [
             0.0,
             "#0d0887"
            ],
            [
             0.1111111111111111,
             "#46039f"
            ],
            [
             0.2222222222222222,
             "#7201a8"
            ],
            [
             0.3333333333333333,
             "#9c179e"
            ],
            [
             0.4444444444444444,
             "#bd3786"
            ],
            [
             0.5555555555555556,
             "#d8576b"
            ],
            [
             0.6666666666666666,
             "#ed7953"
            ],
            [
             0.7777777777777778,
             "#fb9f3a"
            ],
            [
             0.8888888888888888,
             "#fdca26"
            ],
            [
             1.0,
             "#f0f921"
            ]
           ],
           "sequentialminus": [
            [
             0.0,
             "#0d0887"
            ],
            [
             0.1111111111111111,
             "#46039f"
            ],
            [
             0.2222222222222222,
             "#7201a8"
            ],
            [
             0.3333333333333333,
             "#9c179e"
            ],
            [
             0.4444444444444444,
             "#bd3786"
            ],
            [
             0.5555555555555556,
             "#d8576b"
            ],
            [
             0.6666666666666666,
             "#ed7953"
            ],
            [
             0.7777777777777778,
             "#fb9f3a"
            ],
            [
             0.8888888888888888,
             "#fdca26"
            ],
            [
             1.0,
             "#f0f921"
            ]
           ],
           "diverging": [
            [
             0,
             "#8e0152"
            ],
            [
             0.1,
             "#c51b7d"
            ],
            [
             0.2,
             "#de77ae"
            ],
            [
             0.3,
             "#f1b6da"
            ],
            [
             0.4,
             "#fde0ef"
            ],
            [
             0.5,
             "#f7f7f7"
            ],
            [
             0.6,
             "#e6f5d0"
            ],
            [
             0.7,
             "#b8e186"
            ],
            [
             0.8,
             "#7fbc41"
            ],
            [
             0.9,
             "#4d9221"
            ],
            [
             1,
             "#276419"
            ]
           ]
          },
          "xaxis": {
           "gridcolor": "#283442",
           "linecolor": "#506784",
           "ticks": "",
           "title": {
            "standoff": 15
           },
           "zerolinecolor": "#283442",
           "automargin": true,
           "zerolinewidth": 2
          },
          "yaxis": {
           "gridcolor": "#283442",
           "linecolor": "#506784",
           "ticks": "",
           "title": {
            "standoff": 15
           },
           "zerolinecolor": "#283442",
           "automargin": true,
           "zerolinewidth": 2
          },
          "scene": {
           "xaxis": {
            "backgroundcolor": "rgb(17,17,17)",
            "gridcolor": "#506784",
            "linecolor": "#506784",
            "showbackground": true,
            "ticks": "",
            "zerolinecolor": "#C8D4E3",
            "gridwidth": 2
           },
           "yaxis": {
            "backgroundcolor": "rgb(17,17,17)",
            "gridcolor": "#506784",
            "linecolor": "#506784",
            "showbackground": true,
            "ticks": "",
            "zerolinecolor": "#C8D4E3",
            "gridwidth": 2
           },
           "zaxis": {
            "backgroundcolor": "rgb(17,17,17)",
            "gridcolor": "#506784",
            "linecolor": "#506784",
            "showbackground": true,
            "ticks": "",
            "zerolinecolor": "#C8D4E3",
            "gridwidth": 2
           }
          },
          "shapedefaults": {
           "line": {
            "color": "#f2f5fa"
           }
          },
          "annotationdefaults": {
           "arrowcolor": "#f2f5fa",
           "arrowhead": 0,
           "arrowwidth": 1
          },
          "geo": {
           "bgcolor": "rgb(17,17,17)",
           "landcolor": "rgb(17,17,17)",
           "subunitcolor": "#506784",
           "showland": true,
           "showlakes": true,
           "lakecolor": "rgb(17,17,17)"
          },
          "title": {
           "x": 0.05
          },
          "updatemenudefaults": {
           "bgcolor": "#506784",
           "borderwidth": 0
          },
          "sliderdefaults": {
           "bgcolor": "#C8D4E3",
           "borderwidth": 1,
           "bordercolor": "rgb(17,17,17)",
           "tickwidth": 0
          },
          "mapbox": {
           "style": "dark"
          }
         }
        },
        "title": {
         "text": "PPO_Clip on Pendulum-v1"
        },
        "xaxis": {
         "title": {
          "text": "Episodes"
         }
        },
        "yaxis": {
         "title": {
          "text": "Returns"
         }
        },
        "showlegend": true
       },
       "config": {
        "plotlyServerURL": "https://plot.ly"
       }
      }
     },
     "metadata": {},
     "output_type": "display_data",
     "jetTransient": {
      "display_id": null
     }
    }
   ],
   "execution_count": 2
  },
  {
   "cell_type": "code",
   "id": "3278f2db69c7120e",
   "metadata": {
    "collapsed": false,
    "ExecuteTime": {
     "end_time": "2025-09-25T10:14:38.572522Z",
     "start_time": "2025-09-25T10:14:38.012693Z"
    }
   },
   "source": [
    "import plotly.graph_objects as go\n",
    "import pandas as pd\n",
    "df = pd.read_csv('./Data/PPO_Clip_Pendulum-v1_mv_returns_data.csv')  # 从 CSV 文件中读取数据\n",
    "fig = go.Figure()\n",
    "fig.add_trace(go.Scatter(x=df['Episodes'], y=df['Returns'], mode='lines', name='Returns'))\n",
    "fig.update_layout(\n",
    "    title='PPO_Clip on Pendulum-v1',\n",
    "    xaxis_title='Episodes',\n",
    "    yaxis_title='Returns',\n",
    "    showlegend=True\n",
    ")\n",
    "fig.show()"
   ],
   "outputs": [
    {
     "data": {
      "application/vnd.plotly.v1+json": {
       "data": [
        {
         "mode": "lines",
         "name": "Returns",
         "x": {
          "dtype": "i2",
          "bdata": "AAABAAIAAwAEAAUABgAHAAgACQAKAAsADAANAA4ADwAQABEAEgATABQAFQAWABcAGAAZABoAGwAcAB0AHgAfACAAIQAiACMAJAAlACYAJwAoACkAKgArACwALQAuAC8AMAAxADIAMwA0ADUANgA3ADgAOQA6ADsAPAA9AD4APwBAAEEAQgBDAEQARQBGAEcASABJAEoASwBMAE0ATgBPAFAAUQBSAFMAVABVAFYAVwBYAFkAWgBbAFwAXQBeAF8AYABhAGIAYwBkAGUAZgBnAGgAaQBqAGsAbABtAG4AbwBwAHEAcgBzAHQAdQB2AHcAeAB5AHoAewB8AH0AfgB/AIAAgQCCAIMAhACFAIYAhwCIAIkAigCLAIwAjQCOAI8AkACRAJIAkwCUAJUAlgCXAJgAmQCaAJsAnACdAJ4AnwCgAKEAogCjAKQApQCmAKcAqACpAKoAqwCsAK0ArgCvALAAsQCyALMAtAC1ALYAtwC4ALkAugC7ALwAvQC+AL8AwADBAMIAwwDEAMUAxgDHAMgAyQDKAMsAzADNAM4AzwDQANEA0gDTANQA1QDWANcA2ADZANoA2wDcAN0A3gDfAOAA4QDiAOMA5ADlAOYA5wDoAOkA6gDrAOwA7QDuAO8A8ADxAPIA8wD0APUA9gD3APgA+QD6APsA/AD9AP4A/wAAAQEBAgEDAQQBBQEGAQcBCAEJAQoBCwEMAQ0BDgEPARABEQESARMBFAEVARYBFwEYARkBGgEbARwBHQEeAR8BIAEhASIBIwEkASUBJgEnASgBKQEqASsBLAEtAS4BLwEwATEBMgEzATQBNQE2ATcBOAE5AToBOwE8AT0BPgE/AUABQQFCAUMBRAFFAUYBRwFIAUkBSgFLAUwBTQFOAU8BUAFRAVIBUwFUAVUBVgFXAVgBWQFaAVsBXAFdAV4BXwFgAWEBYgFjAWQBZQFmAWcBaAFpAWoBawFsAW0BbgFvAXABcQFyAXMBdAF1AXYBdwF4AXkBegF7AXwBfQF+AX8BgAGBAYIBgwGEAYUBhgGHAYgBiQGKAYsBjAGNAY4BjwGQAZEBkgGTAZQBlQGWAZcBmAGZAZoBmwGcAZ0BngGfAaABoQGiAaMBpAGlAaYBpwGoAakBqgGrAawBrQGuAa8BsAGxAbIBswG0AbUBtgG3AbgBuQG6AbsBvAG9Ab4BvwHAAcEBwgHDAcQBxQHGAccByAHJAcoBywHMAc0BzgHPAdAB0QHSAdMB1AHVAdYB1wHYAdkB2gHbAdwB3QHeAd8B4AHhAeIB4wHkAeUB5gHnAegB6QHqAesB7AHtAe4B7wHwAfEB8gHzAfQB9QH2AfcB+AH5AfoB+wH8Af0B/gH/AQACAQICAgMCBAIFAgYCBwIIAgkCCgILAgwCDQIOAg8CEAIRAhICEwIUAhUCFgIXAhgCGQIaAhsCHAIdAh4CHwIgAiECIgIjAiQCJQImAicCKAIpAioCKwIsAi0CLgIvAjACMQIyAjMCNAI1AjYCNwI4AjkCOgI7AjwCPQI+Aj8CQAJBAkICQwJEAkUCRgJHAkgCSQJKAksCTAJNAk4CTwJQAlECUgJTAlQCVQJWAlcCWAJZAloCWwJcAl0CXgJfAmACYQJiAmMCZAJlAmYCZwJoAmkCagJrAmwCbQJuAm8CcAJxAnICcwJ0AnUCdgJ3AngCeQJ6AnsCfAJ9An4CfwKAAoECggKDAoQChQKGAocCiAKJAooCiwKMAo0CjgKPApACkQKSApMClAKVApYClwKYApkCmgKbApwCnQKeAp8CoAKhAqICowKkAqUCpgKnAqgCqQKqAqsCrAKtAq4CrwKwArECsgKzArQCtQK2ArcCuAK5AroCuwK8Ar0CvgK/AsACwQLCAsMCxALFAsYCxwLIAskCygLLAswCzQLOAs8C0ALRAtIC0wLUAtUC1gLXAtgC2QLaAtsC3ALdAt4C3wLgAuEC4gLjAuQC5QLmAucC6ALpAuoC6wLsAu0C7gLvAvAC8QLyAvMC9AL1AvYC9wL4AvkC+gL7AvwC/QL+Av8CAAMBAwIDAwMEAwUDBgMHAwgDCQMKAwsDDAMNAw4DDwMQAxEDEgMTAxQDFQMWAxcDGAMZAxoDGwMcAx0DHgMfAyADIQMiAyMDJAMlAyYDJwMoAykDKgMrAywDLQMuAy8DMAMxAzIDMwM0AzUDNgM3AzgDOQM6AzsDPAM9Az4DPwNAA0EDQgNDA0QDRQNGA0cDSANJA0oDSwNMA00DTgNPA1ADUQNSA1MDVANVA1YDVwNYA1kDWgNbA1wDXQNeA18DYANhA2IDYwNkA2UDZgNnA2gDaQNqA2sDbANtA24DbwNwA3EDcgNzA3QDdQN2A3cDeAN5A3oDewN8A30DfgN/A4ADgQOCA4MDhAOFA4YDhwOIA4kDigOLA4wDjQOOA48DkAORA5IDkwOUA5UDlgOXA5gDmQOaA5sDnAOdA54DnwOgA6EDogOjA6QDpQOmA6cDqAOpA6oDqwOsA60DrgOvA7ADsQOyA7MDtAO1A7YDtwO4A7kDugO7A7wDvQO+A78DwAPBA8IDwwPEA8UDxgPHA8gDyQPKA8sDzAPNA84DzwPQA9ED0gPTA9QD1QPWA9cD2APZA9oD2wPcA90D3gPfA+AD4QPiA+MD5APlA+YD5wPoA+kD6gPrA+wD7QPuA+8D8APxA/ID8wP0A/UD9gP3A/gD+QP6A/sD/AP9A/4D/wMABAEEAgQDBAQEBQQGBAcECAQJBAoECwQMBA0EDgQPBBAEEQQSBBMEFAQVBBYEFwQYBBkEGgQbBBwEHQQeBB8EIAQhBCIEIwQkBCUEJgQnBCgEKQQqBCsELAQtBC4ELwQwBDEEMgQzBDQENQQ2BDcEOAQ5BDoEOwQ8BD0EPgQ/BEAEQQRCBEMERARFBEYERwRIBEkESgRLBEwETQROBE8EUARRBFIEUwRUBFUEVgRXBFgEWQRaBFsEXARdBF4EXwRgBGEEYgRjBGQEZQRmBGcEaARpBGoEawRsBG0EbgRvBHAEcQRyBHMEdAR1BHYEdwR4BHkEegR7BHwEfQR+BH8EgASBBIIEgwSEBIUEhgSHBIgEiQSKBIsEjASNBI4EjwSQBJEEkgSTBJQElQSWBJcEmASZBJoEmwScBJ0EngSfBKAEoQSiBKMEpASlBKYEpwSoBKkEqgSrBKwErQSuBK8EsASxBLIEswS0BLUEtgS3BLgEuQS6BLsEvAS9BL4EvwTABMEEwgTDBMQExQTGBMcEyATJBMoEywTMBM0EzgTPBNAE0QTSBNME1ATVBNYE1wTYBNkE2gTbBNwE3QTeBN8E4AThBOIE4wTkBOUE5gTnBOgE6QTqBOsE7ATtBO4E7wTwBPEE8gTzBPQE9QT2BPcE+AT5BPoE+wT8BP0E/gT/BAAFAQUCBQMFBAUFBQYFBwUIBQkFCgULBQwFDQUOBQ8FEAURBRIFEwUUBRUFFgUXBRgFGQUaBRsFHAUdBR4FHwUgBSEFIgUjBSQFJQUmBScFKAUpBSoFKwUsBS0FLgUvBTAFMQUyBTMFNAU1BTYFNwU4BTkFOgU7BTwFPQU+BT8FQAVBBUIFQwVEBUUFRgVHBUgFSQVKBUsFTAVNBU4FTwVQBVEFUgVTBVQFVQVWBVcFWAVZBVoFWwVcBV0FXgVfBWAFYQViBWMFZAVlBWYFZwVoBWkFagVrBWwFbQVuBW8FcAVxBXIFcwV0BXUFdgV3BXgFeQV6BXsFfAV9BX4FfwWABYEFggWDBYQFhQWGBYcFiAWJBYoFiwWMBY0FjgWPBZAFkQWSBZMFlAWVBZYFlwWYBZkFmgWbBZwFnQWeBZ8FoAWhBaIFowWkBaUFpgWnBagFqQWqBasFrAWtBa4FrwWwBbEFsgWzBbQFtQW2BbcFuAW5BboFuwW8Bb0FvgW/BcAFwQXCBcMFxAXFBcYFxwXIBckFygXLBcwFzQXOBc8F0AXRBdIF0wXUBdUF1gXXBdgF2QXaBdsF3AXdBd4F3wXgBeEF4gXjBeQF5QXmBecF6AXpBeoF6wXsBe0F7gXvBfAF8QXyBfMF9AX1BfYF9wX4BfkF+gX7BfwF/QX+Bf8FAAYBBgIGAwYEBgUGBgYHBggGCQYKBgsGDAYNBg4GDwYQBhEGEgYTBhQGFQYWBhcGGAYZBhoGGwYcBh0GHgYfBiAGIQYiBiMGJAYlBiYGJwYoBikGKgYrBiwGLQYuBi8GMAYxBjIGMwY0BjUGNgY3BjgGOQY6BjsGPAY9Bj4GPwZABkEGQgZDBkQGRQZGBkcGSAZJBkoGSwZMBk0GTgZPBlAGUQZSBlMGVAZVBlYGVwZYBlkGWgZbBlwGXQZeBl8GYAZhBmIGYwZkBmUGZgZnBmgGaQZqBmsGbAZtBm4GbwZwBnEGcgZzBnQGdQZ2BncGeAZ5BnoGewZ8Bn0GfgZ/BoAGgQaCBoMGhAaFBoYGhwaIBokGigaLBowGjQaOBo8GkAaRBpIGkwaUBpUGlgaXBpgGmQaaBpsGnAadBp4GnwagBqEGogajBqQGpQamBqcGqAapBqoGqwasBq0GrgavBrAGsQayBrMGtAa1BrYGtwa4BrkGuga7BrwGvQa+Br8GwAbBBsIGwwbEBsUGxgbHBsgGyQbKBssGzAbNBs4GzwbQBtEG0gbTBtQG1QbWBtcG2AbZBtoG2wbcBt0G3gbfBuAG4QbiBuMG5AblBuYG5wboBukG6gbrBuwG7QbuBu8G8AbxBvIG8wb0BvUG9gb3BvgG+Qb6BvsG/Ab9Bv4G/wYABwEHAgcDBwQHBQcGBwcHCAcJBwoHCwcMBw0HDgcPBxAHEQcSBxMHFAcVBxYHFwcYBxkHGgcbBxwHHQceBx8HIAchByIHIwckByUHJgcnBygHKQcqBysHLActBy4HLwcwBzEHMgczBzQHNQc2BzcHOAc5BzoHOwc8Bz0HPgc/B0AHQQdCB0MHRAdFB0YHRwdIB0kHSgdLB0wHTQdOB08HUAdRB1IHUwdUB1UHVgdXB1gHWQdaB1sHXAddB14HXwdgB2EHYgdjB2QHZQdmB2cHaAdpB2oHawdsB20HbgdvB3AHcQdyB3MHdAd1B3YHdwd4B3kHegd7B3wHfQd+B38HgAeBB4IHgweEB4UHhgeHB4gHiQeKB4sHjAeNB44HjweQB5EHkgeTB5QHlQeWB5cHmAeZB5oHmwecB50HngefB6AHoQeiB6MHpAelB6YHpweoB6kHqgerB6wHrQeuB68HsAexB7IHswe0B7UHtge3B7gHuQe6B7sHvAe9B74HvwfAB8EHwgfDB8QHxQfGB8cHyAfJB8oHywfMB80HzgfPBw=="
         },
         "y": {
          "dtype": "f8",
          "bdata": "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"
         },
         "type": "scatter"
        }
       ],
       "layout": {
        "template": {
         "data": {
          "histogram2dcontour": [
           {
            "type": "histogram2dcontour",
            "colorbar": {
             "outlinewidth": 0,
             "ticks": ""
            },
            "colorscale": [
             [
              0.0,
              "#0d0887"
             ],
             [
              0.1111111111111111,
              "#46039f"
             ],
             [
              0.2222222222222222,
              "#7201a8"
             ],
             [
              0.3333333333333333,
              "#9c179e"
             ],
             [
              0.4444444444444444,
              "#bd3786"
             ],
             [
              0.5555555555555556,
              "#d8576b"
             ],
             [
              0.6666666666666666,
              "#ed7953"
             ],
             [
              0.7777777777777778,
              "#fb9f3a"
             ],
             [
              0.8888888888888888,
              "#fdca26"
             ],
             [
              1.0,
              "#f0f921"
             ]
            ]
           }
          ],
          "choropleth": [
           {
            "type": "choropleth",
            "colorbar": {
             "outlinewidth": 0,
             "ticks": ""
            }
           }
          ],
          "histogram2d": [
           {
            "type": "histogram2d",
            "colorbar": {
             "outlinewidth": 0,
             "ticks": ""
            },
            "colorscale": [
             [
              0.0,
              "#0d0887"
             ],
             [
              0.1111111111111111,
              "#46039f"
             ],
             [
              0.2222222222222222,
              "#7201a8"
             ],
             [
              0.3333333333333333,
              "#9c179e"
             ],
             [
              0.4444444444444444,
              "#bd3786"
             ],
             [
              0.5555555555555556,
              "#d8576b"
             ],
             [
              0.6666666666666666,
              "#ed7953"
             ],
             [
              0.7777777777777778,
              "#fb9f3a"
             ],
             [
              0.8888888888888888,
              "#fdca26"
             ],
             [
              1.0,
              "#f0f921"
             ]
            ]
           }
          ],
          "heatmap": [
           {
            "type": "heatmap",
            "colorbar": {
             "outlinewidth": 0,
             "ticks": ""
            },
            "colorscale": [
             [
              0.0,
              "#0d0887"
             ],
             [
              0.1111111111111111,
              "#46039f"
             ],
             [
              0.2222222222222222,
              "#7201a8"
             ],
             [
              0.3333333333333333,
              "#9c179e"
             ],
             [
              0.4444444444444444,
              "#bd3786"
             ],
             [
              0.5555555555555556,
              "#d8576b"
             ],
             [
              0.6666666666666666,
              "#ed7953"
             ],
             [
              0.7777777777777778,
              "#fb9f3a"
             ],
             [
              0.8888888888888888,
              "#fdca26"
             ],
             [
              1.0,
              "#f0f921"
             ]
            ]
           }
          ],
          "contourcarpet": [
           {
            "type": "contourcarpet",
            "colorbar": {
             "outlinewidth": 0,
             "ticks": ""
            }
           }
          ],
          "contour": [
           {
            "type": "contour",
            "colorbar": {
             "outlinewidth": 0,
             "ticks": ""
            },
            "colorscale": [
             [
              0.0,
              "#0d0887"
             ],
             [
              0.1111111111111111,
              "#46039f"
             ],
             [
              0.2222222222222222,
              "#7201a8"
             ],
             [
              0.3333333333333333,
              "#9c179e"
             ],
             [
              0.4444444444444444,
              "#bd3786"
             ],
             [
              0.5555555555555556,
              "#d8576b"
             ],
             [
              0.6666666666666666,
              "#ed7953"
             ],
             [
              0.7777777777777778,
              "#fb9f3a"
             ],
             [
              0.8888888888888888,
              "#fdca26"
             ],
             [
              1.0,
              "#f0f921"
             ]
            ]
           }
          ],
          "surface": [
           {
            "type": "surface",
            "colorbar": {
             "outlinewidth": 0,
             "ticks": ""
            },
            "colorscale": [
             [
              0.0,
              "#0d0887"
             ],
             [
              0.1111111111111111,
              "#46039f"
             ],
             [
              0.2222222222222222,
              "#7201a8"
             ],
             [
              0.3333333333333333,
              "#9c179e"
             ],
             [
              0.4444444444444444,
              "#bd3786"
             ],
             [
              0.5555555555555556,
              "#d8576b"
             ],
             [
              0.6666666666666666,
              "#ed7953"
             ],
             [
              0.7777777777777778,
              "#fb9f3a"
             ],
             [
              0.8888888888888888,
              "#fdca26"
             ],
             [
              1.0,
              "#f0f921"
             ]
            ]
           }
          ],
          "mesh3d": [
           {
            "type": "mesh3d",
            "colorbar": {
             "outlinewidth": 0,
             "ticks": ""
            }
           }
          ],
          "scatter": [
           {
            "marker": {
             "line": {
              "color": "#283442"
             }
            },
            "type": "scatter"
           }
          ],
          "parcoords": [
           {
            "type": "parcoords",
            "line": {
             "colorbar": {
              "outlinewidth": 0,
              "ticks": ""
             }
            }
           }
          ],
          "scatterpolargl": [
           {
            "type": "scatterpolargl",
            "marker": {
             "colorbar": {
              "outlinewidth": 0,
              "ticks": ""
             }
            }
           }
          ],
          "bar": [
           {
            "error_x": {
             "color": "#f2f5fa"
            },
            "error_y": {
             "color": "#f2f5fa"
            },
            "marker": {
             "line": {
              "color": "rgb(17,17,17)",
              "width": 0.5
             },
             "pattern": {
              "fillmode": "overlay",
              "size": 10,
              "solidity": 0.2
             }
            },
            "type": "bar"
           }
          ],
          "scattergeo": [
           {
            "type": "scattergeo",
            "marker": {
             "colorbar": {
              "outlinewidth": 0,
              "ticks": ""
             }
            }
           }
          ],
          "scatterpolar": [
           {
            "type": "scatterpolar",
            "marker": {
             "colorbar": {
              "outlinewidth": 0,
              "ticks": ""
             }
            }
           }
          ],
          "histogram": [
           {
            "marker": {
             "pattern": {
              "fillmode": "overlay",
              "size": 10,
              "solidity": 0.2
             }
            },
            "type": "histogram"
           }
          ],
          "scattergl": [
           {
            "marker": {
             "line": {
              "color": "#283442"
             }
            },
            "type": "scattergl"
           }
          ],
          "scatter3d": [
           {
            "type": "scatter3d",
            "line": {
             "colorbar": {
              "outlinewidth": 0,
              "ticks": ""
             }
            },
            "marker": {
             "colorbar": {
              "outlinewidth": 0,
              "ticks": ""
             }
            }
           }
          ],
          "scattermap": [
           {
            "type": "scattermap",
            "marker": {
             "colorbar": {
              "outlinewidth": 0,
              "ticks": ""
             }
            }
           }
          ],
          "scattermapbox": [
           {
            "type": "scattermapbox",
            "marker": {
             "colorbar": {
              "outlinewidth": 0,
              "ticks": ""
             }
            }
           }
          ],
          "scatterternary": [
           {
            "type": "scatterternary",
            "marker": {
             "colorbar": {
              "outlinewidth": 0,
              "ticks": ""
             }
            }
           }
          ],
          "scattercarpet": [
           {
            "type": "scattercarpet",
            "marker": {
             "colorbar": {
              "outlinewidth": 0,
              "ticks": ""
             }
            }
           }
          ],
          "carpet": [
           {
            "aaxis": {
             "endlinecolor": "#A2B1C6",
             "gridcolor": "#506784",
             "linecolor": "#506784",
             "minorgridcolor": "#506784",
             "startlinecolor": "#A2B1C6"
            },
            "baxis": {
             "endlinecolor": "#A2B1C6",
             "gridcolor": "#506784",
             "linecolor": "#506784",
             "minorgridcolor": "#506784",
             "startlinecolor": "#A2B1C6"
            },
            "type": "carpet"
           }
          ],
          "table": [
           {
            "cells": {
             "fill": {
              "color": "#506784"
             },
             "line": {
              "color": "rgb(17,17,17)"
             }
            },
            "header": {
             "fill": {
              "color": "#2a3f5f"
             },
             "line": {
              "color": "rgb(17,17,17)"
             }
            },
            "type": "table"
           }
          ],
          "barpolar": [
           {
            "marker": {
             "line": {
              "color": "rgb(17,17,17)",
              "width": 0.5
             },
             "pattern": {
              "fillmode": "overlay",
              "size": 10,
              "solidity": 0.2
             }
            },
            "type": "barpolar"
           }
          ],
          "pie": [
           {
            "automargin": true,
            "type": "pie"
           }
          ]
         },
         "layout": {
          "autotypenumbers": "strict",
          "colorway": [
           "#636efa",
           "#EF553B",
           "#00cc96",
           "#ab63fa",
           "#FFA15A",
           "#19d3f3",
           "#FF6692",
           "#B6E880",
           "#FF97FF",
           "#FECB52"
          ],
          "font": {
           "color": "#f2f5fa"
          },
          "hovermode": "closest",
          "hoverlabel": {
           "align": "left"
          },
          "paper_bgcolor": "rgb(17,17,17)",
          "plot_bgcolor": "rgb(17,17,17)",
          "polar": {
           "bgcolor": "rgb(17,17,17)",
           "angularaxis": {
            "gridcolor": "#506784",
            "linecolor": "#506784",
            "ticks": ""
           },
           "radialaxis": {
            "gridcolor": "#506784",
            "linecolor": "#506784",
            "ticks": ""
           }
          },
          "ternary": {
           "bgcolor": "rgb(17,17,17)",
           "aaxis": {
            "gridcolor": "#506784",
            "linecolor": "#506784",
            "ticks": ""
           },
           "baxis": {
            "gridcolor": "#506784",
            "linecolor": "#506784",
            "ticks": ""
           },
           "caxis": {
            "gridcolor": "#506784",
            "linecolor": "#506784",
            "ticks": ""
           }
          },
          "coloraxis": {
           "colorbar": {
            "outlinewidth": 0,
            "ticks": ""
           }
          },
          "colorscale": {
           "sequential": [
            [
             0.0,
             "#0d0887"
            ],
            [
             0.1111111111111111,
             "#46039f"
            ],
            [
             0.2222222222222222,
             "#7201a8"
            ],
            [
             0.3333333333333333,
             "#9c179e"
            ],
            [
             0.4444444444444444,
             "#bd3786"
            ],
            [
             0.5555555555555556,
             "#d8576b"
            ],
            [
             0.6666666666666666,
             "#ed7953"
            ],
            [
             0.7777777777777778,
             "#fb9f3a"
            ],
            [
             0.8888888888888888,
             "#fdca26"
            ],
            [
             1.0,
             "#f0f921"
            ]
           ],
           "sequentialminus": [
            [
             0.0,
             "#0d0887"
            ],
            [
             0.1111111111111111,
             "#46039f"
            ],
            [
             0.2222222222222222,
             "#7201a8"
            ],
            [
             0.3333333333333333,
             "#9c179e"
            ],
            [
             0.4444444444444444,
             "#bd3786"
            ],
            [
             0.5555555555555556,
             "#d8576b"
            ],
            [
             0.6666666666666666,
             "#ed7953"
            ],
            [
             0.7777777777777778,
             "#fb9f3a"
            ],
            [
             0.8888888888888888,
             "#fdca26"
            ],
            [
             1.0,
             "#f0f921"
            ]
           ],
           "diverging": [
            [
             0,
             "#8e0152"
            ],
            [
             0.1,
             "#c51b7d"
            ],
            [
             0.2,
             "#de77ae"
            ],
            [
             0.3,
             "#f1b6da"
            ],
            [
             0.4,
             "#fde0ef"
            ],
            [
             0.5,
             "#f7f7f7"
            ],
            [
             0.6,
             "#e6f5d0"
            ],
            [
             0.7,
             "#b8e186"
            ],
            [
             0.8,
             "#7fbc41"
            ],
            [
             0.9,
             "#4d9221"
            ],
            [
             1,
             "#276419"
            ]
           ]
          },
          "xaxis": {
           "gridcolor": "#283442",
           "linecolor": "#506784",
           "ticks": "",
           "title": {
            "standoff": 15
           },
           "zerolinecolor": "#283442",
           "automargin": true,
           "zerolinewidth": 2
          },
          "yaxis": {
           "gridcolor": "#283442",
           "linecolor": "#506784",
           "ticks": "",
           "title": {
            "standoff": 15
           },
           "zerolinecolor": "#283442",
           "automargin": true,
           "zerolinewidth": 2
          },
          "scene": {
           "xaxis": {
            "backgroundcolor": "rgb(17,17,17)",
            "gridcolor": "#506784",
            "linecolor": "#506784",
            "showbackground": true,
            "ticks": "",
            "zerolinecolor": "#C8D4E3",
            "gridwidth": 2
           },
           "yaxis": {
            "backgroundcolor": "rgb(17,17,17)",
            "gridcolor": "#506784",
            "linecolor": "#506784",
            "showbackground": true,
            "ticks": "",
            "zerolinecolor": "#C8D4E3",
            "gridwidth": 2
           },
           "zaxis": {
            "backgroundcolor": "rgb(17,17,17)",
            "gridcolor": "#506784",
            "linecolor": "#506784",
            "showbackground": true,
            "ticks": "",
            "zerolinecolor": "#C8D4E3",
            "gridwidth": 2
           }
          },
          "shapedefaults": {
           "line": {
            "color": "#f2f5fa"
           }
          },
          "annotationdefaults": {
           "arrowcolor": "#f2f5fa",
           "arrowhead": 0,
           "arrowwidth": 1
          },
          "geo": {
           "bgcolor": "rgb(17,17,17)",
           "landcolor": "rgb(17,17,17)",
           "subunitcolor": "#506784",
           "showland": true,
           "showlakes": true,
           "lakecolor": "rgb(17,17,17)"
          },
          "title": {
           "x": 0.05
          },
          "updatemenudefaults": {
           "bgcolor": "#506784",
           "borderwidth": 0
          },
          "sliderdefaults": {
           "bgcolor": "#C8D4E3",
           "borderwidth": 1,
           "bordercolor": "rgb(17,17,17)",
           "tickwidth": 0
          },
          "mapbox": {
           "style": "dark"
          }
         }
        },
        "title": {
         "text": "PPO_Clip on Pendulum-v1"
        },
        "xaxis": {
         "title": {
          "text": "Episodes"
         }
        },
        "yaxis": {
         "title": {
          "text": "Returns"
         }
        },
        "showlegend": true
       },
       "config": {
        "plotlyServerURL": "https://plot.ly"
       }
      }
     },
     "metadata": {},
     "output_type": "display_data",
     "jetTransient": {
      "display_id": null
     }
    }
   ],
   "execution_count": 1
  },
  {
   "cell_type": "markdown",
   "source": [
    "*可见，相较 **TRPO** 在 Pendulum-v1 环境下的表现，**PPO_Clip** 收敛更快，训练迭代的时间也更短*"
   ],
   "metadata": {
    "collapsed": false
   },
   "id": "85c9d102bff11216"
  }
 ],
 "metadata": {
  "kernelspec": {
   "display_name": "Python 3 (ipykernel)",
   "language": "python",
   "name": "python3"
  },
  "language_info": {
   "codemirror_mode": {
    "name": "ipython",
    "version": 3
   },
   "file_extension": ".py",
   "mimetype": "text/x-python",
   "name": "python",
   "nbconvert_exporter": "python",
   "pygments_lexer": "ipython3",
   "version": "3.12.9"
  }
 },
 "nbformat": 4,
 "nbformat_minor": 5
}
