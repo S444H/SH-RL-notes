{
 "cells": [
  {
   "cell_type": "markdown",
   "source": [
    "# 4.蒙特卡洛方法（Monte-Carlo method）\n",
    "**蒙特卡洛方法**（Monte-Carlo methods）也被称为统计模拟方法，是一种基于概率统计的数值计算方法\n",
    "用蒙特卡洛方法的好处在于不需要知道 MDP 的状态转移函数和奖励函数，就可以近似估计价值函数，并且采样数越多越准确"
   ],
   "metadata": {
    "collapsed": false
   },
   "id": "ef0e280b5970e53f"
  },
  {
   "cell_type": "markdown",
   "source": [
    "导入相关库"
   ],
   "metadata": {
    "collapsed": false
   },
   "id": "640ec54bc7e1aa51"
  },
  {
   "cell_type": "code",
   "execution_count": 62,
   "outputs": [],
   "source": [
    "import numpy as np"
   ],
   "metadata": {
    "collapsed": false,
    "ExecuteTime": {
     "end_time": "2025-05-08T09:15:51.889482300Z",
     "start_time": "2025-05-08T09:15:51.865277400Z"
    }
   },
   "id": "cbac755465b41c2b"
  },
  {
   "cell_type": "markdown",
   "source": [
    "直观理解**蒙特卡洛方法**：\n",
    "![用蒙特卡洛方法估计圆的面积](images/用蒙特卡洛方法估计圆的面积.png)"
   ],
   "metadata": {
    "collapsed": false
   },
   "id": "994b355dcc02ef64"
  },
  {
   "cell_type": "markdown",
   "source": [
    "用蒙特卡洛方法来估计一个策略在一个马尔可夫决策过程中的状态价值函数，公式如下：\n",
    "$$V^\\pi(s)=\\mathbb{E}_\\pi[G_t|S_t=s]\\approx\\frac{1}{N}\\sum_{i=1}^NG_t^{(i)}$$\n",
    "在一条序列中，可能不会出现状态s，也可能只出现一次或多次，蒙特卡洛价值估计方法会在该状态每一次出现时计算它的回报：\n",
    "- 更新状态s的计数器:$N(s)\\leftarrow N(s)+1$\n",
    "- 更新状态s的总回报:$M(s)\\leftarrow M(s)+G_t$\n",
    "- 每一个状态的价值被估计为回报的平均值:$V(s)=M(s)/N(s)$\n",
    "\n",
    "根据大数定律，当$N(s)\\to\\infty\\text{,}V(s)\\to V^{\\pi}(s)$\n",
    "- 采用增量式更新:$V(s)\\leftarrow V(s)+\\frac{1}{N(s)}(G(s)-V(s))$"
   ],
   "metadata": {
    "collapsed": false
   },
   "id": "dc8778830b86f9ca"
  },
  {
   "cell_type": "markdown",
   "source": [
    "以下，用代码展示**蒙特卡洛方法**"
   ],
   "metadata": {
    "collapsed": false
   },
   "id": "e1c0e27b8b21d3f1"
  },
  {
   "cell_type": "markdown",
   "source": [
    "复用上一节的简单马尔可夫决策过程:\n",
    "![马尔可夫决策过程的一个简单例子](images/马尔可夫决策过程的一个简单例子.png)"
   ],
   "metadata": {
    "collapsed": false
   },
   "id": "fe7f365ff5d2d110"
  },
  {
   "cell_type": "code",
   "execution_count": 63,
   "outputs": [],
   "source": [
    "S = [\"s1\", \"s2\", \"s3\", \"s4\", \"s5\"]  # 状态集合\n",
    "A = [\"保持s1\", \"前往s1\", \"前往s2\", \"前往s3\", \"前往s4\", \"前往s5\", \"概率前往\"]  # 动作集合\n",
    "# 状态转移函数\n",
    "P = {\n",
    "    \"s1-保持s1-s1\": 1.0,\n",
    "    \"s1-前往s2-s2\": 1.0,\n",
    "    \"s2-前往s1-s1\": 1.0,\n",
    "    \"s2-前往s3-s3\": 1.0,\n",
    "    \"s3-前往s4-s4\": 1.0,\n",
    "    \"s3-前往s5-s5\": 1.0,\n",
    "    \"s4-前往s5-s5\": 1.0,\n",
    "    \"s4-概率前往-s2\": 0.2,\n",
    "    \"s4-概率前往-s3\": 0.4,\n",
    "    \"s4-概率前往-s4\": 0.4,\n",
    "}\n",
    "# 奖励函数\n",
    "R = {\n",
    "    \"s1-保持s1\": -1,\n",
    "    \"s1-前往s2\": 0,\n",
    "    \"s2-前往s1\": -1,\n",
    "    \"s2-前往s3\": -2,\n",
    "    \"s3-前往s4\": -2,\n",
    "    \"s3-前往s5\": 0,\n",
    "    \"s4-前往s5\": 10,\n",
    "    \"s4-概率前往\": 1,\n",
    "}\n",
    "gamma = 0.5  # 折扣因子\n",
    "MDP = (S, A, P, R, gamma)\n",
    "\n",
    "# 策略1,随机策略\n",
    "Pi_1 = {\n",
    "    \"s1-保持s1\": 0.5,\n",
    "    \"s1-前往s2\": 0.5,\n",
    "    \"s2-前往s1\": 0.5,\n",
    "    \"s2-前往s3\": 0.5,\n",
    "    \"s3-前往s4\": 0.5,\n",
    "    \"s3-前往s5\": 0.5,\n",
    "    \"s4-前往s5\": 0.5,\n",
    "    \"s4-概率前往\": 0.5,\n",
    "}\n",
    "# 策略2\n",
    "Pi_2 = {\n",
    "    \"s1-保持s1\": 0.6,\n",
    "    \"s1-前往s2\": 0.4,\n",
    "    \"s2-前往s1\": 0.3,\n",
    "    \"s2-前往s3\": 0.7,\n",
    "    \"s3-前往s4\": 0.5,\n",
    "    \"s3-前往s5\": 0.5,\n",
    "    \"s4-前往s5\": 0.1,\n",
    "    \"s4-概率前往\": 0.9,\n",
    "}"
   ],
   "metadata": {
    "collapsed": false,
    "ExecuteTime": {
     "end_time": "2025-05-08T09:15:51.904508400Z",
     "start_time": "2025-05-08T09:15:51.871935900Z"
    }
   },
   "id": "acf3f8ee079d0a78"
  },
  {
   "cell_type": "code",
   "execution_count": 64,
   "outputs": [],
   "source": [
    "# 把输入的两个字符串通过“-”连接，连接状态与动作\n",
    "def join(str1, str2):\n",
    "    return str1 + '-' + str2"
   ],
   "metadata": {
    "collapsed": false,
    "ExecuteTime": {
     "end_time": "2025-05-08T09:15:51.904508400Z",
     "start_time": "2025-05-08T09:15:51.878291500Z"
    }
   },
   "id": "88b52cedb69b5d06"
  },
  {
   "cell_type": "code",
   "execution_count": 65,
   "outputs": [],
   "source": [
    "def sample(MDP, Pi, timestep_max, number):\n",
    "    \"\"\" 采样函数：\n",
    "    Pi：策略\n",
    "    timestep_max：限制每采样最长步数\n",
    "    number：以固定状态s开始，总共采样序列数\n",
    "    \"\"\"\n",
    "    S, A, P, R, gamma = MDP\n",
    "    episodes = []\n",
    "    for _ in range(number):\n",
    "        episode = []\n",
    "        timestep = 0\n",
    "        s = S[np.random.randint(4)]  # 随机选择一个除s5以外的状态s作为起点\n",
    "        # 当前状态为终止状态或者时间步太长时,一次采样结束\n",
    "        while s != \"s5\" and timestep <= timestep_max:\n",
    "            timestep += 1\n",
    "            rand, temp = np.random.rand(), 0  # 随机参数\n",
    "            # 在状态s下根据策略选择动作\n",
    "            for a_opt in A:\n",
    "                temp += Pi.get(join(s, a_opt), 0)  # 非x即y\n",
    "                if temp > rand:\n",
    "                    a = a_opt  # 确定动作\n",
    "                    r = R.get(join(s, a), 0)  # 获取奖励\n",
    "                    break\n",
    "            rand, temp = np.random.rand(), 0  # 随机参数\n",
    "            # 根据状态转移概率得到下一个状态s_next\n",
    "            for s_opt in S:\n",
    "                temp += P.get(join(join(s, a), s_opt), 0)\n",
    "                if temp > rand:\n",
    "                    s_next = s_opt\n",
    "                    break\n",
    "            episode.append((s, a, r, s_next))  # 把（s,a,r,s_next）元组放入序列中\n",
    "            s = s_next  # s_next变成当前状态,开始接下来的循环\n",
    "        episodes.append(episode)\n",
    "    return episodes"
   ],
   "metadata": {
    "collapsed": false,
    "ExecuteTime": {
     "end_time": "2025-05-08T09:15:51.904508400Z",
     "start_time": "2025-05-08T09:15:51.883955700Z"
    }
   },
   "id": "af52604962941e8b"
  },
  {
   "cell_type": "code",
   "execution_count": 66,
   "outputs": [
    {
     "name": "stdout",
     "output_type": "stream",
     "text": [
      "第一条序列\n",
      " [('s2', '前往s3', -2, 's3'), ('s3', '前往s5', 0, 's5')]\n",
      "第二条序列\n",
      " [('s3', '前往s4', -2, 's4'), ('s4', '前往s5', 10, 's5')]\n",
      "第五条序列\n",
      " [('s3', '前往s5', 0, 's5')]\n"
     ]
    }
   ],
   "source": [
    "# 采样5次,每个序列最长不超过20步\n",
    "episodes = sample(MDP, Pi_1, 20, 5)\n",
    "print('第一条序列\\n', episodes[0])\n",
    "print('第二条序列\\n', episodes[1])\n",
    "print('第五条序列\\n', episodes[4])"
   ],
   "metadata": {
    "collapsed": false,
    "ExecuteTime": {
     "end_time": "2025-05-08T09:15:51.927495600Z",
     "start_time": "2025-05-08T09:15:51.889482300Z"
    }
   },
   "id": "d0f7b9bb72260931"
  },
  {
   "cell_type": "code",
   "execution_count": 67,
   "outputs": [],
   "source": [
    "# 对所有采样序列计算所有状态的价值（增量法）\n",
    "def MC(episodes, V, N, gamma):\n",
    "    for episode in episodes:\n",
    "        G = 0\n",
    "        for i in range(len(episode) - 1, -1, -1):  # 一个序列从后往前计算\n",
    "            (s, a, r, s_next) = episode[i]\n",
    "            G = r + gamma * G\n",
    "            N[s] = N[s] + 1\n",
    "            V[s] = V[s] + (G - V[s]) / N[s]"
   ],
   "metadata": {
    "collapsed": false,
    "ExecuteTime": {
     "end_time": "2025-05-08T09:15:51.927495600Z",
     "start_time": "2025-05-08T09:15:51.897375800Z"
    }
   },
   "id": "7fee00de3cc6c775"
  },
  {
   "cell_type": "code",
   "execution_count": 68,
   "outputs": [
    {
     "name": "stdout",
     "output_type": "stream",
     "text": [
      "使用蒙特卡洛方法计算MDP的状态价值为\n",
      " {'s1': -1.2141993558934854, 's2': -1.6588677480829939, 's3': 0.5242593857923498, 's4': 6.219433362216237, 's5': 0}\n"
     ]
    }
   ],
   "source": [
    "# 采样1000次,每个序列最长不超过20步\n",
    "episodes = sample(MDP, Pi_1, 20, 1000)\n",
    "V = {\"s1\": 0, \"s2\": 0, \"s3\": 0, \"s4\": 0, \"s5\": 0}\n",
    "N = {\"s1\": 0, \"s2\": 0, \"s3\": 0, \"s4\": 0, \"s5\": 0}\n",
    "MC(episodes, V, N, gamma)\n",
    "print(\"使用蒙特卡洛方法计算MDP的状态价值为\\n\", V)"
   ],
   "metadata": {
    "collapsed": false,
    "ExecuteTime": {
     "end_time": "2025-05-08T09:15:51.991315500Z",
     "start_time": "2025-05-08T09:15:51.905516500Z"
    }
   },
   "id": "3bd1c6f3e8bd0968"
  },
  {
   "cell_type": "markdown",
   "source": [],
   "metadata": {
    "collapsed": false
   },
   "id": "72bf501db93c3bce"
  },
  {
   "cell_type": "markdown",
   "source": [
    "上节 **MRP 解析解** ：\n",
    "![MRP解析解](images/MRP解析解.png)"
   ],
   "metadata": {
    "collapsed": false
   },
   "id": "9dbb2096e6cdcdbc"
  },
  {
   "cell_type": "markdown",
   "source": [
    "可以看到用 **蒙特卡洛方法** 估计得到的状态价值和用上节 **MRP 解析解** 得到的状态价值是很接近的（注意需采样较多的序列）"
   ],
   "metadata": {
    "collapsed": false
   },
   "id": "df3f872cd1c1d779"
  }
 ],
 "metadata": {
  "kernelspec": {
   "display_name": "Python 3",
   "language": "python",
   "name": "python3"
  },
  "language_info": {
   "codemirror_mode": {
    "name": "ipython",
    "version": 2
   },
   "file_extension": ".py",
   "mimetype": "text/x-python",
   "name": "python",
   "nbconvert_exporter": "python",
   "pygments_lexer": "ipython2",
   "version": "2.7.6"
  }
 },
 "nbformat": 4,
 "nbformat_minor": 5
}
