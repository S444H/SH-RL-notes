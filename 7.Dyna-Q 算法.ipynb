{
 "cells": [
  {
   "cell_type": "markdown",
   "source": [
    "# 7.Dyna-Q 算法\n",
    "**Dyna-Q 算法**也是非常基础的**基于模型的强化学习算法**，不过它的环境模型是通过**采样数据估计**得到的"
   ],
   "metadata": {
    "collapsed": false
   },
   "id": "df2bdea541e556e1"
  }
 ],
 "metadata": {
  "kernelspec": {
   "display_name": "Python 3",
   "language": "python",
   "name": "python3"
  },
  "language_info": {
   "codemirror_mode": {
    "name": "ipython",
    "version": 2
   },
   "file_extension": ".py",
   "mimetype": "text/x-python",
   "name": "python",
   "nbconvert_exporter": "python",
   "pygments_lexer": "ipython2",
   "version": "2.7.6"
  }
 },
 "nbformat": 4,
 "nbformat_minor": 5
}
