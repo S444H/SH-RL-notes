{
 "cells": [
  {
   "cell_type": "markdown",
   "source": [
    "# 7.Dyna-Q 算法\n",
    "强化学习算法有两个重要的评价指标：一个是算法收敛后的策略在初始状态下的**期望回报**，另一个是**样本复杂度**"
   ],
   "metadata": {
    "collapsed": false
   },
   "id": "df2bdea541e556e1"
  },
  {
   "cell_type": "markdown",
   "source": [
    "| 类型                           | 特点                                         | 样本复杂度             | 策略期望回报               | 原因                                       |\n",
    "|--------------------------------|--------------------------------------------|------------------------|----------------------------|--------------------------------------------|\n",
    "| **基于模型的强化学习算法**     | 具有环境模型，智能体可以与模型交互          | 样本复杂度较低         | 收敛后的策略期望回报可能不如无模型算法 | 通过与环境模型交互，减少了对真实环境样本的需求，但模型可能不准确 |\n",
    "| **无模型的强化学习算法**       | 没有环境模型，完全依赖真实环境进行交互      | 样本复杂度较高         | 收敛后的策略期望回报通常较高     | 无需依赖模型，直接与真实环境互动，策略可能更精确        |\n"
   ],
   "metadata": {
    "collapsed": false
   },
   "id": "fd6d64b266c6c465"
  },
  {
   "cell_type": "markdown",
   "source": [
    "相较之前介绍的两种动态规划算法：策略迭代和价值迭代。本节介绍的**Dyna-Q 算法**也是非常基础的**基于模型的强化学习算法**，不过其环境模型通过**采样数据估计**得到"
   ],
   "metadata": {
    "collapsed": false
   },
   "id": "619dfe47006d863e"
  },
  {
   "cell_type": "markdown",
   "source": [
    "导入相关库"
   ],
   "metadata": {
    "collapsed": false
   },
   "id": "5bb5a9d7588830ca"
  },
  {
   "cell_type": "code",
   "execution_count": 2,
   "outputs": [],
   "source": [
    "import numpy as np\n",
    "import matplotlib.pyplot as plt"
   ],
   "metadata": {
    "collapsed": false,
    "ExecuteTime": {
     "end_time": "2025-07-09T03:12:41.685551900Z",
     "start_time": "2025-07-09T03:12:41.674863700Z"
    }
   },
   "id": "bfe442158e06cc03"
  },
  {
   "cell_type": "markdown",
   "source": [],
   "metadata": {
    "collapsed": false
   },
   "id": "25abd00279360d85"
  }
 ],
 "metadata": {
  "kernelspec": {
   "display_name": "Python 3",
   "language": "python",
   "name": "python3"
  },
  "language_info": {
   "codemirror_mode": {
    "name": "ipython",
    "version": 2
   },
   "file_extension": ".py",
   "mimetype": "text/x-python",
   "name": "python",
   "nbconvert_exporter": "python",
   "pygments_lexer": "ipython2",
   "version": "2.7.6"
  }
 },
 "nbformat": 4,
 "nbformat_minor": 5
}
