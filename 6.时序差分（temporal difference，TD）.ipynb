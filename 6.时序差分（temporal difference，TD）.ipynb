{
 "cells": [
  {
   "cell_type": "markdown",
   "source": [
    "# 6.时序差分算法\n",
    "在强化学习中，**模型**通常指与智能体交互的**环境模型**，即对**环境的状态转移概率和奖励函数**进行建模\n",
    "根据是否具有**环境模型**，强化学习算法分为两种：\n",
    "- 基于模型的强化学习（model-based reinforcement learning）\n",
    "- 无模型的强化学习（model-free reinforcement learning）\n",
    "\n",
    "**第5节的动态规划算法** 就类似于**有监督学习**任务，直接显式的给出了数据的分布公式，智能体其实并不需要和环境真正交互来采样数据，所以为**基于模型的强化学习**"
   ],
   "metadata": {
    "collapsed": false
   },
   "id": "f6634ddd37fcf78a"
  },
  {
   "cell_type": "markdown",
   "source": [
    "但对于大部分强化学习现实场景（例如电子游戏或者一些复杂物理环境），其马尔可夫决策过程的**状态转移概率**是 无法写出来的\n",
    "在这种情况下，智能体只能和环境进行交互，通过交互收集**信息**，这类学习方法统称为**无模型的强化学习（model-free reinforcement learning）**"
   ],
   "metadata": {
    "collapsed": false
   },
   "id": "186414a2632e8239"
  },
  {
   "cell_type": "markdown",
   "source": [
    "本节讲解**无模型的强化学习**中的两大经典算法：\n",
    "- Sarsa\n",
    "- Q-learning\n",
    "\n",
    "它们都是基于时序差分（temporal difference，TD）的强化学习算法"
   ],
   "metadata": {
    "collapsed": false
   },
   "id": "82b89f20e41631ce"
  },
  {
   "cell_type": "markdown",
   "source": [
    "导入相关库"
   ],
   "metadata": {
    "collapsed": false
   },
   "id": "63dd248688edd767"
  },
  {
   "cell_type": "code",
   "execution_count": 48,
   "outputs": [],
   "source": [
    "import matplotlib.pyplot as plt\n",
    "import numpy as np\n",
    "from tqdm import tqdm  # tqdm是显示循环进度条的库"
   ],
   "metadata": {
    "collapsed": false,
    "ExecuteTime": {
     "end_time": "2025-05-24T22:46:25.183437400Z",
     "start_time": "2025-05-24T22:46:25.162098400Z"
    }
   },
   "id": "334d224abd75c5fb"
  },
  {
   "cell_type": "markdown",
   "source": [
    "## 6.1 时序差分方法\n",
    "**时序差分** 是一种用来 **估计** 一个 **策略的价值函数** 的方法\n",
    "结合了**蒙特卡洛+动态规划算法**的思想:\n",
    "- 可以从样本数据中学习，不需要事先知道环境\n",
    "- 根据贝尔曼方程的思想，利用后续状态的价值估计来更新当前状态的价值估计"
   ],
   "metadata": {
    "collapsed": false
   },
   "id": "851d3784b973de00"
  },
  {
   "cell_type": "markdown",
   "source": [
    "有\n",
    "$$\\begin{aligned}\n",
    "V_{\\pi}(s) & =\\mathbb{E}_\\pi[G_t|S_t=s] \\\\\n",
    " & =\\mathbb{E}_\\pi[\\sum_{k=0}^\\infty\\gamma^kR_{t+k}|S_t=s] \\\\\n",
    " & =\\mathbb{E}_\\pi[R_t+\\gamma\\sum_{k=0}^\\infty\\gamma^kR_{t+k+1}|S_t=s] \\\\\n",
    " & =\\mathbb{E}_\\pi[R_t+\\gamma V_\\pi(S_{t+1})|S_t=s]\n",
    "\\end{aligned}$$\n",
    "\n",
    "- **蒙特卡洛方法**：将上式第一行作为更新的目标（等整个序列结束之后才能计算得到这一次的回报）\n",
    "- **时序差分方法**：将上式最后一行作为更新的目标（每采样一步就可以更新状态价值估计）\n",
    "\n",
    "最终**时序差分方法**用**当前获得的奖励** + **下一个状态的价值估计**,来作为在当前状态估计的回报:\n",
    "$$V(s_t)\\leftarrow V(s_t)+\\alpha[r_t+\\gamma V(s_{t+1})-V(s_t)]$$\n"
   ],
   "metadata": {
    "collapsed": false
   },
   "id": "44031978fe41543a"
  },
  {
   "cell_type": "markdown",
   "source": [
    "### 超参数解释:\n",
    "$\\alpha$ : 学习率，控制每次更新时新信息对旧信息的影响程度\n",
    "$\\gamma$ : 折扣因子，控制未来奖励对当前决策的影响\n",
    "通常都在 [0,1] 之间\n",
    "其中$r_t+\\gamma V(s_{t+1})-V(s_t)$被称为**时序差分（temporal difference，TD）误差（error）**"
   ],
   "metadata": {
    "collapsed": false
   },
   "id": "fbc9340a7b32568d"
  },
  {
   "cell_type": "markdown",
   "source": [
    "## 6.2 Sarsa 算法\n",
    "类似**策略迭代**：策略评估 + 策略提升\n",
    "- 用**时序差分方法**来估计价值函数(策略评估)\n",
    "- 用贪婪算法来选取在某个状态下动作价值最大的那个动作$\\arg\\max_{a}Q(s,a)$(策略提升)"
   ],
   "metadata": {
    "collapsed": false
   },
   "id": "21dbc69c2422406f"
  },
  {
   "cell_type": "markdown",
   "source": [
    "所以直接用**时序差分算法**来估计**动作价值函数Q**:\n",
    "$$Q(s_t,a_t)\\leftarrow Q(s_t,a_t)+\\alpha[r_t+\\gamma Q(s_{t+1},a_{t+1})-Q(s_t,a_t)]$$"
   ],
   "metadata": {
    "collapsed": false
   },
   "id": "77d4e30c26dc6f37"
  },
  {
   "cell_type": "markdown",
   "source": [
    "### 问题:\n",
    "1. 如果用时序差分算法估计策略的状态价值函数，需要用极大量的样本来进行更新吗？\n",
    "- 实际上可以直接用一些样本来评估策略，然后就直接策略提升。因为策略提升可以在策略评估未完全进行的情况进行，回顾一下，**价值迭代**就是这样，这其实就是 **广义策略迭代（generalized policy iteration）** 的思想。\n",
    "2. 贪婪情况下，会导致某些状态动作对永远无法被评估，以至于无法对其动作价值进行估计，进而无法保证策略提升后的策略比之前的好.\n",
    "- 采用$\\epsilon$-贪婪策略。"
   ],
   "metadata": {
    "collapsed": false
   },
   "id": "1df13afd6a61572d"
  },
  {
   "cell_type": "markdown",
   "source": [
    "### 悬崖漫步环境 :\n",
    "仍然在悬崖漫步环境下学习体验算法，只不过此时环境不需要提供奖励函数和状态转移函数，而需要提供一个和智能体进行交互的函数step()"
   ],
   "metadata": {
    "collapsed": false
   },
   "id": "3fa1f67450dc64a1"
  },
  {
   "cell_type": "code",
   "execution_count": 49,
   "outputs": [],
   "source": [
    "class CliffWalkingEnv:\n",
    "    def __init__(self, ncol, nrow):\n",
    "        self.nrow = nrow\n",
    "        self.ncol = ncol\n",
    "        self.x = 0  # 记录当前智能体位置的横坐标\n",
    "        self.y = self.nrow - 1  # 记录当前智能体位置的纵坐标\n",
    "\n",
    "    def step(self, action):  # 外部调用这个函数来改变当前位置\n",
    "        # 4种动作, change[0]:上, change[1]:下, change[2]:左, change[3]:右。坐标系原点(0,0)\n",
    "        # 定义在左上角\n",
    "        change = [[0, -1], [0, 1], [-1, 0], [1, 0]]\n",
    "        self.x = min(self.ncol - 1, max(0, self.x + change[action][0]))\n",
    "        self.y = min(self.nrow - 1, max(0, self.y + change[action][1]))\n",
    "        next_state = self.y * self.ncol + self.x\n",
    "        reward = -1\n",
    "        done = False\n",
    "        if self.y == self.nrow - 1 and self.x > 0:  # 下一个位置在悬崖或者目标\n",
    "            done = True\n",
    "            if self.x != self.ncol - 1:\n",
    "                reward = -100\n",
    "        return next_state, reward, done\n",
    "\n",
    "    def reset(self):  # 回归初始状态,坐标轴原点在左上角\n",
    "        self.x = 0\n",
    "        self.y = self.nrow - 1\n",
    "        return self.y * self.ncol + self.x"
   ],
   "metadata": {
    "collapsed": false,
    "ExecuteTime": {
     "end_time": "2025-05-24T22:46:25.222748700Z",
     "start_time": "2025-05-24T22:46:25.175921Z"
    }
   },
   "id": "a067fd6d62982f9b"
  },
  {
   "cell_type": "markdown",
   "source": [
    "### Sarsa 算法：\n",
    "主要维护一个表格Q_table()，用来储存当前策略下所有状态动作对的价值"
   ],
   "metadata": {
    "collapsed": false
   },
   "id": "364f773246250f58"
  },
  {
   "cell_type": "code",
   "execution_count": 50,
   "outputs": [],
   "source": [
    "class Sarsa:\n",
    "    \"\"\" Sarsa算法 \"\"\"\n",
    "    def __init__(self, ncol, nrow, epsilon, alpha, gamma, n_action=4):\n",
    "        self.Q_table = np.zeros([nrow * ncol, n_action])  # 初始化Q(s,a)表格\n",
    "        self.n_action = n_action  # 动作个数\n",
    "        self.alpha = alpha  # 学习率\n",
    "        self.gamma = gamma  # 折扣因子\n",
    "        self.epsilon = epsilon  # epsilon-贪婪策略中的参数\n",
    "\n",
    "    def take_action(self, state):  # 选取下一步的操作,具体实现为epsilon-贪婪\n",
    "        if np.random.random() < self.epsilon:\n",
    "            action = np.random.randint(self.n_action)\n",
    "        else:\n",
    "            action = np.argmax(self.Q_table[state])\n",
    "        return action\n",
    "\n",
    "    def best_action(self, state):  # 用于打印策略\n",
    "        Q_max = np.max(self.Q_table[state])\n",
    "        a = [0 for _ in range(self.n_action)]\n",
    "        for i in range(self.n_action):  # 若两个动作的价值一样,都会记录下来\n",
    "            if self.Q_table[state, i] == Q_max:\n",
    "                a[i] = 1\n",
    "        return a\n",
    "\n",
    "    def update(self, s0, a0, r, s1, a1):\n",
    "        td_error = r + self.gamma * self.Q_table[s1, a1] - self.Q_table[s0, a0]\n",
    "        self.Q_table[s0, a0] += self.alpha * td_error"
   ],
   "metadata": {
    "collapsed": false,
    "ExecuteTime": {
     "end_time": "2025-05-24T22:46:25.224747800Z",
     "start_time": "2025-05-24T22:46:25.185437700Z"
    }
   },
   "id": "ce584e5f96fc58d5"
  },
  {
   "cell_type": "code",
   "execution_count": 51,
   "outputs": [
    {
     "name": "stderr",
     "output_type": "stream",
     "text": [
      "Iteration 0: 100%|██████████| 50/50 [00:00<00:00, 1273.12it/s, episode=50, return=-119.400]\n",
      "Iteration 1: 100%|██████████| 50/50 [00:00<00:00, 1530.67it/s, episode=100, return=-63.000]\n",
      "Iteration 2: 100%|██████████| 50/50 [00:00<00:00, 1982.35it/s, episode=150, return=-51.200]\n",
      "Iteration 3: 100%|██████████| 50/50 [00:00<00:00, 2121.68it/s, episode=200, return=-48.100]\n",
      "Iteration 4: 100%|██████████| 50/50 [00:00<00:00, 2300.16it/s, episode=250, return=-35.700]\n",
      "Iteration 5: 100%|██████████| 50/50 [00:00<00:00, 2854.78it/s, episode=300, return=-29.900]\n",
      "Iteration 6: 100%|██████████| 50/50 [00:00<00:00, 3274.34it/s, episode=350, return=-28.300]\n",
      "Iteration 7: 100%|██████████| 50/50 [00:00<00:00, 3544.64it/s, episode=400, return=-27.700]\n",
      "Iteration 8: 100%|██████████| 50/50 [00:00<00:00, 3215.70it/s, episode=450, return=-28.500]\n",
      "Iteration 9: 100%|██████████| 50/50 [00:00<00:00, 3310.00it/s, episode=500, return=-18.900]\n"
     ]
    },
    {
     "data": {
      "text/plain": "<Figure size 640x480 with 1 Axes>",
      "image/png": "[encoded data removed]"
     },
     "metadata": {},
     "output_type": "display_data"
    }
   ],
   "source": [
    "ncol = 12\n",
    "nrow = 4\n",
    "env = CliffWalkingEnv(ncol, nrow)\n",
    "np.random.seed(0)\n",
    "epsilon = 0.1\n",
    "alpha = 0.1\n",
    "gamma = 0.9\n",
    "agent = Sarsa(ncol, nrow, epsilon, alpha, gamma)\n",
    "num_episodes = 500  # 智能体在环境中运行的序列的数量\n",
    "\n",
    "return_list = []  # 记录每一条序列的回报\n",
    "for i in range(10):  # 显示10个进度条\n",
    "    # tqdm的进度条功能\n",
    "    with tqdm(total=int(num_episodes / 10), desc='Iteration %d' % i) as pbar:\n",
    "        for i_episode in range(int(num_episodes / 10)):  # 每个进度条的序列数\n",
    "            episode_return = 0\n",
    "            state = env.reset()\n",
    "            action = agent.take_action(state)\n",
    "            done = False\n",
    "            while not done:\n",
    "                next_state, reward, done = env.step(action)\n",
    "                next_action = agent.take_action(next_state)\n",
    "                episode_return += reward  # 这里回报的计算不进行折扣因子衰减\n",
    "                agent.update(state, action, reward, next_state, next_action)\n",
    "                state = next_state\n",
    "                action = next_action\n",
    "            return_list.append(episode_return)\n",
    "            if (i_episode + 1) % 10 == 0:  # 每10条序列打印一下这10条序列的平均回报\n",
    "                pbar.set_postfix({\n",
    "                    'episode':\n",
    "                    '%d' % (num_episodes / 10 * i + i_episode + 1),\n",
    "                    'return':\n",
    "                    '%.3f' % np.mean(return_list[-10:])\n",
    "                })\n",
    "            pbar.update(1)\n",
    "\n",
    "episodes_list = list(range(len(return_list)))\n",
    "plt.plot(episodes_list, return_list)\n",
    "plt.xlabel('Episodes')\n",
    "plt.ylabel('Returns')\n",
    "plt.title('Sarsa on {}'.format('Cliff Walking'))\n",
    "plt.show()"
   ],
   "metadata": {
    "collapsed": false,
    "ExecuteTime": {
     "end_time": "2025-05-24T22:46:25.561726400Z",
     "start_time": "2025-05-24T22:46:25.192547100Z"
    }
   },
   "id": "68680582a261db0b"
  },
  {
   "cell_type": "markdown",
   "source": [
    "可以看到随着训练的进行，Sarsa 算法获得的回报越来越高。在进行 500 条序列的学习后，可以获得 −20 左右的回报，此时已经非常接近最优策略\n",
    "看一下 Sarsa 算法得到的策略在各个状态下会使智能体采取什么样的动作："
   ],
   "metadata": {
    "collapsed": false
   },
   "id": "6c5b700789df74c6"
  },
  {
   "cell_type": "code",
   "execution_count": 52,
   "outputs": [],
   "source": [
    "def print_agent(agent, env, action_meaning, disaster=[], end=[]):\n",
    "    for i in range(env.nrow):\n",
    "        for j in range(env.ncol):\n",
    "            if (i * env.ncol + j) in disaster:\n",
    "                print('****', end=' ')\n",
    "            elif (i * env.ncol + j) in end:\n",
    "                print('EEEE', end=' ')\n",
    "            else:\n",
    "                a = agent.best_action(i * env.ncol + j)\n",
    "                pi_str = ''\n",
    "                for k in range(len(action_meaning)):\n",
    "                    pi_str += action_meaning[k] if a[k] > 0 else 'o'\n",
    "                print(pi_str, end=' ')\n",
    "        print()\n"
   ],
   "metadata": {
    "collapsed": false,
    "ExecuteTime": {
     "end_time": "2025-05-24T22:46:25.570013500Z",
     "start_time": "2025-05-24T22:46:25.566756800Z"
    }
   },
   "id": "75b6449d5b0dc4f0"
  },
  {
   "cell_type": "code",
   "execution_count": 53,
   "outputs": [
    {
     "name": "stdout",
     "output_type": "stream",
     "text": [
      "Sarsa算法最终收敛得到的策略为：\n",
      "ooo> ooo> ooo> ooo> ooo> ooo> ooo> ooo> ooo> ooo> ooo> ovoo \n",
      "ooo> ooo> ooo> ooo> ooo> ooo> ooo> ooo> ooo> ooo> ooo> ovoo \n",
      "^ooo ooo> ^ooo ooo> ooo> ooo> ooo> ^ooo ^ooo ooo> ooo> ovoo \n",
      "^ooo **** **** **** **** **** **** **** **** **** **** EEEE \n"
     ]
    }
   ],
   "source": [
    "action_meaning = ['^', 'v', '<', '>']\n",
    "print('Sarsa算法最终收敛得到的策略为：')\n",
    "print_agent(agent, env, action_meaning, list(range(37, 47)), [47])"
   ],
   "metadata": {
    "collapsed": false,
    "ExecuteTime": {
     "end_time": "2025-05-24T22:46:25.578283800Z",
     "start_time": "2025-05-24T22:46:25.572722100Z"
    }
   },
   "id": "371f9908b883f6ab"
  }
 ],
 "metadata": {
  "kernelspec": {
   "display_name": "Python 3",
   "language": "python",
   "name": "python3"
  },
  "language_info": {
   "codemirror_mode": {
    "name": "ipython",
    "version": 2
   },
   "file_extension": ".py",
   "mimetype": "text/x-python",
   "name": "python",
   "nbconvert_exporter": "python",
   "pygments_lexer": "ipython2",
   "version": "2.7.6"
  }
 },
 "nbformat": 4,
 "nbformat_minor": 5
}
