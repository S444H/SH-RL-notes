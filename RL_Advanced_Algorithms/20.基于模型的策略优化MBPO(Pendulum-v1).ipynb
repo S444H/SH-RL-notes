{
 "cells": [
  {
   "cell_type": "markdown",
   "id": "f852de82a459f6dc",
   "metadata": {
    "collapsed": false
   },
   "source": [
    "# 20.基于模型的策略优化 (model-based policy optimization，MBPO）\n",
    "- **Dyna-Q** 算法中的模型只存储之前遇到的数据，只适用于 **表格型环境**；\n",
    "- 在 **连续型** 状态和动作的环境中，若继续利用 **Dyna** 的思想，可以像 **PETS** 算法一样学习一个用 **神经网络环境模型**，然后在任意状态和动作下用 **环境模型** 来生成一些虚拟数据来帮助进行策略的学习；\n",
    "- 如此，对 **真实环境** 中样本的需求量会减少，通常会比 **无模型** 的强化学习方法具有更高的采样效率 —— **MBPO** 算法。"
   ]
  },
  {
   "cell_type": "markdown",
   "id": "7610f6845d373ac8",
   "metadata": {
    "collapsed": false
   },
   "source": [
    "## 20.1 MBPO 原理\n",
    "> **加州大学伯克利分校 (UC Berkeley)** 的研究员在 2019 年的 NeurIPS 会议中提出 **MBPO** 算法 [When to Trust Your Model: Model-Based Policy Optimization](https://arxiv.org/abs/1906.08253) \n",
    "\n",
    "> 研究证明，在多个 **MuJoCo** 连续控制任务上，**MBPO** 的性能相比 **基于模型** 的方法更优，甚至在样本效率上超过了一些 **无模型算法**（如 **SAC**）\n",
    "> **MBPO** 被认为是 **基于模型的强化学习领域中的里程碑式算法**，成为深度强化学习中最重要的**基于模型**的强化学习算法之一，不少之后的工作都是在此基础上进行的"
   ]
  },
  {
   "cell_type": "markdown",
   "id": "51f759cf81c5637a",
   "metadata": {
    "collapsed": false
   },
   "source": [
    "> **MBPO** 算法基于 **两个关键** 的观察：\n",
    "- 随着环境模型的 **推演步数** 变长，模型累积的 **复合误差** 会快速增加，使得环境模型得出的结果变得很 **不可靠**\n",
    "- **推演步数** 必须要 **权衡**  *推演步数长，复合误差大* 的 **负面作用** 与 *推演步数长，训练策略更优* 的 **正面作用**\n",
    "> 在这两个观察的基础之上提出了一种 **分支推演（branched rollout）**  的思想：*只使用环境模型 **从之前访问过的真实状态开始** 进行 **较短步数** 的推演，**而非**从初始状态开始进行**完整的推演**，**避免**长时间依赖预测，**减弱**模型误差累积的影响：*\n",
    "![示意图](Illustrations/分支推演示意图.png)\n",
    "- **分支推演的长度$k$** 是 **平衡** 样本效率和策略性能的 **重要超参数**"
   ]
  },
  {
   "cell_type": "markdown",
   "id": "1c07b2407896f1c9",
   "metadata": {
    "collapsed": false
   },
   "source": [
    "### *真实环境下策略性能提升的单调性保障*\n",
    "> 基于模型的方法往往是在 **环境模型** 中提升策略的性能，但这并不能保证在 **真实环境** 中策略性能也有所提升，对此需要保证：\n",
    "\n",
    "$$\\eta[\\pi]\\geq\\hat{\\eta}[\\pi]-\\left[\\frac{2\\gamma r_{\\max}(\\epsilon_m+2\\epsilon_\\pi)}{(1-\\gamma)^2}+\\frac{4r_{\\max}\\epsilon_\\pi}{(1-\\gamma)}\\right]$$\n",
    "$$C=\\left[\\frac{2\\gamma r_{\\max}(\\epsilon_m+2\\epsilon_\\pi)}{(1-\\gamma)^2}+\\frac{4r_{\\max}\\epsilon_\\pi}{(1-\\gamma)}\\right]$$\n",
    "\n",
    "- $\\eta[\\pi]$表示策略在 **真实环境** 中的 **期望回报**\n",
    "- $\\hat{\\eta}[\\pi]$表示策略在 **模型环境** 中的 **期望回报**\n",
    "- $\\epsilon_m$: **模型误差**，指模型在预测环境动态时的误差度量，代表着 **模型预测** 与 **真实环境状态转移**之间的差异（单步误差）\n",
    "- $\\epsilon_\\pi$: **策略误差**，指策略执行时的误差度量，刻画了在 **同一当前策略$\\pi$** 下，**模型预测的状态轨迹** 与 **真实轨迹** 之间的偏移（长期误差）\n",
    "\n",
    "> 误差项的构造：\n",
    "- $\\frac{2\\gamma r_{\\max}(\\epsilon_m + 2\\epsilon_\\pi)}{(1-\\gamma)^2}$ 捕捉 **“模型不准 + 策略偏移”** 引起的长期累积误差\n",
    "- $\\frac{4r_{\\max} \\epsilon_\\pi}{(1-\\gamma)}$ 捕捉 **“即使模型准，但分布不同”** 造成的性能差\n",
    "- 具体的推导过程见原论文附录 **Appendix A**\n",
    "\n",
    "> 这意味着如果 **模型环境** 策略性能的提升可以超过 **performance bound（性能界/性能下界）$C$** ，理论上就可以在 **真实环境** 中取得策略性能的提升"
   ]
  },
  {
   "cell_type": "markdown",
   "id": "78b1cf421154e88d",
   "metadata": {
    "collapsed": false
   },
   "source": [
    "### *模型推演长度*\n",
    "> **MBPO** 对 **模型误差 $\\epsilon_m$** 进行了优化：使用 **策略相关模型误差$\\epsilon_{m'}$** ，关注 **当前策略$\\pi$** 在 **有限步 rollout（推演片段）** 下可能访问的分布中与真实分布的最大差异，而不是将在 **环境模型** 上训练策略时所触及到的 **所有分布** 都考虑进来。\n",
    "> 此时，两种误差都被局限在 **当前策略的有限步访问分布** 中，将两者结合起来，可更准确地估计策略在模型里的性能差异，从而指导安全的 **rollout步长$H$** 和 **策略优化**：\n",
    "![策略偏移与模型误差](Illustrations/策略偏移与模型误差.png)\n",
    "\n",
    "> 对 $\\epsilon_m'$ 在 $\\epsilon_\\pi=0$ 附近做一阶展开：\n",
    "$$\\epsilon_m^{\\prime}(\\epsilon_\\pi)\\approx\\epsilon_m^{\\prime}|_{\\epsilon_\\pi=0}+\\epsilon_\\pi\\frac{\\mathrm{d}\\epsilon_m^{\\prime}}{\\mathrm{d}\\epsilon_\\pi}$$\n",
    "- 并不是数学上严格意义的泰勒一阶展开，而是一种 **改进的近似**，只是为了 **捕捉策略偏移对模型误差的增量影响**（直观作用类似一阶展开）\n",
    "- 没有闭式表达式能把 $\\epsilon_m'$ 精确写成 $\\epsilon_\\pi$ 的函数\n",
    "\n",
    "\n",
    "> 当策略偏移为零时，**环境误差** 退化，考虑 **全局的分布**：\n",
    "$$\\epsilon_m^{\\prime}(\\epsilon_\\pi)\\approx\\epsilon_m+\\epsilon_\\pi\\frac{\\mathrm{d}\\epsilon_m^{\\prime}}{\\mathrm{d}\\epsilon_\\pi}.$$\n",
    "\n",
    "> 再结合上 $k$ 步 **分支推演**，得到一个 **新的策略期望回报界**：\n",
    "$$\\eta[\\pi]\\geq\\eta^\\mathrm{branch}[\\pi]-2r_\\mathrm{max}\\left[\\frac{\\gamma^{k+1}\\epsilon_\\pi}{(1-\\gamma)^2}+\\frac{\\gamma^k\\epsilon_\\pi}{(1-\\gamma)}+\\frac{k}{1-\\gamma}\\epsilon_{m^{\\prime}}\\right]$$\n",
    "\n",
    "- 具体的推导过程见原论文附录 **Appendix A**\n",
    "\n",
    "> 此时，在策略误差一定时，当推演步数$H$变大，$\\frac{\\gamma^{k+1}\\epsilon_\\pi}{(1-\\gamma)^2}+\\frac{\\gamma^k\\epsilon_\\pi}{(1-\\gamma)}$减小\n",
    "> 虽然$\\frac{k}{1-\\gamma}\\epsilon_{m^{\\prime}}$ 增大，但如果 **策略转移损害对模型准确度的影响$\\frac{\\mathrm{d}\\epsilon_m^{\\prime}}{\\mathrm{d}\\epsilon_\\pi}$** 足够小（在主流的机器人运动环境 **Mojoco** 的典型场景中，其数量级非常小，大约都在$[10^{-4},10^{-2}]$）\n",
    "> 那么就存在一个 **正推演步长$k$**，使 **策略提升** 有效。\n",
    "\n"
   ]
  },
  {
   "cell_type": "markdown",
   "id": "cd4aaf81ecd0a1d5",
   "metadata": {
    "collapsed": false
   },
   "source": [
    "> 需要注意的是，在高随机性的离散状态环境中，往往环境模型的拟合精度较低，以至于$\\frac{\\mathrm{d}\\epsilon_m^{\\prime}}{\\mathrm{d}\\epsilon_\\pi}$较大，此时使用基于 **分支推演** 的方法 **效果有限**"
   ]
  },
  {
   "cell_type": "markdown",
   "id": "b88804a095089bc8",
   "metadata": {
    "collapsed": false
   },
   "source": [
    "## 20.2 MBPO 代码实践(Pendulum-v1)\n",
    "\n",
    "1. **MBPO** 算法与 **Dyna-Q** 算法十分类似。但 **Dyna-Q** 采用的**无模型强化学习部分**是 **Q-learning**，而 **MBPO** 是基于 **SAC**\n",
    "2. **MBPO** 算法关于 **环境模型的构建** 和 **PETS** 算法中一致，都使用 **模型集成** 的方式\n",
    "3. **MBPO** 算法使用了 **模型生成的数据** 和 **真实环境的数据** 混合训练策略，提升了 **样本效率** 和 **稳定性**"
   ]
  },
  {
   "cell_type": "markdown",
   "id": "5215b9c55a82a9e",
   "metadata": {
    "collapsed": false
   },
   "source": [
    "导入相关库："
   ]
  },
  {
   "cell_type": "code",
   "execution_count": 202,
   "id": "5dd07c4f584c01c6",
   "metadata": {
    "ExecuteTime": {
     "end_time": "2025-08-25T12:04:47.250270600Z",
     "start_time": "2025-08-25T12:04:47.030841100Z"
    },
    "collapsed": false
   },
   "outputs": [],
   "source": [
    "# 基本库\n",
    "import numpy as np\n",
    "import random\n",
    "\n",
    "import itertools\n",
    "import collections\n",
    "\n",
    "\n",
    "# 神经网络\n",
    "import torch\n",
    "import torch.nn.functional as F\n",
    "import torch.nn as nn\n",
    "from torch.distributions.normal import Normal\n",
    "# Gymnasium 是一个用于开发和测试强化学习算法的工具库，为 OpenAI Gym 的更新版本（2021迁移开发）\n",
    "import gymnasium as gym"
   ]
  },
  {
   "cell_type": "code",
   "execution_count": 203,
   "id": "656295b26a8d3a9a",
   "metadata": {
    "ExecuteTime": {
     "end_time": "2025-08-25T12:04:47.251270100Z",
     "start_time": "2025-08-25T12:04:47.037050900Z"
    },
    "collapsed": false
   },
   "outputs": [],
   "source": [
    "device = torch.device(\"cuda\") if torch.cuda.is_available() else torch.device(\"cpu\")"
   ]
  },
  {
   "cell_type": "markdown",
   "id": "f259bf44a695302f",
   "metadata": {
    "collapsed": false
   },
   "source": [
    "###  SAC 部分"
   ]
  },
  {
   "cell_type": "markdown",
   "id": "169ef13e2509f930",
   "metadata": {
    "collapsed": false
   },
   "source": [
    "*定义策略网络和价值网络:*"
   ]
  },
  {
   "cell_type": "code",
   "execution_count": 204,
   "id": "1295676e1952fb36",
   "metadata": {
    "ExecuteTime": {
     "end_time": "2025-08-25T12:04:47.400200800Z",
     "start_time": "2025-08-25T12:04:47.048371200Z"
    },
    "collapsed": false
   },
   "outputs": [],
   "source": [
    "class PolicyNetContinuous(torch.nn.Module):\n",
    "    def __init__(self, state_dim, hidden_dim, action_dim, action_bound):\n",
    "        super(PolicyNetContinuous, self).__init__()\n",
    "        self.fc1 = torch.nn.Linear(state_dim, hidden_dim)\n",
    "        self.fc_mu = torch.nn.Linear(hidden_dim, action_dim)\n",
    "        self.fc_std = torch.nn.Linear(hidden_dim, action_dim)\n",
    "        self.action_bound = action_bound\n",
    "\n",
    "    def forward(self, x):\n",
    "        x = F.relu(self.fc1(x))\n",
    "        mu = self.fc_mu(x)\n",
    "        std = F.softplus(self.fc_std(x))\n",
    "        \n",
    "        dist = Normal(mu, std)  # 构建高斯分布\n",
    "        normal_sample = dist.rsample()  # rsample()是重参数化采样\n",
    "        log_prob = dist.log_prob(normal_sample)\n",
    "        # 动作范围映射\n",
    "        action = torch.tanh(normal_sample)  # a=tanh(z) \n",
    "        action = action * self.action_bound\n",
    "        # 概率密度的变量替换\n",
    "        log_prob = log_prob - torch.log(1 - torch.tanh(action).pow(2) + 1e-7)  # 1-tanh(z)^2是tanh的导数（sech²），加1e-7避免log(0)\n",
    "        return action, log_prob\n",
    "\n",
    "\n",
    "class QValueNetContinuous(torch.nn.Module):\n",
    "    def __init__(self, state_dim, hidden_dim, action_dim):\n",
    "        super(QValueNetContinuous, self).__init__()\n",
    "        self.fc1 = torch.nn.Linear(state_dim + action_dim, hidden_dim)\n",
    "        self.fc2 = torch.nn.Linear(hidden_dim, hidden_dim)\n",
    "        self.fc_out = torch.nn.Linear(hidden_dim, 1)\n",
    "\n",
    "    def forward(self, x, a):\n",
    "        cat = torch.cat([x, a], dim=1)\n",
    "        x = F.relu(self.fc1(cat))\n",
    "        x = F.relu(self.fc2(x))\n",
    "        return self.fc_out(x)"
   ]
  },
  {
   "cell_type": "markdown",
   "id": "fb5de50314106cab",
   "metadata": {
    "collapsed": false
   },
   "source": [
    "*定义 **SAC** 算法（连续动作）：*"
   ]
  },
  {
   "cell_type": "code",
   "execution_count": 205,
   "id": "26bbfbe3da8b9762",
   "metadata": {
    "ExecuteTime": {
     "end_time": "2025-08-25T12:04:47.419721300Z",
     "start_time": "2025-08-25T12:04:47.054884Z"
    },
    "collapsed": false
   },
   "outputs": [],
   "source": [
    "class SACContinuous:\n",
    "    \"\"\" 处理连续动作空间 \"\"\"\n",
    "    def __init__(self, state_dim, hidden_dim, action_dim, action_bound,\n",
    "                 actor_lr, critic_lr, alpha_lr, target_entropy, tau, gamma,\n",
    "                 device):\n",
    "        self.actor = PolicyNetContinuous(state_dim, hidden_dim, action_dim, action_bound).to(device)  # 策略网络\n",
    "        # 双Q网络\n",
    "        self.critic_1 = QValueNetContinuous(state_dim, hidden_dim, action_dim).to(device)  # 第一个Q网络\n",
    "        self.critic_2 = QValueNetContinuous(state_dim, hidden_dim, action_dim).to(device)  # 第二个Q网络\n",
    "        self.target_critic_1 = QValueNetContinuous(state_dim, hidden_dim, action_dim).to(device)  # 第一个目标Q网络\n",
    "        self.target_critic_2 = QValueNetContinuous(state_dim, hidden_dim, action_dim).to(device)  # 第二个目标Q网络\n",
    "        # 令目标Q网络的初始参数和Q网络一样\n",
    "        self.target_critic_1.load_state_dict(self.critic_1.state_dict())\n",
    "        self.target_critic_2.load_state_dict(self.critic_2.state_dict())\n",
    "        \n",
    "        self.actor_optimizer = torch.optim.Adam(self.actor.parameters(), lr=actor_lr)\n",
    "        self.critic_1_optimizer = torch.optim.Adam(self.critic_1.parameters(), lr=critic_lr)\n",
    "        self.critic_2_optimizer = torch.optim.Adam(self.critic_2.parameters(), lr=critic_lr)\n",
    "        \n",
    "        # 使用温度参数alpha的log值,可以确保 α 永远是正数,使训练结果比较稳定\n",
    "        self.log_alpha = torch.tensor(np.log(0.01), dtype=torch.float)\n",
    "        self.log_alpha.requires_grad = True  # 可以对alpha求梯度\n",
    "        self.log_alpha_optimizer = torch.optim.Adam([self.log_alpha], lr=alpha_lr)\n",
    "        \n",
    "        self.target_entropy = target_entropy  # 目标熵的大小\n",
    "        self.gamma = gamma\n",
    "        self.tau = tau  # 软更新步长\n",
    "        self.device = device\n",
    "\n",
    "    def take_action(self, state):\n",
    "        state = torch.tensor(np.array([state]), dtype=torch.float).to(self.device)\n",
    "        action = self.actor(state)[0]\n",
    "        return [action.item()]\n",
    "    \n",
    "    # 计算目标Q值\n",
    "    def calc_target(self, rewards, next_states, dones):  # 计算目标Q值\n",
    "        next_actions, log_prob = self.actor(next_states)\n",
    "        entropy = -log_prob  # 连续动作熵用动作采样的负对数概率近似\n",
    "        q1_value = self.target_critic_1(next_states, next_actions)\n",
    "        q2_value = self.target_critic_2(next_states, next_actions)\n",
    "        next_value = torch.min(q1_value,q2_value) + self.log_alpha.exp() * entropy\n",
    "        td_target = rewards + self.gamma * next_value * (1 - dones)\n",
    "        return td_target\n",
    "    \n",
    "    # DDPG中的软更新\n",
    "    def soft_update(self, net, target_net):\n",
    "        for param_target, param in zip(target_net.parameters(), net.parameters()):\n",
    "            param_target.data.copy_(param_target.data * (1.0 - self.tau) + param.data * self.tau)\n",
    "\n",
    "    def update(self, transition_dict):\n",
    "        states = torch.tensor(transition_dict['states'], dtype=torch.float).to(self.device)\n",
    "        actions = torch.tensor(transition_dict['actions'], dtype=torch.float).view(-1, 1).to(self.device)\n",
    "        rewards = torch.tensor(transition_dict['rewards'], dtype=torch.float).view(-1, 1).to(self.device)\n",
    "        next_states = torch.tensor(transition_dict['next_states'], dtype=torch.float).to(self.device)\n",
    "        dones = torch.tensor(transition_dict['dones'], dtype=torch.float).view(-1, 1).to(self.device)\n",
    "\n",
    "\n",
    "        # 更新两个Q网络\n",
    "        td_target = self.calc_target(rewards, next_states, dones)\n",
    "        critic_1_loss = torch.mean(F.mse_loss(self.critic_1(states, actions), td_target.detach()))\n",
    "        critic_2_loss = torch.mean(F.mse_loss(self.critic_2(states, actions), td_target.detach()))\n",
    "        self.critic_1_optimizer.zero_grad()\n",
    "        critic_1_loss.backward()\n",
    "        self.critic_1_optimizer.step()\n",
    "        self.critic_2_optimizer.zero_grad()\n",
    "        critic_2_loss.backward()\n",
    "        self.critic_2_optimizer.step()\n",
    "\n",
    "        # 更新策略网络\n",
    "        new_actions, log_prob = self.actor(states)\n",
    "        entropy = -log_prob  # 连续动作熵用动作采样的负对数概率近似\n",
    "        q1_value = self.critic_1(states, new_actions)\n",
    "        q2_value = self.critic_2(states, new_actions)\n",
    "        actor_loss = torch.mean(-self.log_alpha.exp() * entropy - torch.min(q1_value, q2_value))\n",
    "        self.actor_optimizer.zero_grad()\n",
    "        actor_loss.backward()\n",
    "        self.actor_optimizer.step()\n",
    "\n",
    "        # 更新alpha值\n",
    "        alpha_loss = torch.mean((entropy - self.target_entropy).detach() * self.log_alpha.exp())\n",
    "        self.log_alpha_optimizer.zero_grad()\n",
    "        alpha_loss.backward()\n",
    "        self.log_alpha_optimizer.step()\n",
    "\n",
    "        # 软更新目标Q网络\n",
    "        self.soft_update(self.critic_1, self.target_critic_1)\n",
    "        self.soft_update(self.critic_2, self.target_critic_2)"
   ]
  },
  {
   "cell_type": "markdown",
   "id": "f4662b620f2996e7",
   "metadata": {
    "collapsed": false
   },
   "source": [
    "### 集成环境模型构建(沿用 PETS 算法中的)"
   ]
  },
  {
   "cell_type": "markdown",
   "id": "e6e6d39a36ce69fd",
   "metadata": {
    "collapsed": false
   },
   "source": [
    "***激活函数定义：***"
   ]
  },
  {
   "cell_type": "code",
   "execution_count": 206,
   "id": "a104460429826fdc",
   "metadata": {
    "ExecuteTime": {
     "end_time": "2025-08-25T12:04:47.437716800Z",
     "start_time": "2025-08-25T12:04:47.069243700Z"
    },
    "collapsed": false
   },
   "outputs": [],
   "source": [
    "class Swish(nn.Module):\n",
    "    \"\"\" Swish激活函数 \"\"\"\n",
    "    def __init__(self):\n",
    "        super(Swish, self).__init__()\n",
    "\n",
    "    def forward(self, x):\n",
    "        return x * torch.sigmoid(x)"
   ]
  },
  {
   "cell_type": "markdown",
   "id": "dbd901bab6d55242",
   "metadata": {
    "collapsed": false
   },
   "source": [
    "***初始化网络层参数：***"
   ]
  },
  {
   "cell_type": "code",
   "execution_count": 207,
   "id": "e9e9b605abbce392",
   "metadata": {
    "ExecuteTime": {
     "end_time": "2025-08-25T12:04:47.452718800Z",
     "start_time": "2025-08-25T12:04:47.077218500Z"
    },
    "collapsed": false
   },
   "outputs": [],
   "source": [
    "def init_weights(m):  # m 为某个网络层\n",
    "    \"\"\" 初始化模型权重 \"\"\"\n",
    "    def truncated_normal_init(t, mean=0.0, std=0.01):\n",
    "        \"\"\" 截断正态分布 \"\"\"\n",
    "        torch.nn.init.normal_(t, mean=mean, std=std)  # 用均值为 mean、标准差为 std 的正态分布随机数填充张量t \n",
    "        while True:\n",
    "            cond = (t < mean - 2 * std) | (t > mean + 2 * std)\n",
    "            if not torch.sum(cond):  # 如果所有值都在范围内 (torch.sum(cond) == 0)，就退出循环\n",
    "                break\n",
    "            t = torch.where(\n",
    "                cond,\n",
    "                torch.nn.init.normal_(torch.ones(t.shape, device=device),mean=mean,std=std), \n",
    "                t)  # 如果有越界的值，就重新采样，并用 torch.where 把这些位置替换成新的采样值\n",
    "        return t\n",
    "\n",
    "    if type(m) == nn.Linear or isinstance(m, FCLayer):  # 若 m 是全连接层（nn.Linear）或 自定义层 FCLayer\n",
    "        truncated_normal_init(m.weight, std=1 / (2 * np.sqrt(m._input_dim)))  # 权重 m.weight 用截断正态分布初始化\n",
    "        m.bias.data.fill_(0.0)  # 偏置 m.bias 全部设为 0"
   ]
  },
  {
   "cell_type": "markdown",
   "id": "7872cebf30081e58",
   "metadata": {
    "collapsed": false
   },
   "source": [
    "***自定义的全连接层：***"
   ]
  },
  {
   "cell_type": "code",
   "execution_count": 208,
   "id": "bb5d0f47a18109e7",
   "metadata": {
    "ExecuteTime": {
     "end_time": "2025-08-25T12:04:47.457721200Z",
     "start_time": "2025-08-25T12:04:47.084731800Z"
    },
    "collapsed": false
   },
   "outputs": [],
   "source": [
    "class FCLayer(nn.Module):\n",
    "    \"\"\" 自定义的全连接层 (FCLayer)，支持 ensemble（集成） \"\"\"\n",
    "    # ensemble_size: 集成的个数（即同时训练多少组独立的参数）\n",
    "    # activation: 激活函数（如 ReLU、Swish）\n",
    "    def __init__(self, input_dim, output_dim, ensemble_size, activation):\n",
    "        super(FCLayer, self).__init__()\n",
    "        self._input_dim, self._output_dim = input_dim, output_dim\n",
    "        self.weight = nn.Parameter(torch.Tensor(ensemble_size, input_dim, output_dim).to(device))\n",
    "        self._activation = activation\n",
    "        self.bias = nn.Parameter(torch.Tensor(ensemble_size, output_dim).to(device))\n",
    "\n",
    "    def forward(self, x):\n",
    "        return self._activation(\n",
    "            torch.add(torch.bmm(x, self.weight), self.bias[:, None, :]))  # 矩阵计算\n",
    "            # X:(ensemble_size, batch_size, input_dim)\n",
    "            # W:(ensemble_size, input_dim, output_dim)\n",
    "            # 偏置bias扩展到 (ensemble_size, batch_size, output_dim)"
   ]
  },
  {
   "cell_type": "markdown",
   "id": "7e8eed1a8d668405",
   "metadata": {
    "collapsed": false
   },
   "source": [
    "***集成环境模型定义：***"
   ]
  },
  {
   "cell_type": "code",
   "execution_count": 209,
   "id": "8c28232d7750cc95",
   "metadata": {
    "ExecuteTime": {
     "end_time": "2025-08-25T12:04:47.461724200Z",
     "start_time": "2025-08-25T12:04:47.096618900Z"
    },
    "collapsed": false
   },
   "outputs": [],
   "source": [
    "class EnsembleModel(nn.Module):\n",
    "    \"\"\" 环境模型集成 \"\"\"\n",
    "    def __init__(self,\n",
    "                 state_dim,\n",
    "                 action_dim,\n",
    "                 ensemble_size=5,  # 模型成员总数为ensemble_size，对应训练ensemble_size组权重\n",
    "                 learning_rate=1e-3):\n",
    "        super(EnsembleModel, self).__init__()\n",
    "        self._output_dim = (state_dim + 1) * 2  # 预测奖励与状态增量 以及 对应方差\n",
    "        # 方差上界和下界\n",
    "        self._max_logvar = nn.Parameter((torch.ones(\n",
    "            (1, self._output_dim // 2)).float() / 2).to(device),\n",
    "                                        requires_grad=False)\n",
    "        self._min_logvar = nn.Parameter((-torch.ones(\n",
    "            (1, self._output_dim // 2)).float() * 10).to(device),\n",
    "                                        requires_grad=False)\n",
    "        # 集成模型中每个成员为5层神经网络\n",
    "        self.layer1 = FCLayer(state_dim + action_dim, 200, ensemble_size, Swish())\n",
    "        self.layer2 = FCLayer(200, 200, ensemble_size, Swish())\n",
    "        self.layer3 = FCLayer(200, 200, ensemble_size, Swish())\n",
    "        self.layer4 = FCLayer(200, 200, ensemble_size, Swish())\n",
    "        self.layer5 = FCLayer(200, self._output_dim, ensemble_size, nn.Identity())  # nn.Identity()，原样返回输入\n",
    "        self.apply(init_weights)  # 对所有 nn.Linear 和 FCLayer 层做权重初始化\n",
    "        self.optimizer = torch.optim.Adam(self.parameters(), lr=learning_rate)\n",
    "\n",
    "    def forward(self, x, return_log_var=False):  # 选择是否返回对数方差\n",
    "        # 前向传播\n",
    "        ret = self.layer5(self.layer4(self.layer3(self.layer2(self.layer1(x)))))\n",
    "        # 输出一分为二\n",
    "        mean   = ret[:, :, :self._output_dim // 2]   # 前一半 -> 均值\n",
    "        raw_lv = ret[:, :, self._output_dim // 2:]   # 后一半 -> 原始对数方差 logvar（未约束）\n",
    "        # 使用softplus函数,将方差控制在最小值和最大值之间\n",
    "        logvar = self._max_logvar - F.softplus(self._max_logvar - raw_lv)\n",
    "        logvar = self._min_logvar + F.softplus(logvar - self._min_logvar)\n",
    "        return mean, logvar if return_log_var else torch.exp(logvar)\n",
    "\n",
    "    def loss(self, mean, logvar, labels, use_var_loss=True):  # 是否选择带方差的 loss\n",
    "        inverse_var = torch.exp(-logvar)\n",
    "        if use_var_loss:\n",
    "            # 对应简化损失函数\n",
    "            mse_loss = torch.mean(torch.mean(torch.pow(mean - labels, 2) * inverse_var,\n",
    "                                             dim=-1),dim=-1)\n",
    "            var_loss = torch.mean(torch.mean(logvar, dim=-1), dim=-1)\n",
    "            total_loss = torch.sum(mse_loss) + torch.sum(var_loss)\n",
    "        else:\n",
    "            # 退化为普通的 MSE\n",
    "            mse_loss = torch.mean(torch.pow(mean - labels, 2), dim=(1, 2))\n",
    "            total_loss = torch.sum(mse_loss)\n",
    "        return total_loss, mse_loss\n",
    "\n",
    "    def train_my(self, loss):\n",
    "        self.optimizer.zero_grad()\n",
    "        # 惩罚 _max_logvar 太大；惩罚 _min_logvar 太小\n",
    "        loss += 0.01 * torch.sum(self._max_logvar) - 0.01 * torch.sum(self._min_logvar)\n",
    "        loss.backward()\n",
    "        self.optimizer.step()"
   ]
  },
  {
   "cell_type": "markdown",
   "id": "2796e740c2842129",
   "metadata": {
    "collapsed": false
   },
   "source": [
    "***模型的训练：***"
   ]
  },
  {
   "cell_type": "code",
   "execution_count": 210,
   "id": "921f38c740dc8e17",
   "metadata": {
    "ExecuteTime": {
     "end_time": "2025-08-25T12:04:47.475719500Z",
     "start_time": "2025-08-25T12:04:47.102967800Z"
    },
    "collapsed": false
   },
   "outputs": [],
   "source": [
    "class EnsembleDynamicsModel:\n",
    "    def __init__(self, state_dim, action_dim, num_network=5):\n",
    "        self._num_network = num_network\n",
    "        self._state_dim, self._action_dim = state_dim, action_dim\n",
    "        self.model = EnsembleModel(state_dim,\n",
    "                                   action_dim,\n",
    "                                   ensemble_size=num_network)\n",
    "        self._epoch_since_last_update = 0  # 在 5 次没有获得表现提升时就结束训练\n",
    "        # 记录每个网络的最佳 epoch 和对应验证集损失，用于早停和选择最优模型\n",
    "        self._snapshots = {i: (None, 1e10) for i in range(self._num_network)}\n",
    "\n",
    "    # 模型成员并行训练\n",
    "    def train(self,\n",
    "              inputs,\n",
    "              labels,\n",
    "              batch_size=64,\n",
    "              holdout_ratio=0.1,\n",
    "              max_iter=20):\n",
    "        # 设置训练集与验证集，holdout_ratio 默认为 0.1，即 10% 数据用于验证\n",
    "        permutation = np.random.permutation(inputs.shape[0])\n",
    "        inputs, labels = inputs[permutation], labels[permutation]\n",
    "        \n",
    "        num_holdout = int(inputs.shape[0] * holdout_ratio)\n",
    "        train_inputs, train_labels = inputs[num_holdout:], labels[num_holdout:]  # 训练集：90%\n",
    "        holdout_inputs, holdout_labels = inputs[:num_holdout], labels[:num_holdout]  # 验证集：10%\n",
    "        # 复制验证集数据，使每个网络都能独立计算损失\n",
    "        holdout_inputs = torch.from_numpy(holdout_inputs).float().to(device)\n",
    "        holdout_labels = torch.from_numpy(holdout_labels).float().to(device)\n",
    "        holdout_inputs = holdout_inputs[None, :, :].repeat([self._num_network, 1, 1])\n",
    "        holdout_labels = holdout_labels[None, :, :].repeat([self._num_network, 1, 1])\n",
    "\n",
    "        # itertools.count() 会无限产生整数：0,1,2,… ；实际训练结束条件在循环内部通过 _save_best 和 epoch > max_iter 来控制\n",
    "        for epoch in itertools.count():  # itertools.count() 会无限产生整数：0,1,2,…\n",
    "            # 为每个模型成员生成独立的训练顺序（认知不确定性）\n",
    "            train_index = np.vstack([\n",
    "                np.random.permutation(train_inputs.shape[0])\n",
    "                for _ in range(self._num_network)\n",
    "            ])\n",
    "            # Mini-batch 训练\n",
    "            for batch_start_pos in range(0, train_inputs.shape[0], batch_size):  # 按 batch_size 分块，逐个 batch 进行训练\n",
    "                batch_index = train_index[:, batch_start_pos:batch_start_pos +batch_size]\n",
    "                train_input = torch.from_numpy(train_inputs[batch_index]).float().to(device)\n",
    "                train_label = torch.from_numpy(train_labels[batch_index]).float().to(device)\n",
    "\n",
    "                mean, logvar = self.model(train_input, return_log_var=True)\n",
    "                loss, _ = self.model.loss(mean, logvar, train_label)\n",
    "                self.model.train_my(loss)\n",
    "                \n",
    "            # 用验证集评估 Mini-batch训练后 模型的性能\n",
    "            with torch.no_grad():  # 在其作用域内禁止梯度计算\n",
    "                mean, logvar = self.model(holdout_inputs, return_log_var=True)\n",
    "                _, holdout_losses = self.model.loss(mean,\n",
    "                                                    logvar,\n",
    "                                                    holdout_labels,\n",
    "                                                    use_var_loss=False)\n",
    "                holdout_losses = holdout_losses.cpu()  # GPU 张量不能直接用于大多数 Python 操作\n",
    "                break_condition = self._save_best(epoch, holdout_losses)\n",
    "                if break_condition or epoch > max_iter:  # 结束训练\n",
    "                    break\n",
    "\n",
    "    def _save_best(self, epoch, losses, threshold=0.1):\n",
    "        updated = False  # 标记本轮是否有网络取得了显著改进\n",
    "        for i in range(len(losses)):\n",
    "            current = losses[i]\n",
    "            _, best = self._snapshots[i]\n",
    "            improvement = (best - current) / best\n",
    "            if improvement > threshold:\n",
    "                self._snapshots[i] = (epoch, current)\n",
    "                updated = True\n",
    "        self._epoch_since_last_update = 0 if updated else self._epoch_since_last_update + 1\n",
    "        return self._epoch_since_last_update > 5\n",
    "\n",
    "    def predict(self, inputs, batch_size=64):\n",
    "        inputs = np.tile(inputs, (self._num_network, 1, 1))\n",
    "        inputs = torch.tensor(inputs, dtype=torch.float).to(device)\n",
    "        mean, var = self.model(inputs, return_log_var=False)\n",
    "        return mean.detach().cpu().numpy(), var.detach().cpu().numpy()"
   ]
  },
  {
   "cell_type": "markdown",
   "id": "b1dc37fddf5adc2",
   "metadata": {
    "collapsed": false
   },
   "source": [
    "> 修改部分:\n",
    "- def predict"
   ]
  },
  {
   "cell_type": "markdown",
   "id": "6de5394ded3c5ad5",
   "metadata": {
    "collapsed": false
   },
   "source": [
    "***定义模拟环境 FakeEnv，用训练好的 EnsembleDynamicsModel 来预测下一状态和奖励：***"
   ]
  },
  {
   "cell_type": "code",
   "execution_count": 211,
   "id": "f9a322fb51a1b950",
   "metadata": {
    "ExecuteTime": {
     "end_time": "2025-08-25T12:04:47.489718500Z",
     "start_time": "2025-08-25T12:04:47.120331300Z"
    },
    "collapsed": false
   },
   "outputs": [],
   "source": [
    "class FakeEnv:\n",
    "    def __init__(self, model):\n",
    "        self.model = model\n",
    "\n",
    "    def step(self, obs, act):\n",
    "        inputs = np.concatenate((obs, act), axis=-1)\n",
    "        ensemble_model_means, ensemble_model_vars = self.model.predict(inputs)  \n",
    "        # (num_network, n_states, mean)\n",
    "        ensemble_model_means[:, :, 1:] += obs  # 当前状态+预测的状态增量，变为下一状态\n",
    "        ensemble_model_stds = np.sqrt(ensemble_model_vars)\n",
    "        # 得出每个模型成员的预测结果并使用高斯采样\n",
    "        ensemble_samples = ensemble_model_means + np.random.normal(\n",
    "            size=ensemble_model_means.shape) * ensemble_model_stds\n",
    "\n",
    "        num_models, batch_size, _ = ensemble_model_means.shape\n",
    "        # 为每一个状态的下一步预测使用随机的模型成员\n",
    "        models_to_use = np.random.choice([i for i in range(self.model._num_network)], size=batch_size)\n",
    "        batch_inds = np.arange(0, batch_size)\n",
    "        samples = ensemble_samples[models_to_use, batch_inds]\n",
    "        # batch_size中每个状态都随机采用了某个模型成员进行预测（相应的奖励以及下一个状态）\n",
    "        rewards, next_obs = samples[:, :1][0][0], samples[:, 1:][0]\n",
    "        return rewards, next_obs\n"
   ]
  },
  {
   "cell_type": "markdown",
   "id": "740ccf489c333380",
   "metadata": {
    "collapsed": false
   },
   "source": [
    "> 修改部分:\n",
    "- def step"
   ]
  },
  {
   "cell_type": "markdown",
   "id": "472abc39256deb3f",
   "metadata": {
    "collapsed": false
   },
   "source": [
    "### 经验回放池Replay Buffer"
   ]
  },
  {
   "cell_type": "code",
   "execution_count": 212,
   "id": "b18f891f816ac25f",
   "metadata": {
    "ExecuteTime": {
     "end_time": "2025-08-25T12:04:47.489718500Z",
     "start_time": "2025-08-25T12:04:47.128309200Z"
    },
    "collapsed": false
   },
   "outputs": [],
   "source": [
    "class ReplayBuffer:\n",
    "    def __init__(self, capacity):\n",
    "        self.buffer = collections.deque(maxlen=capacity)\n",
    "\n",
    "    def add(self, state, action, reward, next_state, done):\n",
    "        self.buffer.append((state, action, reward, next_state, done))\n",
    "\n",
    "    def size(self):\n",
    "        return len(self.buffer)\n",
    "\n",
    "    def sample(self, batch_size):\n",
    "        if batch_size > len(self.buffer):\n",
    "            return self.return_all_samples()\n",
    "        else:\n",
    "            transitions = random.sample(self.buffer, batch_size)\n",
    "            state, action, reward, next_state, done = zip(*transitions)\n",
    "            return np.array(state), np.array(action), reward, np.array(next_state), done\n",
    "\n",
    "    def return_all_samples(self):\n",
    "        all_transitions = list(self.buffer)\n",
    "        state, action, reward, next_state, done = zip(*all_transitions)\n",
    "        return np.array(state), action, reward, np.array(next_state), done"
   ]
  },
  {
   "cell_type": "markdown",
   "id": "2b92b0b2bb67c9ac",
   "metadata": {
    "collapsed": false
   },
   "source": [
    "### MBPO 算法"
   ]
  },
  {
   "cell_type": "code",
   "execution_count": 213,
   "id": "1eb1e89a59b85181",
   "metadata": {
    "ExecuteTime": {
     "end_time": "2025-08-25T12:04:47.559975800Z",
     "start_time": "2025-08-25T12:04:47.304643100Z"
    },
    "collapsed": false
   },
   "outputs": [],
   "source": [
    "class MBPO:\n",
    "    def __init__(self, env, agent, fake_env, env_pool, model_pool,\n",
    "                 rollout_length, rollout_batch_size, real_ratio, num_episode):\n",
    "\n",
    "        self.env = env\n",
    "        self.agent = agent\n",
    "        self.fake_env = fake_env\n",
    "        self.env_pool = env_pool\n",
    "        self.model_pool = model_pool\n",
    "        self.rollout_length = rollout_length\n",
    "        self.rollout_batch_size = rollout_batch_size\n",
    "        self.real_ratio = real_ratio\n",
    "        self.num_episode = num_episode\n",
    "\n",
    "    def rollout_model(self):\n",
    "        observations, _, _, _, _ = self.env_pool.sample(self.rollout_batch_size)\n",
    "        for obs in observations:\n",
    "            for i in range(self.rollout_length):\n",
    "                action = self.agent.take_action(obs)\n",
    "                reward, next_obs = self.fake_env.step(obs, action)\n",
    "                self.model_pool.add(obs, action, reward, next_obs, False)\n",
    "                obs = next_obs\n",
    "\n",
    "    def update_agent(self, policy_train_batch_size=64):\n",
    "        env_batch_size = int(policy_train_batch_size * self.real_ratio)\n",
    "        model_batch_size = policy_train_batch_size - env_batch_size\n",
    "        for epoch in range(10):\n",
    "            env_obs, env_action, env_reward, env_next_obs, env_done = self.env_pool.sample(env_batch_size)\n",
    "            \n",
    "            if self.model_pool.size() > 0:  # 按照占比 “混合训练”\n",
    "                model_obs, model_action, model_reward, model_next_obs, model_done = self.model_pool.sample(\n",
    "                    model_batch_size)\n",
    "                obs = np.concatenate((env_obs, model_obs), axis=0)\n",
    "                action = np.concatenate((env_action, model_action), axis=0)\n",
    "                next_obs = np.concatenate((env_next_obs, model_next_obs), axis=0)\n",
    "                reward = np.concatenate((env_reward, model_reward), axis=0)\n",
    "                done = np.concatenate((env_done, model_done), axis=0)\n",
    "            else:  # 无环境模型采样数据，只用真实环境数据训练Agent\n",
    "                obs, action, next_obs, reward, done = env_obs, env_action, env_next_obs, env_reward, env_done\n",
    "                \n",
    "            transition_dict = {\n",
    "                'states': obs,\n",
    "                'actions': action,\n",
    "                'next_states': next_obs,\n",
    "                'rewards': reward,\n",
    "                'dones': done\n",
    "            }\n",
    "            self.agent.update(transition_dict)\n",
    "\n",
    "    def train_model(self):\n",
    "        obs, action, reward, next_obs, done = self.env_pool.return_all_samples()\n",
    "        inputs = np.concatenate((obs, action), axis=-1)\n",
    "        reward = np.array(reward)\n",
    "        labels = np.concatenate((np.reshape(reward, (reward.shape[0], -1)), next_obs - obs), axis=-1)\n",
    "        self.fake_env.model.train(inputs, labels)\n",
    "\n",
    "    def explore(self):\n",
    "        episode_return = 0\n",
    "        obs, info = self.env.reset()\n",
    "        done = False\n",
    "        truncated = False\n",
    "        while not (done or truncated):  # 任务失败或达到最大步数\n",
    "            action = self.agent.take_action(obs)\n",
    "            next_obs, reward, done, truncated, _  = self.env.step(action)\n",
    "            self.env_pool.add(obs, action, reward, next_obs, done)\n",
    "            obs = next_obs\n",
    "            episode_return += reward\n",
    "        return episode_return\n",
    "\n",
    "    def train(self):\n",
    "        return_list = []\n",
    "        explore_return = self.explore()  # 随机探索采取数据\n",
    "        print('episode: 1, 初始随机动作采样return: %d' % explore_return)\n",
    "        return_list.append(explore_return)\n",
    "\n",
    "        for i_episode in range(self.num_episode - 1):\n",
    "            step = 0\n",
    "            episode_return = 0\n",
    "            obs, info = self.env.reset()\n",
    "            done = False\n",
    "            truncated = False\n",
    "            while not (done or truncated):  # 任务失败或达到最大步数\n",
    "                if step % 50 == 0:\n",
    "                    self.train_model()  # 每次迭代中每50步对 环境模型 进行训练\n",
    "                    self.rollout_model()  # 每次迭代中每50步进行 rollout 采样\n",
    "                action = self.agent.take_action(obs)\n",
    "                next_obs, reward, done, truncated, _  = self.env.step(action)\n",
    "                self.env_pool.add(obs, action, reward, next_obs, done)\n",
    "                obs = next_obs\n",
    "                episode_return += reward\n",
    "\n",
    "                self.update_agent()\n",
    "                step += 1\n",
    "            \n",
    "            return_list.append(episode_return)\n",
    "            print('episode: %d, return: %d' % (i_episode + 2, episode_return))\n",
    "        return return_list\n"
   ]
  },
  {
   "cell_type": "markdown",
   "id": "68e4e0583d9a303e",
   "metadata": {
    "collapsed": false
   },
   "source": [
    "### 环境设置（'Pendulum-v1'）："
   ]
  },
  {
   "cell_type": "code",
   "execution_count": 214,
   "id": "ffdca1444ad74e6f",
   "metadata": {
    "ExecuteTime": {
     "end_time": "2025-08-25T12:04:47.559975800Z",
     "start_time": "2025-08-25T12:04:47.313813200Z"
    },
    "collapsed": false
   },
   "outputs": [
    {
     "name": "stdout",
     "output_type": "stream",
     "text": [
      "Environment spec: EnvSpec(id='Pendulum-v1', entry_point='gymnasium.envs.classic_control.pendulum:PendulumEnv', reward_threshold=None, nondeterministic=False, max_episode_steps=200, order_enforce=True, disable_env_checker=False, kwargs={}, namespace=None, name='Pendulum', version=1, additional_wrappers=(), vector_entry_point=None)\n"
     ]
    }
   ],
   "source": [
    "np.random.seed(0)    # 设置 NumPy 的随机种子\n",
    "torch.manual_seed(0) # 设置 PyTorch CPU 随机种子\n",
    "torch.cuda.manual_seed_all(0) # 设置 PyTorch GPU 随机种子, 由于GPU并行性, 只能极大减小偏差\n",
    "\n",
    "env_name = 'Pendulum-v1'\n",
    "env = gym.make(env_name)\n",
    "env.reset(seed=0)   # 环境通常依赖于其他随机数生成器来初始化状态、进行探索(推荐位于以上随机之后)\n",
    "print(\"Environment spec:\", env.spec)\n",
    "\n",
    "buffer_size = 10000\n",
    "env_pool = ReplayBuffer(buffer_size)"
   ]
  },
  {
   "cell_type": "markdown",
   "id": "389f84c439d79257",
   "metadata": {
    "collapsed": false
   },
   "source": [
    "### 超参数设置："
   ]
  },
  {
   "cell_type": "code",
   "execution_count": 215,
   "id": "35798f69af04337f",
   "metadata": {
    "ExecuteTime": {
     "end_time": "2025-08-25T12:04:47.559975800Z",
     "start_time": "2025-08-25T12:04:47.324328800Z"
    },
    "collapsed": false
   },
   "outputs": [],
   "source": [
    "state_dim = env.observation_space.shape[0]\n",
    "hidden_dim = 128\n",
    "action_dim = env.action_space.shape[0]  # 连续动作空间\n",
    "action_bound = env.action_space.high[0]  # 动作最大值\n",
    "# 智能体参数\n",
    "actor_lr = 5e-4\n",
    "critic_lr = 5e-3\n",
    "alpha_lr = 1e-3\n",
    "\n",
    "target_entropy = -env.action_space.shape[0] # 目标熵\n",
    "tau = 0.005  # 软更新参数\n",
    "gamma = 0.98\n",
    "\n",
    "agent = SACContinuous(state_dim, hidden_dim, action_dim, action_bound, actor_lr,\n",
    "            critic_lr, alpha_lr, target_entropy, tau, gamma, device)\n",
    "\n",
    "# 环境模型\n",
    "model = EnsembleDynamicsModel(state_dim, action_dim)\n",
    "fake_env = FakeEnv(model)\n",
    "\n",
    "rollout_batch_size = 1000\n",
    "rollout_length = 1  # 推演长度k,推荐更多尝试\n",
    "model_pool_size = rollout_batch_size * rollout_length\n",
    "model_pool = ReplayBuffer(model_pool_size)\n",
    "\n",
    "real_ratio = 0.5\n",
    "num_episodes = 30\n",
    "\n",
    "mbpo = MBPO(env, agent, fake_env, env_pool, model_pool, rollout_length,\n",
    "            rollout_batch_size, real_ratio, num_episodes)\n"
   ]
  },
  {
   "cell_type": "markdown",
   "id": "f7091394e402fe1c",
   "metadata": {
    "collapsed": false
   },
   "source": [
    "### 测试与训练:"
   ]
  },
  {
   "cell_type": "code",
   "execution_count": 216,
   "id": "b55e2a4088ef2186",
   "metadata": {
    "ExecuteTime": {
     "end_time": "2025-08-25T12:33:30.271028500Z",
     "start_time": "2025-08-25T12:04:47.366201200Z"
    },
    "collapsed": false
   },
   "outputs": [
    {
     "name": "stdout",
     "output_type": "stream",
     "text": [
      "episode: 1, 初始随机动作采样return: -1805\n",
      "episode: 2, return: -1340\n",
      "episode: 3, return: -1113\n",
      "episode: 4, return: -1218\n",
      "episode: 5, return: -1090\n",
      "episode: 6, return: -1663\n",
      "episode: 7, return: -1548\n",
      "episode: 8, return: -1726\n",
      "episode: 9, return: -1665\n",
      "episode: 10, return: -1668\n",
      "episode: 11, return: -1505\n",
      "episode: 12, return: -1263\n",
      "episode: 13, return: -1627\n",
      "episode: 14, return: -1320\n",
      "episode: 15, return: -1565\n",
      "episode: 16, return: -1521\n",
      "episode: 17, return: -1485\n",
      "episode: 18, return: -1587\n",
      "episode: 19, return: -1464\n",
      "episode: 20, return: -1187\n",
      "episode: 21, return: -887\n",
      "episode: 22, return: -766\n",
      "episode: 23, return: -250\n",
      "episode: 24, return: -287\n",
      "episode: 25, return: -120\n",
      "episode: 26, return: -247\n",
      "episode: 27, return: -123\n",
      "episode: 28, return: -1\n",
      "episode: 29, return: -114\n",
      "episode: 30, return: -126\n"
     ]
    }
   ],
   "source": [
    "return_list = mbpo.train()"
   ]
  },
  {
   "cell_type": "markdown",
   "id": "1b648621c1265955",
   "metadata": {
    "collapsed": false
   },
   "source": [
    "### 绘图："
   ]
  },
  {
   "cell_type": "code",
   "execution_count": 217,
   "id": "ad2a55d451f00d45",
   "metadata": {
    "ExecuteTime": {
     "end_time": "2025-08-25T12:33:30.287215100Z",
     "start_time": "2025-08-25T12:33:30.273027800Z"
    },
    "collapsed": false
   },
   "outputs": [],
   "source": [
    "import pandas as pd\n",
    "episodes_list = list(range(len(return_list)))\n",
    "# 创建 DataFrame\n",
    "df1 = pd.DataFrame({'Episodes': episodes_list, 'Returns': return_list})\n",
    "# 保存为 CSV 文件\n",
    "df1.to_csv('MBPO_Pendulum-v1_returns_data.csv', index=False)"
   ]
  },
  {
   "cell_type": "code",
   "execution_count": 1,
   "id": "cee1aa04abfd1205",
   "metadata": {
    "ExecuteTime": {
     "end_time": "2025-08-25T12:41:37.946191Z",
     "start_time": "2025-08-25T12:41:36.884659300Z"
    },
    "collapsed": false
   },
   "outputs": [
    {
     "data": {
      "application/vnd.plotly.v1+json": {
       "config": {
        "plotlyServerURL": "https://plot.ly"
       },
       "data": [
        {
         "mode": "lines",
         "name": "Returns",
         "type": "scatter",
         "x": {
          "bdata": "AAECAwQFBgcICQoLDA0ODxAREhMUFRYXGBkaGxwd",
          "dtype": "i1"
         },
         "y": {
          "bdata": "WeKhCzY2nMCYMcvHKvKUwLTX3JA+ZZHAjF/x+MEIk8BOBA48gwiRwAN0dfLX/ZnAij/o5LQymMDX02t9gPuawGsq16tBBJrAkhRsqE4TmsDCCmgyIIeXwPVhkPaPvJPAQ+LbDlRsmcAGdHslFqCUwFDTUlbod5jAXYNgtg7El8DhzDXd7DaXwIR5daKEzpjAjSzj1EThlsA6Q5Y1goySwDRwk5FovYvAXNFmOoXyh8DPOgo6rF1vwH6YCZZu/HHAhUXqFjIUXsC1KByA4vBuwLmmQ7H41l7AQPFMG/fy9L943nwRuq5cwBo7V031uF/A",
          "dtype": "f8"
         }
        }
       ],
       "layout": {
        "showlegend": true,
        "template": {
         "data": {
          "bar": [
           {
            "error_x": {
             "color": "#2a3f5f"
            },
            "error_y": {
             "color": "#2a3f5f"
            },
            "marker": {
             "line": {
              "color": "#E5ECF6",
              "width": 0.5
             },
             "pattern": {
              "fillmode": "overlay",
              "size": 10,
              "solidity": 0.2
             }
            },
            "type": "bar"
           }
          ],
          "barpolar": [
           {
            "marker": {
             "line": {
              "color": "#E5ECF6",
              "width": 0.5
             },
             "pattern": {
              "fillmode": "overlay",
              "size": 10,
              "solidity": 0.2
             }
            },
            "type": "barpolar"
           }
          ],
          "carpet": [
           {
            "aaxis": {
             "endlinecolor": "#2a3f5f",
             "gridcolor": "white",
             "linecolor": "white",
             "minorgridcolor": "white",
             "startlinecolor": "#2a3f5f"
            },
            "baxis": {
             "endlinecolor": "#2a3f5f",
             "gridcolor": "white",
             "linecolor": "white",
             "minorgridcolor": "white",
             "startlinecolor": "#2a3f5f"
            },
            "type": "carpet"
           }
          ],
          "choropleth": [
           {
            "colorbar": {
             "outlinewidth": 0,
             "ticks": ""
            },
            "type": "choropleth"
           }
          ],
          "contour": [
           {
            "colorbar": {
             "outlinewidth": 0,
             "ticks": ""
            },
            "colorscale": [
             [
              0,
              "#0d0887"
             ],
             [
              0.1111111111111111,
              "#46039f"
             ],
             [
              0.2222222222222222,
              "#7201a8"
             ],
             [
              0.3333333333333333,
              "#9c179e"
             ],
             [
              0.4444444444444444,
              "#bd3786"
             ],
             [
              0.5555555555555556,
              "#d8576b"
             ],
             [
              0.6666666666666666,
              "#ed7953"
             ],
             [
              0.7777777777777778,
              "#fb9f3a"
             ],
             [
              0.8888888888888888,
              "#fdca26"
             ],
             [
              1,
              "#f0f921"
             ]
            ],
            "type": "contour"
           }
          ],
          "contourcarpet": [
           {
            "colorbar": {
             "outlinewidth": 0,
             "ticks": ""
            },
            "type": "contourcarpet"
           }
          ],
          "heatmap": [
           {
            "colorbar": {
             "outlinewidth": 0,
             "ticks": ""
            },
            "colorscale": [
             [
              0,
              "#0d0887"
             ],
             [
              0.1111111111111111,
              "#46039f"
             ],
             [
              0.2222222222222222,
              "#7201a8"
             ],
             [
              0.3333333333333333,
              "#9c179e"
             ],
             [
              0.4444444444444444,
              "#bd3786"
             ],
             [
              0.5555555555555556,
              "#d8576b"
             ],
             [
              0.6666666666666666,
              "#ed7953"
             ],
             [
              0.7777777777777778,
              "#fb9f3a"
             ],
             [
              0.8888888888888888,
              "#fdca26"
             ],
             [
              1,
              "#f0f921"
             ]
            ],
            "type": "heatmap"
           }
          ],
          "histogram": [
           {
            "marker": {
             "pattern": {
              "fillmode": "overlay",
              "size": 10,
              "solidity": 0.2
             }
            },
            "type": "histogram"
           }
          ],
          "histogram2d": [
           {
            "colorbar": {
             "outlinewidth": 0,
             "ticks": ""
            },
            "colorscale": [
             [
              0,
              "#0d0887"
             ],
             [
              0.1111111111111111,
              "#46039f"
             ],
             [
              0.2222222222222222,
              "#7201a8"
             ],
             [
              0.3333333333333333,
              "#9c179e"
             ],
             [
              0.4444444444444444,
              "#bd3786"
             ],
             [
              0.5555555555555556,
              "#d8576b"
             ],
             [
              0.6666666666666666,
              "#ed7953"
             ],
             [
              0.7777777777777778,
              "#fb9f3a"
             ],
             [
              0.8888888888888888,
              "#fdca26"
             ],
             [
              1,
              "#f0f921"
             ]
            ],
            "type": "histogram2d"
           }
          ],
          "histogram2dcontour": [
           {
            "colorbar": {
             "outlinewidth": 0,
             "ticks": ""
            },
            "colorscale": [
             [
              0,
              "#0d0887"
             ],
             [
              0.1111111111111111,
              "#46039f"
             ],
             [
              0.2222222222222222,
              "#7201a8"
             ],
             [
              0.3333333333333333,
              "#9c179e"
             ],
             [
              0.4444444444444444,
              "#bd3786"
             ],
             [
              0.5555555555555556,
              "#d8576b"
             ],
             [
              0.6666666666666666,
              "#ed7953"
             ],
             [
              0.7777777777777778,
              "#fb9f3a"
             ],
             [
              0.8888888888888888,
              "#fdca26"
             ],
             [
              1,
              "#f0f921"
             ]
            ],
            "type": "histogram2dcontour"
           }
          ],
          "mesh3d": [
           {
            "colorbar": {
             "outlinewidth": 0,
             "ticks": ""
            },
            "type": "mesh3d"
           }
          ],
          "parcoords": [
           {
            "line": {
             "colorbar": {
              "outlinewidth": 0,
              "ticks": ""
             }
            },
            "type": "parcoords"
           }
          ],
          "pie": [
           {
            "automargin": true,
            "type": "pie"
           }
          ],
          "scatter": [
           {
            "fillpattern": {
             "fillmode": "overlay",
             "size": 10,
             "solidity": 0.2
            },
            "type": "scatter"
           }
          ],
          "scatter3d": [
           {
            "line": {
             "colorbar": {
              "outlinewidth": 0,
              "ticks": ""
             }
            },
            "marker": {
             "colorbar": {
              "outlinewidth": 0,
              "ticks": ""
             }
            },
            "type": "scatter3d"
           }
          ],
          "scattercarpet": [
           {
            "marker": {
             "colorbar": {
              "outlinewidth": 0,
              "ticks": ""
             }
            },
            "type": "scattercarpet"
           }
          ],
          "scattergeo": [
           {
            "marker": {
             "colorbar": {
              "outlinewidth": 0,
              "ticks": ""
             }
            },
            "type": "scattergeo"
           }
          ],
          "scattergl": [
           {
            "marker": {
             "colorbar": {
              "outlinewidth": 0,
              "ticks": ""
             }
            },
            "type": "scattergl"
           }
          ],
          "scattermap": [
           {
            "marker": {
             "colorbar": {
              "outlinewidth": 0,
              "ticks": ""
             }
            },
            "type": "scattermap"
           }
          ],
          "scattermapbox": [
           {
            "marker": {
             "colorbar": {
              "outlinewidth": 0,
              "ticks": ""
             }
            },
            "type": "scattermapbox"
           }
          ],
          "scatterpolar": [
           {
            "marker": {
             "colorbar": {
              "outlinewidth": 0,
              "ticks": ""
             }
            },
            "type": "scatterpolar"
           }
          ],
          "scatterpolargl": [
           {
            "marker": {
             "colorbar": {
              "outlinewidth": 0,
              "ticks": ""
             }
            },
            "type": "scatterpolargl"
           }
          ],
          "scatterternary": [
           {
            "marker": {
             "colorbar": {
              "outlinewidth": 0,
              "ticks": ""
             }
            },
            "type": "scatterternary"
           }
          ],
          "surface": [
           {
            "colorbar": {
             "outlinewidth": 0,
             "ticks": ""
            },
            "colorscale": [
             [
              0,
              "#0d0887"
             ],
             [
              0.1111111111111111,
              "#46039f"
             ],
             [
              0.2222222222222222,
              "#7201a8"
             ],
             [
              0.3333333333333333,
              "#9c179e"
             ],
             [
              0.4444444444444444,
              "#bd3786"
             ],
             [
              0.5555555555555556,
              "#d8576b"
             ],
             [
              0.6666666666666666,
              "#ed7953"
             ],
             [
              0.7777777777777778,
              "#fb9f3a"
             ],
             [
              0.8888888888888888,
              "#fdca26"
             ],
             [
              1,
              "#f0f921"
             ]
            ],
            "type": "surface"
           }
          ],
          "table": [
           {
            "cells": {
             "fill": {
              "color": "#EBF0F8"
             },
             "line": {
              "color": "white"
             }
            },
            "header": {
             "fill": {
              "color": "#C8D4E3"
             },
             "line": {
              "color": "white"
             }
            },
            "type": "table"
           }
          ]
         },
         "layout": {
          "annotationdefaults": {
           "arrowcolor": "#2a3f5f",
           "arrowhead": 0,
           "arrowwidth": 1
          },
          "autotypenumbers": "strict",
          "coloraxis": {
           "colorbar": {
            "outlinewidth": 0,
            "ticks": ""
           }
          },
          "colorscale": {
           "diverging": [
            [
             0,
             "#8e0152"
            ],
            [
             0.1,
             "#c51b7d"
            ],
            [
             0.2,
             "#de77ae"
            ],
            [
             0.3,
             "#f1b6da"
            ],
            [
             0.4,
             "#fde0ef"
            ],
            [
             0.5,
             "#f7f7f7"
            ],
            [
             0.6,
             "#e6f5d0"
            ],
            [
             0.7,
             "#b8e186"
            ],
            [
             0.8,
             "#7fbc41"
            ],
            [
             0.9,
             "#4d9221"
            ],
            [
             1,
             "#276419"
            ]
           ],
           "sequential": [
            [
             0,
             "#0d0887"
            ],
            [
             0.1111111111111111,
             "#46039f"
            ],
            [
             0.2222222222222222,
             "#7201a8"
            ],
            [
             0.3333333333333333,
             "#9c179e"
            ],
            [
             0.4444444444444444,
             "#bd3786"
            ],
            [
             0.5555555555555556,
             "#d8576b"
            ],
            [
             0.6666666666666666,
             "#ed7953"
            ],
            [
             0.7777777777777778,
             "#fb9f3a"
            ],
            [
             0.8888888888888888,
             "#fdca26"
            ],
            [
             1,
             "#f0f921"
            ]
           ],
           "sequentialminus": [
            [
             0,
             "#0d0887"
            ],
            [
             0.1111111111111111,
             "#46039f"
            ],
            [
             0.2222222222222222,
             "#7201a8"
            ],
            [
             0.3333333333333333,
             "#9c179e"
            ],
            [
             0.4444444444444444,
             "#bd3786"
            ],
            [
             0.5555555555555556,
             "#d8576b"
            ],
            [
             0.6666666666666666,
             "#ed7953"
            ],
            [
             0.7777777777777778,
             "#fb9f3a"
            ],
            [
             0.8888888888888888,
             "#fdca26"
            ],
            [
             1,
             "#f0f921"
            ]
           ]
          },
          "colorway": [
           "#636efa",
           "#EF553B",
           "#00cc96",
           "#ab63fa",
           "#FFA15A",
           "#19d3f3",
           "#FF6692",
           "#B6E880",
           "#FF97FF",
           "#FECB52"
          ],
          "font": {
           "color": "#2a3f5f"
          },
          "geo": {
           "bgcolor": "white",
           "lakecolor": "white",
           "landcolor": "#E5ECF6",
           "showlakes": true,
           "showland": true,
           "subunitcolor": "white"
          },
          "hoverlabel": {
           "align": "left"
          },
          "hovermode": "closest",
          "mapbox": {
           "style": "light"
          },
          "paper_bgcolor": "white",
          "plot_bgcolor": "#E5ECF6",
          "polar": {
           "angularaxis": {
            "gridcolor": "white",
            "linecolor": "white",
            "ticks": ""
           },
           "bgcolor": "#E5ECF6",
           "radialaxis": {
            "gridcolor": "white",
            "linecolor": "white",
            "ticks": ""
           }
          },
          "scene": {
           "xaxis": {
            "backgroundcolor": "#E5ECF6",
            "gridcolor": "white",
            "gridwidth": 2,
            "linecolor": "white",
            "showbackground": true,
            "ticks": "",
            "zerolinecolor": "white"
           },
           "yaxis": {
            "backgroundcolor": "#E5ECF6",
            "gridcolor": "white",
            "gridwidth": 2,
            "linecolor": "white",
            "showbackground": true,
            "ticks": "",
            "zerolinecolor": "white"
           },
           "zaxis": {
            "backgroundcolor": "#E5ECF6",
            "gridcolor": "white",
            "gridwidth": 2,
            "linecolor": "white",
            "showbackground": true,
            "ticks": "",
            "zerolinecolor": "white"
           }
          },
          "shapedefaults": {
           "line": {
            "color": "#2a3f5f"
           }
          },
          "ternary": {
           "aaxis": {
            "gridcolor": "white",
            "linecolor": "white",
            "ticks": ""
           },
           "baxis": {
            "gridcolor": "white",
            "linecolor": "white",
            "ticks": ""
           },
           "bgcolor": "#E5ECF6",
           "caxis": {
            "gridcolor": "white",
            "linecolor": "white",
            "ticks": ""
           }
          },
          "title": {
           "x": 0.05
          },
          "xaxis": {
           "automargin": true,
           "gridcolor": "white",
           "linecolor": "white",
           "ticks": "",
           "title": {
            "standoff": 15
           },
           "zerolinecolor": "white",
           "zerolinewidth": 2
          },
          "yaxis": {
           "automargin": true,
           "gridcolor": "white",
           "linecolor": "white",
           "ticks": "",
           "title": {
            "standoff": 15
           },
           "zerolinecolor": "white",
           "zerolinewidth": 2
          }
         }
        },
        "title": {
         "text": "MBPO on Pendulum-v1"
        },
        "xaxis": {
         "title": {
          "text": "Episodes"
         }
        },
        "yaxis": {
         "title": {
          "text": "Returns"
         }
        }
       }
      },
      "image/png": "[encoded data removed]"
     },
     "metadata": {},
     "output_type": "display_data"
    }
   ],
   "source": [
    "import plotly.graph_objects as go\n",
    "import pandas as pd\n",
    "df = pd.read_csv('MBPO_Pendulum-v1_returns_data.csv')  # 从 CSV 文件中读取数据\n",
    "fig = go.Figure()\n",
    "fig.add_trace(go.Scatter(x=df['Episodes'], y=df['Returns'], mode='lines', name='Returns'))\n",
    "fig.update_layout(\n",
    "    title='MBPO on Pendulum-v1',\n",
    "    xaxis_title='Episodes',\n",
    "    yaxis_title='Returns',\n",
    "    showlegend=True\n",
    ")\n",
    "fig.show()"
   ]
  },
  {
   "cell_type": "markdown",
   "id": "4238c3d210bbfb75",
   "metadata": {
    "collapsed": false
   },
   "source": [
    "*相比 **无模型** 的强化学习算法，基于模型的方法 **MBPO** 在样本效率上要高\n",
    "虽然这里的效果不如 **PETS** 算法优秀，但是在许多更加复杂的环境中（如 Hopper 和 HalfCheetah） **MBPO** 的表现远远好于 **PETS** 算法*"
   ]
  }
 ],
 "metadata": {
  "kernelspec": {
   "display_name": "Python 3 (ipykernel)",
   "language": "python",
   "name": "python3"
  },
  "language_info": {
   "codemirror_mode": {
    "name": "ipython",
    "version": 3
   },
   "file_extension": ".py",
   "mimetype": "text/x-python",
   "name": "python",
   "nbconvert_exporter": "python",
   "pygments_lexer": "ipython3",
   "version": "3.12.9"
  }
 },
 "nbformat": 4,
 "nbformat_minor": 5
}
