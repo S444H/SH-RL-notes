{
 "cells": [
  {
   "cell_type": "markdown",
   "source": [
    "# 20.基于模型的策略优化 (model-based policy optimization，MBPO）\n",
    "- **Dyna-Q** 算法中的模型只存储之前遇到的数据，只适用于 **表格型环境**；\n",
    "- 在 **连续型** 状态和动作的环境中，若继续利用 **Dyna** 的思想，可以像 **PETS** 算法一样学习一个用 **神经网络环境模型**，然后在任意状态和动作下用 **环境模型** 来生成一些虚拟数据来帮助进行策略的学习；\n",
    "- 如此，对 **真实环境** 中样本的需求量会减少，通常会比 **无模型** 的强化学习方法具有更高的采样效率 —— **MBPO** 算法。"
   ],
   "metadata": {
    "collapsed": false
   },
   "id": "f852de82a459f6dc"
  },
  {
   "cell_type": "markdown",
   "source": [
    "## 20.1 MBPO 原理\n",
    "> **加州大学伯克利分校 (UC Berkeley)** 的研究员在 2019 年的 NeurIPS 会议中提出 **MBPO** 算法 [When to Trust Your Model: Model-Based Policy Optimization](https://arxiv.org/abs/1906.08253) \n",
    "\n",
    "> 研究证明，在多个 **MuJoCo** 连续控制任务上，**MBPO** 的性能相比 **基于模型** 的方法更优，甚至在样本效率上超过了一些 **无模型算法**（如 **SAC**）\n",
    "> **MBPO** 被认为是 **基于模型的强化学习领域中的里程碑式算法**，成为深度强化学习中最重要的**基于模型**的强化学习算法之一，不少之后的工作都是在此基础上进行的"
   ],
   "metadata": {
    "collapsed": false
   },
   "id": "7610f6845d373ac8"
  },
  {
   "cell_type": "markdown",
   "source": [
    "> **MBPO** 算法基于 **两个关键** 的观察：\n",
    "- 随着环境模型的 **推演步数** 变长，模型累积的 **复合误差** 会快速增加，使得环境模型得出的结果变得很 **不可靠**\n",
    "- **推演步数** 必须要 **权衡**  *推演步数长，复合误差大* 的 **负面作用** 与 *推演步数长，训练策略更优* 的 **正面作用**\n",
    "> 在这两个观察的基础之上提出了一种 **分支推演（branched rollout）**  的思想：*只使用环境模型 **从之前访问过的真实状态开始** 进行 **较短步数** 的推演，**而非**从初始状态开始进行**完整的推演**，**避免**长时间依赖预测，**减弱**模型误差累积的影响：*\n",
    "![示意图](Illustrations/分支推演示意图.png)\n",
    "- **分支推演的长度$k$** 是 **平衡** 样本效率和策略性能的 **重要超参数**"
   ],
   "metadata": {
    "collapsed": false
   },
   "id": "51f759cf81c5637a"
  },
  {
   "cell_type": "markdown",
   "source": [
    "### *真实环境下策略性能提升的单调性保障*\n",
    "> 基于模型的方法往往是在 **环境模型** 中提升策略的性能，但这并不能保证在 **真实环境** 中策略性能也有所提升，对此需要保证：\n",
    "\n",
    "$$\\eta[\\pi]\\geq\\hat{\\eta}[\\pi]-\\left[\\frac{2\\gamma r_{\\max}(\\epsilon_m+2\\epsilon_\\pi)}{(1-\\gamma)^2}+\\frac{4r_{\\max}\\epsilon_\\pi}{(1-\\gamma)}\\right]$$\n",
    "$$C=\\left[\\frac{2\\gamma r_{\\max}(\\epsilon_m+2\\epsilon_\\pi)}{(1-\\gamma)^2}+\\frac{4r_{\\max}\\epsilon_\\pi}{(1-\\gamma)}\\right]$$\n",
    "\n",
    "- $\\eta[\\pi]$表示策略在 **真实环境** 中的 **期望回报**\n",
    "- $\\hat{\\eta}[\\pi]$表示策略在 **模型环境** 中的 **期望回报**\n",
    "- $\\epsilon_m$: **模型误差**，指模型在预测环境动态时的误差度量，代表着 **模型预测** 与 **真实环境状态转移**之间的差异（单步误差）\n",
    "- $\\epsilon_\\pi$: **策略误差**，指策略执行时的误差度量，刻画了在 **同一当前策略$\\pi$** 下，**模型预测的状态轨迹** 与 **真实轨迹** 之间的偏移（长期误差）\n",
    "\n",
    "> 误差项的构造：\n",
    "- $\\frac{2\\gamma r_{\\max}(\\epsilon_m + 2\\epsilon_\\pi)}{(1-\\gamma)^2}$ 捕捉 **“模型不准 + 策略偏移”** 引起的长期累积误差\n",
    "- $\\frac{4r_{\\max} \\epsilon_\\pi}{(1-\\gamma)}$ 捕捉 **“即使模型准，但分布不同”** 造成的性能差\n",
    "- 具体的推导过程见原论文附录 **Appendix A**\n",
    "\n",
    "> 这意味着如果 **模型环境** 策略性能的提升可以超过 **performance bound（性能界/性能下界）$C$** ，理论上就可以在 **真实环境** 中取得策略性能的提升"
   ],
   "metadata": {
    "collapsed": false
   },
   "id": "1c07b2407896f1c9"
  },
  {
   "cell_type": "markdown",
   "source": [
    "### *模型推演长度*\n",
    "> **MBPO** 对 **模型误差 $\\epsilon_m$** 进行了优化：使用 **策略相关模型误差$\\epsilon_{m'}$** ，关注 **当前策略$\\pi$** 在 **有限步 rollout（推演片段）** 下可能访问的分布中与真实分布的最大差异，而不是将在 **环境模型** 上训练策略时所触及到的 **所有分布** 都考虑进来。\n",
    "> 此时，两种误差都被局限在 **当前策略的有限步访问分布** 中，将两者结合起来，可更准确地估计策略在模型里的性能差异，从而指导安全的 **rollout步长$H$** 和 **策略优化**：\n",
    "![策略偏移与模型误差](Illustrations/策略偏移与模型误差.png)\n",
    "\n",
    "> 对 $\\epsilon_m'$ 在 $\\epsilon_\\pi=0$ 附近做一阶展开：\n",
    "$$\\epsilon_m^{\\prime}(\\epsilon_\\pi)\\approx\\epsilon_m^{\\prime}|_{\\epsilon_\\pi=0}+\\epsilon_\\pi\\frac{\\mathrm{d}\\epsilon_m^{\\prime}}{\\mathrm{d}\\epsilon_\\pi}$$\n",
    "- 并不是数学上严格意义的泰勒一阶展开，而是一种 **改进的近似**，只是为了 **捕捉策略偏移对模型误差的增量影响**（直观作用类似一阶展开）\n",
    "- 没有闭式表达式能把 $\\epsilon_m'$ 精确写成 $\\epsilon_\\pi$ 的函数\n",
    "\n",
    "\n",
    "> 当策略偏移为零时，**环境误差** 退化，考虑 **全局的分布**：\n",
    "$$\\epsilon_m^{\\prime}(\\epsilon_\\pi)\\approx\\epsilon_m+\\epsilon_\\pi\\frac{\\mathrm{d}\\epsilon_m^{\\prime}}{\\mathrm{d}\\epsilon_\\pi}.$$\n",
    "\n",
    "> 再结合上 $k$ 步 **分支推演**，得到一个 **新的策略期望回报界**：\n",
    "$$\\eta[\\pi]\\geq\\eta^\\mathrm{branch}[\\pi]-2r_\\mathrm{max}\\left[\\frac{\\gamma^{k+1}\\epsilon_\\pi}{(1-\\gamma)^2}+\\frac{\\gamma^k\\epsilon_\\pi}{(1-\\gamma)}+\\frac{k}{1-\\gamma}\\epsilon_{m^{\\prime}}\\right]$$\n",
    "\n",
    "- 具体的推导过程见原论文附录 **Appendix A**\n",
    "\n",
    "> 此时，在策略误差一定时，当推演步数$H$变大，$\\frac{\\gamma^{k+1}\\epsilon_\\pi}{(1-\\gamma)^2}+\\frac{\\gamma^k\\epsilon_\\pi}{(1-\\gamma)}$减小\n",
    "> 虽然$\\frac{k}{1-\\gamma}\\epsilon_{m^{\\prime}}$ 增大，但如果 **策略转移损害对模型准确度的影响$\\frac{\\mathrm{d}\\epsilon_m^{\\prime}}{\\mathrm{d}\\epsilon_\\pi}$** 足够小（在主流的机器人运动环境 **Mojoco** 的典型场景中，其数量级非常小，大约都在$[10^{-4},10^{-2}]$）\n",
    "> 那么就存在一个 **正推演步长$k$**，使 **策略提升** 有效。\n",
    "\n"
   ],
   "metadata": {
    "collapsed": false
   },
   "id": "78b1cf421154e88d"
  },
  {
   "cell_type": "markdown",
   "source": [
    "> 需要注意的是，在高随机性的离散状态环境中，往往环境模型的拟合精度较低，以至于$\\frac{\\mathrm{d}\\epsilon_m^{\\prime}}{\\mathrm{d}\\epsilon_\\pi}$较大，此时使用基于 **分支推演** 的方法 **效果有限**"
   ],
   "metadata": {
    "collapsed": false
   },
   "id": "cd4aaf81ecd0a1d5"
  },
  {
   "cell_type": "markdown",
   "source": [
    "## 20.2 MBPO 代码实践(Pendulum-v1)\n",
    "\n",
    "1. **MBPO** 算法与 **Dyna-Q** 算法十分类似。但 **Dyna-Q** 采用的**无模型强化学习部分**是 **Q-learning**，而 **MBPO** 是基于 **SAC**\n",
    "2. **MBPO** 算法关于 **环境模型的构建** 和 **PETS** 算法中一致，都使用 **模型集成** 的方式\n",
    "3. **MBPO** 算法使用了 **模型生成的数据** 和 **真实环境的数据** 混合训练策略，提升了 **样本效率** 和 **稳定性**"
   ],
   "metadata": {
    "collapsed": false
   },
   "id": "b88804a095089bc8"
  },
  {
   "cell_type": "markdown",
   "source": [
    "导入相关库："
   ],
   "metadata": {
    "collapsed": false
   },
   "id": "5215b9c55a82a9e"
  },
  {
   "cell_type": "code",
   "execution_count": 3,
   "outputs": [],
   "source": [
    "# 基本库\n",
    "import numpy as np\n",
    "import random\n",
    "\n",
    "import itertools\n",
    "from itertools import count\n",
    "import collections\n",
    "from collections import namedtuple\n",
    "\n",
    "# 神经网络\n",
    "import torch\n",
    "import torch.nn.functional as F\n",
    "import torch.nn as nn\n",
    "from torch.distributions.normal import Normal\n",
    "# Gymnasium 是一个用于开发和测试强化学习算法的工具库，为 OpenAI Gym 的更新版本（2021迁移开发）\n",
    "import gymnasium as gym"
   ],
   "metadata": {
    "collapsed": false,
    "ExecuteTime": {
     "end_time": "2025-08-25T07:43:28.918375400Z",
     "start_time": "2025-08-25T07:43:28.883006600Z"
    }
   },
   "id": "5dd07c4f584c01c6"
  },
  {
   "cell_type": "markdown",
   "source": [
    "####  SAC 部分"
   ],
   "metadata": {
    "collapsed": false
   },
   "id": "f259bf44a695302f"
  },
  {
   "cell_type": "markdown",
   "source": [
    "*定义策略网络和价值网络:*"
   ],
   "metadata": {
    "collapsed": false
   },
   "id": "169ef13e2509f930"
  },
  {
   "cell_type": "code",
   "execution_count": 4,
   "outputs": [],
   "source": [
    "class PolicyNetContinuous(torch.nn.Module):\n",
    "    def __init__(self, state_dim, hidden_dim, action_dim, action_bound):\n",
    "        super(PolicyNetContinuous, self).__init__()\n",
    "        self.fc1 = torch.nn.Linear(state_dim, hidden_dim)\n",
    "        self.fc_mu = torch.nn.Linear(hidden_dim, action_dim)\n",
    "        self.fc_std = torch.nn.Linear(hidden_dim, action_dim)\n",
    "        self.action_bound = action_bound\n",
    "\n",
    "    def forward(self, x):\n",
    "        x = F.relu(self.fc1(x))\n",
    "        mu = self.fc_mu(x)\n",
    "        std = F.softplus(self.fc_std(x))\n",
    "        \n",
    "        dist = Normal(mu, std)  # 构建高斯分布\n",
    "        normal_sample = dist.rsample()  # rsample()是重参数化采样\n",
    "        log_prob = dist.log_prob(normal_sample)\n",
    "        # 动作范围映射\n",
    "        action = torch.tanh(normal_sample)  # a=tanh(z) \n",
    "        action = action * self.action_bound\n",
    "        # 概率密度的变量替换\n",
    "        log_prob = log_prob - torch.log(1 - torch.tanh(action).pow(2) + 1e-7)  # 1-tanh(z)^2是tanh的导数（sech²），加1e-7避免log(0)\n",
    "        return action, log_prob\n",
    "\n",
    "\n",
    "class QValueNetContinuous(torch.nn.Module):\n",
    "    def __init__(self, state_dim, hidden_dim, action_dim):\n",
    "        super(QValueNetContinuous, self).__init__()\n",
    "        self.fc1 = torch.nn.Linear(state_dim + action_dim, hidden_dim)\n",
    "        self.fc2 = torch.nn.Linear(hidden_dim, hidden_dim)\n",
    "        self.fc_out = torch.nn.Linear(hidden_dim, 1)\n",
    "\n",
    "    def forward(self, x, a):\n",
    "        cat = torch.cat([x, a], dim=1)\n",
    "        x = F.relu(self.fc1(cat))\n",
    "        x = F.relu(self.fc2(x))\n",
    "        return self.fc_out(x)"
   ],
   "metadata": {
    "collapsed": false,
    "ExecuteTime": {
     "end_time": "2025-08-25T07:43:28.958406700Z",
     "start_time": "2025-08-25T07:43:28.899044800Z"
    }
   },
   "id": "1295676e1952fb36"
  },
  {
   "cell_type": "markdown",
   "source": [
    "*定义 **SAC** 算法（连续动作）：*"
   ],
   "metadata": {
    "collapsed": false
   },
   "id": "fb5de50314106cab"
  },
  {
   "cell_type": "code",
   "execution_count": null,
   "outputs": [],
   "source": [
    "class SACContinuous:\n",
    "    \"\"\" 处理连续动作空间 \"\"\"\n",
    "    def __init__(self, state_dim, hidden_dim, action_dim, action_bound,\n",
    "                 actor_lr, critic_lr, alpha_lr, target_entropy, tau, gamma,\n",
    "                 device):\n",
    "        self.actor = PolicyNetContinuous(state_dim, hidden_dim, action_dim, action_bound).to(device)  # 策略网络\n",
    "        # 双Q网络\n",
    "        self.critic_1 = QValueNetContinuous(state_dim, hidden_dim, action_dim).to(device)  # 第一个Q网络\n",
    "        self.critic_2 = QValueNetContinuous(state_dim, hidden_dim, action_dim).to(device)  # 第二个Q网络\n",
    "        self.target_critic_1 = QValueNetContinuous(state_dim, hidden_dim, action_dim).to(device)  # 第一个目标Q网络\n",
    "        self.target_critic_2 = QValueNetContinuous(state_dim, hidden_dim, action_dim).to(device)  # 第二个目标Q网络\n",
    "        # 令目标Q网络的初始参数和Q网络一样\n",
    "        self.target_critic_1.load_state_dict(self.critic_1.state_dict())\n",
    "        self.target_critic_2.load_state_dict(self.critic_2.state_dict())\n",
    "        \n",
    "        self.actor_optimizer = torch.optim.Adam(self.actor.parameters(), lr=actor_lr)\n",
    "        self.critic_1_optimizer = torch.optim.Adam(self.critic_1.parameters(), lr=critic_lr)\n",
    "        self.critic_2_optimizer = torch.optim.Adam(self.critic_2.parameters(), lr=critic_lr)\n",
    "        \n",
    "        # 使用温度参数alpha的log值,可以确保 α 永远是正数,使训练结果比较稳定\n",
    "        self.log_alpha = torch.tensor(np.log(0.01), dtype=torch.float)\n",
    "        self.log_alpha.requires_grad = True  # 可以对alpha求梯度\n",
    "        self.log_alpha_optimizer = torch.optim.Adam([self.log_alpha], lr=alpha_lr)\n",
    "        \n",
    "        self.target_entropy = target_entropy  # 目标熵的大小\n",
    "        self.gamma = gamma\n",
    "        self.tau = tau  # 软更新步长\n",
    "        self.device = device\n",
    "\n",
    "    def take_action(self, state):\n",
    "        state = torch.tensor(np.array([state]), dtype=torch.float).to(self.device)\n",
    "        action = self.actor(state)[0]\n",
    "        return [action.item()]\n",
    "    \n",
    "    # 计算目标Q值\n",
    "    def calc_target(self, rewards, next_states, dones):  # 计算目标Q值\n",
    "        next_actions, log_prob = self.actor(next_states)\n",
    "        entropy = -log_prob  # 连续动作熵用动作采样的负对数概率近似\n",
    "        q1_value = self.target_critic_1(next_states, next_actions)\n",
    "        q2_value = self.target_critic_2(next_states, next_actions)\n",
    "        next_value = torch.min(q1_value,q2_value) + self.log_alpha.exp() * entropy\n",
    "        td_target = rewards + self.gamma * next_value * (1 - dones)\n",
    "        return td_target\n",
    "    \n",
    "    # DDPG中的软更新\n",
    "    def soft_update(self, net, target_net):\n",
    "        for param_target, param in zip(target_net.parameters(), net.parameters()):\n",
    "            param_target.data.copy_(param_target.data * (1.0 - self.tau) + param.data * self.tau)\n",
    "\n",
    "    def update(self, transition_dict):\n",
    "        states = torch.tensor(transition_dict['states'], dtype=torch.float).to(self.device)\n",
    "        actions = torch.tensor(transition_dict['actions'], dtype=torch.float).view(-1, 1).to(self.device)\n",
    "        rewards = torch.tensor(transition_dict['rewards'], dtype=torch.float).view(-1, 1).to(self.device)\n",
    "        next_states = torch.tensor(transition_dict['next_states'], dtype=torch.float).to(self.device)\n",
    "        dones = torch.tensor(transition_dict['dones'], dtype=torch.float).view(-1, 1).to(self.device)\n",
    "\n",
    "\n",
    "        # 更新两个Q网络\n",
    "        td_target = self.calc_target(rewards, next_states, dones)\n",
    "        critic_1_loss = torch.mean(F.mse_loss(self.critic_1(states, actions), td_target.detach()))\n",
    "        critic_2_loss = torch.mean(F.mse_loss(self.critic_2(states, actions), td_target.detach()))\n",
    "        self.critic_1_optimizer.zero_grad()\n",
    "        critic_1_loss.backward()\n",
    "        self.critic_1_optimizer.step()\n",
    "        self.critic_2_optimizer.zero_grad()\n",
    "        critic_2_loss.backward()\n",
    "        self.critic_2_optimizer.step()\n",
    "\n",
    "        # 更新策略网络\n",
    "        new_actions, log_prob = self.actor(states)\n",
    "        entropy = -log_prob  # 连续动作熵用动作采样的负对数概率近似\n",
    "        q1_value = self.critic_1(states, new_actions)\n",
    "        q2_value = self.critic_2(states, new_actions)\n",
    "        actor_loss = torch.mean(-self.log_alpha.exp() * entropy - torch.min(q1_value, q2_value))\n",
    "        self.actor_optimizer.zero_grad()\n",
    "        actor_loss.backward()\n",
    "        self.actor_optimizer.step()\n",
    "\n",
    "        # 更新alpha值\n",
    "        alpha_loss = torch.mean((entropy - self.target_entropy).detach() * self.log_alpha.exp())\n",
    "        self.log_alpha_optimizer.zero_grad()\n",
    "        alpha_loss.backward()\n",
    "        self.log_alpha_optimizer.step()\n",
    "\n",
    "        # 软更新目标Q网络\n",
    "        self.soft_update(self.critic_1, self.target_critic_1)\n",
    "        self.soft_update(self.critic_2, self.target_critic_2)"
   ],
   "metadata": {
    "collapsed": false
   },
   "id": "26bbfbe3da8b9762"
  }
 ],
 "metadata": {
  "kernelspec": {
   "display_name": "Python 3",
   "language": "python",
   "name": "python3"
  },
  "language_info": {
   "codemirror_mode": {
    "name": "ipython",
    "version": 2
   },
   "file_extension": ".py",
   "mimetype": "text/x-python",
   "name": "python",
   "nbconvert_exporter": "python",
   "pygments_lexer": "ipython2",
   "version": "2.7.6"
  }
 },
 "nbformat": 4,
 "nbformat_minor": 5
}
