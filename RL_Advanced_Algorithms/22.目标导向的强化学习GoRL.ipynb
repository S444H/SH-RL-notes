{
 "cells": [
  {
   "cell_type": "markdown",
   "source": [
    "# 22.目标导向的强化学习（goal-oriented reinforcement learning，GoRL）"
   ],
   "metadata": {
    "collapsed": false
   },
   "id": "a70c8a454b9e81ba"
  }
 ],
 "metadata": {
  "kernelspec": {
   "display_name": "Python 3",
   "language": "python",
   "name": "python3"
  },
  "language_info": {
   "codemirror_mode": {
    "name": "ipython",
    "version": 2
   },
   "file_extension": ".py",
   "mimetype": "text/x-python",
   "name": "python",
   "nbconvert_exporter": "python",
   "pygments_lexer": "ipython2",
   "version": "2.7.6"
  }
 },
 "nbformat": 4,
 "nbformat_minor": 5
}
