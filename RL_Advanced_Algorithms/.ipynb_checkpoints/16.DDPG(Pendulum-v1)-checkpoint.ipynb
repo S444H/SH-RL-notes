{
 "cells": [
  {
   "cell_type": "markdown",
   "id": "548bab84cb44a093",
   "metadata": {
    "collapsed": false,
    "jupyter": {
     "outputs_hidden": false
    }
   },
   "source": [
    "# 16.DDPG（deep deterministic policy gradient）：深度确定性策略梯度\n",
    "1. **在线策略算法** 的 **样本效率（sample efficiency）** 都比较低。 **DQN 算法** 虽然为 **离线策略学习**，但是它只能处理 **动作空间有限** 的环境，即使将动作空间离散化，但这会比较粗糙，无法精细控制。\n",
    "2. ***深度确定性策略梯度（deep deterministic policy gradient，DDPG）*** 结合了 **确定性策略梯度（Deterministic Policy Gradient, DPG）** 与 **DQN 算法** 的思想，通过构造一个 **确定性策略**，来处理 **动作空间无限** 的环境并且是 **离线策略算法**。\n",
    "3. **DDPG** 也属于一种 **Actor-Critic** 算法。不过之前学习的 REINFORCE、TRPO 和 PPO 学习 **随机性策略**，而 **DDPG** 则学习一个 **确定性策略**。\n",
    "> **DDPG** 最早由 **Google DeepMind** 于 2015 年在 [Continuous control with deep reinforcement learning](https://arxiv.org/abs/1509.02971#) 中提出，主要用于解决传统 DQN **不能处理连续动作空间** 的问题"
   ]
  },
  {
   "cell_type": "markdown",
   "id": "2f370ce3b4b80d56",
   "metadata": {
    "collapsed": false,
    "jupyter": {
     "outputs_hidden": false
    }
   },
   "source": [
    "## 16.1 DDPG 算法原理"
   ]
  },
  {
   "cell_type": "markdown",
   "id": "cc309812584c84c9",
   "metadata": {
    "collapsed": false,
    "jupyter": {
     "outputs_hidden": false
    }
   },
   "source": [
    "### 确定性策略梯度定理\n",
    "> 传统**策略梯度方法（PG）** ：\n",
    "$$J(\\theta)=\\mathbb{E}_{s\\sim\\nu^\\pi,a\\sim\\pi_\\theta}\n",
    "\\begin{bmatrix}\n",
    "R\n",
    "\\end{bmatrix}$$\n",
    "> 策略是 **随机性** 的，计算需要依赖于 **概率性动作分布：$a\\sim\\pi_{\\theta}(\\cdot|s)$**，这在面对 **连续动作空间** 时变得非常复杂\n",
    "> **确定性策略梯度定理（Deterministic Policy Gradient Theorem, DPG 定理）** 假设有一个 **确定性策略 $\\mu$**，**直接输出动作：$a=\\mu_\\theta(s)$**，而不是动作的概率分布：$a\\sim\\pi_{\\theta}(\\cdot|s)$\n",
    "> 此时：\n",
    "$$J(\\mu_\\theta)=\\int_{\\mathcal{S}}\\nu^{\\mu_\\theta}(s)r(s,\\mu_\\theta(s))\\mathrm{d}s=\\mathbb{E}_{s\\sim\\nu^{\\mu_\\theta}}[r(s,\\mu_\\theta(s))]$$\n",
    "> 可以避免计算**概率分布**的导数，简化梯度计算过程\n",
    "> **离线策略形式**：\n",
    "$$J(\\theta)=\\int_{\\mathcal{S}}\\nu^{\\pi_\\beta} V^{\\mu_\\theta}(s)\\mathrm{d}s=\\int_{\\mathcal{S}}\\nu^{\\pi_\\beta} Q^{\\mu_\\theta}(s,\\mu_\\theta(s))\\mathrm{d}s=\\mathbb{E}_{s\\sim\\nu^{\\pi_\\beta}}\n",
    "\\begin{bmatrix}\n",
    "Q^{\\mu_\\theta}(s,a)|_{a=\\mu_\\theta(s)}\n",
    "\\end{bmatrix}$$\n",
    "- $\\pi_{\\beta}$是用来收集数据的行为策略\n",
    "> 其 **梯度** 为（证明过程与 **策略梯度定理** 相似，详细证明过程可看原始论文[Deterministic Policy Gradient Algorithms](https://proceedings.mlr.press/v32/silver14.pdf)）：\n",
    "$$\\nabla_\\theta J(\\pi_\\theta)=\\mathbb{E}_{s\\sim\\nu^{\\pi_\\beta}}\n",
    "\\begin{bmatrix}\n",
    "\\nabla_\\theta\\mu_\\theta(s)\\nabla_aQ_\\omega^{\\mu_\\theta}(s,a)|_{a=\\mu_\\theta(s)}\n",
    "\\end{bmatrix}$$\n",
    "- 可见，$Q_\\omega$ 就是**Critic**，$\\mu_\\theta$ 就是**Actor**，这是一个 **Actor-Critic** 的框架"
   ]
  },
  {
   "cell_type": "markdown",
   "id": "1f2c957243d894dc",
   "metadata": {
    "collapsed": false,
    "jupyter": {
     "outputs_hidden": false
    }
   },
   "source": [
    "### DDPG 中的目标网络\n",
    "> **DDPG** 要用到4个神经网络，其中 **Actor** 和 **Critic** 各用一个网络，此外还有各自对应的： **目标网络**$\\mu_{\\theta^{\\prime}}$ 和 $Q_{\\omega^{\\prime}}$（为了 **稳定性**）\n",
    "> **DDPG** 中目标网络的更新与 **DQN** 中略有不同：在 **DQN** 中，**每隔一段时间**将网络**直接复制**给目标网络；而在 **DDPG** 中，目标网络的更新采取的是一种 **软更新（soft update）** 的方式，即让 **目标网络** 缓慢更新，逐渐接近 **主网络**：\n",
    "\n",
    "$$\\theta^{\\prime}\\leftarrow\\tau\\theta+(1-\\tau)\\theta^{\\prime}$$\n",
    "$$[\\omega^{\\prime}\\leftarrow\\tau\\omega+(1-\\tau)\\omega^{\\prime}]$$\n",
    "\n",
    "- $\\theta^{\\prime}$ 是 **目标网络** 的参数\n",
    "- $\\theta$ 是 **主网络** 的参数\n",
    "- $\\tau$是 **软更新** 的步长，一般设置为一个小的值，如 0.001\n"
   ]
  },
  {
   "cell_type": "markdown",
   "id": "e628c06a8ef0a8f5",
   "metadata": {
    "collapsed": false,
    "jupyter": {
     "outputs_hidden": false
    }
   },
   "source": [
    "### 其他细节\n",
    "1. 由于 Q函数 存在 **值过高估计** 的问题，**DDPG** 采用了 **Double DQN** 中的技术来更新网络\n",
    "2. 由于 **DDPG** 使用的是 **确定性策略**，即每个状态下都会输出一个确定的动作，这可能会导致模型在训练过程中过度依赖当前策略而陷入 **局部最优解**，缺乏多样性和探索。因此，引入 **随机噪声（Random Noise）$\\mathcal{N}$** 来鼓励探索（常用的噪声类型包括 **Ornstein-Uhlenbeck 噪声** 和 **高斯噪声**）：\n",
    "\n",
    "$$a_t=\\mu(s_t)+\\mathcal{N}_t$$\n",
    "> **DDPG** 最常用的噪声（原始论文）是 **Ornstein-Uhlenbeck 噪声（OU 噪声）** ，适用于连续控制任务，能够生成 **平滑的、具有时序相关性** 的噪声，适合连续动作空间中的探索：\n",
    "$$x_{t+1}=\\theta(\\mu-x_t)+\\sigma\\cdot\\mathcal{N}(0,1)$$\n",
    "\n",
    "- $\\mu$是噪声的均值 (通常为0)\n",
    "- $\\theta$是回归速率，控制噪声回归到均值的速度\n",
    "- $\\sigma$是噪声的强度，控制噪声的幅度\n",
    "- $\\mathcal{N}(0,1)$是标准正态分布噪声\n",
    "- 表现为向均值靠拢，适用于有惯性的系统\n",
    "\n",
    "> **高斯噪声** 适用于简单的任务，生成方式非常简单，但在连续空间中通常不如 **OU 噪声** 平滑：\n",
    "$$a_t=\\mu(s_t)+\\mathcal{N}(0,\\sigma)$$\n",
    "\n",
    "- $a_t$是动作，$\\mu(s_t)$是从 Actor 网络输出的动作，$\\mathcal{N}(0,\\sigma)$是从标准正态分布中生成的噪声"
   ]
  },
  {
   "cell_type": "markdown",
   "id": "f7ccb5e2b19de641",
   "metadata": {
    "collapsed": false,
    "jupyter": {
     "outputs_hidden": false
    }
   },
   "source": [
    "## 16.2 DDPG 代码实践（Pendulum-v1）\n",
    "\n",
    "#### DDPG 算法伪代码：\n",
    "\n",
    "##### 初始化\n",
    "- 初始化 Actor 网络和 Critic 网络\n",
    "- 初始化目标网络 (Actor_target, Critic_target)\n",
    "- 初始化经验回放缓冲区\n",
    "\n",
    "##### 每个训练回合\n",
    "1. 初始化状态 `s`\n",
    "\n",
    "2. **每个时间步 `t`**：\n",
    "   - 使用 Actor 网络选择动作 `a`，并加上探索噪声：`a = actor(s) + 噪声`\n",
    "   - 执行动作 `a`，观察下一个状态 `s'` 和奖励 `r`\n",
    "   - 将经验 `(s, a, r, s')` 存储到经验回放缓冲区\n",
    "\n",
    "3. **从经验回放中采样一批数据**：\n",
    "   - 从回放缓冲区中随机采样：`(s_batch, a_batch, r_batch, s'_batch)`\n",
    "\n",
    "4. **更新 Critic 网络**：\n",
    "   - 计算目标 Q 值：`y = r_batch + gamma * critic_target(s'_batch, actor_target(s'_batch))`\n",
    "   - 最小化误差：`Q(s, a) - y`，更新 Critic 网络\n",
    "\n",
    "5. **更新 Actor 网络**：\n",
    "   - 计算策略梯度：`∇_a Q(s, a)` 的梯度\n",
    "   - 使用策略梯度更新 Actor 网络参数\n",
    "\n",
    "6. **软更新目标网络**：\n",
    "   - 使用软更新公式：`目标网络参数 = tau * 当前网络参数 + (1 - tau) * 目标网络参数`\n",
    "\n",
    "##### end\n"
   ]
  },
  {
   "cell_type": "markdown",
   "id": "26e2eaaa5368f736",
   "metadata": {
    "collapsed": false,
    "jupyter": {
     "outputs_hidden": false
    }
   },
   "source": [
    "导入相关库："
   ]
  },
  {
   "cell_type": "code",
   "execution_count": 1,
   "id": "bdf835599ed40595",
   "metadata": {
    "ExecuteTime": {
     "end_time": "2025-08-09T09:44:28.119290500Z",
     "start_time": "2025-08-09T09:44:28.085159600Z"
    },
    "collapsed": false,
    "jupyter": {
     "outputs_hidden": false
    }
   },
   "outputs": [],
   "source": [
    "# 基本库\n",
    "import numpy as np\n",
    "\n",
    "from utils.replay_buffer import ReplayBuffer\n",
    "from utils.training import train_off_policy_agent\n",
    "from utils.smoothing import moving_average\n",
    "# 神经网络\n",
    "import torch\n",
    "import torch.nn.functional as F\n",
    "# Gymnasium 是一个用于开发和测试强化学习算法的工具库，为 OpenAI Gym 的更新版本（2021迁移开发）\n",
    "import gymnasium as gym"
   ]
  },
  {
   "cell_type": "markdown",
   "id": "54afc16efaef12b4",
   "metadata": {
    "collapsed": false,
    "jupyter": {
     "outputs_hidden": false
    }
   },
   "source": [
    "### 定义策略网络和价值网络:\n",
    "\n",
    "- 一层隐藏层\n",
    "- **策略网络** 的输出层用正切函数$(y=\\tanh x)$作为激活函数，值域是[-1,1]，方便按比例调整成环境可以接受的动作范围\n",
    "- **$Q$网络** 的输入是状态和动作拼接后的向量，**$Q$网络** 的输出是一个值，表示该状态动作对的价值。"
   ]
  },
  {
   "cell_type": "code",
   "execution_count": 2,
   "id": "8689a135512a01c9",
   "metadata": {
    "collapsed": false,
    "jupyter": {
     "outputs_hidden": false
    }
   },
   "outputs": [],
   "source": [
    "class PolicyNet(torch.nn.Module):\n",
    "    def __init__(self, state_dim, hidden_dim, action_dim, action_bound):\n",
    "        super(PolicyNet, self).__init__()\n",
    "        self.fc1 = torch.nn.Linear(state_dim, hidden_dim)\n",
    "        self.fc2 = torch.nn.Linear(hidden_dim, action_dim)\n",
    "        self.action_bound = action_bound  # action_bound是环境可以接受的动作最大值\n",
    "\n",
    "    def forward(self, x):\n",
    "        x = F.relu(self.fc1(x))\n",
    "        return torch.tanh(self.fc2(x)) * self.action_bound\n",
    "\n",
    "\n",
    "class QValueNet(torch.nn.Module):\n",
    "    def __init__(self, state_dim, hidden_dim, action_dim):\n",
    "        super(QValueNet, self).__init__()\n",
    "        self.fc1 = torch.nn.Linear(state_dim + action_dim, hidden_dim)\n",
    "        self.fc2 = torch.nn.Linear(hidden_dim, hidden_dim)\n",
    "        self.fc_out = torch.nn.Linear(hidden_dim, 1)\n",
    "\n",
    "    def forward(self, x, a):\n",
    "        cat = torch.cat([x, a], dim=1) # 拼接状态和动作\n",
    "        x = F.relu(self.fc1(cat))\n",
    "        x = F.relu(self.fc2(x))\n",
    "        return self.fc_out(x)"
   ]
  },
  {
   "cell_type": "markdown",
   "id": "c04671fddc58236f",
   "metadata": {
    "collapsed": false,
    "jupyter": {
     "outputs_hidden": false
    }
   },
   "source": [
    "### 定义 DDPG 算法：\n",
    "> 使用 **高斯噪音**"
   ]
  },
  {
   "cell_type": "code",
   "execution_count": 3,
   "id": "99a0b7e5499f2b83",
   "metadata": {
    "collapsed": false,
    "jupyter": {
     "outputs_hidden": false
    }
   },
   "outputs": [],
   "source": [
    "class DDPG:\n",
    "    def __init__(self, state_dim, hidden_dim, action_dim, action_bound, sigma, actor_lr, critic_lr, tau, gamma, device):\n",
    "        \n",
    "        self.actor = PolicyNet(state_dim, hidden_dim, action_dim, action_bound).to(device)\n",
    "        self.critic = QValueNet(state_dim, hidden_dim, action_dim).to(device)\n",
    "        self.target_actor = PolicyNet(state_dim, hidden_dim, action_dim, action_bound).to(device)\n",
    "        self.target_critic = QValueNet(state_dim, hidden_dim, action_dim).to(device)\n",
    "        \n",
    "        # 初始化目标网络并设置和主网络相同的参数\n",
    "        self.target_critic.load_state_dict(self.critic.state_dict())\n",
    "        self.target_actor.load_state_dict(self.actor.state_dict())\n",
    "        \n",
    "        self.actor_optimizer = torch.optim.Adam(self.actor.parameters(), lr=actor_lr)\n",
    "        self.critic_optimizer = torch.optim.Adam(self.critic.parameters(), lr=critic_lr)\n",
    "        \n",
    "        self.gamma = gamma\n",
    "        self.sigma = sigma  # 高斯噪声的标准差设为0\n",
    "        self.tau = tau  # 目标网络软更新参数\n",
    "        self.action_dim = action_dim\n",
    "        self.device = device\n",
    "\n",
    "    def take_action(self, state):\n",
    "        state = torch.tensor(np.array([state]), dtype=torch.float).to(self.device)\n",
    "        action = self.actor(state).item()\n",
    "        # 给动作添加噪声，增加探索\n",
    "        action = action + self.sigma * np.random.randn(self.action_dim)\n",
    "        return action\n",
    "\n",
    "    # 软更新\n",
    "    def soft_update(self, net, target_net):\n",
    "        for param_target, param in zip(target_net.parameters(), net.parameters()):\n",
    "            param_target.data.copy_(param_target.data * (1.0 - self.tau) + param.data * self.tau)\n",
    "\n",
    "    def update(self, transition_dict):\n",
    "        \n",
    "        states = torch.tensor(transition_dict['states'], dtype=torch.float).to(self.device)\n",
    "        actions = torch.tensor(transition_dict['actions'], dtype=torch.float).view(-1, 1).to(self.device)\n",
    "        rewards = torch.tensor(transition_dict['rewards'], dtype=torch.float).view(-1, 1).to(self.device)\n",
    "        next_states = torch.tensor(transition_dict['next_states'], dtype=torch.float).to(self.device)\n",
    "        dones = torch.tensor(transition_dict['dones'], dtype=torch.float).view(-1, 1).to(self.device)\n",
    "\n",
    "\n",
    "        next_q_values = self.target_critic(next_states, self.target_actor(next_states))\n",
    "        q_targets = rewards + self.gamma * next_q_values * (1 - dones)\n",
    "        \n",
    "        critic_loss = torch.mean(F.mse_loss(self.critic(states, actions), q_targets))\n",
    "        self.critic_optimizer.zero_grad()\n",
    "        critic_loss.backward()\n",
    "        self.critic_optimizer.step()\n",
    "\n",
    "        actor_loss = -torch.mean(self.critic(states, self.actor(states)))\n",
    "        self.actor_optimizer.zero_grad()\n",
    "        actor_loss.backward()\n",
    "        self.actor_optimizer.step()\n",
    "\n",
    "        self.soft_update(self.actor, self.target_actor)  # 软更新策略网络\n",
    "        self.soft_update(self.critic, self.target_critic)  # 软更新价值网络"
   ]
  },
  {
   "cell_type": "markdown",
   "id": "6e2d1617e62bae6f",
   "metadata": {
    "collapsed": false,
    "jupyter": {
     "outputs_hidden": false
    }
   },
   "source": [
    "### 环境设置（'Pendulum-v1'）："
   ]
  },
  {
   "cell_type": "code",
   "execution_count": 4,
   "id": "316d5957b1e0e832",
   "metadata": {
    "collapsed": false,
    "jupyter": {
     "outputs_hidden": false
    }
   },
   "outputs": [
    {
     "name": "stdout",
     "output_type": "stream",
     "text": [
      "Environment spec: EnvSpec(id='Pendulum-v1', entry_point='gymnasium.envs.classic_control.pendulum:PendulumEnv', reward_threshold=None, nondeterministic=False, max_episode_steps=200, order_enforce=True, disable_env_checker=False, kwargs={}, namespace=None, name='Pendulum', version=1, additional_wrappers=(), vector_entry_point=None)\n"
     ]
    }
   ],
   "source": [
    "np.random.seed(0)    # 设置 NumPy 的随机种子\n",
    "torch.manual_seed(0) # 设置 PyTorch CPU 随机种子\n",
    "torch.cuda.manual_seed_all(0) # 设置 PyTorch GPU 随机种子, 由于GPU并行性, 只能极大减小偏差\n",
    "\n",
    "env_name = 'Pendulum-v1'\n",
    "env = gym.make(env_name)\n",
    "env.reset(seed=0)   # 环境通常依赖于其他随机数生成器来初始化状态、进行探索(推荐位于以上随机之后)\n",
    "print(\"Environment spec:\", env.spec)"
   ]
  },
  {
   "cell_type": "markdown",
   "id": "d8b78948b2e9a8c3",
   "metadata": {
    "collapsed": false,
    "jupyter": {
     "outputs_hidden": false
    }
   },
   "source": [
    "### 超参数设置："
   ]
  },
  {
   "cell_type": "code",
   "execution_count": 5,
   "id": "9be8be1b0bd97946",
   "metadata": {
    "collapsed": false,
    "jupyter": {
     "outputs_hidden": false
    }
   },
   "outputs": [],
   "source": [
    "state_dim = env.observation_space.shape[0]\n",
    "action_dim = env.action_space.shape[0]  # 连续动作空间\n",
    "action_bound = env.action_space.high[0]  # 动作最大值\n",
    "hidden_dim = 64\n",
    "\n",
    "actor_lr = 3e-4\n",
    "critic_lr = 3e-3\n",
    "tau = 0.005  # 软更新参数\n",
    "gamma = 0.98\n",
    "sigma = 0.01  # 高斯噪声标准差\n",
    "device = torch.device(\"cuda\") if torch.cuda.is_available() else torch.device( \"cpu\")\n",
    "\n",
    "buffer_size = 10000\n",
    "minimal_size = 1000\n",
    "batch_size = 64\n",
    "replay_buffer = ReplayBuffer(buffer_size)\n",
    "\n",
    "agent = DDPG(state_dim, hidden_dim, action_dim, action_bound, sigma, actor_lr, critic_lr, tau, gamma, device)\n",
    "\n",
    "num_episodes = 200"
   ]
  },
  {
   "cell_type": "markdown",
   "id": "7628332618adbb03",
   "metadata": {
    "collapsed": false,
    "jupyter": {
     "outputs_hidden": false
    }
   },
   "source": [
    "### 测试与训练:"
   ]
  },
  {
   "cell_type": "code",
   "execution_count": 6,
   "id": "8b7deea2a9769176",
   "metadata": {
    "collapsed": false,
    "jupyter": {
     "outputs_hidden": false
    }
   },
   "outputs": [
    {
     "name": "stderr",
     "output_type": "stream",
     "text": [
      "Iteration 0: 100%|██████████| 20/20 [00:34<00:00,  1.71s/it, episode=20, return=-1171.333]\n",
      "Iteration 1: 100%|██████████| 20/20 [00:42<00:00,  2.14s/it, episode=40, return=-129.897]\n",
      "Iteration 2: 100%|██████████| 20/20 [00:41<00:00,  2.08s/it, episode=60, return=-159.819]\n",
      "Iteration 3: 100%|██████████| 20/20 [00:46<00:00,  2.35s/it, episode=80, return=-202.533]\n",
      "Iteration 4: 100%|██████████| 20/20 [00:45<00:00,  2.25s/it, episode=100, return=-250.167]\n",
      "Iteration 5: 100%|██████████| 20/20 [00:40<00:00,  2.04s/it, episode=120, return=-136.753]\n",
      "Iteration 6: 100%|██████████| 20/20 [00:40<00:00,  2.04s/it, episode=140, return=-134.645]\n",
      "Iteration 7: 100%|██████████| 20/20 [00:40<00:00,  2.01s/it, episode=160, return=-127.713]\n",
      "Iteration 8: 100%|██████████| 20/20 [00:40<00:00,  2.04s/it, episode=180, return=-315.562]\n",
      "Iteration 9: 100%|██████████| 20/20 [00:40<00:00,  2.02s/it, episode=200, return=-171.222]\n"
     ]
    }
   ],
   "source": [
    "return_list = train_off_policy_agent(env, agent, num_episodes, replay_buffer, minimal_size, batch_size)"
   ]
  },
  {
   "cell_type": "markdown",
   "id": "3046c3118a5aa7a7",
   "metadata": {
    "collapsed": false,
    "jupyter": {
     "outputs_hidden": false
    }
   },
   "source": [
    "### 绘图："
   ]
  },
  {
   "cell_type": "code",
   "execution_count": 7,
   "id": "27c6e4173d440973",
   "metadata": {
    "collapsed": false,
    "jupyter": {
     "outputs_hidden": false
    }
   },
   "outputs": [],
   "source": [
    "import pandas as pd\n",
    "episodes_list = list(range(len(return_list)))\n",
    "mv_return = moving_average(return_list, 9)\n",
    "# 创建 DataFrame\n",
    "df1 = pd.DataFrame({'Episodes': episodes_list, 'Returns': return_list})\n",
    "df2 = pd.DataFrame({'Episodes': episodes_list, 'Returns': mv_return})\n",
    "# 保存为 CSV 文件\n",
    "df1.to_csv('DDPG_Pendulum-v1_returns_data.csv', index=False)\n",
    "df2.to_csv('DDPG_Pendulum-v1_mv_returns_data.csv', index=False)"
   ]
  },
  {
   "cell_type": "code",
   "execution_count": 10,
   "id": "771d372ff148854c",
   "metadata": {
    "collapsed": false,
    "jupyter": {
     "outputs_hidden": false
    }
   },
   "outputs": [
    {
     "data": {
      "application/vnd.plotly.v1+json": {
       "config": {
        "plotlyServerURL": "https://plot.ly"
       },
       "data": [
        {
         "mode": "lines",
         "name": "Returns",
         "type": "scatter",
         "x": {
          "bdata": "AAABAAIAAwAEAAUABgAHAAgACQAKAAsADAANAA4ADwAQABEAEgATABQAFQAWABcAGAAZABoAGwAcAB0AHgAfACAAIQAiACMAJAAlACYAJwAoACkAKgArACwALQAuAC8AMAAxADIAMwA0ADUANgA3ADgAOQA6ADsAPAA9AD4APwBAAEEAQgBDAEQARQBGAEcASABJAEoASwBMAE0ATgBPAFAAUQBSAFMAVABVAFYAVwBYAFkAWgBbAFwAXQBeAF8AYABhAGIAYwBkAGUAZgBnAGgAaQBqAGsAbABtAG4AbwBwAHEAcgBzAHQAdQB2AHcAeAB5AHoAewB8AH0AfgB/AIAAgQCCAIMAhACFAIYAhwCIAIkAigCLAIwAjQCOAI8AkACRAJIAkwCUAJUAlgCXAJgAmQCaAJsAnACdAJ4AnwCgAKEAogCjAKQApQCmAKcAqACpAKoAqwCsAK0ArgCvALAAsQCyALMAtAC1ALYAtwC4ALkAugC7ALwAvQC+AL8AwADBAMIAwwDEAMUAxgDHAA==",
          "dtype": "i2"
         },
         "y": {
          "bdata": "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",
          "dtype": "f8"
         }
        }
       ],
       "layout": {
        "showlegend": true,
        "template": {
         "data": {
          "bar": [
           {
            "error_x": {
             "color": "#2a3f5f"
            },
            "error_y": {
             "color": "#2a3f5f"
            },
            "marker": {
             "line": {
              "color": "#E5ECF6",
              "width": 0.5
             },
             "pattern": {
              "fillmode": "overlay",
              "size": 10,
              "solidity": 0.2
             }
            },
            "type": "bar"
           }
          ],
          "barpolar": [
           {
            "marker": {
             "line": {
              "color": "#E5ECF6",
              "width": 0.5
             },
             "pattern": {
              "fillmode": "overlay",
              "size": 10,
              "solidity": 0.2
             }
            },
            "type": "barpolar"
           }
          ],
          "carpet": [
           {
            "aaxis": {
             "endlinecolor": "#2a3f5f",
             "gridcolor": "white",
             "linecolor": "white",
             "minorgridcolor": "white",
             "startlinecolor": "#2a3f5f"
            },
            "baxis": {
             "endlinecolor": "#2a3f5f",
             "gridcolor": "white",
             "linecolor": "white",
             "minorgridcolor": "white",
             "startlinecolor": "#2a3f5f"
            },
            "type": "carpet"
           }
          ],
          "choropleth": [
           {
            "colorbar": {
             "outlinewidth": 0,
             "ticks": ""
            },
            "type": "choropleth"
           }
          ],
          "contour": [
           {
            "colorbar": {
             "outlinewidth": 0,
             "ticks": ""
            },
            "colorscale": [
             [
              0,
              "#0d0887"
             ],
             [
              0.1111111111111111,
              "#46039f"
             ],
             [
              0.2222222222222222,
              "#7201a8"
             ],
             [
              0.3333333333333333,
              "#9c179e"
             ],
             [
              0.4444444444444444,
              "#bd3786"
             ],
             [
              0.5555555555555556,
              "#d8576b"
             ],
             [
              0.6666666666666666,
              "#ed7953"
             ],
             [
              0.7777777777777778,
              "#fb9f3a"
             ],
             [
              0.8888888888888888,
              "#fdca26"
             ],
             [
              1,
              "#f0f921"
             ]
            ],
            "type": "contour"
           }
          ],
          "contourcarpet": [
           {
            "colorbar": {
             "outlinewidth": 0,
             "ticks": ""
            },
            "type": "contourcarpet"
           }
          ],
          "heatmap": [
           {
            "colorbar": {
             "outlinewidth": 0,
             "ticks": ""
            },
            "colorscale": [
             [
              0,
              "#0d0887"
             ],
             [
              0.1111111111111111,
              "#46039f"
             ],
             [
              0.2222222222222222,
              "#7201a8"
             ],
             [
              0.3333333333333333,
              "#9c179e"
             ],
             [
              0.4444444444444444,
              "#bd3786"
             ],
             [
              0.5555555555555556,
              "#d8576b"
             ],
             [
              0.6666666666666666,
              "#ed7953"
             ],
             [
              0.7777777777777778,
              "#fb9f3a"
             ],
             [
              0.8888888888888888,
              "#fdca26"
             ],
             [
              1,
              "#f0f921"
             ]
            ],
            "type": "heatmap"
           }
          ],
          "histogram": [
           {
            "marker": {
             "pattern": {
              "fillmode": "overlay",
              "size": 10,
              "solidity": 0.2
             }
            },
            "type": "histogram"
           }
          ],
          "histogram2d": [
           {
            "colorbar": {
             "outlinewidth": 0,
             "ticks": ""
            },
            "colorscale": [
             [
              0,
              "#0d0887"
             ],
             [
              0.1111111111111111,
              "#46039f"
             ],
             [
              0.2222222222222222,
              "#7201a8"
             ],
             [
              0.3333333333333333,
              "#9c179e"
             ],
             [
              0.4444444444444444,
              "#bd3786"
             ],
             [
              0.5555555555555556,
              "#d8576b"
             ],
             [
              0.6666666666666666,
              "#ed7953"
             ],
             [
              0.7777777777777778,
              "#fb9f3a"
             ],
             [
              0.8888888888888888,
              "#fdca26"
             ],
             [
              1,
              "#f0f921"
             ]
            ],
            "type": "histogram2d"
           }
          ],
          "histogram2dcontour": [
           {
            "colorbar": {
             "outlinewidth": 0,
             "ticks": ""
            },
            "colorscale": [
             [
              0,
              "#0d0887"
             ],
             [
              0.1111111111111111,
              "#46039f"
             ],
             [
              0.2222222222222222,
              "#7201a8"
             ],
             [
              0.3333333333333333,
              "#9c179e"
             ],
             [
              0.4444444444444444,
              "#bd3786"
             ],
             [
              0.5555555555555556,
              "#d8576b"
             ],
             [
              0.6666666666666666,
              "#ed7953"
             ],
             [
              0.7777777777777778,
              "#fb9f3a"
             ],
             [
              0.8888888888888888,
              "#fdca26"
             ],
             [
              1,
              "#f0f921"
             ]
            ],
            "type": "histogram2dcontour"
           }
          ],
          "mesh3d": [
           {
            "colorbar": {
             "outlinewidth": 0,
             "ticks": ""
            },
            "type": "mesh3d"
           }
          ],
          "parcoords": [
           {
            "line": {
             "colorbar": {
              "outlinewidth": 0,
              "ticks": ""
             }
            },
            "type": "parcoords"
           }
          ],
          "pie": [
           {
            "automargin": true,
            "type": "pie"
           }
          ],
          "scatter": [
           {
            "fillpattern": {
             "fillmode": "overlay",
             "size": 10,
             "solidity": 0.2
            },
            "type": "scatter"
           }
          ],
          "scatter3d": [
           {
            "line": {
             "colorbar": {
              "outlinewidth": 0,
              "ticks": ""
             }
            },
            "marker": {
             "colorbar": {
              "outlinewidth": 0,
              "ticks": ""
             }
            },
            "type": "scatter3d"
           }
          ],
          "scattercarpet": [
           {
            "marker": {
             "colorbar": {
              "outlinewidth": 0,
              "ticks": ""
             }
            },
            "type": "scattercarpet"
           }
          ],
          "scattergeo": [
           {
            "marker": {
             "colorbar": {
              "outlinewidth": 0,
              "ticks": ""
             }
            },
            "type": "scattergeo"
           }
          ],
          "scattergl": [
           {
            "marker": {
             "colorbar": {
              "outlinewidth": 0,
              "ticks": ""
             }
            },
            "type": "scattergl"
           }
          ],
          "scattermap": [
           {
            "marker": {
             "colorbar": {
              "outlinewidth": 0,
              "ticks": ""
             }
            },
            "type": "scattermap"
           }
          ],
          "scattermapbox": [
           {
            "marker": {
             "colorbar": {
              "outlinewidth": 0,
              "ticks": ""
             }
            },
            "type": "scattermapbox"
           }
          ],
          "scatterpolar": [
           {
            "marker": {
             "colorbar": {
              "outlinewidth": 0,
              "ticks": ""
             }
            },
            "type": "scatterpolar"
           }
          ],
          "scatterpolargl": [
           {
            "marker": {
             "colorbar": {
              "outlinewidth": 0,
              "ticks": ""
             }
            },
            "type": "scatterpolargl"
           }
          ],
          "scatterternary": [
           {
            "marker": {
             "colorbar": {
              "outlinewidth": 0,
              "ticks": ""
             }
            },
            "type": "scatterternary"
           }
          ],
          "surface": [
           {
            "colorbar": {
             "outlinewidth": 0,
             "ticks": ""
            },
            "colorscale": [
             [
              0,
              "#0d0887"
             ],
             [
              0.1111111111111111,
              "#46039f"
             ],
             [
              0.2222222222222222,
              "#7201a8"
             ],
             [
              0.3333333333333333,
              "#9c179e"
             ],
             [
              0.4444444444444444,
              "#bd3786"
             ],
             [
              0.5555555555555556,
              "#d8576b"
             ],
             [
              0.6666666666666666,
              "#ed7953"
             ],
             [
              0.7777777777777778,
              "#fb9f3a"
             ],
             [
              0.8888888888888888,
              "#fdca26"
             ],
             [
              1,
              "#f0f921"
             ]
            ],
            "type": "surface"
           }
          ],
          "table": [
           {
            "cells": {
             "fill": {
              "color": "#EBF0F8"
             },
             "line": {
              "color": "white"
             }
            },
            "header": {
             "fill": {
              "color": "#C8D4E3"
             },
             "line": {
              "color": "white"
             }
            },
            "type": "table"
           }
          ]
         },
         "layout": {
          "annotationdefaults": {
           "arrowcolor": "#2a3f5f",
           "arrowhead": 0,
           "arrowwidth": 1
          },
          "autotypenumbers": "strict",
          "coloraxis": {
           "colorbar": {
            "outlinewidth": 0,
            "ticks": ""
           }
          },
          "colorscale": {
           "diverging": [
            [
             0,
             "#8e0152"
            ],
            [
             0.1,
             "#c51b7d"
            ],
            [
             0.2,
             "#de77ae"
            ],
            [
             0.3,
             "#f1b6da"
            ],
            [
             0.4,
             "#fde0ef"
            ],
            [
             0.5,
             "#f7f7f7"
            ],
            [
             0.6,
             "#e6f5d0"
            ],
            [
             0.7,
             "#b8e186"
            ],
            [
             0.8,
             "#7fbc41"
            ],
            [
             0.9,
             "#4d9221"
            ],
            [
             1,
             "#276419"
            ]
           ],
           "sequential": [
            [
             0,
             "#0d0887"
            ],
            [
             0.1111111111111111,
             "#46039f"
            ],
            [
             0.2222222222222222,
             "#7201a8"
            ],
            [
             0.3333333333333333,
             "#9c179e"
            ],
            [
             0.4444444444444444,
             "#bd3786"
            ],
            [
             0.5555555555555556,
             "#d8576b"
            ],
            [
             0.6666666666666666,
             "#ed7953"
            ],
            [
             0.7777777777777778,
             "#fb9f3a"
            ],
            [
             0.8888888888888888,
             "#fdca26"
            ],
            [
             1,
             "#f0f921"
            ]
           ],
           "sequentialminus": [
            [
             0,
             "#0d0887"
            ],
            [
             0.1111111111111111,
             "#46039f"
            ],
            [
             0.2222222222222222,
             "#7201a8"
            ],
            [
             0.3333333333333333,
             "#9c179e"
            ],
            [
             0.4444444444444444,
             "#bd3786"
            ],
            [
             0.5555555555555556,
             "#d8576b"
            ],
            [
             0.6666666666666666,
             "#ed7953"
            ],
            [
             0.7777777777777778,
             "#fb9f3a"
            ],
            [
             0.8888888888888888,
             "#fdca26"
            ],
            [
             1,
             "#f0f921"
            ]
           ]
          },
          "colorway": [
           "#636efa",
           "#EF553B",
           "#00cc96",
           "#ab63fa",
           "#FFA15A",
           "#19d3f3",
           "#FF6692",
           "#B6E880",
           "#FF97FF",
           "#FECB52"
          ],
          "font": {
           "color": "#2a3f5f"
          },
          "geo": {
           "bgcolor": "white",
           "lakecolor": "white",
           "landcolor": "#E5ECF6",
           "showlakes": true,
           "showland": true,
           "subunitcolor": "white"
          },
          "hoverlabel": {
           "align": "left"
          },
          "hovermode": "closest",
          "mapbox": {
           "style": "light"
          },
          "paper_bgcolor": "white",
          "plot_bgcolor": "#E5ECF6",
          "polar": {
           "angularaxis": {
            "gridcolor": "white",
            "linecolor": "white",
            "ticks": ""
           },
           "bgcolor": "#E5ECF6",
           "radialaxis": {
            "gridcolor": "white",
            "linecolor": "white",
            "ticks": ""
           }
          },
          "scene": {
           "xaxis": {
            "backgroundcolor": "#E5ECF6",
            "gridcolor": "white",
            "gridwidth": 2,
            "linecolor": "white",
            "showbackground": true,
            "ticks": "",
            "zerolinecolor": "white"
           },
           "yaxis": {
            "backgroundcolor": "#E5ECF6",
            "gridcolor": "white",
            "gridwidth": 2,
            "linecolor": "white",
            "showbackground": true,
            "ticks": "",
            "zerolinecolor": "white"
           },
           "zaxis": {
            "backgroundcolor": "#E5ECF6",
            "gridcolor": "white",
            "gridwidth": 2,
            "linecolor": "white",
            "showbackground": true,
            "ticks": "",
            "zerolinecolor": "white"
           }
          },
          "shapedefaults": {
           "line": {
            "color": "#2a3f5f"
           }
          },
          "ternary": {
           "aaxis": {
            "gridcolor": "white",
            "linecolor": "white",
            "ticks": ""
           },
           "baxis": {
            "gridcolor": "white",
            "linecolor": "white",
            "ticks": ""
           },
           "bgcolor": "#E5ECF6",
           "caxis": {
            "gridcolor": "white",
            "linecolor": "white",
            "ticks": ""
           }
          },
          "title": {
           "x": 0.05
          },
          "xaxis": {
           "automargin": true,
           "gridcolor": "white",
           "linecolor": "white",
           "ticks": "",
           "title": {
            "standoff": 15
           },
           "zerolinecolor": "white",
           "zerolinewidth": 2
          },
          "yaxis": {
           "automargin": true,
           "gridcolor": "white",
           "linecolor": "white",
           "ticks": "",
           "title": {
            "standoff": 15
           },
           "zerolinecolor": "white",
           "zerolinewidth": 2
          }
         }
        },
        "title": {
         "text": "DDPG on Pendulum-v1"
        },
        "xaxis": {
         "title": {
          "text": "Episodes"
         }
        },
        "yaxis": {
         "title": {
          "text": "Returns"
         }
        }
       }
      },
      "image/png": "[encoded data removed]"
     },
     "metadata": {},
     "output_type": "display_data"
    }
   ],
   "source": [
    "import plotly.graph_objects as go\n",
    "import pandas as pd\n",
    "df = pd.read_csv('DDPG_Pendulum-v1_returns_data.csv')  # 从 CSV 文件中读取数据\n",
    "fig = go.Figure()\n",
    "fig.add_trace(go.Scatter(x=df['Episodes'], y=df['Returns'], mode='lines', name='Returns'))\n",
    "fig.update_layout(\n",
    "    title='DDPG on Pendulum-v1',\n",
    "    xaxis_title='Episodes',\n",
    "    yaxis_title='Returns',\n",
    "    showlegend=True\n",
    ")\n",
    "fig.show()"
   ]
  },
  {
   "cell_type": "code",
   "execution_count": 11,
   "id": "1e3d35bcd6ece2c5",
   "metadata": {
    "collapsed": false,
    "jupyter": {
     "outputs_hidden": false
    }
   },
   "outputs": [
    {
     "data": {
      "application/vnd.plotly.v1+json": {
       "config": {
        "plotlyServerURL": "https://plot.ly"
       },
       "data": [
        {
         "mode": "lines",
         "name": "Returns",
         "type": "scatter",
         "x": {
          "bdata": "AAABAAIAAwAEAAUABgAHAAgACQAKAAsADAANAA4ADwAQABEAEgATABQAFQAWABcAGAAZABoAGwAcAB0AHgAfACAAIQAiACMAJAAlACYAJwAoACkAKgArACwALQAuAC8AMAAxADIAMwA0ADUANgA3ADgAOQA6ADsAPAA9AD4APwBAAEEAQgBDAEQARQBGAEcASABJAEoASwBMAE0ATgBPAFAAUQBSAFMAVABVAFYAVwBYAFkAWgBbAFwAXQBeAF8AYABhAGIAYwBkAGUAZgBnAGgAaQBqAGsAbABtAG4AbwBwAHEAcgBzAHQAdQB2AHcAeAB5AHoAewB8AH0AfgB/AIAAgQCCAIMAhACFAIYAhwCIAIkAigCLAIwAjQCOAI8AkACRAJIAkwCUAJUAlgCXAJgAmQCaAJsAnACdAJ4AnwCgAKEAogCjAKQApQCmAKcAqACpAKoAqwCsAK0ArgCvALAAsQCyALMAtAC1ALYAtwC4ALkAugC7ALwAvQC+AL8AwADBAMIAwwDEAMUAxgDHAA==",
          "dtype": "i2"
         },
         "y": {
          "bdata": "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",
          "dtype": "f8"
         }
        }
       ],
       "layout": {
        "showlegend": true,
        "template": {
         "data": {
          "bar": [
           {
            "error_x": {
             "color": "#2a3f5f"
            },
            "error_y": {
             "color": "#2a3f5f"
            },
            "marker": {
             "line": {
              "color": "#E5ECF6",
              "width": 0.5
             },
             "pattern": {
              "fillmode": "overlay",
              "size": 10,
              "solidity": 0.2
             }
            },
            "type": "bar"
           }
          ],
          "barpolar": [
           {
            "marker": {
             "line": {
              "color": "#E5ECF6",
              "width": 0.5
             },
             "pattern": {
              "fillmode": "overlay",
              "size": 10,
              "solidity": 0.2
             }
            },
            "type": "barpolar"
           }
          ],
          "carpet": [
           {
            "aaxis": {
             "endlinecolor": "#2a3f5f",
             "gridcolor": "white",
             "linecolor": "white",
             "minorgridcolor": "white",
             "startlinecolor": "#2a3f5f"
            },
            "baxis": {
             "endlinecolor": "#2a3f5f",
             "gridcolor": "white",
             "linecolor": "white",
             "minorgridcolor": "white",
             "startlinecolor": "#2a3f5f"
            },
            "type": "carpet"
           }
          ],
          "choropleth": [
           {
            "colorbar": {
             "outlinewidth": 0,
             "ticks": ""
            },
            "type": "choropleth"
           }
          ],
          "contour": [
           {
            "colorbar": {
             "outlinewidth": 0,
             "ticks": ""
            },
            "colorscale": [
             [
              0,
              "#0d0887"
             ],
             [
              0.1111111111111111,
              "#46039f"
             ],
             [
              0.2222222222222222,
              "#7201a8"
             ],
             [
              0.3333333333333333,
              "#9c179e"
             ],
             [
              0.4444444444444444,
              "#bd3786"
             ],
             [
              0.5555555555555556,
              "#d8576b"
             ],
             [
              0.6666666666666666,
              "#ed7953"
             ],
             [
              0.7777777777777778,
              "#fb9f3a"
             ],
             [
              0.8888888888888888,
              "#fdca26"
             ],
             [
              1,
              "#f0f921"
             ]
            ],
            "type": "contour"
           }
          ],
          "contourcarpet": [
           {
            "colorbar": {
             "outlinewidth": 0,
             "ticks": ""
            },
            "type": "contourcarpet"
           }
          ],
          "heatmap": [
           {
            "colorbar": {
             "outlinewidth": 0,
             "ticks": ""
            },
            "colorscale": [
             [
              0,
              "#0d0887"
             ],
             [
              0.1111111111111111,
              "#46039f"
             ],
             [
              0.2222222222222222,
              "#7201a8"
             ],
             [
              0.3333333333333333,
              "#9c179e"
             ],
             [
              0.4444444444444444,
              "#bd3786"
             ],
             [
              0.5555555555555556,
              "#d8576b"
             ],
             [
              0.6666666666666666,
              "#ed7953"
             ],
             [
              0.7777777777777778,
              "#fb9f3a"
             ],
             [
              0.8888888888888888,
              "#fdca26"
             ],
             [
              1,
              "#f0f921"
             ]
            ],
            "type": "heatmap"
           }
          ],
          "histogram": [
           {
            "marker": {
             "pattern": {
              "fillmode": "overlay",
              "size": 10,
              "solidity": 0.2
             }
            },
            "type": "histogram"
           }
          ],
          "histogram2d": [
           {
            "colorbar": {
             "outlinewidth": 0,
             "ticks": ""
            },
            "colorscale": [
             [
              0,
              "#0d0887"
             ],
             [
              0.1111111111111111,
              "#46039f"
             ],
             [
              0.2222222222222222,
              "#7201a8"
             ],
             [
              0.3333333333333333,
              "#9c179e"
             ],
             [
              0.4444444444444444,
              "#bd3786"
             ],
             [
              0.5555555555555556,
              "#d8576b"
             ],
             [
              0.6666666666666666,
              "#ed7953"
             ],
             [
              0.7777777777777778,
              "#fb9f3a"
             ],
             [
              0.8888888888888888,
              "#fdca26"
             ],
             [
              1,
              "#f0f921"
             ]
            ],
            "type": "histogram2d"
           }
          ],
          "histogram2dcontour": [
           {
            "colorbar": {
             "outlinewidth": 0,
             "ticks": ""
            },
            "colorscale": [
             [
              0,
              "#0d0887"
             ],
             [
              0.1111111111111111,
              "#46039f"
             ],
             [
              0.2222222222222222,
              "#7201a8"
             ],
             [
              0.3333333333333333,
              "#9c179e"
             ],
             [
              0.4444444444444444,
              "#bd3786"
             ],
             [
              0.5555555555555556,
              "#d8576b"
             ],
             [
              0.6666666666666666,
              "#ed7953"
             ],
             [
              0.7777777777777778,
              "#fb9f3a"
             ],
             [
              0.8888888888888888,
              "#fdca26"
             ],
             [
              1,
              "#f0f921"
             ]
            ],
            "type": "histogram2dcontour"
           }
          ],
          "mesh3d": [
           {
            "colorbar": {
             "outlinewidth": 0,
             "ticks": ""
            },
            "type": "mesh3d"
           }
          ],
          "parcoords": [
           {
            "line": {
             "colorbar": {
              "outlinewidth": 0,
              "ticks": ""
             }
            },
            "type": "parcoords"
           }
          ],
          "pie": [
           {
            "automargin": true,
            "type": "pie"
           }
          ],
          "scatter": [
           {
            "fillpattern": {
             "fillmode": "overlay",
             "size": 10,
             "solidity": 0.2
            },
            "type": "scatter"
           }
          ],
          "scatter3d": [
           {
            "line": {
             "colorbar": {
              "outlinewidth": 0,
              "ticks": ""
             }
            },
            "marker": {
             "colorbar": {
              "outlinewidth": 0,
              "ticks": ""
             }
            },
            "type": "scatter3d"
           }
          ],
          "scattercarpet": [
           {
            "marker": {
             "colorbar": {
              "outlinewidth": 0,
              "ticks": ""
             }
            },
            "type": "scattercarpet"
           }
          ],
          "scattergeo": [
           {
            "marker": {
             "colorbar": {
              "outlinewidth": 0,
              "ticks": ""
             }
            },
            "type": "scattergeo"
           }
          ],
          "scattergl": [
           {
            "marker": {
             "colorbar": {
              "outlinewidth": 0,
              "ticks": ""
             }
            },
            "type": "scattergl"
           }
          ],
          "scattermap": [
           {
            "marker": {
             "colorbar": {
              "outlinewidth": 0,
              "ticks": ""
             }
            },
            "type": "scattermap"
           }
          ],
          "scattermapbox": [
           {
            "marker": {
             "colorbar": {
              "outlinewidth": 0,
              "ticks": ""
             }
            },
            "type": "scattermapbox"
           }
          ],
          "scatterpolar": [
           {
            "marker": {
             "colorbar": {
              "outlinewidth": 0,
              "ticks": ""
             }
            },
            "type": "scatterpolar"
           }
          ],
          "scatterpolargl": [
           {
            "marker": {
             "colorbar": {
              "outlinewidth": 0,
              "ticks": ""
             }
            },
            "type": "scatterpolargl"
           }
          ],
          "scatterternary": [
           {
            "marker": {
             "colorbar": {
              "outlinewidth": 0,
              "ticks": ""
             }
            },
            "type": "scatterternary"
           }
          ],
          "surface": [
           {
            "colorbar": {
             "outlinewidth": 0,
             "ticks": ""
            },
            "colorscale": [
             [
              0,
              "#0d0887"
             ],
             [
              0.1111111111111111,
              "#46039f"
             ],
             [
              0.2222222222222222,
              "#7201a8"
             ],
             [
              0.3333333333333333,
              "#9c179e"
             ],
             [
              0.4444444444444444,
              "#bd3786"
             ],
             [
              0.5555555555555556,
              "#d8576b"
             ],
             [
              0.6666666666666666,
              "#ed7953"
             ],
             [
              0.7777777777777778,
              "#fb9f3a"
             ],
             [
              0.8888888888888888,
              "#fdca26"
             ],
             [
              1,
              "#f0f921"
             ]
            ],
            "type": "surface"
           }
          ],
          "table": [
           {
            "cells": {
             "fill": {
              "color": "#EBF0F8"
             },
             "line": {
              "color": "white"
             }
            },
            "header": {
             "fill": {
              "color": "#C8D4E3"
             },
             "line": {
              "color": "white"
             }
            },
            "type": "table"
           }
          ]
         },
         "layout": {
          "annotationdefaults": {
           "arrowcolor": "#2a3f5f",
           "arrowhead": 0,
           "arrowwidth": 1
          },
          "autotypenumbers": "strict",
          "coloraxis": {
           "colorbar": {
            "outlinewidth": 0,
            "ticks": ""
           }
          },
          "colorscale": {
           "diverging": [
            [
             0,
             "#8e0152"
            ],
            [
             0.1,
             "#c51b7d"
            ],
            [
             0.2,
             "#de77ae"
            ],
            [
             0.3,
             "#f1b6da"
            ],
            [
             0.4,
             "#fde0ef"
            ],
            [
             0.5,
             "#f7f7f7"
            ],
            [
             0.6,
             "#e6f5d0"
            ],
            [
             0.7,
             "#b8e186"
            ],
            [
             0.8,
             "#7fbc41"
            ],
            [
             0.9,
             "#4d9221"
            ],
            [
             1,
             "#276419"
            ]
           ],
           "sequential": [
            [
             0,
             "#0d0887"
            ],
            [
             0.1111111111111111,
             "#46039f"
            ],
            [
             0.2222222222222222,
             "#7201a8"
            ],
            [
             0.3333333333333333,
             "#9c179e"
            ],
            [
             0.4444444444444444,
             "#bd3786"
            ],
            [
             0.5555555555555556,
             "#d8576b"
            ],
            [
             0.6666666666666666,
             "#ed7953"
            ],
            [
             0.7777777777777778,
             "#fb9f3a"
            ],
            [
             0.8888888888888888,
             "#fdca26"
            ],
            [
             1,
             "#f0f921"
            ]
           ],
           "sequentialminus": [
            [
             0,
             "#0d0887"
            ],
            [
             0.1111111111111111,
             "#46039f"
            ],
            [
             0.2222222222222222,
             "#7201a8"
            ],
            [
             0.3333333333333333,
             "#9c179e"
            ],
            [
             0.4444444444444444,
             "#bd3786"
            ],
            [
             0.5555555555555556,
             "#d8576b"
            ],
            [
             0.6666666666666666,
             "#ed7953"
            ],
            [
             0.7777777777777778,
             "#fb9f3a"
            ],
            [
             0.8888888888888888,
             "#fdca26"
            ],
            [
             1,
             "#f0f921"
            ]
           ]
          },
          "colorway": [
           "#636efa",
           "#EF553B",
           "#00cc96",
           "#ab63fa",
           "#FFA15A",
           "#19d3f3",
           "#FF6692",
           "#B6E880",
           "#FF97FF",
           "#FECB52"
          ],
          "font": {
           "color": "#2a3f5f"
          },
          "geo": {
           "bgcolor": "white",
           "lakecolor": "white",
           "landcolor": "#E5ECF6",
           "showlakes": true,
           "showland": true,
           "subunitcolor": "white"
          },
          "hoverlabel": {
           "align": "left"
          },
          "hovermode": "closest",
          "mapbox": {
           "style": "light"
          },
          "paper_bgcolor": "white",
          "plot_bgcolor": "#E5ECF6",
          "polar": {
           "angularaxis": {
            "gridcolor": "white",
            "linecolor": "white",
            "ticks": ""
           },
           "bgcolor": "#E5ECF6",
           "radialaxis": {
            "gridcolor": "white",
            "linecolor": "white",
            "ticks": ""
           }
          },
          "scene": {
           "xaxis": {
            "backgroundcolor": "#E5ECF6",
            "gridcolor": "white",
            "gridwidth": 2,
            "linecolor": "white",
            "showbackground": true,
            "ticks": "",
            "zerolinecolor": "white"
           },
           "yaxis": {
            "backgroundcolor": "#E5ECF6",
            "gridcolor": "white",
            "gridwidth": 2,
            "linecolor": "white",
            "showbackground": true,
            "ticks": "",
            "zerolinecolor": "white"
           },
           "zaxis": {
            "backgroundcolor": "#E5ECF6",
            "gridcolor": "white",
            "gridwidth": 2,
            "linecolor": "white",
            "showbackground": true,
            "ticks": "",
            "zerolinecolor": "white"
           }
          },
          "shapedefaults": {
           "line": {
            "color": "#2a3f5f"
           }
          },
          "ternary": {
           "aaxis": {
            "gridcolor": "white",
            "linecolor": "white",
            "ticks": ""
           },
           "baxis": {
            "gridcolor": "white",
            "linecolor": "white",
            "ticks": ""
           },
           "bgcolor": "#E5ECF6",
           "caxis": {
            "gridcolor": "white",
            "linecolor": "white",
            "ticks": ""
           }
          },
          "title": {
           "x": 0.05
          },
          "xaxis": {
           "automargin": true,
           "gridcolor": "white",
           "linecolor": "white",
           "ticks": "",
           "title": {
            "standoff": 15
           },
           "zerolinecolor": "white",
           "zerolinewidth": 2
          },
          "yaxis": {
           "automargin": true,
           "gridcolor": "white",
           "linecolor": "white",
           "ticks": "",
           "title": {
            "standoff": 15
           },
           "zerolinecolor": "white",
           "zerolinewidth": 2
          }
         }
        },
        "title": {
         "text": "DDPG on Pendulum-v1"
        },
        "xaxis": {
         "title": {
          "text": "Episodes"
         }
        },
        "yaxis": {
         "title": {
          "text": "Returns"
         }
        }
       }
      },
      "image/png": "[encoded data removed]"
     },
     "metadata": {},
     "output_type": "display_data"
    }
   ],
   "source": [
    "import plotly.graph_objects as go\n",
    "import pandas as pd\n",
    "df = pd.read_csv('DDPG_Pendulum-v1_mv_returns_data.csv')  # 从 CSV 文件中读取数据\n",
    "fig = go.Figure()\n",
    "fig.add_trace(go.Scatter(x=df['Episodes'], y=df['Returns'], mode='lines', name='Returns'))\n",
    "fig.update_layout(\n",
    "    title='DDPG on Pendulum-v1',\n",
    "    xaxis_title='Episodes',\n",
    "    yaxis_title='Returns',\n",
    "    showlegend=True\n",
    ")\n",
    "fig.show()"
   ]
  },
  {
   "cell_type": "code",
   "execution_count": null,
   "id": "01ceb20f-6dad-4a6f-8278-63a60c57d127",
   "metadata": {},
   "outputs": [],
   "source": []
  }
 ],
 "metadata": {
  "kernelspec": {
   "display_name": "Python 3 (ipykernel)",
   "language": "python",
   "name": "python3"
  },
  "language_info": {
   "codemirror_mode": {
    "name": "ipython",
    "version": 3
   },
   "file_extension": ".py",
   "mimetype": "text/x-python",
   "name": "python",
   "nbconvert_exporter": "python",
   "pygments_lexer": "ipython3",
   "version": "3.12.9"
  }
 },
 "nbformat": 4,
 "nbformat_minor": 5
}
