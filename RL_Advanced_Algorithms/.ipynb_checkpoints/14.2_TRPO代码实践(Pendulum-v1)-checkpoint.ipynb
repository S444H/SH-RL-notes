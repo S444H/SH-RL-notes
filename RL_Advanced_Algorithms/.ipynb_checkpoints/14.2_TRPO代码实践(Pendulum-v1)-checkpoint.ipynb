{
 "cells": [
  {
   "cell_type": "markdown",
   "id": "ace71cd372b92798",
   "metadata": {
    "collapsed": false,
    "jupyter": {
     "outputs_hidden": false
    }
   },
   "source": [
    "*本节在 **倒立摆（Pendulum）连续-动作** 交互环境下进行 **TRPO** 代码实践*"
   ]
  },
  {
   "cell_type": "markdown",
   "id": "a25b89b8955dd31c",
   "metadata": {
    "collapsed": false,
    "jupyter": {
     "outputs_hidden": false
    }
   },
   "source": [
    "导入相关库："
   ]
  },
  {
   "cell_type": "code",
   "execution_count": 1,
   "id": "6bd2ba098afb45c4",
   "metadata": {
    "ExecuteTime": {
     "end_time": "2025-08-03T08:38:21.069244400Z",
     "start_time": "2025-08-03T08:38:18.204815200Z"
    },
    "collapsed": false,
    "jupyter": {
     "outputs_hidden": false
    }
   },
   "outputs": [],
   "source": [
    "# 基本库\n",
    "import numpy as np\n",
    "import copy\n",
    "\n",
    "from utils.smoothing import moving_average\n",
    "from utils.advantage import compute_advantage\n",
    "from utils.training import train_on_policy_agent\n",
    "# 神经网络\n",
    "import torch\n",
    "import torch.nn.functional as F\n",
    "# Gymnasium 是一个用于开发和测试强化学习算法的工具库，为 OpenAI Gym 的更新版本（2021迁移开发）\n",
    "import gymnasium as gym"
   ]
  },
  {
   "cell_type": "markdown",
   "id": "85d0c19bf90f6147",
   "metadata": {
    "collapsed": false,
    "jupyter": {
     "outputs_hidden": false
    }
   },
   "source": [
    "## 倒立摆环境（'Pendulum-v1'）"
   ]
  },
  {
   "cell_type": "markdown",
   "id": "bb3c8d0750103a7f",
   "metadata": {
    "collapsed": false,
    "jupyter": {
     "outputs_hidden": false
    }
   },
   "source": [
    "### 价值网络（保持不变）:"
   ]
  },
  {
   "cell_type": "code",
   "execution_count": 2,
   "id": "a3802790fe323657",
   "metadata": {
    "collapsed": false,
    "jupyter": {
     "outputs_hidden": false
    }
   },
   "outputs": [],
   "source": [
    "class ValueNet(torch.nn.Module):\n",
    "    def __init__(self, state_dim, hidden_dim):\n",
    "        super(ValueNet, self).__init__()\n",
    "        self.fc1 = torch.nn.Linear(state_dim, hidden_dim)\n",
    "        self.fc2 = torch.nn.Linear(hidden_dim, 1)\n",
    "\n",
    "    def forward(self, x):\n",
    "        x = F.relu(self.fc1(x))\n",
    "        return self.fc2(x)"
   ]
  },
  {
   "cell_type": "markdown",
   "id": "4712da0e199987c6",
   "metadata": {
    "collapsed": false,
    "jupyter": {
     "outputs_hidden": false
    }
   },
   "source": [
    "### 策略网络：动作输出修改为高斯分布的均值和标准差"
   ]
  },
  {
   "cell_type": "code",
   "execution_count": 3,
   "id": "421f2d232a8a42",
   "metadata": {
    "collapsed": false,
    "jupyter": {
     "outputs_hidden": false
    }
   },
   "outputs": [],
   "source": [
    "class PolicyNetContinuous(torch.nn.Module):\n",
    "    def __init__(self, state_dim, hidden_dim, action_dim):\n",
    "        super(PolicyNetContinuous, self).__init__()\n",
    "        self.fc1 = torch.nn.Linear(state_dim, hidden_dim)\n",
    "        self.fc_mu = torch.nn.Linear(hidden_dim, action_dim)\n",
    "        self.fc_std = torch.nn.Linear(hidden_dim, action_dim)\n",
    "\n",
    "    def forward(self, x):\n",
    "        x = F.relu(self.fc1(x))\n",
    "        mu = 2.0 * torch.tanh(self.fc_mu(x))\n",
    "        std = F.softplus(self.fc_std(x))\n",
    "        return mu, std  # 高斯分布的均值和标准差，每一个状态对应一个高斯分布（多维）的均值和标准差"
   ]
  },
  {
   "cell_type": "markdown",
   "id": "9cdd3fd9a47d6d6d",
   "metadata": {
    "collapsed": false,
    "jupyter": {
     "outputs_hidden": false
    }
   },
   "source": [
    "### 定义 TRPO 算法（连续动作）："
   ]
  },
  {
   "cell_type": "code",
   "execution_count": 4,
   "id": "d73c0496898e5c51",
   "metadata": {
    "collapsed": false,
    "jupyter": {
     "outputs_hidden": false
    }
   },
   "outputs": [],
   "source": [
    "class TRPOContinuous:\n",
    "    \"\"\" 处理连续动作的TRPO算法 \"\"\"\n",
    "    def __init__(self, hidden_dim, state_space, action_space, lmbda, kl_constraint, alpha, critic_lr, gamma, device):\n",
    "        \n",
    "        state_dim = state_space.shape[0]\n",
    "        #--------------------\n",
    "        action_dim = action_space.shape[0]  # 获取动作向量的维度\n",
    "        #--------------------\n",
    "        self.actor = PolicyNetContinuous(state_dim, hidden_dim, action_dim).to(device)\n",
    "        self.critic = ValueNet(state_dim, hidden_dim).to(device)\n",
    "        # 策略网络参数不需要优化器去更新\n",
    "        self.critic_optimizer = torch.optim.Adam(self.critic.parameters(), lr=critic_lr)\n",
    "        \n",
    "        self.gamma = gamma\n",
    "        self.lmbda = lmbda                  # GAE参数\n",
    "        self.kl_constraint = kl_constraint  # KL距离最大限制\n",
    "        self.alpha = alpha                  # 线性搜索参数\n",
    "        self.device = device\n",
    "\n",
    "    def take_action(self, state):\n",
    "        state = torch.tensor(np.array([state]), dtype=torch.float).to(self.device)\n",
    "        #---------------------\n",
    "        mu, std = self.actor(state)\n",
    "        action_dist = torch.distributions.Normal(mu, std)\n",
    "        #---------------------\n",
    "        action = action_dist.sample()\n",
    "        return [action.item()]  # 多维动作\n",
    "\n",
    "    def hessian_matrix_vector_product(self, states, old_action_dists, vector, damping=0.1):  # 计算Hansen矩阵和一个向量的乘积\n",
    "        #------------------------------------\n",
    "        mu, std = self.actor(states)\n",
    "        new_action_dists = torch.distributions.Normal(mu, std)\n",
    "        #------------------------------------\n",
    "        \n",
    "        kl = torch.mean(torch.distributions.kl.kl_divergence(old_action_dists, new_action_dists))  # 计算平均KL距离\n",
    "        kl_grad = torch.autograd.grad(kl, self.actor.parameters(), create_graph=True)\n",
    "        kl_grad_vector = torch.cat([grad.view(-1) for grad in kl_grad])\n",
    "        # KL距离的梯度先和向量进行点积运算\n",
    "        kl_grad_vector_product = torch.dot(kl_grad_vector, vector)\n",
    "        # 再求导，即得海森矩阵与向量的乘积（无需显式构造 Hessian）\n",
    "        grad2 = torch.autograd.grad(kl_grad_vector_product, self.actor.parameters())\n",
    "        grad2_vector = torch.cat([grad.view(-1) for grad in grad2])\n",
    "        \n",
    "        return grad2_vector + damping * vector  # 在连续策略（如高斯分布）中，KL 的 Hessian 容易退化，加 damping 防止共轭梯度法不稳定\n",
    "\n",
    "    def conjugate_gradient(self, grad, states, old_action_dists):  # 共轭梯度法求解方程\n",
    "        x = torch.zeros_like(grad)\n",
    "        r = grad.clone()\n",
    "        p = grad.clone()\n",
    "        rdotr = torch.dot(r, r)\n",
    "        for i in range(10):  # 共轭梯度主循环\n",
    "            Hp = self.hessian_matrix_vector_product(states, old_action_dists,p)\n",
    "            alpha = rdotr / torch.dot(p, Hp)\n",
    "            x += alpha * p\n",
    "            r -= alpha * Hp\n",
    "            new_rdotr = torch.dot(r, r)\n",
    "            if new_rdotr < 1e-10:\n",
    "                break\n",
    "            beta = new_rdotr / rdotr\n",
    "            p = r + beta * p\n",
    "            rdotr = new_rdotr\n",
    "        return x\n",
    "\n",
    "    def compute_surrogate_obj(self, states, actions, advantage, old_log_probs, actor):  # 计算策略目标函数\n",
    "        #--------------------------------------------\n",
    "        mu, std = actor(states)\n",
    "        action_dists = torch.distributions.Normal(mu, std)\n",
    "        log_probs = action_dists.log_prob(actions)\n",
    "        #---------------------------------------------\n",
    "        ratio = torch.exp(log_probs - old_log_probs)\n",
    "        return torch.mean(ratio * advantage)\n",
    "\n",
    "    def line_search(self, states, actions, advantage, old_log_probs, old_action_dists, max_vec):  # 线性搜索\n",
    "        \n",
    "        old_para = torch.nn.utils.convert_parameters.parameters_to_vector(self.actor.parameters())\n",
    "        old_obj = self.compute_surrogate_obj(states, actions, advantage, old_log_probs, self.actor)\n",
    "        \n",
    "        for i in range(15):  # 线性搜索主循环\n",
    "            coef = self.alpha**i\n",
    "            new_para = old_para + coef * max_vec\n",
    "            new_actor = copy.deepcopy(self.actor)  # 策略网络深层拷贝，防止后面的操作改变原始网络参数\n",
    "            torch.nn.utils.convert_parameters.vector_to_parameters(new_para, new_actor.parameters())\n",
    "            #------------------------------------\n",
    "            mu, std = self.actor(states)\n",
    "            new_action_dists = torch.distributions.Normal(mu, std)\n",
    "            #------------------------------------\n",
    "            kl_div = torch.mean(torch.distributions.kl.kl_divergence(old_action_dists, new_action_dists))\n",
    "            new_obj = self.compute_surrogate_obj(states, actions, advantage, old_log_probs, new_actor)\n",
    "            if new_obj > old_obj and kl_div < self.kl_constraint:\n",
    "                return new_para\n",
    "        return old_para\n",
    "\n",
    "    def policy_learn(self, states, actions, old_action_dists, old_log_probs, advantage):  # 更新策略网络\n",
    "        surrogate_obj = self.compute_surrogate_obj(states, actions, advantage, old_log_probs, self.actor)\n",
    "        grads = torch.autograd.grad(surrogate_obj, self.actor.parameters())\n",
    "        obj_grad = torch.cat([grad.view(-1) for grad in grads]).detach()\n",
    "        \n",
    "        descent_direction = self.conjugate_gradient(obj_grad, states, old_action_dists)  # 用共轭梯度法计算x = H^(-1)g\n",
    "        Hx = self.hessian_matrix_vector_product(states, old_action_dists, descent_direction)\n",
    "        max_coef = torch.sqrt(2 * self.kl_constraint / (torch.dot(descent_direction, Hx) + 1e-8))  # 理论最大步长\n",
    "        new_para = self.line_search(states, actions, advantage, old_log_probs, old_action_dists,\n",
    "                                    descent_direction * max_coef)  # 线性搜索\n",
    "        torch.nn.utils.convert_parameters.vector_to_parameters(new_para, self.actor.parameters())  # 用线性搜索后的参数更新策略\n",
    "\n",
    "    def update(self, transition_dict):\n",
    "        states_np = np.array(transition_dict['states'])  # 转换成统一的大 np.ndarray，PyTorch更高效处理\n",
    "        states = torch.tensor(states_np, dtype=torch.float).to(self.device)\n",
    "        actions = torch.tensor(transition_dict['actions']).view(-1, 1).to(self.device)\n",
    "        rewards = torch.tensor(transition_dict['rewards'], dtype=torch.float).view(-1, 1).to(self.device)\n",
    "        next_states_np = np.array(transition_dict['next_states'])  # 转换成统一的大 np.ndarray，PyTorch更高效处理\n",
    "        next_states = torch.tensor(next_states_np, dtype=torch.float).to(self.device)\n",
    "        dones = torch.tensor(transition_dict['dones'], dtype=torch.float).view(-1, 1).to(self.device)\n",
    "        \n",
    "        rewards = (rewards + 8.0) / 8.0  # 对奖励进行修改,方便训练\n",
    "        \n",
    "        td_target = rewards + self.gamma * self.critic(next_states) * (1 - dones)  # 时序差分目标\n",
    "        td_delta = td_target - self.critic(states)                                 # 时序差分误差\n",
    "        \n",
    "        advantage = compute_advantage(self.gamma, self.lmbda, td_delta.cpu()).to(self.device)\n",
    "        \n",
    "        #--------------------------------------\n",
    "        mu, std = self.actor(states)\n",
    "        old_action_dists = torch.distributions.Normal(mu.detach(),\n",
    "                                                      std.detach())\n",
    "        old_log_probs = old_action_dists.log_prob(actions)\n",
    "        #--------------------------------------\n",
    "        \n",
    "        # 更新价值函数\n",
    "        critic_loss = torch.mean(F.mse_loss(self.critic(states), td_target.detach()))\n",
    "        self.critic_optimizer.zero_grad()\n",
    "        critic_loss.backward()\n",
    "        self.critic_optimizer.step()  # 更新价值函数\n",
    "        \n",
    "        # 更新策略函数\n",
    "        self.policy_learn(states, actions, old_action_dists, old_log_probs, advantage)"
   ]
  },
  {
   "cell_type": "markdown",
   "id": "bee03095991da6fa",
   "metadata": {
    "collapsed": false,
    "jupyter": {
     "outputs_hidden": false
    }
   },
   "source": [
    "环境设置（'Pendulum-v1'）："
   ]
  },
  {
   "cell_type": "code",
   "execution_count": 5,
   "id": "23d39d0b6f589828",
   "metadata": {
    "collapsed": false,
    "jupyter": {
     "outputs_hidden": false
    }
   },
   "outputs": [
    {
     "name": "stdout",
     "output_type": "stream",
     "text": [
      "Environment spec: EnvSpec(id='Pendulum-v1', entry_point='gymnasium.envs.classic_control.pendulum:PendulumEnv', reward_threshold=None, nondeterministic=False, max_episode_steps=200, order_enforce=True, disable_env_checker=False, kwargs={}, namespace=None, name='Pendulum', version=1, additional_wrappers=(), vector_entry_point=None)\n"
     ]
    }
   ],
   "source": [
    "np.random.seed(0)    # 设置 NumPy 的随机种子\n",
    "torch.manual_seed(0) # 设置 PyTorch CPU 随机种子\n",
    "torch.cuda.manual_seed_all(0) # 设置 PyTorch GPU 随机种子, 由于GPU并行性, 只能极大减小偏差\n",
    "\n",
    "env = gym.make('Pendulum-v1')  # CartPole-v1 最大回合步数修改到了500步(v0为200)\n",
    "#env = env.unwrapped # 获取原始环境（绕过 TimeLimit 包装器）解除最大步数500限制\n",
    "env.reset(seed=0)   # 环境通常依赖于其他随机数生成器来初始化状态、进行探索(推荐位于以上随机之后)\n",
    "print(\"Environment spec:\", env.spec)"
   ]
  },
  {
   "cell_type": "markdown",
   "id": "ff92caa81caa91d5",
   "metadata": {
    "collapsed": false,
    "jupyter": {
     "outputs_hidden": false
    }
   },
   "source": [
    "超参数设置："
   ]
  },
  {
   "cell_type": "code",
   "execution_count": 6,
   "id": "bc9eba9fd8ff38b0",
   "metadata": {
    "collapsed": false,
    "jupyter": {
     "outputs_hidden": false
    }
   },
   "outputs": [],
   "source": [
    "hidden_dim = 128\n",
    "lmbda = 0.9\n",
    "# 搜索步伐(方向+距离)控制\n",
    "kl_constraint = 0.00005  # 限制每次策略更新的“跳跃程度”\n",
    "alpha = 0.5  # \"步长\"衰减,越小越\"精细\"\n",
    "# 价值网络超参数不变\n",
    "critic_lr = 1e-2\n",
    "gamma = 0.9\n",
    "device = torch.device(\"cuda\") if torch.cuda.is_available() else torch.device( \"cpu\")\n",
    "agent = TRPOContinuous(hidden_dim, env.observation_space, env.action_space,\n",
    "                       lmbda, kl_constraint, alpha, critic_lr, gamma, device)\n",
    "\n",
    "num_episodes = 2000"
   ]
  },
  {
   "cell_type": "markdown",
   "id": "305994c6401b184e",
   "metadata": {
    "collapsed": false,
    "jupyter": {
     "outputs_hidden": false
    }
   },
   "source": [
    "测试与训练:"
   ]
  },
  {
   "cell_type": "code",
   "execution_count": 7,
   "id": "996da0786337338c",
   "metadata": {
    "collapsed": false,
    "jupyter": {
     "outputs_hidden": false
    }
   },
   "outputs": [
    {
     "name": "stderr",
     "output_type": "stream",
     "text": [
      "Iteration 0: 100%|██████████| 200/200 [01:15<00:00,  2.64it/s, episode=200, return=-1191.570]\n",
      "Iteration 1: 100%|██████████| 200/200 [01:14<00:00,  2.70it/s, episode=400, return=-1145.861]\n",
      "Iteration 2: 100%|██████████| 200/200 [01:04<00:00,  3.10it/s, episode=600, return=-1129.232]\n",
      "Iteration 3: 100%|██████████| 200/200 [01:05<00:00,  3.04it/s, episode=800, return=-929.568] \n",
      "Iteration 4: 100%|██████████| 200/200 [01:14<00:00,  2.69it/s, episode=1000, return=-906.665]\n",
      "Iteration 5: 100%|██████████| 200/200 [01:04<00:00,  3.11it/s, episode=1200, return=-640.995]\n",
      "Iteration 6: 100%|██████████| 200/200 [01:02<00:00,  3.21it/s, episode=1400, return=-595.099]\n",
      "Iteration 7: 100%|██████████| 200/200 [01:06<00:00,  2.99it/s, episode=1600, return=-543.403]\n",
      "Iteration 8: 100%|██████████| 200/200 [01:10<00:00,  2.84it/s, episode=1800, return=-555.507]\n",
      "Iteration 9: 100%|██████████| 200/200 [01:10<00:00,  2.85it/s, episode=2000, return=-606.616]\n"
     ]
    }
   ],
   "source": [
    "return_list = train_on_policy_agent(env, agent, num_episodes)"
   ]
  },
  {
   "cell_type": "markdown",
   "id": "8e0f73e9d54e7d9b",
   "metadata": {
    "collapsed": false,
    "jupyter": {
     "outputs_hidden": false
    }
   },
   "source": [
    "绘图："
   ]
  },
  {
   "cell_type": "code",
   "execution_count": 8,
   "id": "abfe5b2c1c468adf",
   "metadata": {
    "collapsed": false,
    "jupyter": {
     "outputs_hidden": false
    }
   },
   "outputs": [],
   "source": [
    "import pandas as pd\n",
    "episodes_list = list(range(len(return_list)))\n",
    "mv_return = moving_average(return_list, 9)\n",
    "# 创建 DataFrame\n",
    "df1 = pd.DataFrame({'Episodes': episodes_list, 'Returns': return_list})\n",
    "df2 = pd.DataFrame({'Episodes': episodes_list, 'Returns': mv_return})\n",
    "# 保存为 CSV 文件\n",
    "df1.to_csv('TRPO_Pendulum-v1_returns_data.csv', index=False)\n",
    "df2.to_csv('TRPO_Pendulum-v1_mv_returns_data.csv', index=False)"
   ]
  },
  {
   "cell_type": "code",
   "execution_count": 9,
   "id": "3412e4b95cce469a",
   "metadata": {
    "collapsed": false,
    "jupyter": {
     "outputs_hidden": false
    }
   },
   "outputs": [
    {
     "data": {
      "application/vnd.plotly.v1+json": {
       "config": {
        "plotlyServerURL": "https://plot.ly"
       },
       "data": [
        {
         "mode": "lines",
         "name": "Returns",
         "type": "scatter",
         "x": {
          "bdata": "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",
          "dtype": "i2"
         },
         "y": {
          "bdata": "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",
          "dtype": "f8"
         }
        }
       ],
       "layout": {
        "showlegend": true,
        "template": {
         "data": {
          "bar": [
           {
            "error_x": {
             "color": "#2a3f5f"
            },
            "error_y": {
             "color": "#2a3f5f"
            },
            "marker": {
             "line": {
              "color": "#E5ECF6",
              "width": 0.5
             },
             "pattern": {
              "fillmode": "overlay",
              "size": 10,
              "solidity": 0.2
             }
            },
            "type": "bar"
           }
          ],
          "barpolar": [
           {
            "marker": {
             "line": {
              "color": "#E5ECF6",
              "width": 0.5
             },
             "pattern": {
              "fillmode": "overlay",
              "size": 10,
              "solidity": 0.2
             }
            },
            "type": "barpolar"
           }
          ],
          "carpet": [
           {
            "aaxis": {
             "endlinecolor": "#2a3f5f",
             "gridcolor": "white",
             "linecolor": "white",
             "minorgridcolor": "white",
             "startlinecolor": "#2a3f5f"
            },
            "baxis": {
             "endlinecolor": "#2a3f5f",
             "gridcolor": "white",
             "linecolor": "white",
             "minorgridcolor": "white",
             "startlinecolor": "#2a3f5f"
            },
            "type": "carpet"
           }
          ],
          "choropleth": [
           {
            "colorbar": {
             "outlinewidth": 0,
             "ticks": ""
            },
            "type": "choropleth"
           }
          ],
          "contour": [
           {
            "colorbar": {
             "outlinewidth": 0,
             "ticks": ""
            },
            "colorscale": [
             [
              0,
              "#0d0887"
             ],
             [
              0.1111111111111111,
              "#46039f"
             ],
             [
              0.2222222222222222,
              "#7201a8"
             ],
             [
              0.3333333333333333,
              "#9c179e"
             ],
             [
              0.4444444444444444,
              "#bd3786"
             ],
             [
              0.5555555555555556,
              "#d8576b"
             ],
             [
              0.6666666666666666,
              "#ed7953"
             ],
             [
              0.7777777777777778,
              "#fb9f3a"
             ],
             [
              0.8888888888888888,
              "#fdca26"
             ],
             [
              1,
              "#f0f921"
             ]
            ],
            "type": "contour"
           }
          ],
          "contourcarpet": [
           {
            "colorbar": {
             "outlinewidth": 0,
             "ticks": ""
            },
            "type": "contourcarpet"
           }
          ],
          "heatmap": [
           {
            "colorbar": {
             "outlinewidth": 0,
             "ticks": ""
            },
            "colorscale": [
             [
              0,
              "#0d0887"
             ],
             [
              0.1111111111111111,
              "#46039f"
             ],
             [
              0.2222222222222222,
              "#7201a8"
             ],
             [
              0.3333333333333333,
              "#9c179e"
             ],
             [
              0.4444444444444444,
              "#bd3786"
             ],
             [
              0.5555555555555556,
              "#d8576b"
             ],
             [
              0.6666666666666666,
              "#ed7953"
             ],
             [
              0.7777777777777778,
              "#fb9f3a"
             ],
             [
              0.8888888888888888,
              "#fdca26"
             ],
             [
              1,
              "#f0f921"
             ]
            ],
            "type": "heatmap"
           }
          ],
          "histogram": [
           {
            "marker": {
             "pattern": {
              "fillmode": "overlay",
              "size": 10,
              "solidity": 0.2
             }
            },
            "type": "histogram"
           }
          ],
          "histogram2d": [
           {
            "colorbar": {
             "outlinewidth": 0,
             "ticks": ""
            },
            "colorscale": [
             [
              0,
              "#0d0887"
             ],
             [
              0.1111111111111111,
              "#46039f"
             ],
             [
              0.2222222222222222,
              "#7201a8"
             ],
             [
              0.3333333333333333,
              "#9c179e"
             ],
             [
              0.4444444444444444,
              "#bd3786"
             ],
             [
              0.5555555555555556,
              "#d8576b"
             ],
             [
              0.6666666666666666,
              "#ed7953"
             ],
             [
              0.7777777777777778,
              "#fb9f3a"
             ],
             [
              0.8888888888888888,
              "#fdca26"
             ],
             [
              1,
              "#f0f921"
             ]
            ],
            "type": "histogram2d"
           }
          ],
          "histogram2dcontour": [
           {
            "colorbar": {
             "outlinewidth": 0,
             "ticks": ""
            },
            "colorscale": [
             [
              0,
              "#0d0887"
             ],
             [
              0.1111111111111111,
              "#46039f"
             ],
             [
              0.2222222222222222,
              "#7201a8"
             ],
             [
              0.3333333333333333,
              "#9c179e"
             ],
             [
              0.4444444444444444,
              "#bd3786"
             ],
             [
              0.5555555555555556,
              "#d8576b"
             ],
             [
              0.6666666666666666,
              "#ed7953"
             ],
             [
              0.7777777777777778,
              "#fb9f3a"
             ],
             [
              0.8888888888888888,
              "#fdca26"
             ],
             [
              1,
              "#f0f921"
             ]
            ],
            "type": "histogram2dcontour"
           }
          ],
          "mesh3d": [
           {
            "colorbar": {
             "outlinewidth": 0,
             "ticks": ""
            },
            "type": "mesh3d"
           }
          ],
          "parcoords": [
           {
            "line": {
             "colorbar": {
              "outlinewidth": 0,
              "ticks": ""
             }
            },
            "type": "parcoords"
           }
          ],
          "pie": [
           {
            "automargin": true,
            "type": "pie"
           }
          ],
          "scatter": [
           {
            "fillpattern": {
             "fillmode": "overlay",
             "size": 10,
             "solidity": 0.2
            },
            "type": "scatter"
           }
          ],
          "scatter3d": [
           {
            "line": {
             "colorbar": {
              "outlinewidth": 0,
              "ticks": ""
             }
            },
            "marker": {
             "colorbar": {
              "outlinewidth": 0,
              "ticks": ""
             }
            },
            "type": "scatter3d"
           }
          ],
          "scattercarpet": [
           {
            "marker": {
             "colorbar": {
              "outlinewidth": 0,
              "ticks": ""
             }
            },
            "type": "scattercarpet"
           }
          ],
          "scattergeo": [
           {
            "marker": {
             "colorbar": {
              "outlinewidth": 0,
              "ticks": ""
             }
            },
            "type": "scattergeo"
           }
          ],
          "scattergl": [
           {
            "marker": {
             "colorbar": {
              "outlinewidth": 0,
              "ticks": ""
             }
            },
            "type": "scattergl"
           }
          ],
          "scattermap": [
           {
            "marker": {
             "colorbar": {
              "outlinewidth": 0,
              "ticks": ""
             }
            },
            "type": "scattermap"
           }
          ],
          "scattermapbox": [
           {
            "marker": {
             "colorbar": {
              "outlinewidth": 0,
              "ticks": ""
             }
            },
            "type": "scattermapbox"
           }
          ],
          "scatterpolar": [
           {
            "marker": {
             "colorbar": {
              "outlinewidth": 0,
              "ticks": ""
             }
            },
            "type": "scatterpolar"
           }
          ],
          "scatterpolargl": [
           {
            "marker": {
             "colorbar": {
              "outlinewidth": 0,
              "ticks": ""
             }
            },
            "type": "scatterpolargl"
           }
          ],
          "scatterternary": [
           {
            "marker": {
             "colorbar": {
              "outlinewidth": 0,
              "ticks": ""
             }
            },
            "type": "scatterternary"
           }
          ],
          "surface": [
           {
            "colorbar": {
             "outlinewidth": 0,
             "ticks": ""
            },
            "colorscale": [
             [
              0,
              "#0d0887"
             ],
             [
              0.1111111111111111,
              "#46039f"
             ],
             [
              0.2222222222222222,
              "#7201a8"
             ],
             [
              0.3333333333333333,
              "#9c179e"
             ],
             [
              0.4444444444444444,
              "#bd3786"
             ],
             [
              0.5555555555555556,
              "#d8576b"
             ],
             [
              0.6666666666666666,
              "#ed7953"
             ],
             [
              0.7777777777777778,
              "#fb9f3a"
             ],
             [
              0.8888888888888888,
              "#fdca26"
             ],
             [
              1,
              "#f0f921"
             ]
            ],
            "type": "surface"
           }
          ],
          "table": [
           {
            "cells": {
             "fill": {
              "color": "#EBF0F8"
             },
             "line": {
              "color": "white"
             }
            },
            "header": {
             "fill": {
              "color": "#C8D4E3"
             },
             "line": {
              "color": "white"
             }
            },
            "type": "table"
           }
          ]
         },
         "layout": {
          "annotationdefaults": {
           "arrowcolor": "#2a3f5f",
           "arrowhead": 0,
           "arrowwidth": 1
          },
          "autotypenumbers": "strict",
          "coloraxis": {
           "colorbar": {
            "outlinewidth": 0,
            "ticks": ""
           }
          },
          "colorscale": {
           "diverging": [
            [
             0,
             "#8e0152"
            ],
            [
             0.1,
             "#c51b7d"
            ],
            [
             0.2,
             "#de77ae"
            ],
            [
             0.3,
             "#f1b6da"
            ],
            [
             0.4,
             "#fde0ef"
            ],
            [
             0.5,
             "#f7f7f7"
            ],
            [
             0.6,
             "#e6f5d0"
            ],
            [
             0.7,
             "#b8e186"
            ],
            [
             0.8,
             "#7fbc41"
            ],
            [
             0.9,
             "#4d9221"
            ],
            [
             1,
             "#276419"
            ]
           ],
           "sequential": [
            [
             0,
             "#0d0887"
            ],
            [
             0.1111111111111111,
             "#46039f"
            ],
            [
             0.2222222222222222,
             "#7201a8"
            ],
            [
             0.3333333333333333,
             "#9c179e"
            ],
            [
             0.4444444444444444,
             "#bd3786"
            ],
            [
             0.5555555555555556,
             "#d8576b"
            ],
            [
             0.6666666666666666,
             "#ed7953"
            ],
            [
             0.7777777777777778,
             "#fb9f3a"
            ],
            [
             0.8888888888888888,
             "#fdca26"
            ],
            [
             1,
             "#f0f921"
            ]
           ],
           "sequentialminus": [
            [
             0,
             "#0d0887"
            ],
            [
             0.1111111111111111,
             "#46039f"
            ],
            [
             0.2222222222222222,
             "#7201a8"
            ],
            [
             0.3333333333333333,
             "#9c179e"
            ],
            [
             0.4444444444444444,
             "#bd3786"
            ],
            [
             0.5555555555555556,
             "#d8576b"
            ],
            [
             0.6666666666666666,
             "#ed7953"
            ],
            [
             0.7777777777777778,
             "#fb9f3a"
            ],
            [
             0.8888888888888888,
             "#fdca26"
            ],
            [
             1,
             "#f0f921"
            ]
           ]
          },
          "colorway": [
           "#636efa",
           "#EF553B",
           "#00cc96",
           "#ab63fa",
           "#FFA15A",
           "#19d3f3",
           "#FF6692",
           "#B6E880",
           "#FF97FF",
           "#FECB52"
          ],
          "font": {
           "color": "#2a3f5f"
          },
          "geo": {
           "bgcolor": "white",
           "lakecolor": "white",
           "landcolor": "#E5ECF6",
           "showlakes": true,
           "showland": true,
           "subunitcolor": "white"
          },
          "hoverlabel": {
           "align": "left"
          },
          "hovermode": "closest",
          "mapbox": {
           "style": "light"
          },
          "paper_bgcolor": "white",
          "plot_bgcolor": "#E5ECF6",
          "polar": {
           "angularaxis": {
            "gridcolor": "white",
            "linecolor": "white",
            "ticks": ""
           },
           "bgcolor": "#E5ECF6",
           "radialaxis": {
            "gridcolor": "white",
            "linecolor": "white",
            "ticks": ""
           }
          },
          "scene": {
           "xaxis": {
            "backgroundcolor": "#E5ECF6",
            "gridcolor": "white",
            "gridwidth": 2,
            "linecolor": "white",
            "showbackground": true,
            "ticks": "",
            "zerolinecolor": "white"
           },
           "yaxis": {
            "backgroundcolor": "#E5ECF6",
            "gridcolor": "white",
            "gridwidth": 2,
            "linecolor": "white",
            "showbackground": true,
            "ticks": "",
            "zerolinecolor": "white"
           },
           "zaxis": {
            "backgroundcolor": "#E5ECF6",
            "gridcolor": "white",
            "gridwidth": 2,
            "linecolor": "white",
            "showbackground": true,
            "ticks": "",
            "zerolinecolor": "white"
           }
          },
          "shapedefaults": {
           "line": {
            "color": "#2a3f5f"
           }
          },
          "ternary": {
           "aaxis": {
            "gridcolor": "white",
            "linecolor": "white",
            "ticks": ""
           },
           "baxis": {
            "gridcolor": "white",
            "linecolor": "white",
            "ticks": ""
           },
           "bgcolor": "#E5ECF6",
           "caxis": {
            "gridcolor": "white",
            "linecolor": "white",
            "ticks": ""
           }
          },
          "title": {
           "x": 0.05
          },
          "xaxis": {
           "automargin": true,
           "gridcolor": "white",
           "linecolor": "white",
           "ticks": "",
           "title": {
            "standoff": 15
           },
           "zerolinecolor": "white",
           "zerolinewidth": 2
          },
          "yaxis": {
           "automargin": true,
           "gridcolor": "white",
           "linecolor": "white",
           "ticks": "",
           "title": {
            "standoff": 15
           },
           "zerolinecolor": "white",
           "zerolinewidth": 2
          }
         }
        },
        "title": {
         "text": "TRPO on Pendulum-v1"
        },
        "xaxis": {
         "title": {
          "text": "Episodes"
         }
        },
        "yaxis": {
         "title": {
          "text": "Returns"
         }
        }
       }
      },
      "image/png": "[encoded data removed]"
     },
     "metadata": {},
     "output_type": "display_data"
    }
   ],
   "source": [
    "import plotly.graph_objects as go\n",
    "import pandas as pd\n",
    "df = pd.read_csv('TRPO_Pendulum-v1_returns_data.csv')  # 从 CSV 文件中读取数据\n",
    "fig = go.Figure()\n",
    "fig.add_trace(go.Scatter(x=df['Episodes'], y=df['Returns'], mode='lines', name='Returns'))\n",
    "fig.update_layout(\n",
    "    title='TRPO on Pendulum-v1',\n",
    "    xaxis_title='Episodes',\n",
    "    yaxis_title='Returns',\n",
    "    showlegend=True\n",
    ")\n",
    "fig.show()"
   ]
  },
  {
   "cell_type": "code",
   "execution_count": 10,
   "id": "a7dd9ef009a6ca40",
   "metadata": {
    "collapsed": false,
    "jupyter": {
     "outputs_hidden": false
    }
   },
   "outputs": [
    {
     "data": {
      "application/vnd.plotly.v1+json": {
       "config": {
        "plotlyServerURL": "https://plot.ly"
       },
       "data": [
        {
         "mode": "lines",
         "name": "Returns",
         "type": "scatter",
         "x": {
          "bdata": "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",
          "dtype": "i2"
         },
         "y": {
          "bdata": "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",
          "dtype": "f8"
         }
        }
       ],
       "layout": {
        "showlegend": true,
        "template": {
         "data": {
          "bar": [
           {
            "error_x": {
             "color": "#2a3f5f"
            },
            "error_y": {
             "color": "#2a3f5f"
            },
            "marker": {
             "line": {
              "color": "#E5ECF6",
              "width": 0.5
             },
             "pattern": {
              "fillmode": "overlay",
              "size": 10,
              "solidity": 0.2
             }
            },
            "type": "bar"
           }
          ],
          "barpolar": [
           {
            "marker": {
             "line": {
              "color": "#E5ECF6",
              "width": 0.5
             },
             "pattern": {
              "fillmode": "overlay",
              "size": 10,
              "solidity": 0.2
             }
            },
            "type": "barpolar"
           }
          ],
          "carpet": [
           {
            "aaxis": {
             "endlinecolor": "#2a3f5f",
             "gridcolor": "white",
             "linecolor": "white",
             "minorgridcolor": "white",
             "startlinecolor": "#2a3f5f"
            },
            "baxis": {
             "endlinecolor": "#2a3f5f",
             "gridcolor": "white",
             "linecolor": "white",
             "minorgridcolor": "white",
             "startlinecolor": "#2a3f5f"
            },
            "type": "carpet"
           }
          ],
          "choropleth": [
           {
            "colorbar": {
             "outlinewidth": 0,
             "ticks": ""
            },
            "type": "choropleth"
           }
          ],
          "contour": [
           {
            "colorbar": {
             "outlinewidth": 0,
             "ticks": ""
            },
            "colorscale": [
             [
              0,
              "#0d0887"
             ],
             [
              0.1111111111111111,
              "#46039f"
             ],
             [
              0.2222222222222222,
              "#7201a8"
             ],
             [
              0.3333333333333333,
              "#9c179e"
             ],
             [
              0.4444444444444444,
              "#bd3786"
             ],
             [
              0.5555555555555556,
              "#d8576b"
             ],
             [
              0.6666666666666666,
              "#ed7953"
             ],
             [
              0.7777777777777778,
              "#fb9f3a"
             ],
             [
              0.8888888888888888,
              "#fdca26"
             ],
             [
              1,
              "#f0f921"
             ]
            ],
            "type": "contour"
           }
          ],
          "contourcarpet": [
           {
            "colorbar": {
             "outlinewidth": 0,
             "ticks": ""
            },
            "type": "contourcarpet"
           }
          ],
          "heatmap": [
           {
            "colorbar": {
             "outlinewidth": 0,
             "ticks": ""
            },
            "colorscale": [
             [
              0,
              "#0d0887"
             ],
             [
              0.1111111111111111,
              "#46039f"
             ],
             [
              0.2222222222222222,
              "#7201a8"
             ],
             [
              0.3333333333333333,
              "#9c179e"
             ],
             [
              0.4444444444444444,
              "#bd3786"
             ],
             [
              0.5555555555555556,
              "#d8576b"
             ],
             [
              0.6666666666666666,
              "#ed7953"
             ],
             [
              0.7777777777777778,
              "#fb9f3a"
             ],
             [
              0.8888888888888888,
              "#fdca26"
             ],
             [
              1,
              "#f0f921"
             ]
            ],
            "type": "heatmap"
           }
          ],
          "histogram": [
           {
            "marker": {
             "pattern": {
              "fillmode": "overlay",
              "size": 10,
              "solidity": 0.2
             }
            },
            "type": "histogram"
           }
          ],
          "histogram2d": [
           {
            "colorbar": {
             "outlinewidth": 0,
             "ticks": ""
            },
            "colorscale": [
             [
              0,
              "#0d0887"
             ],
             [
              0.1111111111111111,
              "#46039f"
             ],
             [
              0.2222222222222222,
              "#7201a8"
             ],
             [
              0.3333333333333333,
              "#9c179e"
             ],
             [
              0.4444444444444444,
              "#bd3786"
             ],
             [
              0.5555555555555556,
              "#d8576b"
             ],
             [
              0.6666666666666666,
              "#ed7953"
             ],
             [
              0.7777777777777778,
              "#fb9f3a"
             ],
             [
              0.8888888888888888,
              "#fdca26"
             ],
             [
              1,
              "#f0f921"
             ]
            ],
            "type": "histogram2d"
           }
          ],
          "histogram2dcontour": [
           {
            "colorbar": {
             "outlinewidth": 0,
             "ticks": ""
            },
            "colorscale": [
             [
              0,
              "#0d0887"
             ],
             [
              0.1111111111111111,
              "#46039f"
             ],
             [
              0.2222222222222222,
              "#7201a8"
             ],
             [
              0.3333333333333333,
              "#9c179e"
             ],
             [
              0.4444444444444444,
              "#bd3786"
             ],
             [
              0.5555555555555556,
              "#d8576b"
             ],
             [
              0.6666666666666666,
              "#ed7953"
             ],
             [
              0.7777777777777778,
              "#fb9f3a"
             ],
             [
              0.8888888888888888,
              "#fdca26"
             ],
             [
              1,
              "#f0f921"
             ]
            ],
            "type": "histogram2dcontour"
           }
          ],
          "mesh3d": [
           {
            "colorbar": {
             "outlinewidth": 0,
             "ticks": ""
            },
            "type": "mesh3d"
           }
          ],
          "parcoords": [
           {
            "line": {
             "colorbar": {
              "outlinewidth": 0,
              "ticks": ""
             }
            },
            "type": "parcoords"
           }
          ],
          "pie": [
           {
            "automargin": true,
            "type": "pie"
           }
          ],
          "scatter": [
           {
            "fillpattern": {
             "fillmode": "overlay",
             "size": 10,
             "solidity": 0.2
            },
            "type": "scatter"
           }
          ],
          "scatter3d": [
           {
            "line": {
             "colorbar": {
              "outlinewidth": 0,
              "ticks": ""
             }
            },
            "marker": {
             "colorbar": {
              "outlinewidth": 0,
              "ticks": ""
             }
            },
            "type": "scatter3d"
           }
          ],
          "scattercarpet": [
           {
            "marker": {
             "colorbar": {
              "outlinewidth": 0,
              "ticks": ""
             }
            },
            "type": "scattercarpet"
           }
          ],
          "scattergeo": [
           {
            "marker": {
             "colorbar": {
              "outlinewidth": 0,
              "ticks": ""
             }
            },
            "type": "scattergeo"
           }
          ],
          "scattergl": [
           {
            "marker": {
             "colorbar": {
              "outlinewidth": 0,
              "ticks": ""
             }
            },
            "type": "scattergl"
           }
          ],
          "scattermap": [
           {
            "marker": {
             "colorbar": {
              "outlinewidth": 0,
              "ticks": ""
             }
            },
            "type": "scattermap"
           }
          ],
          "scattermapbox": [
           {
            "marker": {
             "colorbar": {
              "outlinewidth": 0,
              "ticks": ""
             }
            },
            "type": "scattermapbox"
           }
          ],
          "scatterpolar": [
           {
            "marker": {
             "colorbar": {
              "outlinewidth": 0,
              "ticks": ""
             }
            },
            "type": "scatterpolar"
           }
          ],
          "scatterpolargl": [
           {
            "marker": {
             "colorbar": {
              "outlinewidth": 0,
              "ticks": ""
             }
            },
            "type": "scatterpolargl"
           }
          ],
          "scatterternary": [
           {
            "marker": {
             "colorbar": {
              "outlinewidth": 0,
              "ticks": ""
             }
            },
            "type": "scatterternary"
           }
          ],
          "surface": [
           {
            "colorbar": {
             "outlinewidth": 0,
             "ticks": ""
            },
            "colorscale": [
             [
              0,
              "#0d0887"
             ],
             [
              0.1111111111111111,
              "#46039f"
             ],
             [
              0.2222222222222222,
              "#7201a8"
             ],
             [
              0.3333333333333333,
              "#9c179e"
             ],
             [
              0.4444444444444444,
              "#bd3786"
             ],
             [
              0.5555555555555556,
              "#d8576b"
             ],
             [
              0.6666666666666666,
              "#ed7953"
             ],
             [
              0.7777777777777778,
              "#fb9f3a"
             ],
             [
              0.8888888888888888,
              "#fdca26"
             ],
             [
              1,
              "#f0f921"
             ]
            ],
            "type": "surface"
           }
          ],
          "table": [
           {
            "cells": {
             "fill": {
              "color": "#EBF0F8"
             },
             "line": {
              "color": "white"
             }
            },
            "header": {
             "fill": {
              "color": "#C8D4E3"
             },
             "line": {
              "color": "white"
             }
            },
            "type": "table"
           }
          ]
         },
         "layout": {
          "annotationdefaults": {
           "arrowcolor": "#2a3f5f",
           "arrowhead": 0,
           "arrowwidth": 1
          },
          "autotypenumbers": "strict",
          "coloraxis": {
           "colorbar": {
            "outlinewidth": 0,
            "ticks": ""
           }
          },
          "colorscale": {
           "diverging": [
            [
             0,
             "#8e0152"
            ],
            [
             0.1,
             "#c51b7d"
            ],
            [
             0.2,
             "#de77ae"
            ],
            [
             0.3,
             "#f1b6da"
            ],
            [
             0.4,
             "#fde0ef"
            ],
            [
             0.5,
             "#f7f7f7"
            ],
            [
             0.6,
             "#e6f5d0"
            ],
            [
             0.7,
             "#b8e186"
            ],
            [
             0.8,
             "#7fbc41"
            ],
            [
             0.9,
             "#4d9221"
            ],
            [
             1,
             "#276419"
            ]
           ],
           "sequential": [
            [
             0,
             "#0d0887"
            ],
            [
             0.1111111111111111,
             "#46039f"
            ],
            [
             0.2222222222222222,
             "#7201a8"
            ],
            [
             0.3333333333333333,
             "#9c179e"
            ],
            [
             0.4444444444444444,
             "#bd3786"
            ],
            [
             0.5555555555555556,
             "#d8576b"
            ],
            [
             0.6666666666666666,
             "#ed7953"
            ],
            [
             0.7777777777777778,
             "#fb9f3a"
            ],
            [
             0.8888888888888888,
             "#fdca26"
            ],
            [
             1,
             "#f0f921"
            ]
           ],
           "sequentialminus": [
            [
             0,
             "#0d0887"
            ],
            [
             0.1111111111111111,
             "#46039f"
            ],
            [
             0.2222222222222222,
             "#7201a8"
            ],
            [
             0.3333333333333333,
             "#9c179e"
            ],
            [
             0.4444444444444444,
             "#bd3786"
            ],
            [
             0.5555555555555556,
             "#d8576b"
            ],
            [
             0.6666666666666666,
             "#ed7953"
            ],
            [
             0.7777777777777778,
             "#fb9f3a"
            ],
            [
             0.8888888888888888,
             "#fdca26"
            ],
            [
             1,
             "#f0f921"
            ]
           ]
          },
          "colorway": [
           "#636efa",
           "#EF553B",
           "#00cc96",
           "#ab63fa",
           "#FFA15A",
           "#19d3f3",
           "#FF6692",
           "#B6E880",
           "#FF97FF",
           "#FECB52"
          ],
          "font": {
           "color": "#2a3f5f"
          },
          "geo": {
           "bgcolor": "white",
           "lakecolor": "white",
           "landcolor": "#E5ECF6",
           "showlakes": true,
           "showland": true,
           "subunitcolor": "white"
          },
          "hoverlabel": {
           "align": "left"
          },
          "hovermode": "closest",
          "mapbox": {
           "style": "light"
          },
          "paper_bgcolor": "white",
          "plot_bgcolor": "#E5ECF6",
          "polar": {
           "angularaxis": {
            "gridcolor": "white",
            "linecolor": "white",
            "ticks": ""
           },
           "bgcolor": "#E5ECF6",
           "radialaxis": {
            "gridcolor": "white",
            "linecolor": "white",
            "ticks": ""
           }
          },
          "scene": {
           "xaxis": {
            "backgroundcolor": "#E5ECF6",
            "gridcolor": "white",
            "gridwidth": 2,
            "linecolor": "white",
            "showbackground": true,
            "ticks": "",
            "zerolinecolor": "white"
           },
           "yaxis": {
            "backgroundcolor": "#E5ECF6",
            "gridcolor": "white",
            "gridwidth": 2,
            "linecolor": "white",
            "showbackground": true,
            "ticks": "",
            "zerolinecolor": "white"
           },
           "zaxis": {
            "backgroundcolor": "#E5ECF6",
            "gridcolor": "white",
            "gridwidth": 2,
            "linecolor": "white",
            "showbackground": true,
            "ticks": "",
            "zerolinecolor": "white"
           }
          },
          "shapedefaults": {
           "line": {
            "color": "#2a3f5f"
           }
          },
          "ternary": {
           "aaxis": {
            "gridcolor": "white",
            "linecolor": "white",
            "ticks": ""
           },
           "baxis": {
            "gridcolor": "white",
            "linecolor": "white",
            "ticks": ""
           },
           "bgcolor": "#E5ECF6",
           "caxis": {
            "gridcolor": "white",
            "linecolor": "white",
            "ticks": ""
           }
          },
          "title": {
           "x": 0.05
          },
          "xaxis": {
           "automargin": true,
           "gridcolor": "white",
           "linecolor": "white",
           "ticks": "",
           "title": {
            "standoff": 15
           },
           "zerolinecolor": "white",
           "zerolinewidth": 2
          },
          "yaxis": {
           "automargin": true,
           "gridcolor": "white",
           "linecolor": "white",
           "ticks": "",
           "title": {
            "standoff": 15
           },
           "zerolinecolor": "white",
           "zerolinewidth": 2
          }
         }
        },
        "title": {
         "text": "TRPO on Pendulum-v1"
        },
        "xaxis": {
         "title": {
          "text": "Episodes"
         }
        },
        "yaxis": {
         "title": {
          "text": "Returns"
         }
        }
       }
      },
      "image/png": "[encoded data removed]"
     },
     "metadata": {},
     "output_type": "display_data"
    }
   ],
   "source": [
    "import plotly.graph_objects as go\n",
    "import pandas as pd\n",
    "df = pd.read_csv('TRPO_Pendulum-v1_mv_returns_data.csv')  # 从 CSV 文件中读取数据\n",
    "fig = go.Figure()\n",
    "fig.add_trace(go.Scatter(x=df['Episodes'], y=df['Returns'], mode='lines', name='Returns'))\n",
    "fig.update_layout(\n",
    "    title='TRPO on Pendulum-v1',\n",
    "    xaxis_title='Episodes',\n",
    "    yaxis_title='Returns',\n",
    "    showlegend=True\n",
    ")\n",
    "fig.show()"
   ]
  },
  {
   "cell_type": "markdown",
   "id": "c3f29bd7d401a90",
   "metadata": {
    "collapsed": false,
    "jupyter": {
     "outputs_hidden": false
    }
   },
   "source": [
    "在与**连续动作交互的倒立摆环境**中也能够取得不错的效果，说明 **TRPO** 中的 **信任区域优化方法** 在**离散和连续动作空间**都能有效工作"
   ]
  },
  {
   "cell_type": "markdown",
   "id": "cafe55a978d1452d",
   "metadata": {
    "collapsed": false,
    "jupyter": {
     "outputs_hidden": false
    }
   },
   "source": []
  }
 ],
 "metadata": {
  "kernelspec": {
   "display_name": "Python 3 (ipykernel)",
   "language": "python",
   "name": "python3"
  },
  "language_info": {
   "codemirror_mode": {
    "name": "ipython",
    "version": 3
   },
   "file_extension": ".py",
   "mimetype": "text/x-python",
   "name": "python",
   "nbconvert_exporter": "python",
   "pygments_lexer": "ipython3",
   "version": "3.12.9"
  }
 },
 "nbformat": 4,
 "nbformat_minor": 5
}
