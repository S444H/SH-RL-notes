{
 "cells": [
  {
   "cell_type": "markdown",
   "id": "c96e6457b7d49d23",
   "metadata": {
    "collapsed": false,
    "jupyter": {
     "outputs_hidden": false
    }
   },
   "source": [
    "# 23.2 MARL (MADDPG)\n",
    "> 前文已经介绍了 **多智能体强化学习的基本求解范式：完全中心化 与 完全去中心化**。本节来介绍一种比较经典且效果不错的**进阶范式：中心化训练去中心化执行（centralized training with decentralized execution，CTDE）**：\n",
    "> - **中心化训练**：在训练的时候使用一些单个智能体看不到的 **全局信息** 而以达到更好的训练效果。\n",
    "> - **去中心化执行**：在执行时不使用 **全局信息**，每个智能体完全根据自己的策略执行动作。\n",
    "\n",
    "**CTDE** 可以类比成一个足球队的训练和比赛过程：在训练时，11 个球员可以直接获得教练的指导从而完成球队的整体配合，而教练本身掌握着比赛全局信息，教练的指导也是从整支队、整场比赛的角度进行的；而训练好的 11 个球员在上场比赛时，则根据场上的实时情况直接做出决策，不再有教练的指导。\n",
    "> 所以 **CTDE** 能够在训练时有效地利用全局信息以达到 **更好且更稳定的训练效果**，同时在进行策略模型推断时可以仅利用局部信息，使得算法**具有一定的扩展性**。\n",
    "\n",
    "> **CTDE** 算法主要分为两种：\n",
    "> - 一种是基于值函数的方法，例如 **VDN，QMIX** \n",
    "> - 一种是基于 Actor-Critic 的方法，例如 **MADDPG，COMA** \n",
    "\n",
    "> 本节介绍 **MADDPG** 算法 （[Multi-Agent Actor-Critic for Mixed Cooperative-Competitive Environments](https://arxiv.org/abs/1706.02275)）"
   ]
  },
  {
   "cell_type": "markdown",
   "id": "2b0e2be45d6cd422",
   "metadata": {
    "collapsed": false,
    "jupyter": {
     "outputs_hidden": false
    }
   },
   "source": [
    "## 23.2.1 MADDPG 算法原理\n",
    "- 学习本节内容之前，可以先复习之前的 [DDPG 算法](../RL_Classic_Algorithms/16.DDPG(Pendulum-v1).ipynb) ，**Actor**梯度为：\n",
    "$$\\nabla_\\theta J(\\mu_\\theta)=\\mathbb{E}_{s\\sim\\nu^{\\pi_\\beta}}\n",
    "\\begin{bmatrix}\n",
    "\\nabla_\\theta\\mu_\\theta(s)\\nabla_aQ_\\omega^{\\mu_\\theta}(s,a)|_{a=\\mu_\\theta(s)}\n",
    "\\end{bmatrix}$$\n",
    "> 与 **‘纯DDPG’** 不同，在 **MADDPG** 中 **所有智能体共享一个中心化的 Critic 网络**，该 Critic 网络在训练的过程中同时对每个智能体的 Actor 网络给出指导；而执行时，**每个智能体的 Actor 网络** 则是完全独立做出行动，即去中心化地执行：\n",
    "\n",
    "> ![Overview_of_MADDPG_AC](./Illustrations/Overview_of_MADDPG_AC.png)\n",
    "\n",
    "考虑现在有$N$个连续的策略$\\mu_{\\theta_i}$，**Actor**梯度公式变为：\n",
    "$$\\nabla_{\\theta_i}J(\\mu_i)=\\mathbb{E}_{\\mathbf{x}\\sim\\mathcal{D}}[\\nabla_{\\theta_i}\\mu_i(o_i)\\nabla_{a_i}Q_i^\\mu(\\mathbf{x},a_1,\\ldots,a_N)|_{a_i=\\mu_i(o_i)}]$$\n",
    "- 对于每个智能体 $i$，其动作空间为$A_i$，观测空间为$O_i$\n",
    "- $\\mathbf{x}=(o_{1},\\ldots,o_{N})$ 包含了所有智能体的观测\n",
    "- $\\mathcal{D}$ 表示存储数据的经验回放池，它存储的每一个数据为 $(\\mathbf{x},\\mathbf{x}^{\\prime},a_1,\\ldots,a_N,r_1,\\ldots,r_N)$\n",
    "- 可见，有一个 **Critic** $Q_w$，$N$个 **Actor** $\\mu_\\theta^i$\n",
    "\n",
    "此时在 **MADDPG** 中，**中心化的动作价值网络$Q$** 更新的损失函数变为：\n",
    "$$\\mathcal{L}(\\omega_i)=\\mathbb{E}_{\\mathbf{x},a,r,\\mathbf{x}^{\\prime}}[(Q_i^\\mu(\\mathbf{x},a_1,\\ldots,a_N)-y)^2]$$\n",
    "$$y=r_i+\\gamma Q_i^{\\mu^{\\prime}}(\\mathbf{x}^{\\prime},a_1^{\\prime},\\ldots,a_N^{\\prime})|_{a_j^{\\prime}=\\mu_j^{\\prime}(o_j)}$$"
   ]
  },
  {
   "cell_type": "markdown",
   "id": "818b9d2ea2d264c4",
   "metadata": {
    "collapsed": false,
    "jupyter": {
     "outputs_hidden": false
    }
   },
   "source": [
    "## 23.2.2 MADDPG 代码实践"
   ]
  },
  {
   "cell_type": "markdown",
   "id": "27b01965bfccf6a6",
   "metadata": {
    "collapsed": false,
    "jupyter": {
     "outputs_hidden": false
    }
   },
   "source": [
    "导入基本库"
   ]
  },
  {
   "cell_type": "code",
   "execution_count": 91,
   "id": "a684da7d0c7b63a7",
   "metadata": {
    "ExecuteTime": {
     "end_time": "2025-09-20T08:43:08.809878500Z",
     "start_time": "2025-09-20T08:43:08.736212Z"
    },
    "collapsed": false,
    "jupyter": {
     "outputs_hidden": false
    }
   },
   "outputs": [],
   "source": [
    "import numpy as np\n",
    "from utils.replay_buffer import ReplayBuffer\n",
    "\n",
    "import torch\n",
    "import torch.nn.functional as F"
   ]
  },
  {
   "cell_type": "markdown",
   "id": "bdffb0c6d59d5eab",
   "metadata": {
    "collapsed": false,
    "jupyter": {
     "outputs_hidden": false
    }
   },
   "source": [
    "### 1. 关于环境库\n",
    "同样需新建一个虚拟环境（防止软件包冲突），下载 **MPE2库**（[使用文档](https://mpe2.farama.org/environments/simple_adversary/)），使用其中的 **多智能体粒子环境（multiagent particles environment，MPE）**：\n",
    "(如果图片加载异常，请在浏览器中打开 Notebook)\n",
    "![mpe2_simple_adversary](./Illustrations/simple_adversary.gif)\n",
    "\n",
    "- 该环境中有 1 个红色的对抗智能体（adversary）、$N$ 个蓝色的正常智能体，以及 $N$ 个地点（一般 $N=2$）\n",
    "- 每个智能体的观察空间都为其他智能体的位置以及地点的位置\n",
    "- $N$ 个地点中有一个是目标地点（绿色），正常智能体知道哪一个是目标地点，但对抗智能体不知道\n",
    "- 正常智能体是合作关系：它们其中任意一个距离目标地点足够近，则每个正常智能体都能获得相同的奖励\n",
    "- 对抗智能体如果距离目标地点足够近，也能获得奖励，但它需要猜哪一个才是目标地点\n",
    "\n",
    "因此，性能好的正常智能体会趋于分散到不同的坐标点，以此欺骗对抗智能体。"
   ]
  },
  {
   "cell_type": "markdown",
   "id": "178b8d59b10b413c",
   "metadata": {
    "collapsed": false,
    "jupyter": {
     "outputs_hidden": false
    }
   },
   "source": [
    "***测试（两个版本）：***"
   ]
  },
  {
   "cell_type": "code",
   "execution_count": 92,
   "id": "42a4f5c6b14d5aa0",
   "metadata": {
    "ExecuteTime": {
     "end_time": "2025-09-20T08:43:08.811884400Z",
     "start_time": "2025-09-20T08:43:08.742724900Z"
    },
    "collapsed": false,
    "jupyter": {
     "outputs_hidden": false
    }
   },
   "outputs": [],
   "source": [
    "from mpe2 import simple_adversary_v3"
   ]
  },
  {
   "cell_type": "code",
   "execution_count": 93,
   "id": "9dd2f61a04bb0a8",
   "metadata": {
    "ExecuteTime": {
     "end_time": "2025-09-20T08:43:08.910835100Z",
     "start_time": "2025-09-20T08:43:08.750002800Z"
    },
    "collapsed": false,
    "jupyter": {
     "outputs_hidden": false
    }
   },
   "outputs": [
    {
     "name": "stdout",
     "output_type": "stream",
     "text": [
      "AgentName: adversary_0, Action: 1, Reward: 0.0\n",
      "AgentName: agent_0, Action: 4, Reward: 0.0\n",
      "AgentName: agent_1, Action: 4, Reward: 0.0\n",
      "AgentName: adversary_0, Action: 3, Reward: -1.6175850136777643\n",
      "AgentName: agent_0, Action: 2, Reward: 1.4276513321984416\n",
      "AgentName: agent_1, Action: 0, Reward: 1.4276513321984416\n"
     ]
    }
   ],
   "source": [
    "# 逐个循环智能体\n",
    "env = simple_adversary_v3.env(N=2, max_cycles=2, continuous_actions=False, dynamic_rescaling=True)\n",
    "env.reset(seed=42)\n",
    "\n",
    "for agent in env.agent_iter():  # 一轮执行完之后，3个智能体才有奖励返回\n",
    "    _, _, termination, truncation, _ = env.last()\n",
    "    if termination or truncation:\n",
    "        action = None\n",
    "    else:\n",
    "        # this is where you would insert your policy\n",
    "        action = env.action_space(agent).sample()\n",
    "        observation, reward, _, _, info = env.last()\n",
    "        print(\"AgentName: {}, Action: {}, Reward: {}\".format(agent, action, reward))\n",
    "    env.step(action)  # 注意，执行完动作之后，会将视窗移动到下一个智能体\n",
    "\n",
    "env.close()"
   ]
  },
  {
   "cell_type": "code",
   "execution_count": 94,
   "id": "eae576faa71c1356",
   "metadata": {
    "ExecuteTime": {
     "end_time": "2025-09-20T08:43:09.136401700Z",
     "start_time": "2025-09-20T08:43:08.809878500Z"
    },
    "collapsed": false,
    "jupyter": {
     "outputs_hidden": false
    }
   },
   "outputs": [
    {
     "name": "stdout",
     "output_type": "stream",
     "text": [
      "智能体: ['adversary_0', 'agent_0', 'agent_1']\n",
      "三智能体动作: {'adversary_0': np.int64(3), 'agent_0': np.int64(0), 'agent_1': np.int64(2)}\n",
      "三智能体奖励: defaultdict(<class 'int'>, {'adversary_0': -1.6175850136777643, 'agent_0': 1.4276513321984416, 'agent_1': 1.4276513321984416})\n"
     ]
    }
   ],
   "source": [
    "# 并行执行智能体\n",
    "env = simple_adversary_v3.parallel_env(N=2, max_cycles=1, continuous_actions=False, dynamic_rescaling=True)\n",
    "observations, infos = env.reset(seed=42)\n",
    "print('智能体:', env.agents)\n",
    "\n",
    "while env.agents:\n",
    "    \n",
    "    # this is where you would insert your policy\n",
    "    actions = {agent: env.action_space(agent).sample() for agent in env.agents}\n",
    "    print(\"三智能体动作:\", actions)\n",
    "    observations, rewards, terminations, truncations, infos = env.step(actions)\n",
    "    print(\"三智能体奖励:\", rewards)\n",
    "env.close()"
   ]
  },
  {
   "cell_type": "markdown",
   "id": "986381fe87eed7f0",
   "metadata": {
    "collapsed": false,
    "jupyter": {
     "outputs_hidden": false
    }
   },
   "source": [
    "### 2. 采样动作不可导问题：离散动作空间需要从概率分布中进行采样来选择动作，采样操作不可导，这会导致无法使用反向传播来优化模型（[复习SAC中使用的重参数化技巧（reparameterization trick）](../RL_Classic_Algorithms/17.1_SAC算法原理.ipynb)）\n",
    "> **DDPG** 算法通过 **确定性策略** 针对 **连续动作空间**，使智能体的动作对于其 **策略参数$\\mu_\\theta$** 可导\n",
    "> 但 **MPE** 环境中 **默认** 每个智能体的 **动作空间是离散的**，虽然依旧是 **确定性策略**，但是需要对网络输出进行 **离散分布的采样**，这种采样是 **不可导的**，此时就需要运用之前的 **重参数化方法（这里要用的是 Gumbel-Softmax 技巧）** 让离散分布的采样可导：\n",
    "\n",
    "**Gumbel-Softmax 变换：**\n",
    "1. Gumbel 随机变量的采样（重参数因子$g_i$）\n",
    "$$g_i=-\\log(-\\log u),u\\sim\\mathrm{Uniform}(0,1)$$\n",
    "2. 加入 Gumbel 噪声并进行 softmax\n",
    "$$\\tilde{y}_i=\\frac{\\exp\\left(\\frac{\\log(\\pi_i)+g_i}{\\tau}\\right)}{\\sum_j\\exp\\left(\\frac{\\log(\\pi_j)+g_j}{\\tau}\\right)}$$\n",
    "- $\\tau$ 是温度参数，用来控制离散度，温度越低，近似越接近离散采样\n",
    "- 引入 Gumbel 随机变量和温度参数$\\tau$，得到一个平滑的概率分布，使得模型的输出变得可微\n",
    "- 将原本的离散采样过程（不可导）转化为连续的近似，这样，就能利用反向传播来优化模型\n"
   ]
  },
  {
   "cell_type": "markdown",
   "id": "16139cd4f1d9db6a",
   "metadata": {
    "collapsed": false,
    "jupyter": {
     "outputs_hidden": false
    }
   },
   "source": [
    "#### Gumbel Softmax 采样的相关函数："
   ]
  },
  {
   "cell_type": "code",
   "execution_count": 95,
   "id": "aa6bf15fcc8d09ad",
   "metadata": {
    "ExecuteTime": {
     "end_time": "2025-09-20T08:43:09.136401700Z",
     "start_time": "2025-09-20T08:43:09.085180Z"
    },
    "collapsed": false,
    "jupyter": {
     "outputs_hidden": false
    }
   },
   "outputs": [],
   "source": [
    "def onehot_from_logits(logits, eps=0.01):\n",
    "    \"\"\" 独热（one-hot）离散化 \"\"\"\n",
    "    # 生成最优动作的独热形式\n",
    "    argmax_acs = (logits == logits.max(1, keepdim=True)[0]).float()\n",
    "    # 生成随机动作的独热形式\n",
    "    rand_acs = (torch.eye(logits.shape[1])[\n",
    "    np.random.choice(range(logits.shape[1]), size=logits.shape[0])\n",
    "                ].to(logits.device))\n",
    "    \n",
    "    # 通过epsilon-贪婪算法来选择用哪个动作\n",
    "    return torch.stack([\n",
    "        argmax_acs[i] if r > eps else rand_acs[i]\n",
    "        for i, r in enumerate(torch.rand(logits.shape[0]))\n",
    "    ])\n",
    "\n",
    "\n",
    "def sample_gumbel(shape, eps=1e-20, tens_type=torch.FloatTensor):\n",
    "    \"\"\" 1.Gumbel随机变量的采样 \"\"\"\n",
    "    U = torch.autograd.Variable(tens_type(*shape).uniform_(), requires_grad=False)\n",
    "    return -torch.log(-torch.log(U + eps) + eps)\n",
    "\n",
    "\n",
    "def gumbel_softmax_sample(logits, temperature):\n",
    "    \"\"\" 2.加入Gumbel噪声并进行softmax \"\"\"\n",
    "    y = logits + sample_gumbel(logits.shape, tens_type=type(logits.data)).to(logits.device)\n",
    "    return F.softmax(y / temperature, dim=1)\n",
    "\n",
    "\n",
    "def gumbel_softmax(logits, temperature=1.0):\n",
    "    \"\"\" 从Gumbel-Softmax分布中采样,并进行离散化 \"\"\"\n",
    "    y = gumbel_softmax_sample(logits, temperature)\n",
    "    y_hard = onehot_from_logits(y)\n",
    "    y = (y_hard.to(logits.device) - y).detach() + y  # 使硬选择部分y_hard与模型的训练过程断开连接,但又保证在训练中通过软选择y反传梯度对模型进行优化\n",
    "    return y  # 返回的值是独热量y_hard,但是它的梯度是y,既能够得到一个与环境交互的离散动作,又可以正确地反传梯度"
   ]
  },
  {
   "cell_type": "markdown",
   "id": "d7386a8271900609",
   "metadata": {
    "collapsed": false,
    "jupyter": {
     "outputs_hidden": false
    }
   },
   "source": [
    "#### 注意： \n",
    "在最新的 **MPE** 环境中可以设置每个智能体的 **动作空间为连续**"
   ]
  },
  {
   "cell_type": "markdown",
   "id": "62c8ed81a793ef27",
   "metadata": {
    "collapsed": false,
    "jupyter": {
     "outputs_hidden": false
    }
   },
   "source": [
    "### 3. 每个智能体：单智能体 DDPG\n"
   ]
  },
  {
   "cell_type": "code",
   "execution_count": 96,
   "id": "5196b8aaeb8c867d",
   "metadata": {
    "ExecuteTime": {
     "end_time": "2025-09-20T08:43:09.137401600Z",
     "start_time": "2025-09-20T08:43:09.096227300Z"
    },
    "collapsed": false,
    "jupyter": {
     "outputs_hidden": false
    }
   },
   "outputs": [],
   "source": [
    "# 合并定义策略网络和价值网络\n",
    "class TwoLayerFC(torch.nn.Module):\n",
    "    def __init__(self, num_in, num_out, hidden_dim):\n",
    "        super().__init__()\n",
    "        self.fc1 = torch.nn.Linear(num_in, hidden_dim)\n",
    "        self.fc2 = torch.nn.Linear(hidden_dim, hidden_dim)\n",
    "        self.fc3 = torch.nn.Linear(hidden_dim, num_out)\n",
    "\n",
    "    def forward(self, x):\n",
    "        x = F.relu(self.fc1(x))\n",
    "        x = F.relu(self.fc2(x))\n",
    "        return self.fc3(x)\n",
    "\n",
    "\n",
    "class DDPG:\n",
    "    \"\"\" DDPG算法 \"\"\"\n",
    "    def __init__(self, state_dim, action_dim, critic_input_dim, hidden_dim, actor_lr, critic_lr, device):\n",
    "        self.actor = TwoLayerFC(state_dim, action_dim, hidden_dim).to(device)\n",
    "        self.target_actor = TwoLayerFC(state_dim, action_dim, hidden_dim).to(device)\n",
    "        \n",
    "        self.critic = TwoLayerFC(critic_input_dim, 1, hidden_dim).to(device)\n",
    "        self.target_critic = TwoLayerFC(critic_input_dim, 1, hidden_dim).to(device)\n",
    "        \n",
    "        # 初始化目标网络并设置和主网络相同的参数\n",
    "        self.target_critic.load_state_dict(self.critic.state_dict())\n",
    "        self.target_actor.load_state_dict(self.actor.state_dict())\n",
    "        \n",
    "        self.actor_optimizer = torch.optim.Adam(self.actor.parameters(), lr=actor_lr)\n",
    "        self.critic_optimizer = torch.optim.Adam(self.critic.parameters(), lr=critic_lr)\n",
    "\n",
    "    # 重参数化方法\n",
    "    def take_action(self, state, explore=False):\n",
    "        action = self.actor(state)\n",
    "        if explore:\n",
    "            action = gumbel_softmax(action)\n",
    "        else:\n",
    "            action = onehot_from_logits(action)\n",
    "        return action.detach().cpu().numpy()[0]\n",
    "    \n",
    "    # 软更新\n",
    "    def soft_update(self, net, target_net, tau):\n",
    "        for param_target, param in zip(target_net.parameters(), net.parameters()):\n",
    "            param_target.data.copy_(param_target.data * (1.0 - tau) + param.data * tau)"
   ]
  },
  {
   "cell_type": "markdown",
   "id": "f8c2d5501e778e4d",
   "metadata": {
    "collapsed": false,
    "jupyter": {
     "outputs_hidden": false
    }
   },
   "source": [
    "### 4. MADDPG 类：维护每个智能体\n",
    "> 每个智能体都有自己的 actor 网络，但它们的 critic 网络 是共享的"
   ]
  },
  {
   "cell_type": "code",
   "execution_count": 97,
   "id": "8570b0c1b1781d0d",
   "metadata": {
    "ExecuteTime": {
     "end_time": "2025-09-20T08:43:09.202461600Z",
     "start_time": "2025-09-20T08:43:09.112777600Z"
    },
    "collapsed": false,
    "jupyter": {
     "outputs_hidden": false
    }
   },
   "outputs": [],
   "source": [
    "class MADDPG:\n",
    "    def __init__(self, env, device, actor_lr, critic_lr, hidden_dim,\n",
    "                 state_dims, action_dims, critic_input_dim, gamma, tau):\n",
    "        self.agents = []\n",
    "        for i in range(len(env.agents)):  # 3\n",
    "            self.agents.append(\n",
    "                DDPG(state_dims[i], action_dims[i], critic_input_dim,\n",
    "                     hidden_dim, actor_lr, critic_lr, device))\n",
    "        self.gamma = gamma\n",
    "        self.tau = tau\n",
    "        self.device = device\n",
    "\n",
    "    @property\n",
    "    def policies(self):\n",
    "        # 获取所有智能体的 actor 网络\n",
    "        return [agt.actor for agt in self.agents]\n",
    "\n",
    "    @property\n",
    "    def target_policies(self):\n",
    "        # 获取所有智能体的 target_actor 网络\n",
    "        return [agt.target_actor for agt in self.agents]\n",
    "\n",
    "    # 多智能体执行动作\n",
    "    def take_action(self, states, explore):\n",
    "        # 固定的全局顺序\n",
    "        full_order = ['adversary_0', 'agent_0', 'agent_1']\n",
    "        tensor_states = {}\n",
    "        actions = {}\n",
    "        for idx, name in enumerate(full_order):\n",
    "             if name in states:        # 只对当前还活跃的 agent 出动作\n",
    "                 obs_tensor = torch.tensor(\n",
    "                     np.array([states[name]]), dtype=torch.float, device=self.device\n",
    "                 )\n",
    "                 tensor_states[name] = obs_tensor\n",
    "                 actions[name] = self.agents[idx].take_action(obs_tensor, explore)\n",
    "        return actions  # 返回字典\n",
    "\n",
    "\n",
    "    # 策略网络更新和评估网络更新\n",
    "    def update(self, sample, i_agent):\n",
    "        obs, act, rew, next_obs, done = sample\n",
    "        cur_agent = self.agents[i_agent]\n",
    "        \n",
    "        # 评估网络更新\n",
    "        cur_agent.critic_optimizer.zero_grad()\n",
    "        all_target_act = [\n",
    "            onehot_from_logits(pi(_next_obs))\n",
    "            for pi, _next_obs in zip(self.target_policies, next_obs)\n",
    "        ]  # 计算目标评估网络所选择的动作\n",
    "        target_critic_input = torch.cat((*next_obs, *all_target_act), dim=1)\n",
    "        target_critic_value = (rew[i_agent].view(-1, 1) +\n",
    "                               self.gamma * cur_agent.target_critic(target_critic_input) * (1 - done[i_agent].view(-1, 1)))\n",
    "        critic_input = torch.cat((*obs, *act), dim=1)\n",
    "        critic_value = cur_agent.critic(critic_input)\n",
    "        # MSE（均方误差）损失函数，用于计算 critic 网络的损失\n",
    "        critic_loss = torch.nn.MSELoss(critic_value, target_critic_value.detach())\n",
    "        critic_loss.backward()\n",
    "        cur_agent.critic_optimizer.step()\n",
    "\n",
    "        # 策略网络更新\n",
    "        cur_agent.actor_optimizer.zero_grad()\n",
    "        cur_actor_out = cur_agent.actor(obs[i_agent])\n",
    "        cur_act_vf_in = gumbel_softmax(cur_actor_out)\n",
    "        all_actor_acs = []  # 包含所有智能体的动作选择\n",
    "        for i, (pi, _obs) in enumerate(zip(self.policies, obs)):\n",
    "            if i == i_agent:\n",
    "                all_actor_acs.append(cur_act_vf_in)\n",
    "            else:\n",
    "                all_actor_acs.append(onehot_from_logits(pi(_obs)))\n",
    "        vf_in = torch.cat((*obs, *all_actor_acs), dim=1)\n",
    "        actor_loss = -cur_agent.critic(vf_in).mean()  # 目标是最大化 critic 网络的输出\n",
    "        actor_loss += (cur_actor_out**2).mean() * 1e-3  # 为了增加稳定性，防止其输出过大或过小，加上一个 L2 正则化项\n",
    "        actor_loss.backward()\n",
    "        cur_agent.actor_optimizer.step()\n",
    "\n",
    "    def update_all_targets(self):\n",
    "        for agt in self.agents:\n",
    "            agt.soft_update(agt.actor, agt.target_actor, self.tau)\n",
    "            agt.soft_update(agt.critic, agt.target_critic, self.tau)"
   ]
  },
  {
   "cell_type": "markdown",
   "id": "bc9c79d6485104c3",
   "metadata": {
    "collapsed": false,
    "jupyter": {
     "outputs_hidden": false
    }
   },
   "source": [
    "### 5. 测试与训练"
   ]
  },
  {
   "cell_type": "markdown",
   "id": "faa4f6db3f599ba7",
   "metadata": {
    "collapsed": false,
    "jupyter": {
     "outputs_hidden": false
    }
   },
   "source": [
    "#### 参数设置："
   ]
  },
  {
   "cell_type": "code",
   "execution_count": 98,
   "id": "ca09b4dd359de539",
   "metadata": {
    "ExecuteTime": {
     "end_time": "2025-09-20T08:43:09.495970700Z",
     "start_time": "2025-09-20T08:43:09.145431400Z"
    },
    "collapsed": false,
    "jupyter": {
     "outputs_hidden": false
    }
   },
   "outputs": [
    {
     "name": "stdout",
     "output_type": "stream",
     "text": [
      "adversary_0\n",
      "agent_0\n",
      "agent_1\n",
      "[np.int64(5), np.int64(5), np.int64(5)] [8, 10, 10] 43\n"
     ]
    }
   ],
   "source": [
    "env = simple_adversary_v3.parallel_env(N=2, max_cycles=25, continuous_actions=False, dynamic_rescaling=True)\n",
    "env.reset(seed=42)\n",
    "device = torch.device(\"cuda\" if torch.cuda.is_available() else \"cpu\")\n",
    "actor_lr = 1e-2\n",
    "critic_lr = 1e-2\n",
    "hidden_dim = 64\n",
    "gamma = 0.95\n",
    "tau = 1e-2\n",
    "\n",
    "buffer_size = 100000\n",
    "replay_buffer = ReplayBuffer(buffer_size)\n",
    "\n",
    "action_dims = []\n",
    "state_dims = []\n",
    "for agent in env.agents:\n",
    "    action_space = env.action_space(agent)\n",
    "    print(agent)\n",
    "    observation_space = env.observation_space(agent)\n",
    "    action_dims.append(action_space.n)  # 'n'表示离散动作空间的大小\n",
    "    state_dims.append(observation_space.shape[0])\n",
    "\n",
    "critic_input_dim = sum(state_dims) + sum(action_dims)\n",
    "print(action_dims, state_dims, critic_input_dim)\n",
    "\n",
    "maddpg = MADDPG(env, device, actor_lr, critic_lr, hidden_dim, state_dims,\n",
    "                action_dims, critic_input_dim, gamma, tau)\n"
   ]
  },
  {
   "cell_type": "markdown",
   "id": "fc06fe9682efba66",
   "metadata": {
    "collapsed": false,
    "jupyter": {
     "outputs_hidden": false
    }
   },
   "source": [
    "#### 功能函数："
   ]
  },
  {
   "cell_type": "code",
   "execution_count": 99,
   "id": "c06f61bdbce80fec",
   "metadata": {
    "ExecuteTime": {
     "end_time": "2025-09-20T08:43:09.513263600Z",
     "start_time": "2025-09-20T08:43:09.487436800Z"
    },
    "collapsed": false,
    "jupyter": {
     "outputs_hidden": false
    }
   },
   "outputs": [],
   "source": [
    "def evaluate(maddpg, n_episode=100):\n",
    "    env = simple_adversary_v3.parallel_env(\n",
    "        N=2, max_cycles=25,\n",
    "        continuous_actions=False, dynamic_rescaling=True\n",
    "    )\n",
    "    returns = np.zeros(3, dtype=np.float32)\n",
    "\n",
    "    for _ in range(n_episode):\n",
    "        obs, _ = env.reset()\n",
    "        while env.agents:  # 25\n",
    "            active_agents = list(env.agents)  # 保存当前活跃agent\n",
    "            # 只对当前活跃的 agent 出动作\n",
    "            actions = maddpg.take_action(obs, explore=False)\n",
    "            int_actions = {\n",
    "                name: np.int64(np.argmax(vec))\n",
    "                for name, vec in actions.items()\n",
    "            }\n",
    "\n",
    "            obs, rew, term, trunc, info = env.step(int_actions)\n",
    "            r = np.array([rew[name] for name in active_agents], dtype=np.float32)\n",
    "            returns[:len(r)] += r / n_episode\n",
    "    return returns.tolist()\n",
    "\n"
   ]
  },
  {
   "cell_type": "markdown",
   "id": "85736dfde75fc773",
   "metadata": {
    "collapsed": false,
    "jupyter": {
     "outputs_hidden": false
    }
   },
   "source": [
    "#### 训练:"
   ]
  },
  {
   "cell_type": "code",
   "execution_count": 100,
   "id": "e0fde686f6739e5f",
   "metadata": {
    "ExecuteTime": {
     "end_time": "2025-09-20T09:19:17.181396Z",
     "start_time": "2025-09-20T08:43:09.500047800Z"
    },
    "collapsed": false,
    "jupyter": {
     "outputs_hidden": false
    }
   },
   "outputs": [
    {
     "name": "stdout",
     "output_type": "stream",
     "text": [
      "Episode: 100, [-39.49455261230469, 17.555511474609375, 17.555511474609375]\n",
      "Episode: 200, [-35.70357894897461, 14.696052551269531, 14.696052551269531]\n",
      "Episode: 300, [-38.26653289794922, 15.929628372192383, 15.929628372192383]\n",
      "Episode: 400, [-39.30051803588867, 16.908096313476562, 16.908096313476562]\n",
      "Episode: 500, [-39.92113494873047, 19.14162826538086, 19.14162826538086]\n",
      "Episode: 600, [-40.55463790893555, 18.90612030029297, 18.90612030029297]\n",
      "Episode: 700, [-39.65976333618164, 17.48076820373535, 17.48076820373535]\n",
      "Episode: 800, [-37.20748519897461, 16.221908569335938, 16.221908569335938]\n",
      "Episode: 900, [-38.85282516479492, 17.67352867126465, 17.67352867126465]\n",
      "Episode: 1000, [-39.62220001220703, 18.035978317260742, 18.035978317260742]\n",
      "Episode: 1100, [-36.84063720703125, 13.69178295135498, 13.69178295135498]\n",
      "Episode: 1200, [-38.85507583618164, 17.752840042114258, 17.752840042114258]\n",
      "Episode: 1300, [-40.33884048461914, 18.937265396118164, 18.937265396118164]\n",
      "Episode: 1400, [-39.023406982421875, 19.17535972595215, 19.17535972595215]\n",
      "Episode: 1500, [-36.01118469238281, 14.59730339050293, 14.59730339050293]\n",
      "Episode: 1600, [-38.27931594848633, 16.88844871520996, 16.88844871520996]\n",
      "Episode: 1700, [-37.91725158691406, 16.757564544677734, 16.757564544677734]\n",
      "Episode: 1800, [-40.155914306640625, 19.273706436157227, 19.273706436157227]\n",
      "Episode: 1900, [-41.83842849731445, 20.958284378051758, 20.958284378051758]\n",
      "Episode: 2000, [-38.51060104370117, 16.58293342590332, 16.58293342590332]\n",
      "Episode: 2100, [-36.46730041503906, 15.508942604064941, 15.508942604064941]\n",
      "Episode: 2200, [-41.02043914794922, 19.902292251586914, 19.902292251586914]\n",
      "Episode: 2300, [-41.55448532104492, 19.500822067260742, 19.500822067260742]\n",
      "Episode: 2400, [-40.5352668762207, 19.567378997802734, 19.567378997802734]\n",
      "Episode: 2500, [-37.07568359375, 15.504912376403809, 15.504912376403809]\n",
      "Episode: 2600, [-42.01658630371094, 19.283235549926758, 19.283235549926758]\n",
      "Episode: 2700, [-37.134334564208984, 14.996087074279785, 14.996087074279785]\n",
      "Episode: 2800, [-38.895931243896484, 19.393964767456055, 19.393964767456055]\n",
      "Episode: 2900, [-38.01894760131836, 16.167747497558594, 16.167747497558594]\n",
      "Episode: 3000, [-38.333274841308594, 18.56304931640625, 18.56304931640625]\n",
      "Episode: 3100, [-39.698184967041016, 18.34056282043457, 18.34056282043457]\n",
      "Episode: 3200, [-36.39874267578125, 15.523962020874023, 15.523962020874023]\n",
      "Episode: 3300, [-36.2965202331543, 15.481454849243164, 15.481454849243164]\n",
      "Episode: 3400, [-37.40674591064453, 15.304153442382812, 15.304153442382812]\n",
      "Episode: 3500, [-38.8430290222168, 15.486260414123535, 15.486260414123535]\n",
      "Episode: 3600, [-37.03588104248047, 16.458730697631836, 16.458730697631836]\n",
      "Episode: 3700, [-35.826873779296875, 13.392046928405762, 13.392046928405762]\n",
      "Episode: 3800, [-34.89604187011719, 14.148124694824219, 14.148124694824219]\n",
      "Episode: 3900, [-37.6214599609375, 16.192716598510742, 16.192716598510742]\n",
      "Episode: 4000, [-40.98366165161133, 20.175189971923828, 20.175189971923828]\n",
      "Episode: 4100, [-37.824378967285156, 16.199670791625977, 16.199670791625977]\n",
      "Episode: 4200, [-42.317543029785156, 20.954633712768555, 20.954633712768555]\n",
      "Episode: 4300, [-38.797271728515625, 18.3037109375, 18.3037109375]\n",
      "Episode: 4400, [-41.342552185058594, 20.383451461791992, 20.383451461791992]\n",
      "Episode: 4500, [-36.85662078857422, 14.873250007629395, 14.873250007629395]\n",
      "Episode: 4600, [-38.03070068359375, 16.447193145751953, 16.447193145751953]\n",
      "Episode: 4700, [-41.09294128417969, 19.630189895629883, 19.630189895629883]\n",
      "Episode: 4800, [-40.44772720336914, 18.80443000793457, 18.80443000793457]\n",
      "Episode: 4900, [-40.119544982910156, 18.89760971069336, 18.89760971069336]\n",
      "Episode: 5000, [-36.893253326416016, 15.654623985290527, 15.654623985290527]\n",
      "Episode: 5100, [-39.23163986206055, 17.7756290435791, 17.7756290435791]\n",
      "Episode: 5200, [-40.02177047729492, 16.867263793945312, 16.867263793945312]\n",
      "Episode: 5300, [-40.0339469909668, 19.474653244018555, 19.474653244018555]\n",
      "Episode: 5400, [-40.43751907348633, 19.140338897705078, 19.140338897705078]\n",
      "Episode: 5500, [-40.88385009765625, 18.10629653930664, 18.10629653930664]\n",
      "Episode: 5600, [-40.52762222290039, 18.699932098388672, 18.699932098388672]\n",
      "Episode: 5700, [-37.335994720458984, 16.312692642211914, 16.312692642211914]\n",
      "Episode: 5800, [-38.0995979309082, 16.82786750793457, 16.82786750793457]\n",
      "Episode: 5900, [-40.192138671875, 17.778532028198242, 17.778532028198242]\n",
      "Episode: 6000, [-37.381126403808594, 15.476539611816406, 15.476539611816406]\n",
      "Episode: 6100, [-40.57375717163086, 19.56611442565918, 19.56611442565918]\n",
      "Episode: 6200, [-37.45220184326172, 15.541279792785645, 15.541279792785645]\n",
      "Episode: 6300, [-39.59762191772461, 18.727170944213867, 18.727170944213867]\n",
      "Episode: 6400, [-38.88520812988281, 17.61004638671875, 17.61004638671875]\n",
      "Episode: 6500, [-38.72415542602539, 17.03269386291504, 17.03269386291504]\n",
      "Episode: 6600, [-39.22781753540039, 19.70201873779297, 19.70201873779297]\n",
      "Episode: 6700, [-41.13772964477539, 20.90119743347168, 20.90119743347168]\n",
      "Episode: 6800, [-40.40081024169922, 19.036100387573242, 19.036100387573242]\n",
      "Episode: 6900, [-39.42363739013672, 18.249507904052734, 18.249507904052734]\n",
      "Episode: 7000, [-35.643089294433594, 14.78957462310791, 14.78957462310791]\n",
      "Episode: 7100, [-39.0392951965332, 17.34939193725586, 17.34939193725586]\n",
      "Episode: 7200, [-37.09369659423828, 15.184965133666992, 15.184965133666992]\n",
      "Episode: 7300, [-37.73765563964844, 16.52851104736328, 16.52851104736328]\n",
      "Episode: 7400, [-39.644813537597656, 17.34415626525879, 17.34415626525879]\n",
      "Episode: 7500, [-37.373619079589844, 16.001131057739258, 16.001131057739258]\n",
      "Episode: 7600, [-38.30649948120117, 17.212772369384766, 17.212772369384766]\n",
      "Episode: 7700, [-38.42064666748047, 17.75146484375, 17.75146484375]\n",
      "Episode: 7800, [-35.948360443115234, 15.537262916564941, 15.537262916564941]\n",
      "Episode: 7900, [-40.88633346557617, 18.705184936523438, 18.705184936523438]\n",
      "Episode: 8000, [-41.20903015136719, 18.728748321533203, 18.728748321533203]\n",
      "Episode: 8100, [-37.70505142211914, 15.911388397216797, 15.911388397216797]\n",
      "Episode: 8200, [-40.18448257446289, 17.896045684814453, 17.896045684814453]\n",
      "Episode: 8300, [-38.06672286987305, 16.229387283325195, 16.229387283325195]\n",
      "Episode: 8400, [-39.17592239379883, 16.28791618347168, 16.28791618347168]\n",
      "Episode: 8500, [-38.7812385559082, 18.11688995361328, 18.11688995361328]\n",
      "Episode: 8600, [-39.95460510253906, 19.221284866333008, 19.221284866333008]\n",
      "Episode: 8700, [-40.66187286376953, 19.316181182861328, 19.316181182861328]\n",
      "Episode: 8800, [-39.318382263183594, 18.933446884155273, 18.933446884155273]\n",
      "Episode: 8900, [-40.58756637573242, 19.508655548095703, 19.508655548095703]\n",
      "Episode: 9000, [-39.580204010009766, 19.123865127563477, 19.123865127563477]\n",
      "Episode: 9100, [-41.61478805541992, 20.335491180419922, 20.335491180419922]\n",
      "Episode: 9200, [-37.46968078613281, 14.670746803283691, 14.670746803283691]\n",
      "Episode: 9300, [-37.54787063598633, 17.278223037719727, 17.278223037719727]\n",
      "Episode: 9400, [-40.484535217285156, 18.562379837036133, 18.562379837036133]\n",
      "Episode: 9500, [-38.95661926269531, 19.247753143310547, 19.247753143310547]\n",
      "Episode: 9600, [-37.92996597290039, 16.86590003967285, 16.86590003967285]\n",
      "Episode: 9700, [-40.13882827758789, 18.71858787536621, 18.71858787536621]\n",
      "Episode: 9800, [-37.97050476074219, 17.75269317626953, 17.75269317626953]\n",
      "Episode: 9900, [-37.64851760864258, 17.694847106933594, 17.694847106933594]\n",
      "Episode: 10000, [-41.2411994934082, 17.84561538696289, 17.84561538696289]\n"
     ]
    }
   ],
   "source": [
    "return_list = []  # 记录每一轮的回报（return）\n",
    "total_step = 0\n",
    "num_episodes = 10000\n",
    "minimal_size = 4000\n",
    "update_interval = 100  # 更新间隔\n",
    "batch_size = 1024  # 训练样本大小\n",
    "\n",
    "for i_episode in range(num_episodes):\n",
    "    states, _ = env.reset()\n",
    "    if len(states)<3:\n",
    "        print(len(states))\n",
    "    while env.agents:  # 25\n",
    "        actions = maddpg.take_action(states, explore=True)\n",
    "        int_actions = {\n",
    "            name: np.int64(np.argmax(vec))\n",
    "            for name, vec in actions.items()\n",
    "        }\n",
    "        \n",
    "        next_states, rewards, done, truncations, infos = env.step(int_actions)\n",
    "        \n",
    "        s = [states[name] for name in env.agents]\n",
    "        a = [actions[name] for name in env.agents]\n",
    "        r = [rewards[name] for name in env.agents]\n",
    "        s_next = [next_states[name] for name in env.agents]\n",
    "        d = [done[name] for name in env.agents]\n",
    "        replay_buffer.add(s, a, r, s_next, d)\n",
    "        \n",
    "        states = next_states\n",
    "\n",
    "        total_step += 1\n",
    "        if replay_buffer.size() >= minimal_size and total_step % update_interval == 0:\n",
    "            sample = replay_buffer.sample1(batch_size)  # 1024\n",
    "\n",
    "            def stack_array(x):\n",
    "                # 转置\n",
    "                transposed = list(zip(*x))\n",
    "                return [\n",
    "                    torch.as_tensor(np.vstack(group), dtype=torch.float32, device=device)\n",
    "                    for group in transposed\n",
    "                ]\n",
    "\n",
    "            sample = [stack_array(x) for x in sample]\n",
    "            for a_i in range(len(env.agents)):\n",
    "                maddpg.update(sample, a_i)\n",
    "            maddpg.update_all_targets()\n",
    "            \n",
    "    if (i_episode + 1) % 100 == 0:\n",
    "        ep_returns = evaluate(maddpg)\n",
    "        return_list.append(ep_returns)\n",
    "        print(f\"Episode: {i_episode+1}, {ep_returns}\")"
   ]
  },
  {
   "cell_type": "markdown",
   "id": "bc6566e9002dc283",
   "metadata": {
    "collapsed": false,
    "jupyter": {
     "outputs_hidden": false
    }
   },
   "source": [
    "#### 绘图："
   ]
  },
  {
   "cell_type": "code",
   "execution_count": 101,
   "id": "971ca0f679a0ec7e",
   "metadata": {
    "ExecuteTime": {
     "end_time": "2025-09-20T09:19:17.951630300Z",
     "start_time": "2025-09-20T09:19:17.172891100Z"
    },
    "collapsed": false,
    "jupyter": {
     "outputs_hidden": false
    }
   },
   "outputs": [
    {
     "name": "stdout",
     "output_type": "stream",
     "text": [
      "回报数据已保存到 MADDPG_returns_data.csv\n"
     ]
    }
   ],
   "source": [
    "import numpy as np\n",
    "import pandas as pd\n",
    "# 保存为CSV文件\n",
    "return_array = np.array(return_list)\n",
    "pd.DataFrame(return_array).to_csv('MADDPG_returns_data.csv', index=False, header=False)\n",
    "print(\"回报数据已保存到 MADDPG_returns_data.csv\")"
   ]
  },
  {
   "cell_type": "code",
   "execution_count": 1,
   "id": "3a5397c388aa6373",
   "metadata": {
    "ExecuteTime": {
     "end_time": "2025-09-20T09:19:20.401611800Z",
     "start_time": "2025-09-20T09:19:17.941072400Z"
    },
    "collapsed": false,
    "jupyter": {
     "outputs_hidden": false
    }
   },
   "outputs": [
    {
     "data": {
      "application/vnd.plotly.v1+json": {
       "config": {
        "plotlyServerURL": "https://plot.ly"
       },
       "data": [
        {
         "line": {
          "width": 2
         },
         "mode": "lines",
         "name": "adversary_0",
         "type": "scatter",
         "x": {
          "bdata": "AABkAMgALAGQAfQBWAK8AiADhAPoA0wEsAQUBXgF3AVABqQGCAdsB9AHNAiYCPwIYAnECSgKjArwClQLuAscDIAM5AxIDawNEA50DtgOPA+gDwQQaBDMEDARlBH4EVwSwBIkE4gT7BNQFLQUGBV8FeAVRBaoFgwXcBfUFzgYnBgAGWQZyBksGpAa9BpYG7wbIByEHOgcTB2wHRQeeB7cHkAfpB8IIGwg0CA0IZgh/CFgIsQiKCOMI/AjVCS4JBwlgCXkJUgmrCY=",
          "dtype": "i2"
         },
         "y": {
          "bdata": "AAAAgE2/Q8BVVVW1KOlCwM3MzAzFREPAAAAAQC9+Q8BVVVVVAGNDwFVVVRXRZEPAHMdx/Px0Q8CO4zjOW31DwDmO4zggjEPAchzHsVt/Q8Acx3F8vT5DwI7jOG4bK0PAHMdxnDM1Q8DkOI4DvEdDwI7jOA5BZ0PAVVVVNQF/Q8BVVVWVC11DwFVVVTW9ZkPAVVVVlbyKQ8DkOI5DFMtDwDmO4/j1uUPAchzHMUP0Q8BVVVX1SclDwMdxHKdwn0PAOY7jmHKYQ8DHcRxn/LJDwDmO4zguoEPAHMdxvNpWQ8CO4zjukRpDwKuqqkpHH0PAOY7juCTyQsDkOI5DvvBCwKuqqioYxULA5DiOA66YQsAAAABgjo5CwMdxHKfWoELAHMdxPB21QsAcx3EcvwpDwBzHcdyFHkPAOY7jWBJCQ8CO4ziuhT9DwHIcx5HdXkPAq6qqyv+2Q8CrqqrqMd9DwOQ4jsPn0kPA5DiOo6nFQ8BVVVU1xplDwDmO43gwq0PAHMdx/JOYQ8DkOI6jgctDwOQ4jqMV9EPAAAAAYAvsQ8DHcRznyb9DwAAAAIAPo0PAAAAAYPrRQ8Acx3HcqLdDwFVVVZWCv0PAHMdxvMqaQ8DkOI7D2I5DwI7jOO5rckPAVVVVtcVYQ8AAAACgrXNDwAAAACDjnkPAAAAA4NqhQ8CO4zhu575DwKuqqmrHeEPAOY7j2FmPQ8BVVVVVvWtDwDmO4zhrW0PAHMdxPINoQ8CO4zhOJE5DwBzHcRzgJUPAjuM4jrYJQ8BVVVV1SdhCwMdxHIfbIkPAq6qqSrdBQ8CrqqoqaUpDwKuqqso1bUPA5DiOI8RWQ8AAAAAgZnBDwDmO45gmd0PAchzHkfeMQ8ByHMfxANBDwFVVVTW0uUPAx3Ech92wQ8AAAADAiMtDwFVVVVXg30PAchzHkWLXQ8DkOI4DO8BDwMdxHId02EPAOY7j+ELKQ8DHcRxnaKNDwI7jOI4Tr0PAAAAAINuJQ8ByHMcRYm5DwAAAAOARaUPAt23b9g2ZQ8DNzMzMLn5DwAAAAEAJekPAAAAAoN+eRMA=",
          "dtype": "f8"
         }
        }
       ],
       "layout": {
        "hovermode": "x unified",
        "template": {
         "data": {
          "bar": [
           {
            "error_x": {
             "color": "#2a3f5f"
            },
            "error_y": {
             "color": "#2a3f5f"
            },
            "marker": {
             "line": {
              "color": "white",
              "width": 0.5
             },
             "pattern": {
              "fillmode": "overlay",
              "size": 10,
              "solidity": 0.2
             }
            },
            "type": "bar"
           }
          ],
          "barpolar": [
           {
            "marker": {
             "line": {
              "color": "white",
              "width": 0.5
             },
             "pattern": {
              "fillmode": "overlay",
              "size": 10,
              "solidity": 0.2
             }
            },
            "type": "barpolar"
           }
          ],
          "carpet": [
           {
            "aaxis": {
             "endlinecolor": "#2a3f5f",
             "gridcolor": "#C8D4E3",
             "linecolor": "#C8D4E3",
             "minorgridcolor": "#C8D4E3",
             "startlinecolor": "#2a3f5f"
            },
            "baxis": {
             "endlinecolor": "#2a3f5f",
             "gridcolor": "#C8D4E3",
             "linecolor": "#C8D4E3",
             "minorgridcolor": "#C8D4E3",
             "startlinecolor": "#2a3f5f"
            },
            "type": "carpet"
           }
          ],
          "choropleth": [
           {
            "colorbar": {
             "outlinewidth": 0,
             "ticks": ""
            },
            "type": "choropleth"
           }
          ],
          "contour": [
           {
            "colorbar": {
             "outlinewidth": 0,
             "ticks": ""
            },
            "colorscale": [
             [
              0,
              "#0d0887"
             ],
             [
              0.1111111111111111,
              "#46039f"
             ],
             [
              0.2222222222222222,
              "#7201a8"
             ],
             [
              0.3333333333333333,
              "#9c179e"
             ],
             [
              0.4444444444444444,
              "#bd3786"
             ],
             [
              0.5555555555555556,
              "#d8576b"
             ],
             [
              0.6666666666666666,
              "#ed7953"
             ],
             [
              0.7777777777777778,
              "#fb9f3a"
             ],
             [
              0.8888888888888888,
              "#fdca26"
             ],
             [
              1,
              "#f0f921"
             ]
            ],
            "type": "contour"
           }
          ],
          "contourcarpet": [
           {
            "colorbar": {
             "outlinewidth": 0,
             "ticks": ""
            },
            "type": "contourcarpet"
           }
          ],
          "heatmap": [
           {
            "colorbar": {
             "outlinewidth": 0,
             "ticks": ""
            },
            "colorscale": [
             [
              0,
              "#0d0887"
             ],
             [
              0.1111111111111111,
              "#46039f"
             ],
             [
              0.2222222222222222,
              "#7201a8"
             ],
             [
              0.3333333333333333,
              "#9c179e"
             ],
             [
              0.4444444444444444,
              "#bd3786"
             ],
             [
              0.5555555555555556,
              "#d8576b"
             ],
             [
              0.6666666666666666,
              "#ed7953"
             ],
             [
              0.7777777777777778,
              "#fb9f3a"
             ],
             [
              0.8888888888888888,
              "#fdca26"
             ],
             [
              1,
              "#f0f921"
             ]
            ],
            "type": "heatmap"
           }
          ],
          "histogram": [
           {
            "marker": {
             "pattern": {
              "fillmode": "overlay",
              "size": 10,
              "solidity": 0.2
             }
            },
            "type": "histogram"
           }
          ],
          "histogram2d": [
           {
            "colorbar": {
             "outlinewidth": 0,
             "ticks": ""
            },
            "colorscale": [
             [
              0,
              "#0d0887"
             ],
             [
              0.1111111111111111,
              "#46039f"
             ],
             [
              0.2222222222222222,
              "#7201a8"
             ],
             [
              0.3333333333333333,
              "#9c179e"
             ],
             [
              0.4444444444444444,
              "#bd3786"
             ],
             [
              0.5555555555555556,
              "#d8576b"
             ],
             [
              0.6666666666666666,
              "#ed7953"
             ],
             [
              0.7777777777777778,
              "#fb9f3a"
             ],
             [
              0.8888888888888888,
              "#fdca26"
             ],
             [
              1,
              "#f0f921"
             ]
            ],
            "type": "histogram2d"
           }
          ],
          "histogram2dcontour": [
           {
            "colorbar": {
             "outlinewidth": 0,
             "ticks": ""
            },
            "colorscale": [
             [
              0,
              "#0d0887"
             ],
             [
              0.1111111111111111,
              "#46039f"
             ],
             [
              0.2222222222222222,
              "#7201a8"
             ],
             [
              0.3333333333333333,
              "#9c179e"
             ],
             [
              0.4444444444444444,
              "#bd3786"
             ],
             [
              0.5555555555555556,
              "#d8576b"
             ],
             [
              0.6666666666666666,
              "#ed7953"
             ],
             [
              0.7777777777777778,
              "#fb9f3a"
             ],
             [
              0.8888888888888888,
              "#fdca26"
             ],
             [
              1,
              "#f0f921"
             ]
            ],
            "type": "histogram2dcontour"
           }
          ],
          "mesh3d": [
           {
            "colorbar": {
             "outlinewidth": 0,
             "ticks": ""
            },
            "type": "mesh3d"
           }
          ],
          "parcoords": [
           {
            "line": {
             "colorbar": {
              "outlinewidth": 0,
              "ticks": ""
             }
            },
            "type": "parcoords"
           }
          ],
          "pie": [
           {
            "automargin": true,
            "type": "pie"
           }
          ],
          "scatter": [
           {
            "fillpattern": {
             "fillmode": "overlay",
             "size": 10,
             "solidity": 0.2
            },
            "type": "scatter"
           }
          ],
          "scatter3d": [
           {
            "line": {
             "colorbar": {
              "outlinewidth": 0,
              "ticks": ""
             }
            },
            "marker": {
             "colorbar": {
              "outlinewidth": 0,
              "ticks": ""
             }
            },
            "type": "scatter3d"
           }
          ],
          "scattercarpet": [
           {
            "marker": {
             "colorbar": {
              "outlinewidth": 0,
              "ticks": ""
             }
            },
            "type": "scattercarpet"
           }
          ],
          "scattergeo": [
           {
            "marker": {
             "colorbar": {
              "outlinewidth": 0,
              "ticks": ""
             }
            },
            "type": "scattergeo"
           }
          ],
          "scattergl": [
           {
            "marker": {
             "colorbar": {
              "outlinewidth": 0,
              "ticks": ""
             }
            },
            "type": "scattergl"
           }
          ],
          "scattermap": [
           {
            "marker": {
             "colorbar": {
              "outlinewidth": 0,
              "ticks": ""
             }
            },
            "type": "scattermap"
           }
          ],
          "scattermapbox": [
           {
            "marker": {
             "colorbar": {
              "outlinewidth": 0,
              "ticks": ""
             }
            },
            "type": "scattermapbox"
           }
          ],
          "scatterpolar": [
           {
            "marker": {
             "colorbar": {
              "outlinewidth": 0,
              "ticks": ""
             }
            },
            "type": "scatterpolar"
           }
          ],
          "scatterpolargl": [
           {
            "marker": {
             "colorbar": {
              "outlinewidth": 0,
              "ticks": ""
             }
            },
            "type": "scatterpolargl"
           }
          ],
          "scatterternary": [
           {
            "marker": {
             "colorbar": {
              "outlinewidth": 0,
              "ticks": ""
             }
            },
            "type": "scatterternary"
           }
          ],
          "surface": [
           {
            "colorbar": {
             "outlinewidth": 0,
             "ticks": ""
            },
            "colorscale": [
             [
              0,
              "#0d0887"
             ],
             [
              0.1111111111111111,
              "#46039f"
             ],
             [
              0.2222222222222222,
              "#7201a8"
             ],
             [
              0.3333333333333333,
              "#9c179e"
             ],
             [
              0.4444444444444444,
              "#bd3786"
             ],
             [
              0.5555555555555556,
              "#d8576b"
             ],
             [
              0.6666666666666666,
              "#ed7953"
             ],
             [
              0.7777777777777778,
              "#fb9f3a"
             ],
             [
              0.8888888888888888,
              "#fdca26"
             ],
             [
              1,
              "#f0f921"
             ]
            ],
            "type": "surface"
           }
          ],
          "table": [
           {
            "cells": {
             "fill": {
              "color": "#EBF0F8"
             },
             "line": {
              "color": "white"
             }
            },
            "header": {
             "fill": {
              "color": "#C8D4E3"
             },
             "line": {
              "color": "white"
             }
            },
            "type": "table"
           }
          ]
         },
         "layout": {
          "annotationdefaults": {
           "arrowcolor": "#2a3f5f",
           "arrowhead": 0,
           "arrowwidth": 1
          },
          "autotypenumbers": "strict",
          "coloraxis": {
           "colorbar": {
            "outlinewidth": 0,
            "ticks": ""
           }
          },
          "colorscale": {
           "diverging": [
            [
             0,
             "#8e0152"
            ],
            [
             0.1,
             "#c51b7d"
            ],
            [
             0.2,
             "#de77ae"
            ],
            [
             0.3,
             "#f1b6da"
            ],
            [
             0.4,
             "#fde0ef"
            ],
            [
             0.5,
             "#f7f7f7"
            ],
            [
             0.6,
             "#e6f5d0"
            ],
            [
             0.7,
             "#b8e186"
            ],
            [
             0.8,
             "#7fbc41"
            ],
            [
             0.9,
             "#4d9221"
            ],
            [
             1,
             "#276419"
            ]
           ],
           "sequential": [
            [
             0,
             "#0d0887"
            ],
            [
             0.1111111111111111,
             "#46039f"
            ],
            [
             0.2222222222222222,
             "#7201a8"
            ],
            [
             0.3333333333333333,
             "#9c179e"
            ],
            [
             0.4444444444444444,
             "#bd3786"
            ],
            [
             0.5555555555555556,
             "#d8576b"
            ],
            [
             0.6666666666666666,
             "#ed7953"
            ],
            [
             0.7777777777777778,
             "#fb9f3a"
            ],
            [
             0.8888888888888888,
             "#fdca26"
            ],
            [
             1,
             "#f0f921"
            ]
           ],
           "sequentialminus": [
            [
             0,
             "#0d0887"
            ],
            [
             0.1111111111111111,
             "#46039f"
            ],
            [
             0.2222222222222222,
             "#7201a8"
            ],
            [
             0.3333333333333333,
             "#9c179e"
            ],
            [
             0.4444444444444444,
             "#bd3786"
            ],
            [
             0.5555555555555556,
             "#d8576b"
            ],
            [
             0.6666666666666666,
             "#ed7953"
            ],
            [
             0.7777777777777778,
             "#fb9f3a"
            ],
            [
             0.8888888888888888,
             "#fdca26"
            ],
            [
             1,
             "#f0f921"
            ]
           ]
          },
          "colorway": [
           "#636efa",
           "#EF553B",
           "#00cc96",
           "#ab63fa",
           "#FFA15A",
           "#19d3f3",
           "#FF6692",
           "#B6E880",
           "#FF97FF",
           "#FECB52"
          ],
          "font": {
           "color": "#2a3f5f"
          },
          "geo": {
           "bgcolor": "white",
           "lakecolor": "white",
           "landcolor": "white",
           "showlakes": true,
           "showland": true,
           "subunitcolor": "#C8D4E3"
          },
          "hoverlabel": {
           "align": "left"
          },
          "hovermode": "closest",
          "mapbox": {
           "style": "light"
          },
          "paper_bgcolor": "white",
          "plot_bgcolor": "white",
          "polar": {
           "angularaxis": {
            "gridcolor": "#EBF0F8",
            "linecolor": "#EBF0F8",
            "ticks": ""
           },
           "bgcolor": "white",
           "radialaxis": {
            "gridcolor": "#EBF0F8",
            "linecolor": "#EBF0F8",
            "ticks": ""
           }
          },
          "scene": {
           "xaxis": {
            "backgroundcolor": "white",
            "gridcolor": "#DFE8F3",
            "gridwidth": 2,
            "linecolor": "#EBF0F8",
            "showbackground": true,
            "ticks": "",
            "zerolinecolor": "#EBF0F8"
           },
           "yaxis": {
            "backgroundcolor": "white",
            "gridcolor": "#DFE8F3",
            "gridwidth": 2,
            "linecolor": "#EBF0F8",
            "showbackground": true,
            "ticks": "",
            "zerolinecolor": "#EBF0F8"
           },
           "zaxis": {
            "backgroundcolor": "white",
            "gridcolor": "#DFE8F3",
            "gridwidth": 2,
            "linecolor": "#EBF0F8",
            "showbackground": true,
            "ticks": "",
            "zerolinecolor": "#EBF0F8"
           }
          },
          "shapedefaults": {
           "line": {
            "color": "#2a3f5f"
           }
          },
          "ternary": {
           "aaxis": {
            "gridcolor": "#DFE8F3",
            "linecolor": "#A2B1C6",
            "ticks": ""
           },
           "baxis": {
            "gridcolor": "#DFE8F3",
            "linecolor": "#A2B1C6",
            "ticks": ""
           },
           "bgcolor": "white",
           "caxis": {
            "gridcolor": "#DFE8F3",
            "linecolor": "#A2B1C6",
            "ticks": ""
           }
          },
          "title": {
           "x": 0.05
          },
          "xaxis": {
           "automargin": true,
           "gridcolor": "#EBF0F8",
           "linecolor": "#EBF0F8",
           "ticks": "",
           "title": {
            "standoff": 15
           },
           "zerolinecolor": "#EBF0F8",
           "zerolinewidth": 2
          },
          "yaxis": {
           "automargin": true,
           "gridcolor": "#EBF0F8",
           "linecolor": "#EBF0F8",
           "ticks": "",
           "title": {
            "standoff": 15
           },
           "zerolinecolor": "#EBF0F8",
           "zerolinewidth": 2
          }
         }
        },
        "title": {
         "text": "adversary_0 by MADDPG"
        },
        "xaxis": {
         "title": {
          "text": "Episodes"
         }
        },
        "yaxis": {
         "title": {
          "text": "Returns"
         }
        }
       }
      },
      "image/png": "[encoded data removed]"
     },
     "metadata": {},
     "output_type": "display_data"
    },
    {
     "data": {
      "application/vnd.plotly.v1+json": {
       "config": {
        "plotlyServerURL": "https://plot.ly"
       },
       "data": [
        {
         "line": {
          "width": 2
         },
         "mode": "lines",
         "name": "agent_0",
         "type": "scatter",
         "x": {
          "bdata": "AABkAMgALAGQAfQBWAK8AiADhAPoA0wEsAQUBXgF3AVABqQGCAdsB9AHNAiYCPwIYAnECSgKjArwClQLuAscDIAM5AxIDawNEA50DtgOPA+gDwQQaBDMEDARlBH4EVwSwBIkE4gT7BNQFLQUGBV8FeAVRBaoFgwXcBfUFzgYnBgAGWQZyBksGpAa9BpYG7wbIByEHOgcTB2wHRQeeB7cHkAfpB8IIGwg0CA0IZgh/CFgIsQiKCOMI/AjVCS4JBwlgCXkJUgmrCY=",
          "dtype": "i2"
         },
         "y": {
          "bdata": "AAAAADaOMUBVVVU1dg8wQJqZmXmf2DBA27ZtWyo7MUA5juMYCysxQAAAAMC1ODFAchzH4SQcMUCrqqoaAVAxQAAAABC5iTFAAAAAsK6KMUDHcRzXHhAxQOQ4jrNF/zBAq6qqOoIOMUCO4zheBjwxQOQ4jvMljzFAq6qqqmLhMUCrqqoaj6ExQMdxHDcCvTFAOY7jKETGMUBVVVUlo1MyQKuqqopILDJAq6qq6h90MkCO4zg+c/oxQMdxHDf0zTFAHMdx7CTCMUAAAABABBkyQFVVVRWY7DFAOY7jeHl7MUCO4ziuQAcxQBzHccyKATFAchzHEYqVMEDHcRy3JL8wQFVVVRVsFDBAx3EcR/O1L0CO4zjOGi8vQAAAAIB5ly9AOY7jOOq9L0BVVVWVo3owQHIcx7H1zzBA5DiO80FbMUBVVVXVKC4xQKuqqroPhTFAOY7j6P4gMkDkOI7TSGsyQFVVVcXxRjJAHMdx3HA3MkCO4zgOBN0xQKuqqiootDFAAAAAgE6aMUCO4zh+rhMyQMdxHLffQjJAOY7jyGkoMkByHMeBieExQKuqqhqqpjFAjuM47hPjMUA5juN4rqExQMdxHOdy7jFA5DiO85B+MUCrqqpa0HIxQFVVVcWyZDFAAAAAUEY1MUByHMehrpUxQMdxHLeLCTJAHMdxDFEtMkAAAAAwMXwyQBzHcXxT9DFAchzHwcEnMkDkOI4zAMMxQOQ4jrM8pDFA5DiOsxitMUA5juOo00MxQI7jOF7p2jBAAAAA8F62MEA5juP4OGkwQOQ4jpOZ2DBAjuM4vtX/MEBVVVVlfxQxQKuqqnplOzFAq6qq+q8bMUA5juNI2CMxQI7jON6PPTFAVVVVxV5nMUDkOI4D3NIxQKuqqipa2TFAx3EcR4nvMUByHMfR6UoyQHIcx1FNkDJAVVVVpfdjMkDHcRzXIoAyQBzHcczOjDJAOY7jiI+NMkByHMch3UcyQOQ4jpPAQTJAHMdxDM4PMkByHMdBKOcxQDmO44hVoDFASZIkKScZMkDNzMwMicYxQAAAAMCuwzFAAAAAQHrYMUA=",
          "dtype": "f8"
         }
        }
       ],
       "layout": {
        "hovermode": "x unified",
        "template": {
         "data": {
          "bar": [
           {
            "error_x": {
             "color": "#2a3f5f"
            },
            "error_y": {
             "color": "#2a3f5f"
            },
            "marker": {
             "line": {
              "color": "white",
              "width": 0.5
             },
             "pattern": {
              "fillmode": "overlay",
              "size": 10,
              "solidity": 0.2
             }
            },
            "type": "bar"
           }
          ],
          "barpolar": [
           {
            "marker": {
             "line": {
              "color": "white",
              "width": 0.5
             },
             "pattern": {
              "fillmode": "overlay",
              "size": 10,
              "solidity": 0.2
             }
            },
            "type": "barpolar"
           }
          ],
          "carpet": [
           {
            "aaxis": {
             "endlinecolor": "#2a3f5f",
             "gridcolor": "#C8D4E3",
             "linecolor": "#C8D4E3",
             "minorgridcolor": "#C8D4E3",
             "startlinecolor": "#2a3f5f"
            },
            "baxis": {
             "endlinecolor": "#2a3f5f",
             "gridcolor": "#C8D4E3",
             "linecolor": "#C8D4E3",
             "minorgridcolor": "#C8D4E3",
             "startlinecolor": "#2a3f5f"
            },
            "type": "carpet"
           }
          ],
          "choropleth": [
           {
            "colorbar": {
             "outlinewidth": 0,
             "ticks": ""
            },
            "type": "choropleth"
           }
          ],
          "contour": [
           {
            "colorbar": {
             "outlinewidth": 0,
             "ticks": ""
            },
            "colorscale": [
             [
              0,
              "#0d0887"
             ],
             [
              0.1111111111111111,
              "#46039f"
             ],
             [
              0.2222222222222222,
              "#7201a8"
             ],
             [
              0.3333333333333333,
              "#9c179e"
             ],
             [
              0.4444444444444444,
              "#bd3786"
             ],
             [
              0.5555555555555556,
              "#d8576b"
             ],
             [
              0.6666666666666666,
              "#ed7953"
             ],
             [
              0.7777777777777778,
              "#fb9f3a"
             ],
             [
              0.8888888888888888,
              "#fdca26"
             ],
             [
              1,
              "#f0f921"
             ]
            ],
            "type": "contour"
           }
          ],
          "contourcarpet": [
           {
            "colorbar": {
             "outlinewidth": 0,
             "ticks": ""
            },
            "type": "contourcarpet"
           }
          ],
          "heatmap": [
           {
            "colorbar": {
             "outlinewidth": 0,
             "ticks": ""
            },
            "colorscale": [
             [
              0,
              "#0d0887"
             ],
             [
              0.1111111111111111,
              "#46039f"
             ],
             [
              0.2222222222222222,
              "#7201a8"
             ],
             [
              0.3333333333333333,
              "#9c179e"
             ],
             [
              0.4444444444444444,
              "#bd3786"
             ],
             [
              0.5555555555555556,
              "#d8576b"
             ],
             [
              0.6666666666666666,
              "#ed7953"
             ],
             [
              0.7777777777777778,
              "#fb9f3a"
             ],
             [
              0.8888888888888888,
              "#fdca26"
             ],
             [
              1,
              "#f0f921"
             ]
            ],
            "type": "heatmap"
           }
          ],
          "histogram": [
           {
            "marker": {
             "pattern": {
              "fillmode": "overlay",
              "size": 10,
              "solidity": 0.2
             }
            },
            "type": "histogram"
           }
          ],
          "histogram2d": [
           {
            "colorbar": {
             "outlinewidth": 0,
             "ticks": ""
            },
            "colorscale": [
             [
              0,
              "#0d0887"
             ],
             [
              0.1111111111111111,
              "#46039f"
             ],
             [
              0.2222222222222222,
              "#7201a8"
             ],
             [
              0.3333333333333333,
              "#9c179e"
             ],
             [
              0.4444444444444444,
              "#bd3786"
             ],
             [
              0.5555555555555556,
              "#d8576b"
             ],
             [
              0.6666666666666666,
              "#ed7953"
             ],
             [
              0.7777777777777778,
              "#fb9f3a"
             ],
             [
              0.8888888888888888,
              "#fdca26"
             ],
             [
              1,
              "#f0f921"
             ]
            ],
            "type": "histogram2d"
           }
          ],
          "histogram2dcontour": [
           {
            "colorbar": {
             "outlinewidth": 0,
             "ticks": ""
            },
            "colorscale": [
             [
              0,
              "#0d0887"
             ],
             [
              0.1111111111111111,
              "#46039f"
             ],
             [
              0.2222222222222222,
              "#7201a8"
             ],
             [
              0.3333333333333333,
              "#9c179e"
             ],
             [
              0.4444444444444444,
              "#bd3786"
             ],
             [
              0.5555555555555556,
              "#d8576b"
             ],
             [
              0.6666666666666666,
              "#ed7953"
             ],
             [
              0.7777777777777778,
              "#fb9f3a"
             ],
             [
              0.8888888888888888,
              "#fdca26"
             ],
             [
              1,
              "#f0f921"
             ]
            ],
            "type": "histogram2dcontour"
           }
          ],
          "mesh3d": [
           {
            "colorbar": {
             "outlinewidth": 0,
             "ticks": ""
            },
            "type": "mesh3d"
           }
          ],
          "parcoords": [
           {
            "line": {
             "colorbar": {
              "outlinewidth": 0,
              "ticks": ""
             }
            },
            "type": "parcoords"
           }
          ],
          "pie": [
           {
            "automargin": true,
            "type": "pie"
           }
          ],
          "scatter": [
           {
            "fillpattern": {
             "fillmode": "overlay",
             "size": 10,
             "solidity": 0.2
            },
            "type": "scatter"
           }
          ],
          "scatter3d": [
           {
            "line": {
             "colorbar": {
              "outlinewidth": 0,
              "ticks": ""
             }
            },
            "marker": {
             "colorbar": {
              "outlinewidth": 0,
              "ticks": ""
             }
            },
            "type": "scatter3d"
           }
          ],
          "scattercarpet": [
           {
            "marker": {
             "colorbar": {
              "outlinewidth": 0,
              "ticks": ""
             }
            },
            "type": "scattercarpet"
           }
          ],
          "scattergeo": [
           {
            "marker": {
             "colorbar": {
              "outlinewidth": 0,
              "ticks": ""
             }
            },
            "type": "scattergeo"
           }
          ],
          "scattergl": [
           {
            "marker": {
             "colorbar": {
              "outlinewidth": 0,
              "ticks": ""
             }
            },
            "type": "scattergl"
           }
          ],
          "scattermap": [
           {
            "marker": {
             "colorbar": {
              "outlinewidth": 0,
              "ticks": ""
             }
            },
            "type": "scattermap"
           }
          ],
          "scattermapbox": [
           {
            "marker": {
             "colorbar": {
              "outlinewidth": 0,
              "ticks": ""
             }
            },
            "type": "scattermapbox"
           }
          ],
          "scatterpolar": [
           {
            "marker": {
             "colorbar": {
              "outlinewidth": 0,
              "ticks": ""
             }
            },
            "type": "scatterpolar"
           }
          ],
          "scatterpolargl": [
           {
            "marker": {
             "colorbar": {
              "outlinewidth": 0,
              "ticks": ""
             }
            },
            "type": "scatterpolargl"
           }
          ],
          "scatterternary": [
           {
            "marker": {
             "colorbar": {
              "outlinewidth": 0,
              "ticks": ""
             }
            },
            "type": "scatterternary"
           }
          ],
          "surface": [
           {
            "colorbar": {
             "outlinewidth": 0,
             "ticks": ""
            },
            "colorscale": [
             [
              0,
              "#0d0887"
             ],
             [
              0.1111111111111111,
              "#46039f"
             ],
             [
              0.2222222222222222,
              "#7201a8"
             ],
             [
              0.3333333333333333,
              "#9c179e"
             ],
             [
              0.4444444444444444,
              "#bd3786"
             ],
             [
              0.5555555555555556,
              "#d8576b"
             ],
             [
              0.6666666666666666,
              "#ed7953"
             ],
             [
              0.7777777777777778,
              "#fb9f3a"
             ],
             [
              0.8888888888888888,
              "#fdca26"
             ],
             [
              1,
              "#f0f921"
             ]
            ],
            "type": "surface"
           }
          ],
          "table": [
           {
            "cells": {
             "fill": {
              "color": "#EBF0F8"
             },
             "line": {
              "color": "white"
             }
            },
            "header": {
             "fill": {
              "color": "#C8D4E3"
             },
             "line": {
              "color": "white"
             }
            },
            "type": "table"
           }
          ]
         },
         "layout": {
          "annotationdefaults": {
           "arrowcolor": "#2a3f5f",
           "arrowhead": 0,
           "arrowwidth": 1
          },
          "autotypenumbers": "strict",
          "coloraxis": {
           "colorbar": {
            "outlinewidth": 0,
            "ticks": ""
           }
          },
          "colorscale": {
           "diverging": [
            [
             0,
             "#8e0152"
            ],
            [
             0.1,
             "#c51b7d"
            ],
            [
             0.2,
             "#de77ae"
            ],
            [
             0.3,
             "#f1b6da"
            ],
            [
             0.4,
             "#fde0ef"
            ],
            [
             0.5,
             "#f7f7f7"
            ],
            [
             0.6,
             "#e6f5d0"
            ],
            [
             0.7,
             "#b8e186"
            ],
            [
             0.8,
             "#7fbc41"
            ],
            [
             0.9,
             "#4d9221"
            ],
            [
             1,
             "#276419"
            ]
           ],
           "sequential": [
            [
             0,
             "#0d0887"
            ],
            [
             0.1111111111111111,
             "#46039f"
            ],
            [
             0.2222222222222222,
             "#7201a8"
            ],
            [
             0.3333333333333333,
             "#9c179e"
            ],
            [
             0.4444444444444444,
             "#bd3786"
            ],
            [
             0.5555555555555556,
             "#d8576b"
            ],
            [
             0.6666666666666666,
             "#ed7953"
            ],
            [
             0.7777777777777778,
             "#fb9f3a"
            ],
            [
             0.8888888888888888,
             "#fdca26"
            ],
            [
             1,
             "#f0f921"
            ]
           ],
           "sequentialminus": [
            [
             0,
             "#0d0887"
            ],
            [
             0.1111111111111111,
             "#46039f"
            ],
            [
             0.2222222222222222,
             "#7201a8"
            ],
            [
             0.3333333333333333,
             "#9c179e"
            ],
            [
             0.4444444444444444,
             "#bd3786"
            ],
            [
             0.5555555555555556,
             "#d8576b"
            ],
            [
             0.6666666666666666,
             "#ed7953"
            ],
            [
             0.7777777777777778,
             "#fb9f3a"
            ],
            [
             0.8888888888888888,
             "#fdca26"
            ],
            [
             1,
             "#f0f921"
            ]
           ]
          },
          "colorway": [
           "#636efa",
           "#EF553B",
           "#00cc96",
           "#ab63fa",
           "#FFA15A",
           "#19d3f3",
           "#FF6692",
           "#B6E880",
           "#FF97FF",
           "#FECB52"
          ],
          "font": {
           "color": "#2a3f5f"
          },
          "geo": {
           "bgcolor": "white",
           "lakecolor": "white",
           "landcolor": "white",
           "showlakes": true,
           "showland": true,
           "subunitcolor": "#C8D4E3"
          },
          "hoverlabel": {
           "align": "left"
          },
          "hovermode": "closest",
          "mapbox": {
           "style": "light"
          },
          "paper_bgcolor": "white",
          "plot_bgcolor": "white",
          "polar": {
           "angularaxis": {
            "gridcolor": "#EBF0F8",
            "linecolor": "#EBF0F8",
            "ticks": ""
           },
           "bgcolor": "white",
           "radialaxis": {
            "gridcolor": "#EBF0F8",
            "linecolor": "#EBF0F8",
            "ticks": ""
           }
          },
          "scene": {
           "xaxis": {
            "backgroundcolor": "white",
            "gridcolor": "#DFE8F3",
            "gridwidth": 2,
            "linecolor": "#EBF0F8",
            "showbackground": true,
            "ticks": "",
            "zerolinecolor": "#EBF0F8"
           },
           "yaxis": {
            "backgroundcolor": "white",
            "gridcolor": "#DFE8F3",
            "gridwidth": 2,
            "linecolor": "#EBF0F8",
            "showbackground": true,
            "ticks": "",
            "zerolinecolor": "#EBF0F8"
           },
           "zaxis": {
            "backgroundcolor": "white",
            "gridcolor": "#DFE8F3",
            "gridwidth": 2,
            "linecolor": "#EBF0F8",
            "showbackground": true,
            "ticks": "",
            "zerolinecolor": "#EBF0F8"
           }
          },
          "shapedefaults": {
           "line": {
            "color": "#2a3f5f"
           }
          },
          "ternary": {
           "aaxis": {
            "gridcolor": "#DFE8F3",
            "linecolor": "#A2B1C6",
            "ticks": ""
           },
           "baxis": {
            "gridcolor": "#DFE8F3",
            "linecolor": "#A2B1C6",
            "ticks": ""
           },
           "bgcolor": "white",
           "caxis": {
            "gridcolor": "#DFE8F3",
            "linecolor": "#A2B1C6",
            "ticks": ""
           }
          },
          "title": {
           "x": 0.05
          },
          "xaxis": {
           "automargin": true,
           "gridcolor": "#EBF0F8",
           "linecolor": "#EBF0F8",
           "ticks": "",
           "title": {
            "standoff": 15
           },
           "zerolinecolor": "#EBF0F8",
           "zerolinewidth": 2
          },
          "yaxis": {
           "automargin": true,
           "gridcolor": "#EBF0F8",
           "linecolor": "#EBF0F8",
           "ticks": "",
           "title": {
            "standoff": 15
           },
           "zerolinecolor": "#EBF0F8",
           "zerolinewidth": 2
          }
         }
        },
        "title": {
         "text": "agent_0 by MADDPG"
        },
        "xaxis": {
         "title": {
          "text": "Episodes"
         }
        },
        "yaxis": {
         "title": {
          "text": "Returns"
         }
        }
       }
      },
      "image/png": "[encoded data removed]"
     },
     "metadata": {},
     "output_type": "display_data"
    },
    {
     "data": {
      "application/vnd.plotly.v1+json": {
       "config": {
        "plotlyServerURL": "https://plot.ly"
       },
       "data": [
        {
         "line": {
          "width": 2
         },
         "mode": "lines",
         "name": "agent_1",
         "type": "scatter",
         "x": {
          "bdata": "AABkAMgALAGQAfQBWAK8AiADhAPoA0wEsAQUBXgF3AVABqQGCAdsB9AHNAiYCPwIYAnECSgKjArwClQLuAscDIAM5AxIDawNEA50DtgOPA+gDwQQaBDMEDARlBH4EVwSwBIkE4gT7BNQFLQUGBV8FeAVRBaoFgwXcBfUFzgYnBgAGWQZyBksGpAa9BpYG7wbIByEHOgcTB2wHRQeeB7cHkAfpB8IIGwg0CA0IZgh/CFgIsQiKCOMI/AjVCS4JBwlgCXkJUgmrCY=",
          "dtype": "i2"
         },
         "y": {
          "bdata": "AAAAADaOMUBVVVU1dg8wQJqZmXmf2DBA27ZtWyo7MUA5juMYCysxQAAAAMC1ODFAchzH4SQcMUCrqqoaAVAxQAAAABC5iTFAAAAAsK6KMUDHcRzXHhAxQOQ4jrNF/zBAq6qqOoIOMUCO4zheBjwxQOQ4jvMljzFAq6qqqmLhMUCrqqoaj6ExQMdxHDcCvTFAOY7jKETGMUBVVVUlo1MyQKuqqopILDJAq6qq6h90MkCO4zg+c/oxQMdxHDf0zTFAHMdx7CTCMUAAAABABBkyQFVVVRWY7DFAOY7jeHl7MUCO4ziuQAcxQBzHccyKATFAchzHEYqVMEDHcRy3JL8wQFVVVRVsFDBAx3EcR/O1L0CO4zjOGi8vQAAAAIB5ly9AOY7jOOq9L0BVVVWVo3owQHIcx7H1zzBA5DiO80FbMUBVVVXVKC4xQKuqqroPhTFAOY7j6P4gMkDkOI7TSGsyQFVVVcXxRjJAHMdx3HA3MkCO4zgOBN0xQKuqqiootDFAAAAAgE6aMUCO4zh+rhMyQMdxHLffQjJAOY7jyGkoMkByHMeBieExQKuqqhqqpjFAjuM47hPjMUA5juN4rqExQMdxHOdy7jFA5DiO85B+MUCrqqpa0HIxQFVVVcWyZDFAAAAAUEY1MUByHMehrpUxQMdxHLeLCTJAHMdxDFEtMkAAAAAwMXwyQBzHcXxT9DFAchzHwcEnMkDkOI4zAMMxQOQ4jrM8pDFA5DiOsxitMUA5juOo00MxQI7jOF7p2jBAAAAA8F62MEA5juP4OGkwQOQ4jpOZ2DBAjuM4vtX/MEBVVVVlfxQxQKuqqnplOzFAq6qq+q8bMUA5juNI2CMxQI7jON6PPTFAVVVVxV5nMUDkOI4D3NIxQKuqqipa2TFAx3EcR4nvMUByHMfR6UoyQHIcx1FNkDJAVVVVpfdjMkDHcRzXIoAyQBzHcczOjDJAOY7jiI+NMkByHMch3UcyQOQ4jpPAQTJAHMdxDM4PMkByHMdBKOcxQDmO44hVoDFASZIkKScZMkDNzMwMicYxQAAAAMCuwzFAAAAAQHrYMUA=",
          "dtype": "f8"
         }
        }
       ],
       "layout": {
        "hovermode": "x unified",
        "template": {
         "data": {
          "bar": [
           {
            "error_x": {
             "color": "#2a3f5f"
            },
            "error_y": {
             "color": "#2a3f5f"
            },
            "marker": {
             "line": {
              "color": "white",
              "width": 0.5
             },
             "pattern": {
              "fillmode": "overlay",
              "size": 10,
              "solidity": 0.2
             }
            },
            "type": "bar"
           }
          ],
          "barpolar": [
           {
            "marker": {
             "line": {
              "color": "white",
              "width": 0.5
             },
             "pattern": {
              "fillmode": "overlay",
              "size": 10,
              "solidity": 0.2
             }
            },
            "type": "barpolar"
           }
          ],
          "carpet": [
           {
            "aaxis": {
             "endlinecolor": "#2a3f5f",
             "gridcolor": "#C8D4E3",
             "linecolor": "#C8D4E3",
             "minorgridcolor": "#C8D4E3",
             "startlinecolor": "#2a3f5f"
            },
            "baxis": {
             "endlinecolor": "#2a3f5f",
             "gridcolor": "#C8D4E3",
             "linecolor": "#C8D4E3",
             "minorgridcolor": "#C8D4E3",
             "startlinecolor": "#2a3f5f"
            },
            "type": "carpet"
           }
          ],
          "choropleth": [
           {
            "colorbar": {
             "outlinewidth": 0,
             "ticks": ""
            },
            "type": "choropleth"
           }
          ],
          "contour": [
           {
            "colorbar": {
             "outlinewidth": 0,
             "ticks": ""
            },
            "colorscale": [
             [
              0,
              "#0d0887"
             ],
             [
              0.1111111111111111,
              "#46039f"
             ],
             [
              0.2222222222222222,
              "#7201a8"
             ],
             [
              0.3333333333333333,
              "#9c179e"
             ],
             [
              0.4444444444444444,
              "#bd3786"
             ],
             [
              0.5555555555555556,
              "#d8576b"
             ],
             [
              0.6666666666666666,
              "#ed7953"
             ],
             [
              0.7777777777777778,
              "#fb9f3a"
             ],
             [
              0.8888888888888888,
              "#fdca26"
             ],
             [
              1,
              "#f0f921"
             ]
            ],
            "type": "contour"
           }
          ],
          "contourcarpet": [
           {
            "colorbar": {
             "outlinewidth": 0,
             "ticks": ""
            },
            "type": "contourcarpet"
           }
          ],
          "heatmap": [
           {
            "colorbar": {
             "outlinewidth": 0,
             "ticks": ""
            },
            "colorscale": [
             [
              0,
              "#0d0887"
             ],
             [
              0.1111111111111111,
              "#46039f"
             ],
             [
              0.2222222222222222,
              "#7201a8"
             ],
             [
              0.3333333333333333,
              "#9c179e"
             ],
             [
              0.4444444444444444,
              "#bd3786"
             ],
             [
              0.5555555555555556,
              "#d8576b"
             ],
             [
              0.6666666666666666,
              "#ed7953"
             ],
             [
              0.7777777777777778,
              "#fb9f3a"
             ],
             [
              0.8888888888888888,
              "#fdca26"
             ],
             [
              1,
              "#f0f921"
             ]
            ],
            "type": "heatmap"
           }
          ],
          "histogram": [
           {
            "marker": {
             "pattern": {
              "fillmode": "overlay",
              "size": 10,
              "solidity": 0.2
             }
            },
            "type": "histogram"
           }
          ],
          "histogram2d": [
           {
            "colorbar": {
             "outlinewidth": 0,
             "ticks": ""
            },
            "colorscale": [
             [
              0,
              "#0d0887"
             ],
             [
              0.1111111111111111,
              "#46039f"
             ],
             [
              0.2222222222222222,
              "#7201a8"
             ],
             [
              0.3333333333333333,
              "#9c179e"
             ],
             [
              0.4444444444444444,
              "#bd3786"
             ],
             [
              0.5555555555555556,
              "#d8576b"
             ],
             [
              0.6666666666666666,
              "#ed7953"
             ],
             [
              0.7777777777777778,
              "#fb9f3a"
             ],
             [
              0.8888888888888888,
              "#fdca26"
             ],
             [
              1,
              "#f0f921"
             ]
            ],
            "type": "histogram2d"
           }
          ],
          "histogram2dcontour": [
           {
            "colorbar": {
             "outlinewidth": 0,
             "ticks": ""
            },
            "colorscale": [
             [
              0,
              "#0d0887"
             ],
             [
              0.1111111111111111,
              "#46039f"
             ],
             [
              0.2222222222222222,
              "#7201a8"
             ],
             [
              0.3333333333333333,
              "#9c179e"
             ],
             [
              0.4444444444444444,
              "#bd3786"
             ],
             [
              0.5555555555555556,
              "#d8576b"
             ],
             [
              0.6666666666666666,
              "#ed7953"
             ],
             [
              0.7777777777777778,
              "#fb9f3a"
             ],
             [
              0.8888888888888888,
              "#fdca26"
             ],
             [
              1,
              "#f0f921"
             ]
            ],
            "type": "histogram2dcontour"
           }
          ],
          "mesh3d": [
           {
            "colorbar": {
             "outlinewidth": 0,
             "ticks": ""
            },
            "type": "mesh3d"
           }
          ],
          "parcoords": [
           {
            "line": {
             "colorbar": {
              "outlinewidth": 0,
              "ticks": ""
             }
            },
            "type": "parcoords"
           }
          ],
          "pie": [
           {
            "automargin": true,
            "type": "pie"
           }
          ],
          "scatter": [
           {
            "fillpattern": {
             "fillmode": "overlay",
             "size": 10,
             "solidity": 0.2
            },
            "type": "scatter"
           }
          ],
          "scatter3d": [
           {
            "line": {
             "colorbar": {
              "outlinewidth": 0,
              "ticks": ""
             }
            },
            "marker": {
             "colorbar": {
              "outlinewidth": 0,
              "ticks": ""
             }
            },
            "type": "scatter3d"
           }
          ],
          "scattercarpet": [
           {
            "marker": {
             "colorbar": {
              "outlinewidth": 0,
              "ticks": ""
             }
            },
            "type": "scattercarpet"
           }
          ],
          "scattergeo": [
           {
            "marker": {
             "colorbar": {
              "outlinewidth": 0,
              "ticks": ""
             }
            },
            "type": "scattergeo"
           }
          ],
          "scattergl": [
           {
            "marker": {
             "colorbar": {
              "outlinewidth": 0,
              "ticks": ""
             }
            },
            "type": "scattergl"
           }
          ],
          "scattermap": [
           {
            "marker": {
             "colorbar": {
              "outlinewidth": 0,
              "ticks": ""
             }
            },
            "type": "scattermap"
           }
          ],
          "scattermapbox": [
           {
            "marker": {
             "colorbar": {
              "outlinewidth": 0,
              "ticks": ""
             }
            },
            "type": "scattermapbox"
           }
          ],
          "scatterpolar": [
           {
            "marker": {
             "colorbar": {
              "outlinewidth": 0,
              "ticks": ""
             }
            },
            "type": "scatterpolar"
           }
          ],
          "scatterpolargl": [
           {
            "marker": {
             "colorbar": {
              "outlinewidth": 0,
              "ticks": ""
             }
            },
            "type": "scatterpolargl"
           }
          ],
          "scatterternary": [
           {
            "marker": {
             "colorbar": {
              "outlinewidth": 0,
              "ticks": ""
             }
            },
            "type": "scatterternary"
           }
          ],
          "surface": [
           {
            "colorbar": {
             "outlinewidth": 0,
             "ticks": ""
            },
            "colorscale": [
             [
              0,
              "#0d0887"
             ],
             [
              0.1111111111111111,
              "#46039f"
             ],
             [
              0.2222222222222222,
              "#7201a8"
             ],
             [
              0.3333333333333333,
              "#9c179e"
             ],
             [
              0.4444444444444444,
              "#bd3786"
             ],
             [
              0.5555555555555556,
              "#d8576b"
             ],
             [
              0.6666666666666666,
              "#ed7953"
             ],
             [
              0.7777777777777778,
              "#fb9f3a"
             ],
             [
              0.8888888888888888,
              "#fdca26"
             ],
             [
              1,
              "#f0f921"
             ]
            ],
            "type": "surface"
           }
          ],
          "table": [
           {
            "cells": {
             "fill": {
              "color": "#EBF0F8"
             },
             "line": {
              "color": "white"
             }
            },
            "header": {
             "fill": {
              "color": "#C8D4E3"
             },
             "line": {
              "color": "white"
             }
            },
            "type": "table"
           }
          ]
         },
         "layout": {
          "annotationdefaults": {
           "arrowcolor": "#2a3f5f",
           "arrowhead": 0,
           "arrowwidth": 1
          },
          "autotypenumbers": "strict",
          "coloraxis": {
           "colorbar": {
            "outlinewidth": 0,
            "ticks": ""
           }
          },
          "colorscale": {
           "diverging": [
            [
             0,
             "#8e0152"
            ],
            [
             0.1,
             "#c51b7d"
            ],
            [
             0.2,
             "#de77ae"
            ],
            [
             0.3,
             "#f1b6da"
            ],
            [
             0.4,
             "#fde0ef"
            ],
            [
             0.5,
             "#f7f7f7"
            ],
            [
             0.6,
             "#e6f5d0"
            ],
            [
             0.7,
             "#b8e186"
            ],
            [
             0.8,
             "#7fbc41"
            ],
            [
             0.9,
             "#4d9221"
            ],
            [
             1,
             "#276419"
            ]
           ],
           "sequential": [
            [
             0,
             "#0d0887"
            ],
            [
             0.1111111111111111,
             "#46039f"
            ],
            [
             0.2222222222222222,
             "#7201a8"
            ],
            [
             0.3333333333333333,
             "#9c179e"
            ],
            [
             0.4444444444444444,
             "#bd3786"
            ],
            [
             0.5555555555555556,
             "#d8576b"
            ],
            [
             0.6666666666666666,
             "#ed7953"
            ],
            [
             0.7777777777777778,
             "#fb9f3a"
            ],
            [
             0.8888888888888888,
             "#fdca26"
            ],
            [
             1,
             "#f0f921"
            ]
           ],
           "sequentialminus": [
            [
             0,
             "#0d0887"
            ],
            [
             0.1111111111111111,
             "#46039f"
            ],
            [
             0.2222222222222222,
             "#7201a8"
            ],
            [
             0.3333333333333333,
             "#9c179e"
            ],
            [
             0.4444444444444444,
             "#bd3786"
            ],
            [
             0.5555555555555556,
             "#d8576b"
            ],
            [
             0.6666666666666666,
             "#ed7953"
            ],
            [
             0.7777777777777778,
             "#fb9f3a"
            ],
            [
             0.8888888888888888,
             "#fdca26"
            ],
            [
             1,
             "#f0f921"
            ]
           ]
          },
          "colorway": [
           "#636efa",
           "#EF553B",
           "#00cc96",
           "#ab63fa",
           "#FFA15A",
           "#19d3f3",
           "#FF6692",
           "#B6E880",
           "#FF97FF",
           "#FECB52"
          ],
          "font": {
           "color": "#2a3f5f"
          },
          "geo": {
           "bgcolor": "white",
           "lakecolor": "white",
           "landcolor": "white",
           "showlakes": true,
           "showland": true,
           "subunitcolor": "#C8D4E3"
          },
          "hoverlabel": {
           "align": "left"
          },
          "hovermode": "closest",
          "mapbox": {
           "style": "light"
          },
          "paper_bgcolor": "white",
          "plot_bgcolor": "white",
          "polar": {
           "angularaxis": {
            "gridcolor": "#EBF0F8",
            "linecolor": "#EBF0F8",
            "ticks": ""
           },
           "bgcolor": "white",
           "radialaxis": {
            "gridcolor": "#EBF0F8",
            "linecolor": "#EBF0F8",
            "ticks": ""
           }
          },
          "scene": {
           "xaxis": {
            "backgroundcolor": "white",
            "gridcolor": "#DFE8F3",
            "gridwidth": 2,
            "linecolor": "#EBF0F8",
            "showbackground": true,
            "ticks": "",
            "zerolinecolor": "#EBF0F8"
           },
           "yaxis": {
            "backgroundcolor": "white",
            "gridcolor": "#DFE8F3",
            "gridwidth": 2,
            "linecolor": "#EBF0F8",
            "showbackground": true,
            "ticks": "",
            "zerolinecolor": "#EBF0F8"
           },
           "zaxis": {
            "backgroundcolor": "white",
            "gridcolor": "#DFE8F3",
            "gridwidth": 2,
            "linecolor": "#EBF0F8",
            "showbackground": true,
            "ticks": "",
            "zerolinecolor": "#EBF0F8"
           }
          },
          "shapedefaults": {
           "line": {
            "color": "#2a3f5f"
           }
          },
          "ternary": {
           "aaxis": {
            "gridcolor": "#DFE8F3",
            "linecolor": "#A2B1C6",
            "ticks": ""
           },
           "baxis": {
            "gridcolor": "#DFE8F3",
            "linecolor": "#A2B1C6",
            "ticks": ""
           },
           "bgcolor": "white",
           "caxis": {
            "gridcolor": "#DFE8F3",
            "linecolor": "#A2B1C6",
            "ticks": ""
           }
          },
          "title": {
           "x": 0.05
          },
          "xaxis": {
           "automargin": true,
           "gridcolor": "#EBF0F8",
           "linecolor": "#EBF0F8",
           "ticks": "",
           "title": {
            "standoff": 15
           },
           "zerolinecolor": "#EBF0F8",
           "zerolinewidth": 2
          },
          "yaxis": {
           "automargin": true,
           "gridcolor": "#EBF0F8",
           "linecolor": "#EBF0F8",
           "ticks": "",
           "title": {
            "standoff": 15
           },
           "zerolinecolor": "#EBF0F8",
           "zerolinewidth": 2
          }
         }
        },
        "title": {
         "text": "agent_1 by MADDPG"
        },
        "xaxis": {
         "title": {
          "text": "Episodes"
         }
        },
        "yaxis": {
         "title": {
          "text": "Returns"
         }
        }
       }
      },
      "image/png": "[encoded data removed]"
     },
     "metadata": {},
     "output_type": "display_data"
    }
   ],
   "source": [
    "import plotly.graph_objects as go\n",
    "import numpy as np\n",
    "import pandas as pd\n",
    "from utils.smoothing import moving_average\n",
    "# 从CSV文件读取数据\n",
    "loaded_data = pd.read_csv('MADDPG_returns_data.csv', header=None).values\n",
    "# 使用Plotly绘图\n",
    "agents = [\"adversary_0\", \"agent_0\", \"agent_1\"]\n",
    "\n",
    "for i, agent_name in enumerate(agents):\n",
    "    # 计算x轴数据（每100个episode一个点）\n",
    "    x_data = np.arange(loaded_data.shape[0]) * 100\n",
    "    y_data = moving_average(loaded_data[:, i], 9)\n",
    "    fig = go.Figure()\n",
    "    fig.add_trace(go.Scatter(\n",
    "        x=x_data,\n",
    "        y=y_data,\n",
    "        mode='lines',\n",
    "        name=agent_name,\n",
    "        line=dict(width=2)\n",
    "    ))\n",
    "    fig.update_layout(\n",
    "        title=f\"{agent_name} by MADDPG\",\n",
    "        xaxis_title=\"Episodes\",\n",
    "        yaxis_title=\"Returns\",\n",
    "        hovermode=\"x unified\",\n",
    "        template=\"plotly_white\"\n",
    "    )\n",
    "    \n",
    "    fig.show()\n",
    "    "
   ]
  },
  {
   "cell_type": "markdown",
   "id": "1d0b7fb10eaf3412",
   "metadata": {
    "collapsed": false,
    "jupyter": {
     "outputs_hidden": false
    }
   },
   "source": [
    "# 待解决问题：\n",
    "- 智能体在训练过程和评估当中会否会失活？\n",
    "- 返回的各个字典，会直接缺失某个字段吗？\n",
    "- 所以，是否需要修改代码逻辑？"
   ]
  }
 ],
 "metadata": {
  "kernelspec": {
   "display_name": "Python 3 (ipykernel)",
   "language": "python",
   "name": "python3"
  },
  "language_info": {
   "codemirror_mode": {
    "name": "ipython",
    "version": 3
   },
   "file_extension": ".py",
   "mimetype": "text/x-python",
   "name": "python",
   "nbconvert_exporter": "python",
   "pygments_lexer": "ipython3",
   "version": "3.9.23"
  }
 },
 "nbformat": 4,
 "nbformat_minor": 5
}
