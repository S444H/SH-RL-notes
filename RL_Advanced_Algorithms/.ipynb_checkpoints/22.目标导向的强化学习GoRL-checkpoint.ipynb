{
 "cells": [
  {
   "cell_type": "markdown",
   "id": "a70c8a454b9e81ba",
   "metadata": {
    "collapsed": false,
    "jupyter": {
     "outputs_hidden": false
    }
   },
   "source": [
    "# 22.目标导向的强化学习（goal-oriented reinforcement learning，GoRL）\n",
    "> 之前学习的如 **PPO、SAC** 等经典的深度强化学习算法，智能体的行为通常是根据固定的奖励函数来学习的，只关注单一目标。算法训练完后，在使用它们时只能完成一个特定的任务。\n",
    "> 而在许多实际任务场景中，目标是复杂的，涉及到 **多个子目标或必须在长期内达成的目标**。之前传统的强化学习算法往往不容易训练出有效的策略。\n",
    "> 例如，在悬崖漫步环境中，若目标位置变成了右上角，便只能重新训练一个策略。同一个策略无法完成一系列不同的目标。\n",
    "\n",
    "> **目标导向的强化学习（GoRL）** 的概念并非源自单一的原始论文，而是逐渐在多个领域中演化和扩展的一个 **思想**：\n",
    "> - 让智能体在前往 **最终目标** 的训练过程中将所经历的 **失败经验** 也作为一种 **目标** 进行学习，使智能体理解 **错误目标** 是如何达成的，最终学习一种 **策略**：在应对 **不同的目标（goal）** 依然奏效。以此来解决较为复杂的 **复合任务**。\n",
    "\n",
    "> 本节介绍该思想下的一种经典算法 [事后经验回放（hindsight experience replay，HER）](https://arxiv.org/abs/1707.01495)：主要是为了解决 **稀疏奖励**"
   ]
  },
  {
   "cell_type": "markdown",
   "id": "f61352b65753b507",
   "metadata": {
    "collapsed": false,
    "jupyter": {
     "outputs_hidden": false
    }
   },
   "source": [
    "## 22.1 GoRL 中的马尔可夫决策过程（MDP）\n",
    "> 在 **目标导向的强化学习** 中，**MDP** 的定义使用一个扩充过的元组：\n",
    "> $$\\langle\\mathcal{S},\\mathcal{A},P,r_{g},\\mathcal{G},\\phi\\rangle$$\n",
    "\n",
    "- **$\\mathcal{S}$**：状态空间（state space），环境中所有可能的状态\n",
    "- **$\\mathcal{A}$**：动作空间（action space），智能体在每个状态下可采取的动作集合\n",
    "- **$P$**：状态转移概率分布 $P(s'|s,a)$，描述动作如何影响状态变化\n",
    "- **$r_g$**：**目标条件奖励函数**，即奖励不仅依赖于状态和动作，还依赖于当前目标 $g \\in \\mathcal{G}$\n",
    "- **$\\mathcal{G}$**：目标空间（goal space），任务中所有可能的目标集合\n",
    "- **$\\phi$**：目标映射函数，将状态 $s \\in \\mathcal{S}$ 映射到$g \\in \\mathcal{G}$，用于判断某个状态是否达成目标\n",
    "> 可见，这是一个 **带目标条件的 MDP**（Goal-conditioned MDP，GC-MDP）。相比于传统 RL 只关心“最大化奖励”，在 GoRL 中，**奖励函数和策略都依赖于目标**，比如目标是“到达某个位置”，那么奖励设计和学习策略都随目标改变。因此 **状态价值函数$V(s,g)$** 也是基于目标的，**动作状态价值函数$Q(s,a,g)$** 同理。"
   ]
  },
  {
   "cell_type": "markdown",
   "id": "88dc0fdceeee3718",
   "metadata": {
    "collapsed": false,
    "jupyter": {
     "outputs_hidden": false
    }
   },
   "source": [
    "> 举个例子：**机器人导航**\n",
    "- $\\mathcal{S}$：房间里机器人的位置（状态空间）\n",
    "- $\\mathcal{A}$：机器人能走的动作（上下左右）\n",
    "- $P$：走一步后到达新位置的概率\n",
    "- $r_g$：如果机器人到达目标位置 $g$，奖励 = 1，否则 = 0\n",
    "- $\\mathcal{G}$：房间里所有可能的目标位置 $g_i$\n",
    "- $\\phi(s)$：提取当前位置，判断是否等于目标\n",
    "\n",
    "> 如此，为了机器人能够能根据不同的目标 $g$ 导航到对应位置，**GoRL** 的目标为优化一个 **通用的策略 $\\pi(a|s,g)$**，使以下目标函数最大化：\n",
    "$$\\mathbb{E}_{(s_0,g)\\sim\\nu_0}\\left[V^\\pi\\left(s_0,g\\right)\\right]$$\n",
    "- $\\nu_0$ 为环境中初始状态 $s_0$ 与目标 $g$ 的联合分布"
   ]
  },
  {
   "cell_type": "markdown",
   "id": "b31fbd75c8c5351b",
   "metadata": {
    "collapsed": false,
    "jupyter": {
     "outputs_hidden": false
    }
   },
   "source": [
    "## 22.2 HER 算法\n",
    "> **事后经验回放（hindsight experience replay，HER）** 算法于 2017 年 **神经信息处理系统（Neural Information Processing Systems，NeurIPS）** 大会中被提出，成为 GoRL 的一大经典方法。\n",
    "\n",
    "> 其提出主要是为了解决 **稀疏奖励** 问题：智能体采样的 *绝大多数轨迹都拿不到正奖励，学习信号极少*\n",
    "> **HER** 把一次 **未达成原目标** 的轨迹，事后改写目标为轨迹中实际达成的某个目标（hindsight goal），并重算奖励；这样“失败轨迹”变成了“成功样本”，极大提高正样本密度与信号利用率，这样理论上就可以从稀疏和二元的奖励中进行样本高效学习，避免了复杂的奖励工程的需要\n",
    "\n",
    "> **HER** 可以与任意的 **off-policy RL** 算法（比如 DQN、DDPG 等）相结合"
   ]
  },
  {
   "cell_type": "markdown",
   "id": "9ffcb391c763b320",
   "metadata": {
    "collapsed": false,
    "jupyter": {
     "outputs_hidden": false
    }
   },
   "source": [
    "### HER 算法流程\n",
    "\n",
    "1. **初始化**  \n",
    "   - 初始化策略 $\\pi_\\theta$，回放池 $R$，目标空间 $\\mathcal{G}$（可自定义），以及训练的迭代次数 $E$\n",
    "\n",
    "2. **采样轨迹**  \n",
    "   - 在每个 episode 中，从环境中采样初始状态 $s_0$ 和目标 $g$，然后进行与环境的交互\n",
    "   - 在每一步 $t$，根据策略 $\\pi_\\theta$ 选择动作 $a_t$，并获得下一个状态 $s_{t+1}$ 和奖励 $r_t$\n",
    "   - 将状态、动作、奖励、下一个状态和目标$(s_i, a_i, r_i, s'_i, g_i)$存储到经验回放池 $R$ 中\n",
    "\n",
    "3. **回放和目标替换**  \n",
    "   - 从回放池中采样一批 $N$ 个样本 $(s_i, a_i, r_i, s'_i, g_i)$\n",
    "   - **选择一个状态 $s''_i$**，并用 $\\phi(s''_i)$ 计算新目标 $g'_i$\n",
    "   - 计算新的奖励 $r'_i = r_{g'_i}(s_i, a_i, s'_i)$\n",
    "   - 将原始元组替换为新的元组 $(s_i, a_i, r'_i, s'_i, g'_i)$\n",
    "\n",
    "4. **更新策略**  \n",
    "   - 使用经过替换目标后的样本来更新策略 $\\pi_\\theta$\n",
    "\n",
    "5. **循环迭代**  \n",
    "   - 不断采样 → **替换目标** → 更新策略，直到收敛\n"
   ]
  },
  {
   "cell_type": "markdown",
   "id": "20c71c5d13dc22a9",
   "metadata": {
    "collapsed": false,
    "jupyter": {
     "outputs_hidden": false
    }
   },
   "source": [
    "#### 状态 $s''$ 代表了一个新的目标，通过目标映射函数 $\\phi(s'')$，可以生成新的目标\n",
    "> 在**选择状态 $s''$** 作为新的目标时，**HER** 提出了 **三种常用方案**：  \n",
    "> 1. **future**：从同一轨迹中在时间上位于 $s$ 之后的状态 $s''$，最常用\n",
    "> 2. **episode**：从同一轨迹中的任意状态 $s''$ 选择作为目标\n",
    "> 3. **random**：从回放池中随机选择状态作为目标\n",
    "\n",
    "在实践中，**future 策略**效果最佳，因为它确保替换目标是轨迹中确实达到的状态。  \n"
   ]
  },
  {
   "cell_type": "markdown",
   "id": "da1eba6ae7ed0eb6",
   "metadata": {
    "collapsed": false,
    "jupyter": {
     "outputs_hidden": false
    }
   },
   "source": [
    "#### 直观例子：机器人需要把一个物体放到 **指定位置 A**\n",
    "- 在一次 episode 里，它最终没有把物体放到位置 A，而是放到了 **位置 B**\n",
    "- 在 **传统 RL** 中，这条轨迹没有用（奖励全是 0）\n",
    "- 在 **HER** 中：  \n",
    "  - 我们把位置 B 当成新的目标 $g'$\n",
    "  - 这时轨迹就是 “成功地把物体放到位置 B”\n",
    "  - 于是智能体依然能从这次经验中学习\n",
    "\n",
    "\n"
   ]
  },
  {
   "cell_type": "markdown",
   "id": "d5117d11cb120b76",
   "metadata": {
    "collapsed": false,
    "jupyter": {
     "outputs_hidden": false
    }
   },
   "source": [
    "### HER 算法代码实践\n",
    "> 策略优化使用 **DDPG** 算法"
   ]
  },
  {
   "cell_type": "markdown",
   "id": "ed87d1c096445c74",
   "metadata": {
    "collapsed": false,
    "jupyter": {
     "outputs_hidden": false
    }
   },
   "source": [
    "导入相关库："
   ]
  },
  {
   "cell_type": "code",
   "execution_count": 1,
   "id": "def4beee6f07ecb4",
   "metadata": {
    "ExecuteTime": {
     "end_time": "2025-09-04T11:21:20.472054200Z",
     "start_time": "2025-09-04T11:21:20.392552500Z"
    },
    "collapsed": false,
    "jupyter": {
     "outputs_hidden": false
    }
   },
   "outputs": [],
   "source": [
    "# 基本库\n",
    "import numpy as np\n",
    "import random\n",
    "from tqdm import tqdm\n",
    "import collections\n",
    "\n",
    "from utils.smoothing import moving_average\n",
    "# 神经网络\n",
    "import torch\n",
    "import torch.nn.functional as F"
   ]
  },
  {
   "cell_type": "markdown",
   "id": "831347ec68d15d17",
   "metadata": {
    "collapsed": false,
    "jupyter": {
     "outputs_hidden": false
    }
   },
   "source": [
    "#### 自定义二维平面环境\n",
    "> 定义一个二维网格世界，维度的范围都是 $[0,5]$\n",
    "> 初始，智能体都位于 $(0,0)$，环境将自动从矩形区域 $3.5<=x,y<=4.5$ 内生成一个目标。每个时刻智能体可以选择**纵向和横向**分别移动范围 $[-1,1]$ 作为这一时刻的动作\n",
    "> 当智能体距离目标足够近的时候，它将收到 $0$ 的奖励并结束任务，否则奖励为 $1$ \n",
    "> 每一条序列的最大长度为 50\n",
    "\n",
    "> ![二维网格世界环境示意图](Illustrations/二维网格世界环境示意图.png)\n"
   ]
  },
  {
   "cell_type": "code",
   "execution_count": 2,
   "id": "a9fea3077033e72",
   "metadata": {
    "ExecuteTime": {
     "end_time": "2025-09-04T11:21:20.475878800Z",
     "start_time": "2025-09-04T11:21:20.402704900Z"
    },
    "collapsed": false,
    "jupyter": {
     "outputs_hidden": false
    }
   },
   "outputs": [],
   "source": [
    "class WorldEnv:\n",
    "    def __init__(self):\n",
    "        self.count = None\n",
    "        self.state = None\n",
    "        self.goal = None\n",
    "        self.distance_threshold = 0.15  # 如果智能体与目标的距离小于等于该阈值，就认为到达了目标\n",
    "        self.action_bound = 1\n",
    "\n",
    "    def reset(self):  # 重置环境\n",
    "        # 生成一个目标状态, 坐标范围是[3.5～4.5, 3.5～4.5]\n",
    "        self.goal = np.array(\n",
    "            [4 + random.uniform(-0.5, 0.5), 4 + random.uniform(-0.5, 0.5)])\n",
    "        self.state = np.array([0, 0])  # 初始状态\n",
    "        self.count = 0\n",
    "        return np.hstack((self.state, self.goal))\n",
    "\n",
    "    def step(self, action):\n",
    "        # 防止越界\n",
    "        action = np.clip(action, -self.action_bound, self.action_bound)\n",
    "        x = max(0, min(5, self.state[0] + action[0]))\n",
    "        y = max(0, min(5, self.state[1] + action[1]))\n",
    "        self.state = np.array([x, y])\n",
    "        self.count += 1\n",
    "\n",
    "        dis = np.sqrt(np.sum(np.square(self.state - self.goal)))  # 计算智能体当前位置与目标位置之间的欧几里得距离\n",
    "        reward = -1.0 if dis > self.distance_threshold else 0\n",
    "        if dis <= self.distance_threshold or self.count == 50:\n",
    "            done = True\n",
    "        else:\n",
    "            done = False\n",
    "\n",
    "        return np.hstack((self.state, self.goal)), reward, done"
   ]
  },
  {
   "cell_type": "markdown",
   "id": "3f8ffb9dbaa6578b",
   "metadata": {
    "collapsed": false,
    "jupyter": {
     "outputs_hidden": false
    }
   },
   "source": [
    "#### 使用 DDPG 算法中的网络结构"
   ]
  },
  {
   "cell_type": "code",
   "execution_count": 3,
   "id": "da350e78f4ae8acb",
   "metadata": {
    "ExecuteTime": {
     "end_time": "2025-09-04T11:21:20.546908400Z",
     "start_time": "2025-09-04T11:21:20.410249500Z"
    },
    "collapsed": false,
    "jupyter": {
     "outputs_hidden": false
    }
   },
   "outputs": [],
   "source": [
    "class PolicyNet(torch.nn.Module):\n",
    "    def __init__(self, state_dim, hidden_dim, action_dim, action_bound):\n",
    "        super(PolicyNet, self).__init__()\n",
    "        self.fc1 = torch.nn.Linear(state_dim, hidden_dim)\n",
    "        self.fc2 = torch.nn.Linear(hidden_dim, hidden_dim)\n",
    "        self.fc3 = torch.nn.Linear(hidden_dim, action_dim)\n",
    "        self.action_bound = action_bound  # action_bound是环境可以接受的动作最大值\n",
    "\n",
    "    def forward(self, x):\n",
    "        x = F.relu(self.fc2(F.relu(self.fc1(x))))\n",
    "        return torch.tanh(self.fc3(x)) * self.action_bound\n",
    "\n",
    "\n",
    "class QValueNet(torch.nn.Module):\n",
    "    def __init__(self, state_dim, hidden_dim, action_dim):\n",
    "        super(QValueNet, self).__init__()\n",
    "        self.fc1 = torch.nn.Linear(state_dim + action_dim, hidden_dim)\n",
    "        self.fc2 = torch.nn.Linear(hidden_dim, hidden_dim)\n",
    "        self.fc3 = torch.nn.Linear(hidden_dim, 1)\n",
    "\n",
    "    def forward(self, x, a):\n",
    "        cat = torch.cat([x, a], dim=1)  # 拼接状态和动作\n",
    "        x = F.relu(self.fc2(F.relu(self.fc1(cat))))\n",
    "        return self.fc3(x)"
   ]
  },
  {
   "cell_type": "markdown",
   "id": "44d370dc876ca84c",
   "metadata": {
    "collapsed": false,
    "jupyter": {
     "outputs_hidden": false
    }
   },
   "source": [
    "#### DDPG算法\n",
    "> 相比在 **倒立摆环境** 运行的 **DDPG算法**，这里的环境中动作有 2 维，导致一行代码的不同"
   ]
  },
  {
   "cell_type": "code",
   "execution_count": 4,
   "id": "7a266d3791a98eb8",
   "metadata": {
    "ExecuteTime": {
     "end_time": "2025-09-04T11:55:26.435502800Z",
     "start_time": "2025-09-04T11:55:26.409937700Z"
    },
    "collapsed": false,
    "jupyter": {
     "outputs_hidden": false
    }
   },
   "outputs": [],
   "source": [
    "class DDPG:\n",
    "    \"\"\" DDPG算法 \"\"\"\n",
    "    def __init__(self, state_dim, hidden_dim, action_dim, action_bound, actor_lr, critic_lr, sigma, tau, gamma, device):\n",
    "        \n",
    "        self.actor = PolicyNet(state_dim, hidden_dim, action_dim, action_bound).to(device)\n",
    "        self.critic = QValueNet(state_dim, hidden_dim, action_dim).to(device)\n",
    "        self.target_actor = PolicyNet(state_dim, hidden_dim, action_dim, action_bound).to(device)\n",
    "        self.target_critic = QValueNet(state_dim, hidden_dim, action_dim).to(device)\n",
    "        \n",
    "        # 初始化目标网络并设置和主网络相同的参数\n",
    "        self.target_critic.load_state_dict(self.critic.state_dict())\n",
    "        self.target_actor.load_state_dict(self.actor.state_dict())\n",
    "        \n",
    "        self.actor_optimizer = torch.optim.Adam(self.actor.parameters(), lr=actor_lr)\n",
    "        self.critic_optimizer = torch.optim.Adam(self.critic.parameters(), lr=critic_lr)\n",
    "        \n",
    "        self.gamma = gamma\n",
    "        self.sigma = sigma  # 高斯噪声的标准差设为0\n",
    "        self.tau = tau  # 目标网络软更新参数\n",
    "        self.action_dim = action_dim\n",
    "        self.device = device\n",
    "\n",
    "    def take_action(self, state):\n",
    "        state = torch.tensor(np.array([state]), dtype=torch.float).to(self.device)\n",
    "        #------------------------------------代码区别--------------------------------------------\n",
    "        action = self.actor(state).detach().cpu().numpy()[0]\n",
    "        #------------------------------------代码区别--------------------------------------------\n",
    "        # 给动作添加噪声，增加探索\n",
    "        action = action + self.sigma * np.random.randn(self.action_dim)\n",
    "        return action\n",
    "            \n",
    "\n",
    "    # 软更新\n",
    "    def soft_update(self, net, target_net):\n",
    "        for param_target, param in zip(target_net.parameters(), net.parameters()):\n",
    "            param_target.data.copy_(param_target.data * (1.0 - self.tau) + param.data * self.tau)\n",
    "            \n",
    "\n",
    "    def update(self, transition_dict):\n",
    "        \n",
    "        states = torch.tensor(transition_dict['states'], dtype=torch.float).to(self.device)\n",
    "        #------------------------------------代码区别--------------------------------------------\n",
    "        actions = torch.tensor(transition_dict['actions'], dtype=torch.float).to(self.device)\n",
    "        #------------------------------------代码区别--------------------------------------------\n",
    "        rewards = torch.tensor(transition_dict['rewards'], dtype=torch.float).view(-1, 1).to(self.device)\n",
    "        next_states = torch.tensor(transition_dict['next_states'], dtype=torch.float).to(self.device)\n",
    "        dones = torch.tensor(transition_dict['dones'], dtype=torch.float).view(-1, 1).to(self.device)\n",
    "\n",
    "        \n",
    "        next_q_values = self.target_critic(next_states, self.target_actor(next_states))\n",
    "        q_targets = rewards + self.gamma * next_q_values * (1 - dones)\n",
    "        \n",
    "        critic_loss = torch.mean(F.mse_loss(self.critic(states, actions), q_targets))\n",
    "        self.critic_optimizer.zero_grad()\n",
    "        critic_loss.backward()\n",
    "        self.critic_optimizer.step()\n",
    "\n",
    "        actor_loss = -torch.mean(self.critic(states, self.actor(states)))\n",
    "        self.actor_optimizer.zero_grad()\n",
    "        actor_loss.backward()\n",
    "        self.actor_optimizer.step()\n",
    "\n",
    "        self.soft_update(self.actor, self.target_actor)  # 软更新策略网络\n",
    "        self.soft_update(self.critic, self.target_critic)  # 软更新价值网络"
   ]
  },
  {
   "cell_type": "markdown",
   "id": "f76ae8c598fc45d",
   "metadata": {
    "collapsed": false,
    "jupyter": {
     "outputs_hidden": false
    }
   },
   "source": [
    "#### 专属经验回放池\n",
    "> 不再存储每一步的数据，而是存储一整条轨迹"
   ]
  },
  {
   "cell_type": "code",
   "execution_count": 5,
   "id": "f43609de94412072",
   "metadata": {
    "ExecuteTime": {
     "end_time": "2025-09-04T11:21:20.551907200Z",
     "start_time": "2025-09-04T11:21:20.440260300Z"
    },
    "collapsed": false,
    "jupyter": {
     "outputs_hidden": false
    }
   },
   "outputs": [],
   "source": [
    "class Trajectory:\n",
    "    \"\"\" 用来记录一条完整轨迹 \"\"\"\n",
    "    def __init__(self, init_state):\n",
    "        self.states = [init_state]\n",
    "        self.actions = []\n",
    "        self.rewards = []\n",
    "        self.dones = []\n",
    "        self.length = 0\n",
    "\n",
    "    def store_step(self, action, state, reward, done):\n",
    "        self.actions.append(action)\n",
    "        self.states.append(state)\n",
    "        self.rewards.append(reward)\n",
    "        self.dones.append(done)\n",
    "        self.length += 1\n",
    "\n",
    "# 保存多个轨迹，以供训练使用\n",
    "class ReplayBufferTrajectory:\n",
    "    \"\"\" 存储轨迹的经验回放池 \"\"\"\n",
    "    def __init__(self, capacity):\n",
    "        self.buffer = collections.deque(maxlen=capacity)  # 创建一个循环队列，最大长度为 capacity\n",
    "\n",
    "    def add_trajectory(self, trajectory):\n",
    "        self.buffer.append(trajectory)\n",
    "\n",
    "    def size(self):\n",
    "        return len(self.buffer)\n",
    "    \n",
    "    # 随机抽取一批轨迹\n",
    "    def sample(self, batch_size, use_her, dis_threshold=0.15, her_ratio=0.8):\n",
    "        batch = dict(states=[],\n",
    "                     actions=[],\n",
    "                     next_states=[],\n",
    "                     rewards=[],\n",
    "                     dones=[])\n",
    "        for _ in range(batch_size):\n",
    "            traj = random.sample(self.buffer, 1)[0]  # 一条轨迹 traj\n",
    "            step_state = np.random.randint(traj.length)  # 一个时间步 step_state\n",
    "            \n",
    "            state = traj.states[step_state]\n",
    "            next_state = traj.states[step_state + 1]\n",
    "            action = traj.actions[step_state]\n",
    "            reward = traj.rewards[step_state]\n",
    "            done = traj.dones[step_state]\n",
    "\n",
    "            if use_her and np.random.uniform() <= her_ratio:  # 启用 HER 并以一定的概率（her_ratio）应用 HER\n",
    "                step_goal = np.random.randint(step_state + 1, traj.length + 1)\n",
    "                goal = traj.states[step_goal][:2]  # 使用HER算法的future方案设置目标\n",
    "                dis = np.sqrt(np.sum(np.square(next_state[:2] - goal)))\n",
    "                reward = -1.0 if dis > dis_threshold else 0\n",
    "                done = False if dis > dis_threshold else True\n",
    "                state = np.hstack((state[:2], goal))\n",
    "                next_state = np.hstack((next_state[:2], goal))\n",
    "\n",
    "            batch['states'].append(state)\n",
    "            batch['next_states'].append(next_state)\n",
    "            batch['actions'].append(action)\n",
    "            batch['rewards'].append(reward)\n",
    "            batch['dones'].append(done)\n",
    "            \n",
    "        # 转换为 NumPy 数组\n",
    "        batch['states'] = np.array(batch['states'])\n",
    "        batch['next_states'] = np.array(batch['next_states'])\n",
    "        batch['actions'] = np.array(batch['actions'])\n",
    "        return batch"
   ]
  },
  {
   "cell_type": "markdown",
   "id": "bbbe34757849f752",
   "metadata": {
    "collapsed": false,
    "jupyter": {
     "outputs_hidden": false
    }
   },
   "source": [
    "#### 采用 HER 的离线策略优化"
   ]
  },
  {
   "cell_type": "markdown",
   "id": "fb044a2bdcbce8eb",
   "metadata": {
    "collapsed": false,
    "jupyter": {
     "outputs_hidden": false
    }
   },
   "source": [
    "***环境初始化：***"
   ]
  },
  {
   "cell_type": "code",
   "execution_count": 6,
   "id": "70db17d7cec7e822",
   "metadata": {
    "ExecuteTime": {
     "end_time": "2025-09-04T11:21:20.590179900Z",
     "start_time": "2025-09-04T11:21:20.446932800Z"
    },
    "collapsed": false,
    "jupyter": {
     "outputs_hidden": false
    }
   },
   "outputs": [],
   "source": [
    "random.seed(0)\n",
    "np.random.seed(0)\n",
    "torch.manual_seed(0)\n",
    "env = WorldEnv()"
   ]
  },
  {
   "cell_type": "markdown",
   "id": "84e4308b74a48ed8",
   "metadata": {
    "collapsed": false,
    "jupyter": {
     "outputs_hidden": false
    }
   },
   "source": [
    "***超参数设置：***"
   ]
  },
  {
   "cell_type": "code",
   "execution_count": 7,
   "id": "c3101078c82d890f",
   "metadata": {
    "ExecuteTime": {
     "end_time": "2025-09-04T11:21:20.590179900Z",
     "start_time": "2025-09-04T11:21:20.496385800Z"
    },
    "collapsed": false,
    "jupyter": {
     "outputs_hidden": false
    }
   },
   "outputs": [],
   "source": [
    "state_dim = 4\n",
    "action_dim = 2\n",
    "action_bound = 1\n",
    "hidden_dim = 128\n",
    "\n",
    "actor_lr = 1e-3\n",
    "critic_lr = 1e-3\n",
    "sigma = 0.1\n",
    "tau = 0.005\n",
    "gamma = 0.98\n",
    "device = torch.device(\"cuda\") if torch.cuda.is_available() else torch.device( \"cpu\")\n",
    "\n",
    "buffer_size = 10000\n",
    "replay_buffer = ReplayBufferTrajectory(buffer_size)\n",
    "\n",
    "\n",
    "agent = DDPG(state_dim, hidden_dim, action_dim, action_bound, \n",
    "             actor_lr, critic_lr, sigma, tau, gamma, device)\n",
    "\n",
    "batch_size = 256\n",
    "minimal_episodes = 200  # 回收池中储存的一条轨迹对应一次迭代\n",
    "n_train = 20\n",
    "num_episodes = 2000"
   ]
  },
  {
   "cell_type": "markdown",
   "id": "6a7fa9fa20f871a9",
   "metadata": {
    "collapsed": false,
    "jupyter": {
     "outputs_hidden": false
    }
   },
   "source": [
    "***测试与训练:***"
   ]
  },
  {
   "cell_type": "code",
   "execution_count": 8,
   "id": "5da250db7c2158c2",
   "metadata": {
    "collapsed": false,
    "jupyter": {
     "outputs_hidden": false
    }
   },
   "outputs": [
    {
     "name": "stderr",
     "output_type": "stream",
     "text": [
      "Iteration 0: 100%|██████████| 200/200 [00:08<00:00, 23.93it/s, episode=200, return=-50.000]\n",
      "Iteration 1: 100%|██████████| 200/200 [01:32<00:00,  2.16it/s, episode=400, return=-4.700]\n",
      "Iteration 2: 100%|██████████| 200/200 [01:31<00:00,  2.19it/s, episode=600, return=-4.400]\n",
      "Iteration 3: 100%|██████████| 200/200 [01:31<00:00,  2.18it/s, episode=800, return=-3.700]\n",
      "Iteration 4: 100%|██████████| 200/200 [01:30<00:00,  2.22it/s, episode=1000, return=-4.500]\n",
      "Iteration 5: 100%|██████████| 200/200 [01:31<00:00,  2.18it/s, episode=1200, return=-3.800]\n",
      "Iteration 6: 100%|██████████| 200/200 [01:38<00:00,  2.03it/s, episode=1400, return=-4.600]\n",
      "Iteration 7: 100%|██████████| 200/200 [01:37<00:00,  2.05it/s, episode=1600, return=-4.200]\n",
      "Iteration 8: 100%|██████████| 200/200 [01:37<00:00,  2.06it/s, episode=1800, return=-4.300]\n",
      "Iteration 9: 100%|██████████| 200/200 [01:35<00:00,  2.10it/s, episode=2000, return=-3.700]\n"
     ]
    }
   ],
   "source": [
    "return_list = []\n",
    "for i in range(10):\n",
    "    with tqdm(total=int(num_episodes / 10), desc='Iteration %d' % i) as pbar:\n",
    "        for i_episode in range(int(num_episodes / 10)):\n",
    "            episode_return = 0\n",
    "            state = env.reset()\n",
    "            traj = Trajectory(state)\n",
    "            done = False\n",
    "            while not done:\n",
    "                action = agent.take_action(state)\n",
    "                state, reward, done = env.step(action)\n",
    "                episode_return += reward\n",
    "                traj.store_step(action, state, reward, done)\n",
    "            \n",
    "            replay_buffer.add_trajectory(traj)\n",
    "            return_list.append(episode_return)\n",
    "            if replay_buffer.size() >= minimal_episodes:\n",
    "                for _ in range(n_train):\n",
    "                    transition_dict = replay_buffer.sample(batch_size, True)\n",
    "                    agent.update(transition_dict)\n",
    "            if (i_episode + 1) % 10 == 0:\n",
    "                pbar.set_postfix({\n",
    "                    'episode':\n",
    "                    '%d' % (num_episodes / 10 * i + i_episode + 1),\n",
    "                    'return':\n",
    "                    '%.3f' % np.mean(return_list[-10:])\n",
    "                })\n",
    "            pbar.update(1)"
   ]
  },
  {
   "cell_type": "markdown",
   "id": "125c300470648a5e",
   "metadata": {
    "collapsed": false,
    "jupyter": {
     "outputs_hidden": false
    }
   },
   "source": [
    "***采用 HER 的效果展示：***"
   ]
  },
  {
   "cell_type": "code",
   "execution_count": 9,
   "id": "75044b3d1f76f8e4",
   "metadata": {
    "collapsed": false,
    "jupyter": {
     "outputs_hidden": false
    }
   },
   "outputs": [],
   "source": [
    "import pandas as pd\n",
    "episodes_list = list(range(len(return_list)))\n",
    "mv_return = moving_average(return_list, 9)\n",
    "# 创建 DataFrame\n",
    "df2 = pd.DataFrame({'Episodes': episodes_list, 'Returns': mv_return})\n",
    "# 保存为 CSV 文件\n",
    "df2.to_csv('HER_two-dimensional-world-v0_mv_returns_data.csv', index=False)"
   ]
  },
  {
   "cell_type": "code",
   "execution_count": 18,
   "id": "7f8544dc937d21a1",
   "metadata": {
    "collapsed": false,
    "jupyter": {
     "outputs_hidden": false
    }
   },
   "outputs": [
    {
     "data": {
      "application/vnd.plotly.v1+json": {
       "config": {
        "plotlyServerURL": "https://plot.ly"
       },
       "data": [
        {
         "mode": "lines",
         "name": "Returns",
         "type": "scatter",
         "x": {
          "bdata": "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",
          "dtype": "i2"
         },
         "y": {
          "bdata": "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",
          "dtype": "f8"
         }
        }
       ],
       "layout": {
        "showlegend": true,
        "template": {
         "data": {
          "bar": [
           {
            "error_x": {
             "color": "#2a3f5f"
            },
            "error_y": {
             "color": "#2a3f5f"
            },
            "marker": {
             "line": {
              "color": "#E5ECF6",
              "width": 0.5
             },
             "pattern": {
              "fillmode": "overlay",
              "size": 10,
              "solidity": 0.2
             }
            },
            "type": "bar"
           }
          ],
          "barpolar": [
           {
            "marker": {
             "line": {
              "color": "#E5ECF6",
              "width": 0.5
             },
             "pattern": {
              "fillmode": "overlay",
              "size": 10,
              "solidity": 0.2
             }
            },
            "type": "barpolar"
           }
          ],
          "carpet": [
           {
            "aaxis": {
             "endlinecolor": "#2a3f5f",
             "gridcolor": "white",
             "linecolor": "white",
             "minorgridcolor": "white",
             "startlinecolor": "#2a3f5f"
            },
            "baxis": {
             "endlinecolor": "#2a3f5f",
             "gridcolor": "white",
             "linecolor": "white",
             "minorgridcolor": "white",
             "startlinecolor": "#2a3f5f"
            },
            "type": "carpet"
           }
          ],
          "choropleth": [
           {
            "colorbar": {
             "outlinewidth": 0,
             "ticks": ""
            },
            "type": "choropleth"
           }
          ],
          "contour": [
           {
            "colorbar": {
             "outlinewidth": 0,
             "ticks": ""
            },
            "colorscale": [
             [
              0,
              "#0d0887"
             ],
             [
              0.1111111111111111,
              "#46039f"
             ],
             [
              0.2222222222222222,
              "#7201a8"
             ],
             [
              0.3333333333333333,
              "#9c179e"
             ],
             [
              0.4444444444444444,
              "#bd3786"
             ],
             [
              0.5555555555555556,
              "#d8576b"
             ],
             [
              0.6666666666666666,
              "#ed7953"
             ],
             [
              0.7777777777777778,
              "#fb9f3a"
             ],
             [
              0.8888888888888888,
              "#fdca26"
             ],
             [
              1,
              "#f0f921"
             ]
            ],
            "type": "contour"
           }
          ],
          "contourcarpet": [
           {
            "colorbar": {
             "outlinewidth": 0,
             "ticks": ""
            },
            "type": "contourcarpet"
           }
          ],
          "heatmap": [
           {
            "colorbar": {
             "outlinewidth": 0,
             "ticks": ""
            },
            "colorscale": [
             [
              0,
              "#0d0887"
             ],
             [
              0.1111111111111111,
              "#46039f"
             ],
             [
              0.2222222222222222,
              "#7201a8"
             ],
             [
              0.3333333333333333,
              "#9c179e"
             ],
             [
              0.4444444444444444,
              "#bd3786"
             ],
             [
              0.5555555555555556,
              "#d8576b"
             ],
             [
              0.6666666666666666,
              "#ed7953"
             ],
             [
              0.7777777777777778,
              "#fb9f3a"
             ],
             [
              0.8888888888888888,
              "#fdca26"
             ],
             [
              1,
              "#f0f921"
             ]
            ],
            "type": "heatmap"
           }
          ],
          "histogram": [
           {
            "marker": {
             "pattern": {
              "fillmode": "overlay",
              "size": 10,
              "solidity": 0.2
             }
            },
            "type": "histogram"
           }
          ],
          "histogram2d": [
           {
            "colorbar": {
             "outlinewidth": 0,
             "ticks": ""
            },
            "colorscale": [
             [
              0,
              "#0d0887"
             ],
             [
              0.1111111111111111,
              "#46039f"
             ],
             [
              0.2222222222222222,
              "#7201a8"
             ],
             [
              0.3333333333333333,
              "#9c179e"
             ],
             [
              0.4444444444444444,
              "#bd3786"
             ],
             [
              0.5555555555555556,
              "#d8576b"
             ],
             [
              0.6666666666666666,
              "#ed7953"
             ],
             [
              0.7777777777777778,
              "#fb9f3a"
             ],
             [
              0.8888888888888888,
              "#fdca26"
             ],
             [
              1,
              "#f0f921"
             ]
            ],
            "type": "histogram2d"
           }
          ],
          "histogram2dcontour": [
           {
            "colorbar": {
             "outlinewidth": 0,
             "ticks": ""
            },
            "colorscale": [
             [
              0,
              "#0d0887"
             ],
             [
              0.1111111111111111,
              "#46039f"
             ],
             [
              0.2222222222222222,
              "#7201a8"
             ],
             [
              0.3333333333333333,
              "#9c179e"
             ],
             [
              0.4444444444444444,
              "#bd3786"
             ],
             [
              0.5555555555555556,
              "#d8576b"
             ],
             [
              0.6666666666666666,
              "#ed7953"
             ],
             [
              0.7777777777777778,
              "#fb9f3a"
             ],
             [
              0.8888888888888888,
              "#fdca26"
             ],
             [
              1,
              "#f0f921"
             ]
            ],
            "type": "histogram2dcontour"
           }
          ],
          "mesh3d": [
           {
            "colorbar": {
             "outlinewidth": 0,
             "ticks": ""
            },
            "type": "mesh3d"
           }
          ],
          "parcoords": [
           {
            "line": {
             "colorbar": {
              "outlinewidth": 0,
              "ticks": ""
             }
            },
            "type": "parcoords"
           }
          ],
          "pie": [
           {
            "automargin": true,
            "type": "pie"
           }
          ],
          "scatter": [
           {
            "fillpattern": {
             "fillmode": "overlay",
             "size": 10,
             "solidity": 0.2
            },
            "type": "scatter"
           }
          ],
          "scatter3d": [
           {
            "line": {
             "colorbar": {
              "outlinewidth": 0,
              "ticks": ""
             }
            },
            "marker": {
             "colorbar": {
              "outlinewidth": 0,
              "ticks": ""
             }
            },
            "type": "scatter3d"
           }
          ],
          "scattercarpet": [
           {
            "marker": {
             "colorbar": {
              "outlinewidth": 0,
              "ticks": ""
             }
            },
            "type": "scattercarpet"
           }
          ],
          "scattergeo": [
           {
            "marker": {
             "colorbar": {
              "outlinewidth": 0,
              "ticks": ""
             }
            },
            "type": "scattergeo"
           }
          ],
          "scattergl": [
           {
            "marker": {
             "colorbar": {
              "outlinewidth": 0,
              "ticks": ""
             }
            },
            "type": "scattergl"
           }
          ],
          "scattermap": [
           {
            "marker": {
             "colorbar": {
              "outlinewidth": 0,
              "ticks": ""
             }
            },
            "type": "scattermap"
           }
          ],
          "scattermapbox": [
           {
            "marker": {
             "colorbar": {
              "outlinewidth": 0,
              "ticks": ""
             }
            },
            "type": "scattermapbox"
           }
          ],
          "scatterpolar": [
           {
            "marker": {
             "colorbar": {
              "outlinewidth": 0,
              "ticks": ""
             }
            },
            "type": "scatterpolar"
           }
          ],
          "scatterpolargl": [
           {
            "marker": {
             "colorbar": {
              "outlinewidth": 0,
              "ticks": ""
             }
            },
            "type": "scatterpolargl"
           }
          ],
          "scatterternary": [
           {
            "marker": {
             "colorbar": {
              "outlinewidth": 0,
              "ticks": ""
             }
            },
            "type": "scatterternary"
           }
          ],
          "surface": [
           {
            "colorbar": {
             "outlinewidth": 0,
             "ticks": ""
            },
            "colorscale": [
             [
              0,
              "#0d0887"
             ],
             [
              0.1111111111111111,
              "#46039f"
             ],
             [
              0.2222222222222222,
              "#7201a8"
             ],
             [
              0.3333333333333333,
              "#9c179e"
             ],
             [
              0.4444444444444444,
              "#bd3786"
             ],
             [
              0.5555555555555556,
              "#d8576b"
             ],
             [
              0.6666666666666666,
              "#ed7953"
             ],
             [
              0.7777777777777778,
              "#fb9f3a"
             ],
             [
              0.8888888888888888,
              "#fdca26"
             ],
             [
              1,
              "#f0f921"
             ]
            ],
            "type": "surface"
           }
          ],
          "table": [
           {
            "cells": {
             "fill": {
              "color": "#EBF0F8"
             },
             "line": {
              "color": "white"
             }
            },
            "header": {
             "fill": {
              "color": "#C8D4E3"
             },
             "line": {
              "color": "white"
             }
            },
            "type": "table"
           }
          ]
         },
         "layout": {
          "annotationdefaults": {
           "arrowcolor": "#2a3f5f",
           "arrowhead": 0,
           "arrowwidth": 1
          },
          "autotypenumbers": "strict",
          "coloraxis": {
           "colorbar": {
            "outlinewidth": 0,
            "ticks": ""
           }
          },
          "colorscale": {
           "diverging": [
            [
             0,
             "#8e0152"
            ],
            [
             0.1,
             "#c51b7d"
            ],
            [
             0.2,
             "#de77ae"
            ],
            [
             0.3,
             "#f1b6da"
            ],
            [
             0.4,
             "#fde0ef"
            ],
            [
             0.5,
             "#f7f7f7"
            ],
            [
             0.6,
             "#e6f5d0"
            ],
            [
             0.7,
             "#b8e186"
            ],
            [
             0.8,
             "#7fbc41"
            ],
            [
             0.9,
             "#4d9221"
            ],
            [
             1,
             "#276419"
            ]
           ],
           "sequential": [
            [
             0,
             "#0d0887"
            ],
            [
             0.1111111111111111,
             "#46039f"
            ],
            [
             0.2222222222222222,
             "#7201a8"
            ],
            [
             0.3333333333333333,
             "#9c179e"
            ],
            [
             0.4444444444444444,
             "#bd3786"
            ],
            [
             0.5555555555555556,
             "#d8576b"
            ],
            [
             0.6666666666666666,
             "#ed7953"
            ],
            [
             0.7777777777777778,
             "#fb9f3a"
            ],
            [
             0.8888888888888888,
             "#fdca26"
            ],
            [
             1,
             "#f0f921"
            ]
           ],
           "sequentialminus": [
            [
             0,
             "#0d0887"
            ],
            [
             0.1111111111111111,
             "#46039f"
            ],
            [
             0.2222222222222222,
             "#7201a8"
            ],
            [
             0.3333333333333333,
             "#9c179e"
            ],
            [
             0.4444444444444444,
             "#bd3786"
            ],
            [
             0.5555555555555556,
             "#d8576b"
            ],
            [
             0.6666666666666666,
             "#ed7953"
            ],
            [
             0.7777777777777778,
             "#fb9f3a"
            ],
            [
             0.8888888888888888,
             "#fdca26"
            ],
            [
             1,
             "#f0f921"
            ]
           ]
          },
          "colorway": [
           "#636efa",
           "#EF553B",
           "#00cc96",
           "#ab63fa",
           "#FFA15A",
           "#19d3f3",
           "#FF6692",
           "#B6E880",
           "#FF97FF",
           "#FECB52"
          ],
          "font": {
           "color": "#2a3f5f"
          },
          "geo": {
           "bgcolor": "white",
           "lakecolor": "white",
           "landcolor": "#E5ECF6",
           "showlakes": true,
           "showland": true,
           "subunitcolor": "white"
          },
          "hoverlabel": {
           "align": "left"
          },
          "hovermode": "closest",
          "mapbox": {
           "style": "light"
          },
          "paper_bgcolor": "white",
          "plot_bgcolor": "#E5ECF6",
          "polar": {
           "angularaxis": {
            "gridcolor": "white",
            "linecolor": "white",
            "ticks": ""
           },
           "bgcolor": "#E5ECF6",
           "radialaxis": {
            "gridcolor": "white",
            "linecolor": "white",
            "ticks": ""
           }
          },
          "scene": {
           "xaxis": {
            "backgroundcolor": "#E5ECF6",
            "gridcolor": "white",
            "gridwidth": 2,
            "linecolor": "white",
            "showbackground": true,
            "ticks": "",
            "zerolinecolor": "white"
           },
           "yaxis": {
            "backgroundcolor": "#E5ECF6",
            "gridcolor": "white",
            "gridwidth": 2,
            "linecolor": "white",
            "showbackground": true,
            "ticks": "",
            "zerolinecolor": "white"
           },
           "zaxis": {
            "backgroundcolor": "#E5ECF6",
            "gridcolor": "white",
            "gridwidth": 2,
            "linecolor": "white",
            "showbackground": true,
            "ticks": "",
            "zerolinecolor": "white"
           }
          },
          "shapedefaults": {
           "line": {
            "color": "#2a3f5f"
           }
          },
          "ternary": {
           "aaxis": {
            "gridcolor": "white",
            "linecolor": "white",
            "ticks": ""
           },
           "baxis": {
            "gridcolor": "white",
            "linecolor": "white",
            "ticks": ""
           },
           "bgcolor": "#E5ECF6",
           "caxis": {
            "gridcolor": "white",
            "linecolor": "white",
            "ticks": ""
           }
          },
          "title": {
           "x": 0.05
          },
          "xaxis": {
           "automargin": true,
           "gridcolor": "white",
           "linecolor": "white",
           "ticks": "",
           "title": {
            "standoff": 15
           },
           "zerolinecolor": "white",
           "zerolinewidth": 2
          },
          "yaxis": {
           "automargin": true,
           "gridcolor": "white",
           "linecolor": "white",
           "ticks": "",
           "title": {
            "standoff": 15
           },
           "zerolinecolor": "white",
           "zerolinewidth": 2
          }
         }
        },
        "title": {
         "text": "HER on two-dimensional-world-v0"
        },
        "xaxis": {
         "title": {
          "text": "Episodes"
         }
        },
        "yaxis": {
         "title": {
          "text": "Returns"
         }
        }
       }
      },
      "image/png": "[encoded data removed]"
     },
     "metadata": {},
     "output_type": "display_data"
    }
   ],
   "source": [
    "import plotly.graph_objects as go\n",
    "import pandas as pd\n",
    "df = pd.read_csv('HER_two-dimensional-world-v0_mv_returns_data.csv')  # 从 CSV 文件中读取数据\n",
    "fig = go.Figure()\n",
    "fig.add_trace(go.Scatter(x=df['Episodes'], y=df['Returns'], mode='lines', name='Returns'))\n",
    "fig.update_layout(\n",
    "    title='HER on two-dimensional-world-v0',\n",
    "    xaxis_title='Episodes',\n",
    "    yaxis_title='Returns',\n",
    "    showlegend=True\n",
    ")\n",
    "fig.show()"
   ]
  },
  {
   "cell_type": "markdown",
   "id": "26530d9d23267040",
   "metadata": {
    "collapsed": false,
    "jupyter": {
     "outputs_hidden": false
    }
   },
   "source": [
    "#### 对比实验：不采用 HER 重新构造数据，而是直接使用收集的数据训练一个策略（稀疏奖励环境）"
   ]
  },
  {
   "cell_type": "code",
   "execution_count": 11,
   "id": "46c067c369f35034",
   "metadata": {
    "collapsed": false,
    "jupyter": {
     "outputs_hidden": false
    }
   },
   "outputs": [],
   "source": [
    "random.seed(0)\n",
    "np.random.seed(0)\n",
    "torch.manual_seed(0)\n",
    "env = WorldEnv()\n",
    "\n",
    "replay_buffer = ReplayBufferTrajectory(buffer_size)\n",
    "agent = DDPG(state_dim, hidden_dim, action_dim, action_bound, actor_lr,\n",
    "             critic_lr, sigma, tau, gamma, device)"
   ]
  },
  {
   "cell_type": "code",
   "execution_count": 12,
   "id": "7a150ca436cdf32",
   "metadata": {
    "collapsed": false,
    "jupyter": {
     "outputs_hidden": false
    }
   },
   "outputs": [
    {
     "name": "stderr",
     "output_type": "stream",
     "text": [
      "Iteration 0: 100%|██████████| 200/200 [00:13<00:00, 14.98it/s, episode=200, return=-50.000]\n",
      "Iteration 1: 100%|██████████| 200/200 [01:15<00:00,  2.66it/s, episode=400, return=-50.000]\n",
      "Iteration 2: 100%|██████████| 200/200 [01:12<00:00,  2.77it/s, episode=600, return=-50.000]\n",
      "Iteration 3: 100%|██████████| 200/200 [01:11<00:00,  2.80it/s, episode=800, return=-50.000]\n",
      "Iteration 4: 100%|██████████| 200/200 [01:13<00:00,  2.74it/s, episode=1000, return=-50.000]\n",
      "Iteration 5: 100%|██████████| 200/200 [01:14<00:00,  2.69it/s, episode=1200, return=-50.000]\n",
      "Iteration 6: 100%|██████████| 200/200 [01:07<00:00,  2.98it/s, episode=1400, return=-50.000]\n",
      "Iteration 7: 100%|██████████| 200/200 [01:05<00:00,  3.05it/s, episode=1600, return=-45.300]\n",
      "Iteration 8: 100%|██████████| 200/200 [01:05<00:00,  3.06it/s, episode=1800, return=-40.600]\n",
      "Iteration 9: 100%|██████████| 200/200 [01:07<00:00,  2.98it/s, episode=2000, return=-45.300]\n"
     ]
    }
   ],
   "source": [
    "return_list = []\n",
    "for i in range(10):\n",
    "    with tqdm(total=int(num_episodes / 10), desc='Iteration %d' % i) as pbar:\n",
    "        for i_episode in range(int(num_episodes / 10)):\n",
    "            episode_return = 0\n",
    "            state = env.reset()\n",
    "            traj = Trajectory(state)\n",
    "            done = False\n",
    "            while not done:\n",
    "                action = agent.take_action(state)\n",
    "                state, reward, done = env.step(action)\n",
    "                episode_return += reward\n",
    "                traj.store_step(action, state, reward, done)\n",
    "            \n",
    "            replay_buffer.add_trajectory(traj)\n",
    "            return_list.append(episode_return)\n",
    "            if replay_buffer.size() >= minimal_episodes:\n",
    "                for _ in range(n_train):\n",
    "                    # --------------------------不使用 HER 训练-------------------------------------\n",
    "                    transition_dict = replay_buffer.sample(batch_size, False)\n",
    "                    # --------------------------不使用 HER 训练-------------------------------------\n",
    "                    agent.update(transition_dict)\n",
    "            if (i_episode + 1) % 10 == 0:\n",
    "                pbar.set_postfix({\n",
    "                    'episode':\n",
    "                    '%d' % (num_episodes / 10 * i + i_episode + 1),\n",
    "                    'return':\n",
    "                    '%.3f' % np.mean(return_list[-10:])\n",
    "                })\n",
    "            pbar.update(1)"
   ]
  },
  {
   "cell_type": "markdown",
   "id": "63eb8080978c07f8",
   "metadata": {
    "collapsed": false,
    "jupyter": {
     "outputs_hidden": false
    }
   },
   "source": [
    "***不采用 HER 的效果展示（DDPG）：***"
   ]
  },
  {
   "cell_type": "code",
   "execution_count": 13,
   "id": "56f52cb2fc27cb2e",
   "metadata": {
    "collapsed": false,
    "jupyter": {
     "outputs_hidden": false
    }
   },
   "outputs": [],
   "source": [
    "import pandas as pd\n",
    "episodes_list = list(range(len(return_list)))\n",
    "mv_return = moving_average(return_list, 9)\n",
    "# 创建 DataFrame\n",
    "df2 = pd.DataFrame({'Episodes': episodes_list, 'Returns': mv_return})\n",
    "# 保存为 CSV 文件\n",
    "df2.to_csv('DDPG_two-dimensional-world-v0_mv_returns_data.csv', index=False)"
   ]
  },
  {
   "cell_type": "code",
   "execution_count": 17,
   "id": "10556d7b8a28d82e",
   "metadata": {
    "collapsed": false,
    "jupyter": {
     "outputs_hidden": false
    }
   },
   "outputs": [
    {
     "data": {
      "application/vnd.plotly.v1+json": {
       "config": {
        "plotlyServerURL": "https://plot.ly"
       },
       "data": [
        {
         "mode": "lines",
         "name": "Returns",
         "type": "scatter",
         "x": {
          "bdata": "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",
          "dtype": "i2"
         },
         "y": {
          "bdata": "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",
          "dtype": "f8"
         }
        }
       ],
       "layout": {
        "showlegend": true,
        "template": {
         "data": {
          "bar": [
           {
            "error_x": {
             "color": "#2a3f5f"
            },
            "error_y": {
             "color": "#2a3f5f"
            },
            "marker": {
             "line": {
              "color": "#E5ECF6",
              "width": 0.5
             },
             "pattern": {
              "fillmode": "overlay",
              "size": 10,
              "solidity": 0.2
             }
            },
            "type": "bar"
           }
          ],
          "barpolar": [
           {
            "marker": {
             "line": {
              "color": "#E5ECF6",
              "width": 0.5
             },
             "pattern": {
              "fillmode": "overlay",
              "size": 10,
              "solidity": 0.2
             }
            },
            "type": "barpolar"
           }
          ],
          "carpet": [
           {
            "aaxis": {
             "endlinecolor": "#2a3f5f",
             "gridcolor": "white",
             "linecolor": "white",
             "minorgridcolor": "white",
             "startlinecolor": "#2a3f5f"
            },
            "baxis": {
             "endlinecolor": "#2a3f5f",
             "gridcolor": "white",
             "linecolor": "white",
             "minorgridcolor": "white",
             "startlinecolor": "#2a3f5f"
            },
            "type": "carpet"
           }
          ],
          "choropleth": [
           {
            "colorbar": {
             "outlinewidth": 0,
             "ticks": ""
            },
            "type": "choropleth"
           }
          ],
          "contour": [
           {
            "colorbar": {
             "outlinewidth": 0,
             "ticks": ""
            },
            "colorscale": [
             [
              0,
              "#0d0887"
             ],
             [
              0.1111111111111111,
              "#46039f"
             ],
             [
              0.2222222222222222,
              "#7201a8"
             ],
             [
              0.3333333333333333,
              "#9c179e"
             ],
             [
              0.4444444444444444,
              "#bd3786"
             ],
             [
              0.5555555555555556,
              "#d8576b"
             ],
             [
              0.6666666666666666,
              "#ed7953"
             ],
             [
              0.7777777777777778,
              "#fb9f3a"
             ],
             [
              0.8888888888888888,
              "#fdca26"
             ],
             [
              1,
              "#f0f921"
             ]
            ],
            "type": "contour"
           }
          ],
          "contourcarpet": [
           {
            "colorbar": {
             "outlinewidth": 0,
             "ticks": ""
            },
            "type": "contourcarpet"
           }
          ],
          "heatmap": [
           {
            "colorbar": {
             "outlinewidth": 0,
             "ticks": ""
            },
            "colorscale": [
             [
              0,
              "#0d0887"
             ],
             [
              0.1111111111111111,
              "#46039f"
             ],
             [
              0.2222222222222222,
              "#7201a8"
             ],
             [
              0.3333333333333333,
              "#9c179e"
             ],
             [
              0.4444444444444444,
              "#bd3786"
             ],
             [
              0.5555555555555556,
              "#d8576b"
             ],
             [
              0.6666666666666666,
              "#ed7953"
             ],
             [
              0.7777777777777778,
              "#fb9f3a"
             ],
             [
              0.8888888888888888,
              "#fdca26"
             ],
             [
              1,
              "#f0f921"
             ]
            ],
            "type": "heatmap"
           }
          ],
          "histogram": [
           {
            "marker": {
             "pattern": {
              "fillmode": "overlay",
              "size": 10,
              "solidity": 0.2
             }
            },
            "type": "histogram"
           }
          ],
          "histogram2d": [
           {
            "colorbar": {
             "outlinewidth": 0,
             "ticks": ""
            },
            "colorscale": [
             [
              0,
              "#0d0887"
             ],
             [
              0.1111111111111111,
              "#46039f"
             ],
             [
              0.2222222222222222,
              "#7201a8"
             ],
             [
              0.3333333333333333,
              "#9c179e"
             ],
             [
              0.4444444444444444,
              "#bd3786"
             ],
             [
              0.5555555555555556,
              "#d8576b"
             ],
             [
              0.6666666666666666,
              "#ed7953"
             ],
             [
              0.7777777777777778,
              "#fb9f3a"
             ],
             [
              0.8888888888888888,
              "#fdca26"
             ],
             [
              1,
              "#f0f921"
             ]
            ],
            "type": "histogram2d"
           }
          ],
          "histogram2dcontour": [
           {
            "colorbar": {
             "outlinewidth": 0,
             "ticks": ""
            },
            "colorscale": [
             [
              0,
              "#0d0887"
             ],
             [
              0.1111111111111111,
              "#46039f"
             ],
             [
              0.2222222222222222,
              "#7201a8"
             ],
             [
              0.3333333333333333,
              "#9c179e"
             ],
             [
              0.4444444444444444,
              "#bd3786"
             ],
             [
              0.5555555555555556,
              "#d8576b"
             ],
             [
              0.6666666666666666,
              "#ed7953"
             ],
             [
              0.7777777777777778,
              "#fb9f3a"
             ],
             [
              0.8888888888888888,
              "#fdca26"
             ],
             [
              1,
              "#f0f921"
             ]
            ],
            "type": "histogram2dcontour"
           }
          ],
          "mesh3d": [
           {
            "colorbar": {
             "outlinewidth": 0,
             "ticks": ""
            },
            "type": "mesh3d"
           }
          ],
          "parcoords": [
           {
            "line": {
             "colorbar": {
              "outlinewidth": 0,
              "ticks": ""
             }
            },
            "type": "parcoords"
           }
          ],
          "pie": [
           {
            "automargin": true,
            "type": "pie"
           }
          ],
          "scatter": [
           {
            "fillpattern": {
             "fillmode": "overlay",
             "size": 10,
             "solidity": 0.2
            },
            "type": "scatter"
           }
          ],
          "scatter3d": [
           {
            "line": {
             "colorbar": {
              "outlinewidth": 0,
              "ticks": ""
             }
            },
            "marker": {
             "colorbar": {
              "outlinewidth": 0,
              "ticks": ""
             }
            },
            "type": "scatter3d"
           }
          ],
          "scattercarpet": [
           {
            "marker": {
             "colorbar": {
              "outlinewidth": 0,
              "ticks": ""
             }
            },
            "type": "scattercarpet"
           }
          ],
          "scattergeo": [
           {
            "marker": {
             "colorbar": {
              "outlinewidth": 0,
              "ticks": ""
             }
            },
            "type": "scattergeo"
           }
          ],
          "scattergl": [
           {
            "marker": {
             "colorbar": {
              "outlinewidth": 0,
              "ticks": ""
             }
            },
            "type": "scattergl"
           }
          ],
          "scattermap": [
           {
            "marker": {
             "colorbar": {
              "outlinewidth": 0,
              "ticks": ""
             }
            },
            "type": "scattermap"
           }
          ],
          "scattermapbox": [
           {
            "marker": {
             "colorbar": {
              "outlinewidth": 0,
              "ticks": ""
             }
            },
            "type": "scattermapbox"
           }
          ],
          "scatterpolar": [
           {
            "marker": {
             "colorbar": {
              "outlinewidth": 0,
              "ticks": ""
             }
            },
            "type": "scatterpolar"
           }
          ],
          "scatterpolargl": [
           {
            "marker": {
             "colorbar": {
              "outlinewidth": 0,
              "ticks": ""
             }
            },
            "type": "scatterpolargl"
           }
          ],
          "scatterternary": [
           {
            "marker": {
             "colorbar": {
              "outlinewidth": 0,
              "ticks": ""
             }
            },
            "type": "scatterternary"
           }
          ],
          "surface": [
           {
            "colorbar": {
             "outlinewidth": 0,
             "ticks": ""
            },
            "colorscale": [
             [
              0,
              "#0d0887"
             ],
             [
              0.1111111111111111,
              "#46039f"
             ],
             [
              0.2222222222222222,
              "#7201a8"
             ],
             [
              0.3333333333333333,
              "#9c179e"
             ],
             [
              0.4444444444444444,
              "#bd3786"
             ],
             [
              0.5555555555555556,
              "#d8576b"
             ],
             [
              0.6666666666666666,
              "#ed7953"
             ],
             [
              0.7777777777777778,
              "#fb9f3a"
             ],
             [
              0.8888888888888888,
              "#fdca26"
             ],
             [
              1,
              "#f0f921"
             ]
            ],
            "type": "surface"
           }
          ],
          "table": [
           {
            "cells": {
             "fill": {
              "color": "#EBF0F8"
             },
             "line": {
              "color": "white"
             }
            },
            "header": {
             "fill": {
              "color": "#C8D4E3"
             },
             "line": {
              "color": "white"
             }
            },
            "type": "table"
           }
          ]
         },
         "layout": {
          "annotationdefaults": {
           "arrowcolor": "#2a3f5f",
           "arrowhead": 0,
           "arrowwidth": 1
          },
          "autotypenumbers": "strict",
          "coloraxis": {
           "colorbar": {
            "outlinewidth": 0,
            "ticks": ""
           }
          },
          "colorscale": {
           "diverging": [
            [
             0,
             "#8e0152"
            ],
            [
             0.1,
             "#c51b7d"
            ],
            [
             0.2,
             "#de77ae"
            ],
            [
             0.3,
             "#f1b6da"
            ],
            [
             0.4,
             "#fde0ef"
            ],
            [
             0.5,
             "#f7f7f7"
            ],
            [
             0.6,
             "#e6f5d0"
            ],
            [
             0.7,
             "#b8e186"
            ],
            [
             0.8,
             "#7fbc41"
            ],
            [
             0.9,
             "#4d9221"
            ],
            [
             1,
             "#276419"
            ]
           ],
           "sequential": [
            [
             0,
             "#0d0887"
            ],
            [
             0.1111111111111111,
             "#46039f"
            ],
            [
             0.2222222222222222,
             "#7201a8"
            ],
            [
             0.3333333333333333,
             "#9c179e"
            ],
            [
             0.4444444444444444,
             "#bd3786"
            ],
            [
             0.5555555555555556,
             "#d8576b"
            ],
            [
             0.6666666666666666,
             "#ed7953"
            ],
            [
             0.7777777777777778,
             "#fb9f3a"
            ],
            [
             0.8888888888888888,
             "#fdca26"
            ],
            [
             1,
             "#f0f921"
            ]
           ],
           "sequentialminus": [
            [
             0,
             "#0d0887"
            ],
            [
             0.1111111111111111,
             "#46039f"
            ],
            [
             0.2222222222222222,
             "#7201a8"
            ],
            [
             0.3333333333333333,
             "#9c179e"
            ],
            [
             0.4444444444444444,
             "#bd3786"
            ],
            [
             0.5555555555555556,
             "#d8576b"
            ],
            [
             0.6666666666666666,
             "#ed7953"
            ],
            [
             0.7777777777777778,
             "#fb9f3a"
            ],
            [
             0.8888888888888888,
             "#fdca26"
            ],
            [
             1,
             "#f0f921"
            ]
           ]
          },
          "colorway": [
           "#636efa",
           "#EF553B",
           "#00cc96",
           "#ab63fa",
           "#FFA15A",
           "#19d3f3",
           "#FF6692",
           "#B6E880",
           "#FF97FF",
           "#FECB52"
          ],
          "font": {
           "color": "#2a3f5f"
          },
          "geo": {
           "bgcolor": "white",
           "lakecolor": "white",
           "landcolor": "#E5ECF6",
           "showlakes": true,
           "showland": true,
           "subunitcolor": "white"
          },
          "hoverlabel": {
           "align": "left"
          },
          "hovermode": "closest",
          "mapbox": {
           "style": "light"
          },
          "paper_bgcolor": "white",
          "plot_bgcolor": "#E5ECF6",
          "polar": {
           "angularaxis": {
            "gridcolor": "white",
            "linecolor": "white",
            "ticks": ""
           },
           "bgcolor": "#E5ECF6",
           "radialaxis": {
            "gridcolor": "white",
            "linecolor": "white",
            "ticks": ""
           }
          },
          "scene": {
           "xaxis": {
            "backgroundcolor": "#E5ECF6",
            "gridcolor": "white",
            "gridwidth": 2,
            "linecolor": "white",
            "showbackground": true,
            "ticks": "",
            "zerolinecolor": "white"
           },
           "yaxis": {
            "backgroundcolor": "#E5ECF6",
            "gridcolor": "white",
            "gridwidth": 2,
            "linecolor": "white",
            "showbackground": true,
            "ticks": "",
            "zerolinecolor": "white"
           },
           "zaxis": {
            "backgroundcolor": "#E5ECF6",
            "gridcolor": "white",
            "gridwidth": 2,
            "linecolor": "white",
            "showbackground": true,
            "ticks": "",
            "zerolinecolor": "white"
           }
          },
          "shapedefaults": {
           "line": {
            "color": "#2a3f5f"
           }
          },
          "ternary": {
           "aaxis": {
            "gridcolor": "white",
            "linecolor": "white",
            "ticks": ""
           },
           "baxis": {
            "gridcolor": "white",
            "linecolor": "white",
            "ticks": ""
           },
           "bgcolor": "#E5ECF6",
           "caxis": {
            "gridcolor": "white",
            "linecolor": "white",
            "ticks": ""
           }
          },
          "title": {
           "x": 0.05
          },
          "xaxis": {
           "automargin": true,
           "gridcolor": "white",
           "linecolor": "white",
           "ticks": "",
           "title": {
            "standoff": 15
           },
           "zerolinecolor": "white",
           "zerolinewidth": 2
          },
          "yaxis": {
           "automargin": true,
           "gridcolor": "white",
           "linecolor": "white",
           "ticks": "",
           "title": {
            "standoff": 15
           },
           "zerolinecolor": "white",
           "zerolinewidth": 2
          }
         }
        },
        "title": {
         "text": "DDPG on two-dimensional-world-v0"
        },
        "xaxis": {
         "title": {
          "text": "Episodes"
         }
        },
        "yaxis": {
         "title": {
          "text": "Returns"
         }
        }
       }
      },
      "image/png": "[encoded data removed]"
     },
     "metadata": {},
     "output_type": "display_data"
    }
   ],
   "source": [
    "import plotly.graph_objects as go\n",
    "import pandas as pd\n",
    "df = pd.read_csv('DDPG_two-dimensional-world-v0_mv_returns_data.csv')  # 从 CSV 文件中读取数据\n",
    "fig = go.Figure()\n",
    "fig.add_trace(go.Scatter(x=df['Episodes'], y=df['Returns'], mode='lines', name='Returns'))\n",
    "fig.update_layout(\n",
    "    title='DDPG on two-dimensional-world-v0',\n",
    "    xaxis_title='Episodes',\n",
    "    yaxis_title='Returns',\n",
    "    showlegend=True\n",
    ")\n",
    "fig.show()"
   ]
  },
  {
   "cell_type": "markdown",
   "id": "3f36014b6aa0951e",
   "metadata": {
    "collapsed": false,
    "jupyter": {
     "outputs_hidden": false
    }
   },
   "source": [
    "1. 从代码实践中可以知道 **HER** 只是一个经验回放的修改方式，并没有对策略网络和价值网络的架构做出任何修改（在后续的部分 GoRL 研究中，也有对网络进行重构的）\n",
    "2. **HER** 通过整条轨迹的信息来改善每个转移片段为智能体策略的学习带来价值"
   ]
  }
 ],
 "metadata": {
  "kernelspec": {
   "display_name": "Python 3 (ipykernel)",
   "language": "python",
   "name": "python3"
  },
  "language_info": {
   "codemirror_mode": {
    "name": "ipython",
    "version": 3
   },
   "file_extension": ".py",
   "mimetype": "text/x-python",
   "name": "python",
   "nbconvert_exporter": "python",
   "pygments_lexer": "ipython3",
   "version": "3.12.9"
  }
 },
 "nbformat": 4,
 "nbformat_minor": 5
}
