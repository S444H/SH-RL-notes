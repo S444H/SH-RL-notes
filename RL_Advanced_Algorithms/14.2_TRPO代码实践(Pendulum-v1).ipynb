{
 "cells": [
  {
   "cell_type": "markdown",
   "id": "ace71cd372b92798",
   "metadata": {
    "collapsed": false
   },
   "source": [
    "*本节在 **倒立摆（Pendulum）连续-动作** 交互环境下进行 **TRPO** 代码实践*"
   ]
  },
  {
   "cell_type": "markdown",
   "id": "a25b89b8955dd31c",
   "metadata": {
    "collapsed": false
   },
   "source": [
    "导入相关库："
   ]
  },
  {
   "cell_type": "code",
   "execution_count": 1,
   "id": "6bd2ba098afb45c4",
   "metadata": {
    "ExecuteTime": {
     "end_time": "2025-08-03T08:38:21.069244400Z",
     "start_time": "2025-08-03T08:38:18.204815200Z"
    },
    "collapsed": false
   },
   "outputs": [],
   "source": [
    "# 基本库\n",
    "import numpy as np\n",
    "import copy\n",
    "\n",
    "from utils.smoothing import moving_average\n",
    "from utils.advantage import compute_advantage\n",
    "from utils.training import train_on_policy_agent\n",
    "# 神经网络\n",
    "import torch\n",
    "import torch.nn.functional as F\n",
    "# Gymnasium 是一个用于开发和测试强化学习算法的工具库，为 OpenAI Gym 的更新版本（2021迁移开发）\n",
    "import gymnasium as gym"
   ]
  },
  {
   "cell_type": "markdown",
   "id": "85d0c19bf90f6147",
   "metadata": {
    "collapsed": false
   },
   "source": [
    "## 倒立摆环境（'Pendulum-v1'）"
   ]
  },
  {
   "cell_type": "markdown",
   "id": "bb3c8d0750103a7f",
   "metadata": {
    "collapsed": false
   },
   "source": [
    "### 价值网络（保持不变）:"
   ]
  },
  {
   "cell_type": "code",
   "execution_count": 2,
   "id": "a3802790fe323657",
   "metadata": {
    "collapsed": false
   },
   "outputs": [],
   "source": [
    "class ValueNet(torch.nn.Module):\n",
    "    def __init__(self, state_dim, hidden_dim):\n",
    "        super(ValueNet, self).__init__()\n",
    "        self.fc1 = torch.nn.Linear(state_dim, hidden_dim)\n",
    "        self.fc2 = torch.nn.Linear(hidden_dim, 1)\n",
    "\n",
    "    def forward(self, x):\n",
    "        x = F.relu(self.fc1(x))\n",
    "        return self.fc2(x)"
   ]
  },
  {
   "cell_type": "markdown",
   "id": "4712da0e199987c6",
   "metadata": {
    "collapsed": false
   },
   "source": [
    "### 策略网络：动作输出修改为高斯分布的均值和标准差"
   ]
  },
  {
   "cell_type": "code",
   "execution_count": 3,
   "id": "421f2d232a8a42",
   "metadata": {
    "collapsed": false
   },
   "outputs": [],
   "source": [
    "class PolicyNetContinuous(torch.nn.Module):\n",
    "    def __init__(self, state_dim, hidden_dim, action_dim):\n",
    "        super(PolicyNetContinuous, self).__init__()\n",
    "        self.fc1 = torch.nn.Linear(state_dim, hidden_dim)\n",
    "        self.fc_mu = torch.nn.Linear(hidden_dim, action_dim)\n",
    "        self.fc_std = torch.nn.Linear(hidden_dim, action_dim)\n",
    "\n",
    "    def forward(self, x):\n",
    "        x = F.relu(self.fc1(x))\n",
    "        mu = 2.0 * torch.tanh(self.fc_mu(x))\n",
    "        std = F.softplus(self.fc_std(x))\n",
    "        return mu, std  # 高斯分布的均值和标准差，每一个状态对应一个高斯分布（多维）的均值和标准差"
   ]
  },
  {
   "cell_type": "markdown",
   "id": "9cdd3fd9a47d6d6d",
   "metadata": {
    "collapsed": false
   },
   "source": [
    "### 定义 TRPO 算法（连续动作）："
   ]
  },
  {
   "cell_type": "code",
   "execution_count": 4,
   "id": "d73c0496898e5c51",
   "metadata": {
    "collapsed": false
   },
   "outputs": [],
   "source": [
    "class TRPOContinuous:\n",
    "    \"\"\" 处理连续动作的TRPO算法 \"\"\"\n",
    "    def __init__(self, hidden_dim, state_space, action_space, lmbda, kl_constraint, alpha, critic_lr, gamma, device):\n",
    "        \n",
    "        state_dim = state_space.shape[0]\n",
    "        #--------------------\n",
    "        action_dim = action_space.shape[0]  # 获取动作向量的维度\n",
    "        #--------------------\n",
    "        self.actor = PolicyNetContinuous(state_dim, hidden_dim, action_dim).to(device)\n",
    "        self.critic = ValueNet(state_dim, hidden_dim).to(device)\n",
    "        # 策略网络参数不需要优化器去更新\n",
    "        self.critic_optimizer = torch.optim.Adam(self.critic.parameters(), lr=critic_lr)\n",
    "        \n",
    "        self.gamma = gamma\n",
    "        self.lmbda = lmbda                  # GAE参数\n",
    "        self.kl_constraint = kl_constraint  # KL距离最大限制\n",
    "        self.alpha = alpha                  # 线性搜索参数\n",
    "        self.device = device\n",
    "\n",
    "    def take_action(self, state):\n",
    "        state = torch.tensor(np.array([state]), dtype=torch.float).to(self.device)\n",
    "        #---------------------\n",
    "        mu, std = self.actor(state)\n",
    "        action_dist = torch.distributions.Normal(mu, std)\n",
    "        #---------------------\n",
    "        action = action_dist.sample()\n",
    "        return [action.item()]  # 多维动作\n",
    "\n",
    "    def hessian_matrix_vector_product(self, states, old_action_dists, vector, damping=0.1):  # 计算Hansen矩阵和一个向量的乘积\n",
    "        #------------------------------------\n",
    "        mu, std = self.actor(states)\n",
    "        new_action_dists = torch.distributions.Normal(mu, std)\n",
    "        #------------------------------------\n",
    "        \n",
    "        kl = torch.mean(torch.distributions.kl.kl_divergence(old_action_dists, new_action_dists))  # 计算平均KL距离\n",
    "        kl_grad = torch.autograd.grad(kl, self.actor.parameters(), create_graph=True)\n",
    "        kl_grad_vector = torch.cat([grad.view(-1) for grad in kl_grad])\n",
    "        # KL距离的梯度先和向量进行点积运算\n",
    "        kl_grad_vector_product = torch.dot(kl_grad_vector, vector)\n",
    "        # 再求导，即得海森矩阵与向量的乘积（无需显式构造 Hessian）\n",
    "        grad2 = torch.autograd.grad(kl_grad_vector_product, self.actor.parameters())\n",
    "        grad2_vector = torch.cat([grad.view(-1) for grad in grad2])\n",
    "        \n",
    "        return grad2_vector + damping * vector  # 在连续策略（如高斯分布）中，KL 的 Hessian 容易退化，加 damping 防止共轭梯度法不稳定\n",
    "\n",
    "    def conjugate_gradient(self, grad, states, old_action_dists):  # 共轭梯度法求解方程\n",
    "        x = torch.zeros_like(grad)\n",
    "        r = grad.clone()\n",
    "        p = grad.clone()\n",
    "        rdotr = torch.dot(r, r)\n",
    "        for i in range(10):  # 共轭梯度主循环\n",
    "            Hp = self.hessian_matrix_vector_product(states, old_action_dists,p)\n",
    "            alpha = rdotr / torch.dot(p, Hp)\n",
    "            x += alpha * p\n",
    "            r -= alpha * Hp\n",
    "            new_rdotr = torch.dot(r, r)\n",
    "            if new_rdotr < 1e-10:\n",
    "                break\n",
    "            beta = new_rdotr / rdotr\n",
    "            p = r + beta * p\n",
    "            rdotr = new_rdotr\n",
    "        return x\n",
    "\n",
    "    def compute_surrogate_obj(self, states, actions, advantage, old_log_probs, actor):  # 计算策略目标函数\n",
    "        #--------------------------------------------\n",
    "        mu, std = actor(states)\n",
    "        action_dists = torch.distributions.Normal(mu, std)\n",
    "        log_probs = action_dists.log_prob(actions)\n",
    "        #---------------------------------------------\n",
    "        ratio = torch.exp(log_probs - old_log_probs)\n",
    "        return torch.mean(ratio * advantage)\n",
    "\n",
    "    def line_search(self, states, actions, advantage, old_log_probs, old_action_dists, max_vec):  # 线性搜索\n",
    "        \n",
    "        old_para = torch.nn.utils.convert_parameters.parameters_to_vector(self.actor.parameters())\n",
    "        old_obj = self.compute_surrogate_obj(states, actions, advantage, old_log_probs, self.actor)\n",
    "        \n",
    "        for i in range(15):  # 线性搜索主循环\n",
    "            coef = self.alpha**i\n",
    "            new_para = old_para + coef * max_vec\n",
    "            new_actor = copy.deepcopy(self.actor)  # 策略网络深层拷贝，防止后面的操作改变原始网络参数\n",
    "            torch.nn.utils.convert_parameters.vector_to_parameters(new_para, new_actor.parameters())\n",
    "            #------------------------------------\n",
    "            mu, std = self.actor(states)\n",
    "            new_action_dists = torch.distributions.Normal(mu, std)\n",
    "            #------------------------------------\n",
    "            kl_div = torch.mean(torch.distributions.kl.kl_divergence(old_action_dists, new_action_dists))\n",
    "            new_obj = self.compute_surrogate_obj(states, actions, advantage, old_log_probs, new_actor)\n",
    "            if new_obj > old_obj and kl_div < self.kl_constraint:\n",
    "                return new_para\n",
    "        return old_para\n",
    "\n",
    "    def policy_learn(self, states, actions, old_action_dists, old_log_probs, advantage):  # 更新策略网络\n",
    "        surrogate_obj = self.compute_surrogate_obj(states, actions, advantage, old_log_probs, self.actor)\n",
    "        grads = torch.autograd.grad(surrogate_obj, self.actor.parameters())\n",
    "        obj_grad = torch.cat([grad.view(-1) for grad in grads]).detach()\n",
    "        \n",
    "        descent_direction = self.conjugate_gradient(obj_grad, states, old_action_dists)  # 用共轭梯度法计算x = H^(-1)g\n",
    "        Hx = self.hessian_matrix_vector_product(states, old_action_dists, descent_direction)\n",
    "        max_coef = torch.sqrt(2 * self.kl_constraint / (torch.dot(descent_direction, Hx) + 1e-8))  # 理论最大步长\n",
    "        new_para = self.line_search(states, actions, advantage, old_log_probs, old_action_dists,\n",
    "                                    descent_direction * max_coef)  # 线性搜索\n",
    "        torch.nn.utils.convert_parameters.vector_to_parameters(new_para, self.actor.parameters())  # 用线性搜索后的参数更新策略\n",
    "\n",
    "    def update(self, transition_dict):\n",
    "        states_np = np.array(transition_dict['states'])  # 转换成统一的大 np.ndarray，PyTorch更高效处理\n",
    "        states = torch.tensor(states_np, dtype=torch.float).to(self.device)\n",
    "        actions = torch.tensor(transition_dict['actions']).view(-1, 1).to(self.device)\n",
    "        rewards = torch.tensor(transition_dict['rewards'], dtype=torch.float).view(-1, 1).to(self.device)\n",
    "        next_states_np = np.array(transition_dict['next_states'])  # 转换成统一的大 np.ndarray，PyTorch更高效处理\n",
    "        next_states = torch.tensor(next_states_np, dtype=torch.float).to(self.device)\n",
    "        dones = torch.tensor(transition_dict['dones'], dtype=torch.float).view(-1, 1).to(self.device)\n",
    "        \n",
    "        # rewards = (rewards + 16.0) / 16.0  # 标准归一化（线性映射到 [0, 1]）\n",
    "        \n",
    "        td_target = rewards + self.gamma * self.critic(next_states) * (1 - dones)  # 时序差分目标\n",
    "        td_delta = td_target - self.critic(states)                                 # 时序差分误差\n",
    "        \n",
    "        advantage = compute_advantage(self.gamma, self.lmbda, td_delta.cpu()).to(self.device)\n",
    "        \n",
    "        #--------------------------------------\n",
    "        mu, std = self.actor(states)\n",
    "        old_action_dists = torch.distributions.Normal(mu.detach(), std.detach())\n",
    "        old_log_probs = old_action_dists.log_prob(actions)\n",
    "        #--------------------------------------\n",
    "        \n",
    "        # 更新价值函数\n",
    "        critic_loss = torch.mean(F.mse_loss(self.critic(states), td_target.detach()))\n",
    "        self.critic_optimizer.zero_grad()\n",
    "        critic_loss.backward()\n",
    "        self.critic_optimizer.step()  # 更新价值函数\n",
    "        \n",
    "        # 更新策略函数\n",
    "        self.policy_learn(states, actions, old_action_dists, old_log_probs, advantage)"
   ]
  },
  {
   "cell_type": "markdown",
   "id": "bee03095991da6fa",
   "metadata": {
    "collapsed": false
   },
   "source": [
    "环境设置（'Pendulum-v1'）："
   ]
  },
  {
   "cell_type": "code",
   "execution_count": 5,
   "id": "23d39d0b6f589828",
   "metadata": {
    "collapsed": false
   },
   "outputs": [
    {
     "name": "stdout",
     "output_type": "stream",
     "text": [
      "Environment spec: EnvSpec(id='Pendulum-v1', entry_point='gymnasium.envs.classic_control.pendulum:PendulumEnv', reward_threshold=None, nondeterministic=False, max_episode_steps=200, order_enforce=True, disable_env_checker=False, kwargs={}, namespace=None, name='Pendulum', version=1, additional_wrappers=(), vector_entry_point=None)\n"
     ]
    }
   ],
   "source": [
    "np.random.seed(0)    # 设置 NumPy 的随机种子\n",
    "torch.manual_seed(0) # 设置 PyTorch CPU 随机种子\n",
    "torch.cuda.manual_seed_all(0) # 设置 PyTorch GPU 随机种子, 由于GPU并行性, 只能极大减小偏差\n",
    "\n",
    "env_name = 'Pendulum-v1'\n",
    "env = gym.make(env_name)\n",
    "env.reset(seed=0)   # 环境通常依赖于其他随机数生成器来初始化状态、进行探索(推荐位于以上随机之后)\n",
    "print(\"Environment spec:\", env.spec)"
   ]
  },
  {
   "cell_type": "markdown",
   "id": "ff92caa81caa91d5",
   "metadata": {
    "collapsed": false
   },
   "source": [
    "超参数设置："
   ]
  },
  {
   "cell_type": "code",
   "execution_count": 6,
   "id": "bc9eba9fd8ff38b0",
   "metadata": {
    "collapsed": false
   },
   "outputs": [],
   "source": [
    "hidden_dim = 128\n",
    "lmbda = 0.9\n",
    "# 搜索步伐(方向+距离)控制\n",
    "kl_constraint = 0.00005  # 限制每次策略更新的“跳跃程度”\n",
    "alpha = 0.5  # \"步长\"衰减,越小越\"精细\"\n",
    "# 价值网络超参数不变\n",
    "critic_lr = 1e-2\n",
    "gamma = 0.9\n",
    "device = torch.device(\"cuda\") if torch.cuda.is_available() else torch.device( \"cpu\")\n",
    "agent = TRPOContinuous(hidden_dim, env.observation_space, env.action_space,\n",
    "                       lmbda, kl_constraint, alpha, critic_lr, gamma, device)\n",
    "\n",
    "num_episodes = 2000"
   ]
  },
  {
   "cell_type": "markdown",
   "id": "305994c6401b184e",
   "metadata": {
    "collapsed": false
   },
   "source": [
    "测试与训练:"
   ]
  },
  {
   "cell_type": "code",
   "execution_count": 7,
   "id": "996da0786337338c",
   "metadata": {
    "collapsed": false
   },
   "outputs": [
    {
     "name": "stderr",
     "output_type": "stream",
     "text": [
      "Iteration 0: 100%|██████████| 200/200 [01:05<00:00,  3.06it/s, episode=200, return=-1199.464]\n",
      "Iteration 1: 100%|██████████| 200/200 [01:05<00:00,  3.05it/s, episode=400, return=-1098.029]\n",
      "Iteration 2: 100%|██████████| 200/200 [01:07<00:00,  2.98it/s, episode=600, return=-988.336] \n",
      "Iteration 3: 100%|██████████| 200/200 [01:05<00:00,  3.03it/s, episode=800, return=-860.552]\n",
      "Iteration 4: 100%|██████████| 200/200 [01:07<00:00,  2.97it/s, episode=1000, return=-869.255]\n",
      "Iteration 5: 100%|██████████| 200/200 [01:06<00:00,  2.99it/s, episode=1200, return=-736.751]\n",
      "Iteration 6: 100%|██████████| 200/200 [01:06<00:00,  2.99it/s, episode=1400, return=-622.947]\n",
      "Iteration 7: 100%|██████████| 200/200 [01:07<00:00,  2.98it/s, episode=1600, return=-735.665]\n",
      "Iteration 8: 100%|██████████| 200/200 [01:06<00:00,  2.99it/s, episode=1800, return=-896.092] \n",
      "Iteration 9: 100%|██████████| 200/200 [01:06<00:00,  2.99it/s, episode=2000, return=-978.700]\n"
     ]
    }
   ],
   "source": [
    "return_list = train_on_policy_agent(env, agent, num_episodes)"
   ]
  },
  {
   "cell_type": "markdown",
   "id": "8e0f73e9d54e7d9b",
   "metadata": {
    "collapsed": false
   },
   "source": [
    "绘图："
   ]
  },
  {
   "cell_type": "code",
   "execution_count": 8,
   "id": "abfe5b2c1c468adf",
   "metadata": {
    "collapsed": false
   },
   "outputs": [],
   "source": [
    "import pandas as pd\n",
    "episodes_list = list(range(len(return_list)))\n",
    "mv_return = moving_average(return_list, 9)\n",
    "# 创建 DataFrame\n",
    "df1 = pd.DataFrame({'Episodes': episodes_list, 'Returns': return_list})\n",
    "df2 = pd.DataFrame({'Episodes': episodes_list, 'Returns': mv_return})\n",
    "# 保存为 CSV 文件\n",
    "df1.to_csv('TRPO_Pendulum-v1_returns_data.csv', index=False)\n",
    "df2.to_csv('TRPO_Pendulum-v1_mv_returns_data.csv', index=False)"
   ]
  },
  {
   "cell_type": "code",
   "execution_count": 9,
   "id": "3412e4b95cce469a",
   "metadata": {
    "collapsed": false
   },
   "outputs": [
    {
     "data": {
      "application/vnd.plotly.v1+json": {
       "config": {
        "plotlyServerURL": "https://plot.ly"
       },
       "data": [
        {
         "mode": "lines",
         "name": "Returns",
         "type": "scatter",
         "x": {
          "bdata": "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",
          "dtype": "i2"
         },
         "y": {
          "bdata": "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",
          "dtype": "f8"
         }
        }
       ],
       "layout": {
        "showlegend": true,
        "template": {
         "data": {
          "bar": [
           {
            "error_x": {
             "color": "#2a3f5f"
            },
            "error_y": {
             "color": "#2a3f5f"
            },
            "marker": {
             "line": {
              "color": "#E5ECF6",
              "width": 0.5
             },
             "pattern": {
              "fillmode": "overlay",
              "size": 10,
              "solidity": 0.2
             }
            },
            "type": "bar"
           }
          ],
          "barpolar": [
           {
            "marker": {
             "line": {
              "color": "#E5ECF6",
              "width": 0.5
             },
             "pattern": {
              "fillmode": "overlay",
              "size": 10,
              "solidity": 0.2
             }
            },
            "type": "barpolar"
           }
          ],
          "carpet": [
           {
            "aaxis": {
             "endlinecolor": "#2a3f5f",
             "gridcolor": "white",
             "linecolor": "white",
             "minorgridcolor": "white",
             "startlinecolor": "#2a3f5f"
            },
            "baxis": {
             "endlinecolor": "#2a3f5f",
             "gridcolor": "white",
             "linecolor": "white",
             "minorgridcolor": "white",
             "startlinecolor": "#2a3f5f"
            },
            "type": "carpet"
           }
          ],
          "choropleth": [
           {
            "colorbar": {
             "outlinewidth": 0,
             "ticks": ""
            },
            "type": "choropleth"
           }
          ],
          "contour": [
           {
            "colorbar": {
             "outlinewidth": 0,
             "ticks": ""
            },
            "colorscale": [
             [
              0,
              "#0d0887"
             ],
             [
              0.1111111111111111,
              "#46039f"
             ],
             [
              0.2222222222222222,
              "#7201a8"
             ],
             [
              0.3333333333333333,
              "#9c179e"
             ],
             [
              0.4444444444444444,
              "#bd3786"
             ],
             [
              0.5555555555555556,
              "#d8576b"
             ],
             [
              0.6666666666666666,
              "#ed7953"
             ],
             [
              0.7777777777777778,
              "#fb9f3a"
             ],
             [
              0.8888888888888888,
              "#fdca26"
             ],
             [
              1,
              "#f0f921"
             ]
            ],
            "type": "contour"
           }
          ],
          "contourcarpet": [
           {
            "colorbar": {
             "outlinewidth": 0,
             "ticks": ""
            },
            "type": "contourcarpet"
           }
          ],
          "heatmap": [
           {
            "colorbar": {
             "outlinewidth": 0,
             "ticks": ""
            },
            "colorscale": [
             [
              0,
              "#0d0887"
             ],
             [
              0.1111111111111111,
              "#46039f"
             ],
             [
              0.2222222222222222,
              "#7201a8"
             ],
             [
              0.3333333333333333,
              "#9c179e"
             ],
             [
              0.4444444444444444,
              "#bd3786"
             ],
             [
              0.5555555555555556,
              "#d8576b"
             ],
             [
              0.6666666666666666,
              "#ed7953"
             ],
             [
              0.7777777777777778,
              "#fb9f3a"
             ],
             [
              0.8888888888888888,
              "#fdca26"
             ],
             [
              1,
              "#f0f921"
             ]
            ],
            "type": "heatmap"
           }
          ],
          "histogram": [
           {
            "marker": {
             "pattern": {
              "fillmode": "overlay",
              "size": 10,
              "solidity": 0.2
             }
            },
            "type": "histogram"
           }
          ],
          "histogram2d": [
           {
            "colorbar": {
             "outlinewidth": 0,
             "ticks": ""
            },
            "colorscale": [
             [
              0,
              "#0d0887"
             ],
             [
              0.1111111111111111,
              "#46039f"
             ],
             [
              0.2222222222222222,
              "#7201a8"
             ],
             [
              0.3333333333333333,
              "#9c179e"
             ],
             [
              0.4444444444444444,
              "#bd3786"
             ],
             [
              0.5555555555555556,
              "#d8576b"
             ],
             [
              0.6666666666666666,
              "#ed7953"
             ],
             [
              0.7777777777777778,
              "#fb9f3a"
             ],
             [
              0.8888888888888888,
              "#fdca26"
             ],
             [
              1,
              "#f0f921"
             ]
            ],
            "type": "histogram2d"
           }
          ],
          "histogram2dcontour": [
           {
            "colorbar": {
             "outlinewidth": 0,
             "ticks": ""
            },
            "colorscale": [
             [
              0,
              "#0d0887"
             ],
             [
              0.1111111111111111,
              "#46039f"
             ],
             [
              0.2222222222222222,
              "#7201a8"
             ],
             [
              0.3333333333333333,
              "#9c179e"
             ],
             [
              0.4444444444444444,
              "#bd3786"
             ],
             [
              0.5555555555555556,
              "#d8576b"
             ],
             [
              0.6666666666666666,
              "#ed7953"
             ],
             [
              0.7777777777777778,
              "#fb9f3a"
             ],
             [
              0.8888888888888888,
              "#fdca26"
             ],
             [
              1,
              "#f0f921"
             ]
            ],
            "type": "histogram2dcontour"
           }
          ],
          "mesh3d": [
           {
            "colorbar": {
             "outlinewidth": 0,
             "ticks": ""
            },
            "type": "mesh3d"
           }
          ],
          "parcoords": [
           {
            "line": {
             "colorbar": {
              "outlinewidth": 0,
              "ticks": ""
             }
            },
            "type": "parcoords"
           }
          ],
          "pie": [
           {
            "automargin": true,
            "type": "pie"
           }
          ],
          "scatter": [
           {
            "fillpattern": {
             "fillmode": "overlay",
             "size": 10,
             "solidity": 0.2
            },
            "type": "scatter"
           }
          ],
          "scatter3d": [
           {
            "line": {
             "colorbar": {
              "outlinewidth": 0,
              "ticks": ""
             }
            },
            "marker": {
             "colorbar": {
              "outlinewidth": 0,
              "ticks": ""
             }
            },
            "type": "scatter3d"
           }
          ],
          "scattercarpet": [
           {
            "marker": {
             "colorbar": {
              "outlinewidth": 0,
              "ticks": ""
             }
            },
            "type": "scattercarpet"
           }
          ],
          "scattergeo": [
           {
            "marker": {
             "colorbar": {
              "outlinewidth": 0,
              "ticks": ""
             }
            },
            "type": "scattergeo"
           }
          ],
          "scattergl": [
           {
            "marker": {
             "colorbar": {
              "outlinewidth": 0,
              "ticks": ""
             }
            },
            "type": "scattergl"
           }
          ],
          "scattermap": [
           {
            "marker": {
             "colorbar": {
              "outlinewidth": 0,
              "ticks": ""
             }
            },
            "type": "scattermap"
           }
          ],
          "scattermapbox": [
           {
            "marker": {
             "colorbar": {
              "outlinewidth": 0,
              "ticks": ""
             }
            },
            "type": "scattermapbox"
           }
          ],
          "scatterpolar": [
           {
            "marker": {
             "colorbar": {
              "outlinewidth": 0,
              "ticks": ""
             }
            },
            "type": "scatterpolar"
           }
          ],
          "scatterpolargl": [
           {
            "marker": {
             "colorbar": {
              "outlinewidth": 0,
              "ticks": ""
             }
            },
            "type": "scatterpolargl"
           }
          ],
          "scatterternary": [
           {
            "marker": {
             "colorbar": {
              "outlinewidth": 0,
              "ticks": ""
             }
            },
            "type": "scatterternary"
           }
          ],
          "surface": [
           {
            "colorbar": {
             "outlinewidth": 0,
             "ticks": ""
            },
            "colorscale": [
             [
              0,
              "#0d0887"
             ],
             [
              0.1111111111111111,
              "#46039f"
             ],
             [
              0.2222222222222222,
              "#7201a8"
             ],
             [
              0.3333333333333333,
              "#9c179e"
             ],
             [
              0.4444444444444444,
              "#bd3786"
             ],
             [
              0.5555555555555556,
              "#d8576b"
             ],
             [
              0.6666666666666666,
              "#ed7953"
             ],
             [
              0.7777777777777778,
              "#fb9f3a"
             ],
             [
              0.8888888888888888,
              "#fdca26"
             ],
             [
              1,
              "#f0f921"
             ]
            ],
            "type": "surface"
           }
          ],
          "table": [
           {
            "cells": {
             "fill": {
              "color": "#EBF0F8"
             },
             "line": {
              "color": "white"
             }
            },
            "header": {
             "fill": {
              "color": "#C8D4E3"
             },
             "line": {
              "color": "white"
             }
            },
            "type": "table"
           }
          ]
         },
         "layout": {
          "annotationdefaults": {
           "arrowcolor": "#2a3f5f",
           "arrowhead": 0,
           "arrowwidth": 1
          },
          "autotypenumbers": "strict",
          "coloraxis": {
           "colorbar": {
            "outlinewidth": 0,
            "ticks": ""
           }
          },
          "colorscale": {
           "diverging": [
            [
             0,
             "#8e0152"
            ],
            [
             0.1,
             "#c51b7d"
            ],
            [
             0.2,
             "#de77ae"
            ],
            [
             0.3,
             "#f1b6da"
            ],
            [
             0.4,
             "#fde0ef"
            ],
            [
             0.5,
             "#f7f7f7"
            ],
            [
             0.6,
             "#e6f5d0"
            ],
            [
             0.7,
             "#b8e186"
            ],
            [
             0.8,
             "#7fbc41"
            ],
            [
             0.9,
             "#4d9221"
            ],
            [
             1,
             "#276419"
            ]
           ],
           "sequential": [
            [
             0,
             "#0d0887"
            ],
            [
             0.1111111111111111,
             "#46039f"
            ],
            [
             0.2222222222222222,
             "#7201a8"
            ],
            [
             0.3333333333333333,
             "#9c179e"
            ],
            [
             0.4444444444444444,
             "#bd3786"
            ],
            [
             0.5555555555555556,
             "#d8576b"
            ],
            [
             0.6666666666666666,
             "#ed7953"
            ],
            [
             0.7777777777777778,
             "#fb9f3a"
            ],
            [
             0.8888888888888888,
             "#fdca26"
            ],
            [
             1,
             "#f0f921"
            ]
           ],
           "sequentialminus": [
            [
             0,
             "#0d0887"
            ],
            [
             0.1111111111111111,
             "#46039f"
            ],
            [
             0.2222222222222222,
             "#7201a8"
            ],
            [
             0.3333333333333333,
             "#9c179e"
            ],
            [
             0.4444444444444444,
             "#bd3786"
            ],
            [
             0.5555555555555556,
             "#d8576b"
            ],
            [
             0.6666666666666666,
             "#ed7953"
            ],
            [
             0.7777777777777778,
             "#fb9f3a"
            ],
            [
             0.8888888888888888,
             "#fdca26"
            ],
            [
             1,
             "#f0f921"
            ]
           ]
          },
          "colorway": [
           "#636efa",
           "#EF553B",
           "#00cc96",
           "#ab63fa",
           "#FFA15A",
           "#19d3f3",
           "#FF6692",
           "#B6E880",
           "#FF97FF",
           "#FECB52"
          ],
          "font": {
           "color": "#2a3f5f"
          },
          "geo": {
           "bgcolor": "white",
           "lakecolor": "white",
           "landcolor": "#E5ECF6",
           "showlakes": true,
           "showland": true,
           "subunitcolor": "white"
          },
          "hoverlabel": {
           "align": "left"
          },
          "hovermode": "closest",
          "mapbox": {
           "style": "light"
          },
          "paper_bgcolor": "white",
          "plot_bgcolor": "#E5ECF6",
          "polar": {
           "angularaxis": {
            "gridcolor": "white",
            "linecolor": "white",
            "ticks": ""
           },
           "bgcolor": "#E5ECF6",
           "radialaxis": {
            "gridcolor": "white",
            "linecolor": "white",
            "ticks": ""
           }
          },
          "scene": {
           "xaxis": {
            "backgroundcolor": "#E5ECF6",
            "gridcolor": "white",
            "gridwidth": 2,
            "linecolor": "white",
            "showbackground": true,
            "ticks": "",
            "zerolinecolor": "white"
           },
           "yaxis": {
            "backgroundcolor": "#E5ECF6",
            "gridcolor": "white",
            "gridwidth": 2,
            "linecolor": "white",
            "showbackground": true,
            "ticks": "",
            "zerolinecolor": "white"
           },
           "zaxis": {
            "backgroundcolor": "#E5ECF6",
            "gridcolor": "white",
            "gridwidth": 2,
            "linecolor": "white",
            "showbackground": true,
            "ticks": "",
            "zerolinecolor": "white"
           }
          },
          "shapedefaults": {
           "line": {
            "color": "#2a3f5f"
           }
          },
          "ternary": {
           "aaxis": {
            "gridcolor": "white",
            "linecolor": "white",
            "ticks": ""
           },
           "baxis": {
            "gridcolor": "white",
            "linecolor": "white",
            "ticks": ""
           },
           "bgcolor": "#E5ECF6",
           "caxis": {
            "gridcolor": "white",
            "linecolor": "white",
            "ticks": ""
           }
          },
          "title": {
           "x": 0.05
          },
          "xaxis": {
           "automargin": true,
           "gridcolor": "white",
           "linecolor": "white",
           "ticks": "",
           "title": {
            "standoff": 15
           },
           "zerolinecolor": "white",
           "zerolinewidth": 2
          },
          "yaxis": {
           "automargin": true,
           "gridcolor": "white",
           "linecolor": "white",
           "ticks": "",
           "title": {
            "standoff": 15
           },
           "zerolinecolor": "white",
           "zerolinewidth": 2
          }
         }
        },
        "title": {
         "text": "TRPO on Pendulum-v1"
        },
        "xaxis": {
         "title": {
          "text": "Episodes"
         }
        },
        "yaxis": {
         "title": {
          "text": "Returns"
         }
        }
       }
      },
      "image/png": "[encoded data removed]"
     },
     "metadata": {},
     "output_type": "display_data"
    }
   ],
   "source": [
    "import plotly.graph_objects as go\n",
    "import pandas as pd\n",
    "df = pd.read_csv('TRPO_Pendulum-v1_returns_data.csv')  # 从 CSV 文件中读取数据\n",
    "fig = go.Figure()\n",
    "fig.add_trace(go.Scatter(x=df['Episodes'], y=df['Returns'], mode='lines', name='Returns'))\n",
    "fig.update_layout(\n",
    "    title='TRPO on Pendulum-v1',\n",
    "    xaxis_title='Episodes',\n",
    "    yaxis_title='Returns',\n",
    "    showlegend=True\n",
    ")\n",
    "fig.show()"
   ]
  },
  {
   "cell_type": "code",
   "execution_count": 10,
   "id": "a7dd9ef009a6ca40",
   "metadata": {
    "collapsed": false
   },
   "outputs": [
    {
     "data": {
      "application/vnd.plotly.v1+json": {
       "config": {
        "plotlyServerURL": "https://plot.ly"
       },
       "data": [
        {
         "mode": "lines",
         "name": "Returns",
         "type": "scatter",
         "x": {
          "bdata": "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",
          "dtype": "i2"
         },
         "y": {
          "bdata": "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",
          "dtype": "f8"
         }
        }
       ],
       "layout": {
        "showlegend": true,
        "template": {
         "data": {
          "bar": [
           {
            "error_x": {
             "color": "#2a3f5f"
            },
            "error_y": {
             "color": "#2a3f5f"
            },
            "marker": {
             "line": {
              "color": "#E5ECF6",
              "width": 0.5
             },
             "pattern": {
              "fillmode": "overlay",
              "size": 10,
              "solidity": 0.2
             }
            },
            "type": "bar"
           }
          ],
          "barpolar": [
           {
            "marker": {
             "line": {
              "color": "#E5ECF6",
              "width": 0.5
             },
             "pattern": {
              "fillmode": "overlay",
              "size": 10,
              "solidity": 0.2
             }
            },
            "type": "barpolar"
           }
          ],
          "carpet": [
           {
            "aaxis": {
             "endlinecolor": "#2a3f5f",
             "gridcolor": "white",
             "linecolor": "white",
             "minorgridcolor": "white",
             "startlinecolor": "#2a3f5f"
            },
            "baxis": {
             "endlinecolor": "#2a3f5f",
             "gridcolor": "white",
             "linecolor": "white",
             "minorgridcolor": "white",
             "startlinecolor": "#2a3f5f"
            },
            "type": "carpet"
           }
          ],
          "choropleth": [
           {
            "colorbar": {
             "outlinewidth": 0,
             "ticks": ""
            },
            "type": "choropleth"
           }
          ],
          "contour": [
           {
            "colorbar": {
             "outlinewidth": 0,
             "ticks": ""
            },
            "colorscale": [
             [
              0,
              "#0d0887"
             ],
             [
              0.1111111111111111,
              "#46039f"
             ],
             [
              0.2222222222222222,
              "#7201a8"
             ],
             [
              0.3333333333333333,
              "#9c179e"
             ],
             [
              0.4444444444444444,
              "#bd3786"
             ],
             [
              0.5555555555555556,
              "#d8576b"
             ],
             [
              0.6666666666666666,
              "#ed7953"
             ],
             [
              0.7777777777777778,
              "#fb9f3a"
             ],
             [
              0.8888888888888888,
              "#fdca26"
             ],
             [
              1,
              "#f0f921"
             ]
            ],
            "type": "contour"
           }
          ],
          "contourcarpet": [
           {
            "colorbar": {
             "outlinewidth": 0,
             "ticks": ""
            },
            "type": "contourcarpet"
           }
          ],
          "heatmap": [
           {
            "colorbar": {
             "outlinewidth": 0,
             "ticks": ""
            },
            "colorscale": [
             [
              0,
              "#0d0887"
             ],
             [
              0.1111111111111111,
              "#46039f"
             ],
             [
              0.2222222222222222,
              "#7201a8"
             ],
             [
              0.3333333333333333,
              "#9c179e"
             ],
             [
              0.4444444444444444,
              "#bd3786"
             ],
             [
              0.5555555555555556,
              "#d8576b"
             ],
             [
              0.6666666666666666,
              "#ed7953"
             ],
             [
              0.7777777777777778,
              "#fb9f3a"
             ],
             [
              0.8888888888888888,
              "#fdca26"
             ],
             [
              1,
              "#f0f921"
             ]
            ],
            "type": "heatmap"
           }
          ],
          "histogram": [
           {
            "marker": {
             "pattern": {
              "fillmode": "overlay",
              "size": 10,
              "solidity": 0.2
             }
            },
            "type": "histogram"
           }
          ],
          "histogram2d": [
           {
            "colorbar": {
             "outlinewidth": 0,
             "ticks": ""
            },
            "colorscale": [
             [
              0,
              "#0d0887"
             ],
             [
              0.1111111111111111,
              "#46039f"
             ],
             [
              0.2222222222222222,
              "#7201a8"
             ],
             [
              0.3333333333333333,
              "#9c179e"
             ],
             [
              0.4444444444444444,
              "#bd3786"
             ],
             [
              0.5555555555555556,
              "#d8576b"
             ],
             [
              0.6666666666666666,
              "#ed7953"
             ],
             [
              0.7777777777777778,
              "#fb9f3a"
             ],
             [
              0.8888888888888888,
              "#fdca26"
             ],
             [
              1,
              "#f0f921"
             ]
            ],
            "type": "histogram2d"
           }
          ],
          "histogram2dcontour": [
           {
            "colorbar": {
             "outlinewidth": 0,
             "ticks": ""
            },
            "colorscale": [
             [
              0,
              "#0d0887"
             ],
             [
              0.1111111111111111,
              "#46039f"
             ],
             [
              0.2222222222222222,
              "#7201a8"
             ],
             [
              0.3333333333333333,
              "#9c179e"
             ],
             [
              0.4444444444444444,
              "#bd3786"
             ],
             [
              0.5555555555555556,
              "#d8576b"
             ],
             [
              0.6666666666666666,
              "#ed7953"
             ],
             [
              0.7777777777777778,
              "#fb9f3a"
             ],
             [
              0.8888888888888888,
              "#fdca26"
             ],
             [
              1,
              "#f0f921"
             ]
            ],
            "type": "histogram2dcontour"
           }
          ],
          "mesh3d": [
           {
            "colorbar": {
             "outlinewidth": 0,
             "ticks": ""
            },
            "type": "mesh3d"
           }
          ],
          "parcoords": [
           {
            "line": {
             "colorbar": {
              "outlinewidth": 0,
              "ticks": ""
             }
            },
            "type": "parcoords"
           }
          ],
          "pie": [
           {
            "automargin": true,
            "type": "pie"
           }
          ],
          "scatter": [
           {
            "fillpattern": {
             "fillmode": "overlay",
             "size": 10,
             "solidity": 0.2
            },
            "type": "scatter"
           }
          ],
          "scatter3d": [
           {
            "line": {
             "colorbar": {
              "outlinewidth": 0,
              "ticks": ""
             }
            },
            "marker": {
             "colorbar": {
              "outlinewidth": 0,
              "ticks": ""
             }
            },
            "type": "scatter3d"
           }
          ],
          "scattercarpet": [
           {
            "marker": {
             "colorbar": {
              "outlinewidth": 0,
              "ticks": ""
             }
            },
            "type": "scattercarpet"
           }
          ],
          "scattergeo": [
           {
            "marker": {
             "colorbar": {
              "outlinewidth": 0,
              "ticks": ""
             }
            },
            "type": "scattergeo"
           }
          ],
          "scattergl": [
           {
            "marker": {
             "colorbar": {
              "outlinewidth": 0,
              "ticks": ""
             }
            },
            "type": "scattergl"
           }
          ],
          "scattermap": [
           {
            "marker": {
             "colorbar": {
              "outlinewidth": 0,
              "ticks": ""
             }
            },
            "type": "scattermap"
           }
          ],
          "scattermapbox": [
           {
            "marker": {
             "colorbar": {
              "outlinewidth": 0,
              "ticks": ""
             }
            },
            "type": "scattermapbox"
           }
          ],
          "scatterpolar": [
           {
            "marker": {
             "colorbar": {
              "outlinewidth": 0,
              "ticks": ""
             }
            },
            "type": "scatterpolar"
           }
          ],
          "scatterpolargl": [
           {
            "marker": {
             "colorbar": {
              "outlinewidth": 0,
              "ticks": ""
             }
            },
            "type": "scatterpolargl"
           }
          ],
          "scatterternary": [
           {
            "marker": {
             "colorbar": {
              "outlinewidth": 0,
              "ticks": ""
             }
            },
            "type": "scatterternary"
           }
          ],
          "surface": [
           {
            "colorbar": {
             "outlinewidth": 0,
             "ticks": ""
            },
            "colorscale": [
             [
              0,
              "#0d0887"
             ],
             [
              0.1111111111111111,
              "#46039f"
             ],
             [
              0.2222222222222222,
              "#7201a8"
             ],
             [
              0.3333333333333333,
              "#9c179e"
             ],
             [
              0.4444444444444444,
              "#bd3786"
             ],
             [
              0.5555555555555556,
              "#d8576b"
             ],
             [
              0.6666666666666666,
              "#ed7953"
             ],
             [
              0.7777777777777778,
              "#fb9f3a"
             ],
             [
              0.8888888888888888,
              "#fdca26"
             ],
             [
              1,
              "#f0f921"
             ]
            ],
            "type": "surface"
           }
          ],
          "table": [
           {
            "cells": {
             "fill": {
              "color": "#EBF0F8"
             },
             "line": {
              "color": "white"
             }
            },
            "header": {
             "fill": {
              "color": "#C8D4E3"
             },
             "line": {
              "color": "white"
             }
            },
            "type": "table"
           }
          ]
         },
         "layout": {
          "annotationdefaults": {
           "arrowcolor": "#2a3f5f",
           "arrowhead": 0,
           "arrowwidth": 1
          },
          "autotypenumbers": "strict",
          "coloraxis": {
           "colorbar": {
            "outlinewidth": 0,
            "ticks": ""
           }
          },
          "colorscale": {
           "diverging": [
            [
             0,
             "#8e0152"
            ],
            [
             0.1,
             "#c51b7d"
            ],
            [
             0.2,
             "#de77ae"
            ],
            [
             0.3,
             "#f1b6da"
            ],
            [
             0.4,
             "#fde0ef"
            ],
            [
             0.5,
             "#f7f7f7"
            ],
            [
             0.6,
             "#e6f5d0"
            ],
            [
             0.7,
             "#b8e186"
            ],
            [
             0.8,
             "#7fbc41"
            ],
            [
             0.9,
             "#4d9221"
            ],
            [
             1,
             "#276419"
            ]
           ],
           "sequential": [
            [
             0,
             "#0d0887"
            ],
            [
             0.1111111111111111,
             "#46039f"
            ],
            [
             0.2222222222222222,
             "#7201a8"
            ],
            [
             0.3333333333333333,
             "#9c179e"
            ],
            [
             0.4444444444444444,
             "#bd3786"
            ],
            [
             0.5555555555555556,
             "#d8576b"
            ],
            [
             0.6666666666666666,
             "#ed7953"
            ],
            [
             0.7777777777777778,
             "#fb9f3a"
            ],
            [
             0.8888888888888888,
             "#fdca26"
            ],
            [
             1,
             "#f0f921"
            ]
           ],
           "sequentialminus": [
            [
             0,
             "#0d0887"
            ],
            [
             0.1111111111111111,
             "#46039f"
            ],
            [
             0.2222222222222222,
             "#7201a8"
            ],
            [
             0.3333333333333333,
             "#9c179e"
            ],
            [
             0.4444444444444444,
             "#bd3786"
            ],
            [
             0.5555555555555556,
             "#d8576b"
            ],
            [
             0.6666666666666666,
             "#ed7953"
            ],
            [
             0.7777777777777778,
             "#fb9f3a"
            ],
            [
             0.8888888888888888,
             "#fdca26"
            ],
            [
             1,
             "#f0f921"
            ]
           ]
          },
          "colorway": [
           "#636efa",
           "#EF553B",
           "#00cc96",
           "#ab63fa",
           "#FFA15A",
           "#19d3f3",
           "#FF6692",
           "#B6E880",
           "#FF97FF",
           "#FECB52"
          ],
          "font": {
           "color": "#2a3f5f"
          },
          "geo": {
           "bgcolor": "white",
           "lakecolor": "white",
           "landcolor": "#E5ECF6",
           "showlakes": true,
           "showland": true,
           "subunitcolor": "white"
          },
          "hoverlabel": {
           "align": "left"
          },
          "hovermode": "closest",
          "mapbox": {
           "style": "light"
          },
          "paper_bgcolor": "white",
          "plot_bgcolor": "#E5ECF6",
          "polar": {
           "angularaxis": {
            "gridcolor": "white",
            "linecolor": "white",
            "ticks": ""
           },
           "bgcolor": "#E5ECF6",
           "radialaxis": {
            "gridcolor": "white",
            "linecolor": "white",
            "ticks": ""
           }
          },
          "scene": {
           "xaxis": {
            "backgroundcolor": "#E5ECF6",
            "gridcolor": "white",
            "gridwidth": 2,
            "linecolor": "white",
            "showbackground": true,
            "ticks": "",
            "zerolinecolor": "white"
           },
           "yaxis": {
            "backgroundcolor": "#E5ECF6",
            "gridcolor": "white",
            "gridwidth": 2,
            "linecolor": "white",
            "showbackground": true,
            "ticks": "",
            "zerolinecolor": "white"
           },
           "zaxis": {
            "backgroundcolor": "#E5ECF6",
            "gridcolor": "white",
            "gridwidth": 2,
            "linecolor": "white",
            "showbackground": true,
            "ticks": "",
            "zerolinecolor": "white"
           }
          },
          "shapedefaults": {
           "line": {
            "color": "#2a3f5f"
           }
          },
          "ternary": {
           "aaxis": {
            "gridcolor": "white",
            "linecolor": "white",
            "ticks": ""
           },
           "baxis": {
            "gridcolor": "white",
            "linecolor": "white",
            "ticks": ""
           },
           "bgcolor": "#E5ECF6",
           "caxis": {
            "gridcolor": "white",
            "linecolor": "white",
            "ticks": ""
           }
          },
          "title": {
           "x": 0.05
          },
          "xaxis": {
           "automargin": true,
           "gridcolor": "white",
           "linecolor": "white",
           "ticks": "",
           "title": {
            "standoff": 15
           },
           "zerolinecolor": "white",
           "zerolinewidth": 2
          },
          "yaxis": {
           "automargin": true,
           "gridcolor": "white",
           "linecolor": "white",
           "ticks": "",
           "title": {
            "standoff": 15
           },
           "zerolinecolor": "white",
           "zerolinewidth": 2
          }
         }
        },
        "title": {
         "text": "TRPO on Pendulum-v1"
        },
        "xaxis": {
         "title": {
          "text": "Episodes"
         }
        },
        "yaxis": {
         "title": {
          "text": "Returns"
         }
        }
       }
      },
      "image/png": "[encoded data removed]"
     },
     "metadata": {},
     "output_type": "display_data"
    }
   ],
   "source": [
    "import plotly.graph_objects as go\n",
    "import pandas as pd\n",
    "df = pd.read_csv('TRPO_Pendulum-v1_mv_returns_data.csv')  # 从 CSV 文件中读取数据\n",
    "fig = go.Figure()\n",
    "fig.add_trace(go.Scatter(x=df['Episodes'], y=df['Returns'], mode='lines', name='Returns'))\n",
    "fig.update_layout(\n",
    "    title='TRPO on Pendulum-v1',\n",
    "    xaxis_title='Episodes',\n",
    "    yaxis_title='Returns',\n",
    "    showlegend=True\n",
    ")\n",
    "fig.show()"
   ]
  },
  {
   "cell_type": "markdown",
   "id": "c3f29bd7d401a90",
   "metadata": {
    "collapsed": false
   },
   "source": [
    "可见,**TRPO** 算法也能实行在 **连续动作交互的倒立摆环境** 中"
   ]
  },
  {
   "cell_type": "markdown",
   "id": "cafe55a978d1452d",
   "metadata": {
    "collapsed": false
   },
   "source": []
  }
 ],
 "metadata": {
  "kernelspec": {
   "display_name": "Python 3 (ipykernel)",
   "language": "python",
   "name": "python3"
  },
  "language_info": {
   "codemirror_mode": {
    "name": "ipython",
    "version": 3
   },
   "file_extension": ".py",
   "mimetype": "text/x-python",
   "name": "python",
   "nbconvert_exporter": "python",
   "pygments_lexer": "ipython3",
   "version": "3.12.9"
  }
 },
 "nbformat": 4,
 "nbformat_minor": 5
}
