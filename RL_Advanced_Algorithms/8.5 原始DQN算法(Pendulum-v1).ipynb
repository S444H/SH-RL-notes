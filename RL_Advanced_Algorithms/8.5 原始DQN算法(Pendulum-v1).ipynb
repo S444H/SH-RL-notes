{
 "cells": [
  {
   "cell_type": "markdown",
   "source": [
    "- 为了对比原始DQN算法与9,10两节算法，在相同Pendulum-v1环境与超参数下，不同网络结构性能的差异,特此在本节展示原始DQN算法的性能"
   ],
   "metadata": {
    "collapsed": false
   },
   "id": "c52d7dbf5cd7c56f"
  },
  {
   "cell_type": "markdown",
   "source": [
    "#### 倒立摆（Inverted Pendulum）环境：\n",
    "> 倒摆摆动问题基于控制理论中的经典问题。 该系统由一端连接到固定点的摆锤组成，另一端是自由的:\n",
    "![pendulum环境示意图](Illustrations/pendulum环境.gif)\n",
    "\n",
    "> 钟摆从一个随机位置开始，起始状态是 [-pi， pi] 中的随机角度和 [-1,1] 中的随机角速度\n",
    "目标是在自由端施加扭矩以摆动它进入直立位置，在 200 个时间步长处截断\n",
    "$\\theta$以弧度为单位，弧度 = 角度 × $\\frac{\\pi}{180}$:\n",
    "![pendulum坐标系](Illustrations/Pendulum坐标系.png)\n",
    "\n",
    "> 环境的状态包括倒立摆角度的正弦值$sin\\theta$，余弦值$cos\\theta$，角速度$\\dot{\\theta}$；动作为对倒立摆施加的力矩torque:\n",
    "![pendulum环境的状态空间](Illustrations/Pendulum环境的状态空间.png)\n",
    "![pendulum环境的动作空间](Illustrations/Pendulum环境的动作空间.png)\n",
    "\n",
    "> 奖励函数定义为：\n",
    "$$r=-(theta^2+0.1*theta_-dt^2+0.001*torque^2)$$\n",
    "可见，单次获得的最低奖励为 $(\\text{圆周率}^2+0.1*8^2+0.001*2^2)=-16.2736044$, 而最大奖励为 0（钟摆直立，角速度为零，不施加力矩）"
   ],
   "metadata": {
    "collapsed": false
   },
   "id": "5ac6cdc467385abc"
  },
  {
   "cell_type": "markdown",
   "source": [
    "导入相关库："
   ],
   "metadata": {
    "collapsed": false
   },
   "id": "67275833f5b2858d"
  },
  {
   "cell_type": "code",
   "execution_count": 2,
   "outputs": [],
   "source": [
    "import random\n",
    "import numpy as np\n",
    "from tqdm import tqdm\n",
    "import torch\n",
    "import torch.nn.functional as F\n",
    "import gymnasium as gym"
   ],
   "metadata": {
    "collapsed": false,
    "ExecuteTime": {
     "end_time": "2025-07-19T11:08:18.967465100Z",
     "start_time": "2025-07-19T11:08:16.642375400Z"
    }
   },
   "id": "9a9902f3e99bfff9"
  },
  {
   "cell_type": "code",
   "execution_count": null,
   "outputs": [],
   "source": [
    "from utils.replay_buffer import ReplayBuffer\n",
    "from utils.smoothing import moving_average"
   ],
   "metadata": {
    "collapsed": false
   },
   "id": "d2dbadeb88038ff"
  },
  {
   "cell_type": "markdown",
   "source": [
    "#### Q网络"
   ],
   "metadata": {
    "collapsed": false
   },
   "id": "fcceb631db326fd4"
  },
  {
   "cell_type": "code",
   "execution_count": 3,
   "outputs": [],
   "source": [
    "class Qnet(torch.nn.Module):\n",
    "    def __init__(self, state_dim, hidden_dim, action_dim):\n",
    "        super(Qnet, self).__init__()\n",
    "        self.fc1 = torch.nn.Linear(state_dim, hidden_dim)\n",
    "        self.fc2 = torch.nn.Linear(hidden_dim, action_dim)\n",
    "\n",
    "    def forward(self, x):\n",
    "        x = F.relu(self.fc1(x))\n",
    "        return self.fc2(x)"
   ],
   "metadata": {
    "collapsed": false,
    "ExecuteTime": {
     "end_time": "2025-07-19T11:08:19.220524100Z",
     "start_time": "2025-07-19T11:08:19.210965500Z"
    }
   },
   "id": "ef11a10c3989f71f"
  },
  {
   "cell_type": "markdown",
   "source": [],
   "metadata": {
    "collapsed": false
   },
   "id": "6f8a90e9f9f97dd0"
  }
 ],
 "metadata": {
  "kernelspec": {
   "display_name": "Python 3",
   "language": "python",
   "name": "python3"
  },
  "language_info": {
   "codemirror_mode": {
    "name": "ipython",
    "version": 2
   },
   "file_extension": ".py",
   "mimetype": "text/x-python",
   "name": "python",
   "nbconvert_exporter": "python",
   "pygments_lexer": "ipython2",
   "version": "2.7.6"
  }
 },
 "nbformat": 4,
 "nbformat_minor": 5
}
