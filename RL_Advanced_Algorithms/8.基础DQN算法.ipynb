{
 "cells": [
  {
   "cell_type": "markdown",
   "id": "985c5ce37259e9ca",
   "metadata": {
    "collapsed": false
   },
   "source": [
    "# 8.基础 DQN 算法\n",
    "- 在 2013 年的 NIPS 深度学习研讨会上，DeepMind 公司的研究团队发表了 DQN 论文，首次展示了这一直接通过卷积神经网络接受像素输入来玩转各种雅达利（Atari）游戏的强化学习算法，由此拉开了 **深度强化学习** 的序幕..."
   ]
  },
  {
   "cell_type": "markdown",
   "id": "37738b56fd40c38b",
   "metadata": {
    "collapsed": false
   },
   "source": [
    "导入相关库"
   ]
  },
  {
   "cell_type": "code",
   "execution_count": 299,
   "id": "bc3eccd692eb79b7",
   "metadata": {
    "collapsed": false,
    "ExecuteTime": {
     "end_time": "2025-07-12T12:43:52.824420800Z",
     "start_time": "2025-07-12T12:43:52.756533600Z"
    }
   },
   "outputs": [],
   "source": [
    "# 基本库\n",
    "import random\n",
    "import numpy as np\n",
    "import collections\n",
    "import matplotlib.pyplot as plt\n",
    "# 神经网络\n",
    "import torch\n",
    "import torch.nn.functional as F\n",
    "# Gymnasium 是一个用于开发和测试强化学习算法的工具库，为 OpenAI Gym 的更新版本（2021迁移开发）\n",
    "import gymnasium as gym\n",
    "# 自定义库（经之前的多次学习发现许多功能代码片段被复用,于是将这些功能包装到一个库中,便于调用）\n",
    "import rl_utils"
   ]
  },
  {
   "cell_type": "markdown",
   "id": "cf311880130dae7d",
   "metadata": {
    "collapsed": false
   },
   "source": [
    "## 8.1 引出\n",
    "第6节学习的Q-learning算法需要依赖一张Q表，将所有状态的Q值进行储存(如下图) :\n",
    "![Q表示意图](Illustrations/Q表示意图.png)\n",
    "即使状态向量仅有5个维度，将每一个维度的数值映射到 0∼5 六个整数上，状态依然达 $6^{5}=7776$ 种，Q表的大小则为 $7776\\times5=38880$ \n",
    "而实际研究中多为 **连续状态空间** ，肯定不止6个整数，状态空间将会指数级增大，造成维度灾难，对计算硬件的要求很高，\n",
    "同时将状态连续值映射到离散的区间，来降低环境的复杂程度，也会导致智能体无法精确地捕捉环境的动态变化细节，使算法性能降低，\n",
    "对此，可以用 **函数拟合（function approximation）** 的方法来估计Q值，直接使用连续状态值，对此引出**DQN算法**"
   ]
  },
  {
   "cell_type": "markdown",
   "id": "6380f9235298849f",
   "metadata": {
    "collapsed": false
   },
   "source": [
    "## 8.2 原理\n",
    "**深度 Q 网络算法（Deep Q-Networks（DQN））** ，结合了 **深度神经网络(具有强大的表达能力)** 和 Q-learning，引入了深度神经网络来逼近Q值，能够处理高维连续的状态空间，无需对本就连续的状态向量进行离散映射（为解决 **连续状态下离散动作** 的问题）\n",
    "假设神经网络用来拟合函数的参数是 $\\omega$，即每一个状态下s所有可能动作a的值都能表示为 **$Q_{\\omega}(s,a)$** ，而用于拟合函数 **$Q_{\\omega}(s,a)$** 的神经网络称为 **Q网络**\n"
   ]
  },
  {
   "cell_type": "markdown",
   "id": "75c0b031bdfb1af4",
   "metadata": {
    "collapsed": false
   },
   "source": [
    "### 神经网络的损失函数\n",
    "**Q网络** 的**损失函数**则构造为均方误差的形式：\n",
    "$$\\omega^*=\\arg\\min_\\omega\\frac{1}{2N}\\sum_{i=1}^N\\left[Q_\\omega\\left(s_i,a_i\\right)-\\left(r_i+\\gamma\\max_{a^{\\prime}}Q_\\omega\\left(s_i^{\\prime},a^{\\prime}\\right)\\right)\\right]^2$$\n",
    "- 除以2N是为了简化求导后的参数梯度\n",
    "\n",
    "蕴意价值函数增量更新的幅度越小则损失越小，以此损失函数为优化目标愈使 **Q网络** 所拟合的函数所选择的动作价值越大"
   ]
  },
  {
   "cell_type": "markdown",
   "id": "5c91b719cd2fc981",
   "metadata": {
    "collapsed": false
   },
   "source": [
    "### 经验回放 + 目标网络\n",
    "DQN 是Q-learning算法的一种扩展，也是一种离线策略算法，可以将收集到的数据存储起来在后续的训练中使用\n",
    "DQN 引入了两个非常重要的模块——**经验回放和目标网络**，利用收集到的数据，它们能够帮助 DQN 取得稳定、出色的性能"
   ]
  },
  {
   "cell_type": "markdown",
   "id": "72810d4100b3fe40",
   "metadata": {
    "collapsed": false
   },
   "source": [
    "#### 经验回放\n",
    "Q-learning算法，每一个数据只会用来更新一次Q值\n",
    "而一般的**有监督学习**，训练数据独立同分布时，在训练神经网络的时候，训练集当中的每个数据会被使用多次\n",
    "所以 DQN 算法采用了 **经验回放（experience replay）** 方法：维护一个**回放缓冲区**，将每次从环境中采样得到的四元组数据（状态、动作、奖励、下一状态）存储到回放缓冲区中，训练 Q 网络的时候再从回放缓冲区中随机采样若干数据来进行训练。这么做解决了两个问题：\n",
    "1. 提高样本效率：每一个样本可以被使用多次，十分适合深度神经网络的梯度学习.\n",
    "2. 使样本满足独立假设（在 **马尔可夫决策过程（MDP）** 中交互采样得到的数据本身是不满足独立假设的，因为这一时刻的状态和上一时刻的状态有关）：非独立同分布的数据对训练神经网络有很大的影响，会使神经网络拟合到最近训练的数据上。采用经验回放可以**打破样本之间的相关性**，让其满足独立假设."
   ]
  },
  {
   "cell_type": "code",
   "execution_count": 300,
   "id": "f3f663fa0842fcc9",
   "metadata": {
    "collapsed": false,
    "ExecuteTime": {
     "end_time": "2025-07-12T12:43:52.888124800Z",
     "start_time": "2025-07-12T12:43:52.766216500Z"
    }
   },
   "outputs": [],
   "source": [
    "# 也被打包进 rl_utils\n",
    "class ReplayBuffer:\n",
    "    \"\"\" 经验回放池 \"\"\"\n",
    "    def __init__(self, capacity):\n",
    "        self.buffer = collections.deque(maxlen=capacity)  # 队列,先进先出\n",
    "\n",
    "    def add(self, state, action, reward, next_state, done):  # 将数据加入buffer\n",
    "        self.buffer.append((state, action, reward, next_state, done))\n",
    "\n",
    "    def sample(self, batch_size):  # 从buffer中采样数据,数量为batch_size\n",
    "        transitions = random.sample(self.buffer, batch_size)\n",
    "        state, action, reward, next_state, done = zip(*transitions)\n",
    "        return np.array(state), action, reward, np.array(next_state), done\n",
    "\n",
    "    def size(self):  # 目前buffer中数据的数量\n",
    "        return len(self.buffer)"
   ]
  },
  {
   "cell_type": "markdown",
   "id": "b909842e054504ac",
   "metadata": {
    "collapsed": false
   },
   "source": [
    "#### 目标网络\n",
    "**目标网络（target network）** 的引入是为了增强神经网络对于全局的把控，增强神经网络训练的稳定性。为实现这一目的需要两套神经网络：**训练网络与目标网络**.\n",
    "**训练网络$Q_{\\omega}(s,a)$** 为实时更新参数，而 **目标网络$Q_{\\omega^{-}}(s,a)$** 则会滞后，每隔一定步数才会与训练网络同步参数.\n",
    "其中需要明确的是，对于**损失函数**：$$\\frac{1}{2}[Q_{\\omega}\\left(s,a\\right)-\\left(r+\\gamma\\max_{a^{\\prime}}Q_{\\omega^{-}}\\left(s^{\\prime},a^{\\prime}\\right)\\right)]^{2}$$\n",
    "-  Q值的计算是依据不同两套Q神经网络的\n",
    "\n",
    "以此,促成训练稳定的效果.\n",
    "\n"
   ]
  },
  {
   "cell_type": "markdown",
   "id": "b02d8d397d91b129",
   "metadata": {
    "collapsed": false
   },
   "source": [
    "## 8.3 CartPole环境\n",
    "为实现该算法,引入模拟环境: **车杆环境(连续状态,离散动作)**\n",
    "![CartPole环境示意图](Illustrations/cartpole环境.gif)\n",
    "\n",
    "#### 规则\n",
    "- 智能体的任务是通过左右移动保持车上的杆竖直，若杆的倾斜度数过大，或者车子离初始位置左右的偏离程度过大，或者坚持时间到达 200 帧，则游戏结束\n",
    "在游戏中每坚持一帧，智能体能获得分数为 1 的奖励，坚持时间越长，则最后的分数越高，坚持 500 帧（CartPolev1）即可获得最高的分数\n",
    "#### 详情\n",
    "- 智能体的状态是一个4维向量(连续)：\n",
    "![CartPole环境的状态空间](Illustrations/CartPole环境的状态空间.png)\n",
    "- 动作空间大小为2(离散)：\n",
    "![CartPole环境的动作空间](Illustrations/CartPole环境的动作空间.png)\n",
    "- 工作在CartPole环境中的Q网络：\n",
    "![在CartPole环境中的Q网络](Illustrations/在CartPole环境中的Q网络.png)\n",
    "神经网络的输出在动作无限的情况下可以是一个标量\n",
    "若有限(如以上只有两种动作)，可以为每一个动作输出一个Q值，选max"
   ]
  },
  {
   "cell_type": "markdown",
   "id": "9409e0aec3fc1a3",
   "metadata": {
    "collapsed": false
   },
   "source": [
    "CartPole环境 状态空间相对简单，只有 4 个变量，因此之后的**网络结构**的代码设计也相对简单：采用一层 128 个神经元的全连接并以 ReLU 作为激活函数"
   ]
  },
  {
   "cell_type": "code",
   "execution_count": 301,
   "id": "71422e0ee014e46b",
   "metadata": {
    "collapsed": false,
    "ExecuteTime": {
     "end_time": "2025-07-12T12:43:52.889684200Z",
     "start_time": "2025-07-12T12:43:52.777536300Z"
    }
   },
   "outputs": [],
   "source": [
    "class Qnet(torch.nn.Module):\n",
    "    \"\"\"只有一层隐藏层的Q网络 \"\"\"\n",
    "    def __init__(self, state_dim, hidden_dim, action_dim):\n",
    "        super(Qnet, self).__init__()\n",
    "        self.fc1 = torch.nn.Linear(state_dim, hidden_dim)  # 输入到隐藏层\n",
    "        self.fc2 = torch.nn.Linear(hidden_dim, action_dim)  # 隐藏层到输出层\n",
    "\n",
    "    def forward(self, x):\n",
    "        x = F.relu(self.fc1(x))  # 隐藏层使用ReLU激活函数\n",
    "        return self.fc2(x)  # 输出层直接输出Q值"
   ]
  },
  {
   "cell_type": "markdown",
   "id": "5741a38a94ab296b",
   "metadata": {
    "collapsed": false
   },
   "source": [
    "## 8.4 DQN算法代码实现"
   ]
  },
  {
   "cell_type": "code",
   "execution_count": 302,
   "id": "b8f54c8d6e980fe5",
   "metadata": {
    "collapsed": false,
    "ExecuteTime": {
     "end_time": "2025-07-12T12:43:52.893242200Z",
     "start_time": "2025-07-12T12:43:52.782403300Z"
    }
   },
   "outputs": [],
   "source": [
    "class DQN:\n",
    "    \"\"\" DQN算法 \"\"\"\n",
    "    def __init__(self, state_dim, hidden_dim, action_dim, learning_rate, gamma, epsilon, target_update, device):\n",
    "        self.action_dim = action_dim \n",
    "        #  Q 网络\n",
    "        self.q_net = Qnet(state_dim, hidden_dim, self.action_dim).to(device) \n",
    "        # 目标网络\n",
    "        self.target_q_net = Qnet(state_dim, hidden_dim, self.action_dim).to(device)\n",
    "        # 使用Adam优化器\n",
    "        self.optimizer = torch.optim.Adam(self.q_net.parameters(), lr=learning_rate)\n",
    "        self.gamma = gamma  # 折扣因子（未来）\n",
    "        self.epsilon = epsilon  # epsilon-贪婪策略\n",
    "        self.target_update = target_update  # 目标网络更新频率\n",
    "        self.count = 0  # 计数器,记录更新次数\n",
    "        self.device = device\n",
    "\n",
    "    def take_action(self, state):  # epsilon-贪婪策略采取动作\n",
    "        if np.random.random() < self.epsilon:\n",
    "            action = np.random.randint(self.action_dim)\n",
    "        else:\n",
    "            # 将列表先转换为一个单独的 numpy.ndarray与 PyTorch 张量兼容，然后再转换为 PyTorch 张量，提高效率\n",
    "            state = torch.tensor(np.array([state]), dtype=torch.float).to(self.device)\n",
    "            action = self.q_net(state).argmax().item()\n",
    "        return action\n",
    "\n",
    "    def update(self, transition_dict):\n",
    "        # .view(-1, 1)转换为一个2D张量，以便与其他维度匹配并符合模型的输入要求\n",
    "        states = torch.tensor(transition_dict['states'], dtype=torch.float).to(self.device)\n",
    "        actions = torch.tensor(transition_dict['actions']).view(-1, 1).to(self.device)#转换为一个2D张量，以便与其他维度匹配并符合模型的输入要求\n",
    "        rewards = torch.tensor(transition_dict['rewards'], dtype=torch.float).view(-1, 1).to(self.device)\n",
    "        next_states = torch.tensor(transition_dict['next_states'], dtype=torch.float).to(self.device)\n",
    "        dones = torch.tensor(transition_dict['dones'], dtype=torch.float).view(-1, 1).to(self.device)\n",
    "\n",
    "        q_values = self.q_net(states).gather(1, actions)  # Q值\n",
    "        max_next_q_values = self.target_q_net(next_states).max(1)[0].view(-1, 1)  # 下个状态的最大Q值\n",
    "        q_targets = rewards + self.gamma * max_next_q_values * (1 - dones)  # TD误差目标\n",
    "        dqn_loss = torch.mean(F.mse_loss(q_values, q_targets))  # 均方误差损失函数\n",
    "        self.optimizer.zero_grad()  # PyTorch中默认梯度会累积, 非批量累积梯度任务，这里需要显式将梯度置为0\n",
    "        dqn_loss.backward()  # 反向传播更新参数\n",
    "        self.optimizer.step()\n",
    "\n",
    "        if self.count % self.target_update == 0:\n",
    "            self.target_q_net.load_state_dict(self.q_net.state_dict())  # 更新目标网络\n",
    "        self.count += 1"
   ]
  },
  {
   "cell_type": "markdown",
   "id": "df412e2db3b30f06",
   "metadata": {
    "collapsed": false
   },
   "source": [
    "超参数设置:"
   ]
  },
  {
   "cell_type": "code",
   "execution_count": 303,
   "id": "6f9f7a02ff9c0cda",
   "metadata": {
    "collapsed": false,
    "ExecuteTime": {
     "end_time": "2025-07-12T12:43:52.908965900Z",
     "start_time": "2025-07-12T12:43:52.797143700Z"
    }
   },
   "outputs": [
    {
     "name": "stdout",
     "output_type": "stream",
     "text": [
      "Environment spec: EnvSpec(id='CartPole-v1', entry_point='gymnasium.envs.classic_control.cartpole:CartPoleEnv', reward_threshold=475.0, nondeterministic=False, max_episode_steps=500, order_enforce=True, disable_env_checker=False, kwargs={}, namespace=None, name='CartPole', version=1, additional_wrappers=(), vector_entry_point='gymnasium.envs.classic_control.cartpole:CartPoleVectorEnv')\n"
     ]
    }
   ],
   "source": [
    "# Env设置(包括可重复性随机种子, 确保每次重新运行本节内容结果一致)\n",
    "random.seed(0)       # 设置 Python 的随机种子\n",
    "np.random.seed(0)    # 设置 NumPy 的随机种子\n",
    "torch.manual_seed(0) # 设置 PyTorch CPU 随机种子\n",
    "torch.cuda.manual_seed_all(0) # 设置 PyTorch GPU 随机种子, 由于GPU并行性, 只能极大减小偏差\n",
    "\n",
    "env = gym.make('CartPole-v1')  # CartPole-v1 最大回合步数修改到了500步(v0为200)\n",
    "# env = env.unwrapped # 获取原始环境（绕过 TimeLimit 包装器）解除最大步数500限制\n",
    "env.reset(seed=0)   # 环境通常依赖于其他随机数生成器来初始化状态、进行探索(推荐位于以上随机之后)\n",
    "print(\"Environment spec:\", env.spec)"
   ]
  },
  {
   "cell_type": "markdown",
   "source": [
    "reward_threshold=475.0, 如果智能体能够在每个回合中获得至少 475.0 分的奖励，那么就认为任务成功完成"
   ],
   "metadata": {
    "collapsed": false
   },
   "id": "cf1953e5831a87b7"
  },
  {
   "cell_type": "code",
   "execution_count": 304,
   "id": "80cf4c8aa304b138",
   "metadata": {
    "collapsed": false,
    "ExecuteTime": {
     "end_time": "2025-07-12T12:43:52.908965900Z",
     "start_time": "2025-07-12T12:43:52.804760900Z"
    }
   },
   "outputs": [
    {
     "name": "stdout",
     "output_type": "stream",
     "text": [
      "(array([ 0.01323574, -0.21745604, -0.04686959,  0.22950698], dtype=float32), 1.0, False, False, {})\n"
     ]
    }
   ],
   "source": [
    "# Gymnasium返回值不一样\n",
    "re = env.step(0)\n",
    "print(re) "
   ]
  },
  {
   "cell_type": "code",
   "execution_count": 305,
   "id": "5f14fa136d4faf9a",
   "metadata": {
    "collapsed": false,
    "ExecuteTime": {
     "end_time": "2025-07-12T12:43:52.915092600Z",
     "start_time": "2025-07-12T12:43:52.810919400Z"
    }
   },
   "outputs": [],
   "source": [
    "# Agent\n",
    "state_dim = env.observation_space.shape[0]  # 4\n",
    "hidden_dim = 64\n",
    "action_dim = env.action_space.n             # 2\n",
    "lr = 0.0008\n",
    "gamma = 0.99\n",
    "epsilon = 0.01\n",
    "target_update = 20\n",
    "device = torch.device(\"cuda\") if torch.cuda.is_available() else torch.device(\"cpu\")\n",
    "agent = DQN(state_dim, hidden_dim, action_dim, lr, gamma, epsilon, target_update, device)\n",
    "\n",
    "num_episodes = 1000\n",
    "buffer_size = 25000  # 经验回放池的最大容量\n",
    "replay_buffer = ReplayBuffer(buffer_size)  # 经验回收池\n",
    "minimal_size = 1500   # 训练开始前回放池中最小的经验数量\n",
    "batch_size = 128"
   ]
  },
  {
   "cell_type": "code",
   "execution_count": 306,
   "id": "ee842e4a89b3767e",
   "metadata": {
    "collapsed": false,
    "ExecuteTime": {
     "end_time": "2025-07-12T12:50:03.069000400Z",
     "start_time": "2025-07-12T12:43:52.824420800Z"
    }
   },
   "outputs": [
    {
     "name": "stderr",
     "output_type": "stream",
     "text": [
      "Iteration 0: 100%|██████████| 100/100 [00:00<00:00, 138.56it/s, episode=100, return=9.300]\n",
      "Iteration 1: 100%|██████████| 100/100 [00:01<00:00, 51.96it/s, episode=200, return=9.200]\n",
      "Iteration 2: 100%|██████████| 100/100 [00:04<00:00, 23.60it/s, episode=300, return=14.900]\n",
      "Iteration 3: 100%|██████████| 100/100 [00:14<00:00,  7.01it/s, episode=400, return=67.400]\n",
      "Iteration 4: 100%|██████████| 100/100 [00:36<00:00,  2.76it/s, episode=500, return=116.300]\n",
      "Iteration 5: 100%|██████████| 100/100 [00:51<00:00,  1.93it/s, episode=600, return=141.700]\n",
      "Iteration 6: 100%|██████████| 100/100 [00:51<00:00,  1.95it/s, episode=700, return=128.800]\n",
      "Iteration 7: 100%|██████████| 100/100 [01:10<00:00,  1.42it/s, episode=800, return=180.300]\n",
      "Iteration 8: 100%|██████████| 100/100 [01:01<00:00,  1.64it/s, episode=900, return=150.900]\n",
      "Iteration 9: 100%|██████████| 100/100 [01:18<00:00,  1.28it/s, episode=1000, return=382.400]\n"
     ]
    }
   ],
   "source": [
    "return_list = rl_utils.train_off_policy_agent(env, agent, num_episodes, replay_buffer, minimal_size, batch_size)"
   ]
  },
  {
   "cell_type": "code",
   "execution_count": 307,
   "id": "f85537f36b5894ae",
   "metadata": {
    "collapsed": false,
    "ExecuteTime": {
     "end_time": "2025-07-12T12:50:03.069000400Z",
     "start_time": "2025-07-12T12:50:03.063549300Z"
    }
   },
   "outputs": [
    {
     "name": "stdout",
     "output_type": "stream",
     "text": [
      "[9.0, 9.0, 9.0, 10.0, 9.0, 8.0, 9.0, 9.0, 8.0, 9.0, 10.0, 11.0, 10.0, 10.0, 10.0, 10.0, 9.0, 9.0, 8.0, 9.0, 9.0, 8.0, 8.0, 8.0, 9.0, 9.0, 9.0, 9.0, 9.0, 8.0, 9.0, 9.0, 10.0, 8.0, 9.0, 10.0, 11.0, 10.0, 9.0, 9.0, 10.0, 10.0, 8.0, 8.0, 10.0, 9.0, 10.0, 8.0, 8.0, 9.0, 8.0, 10.0, 10.0, 8.0, 11.0, 10.0, 9.0, 12.0, 9.0, 9.0, 9.0, 10.0, 9.0, 9.0, 9.0, 9.0, 9.0, 8.0, 8.0, 8.0, 10.0, 10.0, 10.0, 9.0, 10.0, 9.0, 10.0, 9.0, 10.0, 9.0, 11.0, 8.0, 10.0, 10.0, 9.0, 10.0, 8.0, 10.0, 10.0, 10.0, 9.0, 10.0, 9.0, 9.0, 8.0, 10.0, 8.0, 9.0, 10.0, 11.0, 10.0, 8.0, 8.0, 9.0, 9.0, 9.0, 10.0, 9.0, 10.0, 8.0, 9.0, 9.0, 9.0, 10.0, 10.0, 10.0, 10.0, 10.0, 10.0, 9.0, 9.0, 10.0, 9.0, 9.0, 9.0, 10.0, 9.0, 10.0, 10.0, 10.0, 9.0, 8.0, 11.0, 10.0, 9.0, 10.0, 10.0, 9.0, 9.0, 10.0, 9.0, 10.0, 10.0, 10.0, 12.0, 9.0, 8.0, 9.0, 9.0, 9.0, 10.0, 10.0, 9.0, 10.0, 10.0, 9.0, 10.0, 10.0, 10.0, 9.0, 9.0, 9.0, 8.0, 10.0, 9.0, 10.0, 8.0, 11.0, 9.0, 9.0, 9.0, 10.0, 9.0, 8.0, 9.0, 8.0, 9.0, 8.0, 9.0, 10.0, 10.0, 9.0, 8.0, 10.0, 10.0, 9.0, 10.0, 10.0, 9.0, 8.0, 10.0, 10.0, 9.0, 10.0, 8.0, 8.0, 8.0, 10.0, 9.0, 10.0, 10.0, 10.0, 10.0, 9.0, 10.0, 11.0, 8.0, 10.0, 10.0, 10.0, 8.0, 11.0, 9.0, 9.0, 10.0, 9.0, 8.0, 9.0, 10.0, 9.0, 9.0, 10.0, 9.0, 9.0, 8.0, 9.0, 8.0, 10.0, 10.0, 10.0, 10.0, 10.0, 9.0, 9.0, 11.0, 9.0, 9.0, 10.0, 8.0, 9.0, 11.0, 9.0, 9.0, 9.0, 9.0, 11.0, 10.0, 10.0, 11.0, 10.0, 11.0, 12.0, 11.0, 8.0, 11.0, 11.0, 10.0, 11.0, 9.0, 11.0, 9.0, 10.0, 10.0, 11.0, 9.0, 9.0, 11.0, 9.0, 11.0, 12.0, 12.0, 11.0, 13.0, 12.0, 14.0, 15.0, 13.0, 17.0, 17.0, 19.0, 19.0, 9.0, 10.0, 10.0, 10.0, 10.0, 9.0, 10.0, 15.0, 19.0, 18.0, 20.0, 21.0, 11.0, 11.0, 14.0, 12.0, 14.0, 12.0, 16.0, 15.0, 13.0, 12.0, 18.0, 15.0, 12.0, 11.0, 14.0, 9.0, 11.0, 10.0, 10.0, 11.0, 14.0, 13.0, 13.0, 12.0, 13.0, 14.0, 11.0, 12.0, 15.0, 15.0, 20.0, 17.0, 14.0, 17.0, 15.0, 14.0, 15.0, 12.0, 18.0, 19.0, 23.0, 37.0, 26.0, 47.0, 22.0, 27.0, 29.0, 23.0, 51.0, 29.0, 35.0, 26.0, 49.0, 59.0, 40.0, 58.0, 26.0, 33.0, 37.0, 32.0, 45.0, 49.0, 56.0, 35.0, 32.0, 54.0, 35.0, 33.0, 66.0, 58.0, 46.0, 66.0, 38.0, 41.0, 61.0, 74.0, 56.0, 57.0, 57.0, 43.0, 70.0, 33.0, 42.0, 58.0, 61.0, 56.0, 45.0, 48.0, 63.0, 49.0, 53.0, 65.0, 62.0, 50.0, 62.0, 57.0, 46.0, 56.0, 82.0, 58.0, 54.0, 57.0, 78.0, 66.0, 72.0, 74.0, 77.0, 71.0, 92.0, 70.0, 67.0, 58.0, 65.0, 70.0, 66.0, 55.0, 63.0, 73.0, 72.0, 57.0, 83.0, 66.0, 74.0, 90.0, 71.0, 51.0, 66.0, 65.0, 95.0, 68.0, 92.0, 62.0, 62.0, 81.0, 79.0, 86.0, 115.0, 69.0, 76.0, 74.0, 65.0, 70.0, 97.0, 74.0, 88.0, 72.0, 104.0, 86.0, 73.0, 80.0, 84.0, 78.0, 71.0, 70.0, 71.0, 76.0, 60.0, 62.0, 71.0, 95.0, 68.0, 114.0, 78.0, 94.0, 62.0, 74.0, 89.0, 76.0, 94.0, 92.0, 221.0, 77.0, 81.0, 81.0, 101.0, 142.0, 86.0, 83.0, 104.0, 75.0, 75.0, 71.0, 203.0, 113.0, 113.0, 77.0, 75.0, 72.0, 108.0, 118.0, 124.0, 112.0, 72.0, 90.0, 86.0, 72.0, 80.0, 71.0, 120.0, 115.0, 88.0, 126.0, 101.0, 158.0, 122.0, 120.0, 142.0, 129.0, 104.0, 100.0, 119.0, 107.0, 127.0, 111.0, 114.0, 103.0, 97.0, 101.0, 103.0, 153.0, 111.0, 99.0, 109.0, 122.0, 143.0, 101.0, 111.0, 105.0, 137.0, 102.0, 141.0, 119.0, 111.0, 137.0, 133.0, 113.0, 118.0, 103.0, 128.0, 121.0, 167.0, 161.0, 123.0, 129.0, 129.0, 183.0, 163.0, 103.0, 151.0, 133.0, 183.0, 125.0, 148.0, 119.0, 129.0, 137.0, 177.0, 145.0, 123.0, 220.0, 113.0, 123.0, 114.0, 117.0, 117.0, 116.0, 161.0, 119.0, 110.0, 128.0, 121.0, 151.0, 120.0, 141.0, 115.0, 173.0, 169.0, 130.0, 200.0, 182.0, 132.0, 128.0, 154.0, 123.0, 156.0, 118.0, 120.0, 134.0, 123.0, 110.0, 116.0, 104.0, 137.0, 139.0, 119.0, 144.0, 260.0, 136.0, 132.0, 120.0, 184.0, 170.0, 140.0, 118.0, 142.0, 143.0, 132.0, 134.0, 112.0, 120.0, 116.0, 134.0, 124.0, 146.0, 135.0, 128.0, 137.0, 124.0, 158.0, 114.0, 166.0, 153.0, 156.0, 134.0, 165.0, 130.0, 120.0, 145.0, 129.0, 121.0, 136.0, 151.0, 123.0, 109.0, 151.0, 135.0, 163.0, 115.0, 127.0, 126.0, 138.0, 115.0, 127.0, 135.0, 138.0, 127.0, 131.0, 135.0, 147.0, 145.0, 133.0, 141.0, 128.0, 136.0, 132.0, 146.0, 126.0, 143.0, 146.0, 146.0, 138.0, 143.0, 155.0, 153.0, 136.0, 160.0, 160.0, 120.0, 136.0, 138.0, 135.0, 130.0, 136.0, 141.0, 140.0, 134.0, 139.0, 121.0, 125.0, 120.0, 124.0, 118.0, 123.0, 119.0, 131.0, 135.0, 135.0, 140.0, 115.0, 123.0, 119.0, 142.0, 120.0, 128.0, 120.0, 138.0, 120.0, 123.0, 123.0, 130.0, 118.0, 116.0, 138.0, 149.0, 115.0, 147.0, 129.0, 140.0, 147.0, 145.0, 126.0, 132.0, 158.0, 147.0, 128.0, 157.0, 130.0, 142.0, 162.0, 144.0, 170.0, 132.0, 150.0, 131.0, 133.0, 137.0, 157.0, 155.0, 135.0, 143.0, 169.0, 143.0, 160.0, 139.0, 157.0, 114.0, 140.0, 160.0, 158.0, 131.0, 133.0, 143.0, 146.0, 135.0, 141.0, 143.0, 149.0, 140.0, 136.0, 171.0, 147.0, 136.0, 129.0, 158.0, 177.0, 144.0, 135.0, 148.0, 136.0, 150.0, 148.0, 144.0, 134.0, 146.0, 150.0, 152.0, 134.0, 164.0, 230.0, 149.0, 216.0, 191.0, 147.0, 177.0, 182.0, 157.0, 299.0, 172.0, 153.0, 226.0, 171.0, 157.0, 170.0, 193.0, 211.0, 292.0, 190.0, 222.0, 168.0, 366.0, 159.0, 172.0, 223.0, 175.0, 162.0, 159.0, 413.0, 298.0, 179.0, 141.0, 151.0, 191.0, 144.0, 164.0, 171.0, 184.0, 180.0, 147.0, 159.0, 163.0, 161.0, 159.0, 171.0, 157.0, 161.0, 150.0, 154.0, 164.0, 148.0, 138.0, 141.0, 131.0, 119.0, 121.0, 117.0, 121.0, 109.0, 10.0, 9.0, 10.0, 9.0, 8.0, 10.0, 11.0, 9.0, 141.0, 175.0, 203.0, 211.0, 160.0, 184.0, 212.0, 157.0, 142.0, 142.0, 142.0, 162.0, 151.0, 177.0, 153.0, 138.0, 135.0, 143.0, 166.0, 147.0, 157.0, 155.0, 158.0, 149.0, 143.0, 162.0, 161.0, 168.0, 162.0, 162.0, 150.0, 158.0, 142.0, 150.0, 158.0, 139.0, 151.0, 155.0, 145.0, 139.0, 136.0, 149.0, 157.0, 151.0, 150.0, 144.0, 146.0, 147.0, 148.0, 137.0, 153.0, 141.0, 160.0, 151.0, 159.0, 146.0, 151.0, 155.0, 155.0, 170.0, 151.0, 141.0, 162.0, 149.0, 146.0, 137.0, 147.0, 147.0, 150.0, 158.0, 159.0, 154.0, 150.0, 149.0, 172.0, 164.0, 154.0, 135.0, 148.0, 149.0, 162.0, 179.0, 147.0, 155.0, 157.0, 150.0, 177.0, 185.0, 153.0, 141.0, 178.0, 152.0, 164.0, 158.0, 179.0, 165.0, 178.0, 161.0, 168.0, 177.0, 169.0, 173.0, 162.0, 158.0, 164.0, 173.0, 151.0, 157.0, 169.0, 166.0, 161.0, 186.0, 169.0, 194.0, 170.0, 206.0, 175.0, 162.0, 164.0, 184.0, 188.0, 166.0, 158.0, 155.0, 206.0, 197.0, 187.0, 192.0, 162.0, 181.0, 170.0, 177.0, 191.0, 274.0, 213.0, 233.0, 244.0, 165.0, 179.0, 178.0, 186.0, 194.0, 185.0, 185.0, 200.0, 172.0, 189.0, 226.0, 177.0, 198.0, 199.0, 193.0, 214.0, 201.0, 209.0, 211.0, 216.0, 201.0, 223.0, 208.0, 253.0, 221.0, 232.0, 192.0, 271.0, 341.0, 172.0, 1351.0, 297.0, 210.0, 448.0, 310.0]\n"
     ]
    }
   ],
   "source": [
    "print(return_list)"
   ]
  },
  {
   "cell_type": "markdown",
   "source": [
    "性能快速提升后，持续出现一定程度的震荡，主要是因为神经网络过拟合局部经验数据"
   ],
   "metadata": {
    "collapsed": false
   },
   "id": "a09528f74057664f"
  },
  {
   "cell_type": "code",
   "execution_count": 308,
   "outputs": [
    {
     "data": {
      "text/plain": "<Figure size 640x480 with 1 Axes>",
      "image/png": "[encoded data removed]"
     },
     "metadata": {},
     "output_type": "display_data"
    }
   ],
   "source": [
    "episodes_list = list(range(len(return_list)))\n",
    "plt.plot(episodes_list, return_list)\n",
    "plt.xlabel('Episodes')\n",
    "plt.ylabel('Returns')\n",
    "plt.title('DQN on {}'.format('CartPole-v1'))\n",
    "plt.show()"
   ],
   "metadata": {
    "collapsed": false,
    "ExecuteTime": {
     "end_time": "2025-07-12T12:50:03.198198Z",
     "start_time": "2025-07-12T12:50:03.069000400Z"
    }
   },
   "id": "6207ec5b03555116"
  },
  {
   "cell_type": "markdown",
   "id": "1eed95bdf676dc84",
   "metadata": {
    "collapsed": false
   },
   "source": [
    "去噪：滑动平均方法，使曲线更平滑："
   ]
  },
  {
   "cell_type": "code",
   "execution_count": 309,
   "outputs": [
    {
     "data": {
      "text/plain": "<Figure size 640x480 with 1 Axes>",
      "image/png": "[encoded data removed]"
     },
     "metadata": {},
     "output_type": "display_data"
    }
   ],
   "source": [
    "mv_return = rl_utils.moving_average(return_list, 4)\n",
    "episodes_list2 = list(range(len(mv_return)))\n",
    "plt.plot(episodes_list2, mv_return)\n",
    "plt.xlabel('Episodes')\n",
    "plt.ylabel('Returns')\n",
    "plt.title('DQN on {}'.format('CartPole-v1'))\n",
    "plt.show()"
   ],
   "metadata": {
    "collapsed": false,
    "ExecuteTime": {
     "end_time": "2025-07-12T12:50:03.302585200Z",
     "start_time": "2025-07-12T12:50:03.192084800Z"
    }
   },
   "id": "ca735698b5c92640"
  },
  {
   "cell_type": "markdown",
   "id": "28eefe4c85232448",
   "metadata": {
    "collapsed": false
   },
   "source": []
  }
 ],
 "metadata": {
  "kernelspec": {
   "display_name": "Python 3 (ipykernel)",
   "language": "python",
   "name": "python3"
  },
  "language_info": {
   "codemirror_mode": {
    "name": "ipython",
    "version": 3
   },
   "file_extension": ".py",
   "mimetype": "text/x-python",
   "name": "python",
   "nbconvert_exporter": "python",
   "pygments_lexer": "ipython3",
   "version": "3.12.9"
  }
 },
 "nbformat": 4,
 "nbformat_minor": 5
}
