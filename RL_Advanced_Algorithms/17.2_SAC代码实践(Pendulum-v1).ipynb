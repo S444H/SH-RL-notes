{
 "cells": [
  {
   "cell_type": "markdown",
   "source": [
    "***SAC** 算法原本是针对 **连续动作交互** 的环境提出的，首先在 **倒立摆环境** 下进行实验：*"
   ],
   "metadata": {
    "collapsed": false
   },
   "id": "c1fab0e0ce297dfa"
  }
 ],
 "metadata": {
  "kernelspec": {
   "display_name": "Python 3",
   "language": "python",
   "name": "python3"
  },
  "language_info": {
   "codemirror_mode": {
    "name": "ipython",
    "version": 2
   },
   "file_extension": ".py",
   "mimetype": "text/x-python",
   "name": "python",
   "nbconvert_exporter": "python",
   "pygments_lexer": "ipython2",
   "version": "2.7.6"
  }
 },
 "nbformat": 4,
 "nbformat_minor": 5
}
