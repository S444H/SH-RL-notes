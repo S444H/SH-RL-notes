{
 "cells": [
  {
   "cell_type": "markdown",
   "source": [
    "# 17. SAC 算法\n",
    "> 尽管 **DDPG** 属于 **离线策略算法** ，具有一定的样本效率。但是它的训练不稳定，收敛性较差，需要细致的超参数调整，难以适应复杂环境。\n",
    "> 2018 年，Tuomas 等人提出了一个更加稳定的 **离线策略算法**： [Soft Actor-Critic: Off-Policy Maximum Entropy Deep Reinforcement Learning with a Stochastic Actor](https://arxiv.org/abs/1801.01290)\n",
    "> **SAC** 的前身是 **Soft Q-learning**，它们都属于 **最大熵** 强化学习的范畴。**Soft Q-learning** 不存在一个 **显式的策略函数**，而是使用一个 **Q函数的最大熵（Boltzmann）分布**：\n",
    "$$\\pi(a|s)=\\frac{e^{\\frac{Q(s,a)}{\\alpha}}}{\\sum_{a^{\\prime}}e^{\\frac{Q(s,a^{\\prime})}{\\alpha}}}$$\n",
    "- 当$\\alpha$较大时,$\\frac{Q(s,a)}{\\alpha}$的值变小,导致所有的$\\exp$值接近 1，所有动作的概率大致相等，策略变得更为均匀，鼓励 **更多的探索**\n",
    "- 当$\\alpha$较小时,$\\frac{Q(s,a)}{\\alpha}$的值变大,导致所有的$\\exp$值远大于其他动作，所有动作的概率差异变大，倾向于 **更多的利用**\n",
    "- 这种方法在离散动作空间下比较容易实现，因为可以直接枚举动作求分布。但在 连续动作空间 下，计算归一化因子（积分）非常困难，近似计算代价很大。于是 SAC 提出使用一个 **Actor 表示策略函数**，从而解决这个问题。\n",
    "> 目前，在**无模型**的强化学习算法中，**SAC** 是一个非常高效的算法，它学习一个 **随机性策略**，在不少标准环境中取得了领先的成绩。"
   ],
   "metadata": {
    "collapsed": false
   },
   "id": "f00083058f08693c"
  }
 ],
 "metadata": {
  "kernelspec": {
   "display_name": "Python 3",
   "language": "python",
   "name": "python3"
  },
  "language_info": {
   "codemirror_mode": {
    "name": "ipython",
    "version": 2
   },
   "file_extension": ".py",
   "mimetype": "text/x-python",
   "name": "python",
   "nbconvert_exporter": "python",
   "pygments_lexer": "ipython2",
   "version": "2.7.6"
  }
 },
 "nbformat": 4,
 "nbformat_minor": 5
}
