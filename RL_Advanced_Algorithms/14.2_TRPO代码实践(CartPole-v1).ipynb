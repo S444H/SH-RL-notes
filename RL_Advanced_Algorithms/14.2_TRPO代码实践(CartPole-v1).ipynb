{
 "cells": [
  {
   "cell_type": "markdown",
   "id": "ace71cd372b92798",
   "metadata": {
    "collapsed": false
   },
   "source": [
    "*本节在 **车杆（CartPole）离散-动作**交互环境下进行 **TRPO** 代码实践*"
   ]
  },
  {
   "cell_type": "markdown",
   "id": "a25b89b8955dd31c",
   "metadata": {
    "collapsed": false
   },
   "source": [
    "导入相关库："
   ]
  },
  {
   "cell_type": "code",
   "execution_count": 1,
   "id": "6bd2ba098afb45c4",
   "metadata": {
    "ExecuteTime": {
     "end_time": "2025-08-03T01:56:50.997814200Z",
     "start_time": "2025-08-03T01:56:50.949281800Z"
    },
    "collapsed": false
   },
   "outputs": [],
   "source": [
    "# 基本库\n",
    "import numpy as np\n",
    "import copy\n",
    "\n",
    "from utils.smoothing import moving_average\n",
    "from utils.advantage import compute_advantage\n",
    "from utils.training import train_on_policy_agent\n",
    "# 神经网络\n",
    "import torch\n",
    "import torch.nn.functional as F\n",
    "# Gymnasium 是一个用于开发和测试强化学习算法的工具库，为 OpenAI Gym 的更新版本（2021迁移开发）\n",
    "import gymnasium as gym"
   ]
  },
  {
   "cell_type": "markdown",
   "id": "dfa825f6733f4a92",
   "metadata": {
    "collapsed": false
   },
   "source": [
    "## 车杆环境（'CartPole-v1'）"
   ]
  },
  {
   "cell_type": "markdown",
   "id": "3ca484d8e6096ec0",
   "metadata": {
    "collapsed": false
   },
   "source": [
    "### 定义策略网络和价值网络（与 Actor-Critic 算法一样）:"
   ]
  },
  {
   "cell_type": "code",
   "execution_count": 2,
   "id": "c7811bbb5831acce",
   "metadata": {
    "ExecuteTime": {
     "end_time": "2025-08-03T02:34:59.900568500Z",
     "start_time": "2025-08-03T02:34:59.889556400Z"
    },
    "collapsed": false
   },
   "outputs": [],
   "source": [
    "class PolicyNet(torch.nn.Module):\n",
    "    def __init__(self, state_dim, hidden_dim, action_dim):\n",
    "        super(PolicyNet, self).__init__()\n",
    "        self.fc1 = torch.nn.Linear(state_dim, hidden_dim)\n",
    "        self.fc2 = torch.nn.Linear(hidden_dim, action_dim)\n",
    "\n",
    "    def forward(self, x):\n",
    "        x = F.relu(self.fc1(x))\n",
    "        return F.softmax(self.fc2(x), dim=1)\n",
    "\n",
    "\n",
    "class ValueNet(torch.nn.Module):\n",
    "    def __init__(self, state_dim, hidden_dim):\n",
    "        super(ValueNet, self).__init__()\n",
    "        self.fc1 = torch.nn.Linear(state_dim, hidden_dim)\n",
    "        self.fc2 = torch.nn.Linear(hidden_dim, 1)\n",
    "\n",
    "    def forward(self, x):\n",
    "        x = F.relu(self.fc1(x))\n",
    "        return self.fc2(x)"
   ]
  },
  {
   "cell_type": "markdown",
   "id": "a7d961ebf25c86b",
   "metadata": {
    "collapsed": false
   },
   "source": [
    "### 定义 TRPO 算法（离散动作）："
   ]
  },
  {
   "cell_type": "code",
   "execution_count": 3,
   "id": "785d0dcb04f16531",
   "metadata": {
    "ExecuteTime": {
     "end_time": "2025-08-03T02:35:03.943796100Z",
     "start_time": "2025-08-03T02:35:03.927944500Z"
    },
    "collapsed": false
   },
   "outputs": [],
   "source": [
    "class TRPO:\n",
    "    \"\"\" 处理离散动作的TRPO算法 \"\"\"\n",
    "    def __init__(self, hidden_dim, state_space, action_space, lmbda, kl_constraint, alpha, critic_lr, gamma, device):\n",
    "        \n",
    "        state_dim = state_space.shape[0]\n",
    "        action_dim = action_space.n\n",
    "    \n",
    "        self.actor = PolicyNet(state_dim, hidden_dim, action_dim).to(device)\n",
    "        self.critic = ValueNet(state_dim, hidden_dim).to(device)\n",
    "        # 策略网络参数不需要优化器去更新\n",
    "        self.critic_optimizer = torch.optim.Adam(self.critic.parameters(), lr=critic_lr)\n",
    "        \n",
    "        self.gamma = gamma\n",
    "        self.lmbda = lmbda                  # GAE参数\n",
    "        self.kl_constraint = kl_constraint  # KL距离最大限制\n",
    "        self.alpha = alpha                  # 线性搜索参数\n",
    "        self.device = device\n",
    "\n",
    "    def take_action(self, state):\n",
    "        state = torch.tensor(np.array([state]), dtype=torch.float).to(self.device)\n",
    "        probs = self.actor(state)\n",
    "        action_dist = torch.distributions.Categorical(probs)\n",
    "        action = action_dist.sample()\n",
    "        return action.item()\n",
    "\n",
    "    def hessian_matrix_vector_product(self, states, old_action_dists, vector):  # 计算Hansen矩阵和一个向量的乘积\n",
    "        new_action_dists = torch.distributions.Categorical(self.actor(states))\n",
    "        kl = torch.mean(torch.distributions.kl.kl_divergence(old_action_dists, new_action_dists))  # 计算平均KL距离\n",
    "        kl_grad = torch.autograd.grad(kl, self.actor.parameters(), create_graph=True)\n",
    "        kl_grad_vector = torch.cat([grad.view(-1) for grad in kl_grad])\n",
    "        # KL距离的梯度先和向量进行点积运算\n",
    "        kl_grad_vector_product = torch.dot(kl_grad_vector, vector)\n",
    "        # 再求导，即得海森矩阵与向量的乘积（无需显式构造 Hessian）\n",
    "        grad2 = torch.autograd.grad(kl_grad_vector_product, self.actor.parameters())\n",
    "        grad2_vector = torch.cat([grad.view(-1) for grad in grad2])\n",
    "        return grad2_vector\n",
    "\n",
    "    def conjugate_gradient(self, grad, states, old_action_dists):  # 共轭梯度法求解方程\n",
    "        x = torch.zeros_like(grad)\n",
    "        r = grad.clone()\n",
    "        p = grad.clone()\n",
    "        rdotr = torch.dot(r, r)\n",
    "        for i in range(10):  # 共轭梯度主循环\n",
    "            Hp = self.hessian_matrix_vector_product(states, old_action_dists,p)\n",
    "            alpha = rdotr / torch.dot(p, Hp)\n",
    "            x += alpha * p\n",
    "            r -= alpha * Hp\n",
    "            new_rdotr = torch.dot(r, r)\n",
    "            if new_rdotr < 1e-10:\n",
    "                break\n",
    "            beta = new_rdotr / rdotr\n",
    "            p = r + beta * p\n",
    "            rdotr = new_rdotr\n",
    "        return x\n",
    "\n",
    "    def compute_surrogate_obj(self, states, actions, advantage, old_log_probs, actor):  # 计算策略目标函数\n",
    "        log_probs = torch.log(actor(states).gather(1, actions))\n",
    "        ratio = torch.exp(log_probs - old_log_probs)\n",
    "        return torch.mean(ratio * advantage)\n",
    "\n",
    "    def line_search(self, states, actions, advantage, old_log_probs, old_action_dists, max_vec):  # 线性搜索\n",
    "        \n",
    "        old_para = torch.nn.utils.convert_parameters.parameters_to_vector(self.actor.parameters())\n",
    "        old_obj = self.compute_surrogate_obj(states, actions, advantage, old_log_probs, self.actor)\n",
    "        \n",
    "        for i in range(15):  # 线性搜索主循环\n",
    "            coef = self.alpha**i\n",
    "            new_para = old_para + coef * max_vec\n",
    "            new_actor = copy.deepcopy(self.actor)  # 策略网络深层拷贝，防止后面的操作改变原始网络参数\n",
    "            torch.nn.utils.convert_parameters.vector_to_parameters(new_para, new_actor.parameters())\n",
    "            new_action_dists = torch.distributions.Categorical(new_actor(states))\n",
    "            kl_div = torch.mean(torch.distributions.kl.kl_divergence(old_action_dists, new_action_dists))\n",
    "            new_obj = self.compute_surrogate_obj(states, actions, advantage, old_log_probs, new_actor)\n",
    "            if new_obj > old_obj and kl_div < self.kl_constraint:\n",
    "                return new_para\n",
    "        return old_para\n",
    "\n",
    "    def policy_learn(self, states, actions, old_action_dists, old_log_probs, advantage):  # 更新策略网络\n",
    "        surrogate_obj = self.compute_surrogate_obj(states, actions, advantage, old_log_probs, self.actor)\n",
    "        grads = torch.autograd.grad(surrogate_obj, self.actor.parameters())\n",
    "        obj_grad = torch.cat([grad.view(-1) for grad in grads]).detach()\n",
    "        \n",
    "        descent_direction = self.conjugate_gradient(obj_grad, states, old_action_dists)  # 用共轭梯度法计算x = H^(-1)g\n",
    "        Hx = self.hessian_matrix_vector_product(states, old_action_dists, descent_direction)\n",
    "        max_coef = torch.sqrt(2 * self.kl_constraint / (torch.dot(descent_direction, Hx) + 1e-8))  # 理论最大步长\n",
    "        new_para = self.line_search(states, actions, advantage, old_log_probs, old_action_dists,\n",
    "                                    descent_direction * max_coef)  # 线性搜索\n",
    "        torch.nn.utils.convert_parameters.vector_to_parameters(new_para, self.actor.parameters())  # 用线性搜索后的参数更新策略\n",
    "\n",
    "    def update(self, transition_dict):\n",
    "        states_np = np.array(transition_dict['states'])  # 转换成统一的大 np.ndarray，PyTorch更高效处理\n",
    "        states = torch.tensor(states_np, dtype=torch.float).to(self.device)\n",
    "        actions = torch.tensor(transition_dict['actions']).view(-1, 1).to(self.device)\n",
    "        rewards = torch.tensor(transition_dict['rewards'], dtype=torch.float).view(-1, 1).to(self.device)\n",
    "        next_states_np = np.array(transition_dict['next_states'])  # 转换成统一的大 np.ndarray，PyTorch更高效处理\n",
    "        next_states = torch.tensor(next_states_np, dtype=torch.float).to(self.device)\n",
    "        dones = torch.tensor(transition_dict['dones'], dtype=torch.float).view(-1, 1).to(self.device)\n",
    "        \n",
    "        td_target = rewards + self.gamma * self.critic(next_states) * (1 - dones)  # 时序差分目标\n",
    "        td_delta = td_target - self.critic(states)                                 # 时序差分误差\n",
    "        \n",
    "        advantage = compute_advantage(self.gamma, self.lmbda, td_delta.cpu()).to(self.device)\n",
    "        old_log_probs = torch.log(self.actor(states).gather(1,actions)).detach()\n",
    "        old_action_dists = torch.distributions.Categorical(self.actor(states).detach())\n",
    "        \n",
    "        # 更新价值函数\n",
    "        critic_loss = torch.mean(F.mse_loss(self.critic(states), td_target.detach()))\n",
    "        self.critic_optimizer.zero_grad()\n",
    "        critic_loss.backward()\n",
    "        self.critic_optimizer.step()  # 更新价值函数\n",
    "        \n",
    "        # 更新策略函数\n",
    "        self.policy_learn(states, actions, old_action_dists, old_log_probs, advantage)"
   ]
  },
  {
   "cell_type": "markdown",
   "id": "4c3e1f958f86aea0",
   "metadata": {
    "collapsed": false
   },
   "source": [
    "环境设置（'CartPole-v1'）："
   ]
  },
  {
   "cell_type": "code",
   "execution_count": 4,
   "id": "af231f552de86c1b",
   "metadata": {
    "collapsed": false
   },
   "outputs": [
    {
     "name": "stdout",
     "output_type": "stream",
     "text": [
      "Environment spec: EnvSpec(id='CartPole-v1', entry_point='gymnasium.envs.classic_control.cartpole:CartPoleEnv', reward_threshold=475.0, nondeterministic=False, max_episode_steps=500, order_enforce=True, disable_env_checker=False, kwargs={}, namespace=None, name='CartPole', version=1, additional_wrappers=(), vector_entry_point='gymnasium.envs.classic_control.cartpole:CartPoleVectorEnv')\n"
     ]
    }
   ],
   "source": [
    "np.random.seed(0)    # 设置 NumPy 的随机种子\n",
    "torch.manual_seed(0) # 设置 PyTorch CPU 随机种子\n",
    "torch.cuda.manual_seed_all(0) # 设置 PyTorch GPU 随机种子, 由于GPU并行性, 只能极大减小偏差\n",
    "\n",
    "env = gym.make('CartPole-v1')  # CartPole-v1 最大回合步数修改到了500步(v0为200)\n",
    "#env = env.unwrapped # 获取原始环境（绕过 TimeLimit 包装器）解除最大步数500限制\n",
    "env.reset(seed=0)   # 环境通常依赖于其他随机数生成器来初始化状态、进行探索(推荐位于以上随机之后)\n",
    "print(\"Environment spec:\", env.spec)"
   ]
  },
  {
   "cell_type": "markdown",
   "id": "511e3721f159bf18",
   "metadata": {
    "collapsed": false
   },
   "source": [
    "超参数设置："
   ]
  },
  {
   "cell_type": "code",
   "execution_count": 5,
   "id": "66d86e4001819b29",
   "metadata": {
    "collapsed": false
   },
   "outputs": [],
   "source": [
    "hidden_dim = 128\n",
    "lmbda = 0.95\n",
    "# 搜索步伐(方向+距离)控制\n",
    "kl_constraint = 0.0009  # 限制每次策略更新的“跳跃程度”\n",
    "alpha = 0.5  # \"步长\"衰减,越小越\"精细\"\n",
    "\n",
    "critic_lr = 1e-2\n",
    "gamma = 0.98\n",
    "device = torch.device(\"cuda\") if torch.cuda.is_available() else torch.device( \"cpu\")\n",
    "agent = TRPO(hidden_dim, env.observation_space, env.action_space, lmbda, kl_constraint, alpha, critic_lr, gamma, device)\n",
    "\n",
    "num_episodes = 1000"
   ]
  },
  {
   "cell_type": "markdown",
   "id": "5e5116a00d9729",
   "metadata": {
    "collapsed": false
   },
   "source": [
    "测试与训练:"
   ]
  },
  {
   "cell_type": "code",
   "execution_count": 6,
   "id": "492cbc3dbdbb9b4f",
   "metadata": {
    "collapsed": false
   },
   "outputs": [
    {
     "name": "stderr",
     "output_type": "stream",
     "text": [
      "Iteration 0: 100%|██████████| 80/80 [00:09<00:00,  8.76it/s, episode=80, return=58.700]\n",
      "Iteration 1: 100%|██████████| 80/80 [00:13<00:00,  5.72it/s, episode=160, return=107.400]\n",
      "Iteration 2: 100%|██████████| 80/80 [00:16<00:00,  4.83it/s, episode=240, return=128.600]\n",
      "Iteration 3: 100%|██████████| 80/80 [00:20<00:00,  3.97it/s, episode=320, return=148.000]\n",
      "Iteration 4: 100%|██████████| 80/80 [00:22<00:00,  3.50it/s, episode=400, return=171.600]\n",
      "Iteration 5: 100%|██████████| 80/80 [00:28<00:00,  2.81it/s, episode=480, return=247.700]\n",
      "Iteration 6: 100%|██████████| 80/80 [00:34<00:00,  2.35it/s, episode=560, return=270.400]\n",
      "Iteration 7: 100%|██████████| 80/80 [00:35<00:00,  2.26it/s, episode=640, return=285.600]\n",
      "Iteration 8: 100%|██████████| 80/80 [00:35<00:00,  2.23it/s, episode=720, return=322.800]\n",
      "Iteration 9: 100%|██████████| 80/80 [00:34<00:00,  2.33it/s, episode=800, return=329.000]\n"
     ]
    }
   ],
   "source": [
    "return_list = train_on_policy_agent(env, agent, num_episodes)"
   ]
  },
  {
   "cell_type": "markdown",
   "id": "8e490b8dc001aa72",
   "metadata": {
    "collapsed": false
   },
   "source": [
    "绘图："
   ]
  },
  {
   "cell_type": "code",
   "execution_count": 7,
   "id": "668eb9f2f19a7a98",
   "metadata": {
    "collapsed": false
   },
   "outputs": [],
   "source": [
    "import pandas as pd\n",
    "episodes_list = list(range(len(return_list)))\n",
    "mv_return = moving_average(return_list, 9)\n",
    "# 创建 DataFrame\n",
    "df1 = pd.DataFrame({'Episodes': episodes_list, 'Returns': return_list})\n",
    "df2 = pd.DataFrame({'Episodes': episodes_list, 'Returns': mv_return})\n",
    "# 保存为 CSV 文件\n",
    "df1.to_csv('TRPO_CartPole-v1_returns_data.csv', index=False)\n",
    "df2.to_csv('TRPO_CartPole-v1_mv_returns_data.csv', index=False)"
   ]
  },
  {
   "cell_type": "code",
   "execution_count": 8,
   "id": "d78e0f4cc87ad16",
   "metadata": {
    "collapsed": false
   },
   "outputs": [
    {
     "data": {
      "application/vnd.plotly.v1+json": {
       "config": {
        "plotlyServerURL": "https://plot.ly"
       },
       "data": [
        {
         "mode": "lines",
         "name": "Returns",
         "type": "scatter",
         "x": {
          "bdata": "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",
          "dtype": "i2"
         },
         "y": {
          "bdata": "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",
          "dtype": "f8"
         }
        }
       ],
       "layout": {
        "showlegend": true,
        "template": {
         "data": {
          "bar": [
           {
            "error_x": {
             "color": "#2a3f5f"
            },
            "error_y": {
             "color": "#2a3f5f"
            },
            "marker": {
             "line": {
              "color": "#E5ECF6",
              "width": 0.5
             },
             "pattern": {
              "fillmode": "overlay",
              "size": 10,
              "solidity": 0.2
             }
            },
            "type": "bar"
           }
          ],
          "barpolar": [
           {
            "marker": {
             "line": {
              "color": "#E5ECF6",
              "width": 0.5
             },
             "pattern": {
              "fillmode": "overlay",
              "size": 10,
              "solidity": 0.2
             }
            },
            "type": "barpolar"
           }
          ],
          "carpet": [
           {
            "aaxis": {
             "endlinecolor": "#2a3f5f",
             "gridcolor": "white",
             "linecolor": "white",
             "minorgridcolor": "white",
             "startlinecolor": "#2a3f5f"
            },
            "baxis": {
             "endlinecolor": "#2a3f5f",
             "gridcolor": "white",
             "linecolor": "white",
             "minorgridcolor": "white",
             "startlinecolor": "#2a3f5f"
            },
            "type": "carpet"
           }
          ],
          "choropleth": [
           {
            "colorbar": {
             "outlinewidth": 0,
             "ticks": ""
            },
            "type": "choropleth"
           }
          ],
          "contour": [
           {
            "colorbar": {
             "outlinewidth": 0,
             "ticks": ""
            },
            "colorscale": [
             [
              0,
              "#0d0887"
             ],
             [
              0.1111111111111111,
              "#46039f"
             ],
             [
              0.2222222222222222,
              "#7201a8"
             ],
             [
              0.3333333333333333,
              "#9c179e"
             ],
             [
              0.4444444444444444,
              "#bd3786"
             ],
             [
              0.5555555555555556,
              "#d8576b"
             ],
             [
              0.6666666666666666,
              "#ed7953"
             ],
             [
              0.7777777777777778,
              "#fb9f3a"
             ],
             [
              0.8888888888888888,
              "#fdca26"
             ],
             [
              1,
              "#f0f921"
             ]
            ],
            "type": "contour"
           }
          ],
          "contourcarpet": [
           {
            "colorbar": {
             "outlinewidth": 0,
             "ticks": ""
            },
            "type": "contourcarpet"
           }
          ],
          "heatmap": [
           {
            "colorbar": {
             "outlinewidth": 0,
             "ticks": ""
            },
            "colorscale": [
             [
              0,
              "#0d0887"
             ],
             [
              0.1111111111111111,
              "#46039f"
             ],
             [
              0.2222222222222222,
              "#7201a8"
             ],
             [
              0.3333333333333333,
              "#9c179e"
             ],
             [
              0.4444444444444444,
              "#bd3786"
             ],
             [
              0.5555555555555556,
              "#d8576b"
             ],
             [
              0.6666666666666666,
              "#ed7953"
             ],
             [
              0.7777777777777778,
              "#fb9f3a"
             ],
             [
              0.8888888888888888,
              "#fdca26"
             ],
             [
              1,
              "#f0f921"
             ]
            ],
            "type": "heatmap"
           }
          ],
          "histogram": [
           {
            "marker": {
             "pattern": {
              "fillmode": "overlay",
              "size": 10,
              "solidity": 0.2
             }
            },
            "type": "histogram"
           }
          ],
          "histogram2d": [
           {
            "colorbar": {
             "outlinewidth": 0,
             "ticks": ""
            },
            "colorscale": [
             [
              0,
              "#0d0887"
             ],
             [
              0.1111111111111111,
              "#46039f"
             ],
             [
              0.2222222222222222,
              "#7201a8"
             ],
             [
              0.3333333333333333,
              "#9c179e"
             ],
             [
              0.4444444444444444,
              "#bd3786"
             ],
             [
              0.5555555555555556,
              "#d8576b"
             ],
             [
              0.6666666666666666,
              "#ed7953"
             ],
             [
              0.7777777777777778,
              "#fb9f3a"
             ],
             [
              0.8888888888888888,
              "#fdca26"
             ],
             [
              1,
              "#f0f921"
             ]
            ],
            "type": "histogram2d"
           }
          ],
          "histogram2dcontour": [
           {
            "colorbar": {
             "outlinewidth": 0,
             "ticks": ""
            },
            "colorscale": [
             [
              0,
              "#0d0887"
             ],
             [
              0.1111111111111111,
              "#46039f"
             ],
             [
              0.2222222222222222,
              "#7201a8"
             ],
             [
              0.3333333333333333,
              "#9c179e"
             ],
             [
              0.4444444444444444,
              "#bd3786"
             ],
             [
              0.5555555555555556,
              "#d8576b"
             ],
             [
              0.6666666666666666,
              "#ed7953"
             ],
             [
              0.7777777777777778,
              "#fb9f3a"
             ],
             [
              0.8888888888888888,
              "#fdca26"
             ],
             [
              1,
              "#f0f921"
             ]
            ],
            "type": "histogram2dcontour"
           }
          ],
          "mesh3d": [
           {
            "colorbar": {
             "outlinewidth": 0,
             "ticks": ""
            },
            "type": "mesh3d"
           }
          ],
          "parcoords": [
           {
            "line": {
             "colorbar": {
              "outlinewidth": 0,
              "ticks": ""
             }
            },
            "type": "parcoords"
           }
          ],
          "pie": [
           {
            "automargin": true,
            "type": "pie"
           }
          ],
          "scatter": [
           {
            "fillpattern": {
             "fillmode": "overlay",
             "size": 10,
             "solidity": 0.2
            },
            "type": "scatter"
           }
          ],
          "scatter3d": [
           {
            "line": {
             "colorbar": {
              "outlinewidth": 0,
              "ticks": ""
             }
            },
            "marker": {
             "colorbar": {
              "outlinewidth": 0,
              "ticks": ""
             }
            },
            "type": "scatter3d"
           }
          ],
          "scattercarpet": [
           {
            "marker": {
             "colorbar": {
              "outlinewidth": 0,
              "ticks": ""
             }
            },
            "type": "scattercarpet"
           }
          ],
          "scattergeo": [
           {
            "marker": {
             "colorbar": {
              "outlinewidth": 0,
              "ticks": ""
             }
            },
            "type": "scattergeo"
           }
          ],
          "scattergl": [
           {
            "marker": {
             "colorbar": {
              "outlinewidth": 0,
              "ticks": ""
             }
            },
            "type": "scattergl"
           }
          ],
          "scattermap": [
           {
            "marker": {
             "colorbar": {
              "outlinewidth": 0,
              "ticks": ""
             }
            },
            "type": "scattermap"
           }
          ],
          "scattermapbox": [
           {
            "marker": {
             "colorbar": {
              "outlinewidth": 0,
              "ticks": ""
             }
            },
            "type": "scattermapbox"
           }
          ],
          "scatterpolar": [
           {
            "marker": {
             "colorbar": {
              "outlinewidth": 0,
              "ticks": ""
             }
            },
            "type": "scatterpolar"
           }
          ],
          "scatterpolargl": [
           {
            "marker": {
             "colorbar": {
              "outlinewidth": 0,
              "ticks": ""
             }
            },
            "type": "scatterpolargl"
           }
          ],
          "scatterternary": [
           {
            "marker": {
             "colorbar": {
              "outlinewidth": 0,
              "ticks": ""
             }
            },
            "type": "scatterternary"
           }
          ],
          "surface": [
           {
            "colorbar": {
             "outlinewidth": 0,
             "ticks": ""
            },
            "colorscale": [
             [
              0,
              "#0d0887"
             ],
             [
              0.1111111111111111,
              "#46039f"
             ],
             [
              0.2222222222222222,
              "#7201a8"
             ],
             [
              0.3333333333333333,
              "#9c179e"
             ],
             [
              0.4444444444444444,
              "#bd3786"
             ],
             [
              0.5555555555555556,
              "#d8576b"
             ],
             [
              0.6666666666666666,
              "#ed7953"
             ],
             [
              0.7777777777777778,
              "#fb9f3a"
             ],
             [
              0.8888888888888888,
              "#fdca26"
             ],
             [
              1,
              "#f0f921"
             ]
            ],
            "type": "surface"
           }
          ],
          "table": [
           {
            "cells": {
             "fill": {
              "color": "#EBF0F8"
             },
             "line": {
              "color": "white"
             }
            },
            "header": {
             "fill": {
              "color": "#C8D4E3"
             },
             "line": {
              "color": "white"
             }
            },
            "type": "table"
           }
          ]
         },
         "layout": {
          "annotationdefaults": {
           "arrowcolor": "#2a3f5f",
           "arrowhead": 0,
           "arrowwidth": 1
          },
          "autotypenumbers": "strict",
          "coloraxis": {
           "colorbar": {
            "outlinewidth": 0,
            "ticks": ""
           }
          },
          "colorscale": {
           "diverging": [
            [
             0,
             "#8e0152"
            ],
            [
             0.1,
             "#c51b7d"
            ],
            [
             0.2,
             "#de77ae"
            ],
            [
             0.3,
             "#f1b6da"
            ],
            [
             0.4,
             "#fde0ef"
            ],
            [
             0.5,
             "#f7f7f7"
            ],
            [
             0.6,
             "#e6f5d0"
            ],
            [
             0.7,
             "#b8e186"
            ],
            [
             0.8,
             "#7fbc41"
            ],
            [
             0.9,
             "#4d9221"
            ],
            [
             1,
             "#276419"
            ]
           ],
           "sequential": [
            [
             0,
             "#0d0887"
            ],
            [
             0.1111111111111111,
             "#46039f"
            ],
            [
             0.2222222222222222,
             "#7201a8"
            ],
            [
             0.3333333333333333,
             "#9c179e"
            ],
            [
             0.4444444444444444,
             "#bd3786"
            ],
            [
             0.5555555555555556,
             "#d8576b"
            ],
            [
             0.6666666666666666,
             "#ed7953"
            ],
            [
             0.7777777777777778,
             "#fb9f3a"
            ],
            [
             0.8888888888888888,
             "#fdca26"
            ],
            [
             1,
             "#f0f921"
            ]
           ],
           "sequentialminus": [
            [
             0,
             "#0d0887"
            ],
            [
             0.1111111111111111,
             "#46039f"
            ],
            [
             0.2222222222222222,
             "#7201a8"
            ],
            [
             0.3333333333333333,
             "#9c179e"
            ],
            [
             0.4444444444444444,
             "#bd3786"
            ],
            [
             0.5555555555555556,
             "#d8576b"
            ],
            [
             0.6666666666666666,
             "#ed7953"
            ],
            [
             0.7777777777777778,
             "#fb9f3a"
            ],
            [
             0.8888888888888888,
             "#fdca26"
            ],
            [
             1,
             "#f0f921"
            ]
           ]
          },
          "colorway": [
           "#636efa",
           "#EF553B",
           "#00cc96",
           "#ab63fa",
           "#FFA15A",
           "#19d3f3",
           "#FF6692",
           "#B6E880",
           "#FF97FF",
           "#FECB52"
          ],
          "font": {
           "color": "#2a3f5f"
          },
          "geo": {
           "bgcolor": "white",
           "lakecolor": "white",
           "landcolor": "#E5ECF6",
           "showlakes": true,
           "showland": true,
           "subunitcolor": "white"
          },
          "hoverlabel": {
           "align": "left"
          },
          "hovermode": "closest",
          "mapbox": {
           "style": "light"
          },
          "paper_bgcolor": "white",
          "plot_bgcolor": "#E5ECF6",
          "polar": {
           "angularaxis": {
            "gridcolor": "white",
            "linecolor": "white",
            "ticks": ""
           },
           "bgcolor": "#E5ECF6",
           "radialaxis": {
            "gridcolor": "white",
            "linecolor": "white",
            "ticks": ""
           }
          },
          "scene": {
           "xaxis": {
            "backgroundcolor": "#E5ECF6",
            "gridcolor": "white",
            "gridwidth": 2,
            "linecolor": "white",
            "showbackground": true,
            "ticks": "",
            "zerolinecolor": "white"
           },
           "yaxis": {
            "backgroundcolor": "#E5ECF6",
            "gridcolor": "white",
            "gridwidth": 2,
            "linecolor": "white",
            "showbackground": true,
            "ticks": "",
            "zerolinecolor": "white"
           },
           "zaxis": {
            "backgroundcolor": "#E5ECF6",
            "gridcolor": "white",
            "gridwidth": 2,
            "linecolor": "white",
            "showbackground": true,
            "ticks": "",
            "zerolinecolor": "white"
           }
          },
          "shapedefaults": {
           "line": {
            "color": "#2a3f5f"
           }
          },
          "ternary": {
           "aaxis": {
            "gridcolor": "white",
            "linecolor": "white",
            "ticks": ""
           },
           "baxis": {
            "gridcolor": "white",
            "linecolor": "white",
            "ticks": ""
           },
           "bgcolor": "#E5ECF6",
           "caxis": {
            "gridcolor": "white",
            "linecolor": "white",
            "ticks": ""
           }
          },
          "title": {
           "x": 0.05
          },
          "xaxis": {
           "automargin": true,
           "gridcolor": "white",
           "linecolor": "white",
           "ticks": "",
           "title": {
            "standoff": 15
           },
           "zerolinecolor": "white",
           "zerolinewidth": 2
          },
          "yaxis": {
           "automargin": true,
           "gridcolor": "white",
           "linecolor": "white",
           "ticks": "",
           "title": {
            "standoff": 15
           },
           "zerolinecolor": "white",
           "zerolinewidth": 2
          }
         }
        },
        "title": {
         "text": "TRPO on CartPole-v1"
        },
        "xaxis": {
         "title": {
          "text": "Episodes"
         }
        },
        "yaxis": {
         "title": {
          "text": "Returns"
         }
        }
       }
      },
      "image/png": "[encoded data removed]"
     },
     "metadata": {},
     "output_type": "display_data"
    }
   ],
   "source": [
    "import plotly.graph_objects as go\n",
    "import pandas as pd\n",
    "df = pd.read_csv('TRPO_CartPole-v1_returns_data.csv')  # 从 CSV 文件中读取数据\n",
    "fig = go.Figure()\n",
    "fig.add_trace(go.Scatter(x=df['Episodes'], y=df['Returns'], mode='lines', name='Returns'))\n",
    "fig.update_layout(\n",
    "    title='TRPO on CartPole-v1',\n",
    "    xaxis_title='Episodes',\n",
    "    yaxis_title='Returns',\n",
    "    showlegend=True\n",
    ")\n",
    "fig.show()"
   ]
  },
  {
   "cell_type": "code",
   "execution_count": 9,
   "id": "f9c62f18d60963c",
   "metadata": {
    "collapsed": false
   },
   "outputs": [
    {
     "data": {
      "application/vnd.plotly.v1+json": {
       "config": {
        "plotlyServerURL": "https://plot.ly"
       },
       "data": [
        {
         "mode": "lines",
         "name": "Returns",
         "type": "scatter",
         "x": {
          "bdata": "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",
          "dtype": "i2"
         },
         "y": {
          "bdata": "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",
          "dtype": "f8"
         }
        }
       ],
       "layout": {
        "showlegend": true,
        "template": {
         "data": {
          "bar": [
           {
            "error_x": {
             "color": "#2a3f5f"
            },
            "error_y": {
             "color": "#2a3f5f"
            },
            "marker": {
             "line": {
              "color": "#E5ECF6",
              "width": 0.5
             },
             "pattern": {
              "fillmode": "overlay",
              "size": 10,
              "solidity": 0.2
             }
            },
            "type": "bar"
           }
          ],
          "barpolar": [
           {
            "marker": {
             "line": {
              "color": "#E5ECF6",
              "width": 0.5
             },
             "pattern": {
              "fillmode": "overlay",
              "size": 10,
              "solidity": 0.2
             }
            },
            "type": "barpolar"
           }
          ],
          "carpet": [
           {
            "aaxis": {
             "endlinecolor": "#2a3f5f",
             "gridcolor": "white",
             "linecolor": "white",
             "minorgridcolor": "white",
             "startlinecolor": "#2a3f5f"
            },
            "baxis": {
             "endlinecolor": "#2a3f5f",
             "gridcolor": "white",
             "linecolor": "white",
             "minorgridcolor": "white",
             "startlinecolor": "#2a3f5f"
            },
            "type": "carpet"
           }
          ],
          "choropleth": [
           {
            "colorbar": {
             "outlinewidth": 0,
             "ticks": ""
            },
            "type": "choropleth"
           }
          ],
          "contour": [
           {
            "colorbar": {
             "outlinewidth": 0,
             "ticks": ""
            },
            "colorscale": [
             [
              0,
              "#0d0887"
             ],
             [
              0.1111111111111111,
              "#46039f"
             ],
             [
              0.2222222222222222,
              "#7201a8"
             ],
             [
              0.3333333333333333,
              "#9c179e"
             ],
             [
              0.4444444444444444,
              "#bd3786"
             ],
             [
              0.5555555555555556,
              "#d8576b"
             ],
             [
              0.6666666666666666,
              "#ed7953"
             ],
             [
              0.7777777777777778,
              "#fb9f3a"
             ],
             [
              0.8888888888888888,
              "#fdca26"
             ],
             [
              1,
              "#f0f921"
             ]
            ],
            "type": "contour"
           }
          ],
          "contourcarpet": [
           {
            "colorbar": {
             "outlinewidth": 0,
             "ticks": ""
            },
            "type": "contourcarpet"
           }
          ],
          "heatmap": [
           {
            "colorbar": {
             "outlinewidth": 0,
             "ticks": ""
            },
            "colorscale": [
             [
              0,
              "#0d0887"
             ],
             [
              0.1111111111111111,
              "#46039f"
             ],
             [
              0.2222222222222222,
              "#7201a8"
             ],
             [
              0.3333333333333333,
              "#9c179e"
             ],
             [
              0.4444444444444444,
              "#bd3786"
             ],
             [
              0.5555555555555556,
              "#d8576b"
             ],
             [
              0.6666666666666666,
              "#ed7953"
             ],
             [
              0.7777777777777778,
              "#fb9f3a"
             ],
             [
              0.8888888888888888,
              "#fdca26"
             ],
             [
              1,
              "#f0f921"
             ]
            ],
            "type": "heatmap"
           }
          ],
          "histogram": [
           {
            "marker": {
             "pattern": {
              "fillmode": "overlay",
              "size": 10,
              "solidity": 0.2
             }
            },
            "type": "histogram"
           }
          ],
          "histogram2d": [
           {
            "colorbar": {
             "outlinewidth": 0,
             "ticks": ""
            },
            "colorscale": [
             [
              0,
              "#0d0887"
             ],
             [
              0.1111111111111111,
              "#46039f"
             ],
             [
              0.2222222222222222,
              "#7201a8"
             ],
             [
              0.3333333333333333,
              "#9c179e"
             ],
             [
              0.4444444444444444,
              "#bd3786"
             ],
             [
              0.5555555555555556,
              "#d8576b"
             ],
             [
              0.6666666666666666,
              "#ed7953"
             ],
             [
              0.7777777777777778,
              "#fb9f3a"
             ],
             [
              0.8888888888888888,
              "#fdca26"
             ],
             [
              1,
              "#f0f921"
             ]
            ],
            "type": "histogram2d"
           }
          ],
          "histogram2dcontour": [
           {
            "colorbar": {
             "outlinewidth": 0,
             "ticks": ""
            },
            "colorscale": [
             [
              0,
              "#0d0887"
             ],
             [
              0.1111111111111111,
              "#46039f"
             ],
             [
              0.2222222222222222,
              "#7201a8"
             ],
             [
              0.3333333333333333,
              "#9c179e"
             ],
             [
              0.4444444444444444,
              "#bd3786"
             ],
             [
              0.5555555555555556,
              "#d8576b"
             ],
             [
              0.6666666666666666,
              "#ed7953"
             ],
             [
              0.7777777777777778,
              "#fb9f3a"
             ],
             [
              0.8888888888888888,
              "#fdca26"
             ],
             [
              1,
              "#f0f921"
             ]
            ],
            "type": "histogram2dcontour"
           }
          ],
          "mesh3d": [
           {
            "colorbar": {
             "outlinewidth": 0,
             "ticks": ""
            },
            "type": "mesh3d"
           }
          ],
          "parcoords": [
           {
            "line": {
             "colorbar": {
              "outlinewidth": 0,
              "ticks": ""
             }
            },
            "type": "parcoords"
           }
          ],
          "pie": [
           {
            "automargin": true,
            "type": "pie"
           }
          ],
          "scatter": [
           {
            "fillpattern": {
             "fillmode": "overlay",
             "size": 10,
             "solidity": 0.2
            },
            "type": "scatter"
           }
          ],
          "scatter3d": [
           {
            "line": {
             "colorbar": {
              "outlinewidth": 0,
              "ticks": ""
             }
            },
            "marker": {
             "colorbar": {
              "outlinewidth": 0,
              "ticks": ""
             }
            },
            "type": "scatter3d"
           }
          ],
          "scattercarpet": [
           {
            "marker": {
             "colorbar": {
              "outlinewidth": 0,
              "ticks": ""
             }
            },
            "type": "scattercarpet"
           }
          ],
          "scattergeo": [
           {
            "marker": {
             "colorbar": {
              "outlinewidth": 0,
              "ticks": ""
             }
            },
            "type": "scattergeo"
           }
          ],
          "scattergl": [
           {
            "marker": {
             "colorbar": {
              "outlinewidth": 0,
              "ticks": ""
             }
            },
            "type": "scattergl"
           }
          ],
          "scattermap": [
           {
            "marker": {
             "colorbar": {
              "outlinewidth": 0,
              "ticks": ""
             }
            },
            "type": "scattermap"
           }
          ],
          "scattermapbox": [
           {
            "marker": {
             "colorbar": {
              "outlinewidth": 0,
              "ticks": ""
             }
            },
            "type": "scattermapbox"
           }
          ],
          "scatterpolar": [
           {
            "marker": {
             "colorbar": {
              "outlinewidth": 0,
              "ticks": ""
             }
            },
            "type": "scatterpolar"
           }
          ],
          "scatterpolargl": [
           {
            "marker": {
             "colorbar": {
              "outlinewidth": 0,
              "ticks": ""
             }
            },
            "type": "scatterpolargl"
           }
          ],
          "scatterternary": [
           {
            "marker": {
             "colorbar": {
              "outlinewidth": 0,
              "ticks": ""
             }
            },
            "type": "scatterternary"
           }
          ],
          "surface": [
           {
            "colorbar": {
             "outlinewidth": 0,
             "ticks": ""
            },
            "colorscale": [
             [
              0,
              "#0d0887"
             ],
             [
              0.1111111111111111,
              "#46039f"
             ],
             [
              0.2222222222222222,
              "#7201a8"
             ],
             [
              0.3333333333333333,
              "#9c179e"
             ],
             [
              0.4444444444444444,
              "#bd3786"
             ],
             [
              0.5555555555555556,
              "#d8576b"
             ],
             [
              0.6666666666666666,
              "#ed7953"
             ],
             [
              0.7777777777777778,
              "#fb9f3a"
             ],
             [
              0.8888888888888888,
              "#fdca26"
             ],
             [
              1,
              "#f0f921"
             ]
            ],
            "type": "surface"
           }
          ],
          "table": [
           {
            "cells": {
             "fill": {
              "color": "#EBF0F8"
             },
             "line": {
              "color": "white"
             }
            },
            "header": {
             "fill": {
              "color": "#C8D4E3"
             },
             "line": {
              "color": "white"
             }
            },
            "type": "table"
           }
          ]
         },
         "layout": {
          "annotationdefaults": {
           "arrowcolor": "#2a3f5f",
           "arrowhead": 0,
           "arrowwidth": 1
          },
          "autotypenumbers": "strict",
          "coloraxis": {
           "colorbar": {
            "outlinewidth": 0,
            "ticks": ""
           }
          },
          "colorscale": {
           "diverging": [
            [
             0,
             "#8e0152"
            ],
            [
             0.1,
             "#c51b7d"
            ],
            [
             0.2,
             "#de77ae"
            ],
            [
             0.3,
             "#f1b6da"
            ],
            [
             0.4,
             "#fde0ef"
            ],
            [
             0.5,
             "#f7f7f7"
            ],
            [
             0.6,
             "#e6f5d0"
            ],
            [
             0.7,
             "#b8e186"
            ],
            [
             0.8,
             "#7fbc41"
            ],
            [
             0.9,
             "#4d9221"
            ],
            [
             1,
             "#276419"
            ]
           ],
           "sequential": [
            [
             0,
             "#0d0887"
            ],
            [
             0.1111111111111111,
             "#46039f"
            ],
            [
             0.2222222222222222,
             "#7201a8"
            ],
            [
             0.3333333333333333,
             "#9c179e"
            ],
            [
             0.4444444444444444,
             "#bd3786"
            ],
            [
             0.5555555555555556,
             "#d8576b"
            ],
            [
             0.6666666666666666,
             "#ed7953"
            ],
            [
             0.7777777777777778,
             "#fb9f3a"
            ],
            [
             0.8888888888888888,
             "#fdca26"
            ],
            [
             1,
             "#f0f921"
            ]
           ],
           "sequentialminus": [
            [
             0,
             "#0d0887"
            ],
            [
             0.1111111111111111,
             "#46039f"
            ],
            [
             0.2222222222222222,
             "#7201a8"
            ],
            [
             0.3333333333333333,
             "#9c179e"
            ],
            [
             0.4444444444444444,
             "#bd3786"
            ],
            [
             0.5555555555555556,
             "#d8576b"
            ],
            [
             0.6666666666666666,
             "#ed7953"
            ],
            [
             0.7777777777777778,
             "#fb9f3a"
            ],
            [
             0.8888888888888888,
             "#fdca26"
            ],
            [
             1,
             "#f0f921"
            ]
           ]
          },
          "colorway": [
           "#636efa",
           "#EF553B",
           "#00cc96",
           "#ab63fa",
           "#FFA15A",
           "#19d3f3",
           "#FF6692",
           "#B6E880",
           "#FF97FF",
           "#FECB52"
          ],
          "font": {
           "color": "#2a3f5f"
          },
          "geo": {
           "bgcolor": "white",
           "lakecolor": "white",
           "landcolor": "#E5ECF6",
           "showlakes": true,
           "showland": true,
           "subunitcolor": "white"
          },
          "hoverlabel": {
           "align": "left"
          },
          "hovermode": "closest",
          "mapbox": {
           "style": "light"
          },
          "paper_bgcolor": "white",
          "plot_bgcolor": "#E5ECF6",
          "polar": {
           "angularaxis": {
            "gridcolor": "white",
            "linecolor": "white",
            "ticks": ""
           },
           "bgcolor": "#E5ECF6",
           "radialaxis": {
            "gridcolor": "white",
            "linecolor": "white",
            "ticks": ""
           }
          },
          "scene": {
           "xaxis": {
            "backgroundcolor": "#E5ECF6",
            "gridcolor": "white",
            "gridwidth": 2,
            "linecolor": "white",
            "showbackground": true,
            "ticks": "",
            "zerolinecolor": "white"
           },
           "yaxis": {
            "backgroundcolor": "#E5ECF6",
            "gridcolor": "white",
            "gridwidth": 2,
            "linecolor": "white",
            "showbackground": true,
            "ticks": "",
            "zerolinecolor": "white"
           },
           "zaxis": {
            "backgroundcolor": "#E5ECF6",
            "gridcolor": "white",
            "gridwidth": 2,
            "linecolor": "white",
            "showbackground": true,
            "ticks": "",
            "zerolinecolor": "white"
           }
          },
          "shapedefaults": {
           "line": {
            "color": "#2a3f5f"
           }
          },
          "ternary": {
           "aaxis": {
            "gridcolor": "white",
            "linecolor": "white",
            "ticks": ""
           },
           "baxis": {
            "gridcolor": "white",
            "linecolor": "white",
            "ticks": ""
           },
           "bgcolor": "#E5ECF6",
           "caxis": {
            "gridcolor": "white",
            "linecolor": "white",
            "ticks": ""
           }
          },
          "title": {
           "x": 0.05
          },
          "xaxis": {
           "automargin": true,
           "gridcolor": "white",
           "linecolor": "white",
           "ticks": "",
           "title": {
            "standoff": 15
           },
           "zerolinecolor": "white",
           "zerolinewidth": 2
          },
          "yaxis": {
           "automargin": true,
           "gridcolor": "white",
           "linecolor": "white",
           "ticks": "",
           "title": {
            "standoff": 15
           },
           "zerolinecolor": "white",
           "zerolinewidth": 2
          }
         }
        },
        "title": {
         "text": "TRPO on CartPole-v1"
        },
        "xaxis": {
         "title": {
          "text": "Episodes"
         }
        },
        "yaxis": {
         "title": {
          "text": "Returns"
         }
        }
       }
      },
      "image/png": "[encoded data removed]"
     },
     "metadata": {},
     "output_type": "display_data"
    }
   ],
   "source": [
    "import plotly.graph_objects as go\n",
    "import pandas as pd\n",
    "df = pd.read_csv('TRPO_CartPole-v1_mv_returns_data.csv')  # 从 CSV 文件中读取数据\n",
    "fig = go.Figure()\n",
    "fig.add_trace(go.Scatter(x=df['Episodes'], y=df['Returns'], mode='lines', name='Returns'))\n",
    "fig.update_layout(\n",
    "    title='TRPO on CartPole-v1',\n",
    "    xaxis_title='Episodes',\n",
    "    yaxis_title='Returns',\n",
    "    showlegend=True\n",
    ")\n",
    "fig.show()"
   ]
  },
  {
   "cell_type": "markdown",
   "id": "cafe55a978d1452d",
   "metadata": {
    "collapsed": false
   },
   "source": []
  }
 ],
 "metadata": {
  "kernelspec": {
   "display_name": "Python 3 (ipykernel)",
   "language": "python",
   "name": "python3"
  },
  "language_info": {
   "codemirror_mode": {
    "name": "ipython",
    "version": 3
   },
   "file_extension": ".py",
   "mimetype": "text/x-python",
   "name": "python",
   "nbconvert_exporter": "python",
   "pygments_lexer": "ipython3",
   "version": "3.12.9"
  }
 },
 "nbformat": 4,
 "nbformat_minor": 5
}
