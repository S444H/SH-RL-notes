{
 "cells": [
  {
   "cell_type": "markdown",
   "source": [
    "# 12.REINFORCE算法\n",
    "> 1992 年，Ronald J. Williams 的论文[《Simple statistical gradient-following algorithms for connectionist reinforcement learning》](https://link.springer.com/article/10.1007/BF00992696)首次系统地提出了 **基于蒙特卡洛** 回报的策略梯度更新方法：**REINFORCE**，它是现代策略梯度方法的起点，是第一个系统性提出并形式化了策略梯度更新规则的算法"
   ],
   "metadata": {
    "collapsed": false
   },
   "id": "68a9b858fb1d554d"
  },
  {
   "cell_type": "markdown",
   "source": [
    "**REINFORCE** 算法便是采用了 **蒙特卡洛方法** 来估计，对于一个有限步数的环境来说，REINFORCE 算法中的策略梯度为："
   ],
   "metadata": {
    "collapsed": false
   },
   "id": "2239890d14a0851"
  }
 ],
 "metadata": {
  "kernelspec": {
   "display_name": "Python 3",
   "language": "python",
   "name": "python3"
  },
  "language_info": {
   "codemirror_mode": {
    "name": "ipython",
    "version": 2
   },
   "file_extension": ".py",
   "mimetype": "text/x-python",
   "name": "python",
   "nbconvert_exporter": "python",
   "pygments_lexer": "ipython2",
   "version": "2.7.6"
  }
 },
 "nbformat": 4,
 "nbformat_minor": 5
}
