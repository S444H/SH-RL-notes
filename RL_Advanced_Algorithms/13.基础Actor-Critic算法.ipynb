{
 "cells": [
  {
   "cell_type": "markdown",
   "source": [
    "# 13.基础Actor-Critic算法\n",
    "> **Actor-Critic（执行者-评论者）** 算法结合了 **基于值** 的学习方法（如Q学习）和 **基于策略** 的学习方法（如策略梯度）。这种方法将智能体的学习过程分为两个部分： **Actor（执行者）** 和 **Critic（评论者）**，每个部分负责不同的任务：**Actor** 通过策略采取行动，**Critic** 通过价值函数给 **Actor** 反馈当前状态或状态-动作对的“好坏”。其本质上是 **基于策略** 的算法，算法的目标是优化一个带参数的策略，只是会额外学习价值函数，从而帮助策略函数更好地学习。\n",
    "> **Actor-Critic** 是囊括一系列算法的**整体架构**，目前很多高效的前沿算法都属于 **Actor-Critic** 算法。\n",
    "> **Actor-Critic** 算法最早的理论基础和框架由 Bertsekas 和 Tsitsiklis 在他们的经典书籍《Neuro-Dynamic Programming》（1989年）中提出，正式提出在[Actor-Critic Algorithms（2000年）](https://proceedings.neurips.cc/paper_files/paper/1999/file/6449f44a102fde848669bdd9eb6b76fa-Paper.pdf)论文中。\n",
    "\n",
    "> 本节会学习一种最基础的 **Actor-Critic** 算法："
   ],
   "metadata": {
    "collapsed": false
   },
   "id": "a53d19083436743f"
  },
  {
   "cell_type": "markdown",
   "source": [
    "## 13.1 Actor-Critic原理\n",
    "> 前面学习到策略梯度，可以表示为：\n",
    "$$grad=\\mathbb{E}\\left[\\sum_{t=0}^T\\psi_t\\nabla_\\theta\\log\\pi_\\theta(a_t|s_t)\\right]$$\n",
    "> 其中，$\\psi_t$有很多种形式：\n",
    "$$\\begin{aligned}\n",
    " & 1.\\sum_{t^{\\prime}=0}^{T}\\gamma^{t^{\\prime}}r_{t^{\\prime}}:\\text{轨迹的总回报;} \\\\\n",
    " & 2.\\sum_{t^{\\prime}=t}^T\\gamma^{t^{\\prime}-t}r_{t^{\\prime}}:\\text{动作}a_t\\text{之后的回报;} \\\\\n",
    " & 3.\\sum_{t^{\\prime}=t}^T\\gamma^{t^{\\prime}-t}r_{t^{\\prime}}-b(s_t):\\text{基准线版本的改进;} \\\\\n",
    " & 4.Q^{\\pi_{\\theta}}(s_{t},a_{t}):\\text{动作价值函数;} \\\\\n",
    " & 5.A^{\\pi_{\\theta}}(s_{t},a_{t}):\\text{优势函数;} \\\\\n",
    " & 6.r_t+\\gamma V^{\\pi_\\theta}(s_{t+1})-V^{\\pi_\\theta}(s_t):\\text{时序差分残差.}\n",
    "\\end{aligned}$$"
   ],
   "metadata": {
    "collapsed": false
   },
   "id": "4f85180838e1e5f1"
  },
  {
   "cell_type": "markdown",
   "source": [
    "### 本节采用**形式6**，$\\delta_t=\\underbrace{r_t+\\gamma V(s_{t+1})}_{\\text{bootstrapped 回报}}-\\underbrace{V(s_t)}_{\\text{当前估计}}$，它衡量着**当前估计**和**实际回报**之间的差异\n",
    "> Bootstrap：用当前估计的未来回报替代未来真实回报"
   ],
   "metadata": {
    "collapsed": false
   },
   "id": "51edc577eae1b111"
  },
  {
   "cell_type": "markdown",
   "source": [
    "> 这里有一个非常需要**注意**的点：前5种方式都是对应价值函数越大越好，但第6种形式看起来“误差越小越好”，这改变了最大化期望回报的优化方向了吗？实际上仍然是最大化期望回报： 因为从**Critic（评论者）** 角度看，**Actor（执行者）** 执行了某个动作，如果该动作与之前比确实好价值高，此时正误差就应该是大的，于是**Actor（策略网络）** 向梯度方向增加好动作的概率，同时**Critic（价值网络）** 也会最小化该误差，定义**损失函数**为：\n",
    "$$\\mathcal{L}(\\omega)=\\frac{1}{2}(r+\\gamma V_\\omega(s_{t+1})-V_\\omega(s_t))^2$$\n",
    "> **Critic（价值网络）** 梯度：\n",
    "$$\\nabla_\\omega\\mathcal{L}(\\omega)=-(r+\\gamma V_\\omega(s_{t+1})-V_\\omega(s_t))\\nabla_\\omega V_\\omega(s_t)=-\\delta_t$$\n",
    "> 且更新**价值参数**：$w=w+\\alpha_\\omega\\sum_t\\delta_t\\nabla_\\omega V_\\omega(s_t)$，使得下一次执行该动作后误差变小，如此在**Critic（评论者）** 看来价值也相对没那么高，稳定了动作概率的提升。\n"
   ],
   "metadata": {
    "collapsed": false
   },
   "id": "92b66529708701d9"
  },
  {
   "cell_type": "markdown",
   "source": [
    "> 也可以从另一个角度看:\n",
    "$$\\nabla J(\\theta)\\approx\\mathbb{E}_{s_t,a_t}\\left[\\nabla\\log\\pi_\\theta(a_t|s_t)\\cdot(r_t+\\gamma V_\\phi(s_{t+1})-V_\\phi(s_t))\\right]$$\n",
    "> 减去$V_\\phi(s_t)$ 仅相当于减去一个基线项，不改变期望，只是降低方差"
   ],
   "metadata": {
    "collapsed": false
   },
   "id": "9b4c4b31e20579b9"
  },
  {
   "cell_type": "markdown",
   "source": [
    "## 13.2 Actor-Critic 代码实践\n",
    "> 仍在车杆环境上进行 Actor-Critic 算法的实验"
   ],
   "metadata": {
    "collapsed": false
   },
   "id": "8c7dfaa0f3b413c2"
  },
  {
   "cell_type": "markdown",
   "source": [
    "导入相关库："
   ],
   "metadata": {
    "collapsed": false
   },
   "id": "4f2747ef8cddfb77"
  },
  {
   "cell_type": "code",
   "execution_count": 1,
   "outputs": [],
   "source": [
    "# 基本库\n",
    "import numpy as np\n",
    "from tqdm import tqdm\n",
    "from utils.smoothing import moving_average\n",
    "# 神经网络\n",
    "import torch\n",
    "import torch.nn.functional as F\n",
    "# Gymnasium 是一个用于开发和测试强化学习算法的工具库，为 OpenAI Gym 的更新版本（2021迁移开发）\n",
    "import gymnasium as gym"
   ],
   "metadata": {
    "collapsed": false,
    "ExecuteTime": {
     "end_time": "2025-07-28T08:59:00.748606400Z",
     "start_time": "2025-07-28T08:58:55.509998500Z"
    }
   },
   "id": "3a25d693ee73d93d"
  },
  {
   "cell_type": "markdown",
   "source": [
    "定义策略网络PolicyNet（与 REINFORCE 算法一样）："
   ],
   "metadata": {
    "collapsed": false
   },
   "id": "2794846066f1b80b"
  },
  {
   "cell_type": "code",
   "execution_count": 2,
   "outputs": [],
   "source": [
    "class PolicyNet(torch.nn.Module):\n",
    "    def __init__(self, state_dim, hidden_dim, action_dim):\n",
    "        super(PolicyNet, self).__init__()\n",
    "        self.fc1 = torch.nn.Linear(state_dim, hidden_dim)\n",
    "        self.fc2 = torch.nn.Linear(hidden_dim, action_dim)\n",
    "\n",
    "    def forward(self, x):\n",
    "        x = F.relu(self.fc1(x))\n",
    "        return F.softmax(self.fc2(x), dim=1)"
   ],
   "metadata": {
    "collapsed": false,
    "ExecuteTime": {
     "end_time": "2025-07-28T08:59:00.757804200Z",
     "start_time": "2025-07-28T08:59:00.748606400Z"
    }
   },
   "id": "f485c7330c87ed18"
  },
  {
   "cell_type": "markdown",
   "source": [
    "定义价值网络ValueNet："
   ],
   "metadata": {
    "collapsed": false
   },
   "id": "ac72b94e4b19bed8"
  },
  {
   "cell_type": "code",
   "execution_count": 3,
   "outputs": [],
   "source": [
    "class ValueNet(torch.nn.Module):\n",
    "    def __init__(self, state_dim, hidden_dim):\n",
    "        super(ValueNet, self).__init__()\n",
    "        self.fc1 = torch.nn.Linear(state_dim, hidden_dim)\n",
    "        self.fc2 = torch.nn.Linear(hidden_dim, 1)\n",
    "\n",
    "    def forward(self, x):\n",
    "        x = F.relu(self.fc1(x))\n",
    "        return self.fc2(x)"
   ],
   "metadata": {
    "collapsed": false,
    "ExecuteTime": {
     "end_time": "2025-07-28T08:59:00.767130900Z",
     "start_time": "2025-07-28T08:59:00.755800900Z"
    }
   },
   "id": "892a1301b3acb35e"
  },
  {
   "cell_type": "markdown",
   "source": [
    "定义 Actor-Critic 算法："
   ],
   "metadata": {
    "collapsed": false
   },
   "id": "38114b859e307cb"
  },
  {
   "cell_type": "code",
   "execution_count": 4,
   "outputs": [],
   "source": [
    "class ActorCritic:\n",
    "    def __init__(self, state_dim, hidden_dim, action_dim, actor_lr, critic_lr, gamma, device):\n",
    "        \n",
    "        self.actor = PolicyNet(state_dim, hidden_dim, action_dim).to(device)  # 策略网络\n",
    "        self.critic = ValueNet(state_dim, hidden_dim).to(device)  # 价值网络\n",
    "        self.actor_optimizer = torch.optim.Adam(self.actor.parameters(), lr=actor_lr)  # 策略网络优化器\n",
    "        self.critic_optimizer = torch.optim.Adam(self.critic.parameters(), lr=critic_lr)  # 价值网络优化器\n",
    "        self.gamma = gamma\n",
    "        self.device = device\n",
    "\n",
    "    def take_action(self, state):\n",
    "        state = torch.tensor(np.array([state]), dtype=torch.float).to(self.device)\n",
    "        probs = self.actor(state)\n",
    "        action_dist = torch.distributions.Categorical(probs)\n",
    "        action = action_dist.sample()\n",
    "        return action.item()\n",
    "\n",
    "    def update(self, transition_dict):\n",
    "        states = torch.tensor(transition_dict['states'], dtype=torch.float).to(self.device)\n",
    "        actions = torch.tensor(transition_dict['actions']).view(-1, 1).to(self.device)\n",
    "        rewards = torch.tensor(transition_dict['rewards'], dtype=torch.float).view(-1, 1).to(self.device)\n",
    "        next_states = torch.tensor(transition_dict['next_states'], dtype=torch.float).to(self.device)\n",
    "        dones = torch.tensor(transition_dict['dones'], dtype=torch.float).view(-1, 1).to(self.device)\n",
    "\n",
    "        td_target = rewards + self.gamma * self.critic(next_states) * (1 - dones)  # 时序差分目标\n",
    "        td_delta = td_target - self.critic(states)                                 # 时序差分误差\n",
    "        log_probs = torch.log(self.actor(states).gather(1, actions))\n",
    "        actor_loss = torch.mean(-log_probs * td_delta.detach())  # 会“向前”计算价值网络的梯度，需要 .detach() 截断 \n",
    "        critic_loss = torch.mean(F.mse_loss(self.critic(states), td_target.detach()))  # 均方误差损失函数\n",
    "        self.actor_optimizer.zero_grad()  \n",
    "        self.critic_optimizer.zero_grad()\n",
    "        actor_loss.backward()  # 计算策略网络的梯度\n",
    "        critic_loss.backward()  # 计算价值网络的梯度\n",
    "        self.actor_optimizer.step()  # 更新策略网络的参数\n",
    "        self.critic_optimizer.step()  # 更新价值网络的参数"
   ],
   "metadata": {
    "collapsed": false,
    "ExecuteTime": {
     "end_time": "2025-07-28T08:59:00.798855800Z",
     "start_time": "2025-07-28T08:59:00.767130900Z"
    }
   },
   "id": "bf612ea152953279"
  },
  {
   "cell_type": "markdown",
   "source": [
    "环境设置（'CartPole-v1'）："
   ],
   "metadata": {
    "collapsed": false
   },
   "id": "1d242ed134945be3"
  },
  {
   "cell_type": "code",
   "execution_count": 5,
   "outputs": [
    {
     "name": "stdout",
     "output_type": "stream",
     "text": [
      "Environment spec: EnvSpec(id='CartPole-v1', entry_point='gymnasium.envs.classic_control.cartpole:CartPoleEnv', reward_threshold=475.0, nondeterministic=False, max_episode_steps=500, order_enforce=True, disable_env_checker=False, kwargs={}, namespace=None, name='CartPole', version=1, additional_wrappers=(), vector_entry_point='gymnasium.envs.classic_control.cartpole:CartPoleVectorEnv')\n"
     ]
    }
   ],
   "source": [
    "np.random.seed(0)    # 设置 NumPy 的随机种子\n",
    "torch.manual_seed(0) # 设置 PyTorch CPU 随机种子\n",
    "torch.cuda.manual_seed_all(0) # 设置 PyTorch GPU 随机种子, 由于GPU并行性, 只能极大减小偏差\n",
    "\n",
    "env = gym.make('CartPole-v1')  # CartPole-v1 最大回合步数修改到了500步(v0为200)\n",
    "#env = env.unwrapped # 获取原始环境（绕过 TimeLimit 包装器）解除最大步数500限制\n",
    "env.reset(seed=0)   # 环境通常依赖于其他随机数生成器来初始化状态、进行探索(推荐位于以上随机之后)\n",
    "print(\"Environment spec:\", env.spec)"
   ],
   "metadata": {
    "collapsed": false,
    "ExecuteTime": {
     "end_time": "2025-07-28T08:59:00.800850700Z",
     "start_time": "2025-07-28T08:59:00.774539400Z"
    }
   },
   "id": "ddd7ac8569afe5a4"
  },
  {
   "cell_type": "markdown",
   "source": [
    "超参数设置："
   ],
   "metadata": {
    "collapsed": false
   },
   "id": "e38f07f35c9aac22"
  },
  {
   "cell_type": "code",
   "execution_count": null,
   "outputs": [],
   "source": [
    "state_dim = env.observation_space.shape[0]\n",
    "hidden_dim = 128\n",
    "action_dim = env.action_space.n\n",
    "actor_lr = 1e-3\n",
    "critic_lr = 1e-2\n",
    "gamma = 0.98\n",
    "device = torch.device(\"cuda\") if torch.cuda.is_available() else torch.device( \"cpu\")\n",
    "agent = ActorCritic(state_dim, hidden_dim, action_dim, actor_lr, critic_lr, gamma, device)\n",
    "\n",
    "num_episodes = 1000"
   ],
   "metadata": {
    "collapsed": false
   },
   "id": "91f74ee10d9dda"
  },
  {
   "cell_type": "markdown",
   "source": [
    "测试与训练:"
   ],
   "metadata": {
    "collapsed": false
   },
   "id": "6871da01c1b3c495"
  },
  {
   "cell_type": "code",
   "execution_count": null,
   "outputs": [],
   "source": [
    "return_list = []\n",
    "for i in range(10):\n",
    "    with tqdm(total=int(num_episodes / 10), desc='Iteration %d' % i) as pbar:\n",
    "        for i_episode in range(int(num_episodes / 10)):\n",
    "            episode_return = 0\n",
    "            transition_dict = {\n",
    "                'states': [],\n",
    "                'actions': [],\n",
    "                'next_states': [],\n",
    "                'rewards': [],\n",
    "                'dones': []\n",
    "            }\n",
    "            state, info = env.reset()  # 测试阶段(调整参数与对比算法)种子应固定; 训练阶段不固定，提高泛化能力\n",
    "            done = False\n",
    "            truncated = False\n",
    "            while not (done or truncated):  # 杆子倒下或达到最大步数\n",
    "                action = agent.take_action(state)\n",
    "                next_state, reward, done, truncated, _ = env.step(action)  # Gymnasium返回值不一样\n",
    "                transition_dict['states'].append(state)\n",
    "                transition_dict['actions'].append(action)\n",
    "                transition_dict['next_states'].append(next_state)\n",
    "                transition_dict['rewards'].append(reward)\n",
    "                transition_dict['dones'].append(done)\n",
    "                state = next_state\n",
    "                episode_return += reward\n",
    "            return_list.append(episode_return)\n",
    "            agent.update(transition_dict)\n",
    "            \n",
    "            if (i_episode+1) % 10 == 0:\n",
    "                pbar.set_postfix({'episode': '%d' % (num_episodes/10 * i + i_episode+1), 'return': '%.3f' % np.mean(return_list[-10:])})\n",
    "            pbar.update(1)"
   ],
   "metadata": {
    "collapsed": false
   },
   "id": "ffce3bcd99cc71af"
  },
  {
   "cell_type": "markdown",
   "source": [
    "绘图："
   ],
   "metadata": {
    "collapsed": false
   },
   "id": "5b6859b3e6cda9c5"
  },
  {
   "cell_type": "code",
   "execution_count": null,
   "outputs": [],
   "source": [
    "import pandas as pd\n",
    "episodes_list = list(range(len(return_list)))\n",
    "mv_return = moving_average(return_list, 9)\n",
    "# 创建 DataFrame\n",
    "df1 = pd.DataFrame({'Episodes': episodes_list, 'Returns': return_list})\n",
    "df2 = pd.DataFrame({'Episodes': episodes_list, 'Returns': mv_return})\n",
    "# 保存为 CSV 文件\n",
    "df1.to_csv('REINFORCE_returns_data.csv', index=False)\n",
    "df2.to_csv('REINFORCE_mv_returns_data.csv', index=False)"
   ],
   "metadata": {
    "collapsed": false
   },
   "id": "a413c40c01300ace"
  },
  {
   "cell_type": "code",
   "execution_count": null,
   "outputs": [],
   "source": [
    "import plotly.graph_objects as go\n",
    "import pandas as pd\n",
    "df = pd.read_csv('REINFORCE_returns_data.csv')  # 从 CSV 文件中读取数据\n",
    "fig = go.Figure()\n",
    "fig.add_trace(go.Scatter(x=df['Episodes'], y=df['Returns'], mode='lines', name='Returns'))\n",
    "fig.update_layout(\n",
    "    title='REINFORCE on CartPole-v1',\n",
    "    xaxis_title='Episodes',\n",
    "    yaxis_title='Returns',\n",
    "    showlegend=True\n",
    ")\n",
    "fig.show()"
   ],
   "metadata": {
    "collapsed": false
   },
   "id": "a6ca9f739394b915"
  },
  {
   "cell_type": "code",
   "execution_count": null,
   "outputs": [],
   "source": [
    "import plotly.graph_objects as go\n",
    "import pandas as pd\n",
    "df = pd.read_csv('REINFORCE_mv_returns_data.csv')  # 从 CSV 文件中读取数据\n",
    "fig = go.Figure()\n",
    "fig.add_trace(go.Scatter(x=df['Episodes'], y=df['Returns'], mode='lines', name='Returns'))\n",
    "fig.update_layout(\n",
    "    title='REINFORCE on CartPole-v1',\n",
    "    xaxis_title='Episodes',\n",
    "    yaxis_title='Returns',\n",
    "    showlegend=True\n",
    ")\n",
    "fig.show()"
   ],
   "metadata": {
    "collapsed": false
   },
   "id": "cc495cbe1d6cc3eb"
  },
  {
   "cell_type": "markdown",
   "source": [
    "> 可以发现，Actor-Critic 算法很快便能收敛到最优策略，并且训练过程非常稳定，抖动情况相比 REINFORCE 算法有了明显的改进，这说明价值函数的引入减小了方差。\n",
    "章节中的 TRPO、PPO、DDPG、SAC 等深度强化学习算法都是在 Actor-Critic 框架下进行发展的"
   ],
   "metadata": {
    "collapsed": false
   },
   "id": "75a9ce1ff4513fa"
  }
 ],
 "metadata": {
  "kernelspec": {
   "display_name": "Python 3",
   "language": "python",
   "name": "python3"
  },
  "language_info": {
   "codemirror_mode": {
    "name": "ipython",
    "version": 2
   },
   "file_extension": ".py",
   "mimetype": "text/x-python",
   "name": "python",
   "nbconvert_exporter": "python",
   "pygments_lexer": "ipython2",
   "version": "2.7.6"
  }
 },
 "nbformat": 4,
 "nbformat_minor": 5
}
