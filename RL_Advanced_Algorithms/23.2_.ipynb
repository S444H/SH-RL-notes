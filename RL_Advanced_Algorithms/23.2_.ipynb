{
 "cells": [
  {
   "cell_type": "markdown",
   "source": [
    "同样新建一个虚拟环境，使用 [玄策算法库](https://github.com/agi-brain/xuance)（[安装教程](https://xuance.readthedocs.io/zh/latest/documents/usage/installation.html)），使用其中的 **多智能体粒子环境（multiagent particles environment，MPE）**（[使用教程](https://xuance.readthedocs.io/zh/latest/documents/api/environments/multi_agent_env/mpe.html#)）："
   ],
   "metadata": {
    "collapsed": false
   },
   "id": "c764ebf2e22629f3"
  }
 ],
 "metadata": {
  "kernelspec": {
   "display_name": "Python 3",
   "language": "python",
   "name": "python3"
  },
  "language_info": {
   "codemirror_mode": {
    "name": "ipython",
    "version": 2
   },
   "file_extension": ".py",
   "mimetype": "text/x-python",
   "name": "python",
   "nbconvert_exporter": "python",
   "pygments_lexer": "ipython2",
   "version": "2.7.6"
  }
 },
 "nbformat": 4,
 "nbformat_minor": 5
}
