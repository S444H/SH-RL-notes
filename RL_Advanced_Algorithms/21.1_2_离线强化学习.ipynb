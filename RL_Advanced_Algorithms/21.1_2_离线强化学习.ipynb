{
 "cells": [
  {
   "cell_type": "markdown",
   "source": [
    "# 21.离线强化学习（offline reinforcement learning）\n",
    "> 在 [6.时序差分](../RL_Fundamentals/6.时序差分(temporal_difference,TD).ipynb) 中学习 **Q-learning** 算法的时候，曾区分过 **在线策略（on-policy）算法** 和 **离线策略（off-policy）算法**，这里结合 **离线强化学习算法** 再进行对比：\n",
    "> ![示意图](Illustrations/离线强化学习和在线策略算法、离线策略算法的区别.jpeg)\n",
    "- 无论是 **在线策略（on-policy）** 算法还是 **离线策略（off-policy）** 算法，都有一个共同点：智能体在训练过程中可以 **不断和环境交互**，得到新的反馈数据\n",
    "- 但是，在现实生活中的许多场景下，让 **尚未学习好** 的智能体和环境交互可能会 **导致危险** 发生，或是 **造成巨大损失**\n",
    "- 因此，**离线强化学习** 的目标是，在智能体 **不和环境交互** 的情况下，仅从 **已经收集好的确定的数据集** 中，通过强化学习算法得到比较好的策略"
   ],
   "metadata": {
    "collapsed": false
   },
   "id": "c5943d39d6f76f7"
  },
  {
   "cell_type": "markdown",
   "source": [
    "## 21.1 批量限制 Q-learning 算法"
   ],
   "metadata": {
    "collapsed": false
   },
   "id": "6f1d74ad976d0c18"
  },
  {
   "cell_type": "markdown",
   "source": [
    "## 21.2 保守 Q-learning 算法"
   ],
   "metadata": {
    "collapsed": false
   },
   "id": "f075f0facb21fde0"
  }
 ],
 "metadata": {
  "kernelspec": {
   "display_name": "Python 3",
   "language": "python",
   "name": "python3"
  },
  "language_info": {
   "codemirror_mode": {
    "name": "ipython",
    "version": 2
   },
   "file_extension": ".py",
   "mimetype": "text/x-python",
   "name": "python",
   "nbconvert_exporter": "python",
   "pygments_lexer": "ipython2",
   "version": "2.7.6"
  }
 },
 "nbformat": 4,
 "nbformat_minor": 5
}
