{
 "cells": [
  {
   "cell_type": "markdown",
   "source": [
    "# 16.DDPG（deep deterministic policy gradient）：深度确定性策略梯度\n",
    "1. **在线策略算法** 的 **样本效率（sample efficiency）** 都比较低。 **DQN 算法** 虽然为 **离线策略学习**，但是它只能处理 **动作空间有限** 的环境，即使将动作空间离散化，但这会比较粗糙，无法精细控制。\n",
    "2. ***深度确定性策略梯度（deep deterministic policy gradient，DDPG）*** 通过构造一个 **确定性策略**，用梯度上升的方法来最大化Q值，用类似的思想来处理 **动作空间无限** 的环境并且使用的是离线策略算法。\n",
    "3. **DDPG** 也属于一种 Actor-Critic 算法。之前学习的 REINFORCE、TRPO 和 PPO 学习 **随机性策略**，而 **DDPG** 则学习一个 **确定性策略**。\n",
    "> "
   ],
   "metadata": {
    "collapsed": false
   },
   "id": "548bab84cb44a093"
  }
 ],
 "metadata": {
  "kernelspec": {
   "display_name": "Python 3",
   "language": "python",
   "name": "python3"
  },
  "language_info": {
   "codemirror_mode": {
    "name": "ipython",
    "version": 2
   },
   "file_extension": ".py",
   "mimetype": "text/x-python",
   "name": "python",
   "nbconvert_exporter": "python",
   "pygments_lexer": "ipython2",
   "version": "2.7.6"
  }
 },
 "nbformat": 4,
 "nbformat_minor": 5
}
