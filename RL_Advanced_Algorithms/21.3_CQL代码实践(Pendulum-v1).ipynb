{
 "cells": [
  {
   "cell_type": "markdown",
   "source": [
    "## 21.3 CQL代码实践（Pendulum-v1）\n",
    "> 基于 [SAC](../RL_Classic_Algorithms/17.2_SAC代码实践(Pendulum-v1).ipynb) "
   ],
   "metadata": {
    "collapsed": false
   },
   "id": "98fd70b6e6f9a77b"
  },
  {
   "cell_type": "markdown",
   "source": [],
   "metadata": {
    "collapsed": false
   },
   "id": "616978622fc68baf"
  }
 ],
 "metadata": {
  "kernelspec": {
   "display_name": "Python 3",
   "language": "python",
   "name": "python3"
  },
  "language_info": {
   "codemirror_mode": {
    "name": "ipython",
    "version": 2
   },
   "file_extension": ".py",
   "mimetype": "text/x-python",
   "name": "python",
   "nbconvert_exporter": "python",
   "pygments_lexer": "ipython2",
   "version": "2.7.6"
  }
 },
 "nbformat": 4,
 "nbformat_minor": 5
}
